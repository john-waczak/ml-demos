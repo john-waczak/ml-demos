{
 "cells": [
  {
   "cell_type": "code",
   "execution_count": 1,
   "metadata": {},
   "outputs": [],
   "source": [
    "using MLJ\n",
    "using CSV, DataFrames\n",
    "using Plots"
   ]
  },
  {
   "cell_type": "code",
   "execution_count": 2,
   "metadata": {},
   "outputs": [
    {
     "data": {
      "text/html": [
       "<div class=\"data-frame\"><p>366 rows × 16 columns (omitted printing of 10 columns)</p><table class=\"data-frame\"><thead><tr><th></th><th>surgery</th><th>age</th><th>rectal_temperature</th><th>pulse</th><th>respiratory_rate</th><th>temperature_extremities</th></tr><tr><th></th><th title=\"Int64\">Int64</th><th title=\"Int64\">Int64</th><th title=\"Float64\">Float64</th><th title=\"Int64\">Int64</th><th title=\"Int64\">Int64</th><th title=\"Int64\">Int64</th></tr></thead><tbody><tr><th>1</th><td>2</td><td>1</td><td>38.5</td><td>66</td><td>66</td><td>3</td></tr><tr><th>2</th><td>1</td><td>1</td><td>39.2</td><td>88</td><td>88</td><td>3</td></tr><tr><th>3</th><td>2</td><td>1</td><td>38.3</td><td>40</td><td>40</td><td>1</td></tr><tr><th>4</th><td>1</td><td>9</td><td>39.1</td><td>164</td><td>164</td><td>4</td></tr><tr><th>5</th><td>2</td><td>1</td><td>37.3</td><td>104</td><td>104</td><td>3</td></tr><tr><th>6</th><td>2</td><td>1</td><td>38.1</td><td>60</td><td>60</td><td>2</td></tr><tr><th>7</th><td>1</td><td>1</td><td>37.9</td><td>48</td><td>48</td><td>1</td></tr><tr><th>8</th><td>1</td><td>1</td><td>38.1</td><td>60</td><td>60</td><td>3</td></tr><tr><th>9</th><td>2</td><td>1</td><td>38.1</td><td>80</td><td>80</td><td>3</td></tr><tr><th>10</th><td>2</td><td>9</td><td>38.3</td><td>90</td><td>90</td><td>1</td></tr><tr><th>11</th><td>1</td><td>1</td><td>38.1</td><td>66</td><td>66</td><td>3</td></tr><tr><th>12</th><td>2</td><td>1</td><td>39.1</td><td>72</td><td>72</td><td>2</td></tr><tr><th>13</th><td>1</td><td>1</td><td>37.2</td><td>42</td><td>42</td><td>2</td></tr><tr><th>14</th><td>2</td><td>9</td><td>38.0</td><td>92</td><td>92</td><td>1</td></tr><tr><th>15</th><td>1</td><td>1</td><td>38.2</td><td>76</td><td>76</td><td>3</td></tr><tr><th>16</th><td>1</td><td>1</td><td>37.6</td><td>96</td><td>96</td><td>3</td></tr><tr><th>17</th><td>1</td><td>9</td><td>38.1</td><td>128</td><td>128</td><td>3</td></tr><tr><th>18</th><td>2</td><td>1</td><td>37.5</td><td>48</td><td>48</td><td>3</td></tr><tr><th>19</th><td>1</td><td>1</td><td>37.6</td><td>64</td><td>64</td><td>1</td></tr><tr><th>20</th><td>2</td><td>1</td><td>39.4</td><td>110</td><td>110</td><td>4</td></tr><tr><th>21</th><td>1</td><td>1</td><td>39.9</td><td>72</td><td>72</td><td>1</td></tr><tr><th>22</th><td>2</td><td>1</td><td>38.4</td><td>48</td><td>48</td><td>1</td></tr><tr><th>23</th><td>1</td><td>1</td><td>38.6</td><td>42</td><td>42</td><td>2</td></tr><tr><th>24</th><td>1</td><td>9</td><td>38.3</td><td>130</td><td>130</td><td>3</td></tr><tr><th>25</th><td>1</td><td>1</td><td>38.1</td><td>60</td><td>60</td><td>3</td></tr><tr><th>26</th><td>2</td><td>1</td><td>37.8</td><td>60</td><td>60</td><td>3</td></tr><tr><th>27</th><td>1</td><td>1</td><td>38.3</td><td>72</td><td>72</td><td>4</td></tr><tr><th>28</th><td>1</td><td>1</td><td>37.8</td><td>48</td><td>48</td><td>3</td></tr><tr><th>29</th><td>1</td><td>1</td><td>38.1</td><td>60</td><td>60</td><td>3</td></tr><tr><th>30</th><td>2</td><td>1</td><td>37.7</td><td>48</td><td>48</td><td>2</td></tr><tr><th>&vellip;</th><td>&vellip;</td><td>&vellip;</td><td>&vellip;</td><td>&vellip;</td><td>&vellip;</td><td>&vellip;</td></tr></tbody></table></div>"
      ],
      "text/latex": [
       "\\begin{tabular}{r|ccccccc}\n",
       "\t& surgery & age & rectal\\_temperature & pulse & respiratory\\_rate & temperature\\_extremities & \\\\\n",
       "\t\\hline\n",
       "\t& Int64 & Int64 & Float64 & Int64 & Int64 & Int64 & \\\\\n",
       "\t\\hline\n",
       "\t1 & 2 & 1 & 38.5 & 66 & 66 & 3 & $\\dots$ \\\\\n",
       "\t2 & 1 & 1 & 39.2 & 88 & 88 & 3 & $\\dots$ \\\\\n",
       "\t3 & 2 & 1 & 38.3 & 40 & 40 & 1 & $\\dots$ \\\\\n",
       "\t4 & 1 & 9 & 39.1 & 164 & 164 & 4 & $\\dots$ \\\\\n",
       "\t5 & 2 & 1 & 37.3 & 104 & 104 & 3 & $\\dots$ \\\\\n",
       "\t6 & 2 & 1 & 38.1 & 60 & 60 & 2 & $\\dots$ \\\\\n",
       "\t7 & 1 & 1 & 37.9 & 48 & 48 & 1 & $\\dots$ \\\\\n",
       "\t8 & 1 & 1 & 38.1 & 60 & 60 & 3 & $\\dots$ \\\\\n",
       "\t9 & 2 & 1 & 38.1 & 80 & 80 & 3 & $\\dots$ \\\\\n",
       "\t10 & 2 & 9 & 38.3 & 90 & 90 & 1 & $\\dots$ \\\\\n",
       "\t11 & 1 & 1 & 38.1 & 66 & 66 & 3 & $\\dots$ \\\\\n",
       "\t12 & 2 & 1 & 39.1 & 72 & 72 & 2 & $\\dots$ \\\\\n",
       "\t13 & 1 & 1 & 37.2 & 42 & 42 & 2 & $\\dots$ \\\\\n",
       "\t14 & 2 & 9 & 38.0 & 92 & 92 & 1 & $\\dots$ \\\\\n",
       "\t15 & 1 & 1 & 38.2 & 76 & 76 & 3 & $\\dots$ \\\\\n",
       "\t16 & 1 & 1 & 37.6 & 96 & 96 & 3 & $\\dots$ \\\\\n",
       "\t17 & 1 & 9 & 38.1 & 128 & 128 & 3 & $\\dots$ \\\\\n",
       "\t18 & 2 & 1 & 37.5 & 48 & 48 & 3 & $\\dots$ \\\\\n",
       "\t19 & 1 & 1 & 37.6 & 64 & 64 & 1 & $\\dots$ \\\\\n",
       "\t20 & 2 & 1 & 39.4 & 110 & 110 & 4 & $\\dots$ \\\\\n",
       "\t21 & 1 & 1 & 39.9 & 72 & 72 & 1 & $\\dots$ \\\\\n",
       "\t22 & 2 & 1 & 38.4 & 48 & 48 & 1 & $\\dots$ \\\\\n",
       "\t23 & 1 & 1 & 38.6 & 42 & 42 & 2 & $\\dots$ \\\\\n",
       "\t24 & 1 & 9 & 38.3 & 130 & 130 & 3 & $\\dots$ \\\\\n",
       "\t25 & 1 & 1 & 38.1 & 60 & 60 & 3 & $\\dots$ \\\\\n",
       "\t26 & 2 & 1 & 37.8 & 60 & 60 & 3 & $\\dots$ \\\\\n",
       "\t27 & 1 & 1 & 38.3 & 72 & 72 & 4 & $\\dots$ \\\\\n",
       "\t28 & 1 & 1 & 37.8 & 48 & 48 & 3 & $\\dots$ \\\\\n",
       "\t29 & 1 & 1 & 38.1 & 60 & 60 & 3 & $\\dots$ \\\\\n",
       "\t30 & 2 & 1 & 37.7 & 48 & 48 & 2 & $\\dots$ \\\\\n",
       "\t$\\dots$ & $\\dots$ & $\\dots$ & $\\dots$ & $\\dots$ & $\\dots$ & $\\dots$ &  \\\\\n",
       "\\end{tabular}\n"
      ],
      "text/plain": [
       "\u001b[1m366×16 DataFrame\u001b[0m\n",
       "\u001b[1m Row \u001b[0m│\u001b[1m surgery \u001b[0m\u001b[1m age   \u001b[0m\u001b[1m rectal_temperature \u001b[0m\u001b[1m pulse \u001b[0m\u001b[1m respiratory_rate \u001b[0m\u001b[1m temperatur\u001b[0m ⋯\n",
       "\u001b[1m     \u001b[0m│\u001b[90m Int64   \u001b[0m\u001b[90m Int64 \u001b[0m\u001b[90m Float64            \u001b[0m\u001b[90m Int64 \u001b[0m\u001b[90m Int64            \u001b[0m\u001b[90m Int64     \u001b[0m ⋯\n",
       "─────┼──────────────────────────────────────────────────────────────────────────\n",
       "   1 │       2      1                38.5     66                66             ⋯\n",
       "   2 │       1      1                39.2     88                88\n",
       "   3 │       2      1                38.3     40                40\n",
       "   4 │       1      9                39.1    164               164\n",
       "   5 │       2      1                37.3    104               104             ⋯\n",
       "   6 │       2      1                38.1     60                60\n",
       "   7 │       1      1                37.9     48                48\n",
       "   8 │       1      1                38.1     60                60\n",
       "   9 │       2      1                38.1     80                80             ⋯\n",
       "  10 │       2      9                38.3     90                90\n",
       "  11 │       1      1                38.1     66                66\n",
       "  ⋮  │    ⋮       ⋮            ⋮             ⋮           ⋮                     ⋱\n",
       " 357 │       1      1                36.6     48                48\n",
       " 358 │       1      1                38.5     90                90             ⋯\n",
       " 359 │       1      1                38.1     75                75\n",
       " 360 │       2      1                38.2     42                42\n",
       " 361 │       1      9                38.2     78                78\n",
       " 362 │       2      1                38.6     60                60             ⋯\n",
       " 363 │       2      1                37.8     42                42\n",
       " 364 │       1      1                38.0     60                60\n",
       " 365 │       2      1                38.0     42                42\n",
       " 366 │       2      1                37.6     88                88             ⋯\n",
       "\u001b[36m                                                 11 columns and 345 rows omitted\u001b[0m"
      ]
     },
     "execution_count": 2,
     "metadata": {},
     "output_type": "execute_result"
    }
   ],
   "source": [
    "file = CSV.File(joinpath(\"data\", \"horse.csv\"));\n",
    "schema(file) # (triggers a file read)\n",
    "horse = DataFrame(file)"
   ]
  },
  {
   "cell_type": "code",
   "execution_count": 3,
   "metadata": {},
   "outputs": [
    {
     "data": {
      "text/plain": [
       "┌─────────────────────────┬─────────────────────────────────┬───────────────────\n",
       "│\u001b[22m _.names                 \u001b[0m│\u001b[22m _.types                         \u001b[0m│\u001b[22m _.scitypes      \u001b[0m ⋯\n",
       "├─────────────────────────┼─────────────────────────────────┼───────────────────\n",
       "│ surgery                 │ CategoricalValue{Int64, UInt32} │ Multiclass{2}    ⋯\n",
       "│ age                     │ CategoricalValue{Int64, UInt32} │ Multiclass{2}    ⋯\n",
       "│ rectal_temperature      │ Float64                         │ Continuous       ⋯\n",
       "│ pulse                   │ Float64                         │ Continuous       ⋯\n",
       "│ respiratory_rate        │ Float64                         │ Continuous       ⋯\n",
       "│ temperature_extremities │ CategoricalValue{Int64, UInt32} │ OrderedFactor{4} ⋯\n",
       "│ mucous_membranes        │ CategoricalValue{Int64, UInt32} │ Multiclass{6}    ⋯\n",
       "│ capillary_refill_time   │ CategoricalValue{Int64, UInt32} │ Multiclass{3}    ⋯\n",
       "│ pain                    │ CategoricalValue{Int64, UInt32} │ OrderedFactor{5} ⋯\n",
       "│ peristalsis             │ CategoricalValue{Int64, UInt32} │ OrderedFactor{4} ⋯\n",
       "│ abdominal_distension    │ CategoricalValue{Int64, UInt32} │ OrderedFactor{4} ⋯\n",
       "│ packed_cell_volume      │ Float64                         │ Continuous       ⋯\n",
       "│ total_protein           │ Float64                         │ Continuous       ⋯\n",
       "│ outcome                 │ CategoricalValue{Int64, UInt32} │ Multiclass{3}    ⋯\n",
       "│ surgical_lesion         │ CategoricalValue{Int64, UInt32} │ OrderedFactor{2} ⋯\n",
       "│ cp_data                 │ CategoricalValue{Int64, UInt32} │ Multiclass{2}    ⋯\n",
       "└─────────────────────────┴─────────────────────────────────┴───────────────────\n",
       "_.nrows = 366\n"
      ]
     },
     "execution_count": 3,
     "metadata": {},
     "output_type": "execute_result"
    }
   ],
   "source": [
    "# fix the scientific types\n",
    "coerce!(horse, autotype(horse));\n",
    "coerce!(horse, Count => Continuous);\n",
    "coerce!(horse,\n",
    "        :surgery               => Multiclass,\n",
    "        :age                   => Multiclass,\n",
    "        :mucous_membranes      => Multiclass,\n",
    "        :capillary_refill_time => Multiclass,\n",
    "        :outcome               => Multiclass,\n",
    "        :cp_data               => Multiclass);\n",
    "\n",
    "schema(horse)"
   ]
  },
  {
   "cell_type": "code",
   "execution_count": 4,
   "metadata": {},
   "outputs": [
    {
     "name": "stdout",
     "output_type": "stream",
     "text": [
      "AbstractVector{Multiclass{3}}\n"
     ]
    },
    {
     "data": {
      "text/plain": [
       "┌─────────────────────────┬─────────────────────────────────┬───────────────────\n",
       "│\u001b[22m _.names                 \u001b[0m│\u001b[22m _.types                         \u001b[0m│\u001b[22m _.scitypes      \u001b[0m ⋯\n",
       "├─────────────────────────┼─────────────────────────────────┼───────────────────\n",
       "│ surgery                 │ CategoricalValue{Int64, UInt32} │ Multiclass{2}    ⋯\n",
       "│ age                     │ CategoricalValue{Int64, UInt32} │ Multiclass{2}    ⋯\n",
       "│ rectal_temperature      │ Float64                         │ Continuous       ⋯\n",
       "│ pulse                   │ Float64                         │ Continuous       ⋯\n",
       "│ respiratory_rate        │ Float64                         │ Continuous       ⋯\n",
       "│ temperature_extremities │ CategoricalValue{Int64, UInt32} │ OrderedFactor{4} ⋯\n",
       "│ mucous_membranes        │ CategoricalValue{Int64, UInt32} │ Multiclass{6}    ⋯\n",
       "│ capillary_refill_time   │ CategoricalValue{Int64, UInt32} │ Multiclass{3}    ⋯\n",
       "│ pain                    │ CategoricalValue{Int64, UInt32} │ OrderedFactor{5} ⋯\n",
       "│ peristalsis             │ CategoricalValue{Int64, UInt32} │ OrderedFactor{4} ⋯\n",
       "│ abdominal_distension    │ CategoricalValue{Int64, UInt32} │ OrderedFactor{4} ⋯\n",
       "│ packed_cell_volume      │ Float64                         │ Continuous       ⋯\n",
       "│ total_protein           │ Float64                         │ Continuous       ⋯\n",
       "│ surgical_lesion         │ CategoricalValue{Int64, UInt32} │ OrderedFactor{2} ⋯\n",
       "│ cp_data                 │ CategoricalValue{Int64, UInt32} │ Multiclass{2}    ⋯\n",
       "└─────────────────────────┴─────────────────────────────────┴───────────────────\n",
       "_.nrows = 366\n"
      ]
     },
     "execution_count": 4,
     "metadata": {},
     "output_type": "execute_result"
    }
   ],
   "source": [
    "y, X = unpack(horse, ==(:outcome), name -> true);\n",
    "\n",
    "println(scitype(y))\n",
    "schema(X)"
   ]
  },
  {
   "cell_type": "markdown",
   "metadata": {},
   "source": [
    "# Naive tuning of a single parameter"
   ]
  },
  {
   "cell_type": "markdown",
   "metadata": {},
   "source": [
    "The simplest way to tune a hyper-parameter is to use a learning curve"
   ]
  },
  {
   "cell_type": "code",
   "execution_count": 5,
   "metadata": {},
   "outputs": [
    {
     "name": "stdout",
     "output_type": "stream",
     "text": [
      "import MLJLinearModels ✔\n"
     ]
    },
    {
     "name": "stderr",
     "output_type": "stream",
     "text": [
      "┌ Info: For silent loading, specify `verbosity=0`. \n",
      "└ @ Main /home/john/.julia/packages/MLJModels/GKDnU/src/loading.jl:168\n"
     ]
    },
    {
     "data": {
      "text/plain": [
       "Machine{Pipeline277,…} trained 0 times; caches data\n",
       "  args: \n",
       "    1:\tSource @354 ⏎ `Table{Union{AbstractVector{Continuous}, AbstractVector{Multiclass{6}}, AbstractVector{Multiclass{3}}, AbstractVector{Multiclass{2}}, AbstractVector{OrderedFactor{5}}, AbstractVector{OrderedFactor{4}}, AbstractVector{OrderedFactor{2}}}}`\n",
       "    2:\tSource @951 ⏎ `AbstractVector{Multiclass{3}}`\n"
      ]
     },
     "execution_count": 5,
     "metadata": {},
     "output_type": "execute_result"
    }
   ],
   "source": [
    "LogisticClassifier = @load LogisticClassifier pkg=MLJLinearModels\n",
    "model = @pipeline ContinuousEncoder Standardizer LogisticClassifier\n",
    "mach = machine(model, X, y)"
   ]
  },
  {
   "cell_type": "code",
   "execution_count": 6,
   "metadata": {},
   "outputs": [
    {
     "data": {
      "text/plain": [
       "NumericRange(0.01 ≤ logistic_classifier.lambda ≤ 100.0; origin=50.005, unit=49.995) on log10 scale"
      ]
     },
     "execution_count": 6,
     "metadata": {},
     "output_type": "execute_result"
    }
   ],
   "source": [
    "r = range(model, :(logistic_classifier.lambda), lower = 1e-2, upper=100, scale=:log10)"
   ]
  },
  {
   "cell_type": "code",
   "execution_count": 7,
   "metadata": {},
   "outputs": [
    {
     "name": "stderr",
     "output_type": "stream",
     "text": [
      "┌ Info: Training Machine{ProbabilisticTunedModel{Grid,…},…}.\n",
      "└ @ MLJBase /home/john/.julia/packages/MLJBase/QXObv/src/machines.jl:403\n",
      "┌ Info: Attempting to evaluate 30 models.\n",
      "└ @ MLJTuning /home/john/.julia/packages/MLJTuning/bjRHJ/src/tuned_models.jl:680\n",
      "\u001b[33mEvaluating over 30 metamodels:   0%[>                        ]  ETA: N/A\u001b[39m┌ Warning: Extremely small standard deviation encountered in standardization.\n",
      "└ @ MLJModels /home/john/.julia/packages/MLJModels/GKDnU/src/builtins/Transformers.jl:500\n",
      "\u001b[33mEvaluating over 30 metamodels:   3%[>                        ]  ETA: 0:15:12\u001b[39m┌ Warning: Extremely small standard deviation encountered in standardization.\n",
      "└ @ MLJModels /home/john/.julia/packages/MLJModels/GKDnU/src/builtins/Transformers.jl:500\n",
      "\u001b[33mEvaluating over 30 metamodels:   7%[=>                       ]  ETA: 0:07:33\u001b[39m┌ Warning: Extremely small standard deviation encountered in standardization.\n",
      "└ @ MLJModels /home/john/.julia/packages/MLJModels/GKDnU/src/builtins/Transformers.jl:500\n",
      "\u001b[33mEvaluating over 30 metamodels:  10%[==>                      ]  ETA: 0:04:54\u001b[39m┌ Warning: Extremely small standard deviation encountered in standardization.\n",
      "└ @ MLJModels /home/john/.julia/packages/MLJModels/GKDnU/src/builtins/Transformers.jl:500\n",
      "\u001b[33mEvaluating over 30 metamodels:  13%[===>                     ]  ETA: 0:03:34\u001b[39m┌ Warning: Extremely small standard deviation encountered in standardization.\n",
      "└ @ MLJModels /home/john/.julia/packages/MLJModels/GKDnU/src/builtins/Transformers.jl:500\n",
      "\u001b[33mEvaluating over 30 metamodels:  17%[====>                    ]  ETA: 0:02:46\u001b[39m┌ Warning: Extremely small standard deviation encountered in standardization.\n",
      "└ @ MLJModels /home/john/.julia/packages/MLJModels/GKDnU/src/builtins/Transformers.jl:500\n",
      "\u001b[33mEvaluating over 30 metamodels:  20%[=====>                   ]  ETA: 0:02:14\u001b[39m┌ Warning: Extremely small standard deviation encountered in standardization.\n",
      "└ @ MLJModels /home/john/.julia/packages/MLJModels/GKDnU/src/builtins/Transformers.jl:500\n",
      "\u001b[33mEvaluating over 30 metamodels:  23%[=====>                   ]  ETA: 0:01:51\u001b[39m┌ Warning: Extremely small standard deviation encountered in standardization.\n",
      "└ @ MLJModels /home/john/.julia/packages/MLJModels/GKDnU/src/builtins/Transformers.jl:500\n",
      "\u001b[33mEvaluating over 30 metamodels:  27%[======>                  ]  ETA: 0:01:33\u001b[39m┌ Warning: Extremely small standard deviation encountered in standardization.\n",
      "└ @ MLJModels /home/john/.julia/packages/MLJModels/GKDnU/src/builtins/Transformers.jl:500\n",
      "\u001b[33mEvaluating over 30 metamodels:  30%[=======>                 ]  ETA: 0:01:19\u001b[39m┌ Warning: Extremely small standard deviation encountered in standardization.\n",
      "└ @ MLJModels /home/john/.julia/packages/MLJModels/GKDnU/src/builtins/Transformers.jl:500\n",
      "\u001b[33mEvaluating over 30 metamodels:  33%[========>                ]  ETA: 0:01:08\u001b[39m┌ Warning: Extremely small standard deviation encountered in standardization.\n",
      "└ @ MLJModels /home/john/.julia/packages/MLJModels/GKDnU/src/builtins/Transformers.jl:500\n",
      "\u001b[33mEvaluating over 30 metamodels:  37%[=========>               ]  ETA: 0:00:59\u001b[39m┌ Warning: Extremely small standard deviation encountered in standardization.\n",
      "└ @ MLJModels /home/john/.julia/packages/MLJModels/GKDnU/src/builtins/Transformers.jl:500\n",
      "\u001b[33mEvaluating over 30 metamodels:  40%[==========>              ]  ETA: 0:00:52\u001b[39m┌ Warning: Extremely small standard deviation encountered in standardization.\n",
      "└ @ MLJModels /home/john/.julia/packages/MLJModels/GKDnU/src/builtins/Transformers.jl:500\n",
      "\u001b[33mEvaluating over 30 metamodels:  43%[==========>              ]  ETA: 0:00:45\u001b[39m┌ Warning: Extremely small standard deviation encountered in standardization.\n",
      "└ @ MLJModels /home/john/.julia/packages/MLJModels/GKDnU/src/builtins/Transformers.jl:500\n",
      "\u001b[33mEvaluating over 30 metamodels:  47%[===========>             ]  ETA: 0:00:40\u001b[39m┌ Warning: Extremely small standard deviation encountered in standardization.\n",
      "└ @ MLJModels /home/john/.julia/packages/MLJModels/GKDnU/src/builtins/Transformers.jl:500\n",
      "\u001b[33mEvaluating over 30 metamodels:  50%[============>            ]  ETA: 0:00:35\u001b[39m┌ Warning: Extremely small standard deviation encountered in standardization.\n",
      "└ @ MLJModels /home/john/.julia/packages/MLJModels/GKDnU/src/builtins/Transformers.jl:500\n",
      "\u001b[33mEvaluating over 30 metamodels:  53%[=============>           ]  ETA: 0:00:31\u001b[39m┌ Warning: Extremely small standard deviation encountered in standardization.\n",
      "└ @ MLJModels /home/john/.julia/packages/MLJModels/GKDnU/src/builtins/Transformers.jl:500\n",
      "\u001b[33mEvaluating over 30 metamodels:  57%[==============>          ]  ETA: 0:00:27\u001b[39m┌ Warning: Extremely small standard deviation encountered in standardization.\n",
      "└ @ MLJModels /home/john/.julia/packages/MLJModels/GKDnU/src/builtins/Transformers.jl:500\n",
      "\u001b[33mEvaluating over 30 metamodels:  60%[===============>         ]  ETA: 0:00:23\u001b[39m┌ Warning: Extremely small standard deviation encountered in standardization.\n",
      "└ @ MLJModels /home/john/.julia/packages/MLJModels/GKDnU/src/builtins/Transformers.jl:500\n",
      "\u001b[33mEvaluating over 30 metamodels:  63%[===============>         ]  ETA: 0:00:20\u001b[39m┌ Warning: Extremely small standard deviation encountered in standardization.\n",
      "└ @ MLJModels /home/john/.julia/packages/MLJModels/GKDnU/src/builtins/Transformers.jl:500\n",
      "\u001b[33mEvaluating over 30 metamodels:  67%[================>        ]  ETA: 0:00:18\u001b[39m┌ Warning: Extremely small standard deviation encountered in standardization.\n",
      "└ @ MLJModels /home/john/.julia/packages/MLJModels/GKDnU/src/builtins/Transformers.jl:500\n",
      "\u001b[33mEvaluating over 30 metamodels:  70%[=================>       ]  ETA: 0:00:15\u001b[39m┌ Warning: Extremely small standard deviation encountered in standardization.\n",
      "└ @ MLJModels /home/john/.julia/packages/MLJModels/GKDnU/src/builtins/Transformers.jl:500\n",
      "\u001b[33mEvaluating over 30 metamodels:  73%[==================>      ]  ETA: 0:00:13\u001b[39m┌ Warning: Extremely small standard deviation encountered in standardization.\n",
      "└ @ MLJModels /home/john/.julia/packages/MLJModels/GKDnU/src/builtins/Transformers.jl:500\n",
      "\u001b[33mEvaluating over 30 metamodels:  77%[===================>     ]  ETA: 0:00:11\u001b[39m┌ Warning: Extremely small standard deviation encountered in standardization.\n",
      "└ @ MLJModels /home/john/.julia/packages/MLJModels/GKDnU/src/builtins/Transformers.jl:500\n",
      "\u001b[33mEvaluating over 30 metamodels:  80%[====================>    ]  ETA: 0:00:09\u001b[39m┌ Warning: Extremely small standard deviation encountered in standardization.\n",
      "└ @ MLJModels /home/john/.julia/packages/MLJModels/GKDnU/src/builtins/Transformers.jl:500\n",
      "\u001b[33mEvaluating over 30 metamodels:  83%[====================>    ]  ETA: 0:00:07\u001b[39m┌ Warning: Extremely small standard deviation encountered in standardization.\n",
      "└ @ MLJModels /home/john/.julia/packages/MLJModels/GKDnU/src/builtins/Transformers.jl:500\n",
      "\u001b[33mEvaluating over 30 metamodels:  87%[=====================>   ]  ETA: 0:00:05\u001b[39m┌ Warning: Extremely small standard deviation encountered in standardization.\n",
      "└ @ MLJModels /home/john/.julia/packages/MLJModels/GKDnU/src/builtins/Transformers.jl:500\n",
      "\u001b[33mEvaluating over 30 metamodels:  90%[======================>  ]  ETA: 0:00:04\u001b[39m┌ Warning: Extremely small standard deviation encountered in standardization.\n",
      "└ @ MLJModels /home/john/.julia/packages/MLJModels/GKDnU/src/builtins/Transformers.jl:500\n",
      "\u001b[33mEvaluating over 30 metamodels:  93%[=======================> ]  ETA: 0:00:03\u001b[39m┌ Warning: Extremely small standard deviation encountered in standardization.\n",
      "└ @ MLJModels /home/john/.julia/packages/MLJModels/GKDnU/src/builtins/Transformers.jl:500\n",
      "\u001b[33mEvaluating over 30 metamodels:  97%[========================>]  ETA: 0:00:01\u001b[39m┌ Warning: Extremely small standard deviation encountered in standardization.\n",
      "└ @ MLJModels /home/john/.julia/packages/MLJModels/GKDnU/src/builtins/Transformers.jl:500\n",
      "\u001b[33mEvaluating over 30 metamodels: 100%[=========================] Time: 0:00:35\u001b[39m\n"
     ]
    },
    {
     "data": {
      "image/svg+xml": [
       "<?xml version=\"1.0\" encoding=\"utf-8\"?>\n",
       "<svg xmlns=\"http://www.w3.org/2000/svg\" xmlns:xlink=\"http://www.w3.org/1999/xlink\" width=\"600\" height=\"400\" viewBox=\"0 0 2400 1600\">\n",
       "<defs>\n",
       "  <clipPath id=\"clip990\">\n",
       "    <rect x=\"0\" y=\"0\" width=\"2400\" height=\"1600\"/>\n",
       "  </clipPath>\n",
       "</defs>\n",
       "<path clip-path=\"url(#clip990)\" d=\"\n",
       "M0 1600 L2400 1600 L2400 0 L0 0  Z\n",
       "  \" fill=\"#ffffff\" fill-rule=\"evenodd\" fill-opacity=\"1\"/>\n",
       "<defs>\n",
       "  <clipPath id=\"clip991\">\n",
       "    <rect x=\"480\" y=\"0\" width=\"1681\" height=\"1600\"/>\n",
       "  </clipPath>\n",
       "</defs>\n",
       "<path clip-path=\"url(#clip990)\" d=\"\n",
       "M250.028 1410.9 L2352.76 1410.9 L2352.76 47.2441 L250.028 47.2441  Z\n",
       "  \" fill=\"#ffffff\" fill-rule=\"evenodd\" fill-opacity=\"1\"/>\n",
       "<defs>\n",
       "  <clipPath id=\"clip992\">\n",
       "    <rect x=\"250\" y=\"47\" width=\"2104\" height=\"1365\"/>\n",
       "  </clipPath>\n",
       "</defs>\n",
       "<polyline clip-path=\"url(#clip992)\" style=\"stroke:#000000; stroke-linecap:butt; stroke-linejoin:round; stroke-width:2; stroke-opacity:0.1; fill:none\" points=\"\n",
       "  309.539,1410.9 309.539,47.2441 \n",
       "  \"/>\n",
       "<polyline clip-path=\"url(#clip992)\" style=\"stroke:#000000; stroke-linecap:butt; stroke-linejoin:round; stroke-width:2; stroke-opacity:0.1; fill:none\" points=\"\n",
       "  805.466,1410.9 805.466,47.2441 \n",
       "  \"/>\n",
       "<polyline clip-path=\"url(#clip992)\" style=\"stroke:#000000; stroke-linecap:butt; stroke-linejoin:round; stroke-width:2; stroke-opacity:0.1; fill:none\" points=\"\n",
       "  1301.39,1410.9 1301.39,47.2441 \n",
       "  \"/>\n",
       "<polyline clip-path=\"url(#clip992)\" style=\"stroke:#000000; stroke-linecap:butt; stroke-linejoin:round; stroke-width:2; stroke-opacity:0.1; fill:none\" points=\"\n",
       "  1797.32,1410.9 1797.32,47.2441 \n",
       "  \"/>\n",
       "<polyline clip-path=\"url(#clip992)\" style=\"stroke:#000000; stroke-linecap:butt; stroke-linejoin:round; stroke-width:2; stroke-opacity:0.1; fill:none\" points=\"\n",
       "  2293.24,1410.9 2293.24,47.2441 \n",
       "  \"/>\n",
       "<polyline clip-path=\"url(#clip990)\" style=\"stroke:#000000; stroke-linecap:butt; stroke-linejoin:round; stroke-width:4; stroke-opacity:1; fill:none\" points=\"\n",
       "  250.028,1410.9 2352.76,1410.9 \n",
       "  \"/>\n",
       "<polyline clip-path=\"url(#clip990)\" style=\"stroke:#000000; stroke-linecap:butt; stroke-linejoin:round; stroke-width:4; stroke-opacity:1; fill:none\" points=\"\n",
       "  309.539,1410.9 309.539,1392 \n",
       "  \"/>\n",
       "<polyline clip-path=\"url(#clip990)\" style=\"stroke:#000000; stroke-linecap:butt; stroke-linejoin:round; stroke-width:4; stroke-opacity:1; fill:none\" points=\"\n",
       "  805.466,1410.9 805.466,1392 \n",
       "  \"/>\n",
       "<polyline clip-path=\"url(#clip990)\" style=\"stroke:#000000; stroke-linecap:butt; stroke-linejoin:round; stroke-width:4; stroke-opacity:1; fill:none\" points=\"\n",
       "  1301.39,1410.9 1301.39,1392 \n",
       "  \"/>\n",
       "<polyline clip-path=\"url(#clip990)\" style=\"stroke:#000000; stroke-linecap:butt; stroke-linejoin:round; stroke-width:4; stroke-opacity:1; fill:none\" points=\"\n",
       "  1797.32,1410.9 1797.32,1392 \n",
       "  \"/>\n",
       "<polyline clip-path=\"url(#clip990)\" style=\"stroke:#000000; stroke-linecap:butt; stroke-linejoin:round; stroke-width:4; stroke-opacity:1; fill:none\" points=\"\n",
       "  2293.24,1410.9 2293.24,1392 \n",
       "  \"/>\n",
       "<path clip-path=\"url(#clip990)\" d=\"M259.805 1485.02 L267.444 1485.02 L267.444 1458.66 L259.134 1460.32 L259.134 1456.06 L267.398 1454.4 L272.074 1454.4 L272.074 1485.02 L279.712 1485.02 L279.712 1488.96 L259.805 1488.96 L259.805 1485.02 Z\" fill=\"#000000\" fill-rule=\"evenodd\" fill-opacity=\"1\" /><path clip-path=\"url(#clip990)\" d=\"M299.157 1457.48 Q295.546 1457.48 293.717 1461.04 Q291.911 1464.58 291.911 1471.71 Q291.911 1478.82 293.717 1482.38 Q295.546 1485.92 299.157 1485.92 Q302.791 1485.92 304.596 1482.38 Q306.425 1478.82 306.425 1471.71 Q306.425 1464.58 304.596 1461.04 Q302.791 1457.48 299.157 1457.48 M299.157 1453.77 Q304.967 1453.77 308.022 1458.38 Q311.101 1462.96 311.101 1471.71 Q311.101 1480.44 308.022 1485.04 Q304.967 1489.63 299.157 1489.63 Q293.347 1489.63 290.268 1485.04 Q287.212 1480.44 287.212 1471.71 Q287.212 1462.96 290.268 1458.38 Q293.347 1453.77 299.157 1453.77 Z\" fill=\"#000000\" fill-rule=\"evenodd\" fill-opacity=\"1\" /><path clip-path=\"url(#clip990)\" d=\"M311.101 1447.87 L335.213 1447.87 L335.213 1451.07 L311.101 1451.07 L311.101 1447.87 Z\" fill=\"#000000\" fill-rule=\"evenodd\" fill-opacity=\"1\" /><path clip-path=\"url(#clip990)\" d=\"M346.685 1458.35 L359.945 1458.35 L359.945 1461.55 L342.115 1461.55 L342.115 1458.35 Q344.278 1456.11 348.002 1452.35 Q351.745 1448.57 352.704 1447.48 Q354.528 1445.43 355.243 1444.02 Q355.976 1442.59 355.976 1441.22 Q355.976 1438.98 354.397 1437.57 Q352.836 1436.16 350.315 1436.16 Q348.529 1436.16 346.535 1436.78 Q344.56 1437.4 342.303 1438.66 L342.303 1434.82 Q344.598 1433.9 346.591 1433.43 Q348.585 1432.96 350.24 1432.96 Q354.603 1432.96 357.199 1435.14 Q359.794 1437.32 359.794 1440.97 Q359.794 1442.7 359.136 1444.26 Q358.497 1445.8 356.785 1447.91 Q356.315 1448.46 353.795 1451.07 Q351.274 1453.67 346.685 1458.35 Z\" fill=\"#000000\" fill-rule=\"evenodd\" fill-opacity=\"1\" /><path clip-path=\"url(#clip990)\" d=\"M755.581 1485.02 L763.22 1485.02 L763.22 1458.66 L754.91 1460.32 L754.91 1456.06 L763.174 1454.4 L767.849 1454.4 L767.849 1485.02 L775.488 1485.02 L775.488 1488.96 L755.581 1488.96 L755.581 1485.02 Z\" fill=\"#000000\" fill-rule=\"evenodd\" fill-opacity=\"1\" /><path clip-path=\"url(#clip990)\" d=\"M794.933 1457.48 Q791.321 1457.48 789.493 1461.04 Q787.687 1464.58 787.687 1471.71 Q787.687 1478.82 789.493 1482.38 Q791.321 1485.92 794.933 1485.92 Q798.567 1485.92 800.372 1482.38 Q802.201 1478.82 802.201 1471.71 Q802.201 1464.58 800.372 1461.04 Q798.567 1457.48 794.933 1457.48 M794.933 1453.77 Q800.743 1453.77 803.798 1458.38 Q806.877 1462.96 806.877 1471.71 Q806.877 1480.44 803.798 1485.04 Q800.743 1489.63 794.933 1489.63 Q789.122 1489.63 786.044 1485.04 Q782.988 1480.44 782.988 1471.71 Q782.988 1462.96 786.044 1458.38 Q789.122 1453.77 794.933 1453.77 Z\" fill=\"#000000\" fill-rule=\"evenodd\" fill-opacity=\"1\" /><path clip-path=\"url(#clip990)\" d=\"M806.877 1447.87 L830.989 1447.87 L830.989 1451.07 L806.877 1451.07 L806.877 1447.87 Z\" fill=\"#000000\" fill-rule=\"evenodd\" fill-opacity=\"1\" /><path clip-path=\"url(#clip990)\" d=\"M839.847 1458.35 L846.054 1458.35 L846.054 1436.93 L839.302 1438.28 L839.302 1434.82 L846.016 1433.47 L849.815 1433.47 L849.815 1458.35 L856.022 1458.35 L856.022 1461.55 L839.847 1461.55 L839.847 1458.35 Z\" fill=\"#000000\" fill-rule=\"evenodd\" fill-opacity=\"1\" /><path clip-path=\"url(#clip990)\" d=\"M1266.37 1485.02 L1274.01 1485.02 L1274.01 1458.66 L1265.7 1460.32 L1265.7 1456.06 L1273.97 1454.4 L1278.64 1454.4 L1278.64 1485.02 L1286.28 1485.02 L1286.28 1488.96 L1266.37 1488.96 L1266.37 1485.02 Z\" fill=\"#000000\" fill-rule=\"evenodd\" fill-opacity=\"1\" /><path clip-path=\"url(#clip990)\" d=\"M1305.73 1457.48 Q1302.12 1457.48 1300.29 1461.04 Q1298.48 1464.58 1298.48 1471.71 Q1298.48 1478.82 1300.29 1482.38 Q1302.12 1485.92 1305.73 1485.92 Q1309.36 1485.92 1311.17 1482.38 Q1312.99 1478.82 1312.99 1471.71 Q1312.99 1464.58 1311.17 1461.04 Q1309.36 1457.48 1305.73 1457.48 M1305.73 1453.77 Q1311.54 1453.77 1314.59 1458.38 Q1317.67 1462.96 1317.67 1471.71 Q1317.67 1480.44 1314.59 1485.04 Q1311.54 1489.63 1305.73 1489.63 Q1299.92 1489.63 1296.84 1485.04 Q1293.78 1480.44 1293.78 1471.71 Q1293.78 1462.96 1296.84 1458.38 Q1299.92 1453.77 1305.73 1453.77 Z\" fill=\"#000000\" fill-rule=\"evenodd\" fill-opacity=\"1\" /><path clip-path=\"url(#clip990)\" d=\"M1327.38 1435.97 Q1324.44 1435.97 1322.96 1438.86 Q1321.49 1441.74 1321.49 1447.53 Q1321.49 1453.31 1322.96 1456.2 Q1324.44 1459.08 1327.38 1459.08 Q1330.33 1459.08 1331.8 1456.2 Q1333.28 1453.31 1333.28 1447.53 Q1333.28 1441.74 1331.8 1438.86 Q1330.33 1435.97 1327.38 1435.97 M1327.38 1432.96 Q1332.1 1432.96 1334.58 1436.7 Q1337.08 1440.43 1337.08 1447.53 Q1337.08 1454.62 1334.58 1458.37 Q1332.1 1462.09 1327.38 1462.09 Q1322.65 1462.09 1320.15 1458.37 Q1317.67 1454.62 1317.67 1447.53 Q1317.67 1440.43 1320.15 1436.7 Q1322.65 1432.96 1327.38 1432.96 Z\" fill=\"#000000\" fill-rule=\"evenodd\" fill-opacity=\"1\" /><path clip-path=\"url(#clip990)\" d=\"M1763.65 1485.02 L1771.28 1485.02 L1771.28 1458.66 L1762.97 1460.32 L1762.97 1456.06 L1771.24 1454.4 L1775.91 1454.4 L1775.91 1485.02 L1783.55 1485.02 L1783.55 1488.96 L1763.65 1488.96 L1763.65 1485.02 Z\" fill=\"#000000\" fill-rule=\"evenodd\" fill-opacity=\"1\" /><path clip-path=\"url(#clip990)\" d=\"M1803 1457.48 Q1799.39 1457.48 1797.56 1461.04 Q1795.75 1464.58 1795.75 1471.71 Q1795.75 1478.82 1797.56 1482.38 Q1799.39 1485.92 1803 1485.92 Q1806.63 1485.92 1808.44 1482.38 Q1810.27 1478.82 1810.27 1471.71 Q1810.27 1464.58 1808.44 1461.04 Q1806.63 1457.48 1803 1457.48 M1803 1453.77 Q1808.81 1453.77 1811.86 1458.38 Q1814.94 1462.96 1814.94 1471.71 Q1814.94 1480.44 1811.86 1485.04 Q1808.81 1489.63 1803 1489.63 Q1797.19 1489.63 1794.11 1485.04 Q1791.05 1480.44 1791.05 1471.71 Q1791.05 1462.96 1794.11 1458.38 Q1797.19 1453.77 1803 1453.77 Z\" fill=\"#000000\" fill-rule=\"evenodd\" fill-opacity=\"1\" /><path clip-path=\"url(#clip990)\" d=\"M1815.49 1458.35 L1821.69 1458.35 L1821.69 1436.93 L1814.94 1438.28 L1814.94 1434.82 L1821.66 1433.47 L1825.46 1433.47 L1825.46 1458.35 L1831.66 1458.35 L1831.66 1461.55 L1815.49 1461.55 L1815.49 1458.35 Z\" fill=\"#000000\" fill-rule=\"evenodd\" fill-opacity=\"1\" /><path clip-path=\"url(#clip990)\" d=\"M2259.02 1485.02 L2266.66 1485.02 L2266.66 1458.66 L2258.35 1460.32 L2258.35 1456.06 L2266.61 1454.4 L2271.29 1454.4 L2271.29 1485.02 L2278.92 1485.02 L2278.92 1488.96 L2259.02 1488.96 L2259.02 1485.02 Z\" fill=\"#000000\" fill-rule=\"evenodd\" fill-opacity=\"1\" /><path clip-path=\"url(#clip990)\" d=\"M2298.37 1457.48 Q2294.76 1457.48 2292.93 1461.04 Q2291.12 1464.58 2291.12 1471.71 Q2291.12 1478.82 2292.93 1482.38 Q2294.76 1485.92 2298.37 1485.92 Q2302 1485.92 2303.81 1482.38 Q2305.64 1478.82 2305.64 1471.71 Q2305.64 1464.58 2303.81 1461.04 Q2302 1457.48 2298.37 1457.48 M2298.37 1453.77 Q2304.18 1453.77 2307.23 1458.38 Q2310.31 1462.96 2310.31 1471.71 Q2310.31 1480.44 2307.23 1485.04 Q2304.18 1489.63 2298.37 1489.63 Q2292.56 1489.63 2289.48 1485.04 Q2286.42 1480.44 2286.42 1471.71 Q2286.42 1462.96 2289.48 1458.38 Q2292.56 1453.77 2298.37 1453.77 Z\" fill=\"#000000\" fill-rule=\"evenodd\" fill-opacity=\"1\" /><path clip-path=\"url(#clip990)\" d=\"M2314.88 1458.35 L2328.14 1458.35 L2328.14 1461.55 L2310.31 1461.55 L2310.31 1458.35 Q2312.48 1456.11 2316.2 1452.35 Q2319.94 1448.57 2320.9 1447.48 Q2322.73 1445.43 2323.44 1444.02 Q2324.17 1442.59 2324.17 1441.22 Q2324.17 1438.98 2322.59 1437.57 Q2321.03 1436.16 2318.51 1436.16 Q2316.73 1436.16 2314.73 1436.78 Q2312.76 1437.4 2310.5 1438.66 L2310.5 1434.82 Q2312.8 1433.9 2314.79 1433.43 Q2316.78 1432.96 2318.44 1432.96 Q2322.8 1432.96 2325.4 1435.14 Q2327.99 1437.32 2327.99 1440.97 Q2327.99 1442.7 2327.33 1444.26 Q2326.7 1445.8 2324.98 1447.91 Q2324.51 1448.46 2321.99 1451.07 Q2319.47 1453.67 2314.88 1458.35 Z\" fill=\"#000000\" fill-rule=\"evenodd\" fill-opacity=\"1\" /><path clip-path=\"url(#clip990)\" d=\"M1185.3 1524.66 L1191.15 1524.66 L1191.15 1574.19 L1185.3 1574.19 L1185.3 1524.66 Z\" fill=\"#000000\" fill-rule=\"evenodd\" fill-opacity=\"1\" /><path clip-path=\"url(#clip990)\" d=\"M1219.61 1556.27 Q1212.51 1556.27 1209.77 1557.89 Q1207.04 1559.51 1207.04 1563.43 Q1207.04 1566.55 1209.07 1568.39 Q1211.14 1570.21 1214.68 1570.21 Q1219.54 1570.21 1222.47 1566.77 Q1225.43 1563.3 1225.43 1557.57 L1225.43 1556.27 L1219.61 1556.27 M1231.29 1553.85 L1231.29 1574.19 L1225.43 1574.19 L1225.43 1568.77 Q1223.43 1572.02 1220.44 1573.58 Q1217.44 1575.11 1213.12 1575.11 Q1207.64 1575.11 1204.39 1572.05 Q1201.18 1568.97 1201.18 1563.81 Q1201.18 1557.79 1205.19 1554.74 Q1209.23 1551.68 1217.22 1551.68 L1225.43 1551.68 L1225.43 1551.11 Q1225.43 1547.07 1222.76 1544.87 Q1220.12 1542.64 1215.31 1542.64 Q1212.26 1542.64 1209.36 1543.38 Q1206.46 1544.11 1203.79 1545.57 L1203.79 1540.16 Q1207 1538.92 1210.03 1538.31 Q1213.05 1537.68 1215.92 1537.68 Q1223.65 1537.68 1227.47 1541.69 Q1231.29 1545.7 1231.29 1553.85 Z\" fill=\"#000000\" fill-rule=\"evenodd\" fill-opacity=\"1\" /><path clip-path=\"url(#clip990)\" d=\"M1271.11 1545.38 Q1273.3 1541.43 1276.36 1539.56 Q1279.41 1537.68 1283.55 1537.68 Q1289.12 1537.68 1292.15 1541.59 Q1295.17 1545.48 1295.17 1552.67 L1295.17 1574.19 L1289.28 1574.19 L1289.28 1552.86 Q1289.28 1547.74 1287.47 1545.25 Q1285.65 1542.77 1281.93 1542.77 Q1277.38 1542.77 1274.74 1545.79 Q1272.09 1548.82 1272.09 1554.04 L1272.09 1574.19 L1266.21 1574.19 L1266.21 1552.86 Q1266.21 1547.7 1264.39 1545.25 Q1262.58 1542.77 1258.79 1542.77 Q1254.3 1542.77 1251.66 1545.83 Q1249.02 1548.85 1249.02 1554.04 L1249.02 1574.19 L1243.13 1574.19 L1243.13 1538.54 L1249.02 1538.54 L1249.02 1544.08 Q1251.02 1540.8 1253.82 1539.24 Q1256.63 1537.68 1260.48 1537.68 Q1264.36 1537.68 1267.06 1539.65 Q1269.8 1541.62 1271.11 1545.38 Z\" fill=\"#000000\" fill-rule=\"evenodd\" fill-opacity=\"1\" /><path clip-path=\"url(#clip990)\" d=\"M1332.44 1556.39 Q1332.44 1549.93 1329.77 1546.27 Q1327.13 1542.58 1322.48 1542.58 Q1317.83 1542.58 1315.16 1546.27 Q1312.52 1549.93 1312.52 1556.39 Q1312.52 1562.85 1315.16 1566.55 Q1317.83 1570.21 1322.48 1570.21 Q1327.13 1570.21 1329.77 1566.55 Q1332.44 1562.85 1332.44 1556.39 M1312.52 1543.95 Q1314.36 1540.77 1317.16 1539.24 Q1320 1537.68 1323.91 1537.68 Q1330.4 1537.68 1334.45 1542.83 Q1338.52 1547.99 1338.52 1556.39 Q1338.52 1564.8 1334.45 1569.95 Q1330.4 1575.11 1323.91 1575.11 Q1320 1575.11 1317.16 1573.58 Q1314.36 1572.02 1312.52 1568.84 L1312.52 1574.19 L1306.63 1574.19 L1306.63 1524.66 L1312.52 1524.66 L1312.52 1543.95 Z\" fill=\"#000000\" fill-rule=\"evenodd\" fill-opacity=\"1\" /><path clip-path=\"url(#clip990)\" d=\"M1371.69 1543.95 L1371.69 1524.66 L1377.54 1524.66 L1377.54 1574.19 L1371.69 1574.19 L1371.69 1568.84 Q1369.84 1572.02 1367.01 1573.58 Q1364.21 1575.11 1360.26 1575.11 Q1353.8 1575.11 1349.72 1569.95 Q1345.68 1564.8 1345.68 1556.39 Q1345.68 1547.99 1349.72 1542.83 Q1353.8 1537.68 1360.26 1537.68 Q1364.21 1537.68 1367.01 1539.24 Q1369.84 1540.77 1371.69 1543.95 M1351.73 1556.39 Q1351.73 1562.85 1354.37 1566.55 Q1357.04 1570.21 1361.69 1570.21 Q1366.34 1570.21 1369.01 1566.55 Q1371.69 1562.85 1371.69 1556.39 Q1371.69 1549.93 1369.01 1546.27 Q1366.34 1542.58 1361.69 1542.58 Q1357.04 1542.58 1354.37 1546.27 Q1351.73 1549.93 1351.73 1556.39 Z\" fill=\"#000000\" fill-rule=\"evenodd\" fill-opacity=\"1\" /><path clip-path=\"url(#clip990)\" d=\"M1405.81 1556.27 Q1398.71 1556.27 1395.97 1557.89 Q1393.23 1559.51 1393.23 1563.43 Q1393.23 1566.55 1395.27 1568.39 Q1397.34 1570.21 1400.87 1570.21 Q1405.74 1570.21 1408.67 1566.77 Q1411.63 1563.3 1411.63 1557.57 L1411.63 1556.27 L1405.81 1556.27 M1417.49 1553.85 L1417.49 1574.19 L1411.63 1574.19 L1411.63 1568.77 Q1409.62 1572.02 1406.63 1573.58 Q1403.64 1575.11 1399.31 1575.11 Q1393.84 1575.11 1390.59 1572.05 Q1387.38 1568.97 1387.38 1563.81 Q1387.38 1557.79 1391.39 1554.74 Q1395.43 1551.68 1403.42 1551.68 L1411.63 1551.68 L1411.63 1551.11 Q1411.63 1547.07 1408.96 1544.87 Q1406.31 1542.64 1401.51 1542.64 Q1398.45 1542.64 1395.56 1543.38 Q1392.66 1544.11 1389.99 1545.57 L1389.99 1540.16 Q1393.2 1538.92 1396.23 1538.31 Q1399.25 1537.68 1402.11 1537.68 Q1409.85 1537.68 1413.67 1541.69 Q1417.49 1545.7 1417.49 1553.85 Z\" fill=\"#000000\" fill-rule=\"evenodd\" fill-opacity=\"1\" /><polyline clip-path=\"url(#clip992)\" style=\"stroke:#000000; stroke-linecap:butt; stroke-linejoin:round; stroke-width:2; stroke-opacity:0.1; fill:none\" points=\"\n",
       "  250.028,1237.34 2352.76,1237.34 \n",
       "  \"/>\n",
       "<polyline clip-path=\"url(#clip992)\" style=\"stroke:#000000; stroke-linecap:butt; stroke-linejoin:round; stroke-width:2; stroke-opacity:0.1; fill:none\" points=\"\n",
       "  250.028,959.731 2352.76,959.731 \n",
       "  \"/>\n",
       "<polyline clip-path=\"url(#clip992)\" style=\"stroke:#000000; stroke-linecap:butt; stroke-linejoin:round; stroke-width:2; stroke-opacity:0.1; fill:none\" points=\"\n",
       "  250.028,682.121 2352.76,682.121 \n",
       "  \"/>\n",
       "<polyline clip-path=\"url(#clip992)\" style=\"stroke:#000000; stroke-linecap:butt; stroke-linejoin:round; stroke-width:2; stroke-opacity:0.1; fill:none\" points=\"\n",
       "  250.028,404.512 2352.76,404.512 \n",
       "  \"/>\n",
       "<polyline clip-path=\"url(#clip992)\" style=\"stroke:#000000; stroke-linecap:butt; stroke-linejoin:round; stroke-width:2; stroke-opacity:0.1; fill:none\" points=\"\n",
       "  250.028,126.902 2352.76,126.902 \n",
       "  \"/>\n",
       "<polyline clip-path=\"url(#clip990)\" style=\"stroke:#000000; stroke-linecap:butt; stroke-linejoin:round; stroke-width:4; stroke-opacity:1; fill:none\" points=\"\n",
       "  250.028,1410.9 250.028,47.2441 \n",
       "  \"/>\n",
       "<polyline clip-path=\"url(#clip990)\" style=\"stroke:#000000; stroke-linecap:butt; stroke-linejoin:round; stroke-width:4; stroke-opacity:1; fill:none\" points=\"\n",
       "  250.028,1237.34 268.926,1237.34 \n",
       "  \"/>\n",
       "<polyline clip-path=\"url(#clip990)\" style=\"stroke:#000000; stroke-linecap:butt; stroke-linejoin:round; stroke-width:4; stroke-opacity:1; fill:none\" points=\"\n",
       "  250.028,959.731 268.926,959.731 \n",
       "  \"/>\n",
       "<polyline clip-path=\"url(#clip990)\" style=\"stroke:#000000; stroke-linecap:butt; stroke-linejoin:round; stroke-width:4; stroke-opacity:1; fill:none\" points=\"\n",
       "  250.028,682.121 268.926,682.121 \n",
       "  \"/>\n",
       "<polyline clip-path=\"url(#clip990)\" style=\"stroke:#000000; stroke-linecap:butt; stroke-linejoin:round; stroke-width:4; stroke-opacity:1; fill:none\" points=\"\n",
       "  250.028,404.512 268.926,404.512 \n",
       "  \"/>\n",
       "<polyline clip-path=\"url(#clip990)\" style=\"stroke:#000000; stroke-linecap:butt; stroke-linejoin:round; stroke-width:4; stroke-opacity:1; fill:none\" points=\"\n",
       "  250.028,126.902 268.926,126.902 \n",
       "  \"/>\n",
       "<path clip-path=\"url(#clip990)\" d=\"M128.288 1223.14 Q124.677 1223.14 122.848 1226.7 Q121.043 1230.25 121.043 1237.37 Q121.043 1244.48 122.848 1248.05 Q124.677 1251.59 128.288 1251.59 Q131.922 1251.59 133.728 1248.05 Q135.556 1244.48 135.556 1237.37 Q135.556 1230.25 133.728 1226.7 Q131.922 1223.14 128.288 1223.14 M128.288 1219.44 Q134.098 1219.44 137.154 1224.04 Q140.232 1228.62 140.232 1237.37 Q140.232 1246.1 137.154 1250.71 Q134.098 1255.29 128.288 1255.29 Q122.478 1255.29 119.399 1250.71 Q116.343 1246.1 116.343 1237.37 Q116.343 1228.62 119.399 1224.04 Q122.478 1219.44 128.288 1219.44 Z\" fill=\"#000000\" fill-rule=\"evenodd\" fill-opacity=\"1\" /><path clip-path=\"url(#clip990)\" d=\"M148.45 1248.74 L153.334 1248.74 L153.334 1254.62 L148.45 1254.62 L148.45 1248.74 Z\" fill=\"#000000\" fill-rule=\"evenodd\" fill-opacity=\"1\" /><path clip-path=\"url(#clip990)\" d=\"M162.339 1220.06 L184.561 1220.06 L184.561 1222.05 L172.014 1254.62 L167.13 1254.62 L178.936 1224 L162.339 1224 L162.339 1220.06 Z\" fill=\"#000000\" fill-rule=\"evenodd\" fill-opacity=\"1\" /><path clip-path=\"url(#clip990)\" d=\"M197.709 1250.68 L214.028 1250.68 L214.028 1254.62 L192.084 1254.62 L192.084 1250.68 Q194.746 1247.93 199.329 1243.3 Q203.936 1238.65 205.116 1237.31 Q207.362 1234.78 208.241 1233.05 Q209.144 1231.29 209.144 1229.6 Q209.144 1226.84 207.199 1225.11 Q205.278 1223.37 202.176 1223.37 Q199.977 1223.37 197.524 1224.13 Q195.093 1224.9 192.315 1226.45 L192.315 1221.73 Q195.139 1220.59 197.593 1220.01 Q200.047 1219.44 202.084 1219.44 Q207.454 1219.44 210.649 1222.12 Q213.843 1224.81 213.843 1229.3 Q213.843 1231.43 213.033 1233.35 Q212.246 1235.25 210.139 1237.84 Q209.561 1238.51 206.459 1241.73 Q203.357 1244.92 197.709 1250.68 Z\" fill=\"#000000\" fill-rule=\"evenodd\" fill-opacity=\"1\" /><path clip-path=\"url(#clip990)\" d=\"M126.205 945.529 Q122.593 945.529 120.765 949.094 Q118.959 952.636 118.959 959.765 Q118.959 966.872 120.765 970.437 Q122.593 973.978 126.205 973.978 Q129.839 973.978 131.644 970.437 Q133.473 966.872 133.473 959.765 Q133.473 952.636 131.644 949.094 Q129.839 945.529 126.205 945.529 M126.205 941.826 Q132.015 941.826 135.07 946.432 Q138.149 951.015 138.149 959.765 Q138.149 968.492 135.07 973.099 Q132.015 977.682 126.205 977.682 Q120.394 977.682 117.316 973.099 Q114.26 968.492 114.26 959.765 Q114.26 951.015 117.316 946.432 Q120.394 941.826 126.205 941.826 Z\" fill=\"#000000\" fill-rule=\"evenodd\" fill-opacity=\"1\" /><path clip-path=\"url(#clip990)\" d=\"M146.366 971.131 L151.251 971.131 L151.251 977.011 L146.366 977.011 L146.366 971.131 Z\" fill=\"#000000\" fill-rule=\"evenodd\" fill-opacity=\"1\" /><path clip-path=\"url(#clip990)\" d=\"M160.255 942.451 L182.477 942.451 L182.477 944.441 L169.931 977.011 L165.047 977.011 L176.852 946.386 L160.255 946.386 L160.255 942.451 Z\" fill=\"#000000\" fill-rule=\"evenodd\" fill-opacity=\"1\" /><path clip-path=\"url(#clip990)\" d=\"M204.445 946.525 L192.639 964.974 L204.445 964.974 L204.445 946.525 M203.218 942.451 L209.098 942.451 L209.098 964.974 L214.028 964.974 L214.028 968.862 L209.098 968.862 L209.098 977.011 L204.445 977.011 L204.445 968.862 L188.843 968.862 L188.843 964.349 L203.218 942.451 Z\" fill=\"#000000\" fill-rule=\"evenodd\" fill-opacity=\"1\" /><path clip-path=\"url(#clip990)\" d=\"M126.529 667.92 Q122.918 667.92 121.089 671.485 Q119.283 675.026 119.283 682.156 Q119.283 689.262 121.089 692.827 Q122.918 696.369 126.529 696.369 Q130.163 696.369 131.968 692.827 Q133.797 689.262 133.797 682.156 Q133.797 675.026 131.968 671.485 Q130.163 667.92 126.529 667.92 M126.529 664.216 Q132.339 664.216 135.394 668.823 Q138.473 673.406 138.473 682.156 Q138.473 690.883 135.394 695.489 Q132.339 700.072 126.529 700.072 Q120.718 700.072 117.64 695.489 Q114.584 690.883 114.584 682.156 Q114.584 673.406 117.64 668.823 Q120.718 664.216 126.529 664.216 Z\" fill=\"#000000\" fill-rule=\"evenodd\" fill-opacity=\"1\" /><path clip-path=\"url(#clip990)\" d=\"M146.691 693.521 L151.575 693.521 L151.575 699.401 L146.691 699.401 L146.691 693.521 Z\" fill=\"#000000\" fill-rule=\"evenodd\" fill-opacity=\"1\" /><path clip-path=\"url(#clip990)\" d=\"M160.579 664.841 L182.801 664.841 L182.801 666.832 L170.255 699.401 L165.371 699.401 L177.176 668.776 L160.579 668.776 L160.579 664.841 Z\" fill=\"#000000\" fill-rule=\"evenodd\" fill-opacity=\"1\" /><path clip-path=\"url(#clip990)\" d=\"M202.5 680.258 Q199.352 680.258 197.5 682.41 Q195.672 684.563 195.672 688.313 Q195.672 692.04 197.5 694.216 Q199.352 696.369 202.5 696.369 Q205.649 696.369 207.477 694.216 Q209.329 692.04 209.329 688.313 Q209.329 684.563 207.477 682.41 Q205.649 680.258 202.5 680.258 M211.783 665.605 L211.783 669.864 Q210.024 669.031 208.218 668.591 Q206.436 668.151 204.676 668.151 Q200.047 668.151 197.593 671.276 Q195.163 674.401 194.815 680.721 Q196.181 678.707 198.241 677.642 Q200.301 676.554 202.778 676.554 Q207.987 676.554 210.996 679.725 Q214.028 682.873 214.028 688.313 Q214.028 693.637 210.88 696.855 Q207.732 700.072 202.5 700.072 Q196.505 700.072 193.334 695.489 Q190.163 690.883 190.163 682.156 Q190.163 673.961 194.051 669.1 Q197.94 664.216 204.491 664.216 Q206.25 664.216 208.033 664.563 Q209.838 664.911 211.783 665.605 Z\" fill=\"#000000\" fill-rule=\"evenodd\" fill-opacity=\"1\" /><path clip-path=\"url(#clip990)\" d=\"M126.783 390.31 Q123.172 390.31 121.343 393.875 Q119.538 397.417 119.538 404.546 Q119.538 411.653 121.343 415.218 Q123.172 418.759 126.783 418.759 Q130.417 418.759 132.223 415.218 Q134.052 411.653 134.052 404.546 Q134.052 397.417 132.223 393.875 Q130.417 390.31 126.783 390.31 M126.783 386.607 Q132.593 386.607 135.649 391.213 Q138.728 395.796 138.728 404.546 Q138.728 413.273 135.649 417.88 Q132.593 422.463 126.783 422.463 Q120.973 422.463 117.894 417.88 Q114.839 413.273 114.839 404.546 Q114.839 395.796 117.894 391.213 Q120.973 386.607 126.783 386.607 Z\" fill=\"#000000\" fill-rule=\"evenodd\" fill-opacity=\"1\" /><path clip-path=\"url(#clip990)\" d=\"M146.945 415.912 L151.829 415.912 L151.829 421.792 L146.945 421.792 L146.945 415.912 Z\" fill=\"#000000\" fill-rule=\"evenodd\" fill-opacity=\"1\" /><path clip-path=\"url(#clip990)\" d=\"M160.834 387.232 L183.056 387.232 L183.056 389.222 L170.51 421.792 L165.626 421.792 L177.431 391.167 L160.834 391.167 L160.834 387.232 Z\" fill=\"#000000\" fill-rule=\"evenodd\" fill-opacity=\"1\" /><path clip-path=\"url(#clip990)\" d=\"M202.176 405.38 Q198.843 405.38 196.922 407.162 Q195.024 408.944 195.024 412.069 Q195.024 415.194 196.922 416.977 Q198.843 418.759 202.176 418.759 Q205.51 418.759 207.431 416.977 Q209.352 415.171 209.352 412.069 Q209.352 408.944 207.431 407.162 Q205.533 405.38 202.176 405.38 M197.5 403.389 Q194.491 402.648 192.801 400.588 Q191.135 398.528 191.135 395.565 Q191.135 391.421 194.075 389.014 Q197.037 386.607 202.176 386.607 Q207.338 386.607 210.278 389.014 Q213.218 391.421 213.218 395.565 Q213.218 398.528 211.528 400.588 Q209.861 402.648 206.875 403.389 Q210.255 404.176 212.13 406.468 Q214.028 408.759 214.028 412.069 Q214.028 417.093 210.949 419.778 Q207.894 422.463 202.176 422.463 Q196.459 422.463 193.38 419.778 Q190.325 417.093 190.325 412.069 Q190.325 408.759 192.223 406.468 Q194.121 404.176 197.5 403.389 M195.787 396.005 Q195.787 398.69 197.454 400.195 Q199.144 401.699 202.176 401.699 Q205.186 401.699 206.875 400.195 Q208.588 398.69 208.588 396.005 Q208.588 393.32 206.875 391.815 Q205.186 390.31 202.176 390.31 Q199.144 390.31 197.454 391.815 Q195.787 393.32 195.787 396.005 Z\" fill=\"#000000\" fill-rule=\"evenodd\" fill-opacity=\"1\" /><path clip-path=\"url(#clip990)\" d=\"M126.691 112.701 Q123.08 112.701 121.251 116.266 Q119.445 119.807 119.445 126.937 Q119.445 134.043 121.251 137.608 Q123.08 141.15 126.691 141.15 Q130.325 141.15 132.13 137.608 Q133.959 134.043 133.959 126.937 Q133.959 119.807 132.13 116.266 Q130.325 112.701 126.691 112.701 M126.691 108.997 Q132.501 108.997 135.556 113.604 Q138.635 118.187 138.635 126.937 Q138.635 135.664 135.556 140.27 Q132.501 144.853 126.691 144.853 Q120.88 144.853 117.802 140.27 Q114.746 135.664 114.746 126.937 Q114.746 118.187 117.802 113.604 Q120.88 108.997 126.691 108.997 Z\" fill=\"#000000\" fill-rule=\"evenodd\" fill-opacity=\"1\" /><path clip-path=\"url(#clip990)\" d=\"M146.853 138.303 L151.737 138.303 L151.737 144.182 L146.853 144.182 L146.853 138.303 Z\" fill=\"#000000\" fill-rule=\"evenodd\" fill-opacity=\"1\" /><path clip-path=\"url(#clip990)\" d=\"M171.922 127.77 Q168.589 127.77 166.667 129.553 Q164.769 131.335 164.769 134.46 Q164.769 137.585 166.667 139.367 Q168.589 141.15 171.922 141.15 Q175.255 141.15 177.176 139.367 Q179.098 137.562 179.098 134.46 Q179.098 131.335 177.176 129.553 Q175.278 127.77 171.922 127.77 M167.246 125.779 Q164.237 125.039 162.547 122.979 Q160.88 120.918 160.88 117.955 Q160.88 113.812 163.82 111.405 Q166.783 108.997 171.922 108.997 Q177.084 108.997 180.024 111.405 Q182.963 113.812 182.963 117.955 Q182.963 120.918 181.274 122.979 Q179.607 125.039 176.621 125.779 Q180.001 126.567 181.876 128.858 Q183.774 131.15 183.774 134.46 Q183.774 139.483 180.695 142.168 Q177.639 144.853 171.922 144.853 Q166.204 144.853 163.126 142.168 Q160.07 139.483 160.07 134.46 Q160.07 131.15 161.968 128.858 Q163.866 126.567 167.246 125.779 M165.533 118.395 Q165.533 121.08 167.2 122.585 Q168.889 124.09 171.922 124.09 Q174.931 124.09 176.621 122.585 Q178.334 121.08 178.334 118.395 Q178.334 115.71 176.621 114.205 Q174.931 112.701 171.922 112.701 Q168.889 112.701 167.2 114.205 Q165.533 115.71 165.533 118.395 Z\" fill=\"#000000\" fill-rule=\"evenodd\" fill-opacity=\"1\" /><path clip-path=\"url(#clip990)\" d=\"M202.084 112.701 Q198.473 112.701 196.644 116.266 Q194.838 119.807 194.838 126.937 Q194.838 134.043 196.644 137.608 Q198.473 141.15 202.084 141.15 Q205.718 141.15 207.524 137.608 Q209.352 134.043 209.352 126.937 Q209.352 119.807 207.524 116.266 Q205.718 112.701 202.084 112.701 M202.084 108.997 Q207.894 108.997 210.949 113.604 Q214.028 118.187 214.028 126.937 Q214.028 135.664 210.949 140.27 Q207.894 144.853 202.084 144.853 Q196.274 144.853 193.195 140.27 Q190.139 135.664 190.139 126.937 Q190.139 118.187 193.195 113.604 Q196.274 108.997 202.084 108.997 Z\" fill=\"#000000\" fill-rule=\"evenodd\" fill-opacity=\"1\" /><path clip-path=\"url(#clip990)\" d=\"M29.7248 1177.58 L35.1993 1177.58 Q33.8307 1180.06 33.1623 1182.58 Q32.4621 1185.06 32.4621 1187.61 Q32.4621 1193.31 36.0905 1196.46 Q39.6872 1199.61 46.212 1199.61 Q52.7369 1199.61 56.3653 1196.46 Q59.9619 1193.31 59.9619 1187.61 Q59.9619 1185.06 59.2935 1182.58 Q58.5933 1180.06 57.2247 1177.58 L62.6355 1177.58 Q63.7814 1180.03 64.3543 1182.67 Q64.9272 1185.28 64.9272 1188.24 Q64.9272 1196.3 59.8664 1201.04 Q54.8057 1205.78 46.212 1205.78 Q37.491 1205.78 32.4939 1201.01 Q27.4968 1196.2 27.4968 1187.86 Q27.4968 1185.16 28.0697 1182.58 Q28.6108 1180 29.7248 1177.58 Z\" fill=\"#000000\" fill-rule=\"evenodd\" fill-opacity=\"1\" /><path clip-path=\"url(#clip990)\" d=\"M33.8307 1146.74 Q33.2578 1147.73 33.0032 1148.9 Q32.7167 1150.05 32.7167 1151.45 Q32.7167 1156.42 35.9632 1159.09 Q39.1779 1161.73 45.2253 1161.73 L64.0042 1161.73 L64.0042 1167.62 L28.3562 1167.62 L28.3562 1161.73 L33.8944 1161.73 Q30.6479 1159.89 29.0883 1156.93 Q27.4968 1153.97 27.4968 1149.73 Q27.4968 1149.13 27.5923 1148.4 Q27.656 1147.66 27.8151 1146.77 L33.8307 1146.74 Z\" fill=\"#000000\" fill-rule=\"evenodd\" fill-opacity=\"1\" /><path clip-path=\"url(#clip990)\" d=\"M32.4621 1128.22 Q32.4621 1132.93 36.1542 1135.66 Q39.8145 1138.4 46.212 1138.4 Q52.6095 1138.4 56.3017 1135.7 Q59.9619 1132.96 59.9619 1128.22 Q59.9619 1123.54 56.2698 1120.8 Q52.5777 1118.06 46.212 1118.06 Q39.8781 1118.06 36.186 1120.8 Q32.4621 1123.54 32.4621 1128.22 M27.4968 1128.22 Q27.4968 1120.58 32.4621 1116.22 Q37.4273 1111.86 46.212 1111.86 Q54.9649 1111.86 59.9619 1116.22 Q64.9272 1120.58 64.9272 1128.22 Q64.9272 1135.89 59.9619 1140.25 Q54.9649 1144.58 46.212 1144.58 Q37.4273 1144.58 32.4621 1140.25 Q27.4968 1135.89 27.4968 1128.22 Z\" fill=\"#000000\" fill-rule=\"evenodd\" fill-opacity=\"1\" /><path clip-path=\"url(#clip990)\" d=\"M29.4065 1079.42 L34.9447 1079.42 Q33.6716 1081.91 33.035 1084.58 Q32.3984 1087.25 32.3984 1090.12 Q32.3984 1094.48 33.7352 1096.67 Q35.072 1098.84 37.7456 1098.84 Q39.7826 1098.84 40.9603 1097.28 Q42.1061 1095.72 43.1565 1091.01 L43.6021 1089 Q44.9389 1082.76 47.3897 1080.16 Q49.8086 1077.51 54.1691 1077.51 Q59.1344 1077.51 62.0308 1081.46 Q64.9272 1085.37 64.9272 1092.25 Q64.9272 1095.11 64.3543 1098.23 Q63.8132 1101.32 62.6992 1104.76 L56.6518 1104.76 Q58.3387 1101.51 59.198 1098.36 Q60.0256 1095.21 60.0256 1092.12 Q60.0256 1087.98 58.6251 1085.76 Q57.1929 1083.53 54.6147 1083.53 Q52.2276 1083.53 50.9545 1085.15 Q49.6813 1086.74 48.5037 1092.19 L48.0262 1094.22 Q46.8804 1099.67 44.5251 1102.08 Q42.138 1104.5 38.0002 1104.5 Q32.9713 1104.5 30.2341 1100.94 Q27.4968 1097.37 27.4968 1090.82 Q27.4968 1087.57 27.9743 1084.71 Q28.4517 1081.84 29.4065 1079.42 Z\" fill=\"#000000\" fill-rule=\"evenodd\" fill-opacity=\"1\" /><path clip-path=\"url(#clip990)\" d=\"M29.4065 1045.46 L34.9447 1045.46 Q33.6716 1047.94 33.035 1050.62 Q32.3984 1053.29 32.3984 1056.16 Q32.3984 1060.52 33.7352 1062.71 Q35.072 1064.88 37.7456 1064.88 Q39.7826 1064.88 40.9603 1063.32 Q42.1061 1061.76 43.1565 1057.05 L43.6021 1055.04 Q44.9389 1048.8 47.3897 1046.19 Q49.8086 1043.55 54.1691 1043.55 Q59.1344 1043.55 62.0308 1047.5 Q64.9272 1051.41 64.9272 1058.29 Q64.9272 1061.15 64.3543 1064.27 Q63.8132 1067.36 62.6992 1070.8 L56.6518 1070.8 Q58.3387 1067.55 59.198 1064.4 Q60.0256 1061.25 60.0256 1058.16 Q60.0256 1054.02 58.6251 1051.8 Q57.1929 1049.57 54.6147 1049.57 Q52.2276 1049.57 50.9545 1051.19 Q49.6813 1052.78 48.5037 1058.23 L48.0262 1060.26 Q46.8804 1065.7 44.5251 1068.12 Q42.138 1070.54 38.0002 1070.54 Q32.9713 1070.54 30.2341 1066.98 Q27.4968 1063.41 27.4968 1056.86 Q27.4968 1053.61 27.9743 1050.75 Q28.4517 1047.88 29.4065 1045.46 Z\" fill=\"#000000\" fill-rule=\"evenodd\" fill-opacity=\"1\" /><path clip-path=\"url(#clip990)\" d=\"M44.7161 983.014 L47.5806 983.014 L47.5806 1009.94 Q53.6281 1009.56 56.8109 1006.31 Q59.9619 1003.03 59.9619 997.21 Q59.9619 993.836 59.1344 990.685 Q58.3069 987.502 56.6518 984.383 L62.1899 984.383 Q63.5267 987.534 64.227 990.844 Q64.9272 994.154 64.9272 997.56 Q64.9272 1006.09 59.9619 1011.09 Q54.9967 1016.05 46.5303 1016.05 Q37.7774 1016.05 32.6531 1011.34 Q27.4968 1006.6 27.4968 998.578 Q27.4968 991.385 32.1438 987.216 Q36.7589 983.014 44.7161 983.014 M42.9973 988.871 Q38.1912 988.934 35.3266 991.576 Q32.4621 994.186 32.4621 998.515 Q32.4621 1003.42 35.2312 1006.38 Q38.0002 1009.3 43.0292 1009.75 L42.9973 988.871 Z\" fill=\"#000000\" fill-rule=\"evenodd\" fill-opacity=\"1\" /><path clip-path=\"url(#clip990)\" d=\"M42.4881 943.77 L64.0042 943.77 L64.0042 949.626 L42.679 949.626 Q37.6183 949.626 35.1038 951.6 Q32.5894 953.573 32.5894 957.52 Q32.5894 962.262 35.6131 964.999 Q38.6368 967.737 43.8567 967.737 L64.0042 967.737 L64.0042 973.625 L28.3562 973.625 L28.3562 967.737 L33.8944 967.737 Q30.6797 965.636 29.0883 962.803 Q27.4968 959.939 27.4968 956.215 Q27.4968 950.072 31.3163 946.921 Q35.1038 943.77 42.4881 943.77 Z\" fill=\"#000000\" fill-rule=\"evenodd\" fill-opacity=\"1\" /><path clip-path=\"url(#clip990)\" d=\"M18.2347 926.296 L28.3562 926.296 L28.3562 914.233 L32.9077 914.233 L32.9077 926.296 L52.2594 926.296 Q56.6199 926.296 57.8613 925.118 Q59.1026 923.909 59.1026 920.248 L59.1026 914.233 L64.0042 914.233 L64.0042 920.248 Q64.0042 927.028 61.4897 929.606 Q58.9434 932.184 52.2594 932.184 L32.9077 932.184 L32.9077 936.481 L28.3562 936.481 L28.3562 932.184 L18.2347 932.184 L18.2347 926.296 Z\" fill=\"#000000\" fill-rule=\"evenodd\" fill-opacity=\"1\" /><path clip-path=\"url(#clip990)\" d=\"M33.8307 885.874 Q33.2578 886.86 33.0032 888.038 Q32.7167 889.184 32.7167 890.584 Q32.7167 895.55 35.9632 898.223 Q39.1779 900.865 45.2253 900.865 L64.0042 900.865 L64.0042 906.753 L28.3562 906.753 L28.3562 900.865 L33.8944 900.865 Q30.6479 899.019 29.0883 896.059 Q27.4968 893.099 27.4968 888.866 Q27.4968 888.261 27.5923 887.529 Q27.656 886.797 27.8151 885.905 L33.8307 885.874 Z\" fill=\"#000000\" fill-rule=\"evenodd\" fill-opacity=\"1\" /><path clip-path=\"url(#clip990)\" d=\"M32.4621 867.349 Q32.4621 872.06 36.1542 874.797 Q39.8145 877.535 46.212 877.535 Q52.6095 877.535 56.3017 874.829 Q59.9619 872.092 59.9619 867.349 Q59.9619 862.671 56.2698 859.933 Q52.5777 857.196 46.212 857.196 Q39.8781 857.196 36.186 859.933 Q32.4621 862.671 32.4621 867.349 M27.4968 867.349 Q27.4968 859.711 32.4621 855.35 Q37.4273 850.99 46.212 850.99 Q54.9649 850.99 59.9619 855.35 Q64.9272 859.711 64.9272 867.349 Q64.9272 875.02 59.9619 879.381 Q54.9649 883.709 46.212 883.709 Q37.4273 883.709 32.4621 879.381 Q27.4968 875.02 27.4968 867.349 Z\" fill=\"#000000\" fill-rule=\"evenodd\" fill-opacity=\"1\" /><path clip-path=\"url(#clip990)\" d=\"M58.657 835.616 L77.5631 835.616 L77.5631 841.505 L28.3562 841.505 L28.3562 835.616 L33.7671 835.616 Q30.5842 833.77 29.0564 830.969 Q27.4968 828.137 27.4968 824.222 Q27.4968 817.729 32.6531 813.687 Q37.8093 809.612 46.212 809.612 Q54.6147 809.612 59.771 813.687 Q64.9272 817.729 64.9272 824.222 Q64.9272 828.137 63.3994 830.969 Q61.8398 833.77 58.657 835.616 M46.212 815.692 Q39.7508 815.692 36.0905 818.365 Q32.3984 821.007 32.3984 825.654 Q32.3984 830.301 36.0905 832.975 Q39.7508 835.616 46.212 835.616 Q52.6732 835.616 56.3653 832.975 Q60.0256 830.301 60.0256 825.654 Q60.0256 821.007 56.3653 818.365 Q52.6732 815.692 46.212 815.692 Z\" fill=\"#000000\" fill-rule=\"evenodd\" fill-opacity=\"1\" /><path clip-path=\"url(#clip990)\" d=\"M67.3143 785.073 Q73.68 787.555 75.6216 789.911 Q77.5631 792.266 77.5631 796.213 L77.5631 800.891 L72.6615 800.891 L72.6615 797.454 Q72.6615 795.035 71.5157 793.698 Q70.3699 792.361 66.1048 790.738 L63.4312 789.688 L28.3562 804.106 L28.3562 797.9 L56.238 786.76 L28.3562 775.62 L28.3562 769.413 L67.3143 785.073 Z\" fill=\"#000000\" fill-rule=\"evenodd\" fill-opacity=\"1\" /><path clip-path=\"url(#clip990)\" d=\"M49.9359 741.213 L28.3562 741.213 L28.3562 735.357 L49.7131 735.357 Q54.7739 735.357 57.3202 733.383 Q59.8346 731.41 59.8346 727.463 Q59.8346 722.721 56.8109 719.983 Q53.7872 717.214 48.5673 717.214 L28.3562 717.214 L28.3562 711.358 L64.0042 711.358 L64.0042 717.214 L58.5296 717.214 Q61.7762 719.347 63.3676 722.179 Q64.9272 724.98 64.9272 728.704 Q64.9272 734.847 61.1078 738.03 Q57.2883 741.213 49.9359 741.213 M27.4968 726.476 L27.4968 726.476 Z\" fill=\"#000000\" fill-rule=\"evenodd\" fill-opacity=\"1\" /><path clip-path=\"url(#clip990)\" d=\"M29.4065 676.569 L34.9447 676.569 Q33.6716 679.052 33.035 681.725 Q32.3984 684.399 32.3984 687.264 Q32.3984 691.624 33.7352 693.82 Q35.072 695.985 37.7456 695.985 Q39.7826 695.985 40.9603 694.425 Q42.1061 692.865 43.1565 688.155 L43.6021 686.15 Q44.9389 679.911 47.3897 677.301 Q49.8086 674.659 54.1691 674.659 Q59.1344 674.659 62.0308 678.606 Q64.9272 682.521 64.9272 689.396 Q64.9272 692.261 64.3543 695.38 Q63.8132 698.467 62.6992 701.905 L56.6518 701.905 Q58.3387 698.658 59.198 695.507 Q60.0256 692.356 60.0256 689.269 Q60.0256 685.131 58.6251 682.903 Q57.1929 680.675 54.6147 680.675 Q52.2276 680.675 50.9545 682.298 Q49.6813 683.89 48.5037 689.332 L48.0262 691.369 Q46.8804 696.812 44.5251 699.231 Q42.138 701.65 38.0002 701.65 Q32.9713 701.65 30.2341 698.085 Q27.4968 694.52 27.4968 687.964 Q27.4968 684.717 27.9743 681.853 Q28.4517 678.988 29.4065 676.569 Z\" fill=\"#000000\" fill-rule=\"evenodd\" fill-opacity=\"1\" /><path clip-path=\"url(#clip990)\" d=\"M28.3562 665.334 L28.3562 659.477 L64.0042 659.477 L64.0042 665.334 L28.3562 665.334 M14.479 665.334 L14.479 659.477 L21.895 659.477 L21.895 665.334 L14.479 665.334 Z\" fill=\"#000000\" fill-rule=\"evenodd\" fill-opacity=\"1\" /><path clip-path=\"url(#clip990)\" d=\"M42.4881 617.591 L64.0042 617.591 L64.0042 623.447 L42.679 623.447 Q37.6183 623.447 35.1038 625.421 Q32.5894 627.394 32.5894 631.341 Q32.5894 636.083 35.6131 638.821 Q38.6368 641.558 43.8567 641.558 L64.0042 641.558 L64.0042 647.446 L28.3562 647.446 L28.3562 641.558 L33.8944 641.558 Q30.6797 639.457 29.0883 636.624 Q27.4968 633.76 27.4968 630.036 Q27.4968 623.893 31.3163 620.742 Q35.1038 617.591 42.4881 617.591 Z\" fill=\"#000000\" fill-rule=\"evenodd\" fill-opacity=\"1\" /><path clip-path=\"url(#clip990)\" d=\"M45.7664 582.452 Q39.4007 582.452 35.8996 585.094 Q32.3984 587.704 32.3984 592.446 Q32.3984 597.157 35.8996 599.799 Q39.4007 602.409 45.7664 602.409 Q52.1003 602.409 55.6014 599.799 Q59.1026 597.157 59.1026 592.446 Q59.1026 587.704 55.6014 585.094 Q52.1003 582.452 45.7664 582.452 M59.58 576.596 Q68.683 576.596 73.1071 580.638 Q77.5631 584.68 77.5631 593.019 Q77.5631 596.107 77.0857 598.844 Q76.6401 601.581 75.6852 604.159 L69.9879 604.159 Q71.3884 601.581 72.0568 599.067 Q72.7252 596.552 72.7252 593.942 Q72.7252 588.181 69.7015 585.317 Q66.7096 582.452 60.6303 582.452 L57.7339 582.452 Q60.885 584.266 62.4446 587.099 Q64.0042 589.932 64.0042 593.879 Q64.0042 600.435 59.0071 604.446 Q54.01 608.456 45.7664 608.456 Q37.491 608.456 32.4939 604.446 Q27.4968 600.435 27.4968 593.879 Q27.4968 589.932 29.0564 587.099 Q30.616 584.266 33.7671 582.452 L28.3562 582.452 L28.3562 576.596 L59.58 576.596 Z\" fill=\"#000000\" fill-rule=\"evenodd\" fill-opacity=\"1\" /><path clip-path=\"url(#clip990)\" d=\"M37.682 528.439 Q37.682 532.768 40.642 535.314 Q43.6021 537.829 48.7583 537.829 Q53.8827 537.829 56.8746 535.314 Q59.8346 532.768 59.8346 528.439 Q59.8346 524.111 56.8746 521.596 Q53.8827 519.05 48.7583 519.05 Q43.6021 519.05 40.642 521.596 Q37.682 524.111 37.682 528.439 M17.5345 515.676 L23.3909 515.676 Q22.2451 518.095 21.6404 520.578 Q21.0356 523.028 21.0356 525.447 Q21.0356 531.813 25.3325 535.187 Q29.6293 538.529 38.3185 539.006 Q35.5494 537.128 34.0853 534.296 Q32.5894 531.463 32.5894 528.057 Q32.5894 520.896 36.9499 516.758 Q41.2786 512.589 48.7583 512.589 Q56.0789 512.589 60.503 516.917 Q64.9272 521.246 64.9272 528.439 Q64.9272 536.683 58.6251 541.043 Q52.2913 545.404 40.2919 545.404 Q29.0246 545.404 22.3406 540.057 Q15.6248 534.709 15.6248 525.702 Q15.6248 523.283 16.1022 520.832 Q16.5796 518.35 17.5345 515.676 Z\" fill=\"#000000\" fill-rule=\"evenodd\" fill-opacity=\"1\" /><path clip-path=\"url(#clip990)\" d=\"M43.5384 505.3 L43.5384 488.144 L48.7583 488.144 L48.7583 505.3 L43.5384 505.3 Z\" fill=\"#000000\" fill-rule=\"evenodd\" fill-opacity=\"1\" /><path clip-path=\"url(#clip990)\" d=\"M14.479 460.772 L19.3487 460.772 L19.3487 466.374 Q19.3487 469.525 20.6219 470.766 Q21.895 471.975 25.2052 471.975 L28.3562 471.975 L28.3562 462.331 L32.9077 462.331 L32.9077 471.975 L64.0042 471.975 L64.0042 477.864 L32.9077 477.864 L32.9077 483.465 L28.3562 483.465 L28.3562 477.864 L25.8736 477.864 Q19.9216 477.864 17.2162 475.095 Q14.479 472.326 14.479 466.31 L14.479 460.772 Z\" fill=\"#000000\" fill-rule=\"evenodd\" fill-opacity=\"1\" /><path clip-path=\"url(#clip990)\" d=\"M32.4621 442.057 Q32.4621 446.767 36.1542 449.504 Q39.8145 452.242 46.212 452.242 Q52.6095 452.242 56.3017 449.536 Q59.9619 446.799 59.9619 442.057 Q59.9619 437.378 56.2698 434.641 Q52.5777 431.903 46.212 431.903 Q39.8781 431.903 36.186 434.641 Q32.4621 437.378 32.4621 442.057 M27.4968 442.057 Q27.4968 434.418 32.4621 430.057 Q37.4273 425.697 46.212 425.697 Q54.9649 425.697 59.9619 430.057 Q64.9272 434.418 64.9272 442.057 Q64.9272 449.727 59.9619 454.088 Q54.9649 458.416 46.212 458.416 Q37.4273 458.416 32.4621 454.088 Q27.4968 449.727 27.4968 442.057 Z\" fill=\"#000000\" fill-rule=\"evenodd\" fill-opacity=\"1\" /><path clip-path=\"url(#clip990)\" d=\"M14.479 415.989 L14.479 410.133 L64.0042 410.133 L64.0042 415.989 L14.479 415.989 Z\" fill=\"#000000\" fill-rule=\"evenodd\" fill-opacity=\"1\" /><path clip-path=\"url(#clip990)\" d=\"M33.7671 374.421 L14.479 374.421 L14.479 368.564 L64.0042 368.564 L64.0042 374.421 L58.657 374.421 Q61.8398 376.267 63.3994 379.1 Q64.9272 381.901 64.9272 385.847 Q64.9272 392.309 59.771 396.383 Q54.6147 400.425 46.212 400.425 Q37.8093 400.425 32.6531 396.383 Q27.4968 392.309 27.4968 385.847 Q27.4968 381.901 29.0564 379.1 Q30.5842 376.267 33.7671 374.421 M46.212 394.377 Q52.6732 394.377 56.3653 391.736 Q60.0256 389.062 60.0256 384.415 Q60.0256 379.768 56.3653 377.095 Q52.6732 374.421 46.212 374.421 Q39.7508 374.421 36.0905 377.095 Q32.3984 379.768 32.3984 384.415 Q32.3984 389.062 36.0905 391.736 Q39.7508 394.377 46.212 394.377 Z\" fill=\"#000000\" fill-rule=\"evenodd\" fill-opacity=\"1\" /><path clip-path=\"url(#clip990)\" d=\"M20.1444 299.942 L26.9239 299.942 Q23.9002 303.189 22.4043 306.881 Q20.9083 310.541 20.9083 314.679 Q20.9083 322.827 25.9054 327.156 Q30.8707 331.484 40.2919 331.484 Q49.6813 331.484 54.6784 327.156 Q59.6436 322.827 59.6436 314.679 Q59.6436 310.541 58.1477 306.881 Q56.6518 303.189 53.6281 299.942 L60.3439 299.942 Q62.6355 303.316 63.7814 307.104 Q64.9272 310.859 64.9272 315.061 Q64.9272 325.851 58.3387 332.057 Q51.7183 338.264 40.2919 338.264 Q28.8336 338.264 22.2451 332.057 Q15.6248 325.851 15.6248 315.061 Q15.6248 310.796 16.7706 307.04 Q17.8846 303.252 20.1444 299.942 Z\" fill=\"#000000\" fill-rule=\"evenodd\" fill-opacity=\"1\" /><path clip-path=\"url(#clip990)\" d=\"M64.0042 277.758 L16.4842 295.9 L16.4842 289.184 L56.4926 274.129 L16.4842 259.043 L16.4842 252.359 L64.0042 270.469 L64.0042 277.758 Z\" fill=\"#000000\" fill-rule=\"evenodd\" fill-opacity=\"1\" /><polyline clip-path=\"url(#clip992)\" style=\"stroke:#009af9; stroke-linecap:butt; stroke-linejoin:round; stroke-width:4; stroke-opacity:1; fill:none\" points=\"\n",
       "  309.539,85.838 377.943,155.881 446.347,238.346 514.75,332.008 583.154,434.093 651.557,539.862 719.961,641.343 788.365,727.348 856.768,792.924 925.172,843.932 \n",
       "  993.576,887.614 1061.98,928.637 1130.38,969.778 1198.79,1012.7 1267.19,1058.3 1335.59,1106.72 1404,1157.35 1472.4,1208.74 1540.8,1258.56 1609.21,1303.72 \n",
       "  1677.61,1340.49 1746.02,1364.78 1814.42,1372.3 1882.82,1358.86 1951.23,1320.49 2019.63,1253.71 2088.03,1155.78 2156.44,1025.1 2224.84,861.555 2293.24,666.692 \n",
       "  \n",
       "  \"/>\n",
       "<path clip-path=\"url(#clip990)\" d=\"\n",
       "M1996.6 196.379 L2282.66 196.379 L2282.66 92.6992 L1996.6 92.6992  Z\n",
       "  \" fill=\"#ffffff\" fill-rule=\"evenodd\" fill-opacity=\"1\"/>\n",
       "<polyline clip-path=\"url(#clip990)\" style=\"stroke:#000000; stroke-linecap:butt; stroke-linejoin:round; stroke-width:4; stroke-opacity:1; fill:none\" points=\"\n",
       "  1996.6,196.379 2282.66,196.379 2282.66,92.6992 1996.6,92.6992 1996.6,196.379 \n",
       "  \"/>\n",
       "<polyline clip-path=\"url(#clip990)\" style=\"stroke:#009af9; stroke-linecap:butt; stroke-linejoin:round; stroke-width:4; stroke-opacity:1; fill:none\" points=\"\n",
       "  2019.96,144.539 2160.14,144.539 \n",
       "  \"/>\n",
       "<path clip-path=\"url(#clip990)\" d=\"M2197.35 164.227 Q2195.54 168.856 2193.83 170.268 Q2192.12 171.68 2189.25 171.68 L2185.85 171.68 L2185.85 168.115 L2188.35 168.115 Q2190.1 168.115 2191.08 167.282 Q2192.05 166.449 2193.23 163.347 L2193.99 161.403 L2183.51 135.893 L2188.02 135.893 L2196.12 156.171 L2204.22 135.893 L2208.74 135.893 L2197.35 164.227 Z\" fill=\"#000000\" fill-rule=\"evenodd\" fill-opacity=\"1\" /><path clip-path=\"url(#clip990)\" d=\"M2216.03 157.884 L2223.67 157.884 L2223.67 131.518 L2215.36 133.185 L2215.36 128.926 L2223.62 127.259 L2228.3 127.259 L2228.3 157.884 L2235.94 157.884 L2235.94 161.819 L2216.03 161.819 L2216.03 157.884 Z\" fill=\"#000000\" fill-rule=\"evenodd\" fill-opacity=\"1\" /></svg>\n"
      ]
     },
     "execution_count": 7,
     "metadata": {},
     "output_type": "execute_result"
    }
   ],
   "source": [
    "_, _, lambdas, losses = learning_curve(mach,\n",
    "                                       range=r,\n",
    "                                       resampling=CV(nfolds=6),\n",
    "                                       resolution=30, # default\n",
    "                                       measure=cross_entropy)\n",
    "plt=plot(lambdas, losses, xscale=:log10)\n",
    "xlabel!(plt, \"lambda\")\n",
    "ylabel!(plt, \"cross entropy using 6-fold CV\")"
   ]
  },
  {
   "cell_type": "markdown",
   "metadata": {},
   "source": [
    "So here we see that the ideal lambda is right around $\\lambda=10$"
   ]
  },
  {
   "cell_type": "code",
   "execution_count": 8,
   "metadata": {},
   "outputs": [
    {
     "data": {
      "text/plain": [
       "10.826367338740546"
      ]
     },
     "execution_count": 8,
     "metadata": {},
     "output_type": "execute_result"
    }
   ],
   "source": [
    "best_lambda = lambdas[argmin(losses)]"
   ]
  },
  {
   "cell_type": "markdown",
   "metadata": {},
   "source": [
    "# Self tuning models"
   ]
  },
  {
   "cell_type": "markdown",
   "metadata": {},
   "source": [
    "We can *wrap* the model to make a new model that tunes specified hyper-parameters before training on all of the supplied data. \n",
    "\n",
    "Calling `predict()` on a tuned model calls predict on the hyper-parameter optimized *best* model. "
   ]
  },
  {
   "cell_type": "code",
   "execution_count": 9,
   "metadata": {},
   "outputs": [
    {
     "data": {
      "text/plain": [
       "RandomSearch(\n",
       "    bounded = Distributions.Uniform,\n",
       "    positive_unbounded = Distributions.Gamma,\n",
       "    other = Distributions.Normal,\n",
       "    rng = Random.MersenneTwister(42))"
      ]
     },
     "execution_count": 9,
     "metadata": {},
     "output_type": "execute_result"
    }
   ],
   "source": [
    "tuning = RandomSearch(rng=42)"
   ]
  },
  {
   "cell_type": "markdown",
   "metadata": {},
   "source": [
    "to specify which hyperparameters we want to fit, we use the `range()` method (note: this can be unbounded!)"
   ]
  },
  {
   "cell_type": "code",
   "execution_count": 10,
   "metadata": {},
   "outputs": [
    {
     "data": {
      "text/plain": [
       "NumericRange(0.0 ≤ logistic_classifier.lambda ≤ Inf; origin=6.0, unit=5.0) on log10 scale"
      ]
     },
     "execution_count": 10,
     "metadata": {},
     "output_type": "execute_result"
    }
   ],
   "source": [
    "r = range(model,\n",
    "    :(logistic_classifier.lambda),\n",
    "    lower=0,\n",
    "    origin=6,\n",
    "    unit=5,\n",
    "    scale=:log10\n",
    ")"
   ]
  },
  {
   "cell_type": "code",
   "execution_count": 11,
   "metadata": {},
   "outputs": [
    {
     "data": {
      "text/plain": [
       "NominalRange(continuous_encoder.one_hot_ordered_factors = true, false)"
      ]
     },
     "execution_count": 11,
     "metadata": {},
     "output_type": "execute_result"
    }
   ],
   "source": [
    "# example for non-continuous parameters\n",
    "\n",
    "s  = range(model, :(continuous_encoder.one_hot_ordered_factors),\n",
    "           values = [true, false])"
   ]
  },
  {
   "cell_type": "markdown",
   "metadata": {},
   "source": [
    "now we can create the wrapper to get a tunedmodel with the two ranges"
   ]
  },
  {
   "cell_type": "code",
   "execution_count": 12,
   "metadata": {},
   "outputs": [
    {
     "data": {
      "text/plain": [
       "ProbabilisticTunedModel(\n",
       "    model = Pipeline277(\n",
       "            continuous_encoder = ContinuousEncoder,\n",
       "            standardizer = Standardizer,\n",
       "            logistic_classifier = LogisticClassifier),\n",
       "    tuning = RandomSearch(\n",
       "            bounded = Distributions.Uniform,\n",
       "            positive_unbounded = Distributions.Gamma,\n",
       "            other = Distributions.Normal,\n",
       "            rng = Random.MersenneTwister(42)),\n",
       "    resampling = CV(\n",
       "            nfolds = 6,\n",
       "            shuffle = false,\n",
       "            rng = Random._GLOBAL_RNG()),\n",
       "    measure = LogLoss(tol = 2.220446049250313e-16),\n",
       "    weights = nothing,\n",
       "    operation = nothing,\n",
       "    range = MLJBase.ParamRange[NumericRange(0.0 ≤ logistic_classifier.lambda ≤ Inf; origin=6.0, unit=5.0) on log10 scale, NominalRange(continuous_encoder.one_hot_ordered_factors = true, false)],\n",
       "    selection_heuristic = MLJTuning.NaiveSelection(nothing),\n",
       "    train_best = true,\n",
       "    repeats = 1,\n",
       "    n = 15,\n",
       "    acceleration = CPU1{Nothing}(nothing),\n",
       "    acceleration_resampling = CPU1{Nothing}(nothing),\n",
       "    check_measure = true,\n",
       "    cache = true)"
      ]
     },
     "execution_count": 12,
     "metadata": {},
     "output_type": "execute_result"
    }
   ],
   "source": [
    "# do 15 different models and find best hyperparam combination\n",
    "tuned_model = TunedModel(model=model,\n",
    "    ranges=[r, s], \n",
    "    resampling=CV(nfolds=6),\n",
    "    measures=cross_entropy,\n",
    "    tuning=tuning,\n",
    "    n=15\n",
    ")"
   ]
  },
  {
   "cell_type": "code",
   "execution_count": 13,
   "metadata": {},
   "outputs": [
    {
     "name": "stderr",
     "output_type": "stream",
     "text": [
      "┌ Info: Training Machine{ProbabilisticTunedModel{RandomSearch,…},…}.\n",
      "└ @ MLJBase /home/john/.julia/packages/MLJBase/QXObv/src/machines.jl:403\n",
      "┌ Info: Attempting to evaluate 15 models.\n",
      "└ @ MLJTuning /home/john/.julia/packages/MLJTuning/bjRHJ/src/tuned_models.jl:680\n",
      "\u001b[33mEvaluating over 15 metamodels:   0%[>                        ]  ETA: N/A\u001b[39m┌ Warning: Extremely small standard deviation encountered in standardization.\n",
      "└ @ MLJModels /home/john/.julia/packages/MLJModels/GKDnU/src/builtins/Transformers.jl:500\n",
      "\u001b[33mEvaluating over 15 metamodels:   7%[=>                       ]  ETA: 0:00:14\u001b[39m┌ Warning: Extremely small standard deviation encountered in standardization.\n",
      "└ @ MLJModels /home/john/.julia/packages/MLJModels/GKDnU/src/builtins/Transformers.jl:500\n",
      "\u001b[33mEvaluating over 15 metamodels:  13%[===>                     ]  ETA: 0:00:07\u001b[39m┌ Warning: Extremely small standard deviation encountered in standardization.\n",
      "└ @ MLJModels /home/john/.julia/packages/MLJModels/GKDnU/src/builtins/Transformers.jl:500\n",
      "\u001b[33mEvaluating over 15 metamodels:  20%[=====>                   ]  ETA: 0:00:05\u001b[39m┌ Warning: Extremely small standard deviation encountered in standardization.\n",
      "└ @ MLJModels /home/john/.julia/packages/MLJModels/GKDnU/src/builtins/Transformers.jl:500\n",
      "\u001b[33mEvaluating over 15 metamodels:  27%[======>                  ]  ETA: 0:00:04\u001b[39m┌ Warning: Extremely small standard deviation encountered in standardization.\n",
      "└ @ MLJModels /home/john/.julia/packages/MLJModels/GKDnU/src/builtins/Transformers.jl:500\n",
      "\u001b[33mEvaluating over 15 metamodels:  33%[========>                ]  ETA: 0:00:03\u001b[39m┌ Warning: Extremely small standard deviation encountered in standardization.\n",
      "└ @ MLJModels /home/john/.julia/packages/MLJModels/GKDnU/src/builtins/Transformers.jl:500\n",
      "\u001b[33mEvaluating over 15 metamodels:  40%[==========>              ]  ETA: 0:00:02\u001b[39m┌ Warning: Extremely small standard deviation encountered in standardization.\n",
      "└ @ MLJModels /home/john/.julia/packages/MLJModels/GKDnU/src/builtins/Transformers.jl:500\n",
      "\u001b[33mEvaluating over 15 metamodels:  47%[===========>             ]  ETA: 0:00:02\u001b[39m┌ Warning: Extremely small standard deviation encountered in standardization.\n",
      "└ @ MLJModels /home/john/.julia/packages/MLJModels/GKDnU/src/builtins/Transformers.jl:500\n",
      "\u001b[33mEvaluating over 15 metamodels:  53%[=============>           ]  ETA: 0:00:02\u001b[39m┌ Warning: Extremely small standard deviation encountered in standardization.\n",
      "└ @ MLJModels /home/john/.julia/packages/MLJModels/GKDnU/src/builtins/Transformers.jl:500\n",
      "\u001b[33mEvaluating over 15 metamodels:  60%[===============>         ]  ETA: 0:00:01\u001b[39m┌ Warning: Extremely small standard deviation encountered in standardization.\n",
      "└ @ MLJModels /home/john/.julia/packages/MLJModels/GKDnU/src/builtins/Transformers.jl:500\n",
      "\u001b[33mEvaluating over 15 metamodels:  67%[================>        ]  ETA: 0:00:01\u001b[39m┌ Warning: Extremely small standard deviation encountered in standardization.\n",
      "└ @ MLJModels /home/john/.julia/packages/MLJModels/GKDnU/src/builtins/Transformers.jl:500\n",
      "\u001b[33mEvaluating over 15 metamodels:  73%[==================>      ]  ETA: 0:00:01\u001b[39m┌ Warning: Extremely small standard deviation encountered in standardization.\n",
      "└ @ MLJModels /home/john/.julia/packages/MLJModels/GKDnU/src/builtins/Transformers.jl:500\n",
      "\u001b[33mEvaluating over 15 metamodels:  80%[====================>    ]  ETA: 0:00:01\u001b[39m┌ Warning: Extremely small standard deviation encountered in standardization.\n",
      "└ @ MLJModels /home/john/.julia/packages/MLJModels/GKDnU/src/builtins/Transformers.jl:500\n",
      "\u001b[33mEvaluating over 15 metamodels:  87%[=====================>   ]  ETA: 0:00:00\u001b[39m┌ Warning: Extremely small standard deviation encountered in standardization.\n",
      "└ @ MLJModels /home/john/.julia/packages/MLJModels/GKDnU/src/builtins/Transformers.jl:500\n",
      "\u001b[33mEvaluating over 15 metamodels:  93%[=======================> ]  ETA: 0:00:00\u001b[39m┌ Warning: Extremely small standard deviation encountered in standardization.\n",
      "└ @ MLJModels /home/john/.julia/packages/MLJModels/GKDnU/src/builtins/Transformers.jl:500\n",
      "\u001b[33mEvaluating over 15 metamodels: 100%[=========================] Time: 0:00:02\u001b[39m\n"
     ]
    }
   ],
   "source": [
    "tuned_mach = machine(tuned_model, X, y);\n",
    "fit!(tuned_mach);"
   ]
  },
  {
   "cell_type": "code",
   "execution_count": 14,
   "metadata": {},
   "outputs": [
    {
     "data": {
      "text/plain": [
       "3-element MLJBase.UnivariateFiniteVector{Multiclass{3}, Int64, UInt32, Float64}:\n",
       " UnivariateFinite{Multiclass{3}}(1=>0.541, 2=>0.289, 3=>0.169)\n",
       " UnivariateFinite{Multiclass{3}}(1=>0.688, 2=>0.0232, 3=>0.289)\n",
       " UnivariateFinite{Multiclass{3}}(1=>0.958, 2=>0.0251, 3=>0.0169)"
      ]
     },
     "execution_count": 14,
     "metadata": {},
     "output_type": "execute_result"
    }
   ],
   "source": [
    "predict(tuned_mach, rows=1:3)"
   ]
  },
  {
   "cell_type": "markdown",
   "metadata": {},
   "source": [
    "Let's look at the best model"
   ]
  },
  {
   "cell_type": "code",
   "execution_count": 15,
   "metadata": {},
   "outputs": [
    {
     "data": {
      "text/plain": [
       "Pipeline277(\n",
       "    continuous_encoder = ContinuousEncoder(\n",
       "            drop_last = false,\n",
       "            one_hot_ordered_factors = false),\n",
       "    standardizer = Standardizer(\n",
       "            features = Symbol[],\n",
       "            ignore = false,\n",
       "            ordered_factor = false,\n",
       "            count = false),\n",
       "    logistic_classifier = LogisticClassifier(\n",
       "            lambda = 9.509561592743273,\n",
       "            gamma = 0.0,\n",
       "            penalty = :l2,\n",
       "            fit_intercept = true,\n",
       "            penalize_intercept = false,\n",
       "            solver = nothing))"
      ]
     },
     "execution_count": 15,
     "metadata": {},
     "output_type": "execute_result"
    }
   ],
   "source": [
    "rep = report(tuned_mach);\n",
    "rep.best_model"
   ]
  },
  {
   "cell_type": "markdown",
   "metadata": {},
   "source": [
    "For the special case two parameters we can plot the result via a plotting recipe on the `TunedMachine`"
   ]
  },
  {
   "cell_type": "code",
   "execution_count": 16,
   "metadata": {},
   "outputs": [
    {
     "data": {
      "image/svg+xml": [
       "<?xml version=\"1.0\" encoding=\"utf-8\"?>\n",
       "<svg xmlns=\"http://www.w3.org/2000/svg\" xmlns:xlink=\"http://www.w3.org/1999/xlink\" width=\"550\" height=\"500\" viewBox=\"0 0 2200 2000\">\n",
       "<defs>\n",
       "  <clipPath id=\"clip030\">\n",
       "    <rect x=\"0\" y=\"0\" width=\"2200\" height=\"2000\"/>\n",
       "  </clipPath>\n",
       "</defs>\n",
       "<path clip-path=\"url(#clip030)\" d=\"\n",
       "M0 2000 L2200 2000 L2200 0 L0 0  Z\n",
       "  \" fill=\"#ffffff\" fill-rule=\"evenodd\" fill-opacity=\"1\"/>\n",
       "<defs>\n",
       "  <clipPath id=\"clip031\">\n",
       "    <rect x=\"440\" y=\"20\" width=\"1541\" height=\"1541\"/>\n",
       "  </clipPath>\n",
       "</defs>\n",
       "<path clip-path=\"url(#clip030)\" d=\"\n",
       "M274.706 821.232 L1057.45 821.232 L1057.45 47.2441 L274.706 47.2441  Z\n",
       "  \" fill=\"#ffffff\" fill-rule=\"evenodd\" fill-opacity=\"1\"/>\n",
       "<defs>\n",
       "  <clipPath id=\"clip032\">\n",
       "    <rect x=\"274\" y=\"47\" width=\"784\" height=\"775\"/>\n",
       "  </clipPath>\n",
       "</defs>\n",
       "<polyline clip-path=\"url(#clip032)\" style=\"stroke:#000000; stroke-linecap:butt; stroke-linejoin:round; stroke-width:2; stroke-opacity:0.1; fill:none\" points=\"\n",
       "  224.984,821.232 224.984,47.2441 \n",
       "  \"/>\n",
       "<polyline clip-path=\"url(#clip032)\" style=\"stroke:#000000; stroke-linecap:butt; stroke-linejoin:round; stroke-width:2; stroke-opacity:0.1; fill:none\" points=\"\n",
       "  2710.21,821.232 2710.21,47.2441 \n",
       "  \"/>\n",
       "<polyline clip-path=\"url(#clip032)\" style=\"stroke:#000000; stroke-linecap:butt; stroke-linejoin:round; stroke-width:2; stroke-opacity:0.1; fill:none\" points=\"\n",
       "  5195.44,821.232 5195.44,47.2441 \n",
       "  \"/>\n",
       "<polyline clip-path=\"url(#clip030)\" style=\"stroke:#000000; stroke-linecap:butt; stroke-linejoin:round; stroke-width:4; stroke-opacity:1; fill:none\" points=\"\n",
       "  274.706,821.232 1057.45,821.232 \n",
       "  \"/>\n",
       "<polyline clip-path=\"url(#clip030)\" style=\"stroke:#000000; stroke-linecap:butt; stroke-linejoin:round; stroke-width:4; stroke-opacity:1; fill:none\" points=\"\n",
       "  274.706,47.2441 1057.45,47.2441 \n",
       "  \"/>\n",
       "<polyline clip-path=\"url(#clip030)\" style=\"stroke:#000000; stroke-linecap:butt; stroke-linejoin:round; stroke-width:4; stroke-opacity:1; fill:none\" points=\"\n",
       "  224.984,821.232 224.984,802.334 \n",
       "  \"/>\n",
       "<polyline clip-path=\"url(#clip030)\" style=\"stroke:#000000; stroke-linecap:butt; stroke-linejoin:round; stroke-width:4; stroke-opacity:1; fill:none\" points=\"\n",
       "  2710.21,821.232 2710.21,802.334 \n",
       "  \"/>\n",
       "<polyline clip-path=\"url(#clip030)\" style=\"stroke:#000000; stroke-linecap:butt; stroke-linejoin:round; stroke-width:4; stroke-opacity:1; fill:none\" points=\"\n",
       "  5195.44,821.232 5195.44,802.334 \n",
       "  \"/>\n",
       "<path clip-path=\"url(#clip030)\" d=\"M189.967 893.757 L197.606 893.757 L197.606 867.391 L189.296 869.058 L189.296 864.798 L197.56 863.132 L202.236 863.132 L202.236 893.757 L209.875 893.757 L209.875 897.692 L189.967 897.692 L189.967 893.757 Z\" fill=\"#000000\" fill-rule=\"evenodd\" fill-opacity=\"1\" /><path clip-path=\"url(#clip030)\" d=\"M229.319 866.21 Q225.708 866.21 223.879 869.775 Q222.074 873.317 222.074 880.446 Q222.074 887.553 223.879 891.118 Q225.708 894.659 229.319 894.659 Q232.953 894.659 234.759 891.118 Q236.587 887.553 236.587 880.446 Q236.587 873.317 234.759 869.775 Q232.953 866.21 229.319 866.21 M229.319 862.507 Q235.129 862.507 238.185 867.113 Q241.263 871.696 241.263 880.446 Q241.263 889.173 238.185 893.78 Q235.129 898.363 229.319 898.363 Q223.509 898.363 220.43 893.78 Q217.374 889.173 217.374 880.446 Q217.374 871.696 220.43 867.113 Q223.509 862.507 229.319 862.507 Z\" fill=\"#000000\" fill-rule=\"evenodd\" fill-opacity=\"1\" /><path clip-path=\"url(#clip030)\" d=\"M250.968 844.703 Q248.034 844.703 246.548 847.599 Q245.081 850.477 245.081 856.269 Q245.081 862.043 246.548 864.94 Q248.034 867.817 250.968 867.817 Q253.921 867.817 255.388 864.94 Q256.874 862.043 256.874 856.269 Q256.874 850.477 255.388 847.599 Q253.921 844.703 250.968 844.703 M250.968 841.693 Q255.689 841.693 258.171 845.436 Q260.673 849.16 260.673 856.269 Q260.673 863.36 258.171 867.103 Q255.689 870.827 250.968 870.827 Q246.247 870.827 243.746 867.103 Q241.263 863.36 241.263 856.269 Q241.263 849.16 243.746 845.436 Q246.247 841.693 250.968 841.693 Z\" fill=\"#000000\" fill-rule=\"evenodd\" fill-opacity=\"1\" /><path clip-path=\"url(#clip030)\" d=\"M2675.66 893.757 L2683.29 893.757 L2683.29 867.391 L2674.98 869.058 L2674.98 864.798 L2683.25 863.132 L2687.92 863.132 L2687.92 893.757 L2695.56 893.757 L2695.56 897.692 L2675.66 897.692 L2675.66 893.757 Z\" fill=\"#000000\" fill-rule=\"evenodd\" fill-opacity=\"1\" /><path clip-path=\"url(#clip030)\" d=\"M2715.01 866.21 Q2711.4 866.21 2709.57 869.775 Q2707.76 873.317 2707.76 880.446 Q2707.76 887.553 2709.57 891.118 Q2711.4 894.659 2715.01 894.659 Q2718.64 894.659 2720.45 891.118 Q2722.28 887.553 2722.28 880.446 Q2722.28 873.317 2720.45 869.775 Q2718.64 866.21 2715.01 866.21 M2715.01 862.507 Q2720.82 862.507 2723.87 867.113 Q2726.95 871.696 2726.95 880.446 Q2726.95 889.173 2723.87 893.78 Q2720.82 898.363 2715.01 898.363 Q2709.2 898.363 2706.12 893.78 Q2703.06 889.173 2703.06 880.446 Q2703.06 871.696 2706.12 867.113 Q2709.2 862.507 2715.01 862.507 Z\" fill=\"#000000\" fill-rule=\"evenodd\" fill-opacity=\"1\" /><path clip-path=\"url(#clip030)\" d=\"M2739.65 855.141 Q2742.37 855.724 2743.9 857.567 Q2745.44 859.41 2745.44 862.119 Q2745.44 866.275 2742.58 868.551 Q2739.72 870.827 2734.46 870.827 Q2732.69 870.827 2730.81 870.469 Q2728.95 870.131 2726.95 869.435 L2726.95 865.767 Q2728.53 866.689 2730.41 867.159 Q2732.29 867.629 2734.34 867.629 Q2737.92 867.629 2739.78 866.219 Q2741.66 864.808 2741.66 862.119 Q2741.66 859.636 2739.91 858.244 Q2738.18 856.834 2735.08 856.834 L2731.8 856.834 L2731.8 853.712 L2735.23 853.712 Q2738.03 853.712 2739.52 852.602 Q2741 851.474 2741 849.367 Q2741 847.204 2739.46 846.057 Q2737.94 844.891 2735.08 844.891 Q2733.52 844.891 2731.73 845.229 Q2729.94 845.568 2727.8 846.283 L2727.8 842.897 Q2729.96 842.295 2731.84 841.994 Q2733.74 841.693 2735.42 841.693 Q2739.74 841.693 2742.26 843.668 Q2744.78 845.624 2744.78 848.972 Q2744.78 851.304 2743.45 852.922 Q2742.11 854.52 2739.65 855.141 Z\" fill=\"#000000\" fill-rule=\"evenodd\" fill-opacity=\"1\" /><path clip-path=\"url(#clip030)\" d=\"M5160.43 893.757 L5168.07 893.757 L5168.07 867.391 L5159.76 869.058 L5159.76 864.798 L5168.03 863.132 L5172.7 863.132 L5172.7 893.757 L5180.34 893.757 L5180.34 897.692 L5160.43 897.692 L5160.43 893.757 Z\" fill=\"#000000\" fill-rule=\"evenodd\" fill-opacity=\"1\" /><path clip-path=\"url(#clip030)\" d=\"M5199.78 866.21 Q5196.17 866.21 5194.34 869.775 Q5192.54 873.317 5192.54 880.446 Q5192.54 887.553 5194.34 891.118 Q5196.17 894.659 5199.78 894.659 Q5203.42 894.659 5205.22 891.118 Q5207.05 887.553 5207.05 880.446 Q5207.05 873.317 5205.22 869.775 Q5203.42 866.21 5199.78 866.21 M5199.78 862.507 Q5205.59 862.507 5208.65 867.113 Q5211.73 871.696 5211.73 880.446 Q5211.73 889.173 5208.65 893.78 Q5205.59 898.363 5199.78 898.363 Q5193.97 898.363 5190.9 893.78 Q5187.84 889.173 5187.84 880.446 Q5187.84 871.696 5190.9 867.113 Q5193.97 862.507 5199.78 862.507 Z\" fill=\"#000000\" fill-rule=\"evenodd\" fill-opacity=\"1\" /><path clip-path=\"url(#clip030)\" d=\"M5221.75 854.727 Q5219.2 854.727 5217.69 856.476 Q5216.2 858.225 5216.2 861.272 Q5216.2 864.3 5217.69 866.068 Q5219.2 867.817 5221.75 867.817 Q5224.31 867.817 5225.8 866.068 Q5227.3 864.3 5227.3 861.272 Q5227.3 858.225 5225.8 856.476 Q5224.31 854.727 5221.75 854.727 M5229.3 842.822 L5229.3 846.283 Q5227.87 845.605 5226.4 845.248 Q5224.95 844.891 5223.52 844.891 Q5219.76 844.891 5217.77 847.43 Q5215.79 849.969 5215.51 855.103 Q5216.62 853.467 5218.29 852.602 Q5219.97 851.718 5221.98 851.718 Q5226.21 851.718 5228.66 854.295 Q5231.12 856.853 5231.12 861.272 Q5231.12 865.598 5228.56 868.212 Q5226 870.827 5221.75 870.827 Q5216.88 870.827 5214.31 867.103 Q5211.73 863.36 5211.73 856.269 Q5211.73 849.612 5214.89 845.662 Q5218.05 841.693 5223.37 841.693 Q5224.8 841.693 5226.25 841.976 Q5227.72 842.258 5229.3 842.822 Z\" fill=\"#000000\" fill-rule=\"evenodd\" fill-opacity=\"1\" /><polyline clip-path=\"url(#clip032)\" style=\"stroke:#000000; stroke-linecap:butt; stroke-linejoin:round; stroke-width:2; stroke-opacity:0.1; fill:none\" points=\"\n",
       "  274.706,804.376 1057.45,804.376 \n",
       "  \"/>\n",
       "<polyline clip-path=\"url(#clip032)\" style=\"stroke:#000000; stroke-linecap:butt; stroke-linejoin:round; stroke-width:2; stroke-opacity:0.1; fill:none\" points=\"\n",
       "  274.706,652.548 1057.45,652.548 \n",
       "  \"/>\n",
       "<polyline clip-path=\"url(#clip032)\" style=\"stroke:#000000; stroke-linecap:butt; stroke-linejoin:round; stroke-width:2; stroke-opacity:0.1; fill:none\" points=\"\n",
       "  274.706,500.719 1057.45,500.719 \n",
       "  \"/>\n",
       "<polyline clip-path=\"url(#clip032)\" style=\"stroke:#000000; stroke-linecap:butt; stroke-linejoin:round; stroke-width:2; stroke-opacity:0.1; fill:none\" points=\"\n",
       "  274.706,348.891 1057.45,348.891 \n",
       "  \"/>\n",
       "<polyline clip-path=\"url(#clip032)\" style=\"stroke:#000000; stroke-linecap:butt; stroke-linejoin:round; stroke-width:2; stroke-opacity:0.1; fill:none\" points=\"\n",
       "  274.706,197.063 1057.45,197.063 \n",
       "  \"/>\n",
       "<polyline clip-path=\"url(#clip030)\" style=\"stroke:#000000; stroke-linecap:butt; stroke-linejoin:round; stroke-width:4; stroke-opacity:1; fill:none\" points=\"\n",
       "  274.706,821.232 274.706,47.2441 \n",
       "  \"/>\n",
       "<polyline clip-path=\"url(#clip030)\" style=\"stroke:#000000; stroke-linecap:butt; stroke-linejoin:round; stroke-width:4; stroke-opacity:1; fill:none\" points=\"\n",
       "  1057.45,821.232 1057.45,47.2441 \n",
       "  \"/>\n",
       "<polyline clip-path=\"url(#clip030)\" style=\"stroke:#000000; stroke-linecap:butt; stroke-linejoin:round; stroke-width:4; stroke-opacity:1; fill:none\" points=\"\n",
       "  274.706,804.376 293.604,804.376 \n",
       "  \"/>\n",
       "<polyline clip-path=\"url(#clip030)\" style=\"stroke:#000000; stroke-linecap:butt; stroke-linejoin:round; stroke-width:4; stroke-opacity:1; fill:none\" points=\"\n",
       "  274.706,652.548 293.604,652.548 \n",
       "  \"/>\n",
       "<polyline clip-path=\"url(#clip030)\" style=\"stroke:#000000; stroke-linecap:butt; stroke-linejoin:round; stroke-width:4; stroke-opacity:1; fill:none\" points=\"\n",
       "  274.706,500.719 293.604,500.719 \n",
       "  \"/>\n",
       "<polyline clip-path=\"url(#clip030)\" style=\"stroke:#000000; stroke-linecap:butt; stroke-linejoin:round; stroke-width:4; stroke-opacity:1; fill:none\" points=\"\n",
       "  274.706,348.891 293.604,348.891 \n",
       "  \"/>\n",
       "<polyline clip-path=\"url(#clip030)\" style=\"stroke:#000000; stroke-linecap:butt; stroke-linejoin:round; stroke-width:4; stroke-opacity:1; fill:none\" points=\"\n",
       "  274.706,197.063 293.604,197.063 \n",
       "  \"/>\n",
       "<path clip-path=\"url(#clip030)\" d=\"M155.596 790.174 Q151.984 790.174 150.156 793.739 Q148.35 797.281 148.35 804.41 Q148.35 811.517 150.156 815.082 Q151.984 818.623 155.596 818.623 Q159.23 818.623 161.035 815.082 Q162.864 811.517 162.864 804.41 Q162.864 797.281 161.035 793.739 Q159.23 790.174 155.596 790.174 M155.596 786.471 Q161.406 786.471 164.461 791.077 Q167.54 795.66 167.54 804.41 Q167.54 813.137 164.461 817.744 Q161.406 822.327 155.596 822.327 Q149.785 822.327 146.707 817.744 Q143.651 813.137 143.651 804.41 Q143.651 795.66 146.707 791.077 Q149.785 786.471 155.596 786.471 Z\" fill=\"#000000\" fill-rule=\"evenodd\" fill-opacity=\"1\" /><path clip-path=\"url(#clip030)\" d=\"M175.758 815.776 L180.642 815.776 L180.642 821.656 L175.758 821.656 L175.758 815.776 Z\" fill=\"#000000\" fill-rule=\"evenodd\" fill-opacity=\"1\" /><path clip-path=\"url(#clip030)\" d=\"M189.646 787.096 L211.868 787.096 L211.868 789.086 L199.322 821.656 L194.438 821.656 L206.243 791.031 L189.646 791.031 L189.646 787.096 Z\" fill=\"#000000\" fill-rule=\"evenodd\" fill-opacity=\"1\" /><path clip-path=\"url(#clip030)\" d=\"M221.799 817.72 L229.438 817.72 L229.438 791.355 L221.128 793.021 L221.128 788.762 L229.391 787.096 L234.067 787.096 L234.067 817.72 L241.706 817.72 L241.706 821.656 L221.799 821.656 L221.799 817.72 Z\" fill=\"#000000\" fill-rule=\"evenodd\" fill-opacity=\"1\" /><path clip-path=\"url(#clip030)\" d=\"M155.966 638.346 Q152.355 638.346 150.526 641.911 Q148.721 645.453 148.721 652.582 Q148.721 659.689 150.526 663.253 Q152.355 666.795 155.966 666.795 Q159.6 666.795 161.406 663.253 Q163.234 659.689 163.234 652.582 Q163.234 645.453 161.406 641.911 Q159.6 638.346 155.966 638.346 M155.966 634.643 Q161.776 634.643 164.832 639.249 Q167.91 643.832 167.91 652.582 Q167.91 661.309 164.832 665.915 Q161.776 670.499 155.966 670.499 Q150.156 670.499 147.077 665.915 Q144.022 661.309 144.022 652.582 Q144.022 643.832 147.077 639.249 Q150.156 634.643 155.966 634.643 Z\" fill=\"#000000\" fill-rule=\"evenodd\" fill-opacity=\"1\" /><path clip-path=\"url(#clip030)\" d=\"M176.128 663.948 L181.012 663.948 L181.012 669.828 L176.128 669.828 L176.128 663.948 Z\" fill=\"#000000\" fill-rule=\"evenodd\" fill-opacity=\"1\" /><path clip-path=\"url(#clip030)\" d=\"M190.017 635.268 L212.239 635.268 L212.239 637.258 L199.693 669.828 L194.808 669.828 L206.614 639.203 L190.017 639.203 L190.017 635.268 Z\" fill=\"#000000\" fill-rule=\"evenodd\" fill-opacity=\"1\" /><path clip-path=\"url(#clip030)\" d=\"M225.387 665.892 L241.706 665.892 L241.706 669.828 L219.762 669.828 L219.762 665.892 Q222.424 663.138 227.007 658.508 Q231.614 653.855 232.794 652.513 Q235.04 649.99 235.919 648.254 Q236.822 646.494 236.822 644.804 Q236.822 642.05 234.878 640.314 Q232.956 638.578 229.854 638.578 Q227.655 638.578 225.202 639.342 Q222.771 640.105 219.993 641.656 L219.993 636.934 Q222.817 635.8 225.271 635.221 Q227.725 634.643 229.762 634.643 Q235.132 634.643 238.327 637.328 Q241.521 640.013 241.521 644.504 Q241.521 646.633 240.711 648.554 Q239.924 650.453 237.817 653.045 Q237.239 653.716 234.137 656.934 Q231.035 660.128 225.387 665.892 Z\" fill=\"#000000\" fill-rule=\"evenodd\" fill-opacity=\"1\" /><path clip-path=\"url(#clip030)\" d=\"M155.017 486.518 Q151.406 486.518 149.577 490.083 Q147.772 493.625 147.772 500.754 Q147.772 507.861 149.577 511.425 Q151.406 514.967 155.017 514.967 Q158.651 514.967 160.457 511.425 Q162.285 507.861 162.285 500.754 Q162.285 493.625 160.457 490.083 Q158.651 486.518 155.017 486.518 M155.017 482.814 Q160.827 482.814 163.883 487.421 Q166.961 492.004 166.961 500.754 Q166.961 509.481 163.883 514.087 Q160.827 518.671 155.017 518.671 Q149.207 518.671 146.128 514.087 Q143.073 509.481 143.073 500.754 Q143.073 492.004 146.128 487.421 Q149.207 482.814 155.017 482.814 Z\" fill=\"#000000\" fill-rule=\"evenodd\" fill-opacity=\"1\" /><path clip-path=\"url(#clip030)\" d=\"M175.179 512.12 L180.063 512.12 L180.063 517.999 L175.179 517.999 L175.179 512.12 Z\" fill=\"#000000\" fill-rule=\"evenodd\" fill-opacity=\"1\" /><path clip-path=\"url(#clip030)\" d=\"M189.068 483.439 L211.29 483.439 L211.29 485.43 L198.744 517.999 L193.859 517.999 L205.665 487.375 L189.068 487.375 L189.068 483.439 Z\" fill=\"#000000\" fill-rule=\"evenodd\" fill-opacity=\"1\" /><path clip-path=\"url(#clip030)\" d=\"M234.577 499.365 Q237.933 500.083 239.808 502.351 Q241.706 504.62 241.706 507.953 Q241.706 513.069 238.188 515.87 Q234.669 518.671 228.188 518.671 Q226.012 518.671 223.697 518.231 Q221.405 517.814 218.952 516.958 L218.952 512.444 Q220.896 513.578 223.211 514.157 Q225.526 514.736 228.049 514.736 Q232.447 514.736 234.739 512.999 Q237.053 511.263 237.053 507.953 Q237.053 504.898 234.901 503.185 Q232.771 501.449 228.952 501.449 L224.924 501.449 L224.924 497.606 L229.137 497.606 Q232.586 497.606 234.415 496.24 Q236.243 494.851 236.243 492.259 Q236.243 489.597 234.345 488.185 Q232.47 486.75 228.952 486.75 Q227.03 486.75 224.831 487.166 Q222.632 487.583 219.993 488.463 L219.993 484.296 Q222.655 483.555 224.97 483.185 Q227.308 482.814 229.368 482.814 Q234.692 482.814 237.794 485.245 Q240.896 487.652 240.896 491.773 Q240.896 494.643 239.253 496.634 Q237.609 498.601 234.577 499.365 Z\" fill=\"#000000\" fill-rule=\"evenodd\" fill-opacity=\"1\" /><path clip-path=\"url(#clip030)\" d=\"M153.883 334.69 Q150.272 334.69 148.443 338.255 Q146.637 341.796 146.637 348.926 Q146.637 356.032 148.443 359.597 Q150.272 363.139 153.883 363.139 Q157.517 363.139 159.322 359.597 Q161.151 356.032 161.151 348.926 Q161.151 341.796 159.322 338.255 Q157.517 334.69 153.883 334.69 M153.883 330.986 Q159.693 330.986 162.748 335.593 Q165.827 340.176 165.827 348.926 Q165.827 357.653 162.748 362.259 Q159.693 366.843 153.883 366.843 Q148.072 366.843 144.994 362.259 Q141.938 357.653 141.938 348.926 Q141.938 340.176 144.994 335.593 Q148.072 330.986 153.883 330.986 Z\" fill=\"#000000\" fill-rule=\"evenodd\" fill-opacity=\"1\" /><path clip-path=\"url(#clip030)\" d=\"M174.045 360.292 L178.929 360.292 L178.929 366.171 L174.045 366.171 L174.045 360.292 Z\" fill=\"#000000\" fill-rule=\"evenodd\" fill-opacity=\"1\" /><path clip-path=\"url(#clip030)\" d=\"M187.933 331.611 L210.155 331.611 L210.155 333.602 L197.609 366.171 L192.725 366.171 L204.531 335.546 L187.933 335.546 L187.933 331.611 Z\" fill=\"#000000\" fill-rule=\"evenodd\" fill-opacity=\"1\" /><path clip-path=\"url(#clip030)\" d=\"M232.123 335.685 L220.317 354.134 L232.123 354.134 L232.123 335.685 M230.896 331.611 L236.776 331.611 L236.776 354.134 L241.706 354.134 L241.706 358.023 L236.776 358.023 L236.776 366.171 L232.123 366.171 L232.123 358.023 L216.521 358.023 L216.521 353.509 L230.896 331.611 Z\" fill=\"#000000\" fill-rule=\"evenodd\" fill-opacity=\"1\" /><path clip-path=\"url(#clip030)\" d=\"M155.364 182.862 Q151.753 182.862 149.924 186.427 Q148.119 189.968 148.119 197.098 Q148.119 204.204 149.924 207.769 Q151.753 211.311 155.364 211.311 Q158.998 211.311 160.804 207.769 Q162.633 204.204 162.633 197.098 Q162.633 189.968 160.804 186.427 Q158.998 182.862 155.364 182.862 M155.364 179.158 Q161.174 179.158 164.23 183.765 Q167.308 188.348 167.308 197.098 Q167.308 205.825 164.23 210.431 Q161.174 215.015 155.364 215.015 Q149.554 215.015 146.475 210.431 Q143.42 205.825 143.42 197.098 Q143.42 188.348 146.475 183.765 Q149.554 179.158 155.364 179.158 Z\" fill=\"#000000\" fill-rule=\"evenodd\" fill-opacity=\"1\" /><path clip-path=\"url(#clip030)\" d=\"M175.526 208.464 L180.41 208.464 L180.41 214.343 L175.526 214.343 L175.526 208.464 Z\" fill=\"#000000\" fill-rule=\"evenodd\" fill-opacity=\"1\" /><path clip-path=\"url(#clip030)\" d=\"M189.415 179.783 L211.637 179.783 L211.637 181.774 L199.091 214.343 L194.206 214.343 L206.012 183.718 L189.415 183.718 L189.415 179.783 Z\" fill=\"#000000\" fill-rule=\"evenodd\" fill-opacity=\"1\" /><path clip-path=\"url(#clip030)\" d=\"M220.804 179.783 L239.16 179.783 L239.16 183.718 L225.086 183.718 L225.086 192.191 Q226.104 191.843 227.123 191.681 Q228.141 191.496 229.16 191.496 Q234.947 191.496 238.327 194.667 Q241.706 197.839 241.706 203.255 Q241.706 208.834 238.234 211.936 Q234.762 215.015 228.442 215.015 Q226.267 215.015 223.998 214.644 Q221.753 214.274 219.345 213.533 L219.345 208.834 Q221.429 209.968 223.651 210.524 Q225.873 211.079 228.35 211.079 Q232.354 211.079 234.692 208.973 Q237.03 206.866 237.03 203.255 Q237.03 199.644 234.692 197.538 Q232.354 195.431 228.35 195.431 Q226.475 195.431 224.6 195.848 Q222.748 196.265 220.804 197.144 L220.804 179.783 Z\" fill=\"#000000\" fill-rule=\"evenodd\" fill-opacity=\"1\" /><path clip-path=\"url(#clip030)\" d=\"M47.1623 720.106 L47.1623 713.676 L89.2714 713.676 L89.2714 690.537 L94.6823 690.537 L94.6823 720.106 L47.1623 720.106 Z\" fill=\"#000000\" fill-rule=\"evenodd\" fill-opacity=\"1\" /><path clip-path=\"url(#clip030)\" d=\"M63.1402 671.376 Q63.1402 676.087 66.8323 678.824 Q70.4926 681.562 76.8901 681.562 Q83.2876 681.562 86.9798 678.856 Q90.64 676.119 90.64 671.376 Q90.64 666.698 86.9479 663.96 Q83.2558 661.223 76.8901 661.223 Q70.5562 661.223 66.8641 663.96 Q63.1402 666.698 63.1402 671.376 M58.1749 671.376 Q58.1749 663.738 63.1402 659.377 Q68.1054 655.017 76.8901 655.017 Q85.643 655.017 90.64 659.377 Q95.6053 663.738 95.6053 671.376 Q95.6053 679.047 90.64 683.408 Q85.643 687.736 76.8901 687.736 Q68.1054 687.736 63.1402 683.408 Q58.1749 679.047 58.1749 671.376 Z\" fill=\"#000000\" fill-rule=\"evenodd\" fill-opacity=\"1\" /><path clip-path=\"url(#clip030)\" d=\"M76.4445 621.851 Q70.0788 621.851 66.5777 624.493 Q63.0765 627.103 63.0765 631.845 Q63.0765 636.556 66.5777 639.198 Q70.0788 641.808 76.4445 641.808 Q82.7784 641.808 86.2795 639.198 Q89.7807 636.556 89.7807 631.845 Q89.7807 627.103 86.2795 624.493 Q82.7784 621.851 76.4445 621.851 M90.2581 615.995 Q99.361 615.995 103.785 620.037 Q108.241 624.079 108.241 632.418 Q108.241 635.506 107.764 638.243 Q107.318 640.98 106.363 643.558 L100.666 643.558 Q102.066 640.98 102.735 638.466 Q103.403 635.951 103.403 633.341 Q103.403 627.58 100.38 624.716 Q97.3877 621.851 91.3084 621.851 L88.412 621.851 Q91.5631 623.665 93.1227 626.498 Q94.6823 629.331 94.6823 633.278 Q94.6823 639.834 89.6852 643.845 Q84.6881 647.855 76.4445 647.855 Q68.1691 647.855 63.172 643.845 Q58.1749 639.834 58.1749 633.278 Q58.1749 629.331 59.7345 626.498 Q61.2941 623.665 64.4451 621.851 L59.0343 621.851 L59.0343 615.995 L90.2581 615.995 Z\" fill=\"#000000\" fill-rule=\"evenodd\" fill-opacity=\"1\" /><path clip-path=\"url(#clip030)\" d=\"M47.1623 603.677 L47.1623 597.248 L89.2714 597.248 L89.2714 574.108 L94.6823 574.108 L94.6823 603.677 L47.1623 603.677 Z\" fill=\"#000000\" fill-rule=\"evenodd\" fill-opacity=\"1\" /><path clip-path=\"url(#clip030)\" d=\"M63.1402 554.948 Q63.1402 559.658 66.8323 562.395 Q70.4926 565.133 76.8901 565.133 Q83.2876 565.133 86.9798 562.427 Q90.64 559.69 90.64 554.948 Q90.64 550.269 86.9479 547.532 Q83.2558 544.794 76.8901 544.794 Q70.5562 544.794 66.8641 547.532 Q63.1402 550.269 63.1402 554.948 M58.1749 554.948 Q58.1749 547.309 63.1402 542.948 Q68.1054 538.588 76.8901 538.588 Q85.643 538.588 90.64 542.948 Q95.6053 547.309 95.6053 554.948 Q95.6053 562.618 90.64 566.979 Q85.643 571.307 76.8901 571.307 Q68.1054 571.307 63.1402 566.979 Q58.1749 562.618 58.1749 554.948 Z\" fill=\"#000000\" fill-rule=\"evenodd\" fill-opacity=\"1\" /><path clip-path=\"url(#clip030)\" d=\"M60.0846 506.154 L65.6228 506.154 Q64.3497 508.637 63.7131 511.311 Q63.0765 513.984 63.0765 516.849 Q63.0765 521.209 64.4133 523.406 Q65.7501 525.57 68.4237 525.57 Q70.4607 525.57 71.6384 524.01 Q72.7842 522.451 73.8346 517.74 L74.2802 515.735 Q75.617 509.496 78.0678 506.887 Q80.4867 504.245 84.8472 504.245 Q89.8125 504.245 92.7089 508.191 Q95.6053 512.106 95.6053 518.981 Q95.6053 521.846 95.0324 524.965 Q94.4913 528.052 93.3773 531.49 L87.3299 531.49 Q89.0168 528.243 89.8761 525.092 Q90.7037 521.941 90.7037 518.854 Q90.7037 514.716 89.3032 512.488 Q87.8709 510.26 85.2928 510.26 Q82.9057 510.26 81.6326 511.884 Q80.3594 513.475 79.1818 518.918 L78.7043 520.955 Q77.5585 526.397 75.2032 528.816 Q72.8161 531.235 68.6783 531.235 Q63.6494 531.235 60.9122 527.671 Q58.1749 524.106 58.1749 517.549 Q58.1749 514.303 58.6524 511.438 Q59.1298 508.573 60.0846 506.154 Z\" fill=\"#000000\" fill-rule=\"evenodd\" fill-opacity=\"1\" /><path clip-path=\"url(#clip030)\" d=\"M60.0846 472.193 L65.6228 472.193 Q64.3497 474.676 63.7131 477.35 Q63.0765 480.023 63.0765 482.888 Q63.0765 487.248 64.4133 489.444 Q65.7501 491.609 68.4237 491.609 Q70.4607 491.609 71.6384 490.049 Q72.7842 488.49 73.8346 483.779 L74.2802 481.774 Q75.617 475.535 78.0678 472.925 Q80.4867 470.284 84.8472 470.284 Q89.8125 470.284 92.7089 474.23 Q95.6053 478.145 95.6053 485.02 Q95.6053 487.885 95.0324 491.004 Q94.4913 494.091 93.3773 497.529 L87.3299 497.529 Q89.0168 494.282 89.8761 491.131 Q90.7037 487.98 90.7037 484.893 Q90.7037 480.755 89.3032 478.527 Q87.8709 476.299 85.2928 476.299 Q82.9057 476.299 81.6326 477.923 Q80.3594 479.514 79.1818 484.957 L78.7043 486.994 Q77.5585 492.436 75.2032 494.855 Q72.8161 497.274 68.6783 497.274 Q63.6494 497.274 60.9122 493.709 Q58.1749 490.145 58.1749 483.588 Q58.1749 480.342 58.6524 477.477 Q59.1298 474.612 60.0846 472.193 Z\" fill=\"#000000\" fill-rule=\"evenodd\" fill-opacity=\"1\" /><path clip-path=\"url(#clip030)\" d=\"M100.73 433.776 L105.313 433.776 L105.313 435.75 Q105.313 443.675 102.958 446.38 Q100.602 449.054 93.5683 449.054 L85.9612 449.054 Q81.1551 449.054 79.3091 450.773 Q77.463 452.492 77.463 457.011 L77.463 458.953 L72.9115 458.953 L72.9115 457.011 Q72.9115 452.46 71.0973 450.773 Q69.2513 449.054 64.5088 449.054 L56.87 449.054 Q49.8359 449.054 47.5124 446.38 Q45.1571 443.675 45.1571 435.75 L45.1571 433.776 L49.7085 433.776 L49.7085 435.941 Q49.7085 440.429 51.109 441.797 Q52.5094 443.166 56.9973 443.166 L64.8907 443.166 Q69.8878 443.166 72.1477 444.63 Q74.4075 446.062 75.2032 449.563 Q76.0626 446.03 78.3224 444.598 Q80.5822 443.166 85.5475 443.166 L93.4409 443.166 Q97.9288 443.166 99.3292 441.797 Q100.73 440.429 100.73 435.941 L100.73 433.776 Z\" fill=\"#000000\" fill-rule=\"evenodd\" fill-opacity=\"1\" /><path clip-path=\"url(#clip030)\" d=\"M47.1623 419.231 L47.1623 391.922 L52.5731 391.922 L52.5731 412.801 L66.5777 412.801 L66.5777 393.959 L71.9885 393.959 L71.9885 412.801 L94.6823 412.801 L94.6823 419.231 L47.1623 419.231 Z\" fill=\"#000000\" fill-rule=\"evenodd\" fill-opacity=\"1\" /><path clip-path=\"url(#clip030)\" d=\"M45.1571 381.991 L45.1571 376.135 L94.6823 376.135 L94.6823 381.991 L45.1571 381.991 Z\" fill=\"#000000\" fill-rule=\"evenodd\" fill-opacity=\"1\" /><path clip-path=\"url(#clip030)\" d=\"M63.1402 350.067 Q63.1402 354.778 66.8323 357.515 Q70.4926 360.252 76.8901 360.252 Q83.2876 360.252 86.9798 357.547 Q90.64 354.81 90.64 350.067 Q90.64 345.389 86.9479 342.651 Q83.2558 339.914 76.8901 339.914 Q70.5562 339.914 66.8641 342.651 Q63.1402 345.389 63.1402 350.067 M58.1749 350.067 Q58.1749 342.428 63.1402 338.068 Q68.1054 333.707 76.8901 333.707 Q85.643 333.707 90.64 338.068 Q95.6053 342.428 95.6053 350.067 Q95.6053 357.738 90.64 362.099 Q85.643 366.427 76.8901 366.427 Q68.1054 366.427 63.1402 362.099 Q58.1749 357.738 58.1749 350.067 Z\" fill=\"#000000\" fill-rule=\"evenodd\" fill-opacity=\"1\" /><path clip-path=\"url(#clip030)\" d=\"M76.7628 307.799 Q76.7628 314.897 78.386 317.634 Q80.0093 320.371 83.9242 320.371 Q87.0434 320.371 88.8895 318.334 Q90.7037 316.265 90.7037 312.732 Q90.7037 307.863 87.2662 304.934 Q83.7969 301.974 78.0678 301.974 L76.7628 301.974 L76.7628 307.799 M74.3438 296.118 L94.6823 296.118 L94.6823 301.974 L89.2714 301.974 Q92.5179 303.98 94.0775 306.971 Q95.6053 309.963 95.6053 314.292 Q95.6053 319.767 92.5497 323.013 Q89.4624 326.228 84.3062 326.228 Q78.2906 326.228 75.235 322.217 Q72.1795 318.175 72.1795 310.186 L72.1795 301.974 L71.6066 301.974 Q67.5643 301.974 65.3682 304.648 Q63.1402 307.29 63.1402 312.096 Q63.1402 315.151 63.8722 318.048 Q64.6043 320.944 66.0684 323.618 L60.6576 323.618 Q59.4162 320.403 58.8115 317.379 Q58.1749 314.356 58.1749 311.491 Q58.1749 303.757 62.1853 299.937 Q66.1957 296.118 74.3438 296.118 Z\" fill=\"#000000\" fill-rule=\"evenodd\" fill-opacity=\"1\" /><path clip-path=\"url(#clip030)\" d=\"M48.9128 278.262 L59.0343 278.262 L59.0343 266.199 L63.5858 266.199 L63.5858 278.262 L82.9375 278.262 Q87.298 278.262 88.5393 277.085 Q89.7807 275.875 89.7807 272.215 L89.7807 266.199 L94.6823 266.199 L94.6823 272.215 Q94.6823 278.994 92.1678 281.572 Q89.6215 284.15 82.9375 284.15 L63.5858 284.15 L63.5858 288.447 L59.0343 288.447 L59.0343 284.15 L48.9128 284.15 L48.9128 278.262 Z\" fill=\"#000000\" fill-rule=\"evenodd\" fill-opacity=\"1\" /><path clip-path=\"url(#clip030)\" d=\"M68.3601 243.123 Q68.3601 247.452 71.3201 249.998 Q74.2802 252.513 79.4364 252.513 Q84.5608 252.513 87.5527 249.998 Q90.5127 247.452 90.5127 243.123 Q90.5127 238.795 87.5527 236.28 Q84.5608 233.734 79.4364 233.734 Q74.2802 233.734 71.3201 236.28 Q68.3601 238.795 68.3601 243.123 M48.2126 230.36 L54.069 230.36 Q52.9232 232.779 52.3185 235.262 Q51.7137 237.713 51.7137 240.132 Q51.7137 246.497 56.0106 249.871 Q60.3074 253.213 68.9966 253.691 Q66.2275 251.813 64.7634 248.98 Q63.2675 246.147 63.2675 242.742 Q63.2675 235.58 67.628 231.442 Q71.9567 227.273 79.4364 227.273 Q86.757 227.273 91.1811 231.602 Q95.6053 235.93 95.6053 243.123 Q95.6053 251.367 89.3032 255.728 Q82.9694 260.088 70.97 260.088 Q59.7027 260.088 53.0187 254.741 Q46.3029 249.394 46.3029 240.386 Q46.3029 237.967 46.7803 235.516 Q47.2577 233.034 48.2126 230.36 Z\" fill=\"#000000\" fill-rule=\"evenodd\" fill-opacity=\"1\" /><path clip-path=\"url(#clip030)\" d=\"M52.7641 198.532 L78.1314 214.764 L78.1314 198.532 L52.7641 198.532 M47.1623 200.219 L47.1623 192.134 L78.1314 192.134 L78.1314 185.355 L83.4786 185.355 L83.4786 192.134 L94.6823 192.134 L94.6823 198.532 L83.4786 198.532 L83.4786 219.984 L77.272 219.984 L47.1623 200.219 Z\" fill=\"#000000\" fill-rule=\"evenodd\" fill-opacity=\"1\" /><path clip-path=\"url(#clip030)\" d=\"M100.73 173.546 L100.73 171.318 Q100.73 166.862 99.361 165.525 Q97.9924 164.157 93.4409 164.157 L85.5475 164.157 Q80.5822 164.157 78.3224 162.725 Q76.0626 161.292 75.2032 157.759 Q74.4075 161.292 72.1477 162.725 Q69.8878 164.157 64.8907 164.157 L56.9973 164.157 Q52.4776 164.157 51.109 165.525 Q49.7085 166.862 49.7085 171.318 L49.7085 173.546 L45.1571 173.546 L45.1571 171.541 Q45.1571 163.616 47.5124 160.974 Q49.8359 158.3 56.87 158.3 L64.5088 158.3 Q69.2513 158.3 71.0973 156.582 Q72.9115 154.863 72.9115 150.343 L72.9115 148.37 L77.463 148.37 L77.463 150.343 Q77.463 154.863 79.3091 156.582 Q81.1551 158.3 85.9612 158.3 L93.5683 158.3 Q100.602 158.3 102.958 160.974 Q105.313 163.616 105.313 171.541 L105.313 173.546 L100.73 173.546 Z\" fill=\"#000000\" fill-rule=\"evenodd\" fill-opacity=\"1\" /><circle clip-path=\"url(#clip032)\" cx=\"528.87\" cy=\"253.107\" r=\"14\" fill=\"#009af9\" fill-rule=\"evenodd\" fill-opacity=\"1\" stroke=\"#000000\" stroke-opacity=\"1\" stroke-width=\"4\"/>\n",
       "<circle clip-path=\"url(#clip032)\" cx=\"517.114\" cy=\"624.422\" r=\"14\" fill=\"#009af9\" fill-rule=\"evenodd\" fill-opacity=\"1\" stroke=\"#000000\" stroke-opacity=\"1\" stroke-width=\"4\"/>\n",
       "<circle clip-path=\"url(#clip032)\" cx=\"1035.3\" cy=\"799.326\" r=\"14\" fill=\"#009af9\" fill-rule=\"evenodd\" fill-opacity=\"1\" stroke=\"#000000\" stroke-opacity=\"1\" stroke-width=\"4\"/>\n",
       "<circle clip-path=\"url(#clip032)\" cx=\"886.566\" cy=\"774.695\" r=\"14\" fill=\"#009af9\" fill-rule=\"evenodd\" fill-opacity=\"1\" stroke=\"#000000\" stroke-opacity=\"1\" stroke-width=\"4\"/>\n",
       "<circle clip-path=\"url(#clip032)\" cx=\"933.719\" cy=\"571.198\" r=\"14\" fill=\"#009af9\" fill-rule=\"evenodd\" fill-opacity=\"1\" stroke=\"#000000\" stroke-opacity=\"1\" stroke-width=\"4\"/>\n",
       "<circle clip-path=\"url(#clip032)\" cx=\"296.86\" cy=\"69.1494\" r=\"14\" fill=\"#009af9\" fill-rule=\"evenodd\" fill-opacity=\"1\" stroke=\"#000000\" stroke-opacity=\"1\" stroke-width=\"4\"/>\n",
       "<circle clip-path=\"url(#clip032)\" cx=\"631.079\" cy=\"678.589\" r=\"14\" fill=\"#009af9\" fill-rule=\"evenodd\" fill-opacity=\"1\" stroke=\"#000000\" stroke-opacity=\"1\" stroke-width=\"4\"/>\n",
       "<circle clip-path=\"url(#clip032)\" cx=\"901.543\" cy=\"549.486\" r=\"14\" fill=\"#009af9\" fill-rule=\"evenodd\" fill-opacity=\"1\" stroke=\"#000000\" stroke-opacity=\"1\" stroke-width=\"4\"/>\n",
       "<circle clip-path=\"url(#clip032)\" cx=\"841.513\" cy=\"506.309\" r=\"14\" fill=\"#009af9\" fill-rule=\"evenodd\" fill-opacity=\"1\" stroke=\"#000000\" stroke-opacity=\"1\" stroke-width=\"4\"/>\n",
       "<circle clip-path=\"url(#clip032)\" cx=\"754.765\" cy=\"731.278\" r=\"14\" fill=\"#009af9\" fill-rule=\"evenodd\" fill-opacity=\"1\" stroke=\"#000000\" stroke-opacity=\"1\" stroke-width=\"4\"/>\n",
       "<circle clip-path=\"url(#clip032)\" cx=\"932.764\" cy=\"785.552\" r=\"14\" fill=\"#009af9\" fill-rule=\"evenodd\" fill-opacity=\"1\" stroke=\"#000000\" stroke-opacity=\"1\" stroke-width=\"4\"/>\n",
       "<circle clip-path=\"url(#clip032)\" cx=\"1020.13\" cy=\"798.278\" r=\"14\" fill=\"#009af9\" fill-rule=\"evenodd\" fill-opacity=\"1\" stroke=\"#000000\" stroke-opacity=\"1\" stroke-width=\"4\"/>\n",
       "<circle clip-path=\"url(#clip032)\" cx=\"922.199\" cy=\"783.301\" r=\"14\" fill=\"#009af9\" fill-rule=\"evenodd\" fill-opacity=\"1\" stroke=\"#000000\" stroke-opacity=\"1\" stroke-width=\"4\"/>\n",
       "<circle clip-path=\"url(#clip032)\" cx=\"953.2\" cy=\"583.785\" r=\"14\" fill=\"#009af9\" fill-rule=\"evenodd\" fill-opacity=\"1\" stroke=\"#000000\" stroke-opacity=\"1\" stroke-width=\"4\"/>\n",
       "<circle clip-path=\"url(#clip032)\" cx=\"996.619\" cy=\"795.944\" r=\"14\" fill=\"#009af9\" fill-rule=\"evenodd\" fill-opacity=\"1\" stroke=\"#000000\" stroke-opacity=\"1\" stroke-width=\"4\"/>\n",
       "<path clip-path=\"url(#clip030)\" d=\"\n",
       "M1370.01 821.232 L2152.76 821.232 L2152.76 47.2441 L1370.01 47.2441  Z\n",
       "  \" fill=\"#ffffff\" fill-rule=\"evenodd\" fill-opacity=\"1\"/>\n",
       "<defs>\n",
       "  <clipPath id=\"clip033\">\n",
       "    <rect x=\"1370\" y=\"47\" width=\"784\" height=\"775\"/>\n",
       "  </clipPath>\n",
       "</defs>\n",
       "<path clip-path=\"url(#clip030)\" d=\"\n",
       "M274.706 1789.33 L1057.45 1789.33 L1057.45 1015.34 L274.706 1015.34  Z\n",
       "  \" fill=\"#ffffff\" fill-rule=\"evenodd\" fill-opacity=\"1\"/>\n",
       "<defs>\n",
       "  <clipPath id=\"clip034\">\n",
       "    <rect x=\"274\" y=\"1015\" width=\"784\" height=\"775\"/>\n",
       "  </clipPath>\n",
       "</defs>\n",
       "<polyline clip-path=\"url(#clip034)\" style=\"stroke:#000000; stroke-linecap:butt; stroke-linejoin:round; stroke-width:2; stroke-opacity:0.1; fill:none\" points=\"\n",
       "  366.251,1789.33 366.251,1015.34 \n",
       "  \"/>\n",
       "<polyline clip-path=\"url(#clip034)\" style=\"stroke:#000000; stroke-linecap:butt; stroke-linejoin:round; stroke-width:2; stroke-opacity:0.1; fill:none\" points=\"\n",
       "  544.438,1789.33 544.438,1015.34 \n",
       "  \"/>\n",
       "<polyline clip-path=\"url(#clip034)\" style=\"stroke:#000000; stroke-linecap:butt; stroke-linejoin:round; stroke-width:2; stroke-opacity:0.1; fill:none\" points=\"\n",
       "  722.624,1789.33 722.624,1015.34 \n",
       "  \"/>\n",
       "<polyline clip-path=\"url(#clip034)\" style=\"stroke:#000000; stroke-linecap:butt; stroke-linejoin:round; stroke-width:2; stroke-opacity:0.1; fill:none\" points=\"\n",
       "  900.81,1789.33 900.81,1015.34 \n",
       "  \"/>\n",
       "<polyline clip-path=\"url(#clip030)\" style=\"stroke:#000000; stroke-linecap:butt; stroke-linejoin:round; stroke-width:4; stroke-opacity:1; fill:none\" points=\"\n",
       "  274.706,1789.33 1057.45,1789.33 \n",
       "  \"/>\n",
       "<polyline clip-path=\"url(#clip030)\" style=\"stroke:#000000; stroke-linecap:butt; stroke-linejoin:round; stroke-width:4; stroke-opacity:1; fill:none\" points=\"\n",
       "  274.706,1015.34 1057.45,1015.34 \n",
       "  \"/>\n",
       "<polyline clip-path=\"url(#clip030)\" style=\"stroke:#000000; stroke-linecap:butt; stroke-linejoin:round; stroke-width:4; stroke-opacity:1; fill:none\" points=\"\n",
       "  366.251,1789.33 366.251,1770.43 \n",
       "  \"/>\n",
       "<polyline clip-path=\"url(#clip030)\" style=\"stroke:#000000; stroke-linecap:butt; stroke-linejoin:round; stroke-width:4; stroke-opacity:1; fill:none\" points=\"\n",
       "  544.438,1789.33 544.438,1770.43 \n",
       "  \"/>\n",
       "<polyline clip-path=\"url(#clip030)\" style=\"stroke:#000000; stroke-linecap:butt; stroke-linejoin:round; stroke-width:4; stroke-opacity:1; fill:none\" points=\"\n",
       "  722.624,1789.33 722.624,1770.43 \n",
       "  \"/>\n",
       "<polyline clip-path=\"url(#clip030)\" style=\"stroke:#000000; stroke-linecap:butt; stroke-linejoin:round; stroke-width:4; stroke-opacity:1; fill:none\" points=\"\n",
       "  900.81,1789.33 900.81,1770.43 \n",
       "  \"/>\n",
       "<path clip-path=\"url(#clip030)\" d=\"M360.904 1846.2 L377.223 1846.2 L377.223 1850.13 L355.279 1850.13 L355.279 1846.2 Q357.941 1843.44 362.524 1838.81 Q367.131 1834.16 368.311 1832.82 Q370.557 1830.29 371.436 1828.56 Q372.339 1826.8 372.339 1825.11 Q372.339 1822.35 370.395 1820.62 Q368.473 1818.88 365.372 1818.88 Q363.173 1818.88 360.719 1819.65 Q358.288 1820.41 355.511 1821.96 L355.511 1817.24 Q358.335 1816.1 360.788 1815.53 Q363.242 1814.95 365.279 1814.95 Q370.649 1814.95 373.844 1817.63 Q377.038 1820.32 377.038 1824.81 Q377.038 1826.94 376.228 1828.86 Q375.441 1830.76 373.335 1833.35 Q372.756 1834.02 369.654 1837.24 Q366.552 1840.43 360.904 1846.2 Z\" fill=\"#000000\" fill-rule=\"evenodd\" fill-opacity=\"1\" /><path clip-path=\"url(#clip030)\" d=\"M547.447 1819.65 L535.641 1838.1 L547.447 1838.1 L547.447 1819.65 M546.22 1815.57 L552.1 1815.57 L552.1 1838.1 L557.03 1838.1 L557.03 1841.98 L552.1 1841.98 L552.1 1850.13 L547.447 1850.13 L547.447 1841.98 L531.845 1841.98 L531.845 1837.47 L546.22 1815.57 Z\" fill=\"#000000\" fill-rule=\"evenodd\" fill-opacity=\"1\" /><path clip-path=\"url(#clip030)\" d=\"M723.029 1830.99 Q719.881 1830.99 718.029 1833.14 Q716.2 1835.29 716.2 1839.04 Q716.2 1842.77 718.029 1844.95 Q719.881 1847.1 723.029 1847.1 Q726.177 1847.1 728.006 1844.95 Q729.858 1842.77 729.858 1839.04 Q729.858 1835.29 728.006 1833.14 Q726.177 1830.99 723.029 1830.99 M732.311 1816.34 L732.311 1820.6 Q730.552 1819.76 728.746 1819.32 Q726.964 1818.88 725.205 1818.88 Q720.575 1818.88 718.122 1822.01 Q715.691 1825.13 715.344 1831.45 Q716.71 1829.44 718.77 1828.37 Q720.83 1827.29 723.307 1827.29 Q728.515 1827.29 731.524 1830.46 Q734.557 1833.6 734.557 1839.04 Q734.557 1844.37 731.408 1847.59 Q728.26 1850.8 723.029 1850.8 Q717.034 1850.8 713.862 1846.22 Q710.691 1841.61 710.691 1832.89 Q710.691 1824.69 714.58 1819.83 Q718.469 1814.95 725.02 1814.95 Q726.779 1814.95 728.561 1815.29 Q730.367 1815.64 732.311 1816.34 Z\" fill=\"#000000\" fill-rule=\"evenodd\" fill-opacity=\"1\" /><path clip-path=\"url(#clip030)\" d=\"M900.81 1833.72 Q897.477 1833.72 895.556 1835.5 Q893.657 1837.29 893.657 1840.41 Q893.657 1843.54 895.556 1845.32 Q897.477 1847.1 900.81 1847.1 Q904.143 1847.1 906.065 1845.32 Q907.986 1843.51 907.986 1840.41 Q907.986 1837.29 906.065 1835.5 Q904.167 1833.72 900.81 1833.72 M896.134 1831.73 Q893.125 1830.99 891.435 1828.93 Q889.768 1826.87 889.768 1823.91 Q889.768 1819.76 892.708 1817.35 Q895.671 1814.95 900.81 1814.95 Q905.972 1814.95 908.912 1817.35 Q911.852 1819.76 911.852 1823.91 Q911.852 1826.87 910.162 1828.93 Q908.495 1830.99 905.509 1831.73 Q908.889 1832.52 910.764 1834.81 Q912.662 1837.1 912.662 1840.41 Q912.662 1845.43 909.583 1848.12 Q906.528 1850.8 900.81 1850.8 Q895.093 1850.8 892.014 1848.12 Q888.958 1845.43 888.958 1840.41 Q888.958 1837.1 890.856 1834.81 Q892.755 1832.52 896.134 1831.73 M894.421 1824.35 Q894.421 1827.03 896.088 1828.54 Q897.778 1830.04 900.81 1830.04 Q903.819 1830.04 905.509 1828.54 Q907.222 1827.03 907.222 1824.35 Q907.222 1821.66 905.509 1820.16 Q903.819 1818.65 900.81 1818.65 Q897.778 1818.65 896.088 1820.16 Q894.421 1821.66 894.421 1824.35 Z\" fill=\"#000000\" fill-rule=\"evenodd\" fill-opacity=\"1\" /><path clip-path=\"url(#clip030)\" d=\"M266.903 1881.67 L272.759 1881.67 L272.759 1931.2 L266.903 1931.2 L266.903 1881.67 Z\" fill=\"#000000\" fill-rule=\"evenodd\" fill-opacity=\"1\" /><path clip-path=\"url(#clip030)\" d=\"M298.827 1899.65 Q294.116 1899.65 291.379 1903.35 Q288.642 1907.01 288.642 1913.4 Q288.642 1919.8 291.347 1923.49 Q294.085 1927.15 298.827 1927.15 Q303.506 1927.15 306.243 1923.46 Q308.98 1919.77 308.98 1913.4 Q308.98 1907.07 306.243 1903.38 Q303.506 1899.65 298.827 1899.65 M298.827 1894.69 Q306.466 1894.69 310.826 1899.65 Q315.187 1904.62 315.187 1913.4 Q315.187 1922.16 310.826 1927.15 Q306.466 1932.12 298.827 1932.12 Q291.156 1932.12 286.796 1927.15 Q282.467 1922.16 282.467 1913.4 Q282.467 1904.62 286.796 1899.65 Q291.156 1894.69 298.827 1894.69 Z\" fill=\"#000000\" fill-rule=\"evenodd\" fill-opacity=\"1\" /><path clip-path=\"url(#clip030)\" d=\"M348.352 1912.96 Q348.352 1906.59 345.71 1903.09 Q343.101 1899.59 338.358 1899.59 Q333.647 1899.59 331.006 1903.09 Q328.396 1906.59 328.396 1912.96 Q328.396 1919.29 331.006 1922.79 Q333.647 1926.29 338.358 1926.29 Q343.101 1926.29 345.71 1922.79 Q348.352 1919.29 348.352 1912.96 M354.209 1926.77 Q354.209 1935.88 350.166 1940.3 Q346.124 1944.76 337.785 1944.76 Q334.698 1944.76 331.961 1944.28 Q329.223 1943.83 326.645 1942.88 L326.645 1937.18 Q329.223 1938.58 331.738 1939.25 Q334.252 1939.92 336.862 1939.92 Q342.623 1939.92 345.488 1936.89 Q348.352 1933.9 348.352 1927.82 L348.352 1924.93 Q346.538 1928.08 343.705 1929.64 Q340.873 1931.2 336.926 1931.2 Q330.369 1931.2 326.359 1926.2 Q322.348 1921.2 322.348 1912.96 Q322.348 1904.68 326.359 1899.69 Q330.369 1894.69 336.926 1894.69 Q340.873 1894.69 343.705 1896.25 Q346.538 1897.81 348.352 1900.96 L348.352 1895.55 L354.209 1895.55 L354.209 1926.77 Z\" fill=\"#000000\" fill-rule=\"evenodd\" fill-opacity=\"1\" /><path clip-path=\"url(#clip030)\" d=\"M366.272 1895.55 L372.128 1895.55 L372.128 1931.2 L366.272 1931.2 L366.272 1895.55 M366.272 1881.67 L372.128 1881.67 L372.128 1889.09 L366.272 1889.09 L366.272 1881.67 Z\" fill=\"#000000\" fill-rule=\"evenodd\" fill-opacity=\"1\" /><path clip-path=\"url(#clip030)\" d=\"M407.108 1896.6 L407.108 1902.14 Q404.625 1900.86 401.952 1900.23 Q399.278 1899.59 396.413 1899.59 Q392.053 1899.59 389.857 1900.93 Q387.692 1902.26 387.692 1904.94 Q387.692 1906.98 389.252 1908.15 Q390.812 1909.3 395.522 1910.35 L397.527 1910.79 Q403.766 1912.13 406.376 1914.58 Q409.017 1917 409.017 1921.36 Q409.017 1926.33 405.071 1929.22 Q401.156 1932.12 394.281 1932.12 Q391.416 1932.12 388.297 1931.55 Q385.21 1931.01 381.772 1929.89 L381.772 1923.84 Q385.019 1925.53 388.17 1926.39 Q391.321 1927.22 394.408 1927.22 Q398.546 1927.22 400.774 1925.82 Q403.002 1924.39 403.002 1921.81 Q403.002 1919.42 401.379 1918.15 Q399.787 1916.87 394.344 1915.7 L392.307 1915.22 Q386.865 1914.07 384.446 1911.72 Q382.027 1909.33 382.027 1905.19 Q382.027 1900.16 385.592 1897.43 Q389.156 1894.69 395.713 1894.69 Q398.96 1894.69 401.824 1895.17 Q404.689 1895.64 407.108 1896.6 Z\" fill=\"#000000\" fill-rule=\"evenodd\" fill-opacity=\"1\" /><path clip-path=\"url(#clip030)\" d=\"M424.136 1885.43 L424.136 1895.55 L436.199 1895.55 L436.199 1900.1 L424.136 1900.1 L424.136 1919.45 Q424.136 1923.81 425.314 1925.05 Q426.523 1926.29 430.183 1926.29 L436.199 1926.29 L436.199 1931.2 L430.183 1931.2 Q423.404 1931.2 420.826 1928.68 Q418.248 1926.14 418.248 1919.45 L418.248 1900.1 L413.951 1900.1 L413.951 1895.55 L418.248 1895.55 L418.248 1885.43 L424.136 1885.43 Z\" fill=\"#000000\" fill-rule=\"evenodd\" fill-opacity=\"1\" /><path clip-path=\"url(#clip030)\" d=\"M443.902 1895.55 L449.758 1895.55 L449.758 1931.2 L443.902 1931.2 L443.902 1895.55 M443.902 1881.67 L449.758 1881.67 L449.758 1889.09 L443.902 1889.09 L443.902 1881.67 Z\" fill=\"#000000\" fill-rule=\"evenodd\" fill-opacity=\"1\" /><path clip-path=\"url(#clip030)\" d=\"M487.666 1896.92 L487.666 1902.39 Q485.183 1901.02 482.669 1900.35 Q480.186 1899.65 477.64 1899.65 Q471.942 1899.65 468.791 1903.28 Q465.64 1906.88 465.64 1913.4 Q465.64 1919.93 468.791 1923.56 Q471.942 1927.15 477.64 1927.15 Q480.186 1927.15 482.669 1926.49 Q485.183 1925.79 487.666 1924.42 L487.666 1929.83 Q485.215 1930.97 482.573 1931.55 Q479.963 1932.12 477.003 1932.12 Q468.951 1932.12 464.208 1927.06 Q459.466 1922 459.466 1913.4 Q459.466 1904.68 464.24 1899.69 Q469.046 1894.69 477.385 1894.69 Q480.091 1894.69 482.669 1895.26 Q485.247 1895.8 487.666 1896.92 Z\" fill=\"#000000\" fill-rule=\"evenodd\" fill-opacity=\"1\" /><path clip-path=\"url(#clip030)\" d=\"M524.937 1942.02 L524.937 1946.57 L491.071 1946.57 L491.071 1942.02 L524.937 1942.02 Z\" fill=\"#000000\" fill-rule=\"evenodd\" fill-opacity=\"1\" /><path clip-path=\"url(#clip030)\" d=\"M556.097 1896.92 L556.097 1902.39 Q553.614 1901.02 551.1 1900.35 Q548.617 1899.65 546.071 1899.65 Q540.374 1899.65 537.223 1903.28 Q534.072 1906.88 534.072 1913.4 Q534.072 1919.93 537.223 1923.56 Q540.374 1927.15 546.071 1927.15 Q548.617 1927.15 551.1 1926.49 Q553.614 1925.79 556.097 1924.42 L556.097 1929.83 Q553.646 1930.97 551.005 1931.55 Q548.395 1932.12 545.435 1932.12 Q537.382 1932.12 532.639 1927.06 Q527.897 1922 527.897 1913.4 Q527.897 1904.68 532.671 1899.69 Q537.477 1894.69 545.816 1894.69 Q548.522 1894.69 551.1 1895.26 Q553.678 1895.8 556.097 1896.92 Z\" fill=\"#000000\" fill-rule=\"evenodd\" fill-opacity=\"1\" /><path clip-path=\"url(#clip030)\" d=\"M566.282 1881.67 L572.139 1881.67 L572.139 1931.2 L566.282 1931.2 L566.282 1881.67 Z\" fill=\"#000000\" fill-rule=\"evenodd\" fill-opacity=\"1\" /><path clip-path=\"url(#clip030)\" d=\"M600.593 1913.28 Q593.496 1913.28 590.758 1914.9 Q588.021 1916.52 588.021 1920.44 Q588.021 1923.56 590.058 1925.4 Q592.127 1927.22 595.66 1927.22 Q600.53 1927.22 603.458 1923.78 Q606.418 1920.31 606.418 1914.58 L606.418 1913.28 L600.593 1913.28 M612.274 1910.86 L612.274 1931.2 L606.418 1931.2 L606.418 1925.79 Q604.413 1929.03 601.421 1930.59 Q598.429 1932.12 594.1 1932.12 Q588.626 1932.12 585.379 1929.06 Q582.165 1925.98 582.165 1920.82 Q582.165 1914.8 586.175 1911.75 Q590.217 1908.69 598.206 1908.69 L606.418 1908.69 L606.418 1908.12 Q606.418 1904.08 603.744 1901.88 Q601.103 1899.65 596.297 1899.65 Q593.241 1899.65 590.345 1900.39 Q587.448 1901.12 584.775 1902.58 L584.775 1897.17 Q587.989 1895.93 591.013 1895.33 Q594.037 1894.69 596.901 1894.69 Q604.636 1894.69 608.455 1898.7 Q612.274 1902.71 612.274 1910.86 Z\" fill=\"#000000\" fill-rule=\"evenodd\" fill-opacity=\"1\" /><path clip-path=\"url(#clip030)\" d=\"M647.063 1896.6 L647.063 1902.14 Q644.58 1900.86 641.907 1900.23 Q639.233 1899.59 636.369 1899.59 Q632.008 1899.59 629.812 1900.93 Q627.648 1902.26 627.648 1904.94 Q627.648 1906.98 629.207 1908.15 Q630.767 1909.3 635.477 1910.35 L637.483 1910.79 Q643.721 1912.13 646.331 1914.58 Q648.973 1917 648.973 1921.36 Q648.973 1926.33 645.026 1929.22 Q641.111 1932.12 634.236 1932.12 Q631.372 1932.12 628.252 1931.55 Q625.165 1931.01 621.728 1929.89 L621.728 1923.84 Q624.974 1925.53 628.125 1926.39 Q631.276 1927.22 634.363 1927.22 Q638.501 1927.22 640.729 1925.82 Q642.957 1924.39 642.957 1921.81 Q642.957 1919.42 641.334 1918.15 Q639.742 1916.87 634.3 1915.7 L632.263 1915.22 Q626.82 1914.07 624.401 1911.72 Q621.982 1909.33 621.982 1905.19 Q621.982 1900.16 625.547 1897.43 Q629.112 1894.69 635.668 1894.69 Q638.915 1894.69 641.78 1895.17 Q644.644 1895.64 647.063 1896.6 Z\" fill=\"#000000\" fill-rule=\"evenodd\" fill-opacity=\"1\" /><path clip-path=\"url(#clip030)\" d=\"M681.024 1896.6 L681.024 1902.14 Q678.541 1900.86 675.868 1900.23 Q673.194 1899.59 670.33 1899.59 Q665.969 1899.59 663.773 1900.93 Q661.609 1902.26 661.609 1904.94 Q661.609 1906.98 663.168 1908.15 Q664.728 1909.3 669.439 1910.35 L671.444 1910.79 Q677.682 1912.13 680.292 1914.58 Q682.934 1917 682.934 1921.36 Q682.934 1926.33 678.987 1929.22 Q675.072 1932.12 668.197 1932.12 Q665.333 1932.12 662.213 1931.55 Q659.126 1931.01 655.689 1929.89 L655.689 1923.84 Q658.935 1925.53 662.086 1926.39 Q665.237 1927.22 668.325 1927.22 Q672.462 1927.22 674.69 1925.82 Q676.918 1924.39 676.918 1921.81 Q676.918 1919.42 675.295 1918.15 Q673.704 1916.87 668.261 1915.7 L666.224 1915.22 Q660.781 1914.07 658.362 1911.72 Q655.943 1909.33 655.943 1905.19 Q655.943 1900.16 659.508 1897.43 Q663.073 1894.69 669.629 1894.69 Q672.876 1894.69 675.741 1895.17 Q678.605 1895.64 681.024 1896.6 Z\" fill=\"#000000\" fill-rule=\"evenodd\" fill-opacity=\"1\" /><path clip-path=\"url(#clip030)\" d=\"M692.26 1895.55 L698.116 1895.55 L698.116 1931.2 L692.26 1931.2 L692.26 1895.55 M692.26 1881.67 L698.116 1881.67 L698.116 1889.09 L692.26 1889.09 L692.26 1881.67 Z\" fill=\"#000000\" fill-rule=\"evenodd\" fill-opacity=\"1\" /><path clip-path=\"url(#clip030)\" d=\"M728.417 1881.67 L728.417 1886.54 L722.815 1886.54 Q719.664 1886.54 718.423 1887.81 Q717.213 1889.09 717.213 1892.4 L717.213 1895.55 L726.857 1895.55 L726.857 1900.1 L717.213 1900.1 L717.213 1931.2 L711.325 1931.2 L711.325 1900.1 L705.723 1900.1 L705.723 1895.55 L711.325 1895.55 L711.325 1893.07 Q711.325 1887.11 714.094 1884.41 Q716.863 1881.67 722.879 1881.67 L728.417 1881.67 Z\" fill=\"#000000\" fill-rule=\"evenodd\" fill-opacity=\"1\" /><path clip-path=\"url(#clip030)\" d=\"M733.318 1895.55 L739.175 1895.55 L739.175 1931.2 L733.318 1931.2 L733.318 1895.55 M733.318 1881.67 L739.175 1881.67 L739.175 1889.09 L733.318 1889.09 L733.318 1881.67 Z\" fill=\"#000000\" fill-rule=\"evenodd\" fill-opacity=\"1\" /><path clip-path=\"url(#clip030)\" d=\"M781.921 1911.91 L781.921 1914.77 L754.994 1914.77 Q755.376 1920.82 758.622 1924 Q761.9 1927.15 767.725 1927.15 Q771.099 1927.15 774.25 1926.33 Q777.433 1925.5 780.552 1923.84 L780.552 1929.38 Q777.401 1930.72 774.091 1931.42 Q770.781 1932.12 767.375 1932.12 Q758.845 1932.12 753.848 1927.15 Q748.883 1922.19 748.883 1913.72 Q748.883 1904.97 753.593 1899.85 Q758.336 1894.69 766.356 1894.69 Q773.55 1894.69 777.719 1899.34 Q781.921 1903.95 781.921 1911.91 M776.064 1910.19 Q776 1905.38 773.359 1902.52 Q770.749 1899.65 766.42 1899.65 Q761.518 1899.65 758.558 1902.42 Q755.63 1905.19 755.185 1910.22 L776.064 1910.19 Z\" fill=\"#000000\" fill-rule=\"evenodd\" fill-opacity=\"1\" /><path clip-path=\"url(#clip030)\" d=\"M812.189 1901.02 Q811.203 1900.45 810.025 1900.2 Q808.879 1899.91 807.479 1899.91 Q802.514 1899.91 799.84 1903.16 Q797.198 1906.37 797.198 1912.42 L797.198 1931.2 L791.31 1931.2 L791.31 1895.55 L797.198 1895.55 L797.198 1901.09 Q799.044 1897.84 802.004 1896.28 Q804.964 1894.69 809.198 1894.69 Q809.802 1894.69 810.534 1894.78 Q811.266 1894.85 812.158 1895.01 L812.189 1901.02 Z\" fill=\"#000000\" fill-rule=\"evenodd\" fill-opacity=\"1\" /><path clip-path=\"url(#clip030)\" d=\"M813.176 1923.11 L819.892 1923.11 L819.892 1931.2 L813.176 1931.2 L813.176 1923.11 Z\" fill=\"#000000\" fill-rule=\"evenodd\" fill-opacity=\"1\" /><path clip-path=\"url(#clip030)\" d=\"M833.069 1881.67 L838.925 1881.67 L838.925 1931.2 L833.069 1931.2 L833.069 1881.67 Z\" fill=\"#000000\" fill-rule=\"evenodd\" fill-opacity=\"1\" /><path clip-path=\"url(#clip030)\" d=\"M867.38 1913.28 Q860.282 1913.28 857.545 1914.9 Q854.808 1916.52 854.808 1920.44 Q854.808 1923.56 856.845 1925.4 Q858.914 1927.22 862.447 1927.22 Q867.316 1927.22 870.245 1923.78 Q873.205 1920.31 873.205 1914.58 L873.205 1913.28 L867.38 1913.28 M879.061 1910.86 L879.061 1931.2 L873.205 1931.2 L873.205 1925.79 Q871.2 1929.03 868.208 1930.59 Q865.216 1932.12 860.887 1932.12 Q855.413 1932.12 852.166 1929.06 Q848.951 1925.98 848.951 1920.82 Q848.951 1914.8 852.962 1911.75 Q857.004 1908.69 864.993 1908.69 L873.205 1908.69 L873.205 1908.12 Q873.205 1904.08 870.531 1901.88 Q867.889 1899.65 863.083 1899.65 Q860.028 1899.65 857.131 1900.39 Q854.235 1901.12 851.561 1902.58 L851.561 1897.17 Q854.776 1895.93 857.8 1895.33 Q860.823 1894.69 863.688 1894.69 Q871.422 1894.69 875.242 1898.7 Q879.061 1902.71 879.061 1910.86 Z\" fill=\"#000000\" fill-rule=\"evenodd\" fill-opacity=\"1\" /><path clip-path=\"url(#clip030)\" d=\"M918.879 1902.39 Q921.075 1898.45 924.13 1896.57 Q927.186 1894.69 931.324 1894.69 Q936.894 1894.69 939.917 1898.6 Q942.941 1902.49 942.941 1909.68 L942.941 1931.2 L937.053 1931.2 L937.053 1909.87 Q937.053 1904.75 935.239 1902.26 Q933.424 1899.78 929.7 1899.78 Q925.149 1899.78 922.507 1902.81 Q919.865 1905.83 919.865 1911.05 L919.865 1931.2 L913.977 1931.2 L913.977 1909.87 Q913.977 1904.72 912.163 1902.26 Q910.349 1899.78 906.561 1899.78 Q902.073 1899.78 899.431 1902.84 Q896.79 1905.86 896.79 1911.05 L896.79 1931.2 L890.901 1931.2 L890.901 1895.55 L896.79 1895.55 L896.79 1901.09 Q898.795 1897.81 901.596 1896.25 Q904.397 1894.69 908.248 1894.69 Q912.131 1894.69 914.836 1896.66 Q917.574 1898.64 918.879 1902.39 Z\" fill=\"#000000\" fill-rule=\"evenodd\" fill-opacity=\"1\" /><path clip-path=\"url(#clip030)\" d=\"M980.212 1913.4 Q980.212 1906.94 977.539 1903.28 Q974.897 1899.59 970.25 1899.59 Q965.603 1899.59 962.929 1903.28 Q960.288 1906.94 960.288 1913.4 Q960.288 1919.87 962.929 1923.56 Q965.603 1927.22 970.25 1927.22 Q974.897 1927.22 977.539 1923.56 Q980.212 1919.87 980.212 1913.4 M960.288 1900.96 Q962.134 1897.78 964.935 1896.25 Q967.767 1894.69 971.682 1894.69 Q978.175 1894.69 982.218 1899.85 Q986.292 1905 986.292 1913.4 Q986.292 1921.81 982.218 1926.96 Q978.175 1932.12 971.682 1932.12 Q967.767 1932.12 964.935 1930.59 Q962.134 1929.03 960.288 1925.85 L960.288 1931.2 L954.399 1931.2 L954.399 1881.67 L960.288 1881.67 L960.288 1900.96 Z\" fill=\"#000000\" fill-rule=\"evenodd\" fill-opacity=\"1\" /><path clip-path=\"url(#clip030)\" d=\"M1019.46 1900.96 L1019.46 1881.67 L1025.31 1881.67 L1025.31 1931.2 L1019.46 1931.2 L1019.46 1925.85 Q1017.61 1929.03 1014.78 1930.59 Q1011.98 1932.12 1008.03 1932.12 Q1001.57 1932.12 997.495 1926.96 Q993.453 1921.81 993.453 1913.4 Q993.453 1905 997.495 1899.85 Q1001.57 1894.69 1008.03 1894.69 Q1011.98 1894.69 1014.78 1896.25 Q1017.61 1897.78 1019.46 1900.96 M999.5 1913.4 Q999.5 1919.87 1002.14 1923.56 Q1004.82 1927.22 1009.46 1927.22 Q1014.11 1927.22 1016.78 1923.56 Q1019.46 1919.87 1019.46 1913.4 Q1019.46 1906.94 1016.78 1903.28 Q1014.11 1899.59 1009.46 1899.59 Q1004.82 1899.59 1002.14 1903.28 Q999.5 1906.94 999.5 1913.4 Z\" fill=\"#000000\" fill-rule=\"evenodd\" fill-opacity=\"1\" /><path clip-path=\"url(#clip030)\" d=\"M1053.58 1913.28 Q1046.48 1913.28 1043.74 1914.9 Q1041 1916.52 1041 1920.44 Q1041 1923.56 1043.04 1925.4 Q1045.11 1927.22 1048.64 1927.22 Q1053.51 1927.22 1056.44 1923.78 Q1059.4 1920.31 1059.4 1914.58 L1059.4 1913.28 L1053.58 1913.28 M1065.26 1910.86 L1065.26 1931.2 L1059.4 1931.2 L1059.4 1925.79 Q1057.4 1929.03 1054.4 1930.59 Q1051.41 1932.12 1047.08 1932.12 Q1041.61 1932.12 1038.36 1929.06 Q1035.15 1925.98 1035.15 1920.82 Q1035.15 1914.8 1039.16 1911.75 Q1043.2 1908.69 1051.19 1908.69 L1059.4 1908.69 L1059.4 1908.12 Q1059.4 1904.08 1056.73 1901.88 Q1054.09 1899.65 1049.28 1899.65 Q1046.22 1899.65 1043.33 1900.39 Q1040.43 1901.12 1037.76 1902.58 L1037.76 1897.17 Q1040.97 1895.93 1044 1895.33 Q1047.02 1894.69 1049.88 1894.69 Q1057.62 1894.69 1061.44 1898.7 Q1065.26 1902.71 1065.26 1910.86 Z\" fill=\"#000000\" fill-rule=\"evenodd\" fill-opacity=\"1\" /><polyline clip-path=\"url(#clip034)\" style=\"stroke:#000000; stroke-linecap:butt; stroke-linejoin:round; stroke-width:2; stroke-opacity:0.1; fill:none\" points=\"\n",
       "  274.706,1767.43 1057.45,1767.43 \n",
       "  \"/>\n",
       "<polyline clip-path=\"url(#clip034)\" style=\"stroke:#000000; stroke-linecap:butt; stroke-linejoin:round; stroke-width:2; stroke-opacity:0.1; fill:none\" points=\"\n",
       "  274.706,1037.25 1057.45,1037.25 \n",
       "  \"/>\n",
       "<polyline clip-path=\"url(#clip030)\" style=\"stroke:#000000; stroke-linecap:butt; stroke-linejoin:round; stroke-width:4; stroke-opacity:1; fill:none\" points=\"\n",
       "  274.706,1789.33 274.706,1015.34 \n",
       "  \"/>\n",
       "<polyline clip-path=\"url(#clip030)\" style=\"stroke:#000000; stroke-linecap:butt; stroke-linejoin:round; stroke-width:4; stroke-opacity:1; fill:none\" points=\"\n",
       "  1057.45,1789.33 1057.45,1015.34 \n",
       "  \"/>\n",
       "<polyline clip-path=\"url(#clip030)\" style=\"stroke:#000000; stroke-linecap:butt; stroke-linejoin:round; stroke-width:4; stroke-opacity:1; fill:none\" points=\"\n",
       "  274.706,1767.43 293.604,1767.43 \n",
       "  \"/>\n",
       "<polyline clip-path=\"url(#clip030)\" style=\"stroke:#000000; stroke-linecap:butt; stroke-linejoin:round; stroke-width:4; stroke-opacity:1; fill:none\" points=\"\n",
       "  274.706,1037.25 293.604,1037.25 \n",
       "  \"/>\n",
       "<path clip-path=\"url(#clip030)\" d=\"M155.619 1751.42 L155.619 1758.78 L164.392 1758.78 L164.392 1762.09 L155.619 1762.09 L155.619 1776.17 Q155.619 1779.34 156.475 1780.24 Q157.355 1781.14 160.017 1781.14 L164.392 1781.14 L164.392 1784.71 L160.017 1784.71 Q155.086 1784.71 153.211 1782.88 Q151.336 1781.03 151.336 1776.17 L151.336 1762.09 L148.211 1762.09 L148.211 1758.78 L151.336 1758.78 L151.336 1751.42 L155.619 1751.42 Z\" fill=\"#000000\" fill-rule=\"evenodd\" fill-opacity=\"1\" /><path clip-path=\"url(#clip030)\" d=\"M185.017 1762.76 Q184.299 1762.35 183.443 1762.16 Q182.609 1761.95 181.591 1761.95 Q177.98 1761.95 176.035 1764.31 Q174.114 1766.65 174.114 1771.05 L174.114 1784.71 L169.832 1784.71 L169.832 1758.78 L174.114 1758.78 L174.114 1762.81 Q175.457 1760.45 177.609 1759.31 Q179.762 1758.16 182.841 1758.16 Q183.281 1758.16 183.813 1758.23 Q184.345 1758.27 184.994 1758.39 L185.017 1762.76 Z\" fill=\"#000000\" fill-rule=\"evenodd\" fill-opacity=\"1\" /><path clip-path=\"url(#clip030)\" d=\"M189.044 1774.48 L189.044 1758.78 L193.304 1758.78 L193.304 1774.31 Q193.304 1777.99 194.739 1779.85 Q196.174 1781.67 199.044 1781.67 Q202.493 1781.67 204.484 1779.48 Q206.498 1777.28 206.498 1773.48 L206.498 1758.78 L210.757 1758.78 L210.757 1784.71 L206.498 1784.71 L206.498 1780.73 Q204.947 1783.09 202.887 1784.24 Q200.85 1785.38 198.142 1785.38 Q193.674 1785.38 191.359 1782.6 Q189.044 1779.82 189.044 1774.48 M199.762 1758.16 L199.762 1758.16 Z\" fill=\"#000000\" fill-rule=\"evenodd\" fill-opacity=\"1\" /><path clip-path=\"url(#clip030)\" d=\"M241.706 1770.68 L241.706 1772.76 L222.123 1772.76 Q222.401 1777.16 224.762 1779.48 Q227.146 1781.77 231.382 1781.77 Q233.836 1781.77 236.128 1781.17 Q238.442 1780.56 240.711 1779.36 L240.711 1783.39 Q238.419 1784.36 236.012 1784.87 Q233.604 1785.38 231.128 1785.38 Q224.924 1785.38 221.29 1781.77 Q217.679 1778.16 217.679 1772 Q217.679 1765.63 221.104 1761.91 Q224.554 1758.16 230.387 1758.16 Q235.618 1758.16 238.651 1761.54 Q241.706 1764.89 241.706 1770.68 M237.447 1769.43 Q237.401 1765.93 235.479 1763.85 Q233.581 1761.77 230.433 1761.77 Q226.868 1761.77 224.716 1763.78 Q222.586 1765.8 222.262 1769.45 L237.447 1769.43 Z\" fill=\"#000000\" fill-rule=\"evenodd\" fill-opacity=\"1\" /><path clip-path=\"url(#clip030)\" d=\"M149.045 1018.51 L149.045 1022.05 L144.971 1022.05 Q142.679 1022.05 141.776 1022.98 Q140.897 1023.91 140.897 1026.31 L140.897 1028.6 L147.91 1028.6 L147.91 1031.91 L140.897 1031.91 L140.897 1054.53 L136.614 1054.53 L136.614 1031.91 L132.54 1031.91 L132.54 1028.6 L136.614 1028.6 L136.614 1026.8 Q136.614 1022.47 138.628 1020.5 Q140.642 1018.51 145.017 1018.51 L149.045 1018.51 Z\" fill=\"#000000\" fill-rule=\"evenodd\" fill-opacity=\"1\" /><path clip-path=\"url(#clip030)\" d=\"M164.392 1041.5 Q159.23 1041.5 157.239 1042.68 Q155.248 1043.86 155.248 1046.71 Q155.248 1048.97 156.73 1050.32 Q158.234 1051.64 160.804 1051.64 Q164.346 1051.64 166.475 1049.14 Q168.628 1046.61 168.628 1042.45 L168.628 1041.5 L164.392 1041.5 M172.887 1039.74 L172.887 1054.53 L168.628 1054.53 L168.628 1050.6 Q167.17 1052.96 164.994 1054.09 Q162.818 1055.2 159.67 1055.2 Q155.688 1055.2 153.327 1052.98 Q150.989 1050.73 150.989 1046.98 Q150.989 1042.61 153.906 1040.39 Q156.846 1038.16 162.656 1038.16 L168.628 1038.16 L168.628 1037.75 Q168.628 1034.81 166.683 1033.21 Q164.762 1031.59 161.267 1031.59 Q159.045 1031.59 156.938 1032.12 Q154.832 1032.66 152.887 1033.72 L152.887 1029.79 Q155.225 1028.88 157.424 1028.44 Q159.623 1027.98 161.707 1027.98 Q167.332 1027.98 170.109 1030.9 Q172.887 1033.81 172.887 1039.74 Z\" fill=\"#000000\" fill-rule=\"evenodd\" fill-opacity=\"1\" /><path clip-path=\"url(#clip030)\" d=\"M181.66 1018.51 L185.92 1018.51 L185.92 1054.53 L181.66 1054.53 L181.66 1018.51 Z\" fill=\"#000000\" fill-rule=\"evenodd\" fill-opacity=\"1\" /><path clip-path=\"url(#clip030)\" d=\"M211.359 1029.37 L211.359 1033.4 Q209.554 1032.47 207.609 1032.01 Q205.665 1031.54 203.581 1031.54 Q200.41 1031.54 198.813 1032.52 Q197.239 1033.49 197.239 1035.43 Q197.239 1036.91 198.373 1037.77 Q199.507 1038.6 202.933 1039.37 L204.392 1039.69 Q208.929 1040.66 210.827 1042.45 Q212.748 1044.21 212.748 1047.38 Q212.748 1050.99 209.878 1053.1 Q207.03 1055.2 202.031 1055.2 Q199.947 1055.2 197.679 1054.78 Q195.433 1054.39 192.933 1053.58 L192.933 1049.18 Q195.294 1050.41 197.586 1051.03 Q199.878 1051.64 202.123 1051.64 Q205.132 1051.64 206.753 1050.62 Q208.373 1049.58 208.373 1047.7 Q208.373 1045.97 207.193 1045.04 Q206.035 1044.11 202.077 1043.26 L200.595 1042.91 Q196.637 1042.08 194.878 1040.36 Q193.119 1038.63 193.119 1035.62 Q193.119 1031.96 195.711 1029.97 Q198.304 1027.98 203.072 1027.98 Q205.433 1027.98 207.517 1028.33 Q209.6 1028.67 211.359 1029.37 Z\" fill=\"#000000\" fill-rule=\"evenodd\" fill-opacity=\"1\" /><path clip-path=\"url(#clip030)\" d=\"M241.706 1040.5 L241.706 1042.59 L222.123 1042.59 Q222.401 1046.98 224.762 1049.3 Q227.146 1051.59 231.382 1051.59 Q233.836 1051.59 236.128 1050.99 Q238.442 1050.39 240.711 1049.18 L240.711 1053.21 Q238.419 1054.18 236.012 1054.69 Q233.604 1055.2 231.128 1055.2 Q224.924 1055.2 221.29 1051.59 Q217.679 1047.98 217.679 1041.82 Q217.679 1035.46 221.104 1031.73 Q224.554 1027.98 230.387 1027.98 Q235.618 1027.98 238.651 1031.36 Q241.706 1034.72 241.706 1040.5 M237.447 1039.25 Q237.401 1035.76 235.479 1033.67 Q233.581 1031.59 230.433 1031.59 Q226.868 1031.59 224.716 1033.6 Q222.586 1035.62 222.262 1039.28 L237.447 1039.25 Z\" fill=\"#000000\" fill-rule=\"evenodd\" fill-opacity=\"1\" /><path clip-path=\"url(#clip030)\" d=\"M51.0048 2108.68 L56.4793 2108.68 Q55.1107 2111.16 54.4423 2113.67 Q53.7421 2116.16 53.7421 2118.7 Q53.7421 2124.4 57.3705 2127.55 Q60.9672 2130.7 67.492 2130.7 Q74.0169 2130.7 77.6453 2127.55 Q81.2419 2124.4 81.2419 2118.7 Q81.2419 2116.16 80.5735 2113.67 Q79.8733 2111.16 78.5047 2108.68 L83.9155 2108.68 Q85.0614 2111.13 85.6343 2113.77 Q86.2072 2116.38 86.2072 2119.34 Q86.2072 2127.39 81.1464 2132.14 Q76.0857 2136.88 67.492 2136.88 Q58.771 2136.88 53.7739 2132.1 Q48.7768 2127.3 48.7768 2118.96 Q48.7768 2116.25 49.3497 2113.67 Q49.8908 2111.1 51.0048 2108.68 Z\" fill=\"#000000\" fill-rule=\"evenodd\" fill-opacity=\"1\" /><path clip-path=\"url(#clip030)\" d=\"M53.7421 2084.68 Q53.7421 2089.39 57.4342 2092.13 Q61.0945 2094.86 67.492 2094.86 Q73.8895 2094.86 77.5817 2092.16 Q81.2419 2089.42 81.2419 2084.68 Q81.2419 2080 77.5498 2077.26 Q73.8577 2074.53 67.492 2074.53 Q61.1581 2074.53 57.466 2077.26 Q53.7421 2080 53.7421 2084.68 M48.7768 2084.68 Q48.7768 2077.04 53.7421 2072.68 Q58.7073 2068.32 67.492 2068.32 Q76.2449 2068.32 81.2419 2072.68 Q86.2072 2077.04 86.2072 2084.68 Q86.2072 2092.35 81.2419 2096.71 Q76.2449 2101.04 67.492 2101.04 Q58.7073 2101.04 53.7421 2096.71 Q48.7768 2092.35 48.7768 2084.68 Z\" fill=\"#000000\" fill-rule=\"evenodd\" fill-opacity=\"1\" /><path clip-path=\"url(#clip030)\" d=\"M63.7681 2028.98 L85.2842 2028.98 L85.2842 2034.84 L63.959 2034.84 Q58.8983 2034.84 56.3838 2036.81 Q53.8694 2038.78 53.8694 2042.73 Q53.8694 2047.47 56.8931 2050.21 Q59.9168 2052.95 65.1367 2052.95 L85.2842 2052.95 L85.2842 2058.83 L49.6362 2058.83 L49.6362 2052.95 L55.1744 2052.95 Q51.9597 2050.85 50.3683 2048.01 Q48.7768 2045.15 48.7768 2041.42 Q48.7768 2035.28 52.5963 2032.13 Q56.3838 2028.98 63.7681 2028.98 Z\" fill=\"#000000\" fill-rule=\"evenodd\" fill-opacity=\"1\" /><path clip-path=\"url(#clip030)\" d=\"M39.5147 2011.51 L49.6362 2011.51 L49.6362 1999.44 L54.1877 1999.44 L54.1877 2011.51 L73.5394 2011.51 Q77.8999 2011.51 79.1413 2010.33 Q80.3826 2009.12 80.3826 2005.46 L80.3826 1999.44 L85.2842 1999.44 L85.2842 2005.46 Q85.2842 2012.24 82.7697 2014.82 Q80.2234 2017.39 73.5394 2017.39 L54.1877 2017.39 L54.1877 2021.69 L49.6362 2021.69 L49.6362 2017.39 L39.5147 2017.39 L39.5147 2011.51 Z\" fill=\"#000000\" fill-rule=\"evenodd\" fill-opacity=\"1\" /><path clip-path=\"url(#clip030)\" d=\"M49.6362 1991.74 L49.6362 1985.88 L85.2842 1985.88 L85.2842 1991.74 L49.6362 1991.74 M35.759 1991.74 L35.759 1985.88 L43.175 1985.88 L43.175 1991.74 L35.759 1991.74 Z\" fill=\"#000000\" fill-rule=\"evenodd\" fill-opacity=\"1\" /><path clip-path=\"url(#clip030)\" d=\"M63.7681 1944 L85.2842 1944 L85.2842 1949.85 L63.959 1949.85 Q58.8983 1949.85 56.3838 1951.83 Q53.8694 1953.8 53.8694 1957.75 Q53.8694 1962.49 56.8931 1965.23 Q59.9168 1967.96 65.1367 1967.96 L85.2842 1967.96 L85.2842 1973.85 L49.6362 1973.85 L49.6362 1967.96 L55.1744 1967.96 Q51.9597 1965.86 50.3683 1963.03 Q48.7768 1960.17 48.7768 1956.44 Q48.7768 1950.3 52.5963 1947.15 Q56.3838 1944 63.7681 1944 Z\" fill=\"#000000\" fill-rule=\"evenodd\" fill-opacity=\"1\" /><path clip-path=\"url(#clip030)\" d=\"M71.2159 1932.92 L49.6362 1932.92 L49.6362 1927.06 L70.9931 1927.06 Q76.0539 1927.06 78.6002 1925.09 Q81.1146 1923.12 81.1146 1919.17 Q81.1146 1914.43 78.0909 1911.69 Q75.0672 1908.92 69.8473 1908.92 L49.6362 1908.92 L49.6362 1903.07 L85.2842 1903.07 L85.2842 1908.92 L79.8096 1908.92 Q83.0562 1911.05 84.6476 1913.89 Q86.2072 1916.69 86.2072 1920.41 Q86.2072 1926.55 82.3878 1929.74 Q78.5683 1932.92 71.2159 1932.92 M48.7768 1918.18 L48.7768 1918.18 Z\" fill=\"#000000\" fill-rule=\"evenodd\" fill-opacity=\"1\" /><path clip-path=\"url(#clip030)\" d=\"M53.7421 1877.19 Q53.7421 1881.9 57.4342 1884.64 Q61.0945 1887.37 67.492 1887.37 Q73.8895 1887.37 77.5817 1884.67 Q81.2419 1881.93 81.2419 1877.19 Q81.2419 1872.51 77.5498 1869.77 Q73.8577 1867.04 67.492 1867.04 Q61.1581 1867.04 57.466 1869.77 Q53.7421 1872.51 53.7421 1877.19 M48.7768 1877.19 Q48.7768 1869.55 53.7421 1865.19 Q58.7073 1860.83 67.492 1860.83 Q76.2449 1860.83 81.2419 1865.19 Q86.2072 1869.55 86.2072 1877.19 Q86.2072 1884.86 81.2419 1889.22 Q76.2449 1893.55 67.492 1893.55 Q58.7073 1893.55 53.7421 1889.22 Q48.7768 1884.86 48.7768 1877.19 Z\" fill=\"#000000\" fill-rule=\"evenodd\" fill-opacity=\"1\" /><path clip-path=\"url(#clip030)\" d=\"M71.2159 1851.73 L49.6362 1851.73 L49.6362 1845.87 L70.9931 1845.87 Q76.0539 1845.87 78.6002 1843.9 Q81.1146 1841.92 81.1146 1837.98 Q81.1146 1833.23 78.0909 1830.5 Q75.0672 1827.73 69.8473 1827.73 L49.6362 1827.73 L49.6362 1821.87 L85.2842 1821.87 L85.2842 1827.73 L79.8096 1827.73 Q83.0562 1829.86 84.6476 1832.69 Q86.2072 1835.49 86.2072 1839.22 Q86.2072 1845.36 82.3878 1848.54 Q78.5683 1851.73 71.2159 1851.73 M48.7768 1836.99 L48.7768 1836.99 Z\" fill=\"#000000\" fill-rule=\"evenodd\" fill-opacity=\"1\" /><path clip-path=\"url(#clip030)\" d=\"M50.6865 1787.08 L56.2247 1787.08 Q54.9516 1789.56 54.315 1792.24 Q53.6784 1794.91 53.6784 1797.78 Q53.6784 1802.14 55.0152 1804.33 Q56.352 1806.5 59.0256 1806.5 Q61.0626 1806.5 62.2403 1804.94 Q63.3861 1803.38 64.4365 1798.67 L64.8821 1796.66 Q66.2189 1790.42 68.6697 1787.81 Q71.0886 1785.17 75.4491 1785.17 Q80.4144 1785.17 83.3108 1789.12 Q86.2072 1793.03 86.2072 1799.91 Q86.2072 1802.77 85.6343 1805.89 Q85.0932 1808.98 83.9792 1812.42 L77.9318 1812.42 Q79.6187 1809.17 80.478 1806.02 Q81.3056 1802.87 81.3056 1799.78 Q81.3056 1795.64 79.9051 1793.42 Q78.4729 1791.19 75.8947 1791.19 Q73.5076 1791.19 72.2345 1792.81 Q70.9613 1794.4 69.7837 1799.85 L69.3062 1801.88 Q68.1604 1807.33 65.8051 1809.74 Q63.418 1812.16 59.2802 1812.16 Q54.2513 1812.16 51.5141 1808.6 Q48.7768 1805.03 48.7768 1798.48 Q48.7768 1795.23 49.2543 1792.37 Q49.7317 1789.5 50.6865 1787.08 Z\" fill=\"#000000\" fill-rule=\"evenodd\" fill-opacity=\"1\" /><path clip-path=\"url(#clip030)\" d=\"M96.1059 1748.76 L100.657 1748.76 L100.657 1782.63 L96.1059 1782.63 L96.1059 1748.76 Z\" fill=\"#000000\" fill-rule=\"evenodd\" fill-opacity=\"1\" /><path clip-path=\"url(#clip030)\" d=\"M65.9961 1712.76 L68.8606 1712.76 L68.8606 1739.69 Q74.9081 1739.31 78.0909 1736.06 Q81.2419 1732.78 81.2419 1726.96 Q81.2419 1723.58 80.4144 1720.43 Q79.5869 1717.25 77.9318 1714.13 L83.4699 1714.13 Q84.8067 1717.28 85.507 1720.59 Q86.2072 1723.9 86.2072 1727.31 Q86.2072 1735.84 81.2419 1740.84 Q76.2767 1745.8 67.8103 1745.8 Q59.0574 1745.8 53.9331 1741.09 Q48.7768 1736.35 48.7768 1728.33 Q48.7768 1721.13 53.4238 1716.96 Q58.0389 1712.76 65.9961 1712.76 M64.2773 1718.62 Q59.4712 1718.68 56.6066 1721.32 Q53.7421 1723.93 53.7421 1728.26 Q53.7421 1733.16 56.5112 1736.12 Q59.2802 1739.05 64.3092 1739.5 L64.2773 1718.62 Z\" fill=\"#000000\" fill-rule=\"evenodd\" fill-opacity=\"1\" /><path clip-path=\"url(#clip030)\" d=\"M63.7681 1673.52 L85.2842 1673.52 L85.2842 1679.37 L63.959 1679.37 Q58.8983 1679.37 56.3838 1681.35 Q53.8694 1683.32 53.8694 1687.27 Q53.8694 1692.01 56.8931 1694.75 Q59.9168 1697.48 65.1367 1697.48 L85.2842 1697.48 L85.2842 1703.37 L49.6362 1703.37 L49.6362 1697.48 L55.1744 1697.48 Q51.9597 1695.38 50.3683 1692.55 Q48.7768 1689.69 48.7768 1685.96 Q48.7768 1679.82 52.5963 1676.67 Q56.3838 1673.52 63.7681 1673.52 Z\" fill=\"#000000\" fill-rule=\"evenodd\" fill-opacity=\"1\" /><path clip-path=\"url(#clip030)\" d=\"M51.0048 1636.18 L56.4793 1636.18 Q55.1107 1638.67 54.4423 1641.18 Q53.7421 1643.66 53.7421 1646.21 Q53.7421 1651.91 57.3705 1655.06 Q60.9672 1658.21 67.492 1658.21 Q74.0169 1658.21 77.6453 1655.06 Q81.2419 1651.91 81.2419 1646.21 Q81.2419 1643.66 80.5735 1641.18 Q79.8733 1638.67 78.5047 1636.18 L83.9155 1636.18 Q85.0614 1638.63 85.6343 1641.28 Q86.2072 1643.89 86.2072 1646.85 Q86.2072 1654.9 81.1464 1659.64 Q76.0857 1664.38 67.492 1664.38 Q58.771 1664.38 53.7739 1659.61 Q48.7768 1654.8 48.7768 1646.46 Q48.7768 1643.76 49.3497 1641.18 Q49.8908 1638.6 51.0048 1636.18 Z\" fill=\"#000000\" fill-rule=\"evenodd\" fill-opacity=\"1\" /><path clip-path=\"url(#clip030)\" d=\"M53.7421 1612.18 Q53.7421 1616.89 57.4342 1619.63 Q61.0945 1622.37 67.492 1622.37 Q73.8895 1622.37 77.5817 1619.66 Q81.2419 1616.93 81.2419 1612.18 Q81.2419 1607.51 77.5498 1604.77 Q73.8577 1602.03 67.492 1602.03 Q61.1581 1602.03 57.466 1604.77 Q53.7421 1607.51 53.7421 1612.18 M48.7768 1612.18 Q48.7768 1604.55 53.7421 1600.18 Q58.7073 1595.82 67.492 1595.82 Q76.2449 1595.82 81.2419 1600.18 Q86.2072 1604.55 86.2072 1612.18 Q86.2072 1619.85 81.2419 1624.22 Q76.2449 1628.54 67.492 1628.54 Q58.7073 1628.54 53.7421 1624.22 Q48.7768 1619.85 48.7768 1612.18 Z\" fill=\"#000000\" fill-rule=\"evenodd\" fill-opacity=\"1\" /><path clip-path=\"url(#clip030)\" d=\"M55.0471 1562.66 L35.759 1562.66 L35.759 1556.8 L85.2842 1556.8 L85.2842 1562.66 L79.937 1562.66 Q83.1198 1564.51 84.6794 1567.34 Q86.2072 1570.14 86.2072 1574.09 Q86.2072 1580.55 81.051 1584.62 Q75.8947 1588.66 67.492 1588.66 Q59.0893 1588.66 53.9331 1584.62 Q48.7768 1580.55 48.7768 1574.09 Q48.7768 1570.14 50.3364 1567.34 Q51.8642 1564.51 55.0471 1562.66 M67.492 1582.62 Q73.9532 1582.62 77.6453 1579.97 Q81.3056 1577.3 81.3056 1572.65 Q81.3056 1568.01 77.6453 1565.33 Q73.9532 1562.66 67.492 1562.66 Q61.0308 1562.66 57.3705 1565.33 Q53.6784 1568.01 53.6784 1572.65 Q53.6784 1577.3 57.3705 1579.97 Q61.0308 1582.62 67.492 1582.62 Z\" fill=\"#000000\" fill-rule=\"evenodd\" fill-opacity=\"1\" /><path clip-path=\"url(#clip030)\" d=\"M65.9961 1514.25 L68.8606 1514.25 L68.8606 1541.17 Q74.9081 1540.79 78.0909 1537.55 Q81.2419 1534.27 81.2419 1528.44 Q81.2419 1525.07 80.4144 1521.92 Q79.5869 1518.74 77.9318 1515.62 L83.4699 1515.62 Q84.8067 1518.77 85.507 1522.08 Q86.2072 1525.39 86.2072 1528.79 Q86.2072 1537.32 81.2419 1542.32 Q76.2767 1547.29 67.8103 1547.29 Q59.0574 1547.29 53.9331 1542.58 Q48.7768 1537.83 48.7768 1529.81 Q48.7768 1522.62 53.4238 1518.45 Q58.0389 1514.25 65.9961 1514.25 M64.2773 1520.1 Q59.4712 1520.17 56.6066 1522.81 Q53.7421 1525.42 53.7421 1529.75 Q53.7421 1534.65 56.5112 1537.61 Q59.2802 1540.54 64.3092 1540.98 L64.2773 1520.1 Z\" fill=\"#000000\" fill-rule=\"evenodd\" fill-opacity=\"1\" /><path clip-path=\"url(#clip030)\" d=\"M55.1107 1483.98 Q54.5378 1484.97 54.2832 1486.14 Q53.9967 1487.29 53.9967 1488.69 Q53.9967 1493.65 57.2432 1496.33 Q60.4579 1498.97 66.5053 1498.97 L85.2842 1498.97 L85.2842 1504.86 L49.6362 1504.86 L49.6362 1498.97 L55.1744 1498.97 Q51.9279 1497.12 50.3683 1494.16 Q48.7768 1491.2 48.7768 1486.97 Q48.7768 1486.37 48.8723 1485.63 Q48.936 1484.9 49.0951 1484.01 L55.1107 1483.98 Z\" fill=\"#000000\" fill-rule=\"evenodd\" fill-opacity=\"1\" /><path clip-path=\"url(#clip030)\" d=\"M77.1997 1482.99 L77.1997 1476.28 L85.2842 1476.28 L85.2842 1482.99 L77.1997 1482.99 Z\" fill=\"#000000\" fill-rule=\"evenodd\" fill-opacity=\"1\" /><path clip-path=\"url(#clip030)\" d=\"M53.7421 1449.29 Q53.7421 1454 57.4342 1456.73 Q61.0945 1459.47 67.492 1459.47 Q73.8895 1459.47 77.5817 1456.77 Q81.2419 1454.03 81.2419 1449.29 Q81.2419 1444.61 77.5498 1441.87 Q73.8577 1439.13 67.492 1439.13 Q61.1581 1439.13 57.466 1441.87 Q53.7421 1444.61 53.7421 1449.29 M48.7768 1449.29 Q48.7768 1441.65 53.7421 1437.29 Q58.7073 1432.93 67.492 1432.93 Q76.2449 1432.93 81.2419 1437.29 Q86.2072 1441.65 86.2072 1449.29 Q86.2072 1456.96 81.2419 1461.32 Q76.2449 1465.65 67.492 1465.65 Q58.7073 1465.65 53.7421 1461.32 Q48.7768 1456.96 48.7768 1449.29 Z\" fill=\"#000000\" fill-rule=\"evenodd\" fill-opacity=\"1\" /><path clip-path=\"url(#clip030)\" d=\"M63.7681 1393.59 L85.2842 1393.59 L85.2842 1399.44 L63.959 1399.44 Q58.8983 1399.44 56.3838 1401.42 Q53.8694 1403.39 53.8694 1407.34 Q53.8694 1412.08 56.8931 1414.82 Q59.9168 1417.55 65.1367 1417.55 L85.2842 1417.55 L85.2842 1423.44 L49.6362 1423.44 L49.6362 1417.55 L55.1744 1417.55 Q51.9597 1415.45 50.3683 1412.62 Q48.7768 1409.75 48.7768 1406.03 Q48.7768 1399.89 52.5963 1396.74 Q56.3838 1393.59 63.7681 1393.59 Z\" fill=\"#000000\" fill-rule=\"evenodd\" fill-opacity=\"1\" /><path clip-path=\"url(#clip030)\" d=\"M65.9961 1351.41 L68.8606 1351.41 L68.8606 1378.34 Q74.9081 1377.96 78.0909 1374.71 Q81.2419 1371.43 81.2419 1365.61 Q81.2419 1362.23 80.4144 1359.08 Q79.5869 1355.9 77.9318 1352.78 L83.4699 1352.78 Q84.8067 1355.93 85.507 1359.24 Q86.2072 1362.55 86.2072 1365.96 Q86.2072 1374.49 81.2419 1379.49 Q76.2767 1384.45 67.8103 1384.45 Q59.0574 1384.45 53.9331 1379.74 Q48.7768 1375 48.7768 1366.98 Q48.7768 1359.78 53.4238 1355.61 Q58.0389 1351.41 65.9961 1351.41 M64.2773 1357.27 Q59.4712 1357.33 56.6066 1359.98 Q53.7421 1362.58 53.7421 1366.91 Q53.7421 1371.82 56.5112 1374.78 Q59.2802 1377.7 64.3092 1378.15 L64.2773 1357.27 Z\" fill=\"#000000\" fill-rule=\"evenodd\" fill-opacity=\"1\" /><path clip-path=\"url(#clip030)\" d=\"M96.1059 1314.71 L100.657 1314.71 L100.657 1348.58 L96.1059 1348.58 L96.1059 1314.71 Z\" fill=\"#000000\" fill-rule=\"evenodd\" fill-opacity=\"1\" /><path clip-path=\"url(#clip030)\" d=\"M63.7681 1279.58 L85.2842 1279.58 L85.2842 1285.43 L63.959 1285.43 Q58.8983 1285.43 56.3838 1287.41 Q53.8694 1289.38 53.8694 1293.33 Q53.8694 1298.07 56.8931 1300.81 Q59.9168 1303.54 65.1367 1303.54 L85.2842 1303.54 L85.2842 1309.43 L35.759 1309.43 L35.759 1303.54 L55.1744 1303.54 Q51.9597 1301.44 50.3683 1298.61 Q48.7768 1295.75 48.7768 1292.02 Q48.7768 1285.88 52.5963 1282.73 Q56.3838 1279.58 63.7681 1279.58 Z\" fill=\"#000000\" fill-rule=\"evenodd\" fill-opacity=\"1\" /><path clip-path=\"url(#clip030)\" d=\"M53.7421 1254.08 Q53.7421 1258.79 57.4342 1261.53 Q61.0945 1264.27 67.492 1264.27 Q73.8895 1264.27 77.5817 1261.56 Q81.2419 1258.82 81.2419 1254.08 Q81.2419 1249.4 77.5498 1246.67 Q73.8577 1243.93 67.492 1243.93 Q61.1581 1243.93 57.466 1246.67 Q53.7421 1249.4 53.7421 1254.08 M48.7768 1254.08 Q48.7768 1246.44 53.7421 1242.08 Q58.7073 1237.72 67.492 1237.72 Q76.2449 1237.72 81.2419 1242.08 Q86.2072 1246.44 86.2072 1254.08 Q86.2072 1261.75 81.2419 1266.11 Q76.2449 1270.44 67.492 1270.44 Q58.7073 1270.44 53.7421 1266.11 Q48.7768 1261.75 48.7768 1254.08 Z\" fill=\"#000000\" fill-rule=\"evenodd\" fill-opacity=\"1\" /><path clip-path=\"url(#clip030)\" d=\"M39.5147 1222.22 L49.6362 1222.22 L49.6362 1210.16 L54.1877 1210.16 L54.1877 1222.22 L73.5394 1222.22 Q77.8999 1222.22 79.1413 1221.04 Q80.3826 1219.83 80.3826 1216.17 L80.3826 1210.16 L85.2842 1210.16 L85.2842 1216.17 Q85.2842 1222.95 82.7697 1225.53 Q80.2234 1228.11 73.5394 1228.11 L54.1877 1228.11 L54.1877 1232.41 L49.6362 1232.41 L49.6362 1228.11 L39.5147 1228.11 L39.5147 1222.22 Z\" fill=\"#000000\" fill-rule=\"evenodd\" fill-opacity=\"1\" /><path clip-path=\"url(#clip030)\" d=\"M96.1059 1175.37 L100.657 1175.37 L100.657 1209.24 L96.1059 1209.24 L96.1059 1175.37 Z\" fill=\"#000000\" fill-rule=\"evenodd\" fill-opacity=\"1\" /><path clip-path=\"url(#clip030)\" d=\"M53.7421 1156.05 Q53.7421 1160.76 57.4342 1163.5 Q61.0945 1166.23 67.492 1166.23 Q73.8895 1166.23 77.5817 1163.53 Q81.2419 1160.79 81.2419 1156.05 Q81.2419 1151.37 77.5498 1148.63 Q73.8577 1145.9 67.492 1145.9 Q61.1581 1145.9 57.466 1148.63 Q53.7421 1151.37 53.7421 1156.05 M48.7768 1156.05 Q48.7768 1148.41 53.7421 1144.05 Q58.7073 1139.69 67.492 1139.69 Q76.2449 1139.69 81.2419 1144.05 Q86.2072 1148.41 86.2072 1156.05 Q86.2072 1163.72 81.2419 1168.08 Q76.2449 1172.41 67.492 1172.41 Q58.7073 1172.41 53.7421 1168.08 Q48.7768 1163.72 48.7768 1156.05 Z\" fill=\"#000000\" fill-rule=\"evenodd\" fill-opacity=\"1\" /><path clip-path=\"url(#clip030)\" d=\"M55.1107 1109.33 Q54.5378 1110.31 54.2832 1111.49 Q53.9967 1112.64 53.9967 1114.04 Q53.9967 1119 57.2432 1121.67 Q60.4579 1124.32 66.5053 1124.32 L85.2842 1124.32 L85.2842 1130.2 L49.6362 1130.2 L49.6362 1124.32 L55.1744 1124.32 Q51.9279 1122.47 50.3683 1119.51 Q48.7768 1116.55 48.7768 1112.32 Q48.7768 1111.71 48.8723 1110.98 Q48.936 1110.25 49.0951 1109.36 L55.1107 1109.33 Z\" fill=\"#000000\" fill-rule=\"evenodd\" fill-opacity=\"1\" /><path clip-path=\"url(#clip030)\" d=\"M55.0471 1080.87 L35.759 1080.87 L35.759 1075.01 L85.2842 1075.01 L85.2842 1080.87 L79.937 1080.87 Q83.1198 1082.72 84.6794 1085.55 Q86.2072 1088.35 86.2072 1092.3 Q86.2072 1098.76 81.051 1102.83 Q75.8947 1106.87 67.492 1106.87 Q59.0893 1106.87 53.9331 1102.83 Q48.7768 1098.76 48.7768 1092.3 Q48.7768 1088.35 50.3364 1085.55 Q51.8642 1082.72 55.0471 1080.87 M67.492 1100.83 Q73.9532 1100.83 77.6453 1098.19 Q81.3056 1095.51 81.3056 1090.86 Q81.3056 1086.22 77.6453 1083.54 Q73.9532 1080.87 67.492 1080.87 Q61.0308 1080.87 57.3705 1083.54 Q53.6784 1086.22 53.6784 1090.86 Q53.6784 1095.51 57.3705 1098.19 Q61.0308 1100.83 67.492 1100.83 Z\" fill=\"#000000\" fill-rule=\"evenodd\" fill-opacity=\"1\" /><path clip-path=\"url(#clip030)\" d=\"M65.9961 1032.46 L68.8606 1032.46 L68.8606 1059.39 Q74.9081 1059 78.0909 1055.76 Q81.2419 1052.48 81.2419 1046.65 Q81.2419 1043.28 80.4144 1040.13 Q79.5869 1036.95 77.9318 1033.83 L83.4699 1033.83 Q84.8067 1036.98 85.507 1040.29 Q86.2072 1043.6 86.2072 1047.01 Q86.2072 1055.54 81.2419 1060.53 Q76.2767 1065.5 67.8103 1065.5 Q59.0574 1065.5 53.9331 1060.79 Q48.7768 1056.04 48.7768 1048.02 Q48.7768 1040.83 53.4238 1036.66 Q58.0389 1032.46 65.9961 1032.46 M64.2773 1038.32 Q59.4712 1038.38 56.6066 1041.02 Q53.7421 1043.63 53.7421 1047.96 Q53.7421 1052.86 56.5112 1055.82 Q59.2802 1058.75 64.3092 1059.2 L64.2773 1038.32 Z\" fill=\"#000000\" fill-rule=\"evenodd\" fill-opacity=\"1\" /><path clip-path=\"url(#clip030)\" d=\"M55.1107 1002.19 Q54.5378 1003.18 54.2832 1004.35 Q53.9967 1005.5 53.9967 1006.9 Q53.9967 1011.87 57.2432 1014.54 Q60.4579 1017.18 66.5053 1017.18 L85.2842 1017.18 L85.2842 1023.07 L49.6362 1023.07 L49.6362 1017.18 L55.1744 1017.18 Q51.9279 1015.34 50.3683 1012.38 Q48.7768 1009.42 48.7768 1005.18 Q48.7768 1004.58 48.8723 1003.85 Q48.936 1003.11 49.0951 1002.22 L55.1107 1002.19 Z\" fill=\"#000000\" fill-rule=\"evenodd\" fill-opacity=\"1\" /><path clip-path=\"url(#clip030)\" d=\"M65.9961 966.988 L68.8606 966.988 L68.8606 993.915 Q74.9081 993.533 78.0909 990.287 Q81.2419 987.008 81.2419 981.184 Q81.2419 977.81 80.4144 974.659 Q79.5869 971.476 77.9318 968.357 L83.4699 968.357 Q84.8067 971.508 85.507 974.818 Q86.2072 978.128 86.2072 981.534 Q86.2072 990.064 81.2419 995.061 Q76.2767 1000.03 67.8103 1000.03 Q59.0574 1000.03 53.9331 995.315 Q48.7768 990.573 48.7768 982.552 Q48.7768 975.359 53.4238 971.189 Q58.0389 966.988 65.9961 966.988 M64.2773 972.845 Q59.4712 972.908 56.6066 975.55 Q53.7421 978.16 53.7421 982.489 Q53.7421 987.39 56.5112 990.35 Q59.2802 993.278 64.3092 993.724 L64.2773 972.845 Z\" fill=\"#000000\" fill-rule=\"evenodd\" fill-opacity=\"1\" /><path clip-path=\"url(#clip030)\" d=\"M55.0471 933.918 L35.759 933.918 L35.759 928.062 L85.2842 928.062 L85.2842 933.918 L79.937 933.918 Q83.1198 935.764 84.6794 938.597 Q86.2072 941.398 86.2072 945.345 Q86.2072 951.806 81.051 955.88 Q75.8947 959.922 67.492 959.922 Q59.0893 959.922 53.9331 955.88 Q48.7768 951.806 48.7768 945.345 Q48.7768 941.398 50.3364 938.597 Q51.8642 935.764 55.0471 933.918 M67.492 953.875 Q73.9532 953.875 77.6453 951.233 Q81.3056 948.559 81.3056 943.912 Q81.3056 939.265 77.6453 936.592 Q73.9532 933.918 67.492 933.918 Q61.0308 933.918 57.3705 936.592 Q53.6784 939.265 53.6784 943.912 Q53.6784 948.559 57.3705 951.233 Q61.0308 953.875 67.492 953.875 Z\" fill=\"#000000\" fill-rule=\"evenodd\" fill-opacity=\"1\" /><path clip-path=\"url(#clip030)\" d=\"M96.1059 888.913 L100.657 888.913 L100.657 922.778 L96.1059 922.778 L96.1059 888.913 Z\" fill=\"#000000\" fill-rule=\"evenodd\" fill-opacity=\"1\" /><path clip-path=\"url(#clip030)\" d=\"M35.759 865.36 L40.6287 865.36 L40.6287 870.961 Q40.6287 874.112 41.9019 875.354 Q43.175 876.563 46.4852 876.563 L49.6362 876.563 L49.6362 866.919 L54.1877 866.919 L54.1877 876.563 L85.2842 876.563 L85.2842 882.452 L54.1877 882.452 L54.1877 888.053 L49.6362 888.053 L49.6362 882.452 L47.1536 882.452 Q41.2016 882.452 38.4962 879.682 Q35.759 876.913 35.759 870.898 L35.759 865.36 Z\" fill=\"#000000\" fill-rule=\"evenodd\" fill-opacity=\"1\" /><path clip-path=\"url(#clip030)\" d=\"M67.3647 844.257 Q67.3647 851.355 68.9879 854.092 Q70.6112 856.83 74.5261 856.83 Q77.6453 856.83 79.4914 854.793 Q81.3056 852.724 81.3056 849.191 Q81.3056 844.321 77.8681 841.393 Q74.3988 838.433 68.6697 838.433 L67.3647 838.433 L67.3647 844.257 M64.9457 832.576 L85.2842 832.576 L85.2842 838.433 L79.8733 838.433 Q83.1198 840.438 84.6794 843.43 Q86.2072 846.422 86.2072 850.75 Q86.2072 856.225 83.1516 859.471 Q80.0643 862.686 74.9081 862.686 Q68.8925 862.686 65.8369 858.676 Q62.7814 854.633 62.7814 846.644 L62.7814 838.433 L62.2085 838.433 Q58.1662 838.433 55.9701 841.106 Q53.7421 843.748 53.7421 848.554 Q53.7421 851.61 54.4741 854.506 Q55.2062 857.402 56.6703 860.076 L51.2595 860.076 Q50.0181 856.861 49.4134 853.838 Q48.7768 850.814 48.7768 847.949 Q48.7768 840.215 52.7872 836.396 Q56.7976 832.576 64.9457 832.576 Z\" fill=\"#000000\" fill-rule=\"evenodd\" fill-opacity=\"1\" /><path clip-path=\"url(#clip030)\" d=\"M51.0048 794.859 L56.4793 794.859 Q55.1107 797.342 54.4423 799.856 Q53.7421 802.339 53.7421 804.885 Q53.7421 810.583 57.3705 813.734 Q60.9672 816.885 67.492 816.885 Q74.0169 816.885 77.6453 813.734 Q81.2419 810.583 81.2419 804.885 Q81.2419 802.339 80.5735 799.856 Q79.8733 797.342 78.5047 794.859 L83.9155 794.859 Q85.0614 797.31 85.6343 799.952 Q86.2072 802.562 86.2072 805.522 Q86.2072 813.575 81.1464 818.317 Q76.0857 823.059 67.492 823.059 Q58.771 823.059 53.7739 818.285 Q48.7768 813.479 48.7768 805.14 Q48.7768 802.435 49.3497 799.856 Q49.8908 797.278 51.0048 794.859 Z\" fill=\"#000000\" fill-rule=\"evenodd\" fill-opacity=\"1\" /><path clip-path=\"url(#clip030)\" d=\"M39.5147 778.881 L49.6362 778.881 L49.6362 766.818 L54.1877 766.818 L54.1877 778.881 L73.5394 778.881 Q77.8999 778.881 79.1413 777.704 Q80.3826 776.494 80.3826 772.834 L80.3826 766.818 L85.2842 766.818 L85.2842 772.834 Q85.2842 779.614 82.7697 782.192 Q80.2234 784.77 73.5394 784.77 L54.1877 784.77 L54.1877 789.067 L49.6362 789.067 L49.6362 784.77 L39.5147 784.77 L39.5147 778.881 Z\" fill=\"#000000\" fill-rule=\"evenodd\" fill-opacity=\"1\" /><path clip-path=\"url(#clip030)\" d=\"M53.7421 745.302 Q53.7421 750.013 57.4342 752.75 Q61.0945 755.487 67.492 755.487 Q73.8895 755.487 77.5817 752.782 Q81.2419 750.045 81.2419 745.302 Q81.2419 740.624 77.5498 737.886 Q73.8577 735.149 67.492 735.149 Q61.1581 735.149 57.466 737.886 Q53.7421 740.624 53.7421 745.302 M48.7768 745.302 Q48.7768 737.664 53.7421 733.303 Q58.7073 728.943 67.492 728.943 Q76.2449 728.943 81.2419 733.303 Q86.2072 737.664 86.2072 745.302 Q86.2072 752.973 81.2419 757.334 Q76.2449 761.662 67.492 761.662 Q58.7073 761.662 53.7421 757.334 Q48.7768 752.973 48.7768 745.302 Z\" fill=\"#000000\" fill-rule=\"evenodd\" fill-opacity=\"1\" /><path clip-path=\"url(#clip030)\" d=\"M55.1107 698.578 Q54.5378 699.565 54.2832 700.742 Q53.9967 701.888 53.9967 703.289 Q53.9967 708.254 57.2432 710.928 Q60.4579 713.569 66.5053 713.569 L85.2842 713.569 L85.2842 719.458 L49.6362 719.458 L49.6362 713.569 L55.1744 713.569 Q51.9279 711.723 50.3683 708.763 Q48.7768 705.803 48.7768 701.57 Q48.7768 700.965 48.8723 700.233 Q48.936 699.501 49.0951 698.61 L55.1107 698.578 Z\" fill=\"#000000\" fill-rule=\"evenodd\" fill-opacity=\"1\" /><path clip-path=\"url(#clip030)\" d=\"M50.6865 669.71 L56.2247 669.71 Q54.9516 672.192 54.315 674.866 Q53.6784 677.539 53.6784 680.404 Q53.6784 684.764 55.0152 686.961 Q56.352 689.125 59.0256 689.125 Q61.0626 689.125 62.2403 687.565 Q63.3861 686.006 64.4365 681.295 L64.8821 679.29 Q66.2189 673.052 68.6697 670.442 Q71.0886 667.8 75.4491 667.8 Q80.4144 667.8 83.3108 671.747 Q86.2072 675.662 86.2072 682.537 Q86.2072 685.401 85.6343 688.52 Q85.0932 691.608 83.9792 695.045 L77.9318 695.045 Q79.6187 691.799 80.478 688.648 Q81.3056 685.497 81.3056 682.409 Q81.3056 678.271 79.9051 676.043 Q78.4729 673.815 75.8947 673.815 Q73.5076 673.815 72.2345 675.439 Q70.9613 677.03 69.7837 682.473 L69.3062 684.51 Q68.1604 689.953 65.8051 692.372 Q63.418 694.79 59.2802 694.79 Q54.2513 694.79 51.5141 691.226 Q48.7768 687.661 48.7768 681.104 Q48.7768 677.858 49.2543 674.993 Q49.7317 672.129 50.6865 669.71 Z\" fill=\"#000000\" fill-rule=\"evenodd\" fill-opacity=\"1\" /><circle clip-path=\"url(#clip034)\" cx=\"395.401\" cy=\"1767.43\" r=\"46\" fill=\"#f98c0a\" fill-rule=\"evenodd\" fill-opacity=\"1\" stroke=\"#000000\" stroke-opacity=\"1\" stroke-width=\"4\"/>\n",
       "<circle clip-path=\"url(#clip034)\" cx=\"388.735\" cy=\"1037.25\" r=\"17\" fill=\"#520e6c\" fill-rule=\"evenodd\" fill-opacity=\"1\" stroke=\"#000000\" stroke-opacity=\"1\" stroke-width=\"4\"/>\n",
       "<circle clip-path=\"url(#clip034)\" cx=\"1035.3\" cy=\"1037.25\" r=\"3\" fill=\"#000003\" fill-rule=\"evenodd\" fill-opacity=\"1\" stroke=\"#000000\" stroke-opacity=\"1\" stroke-width=\"4\"/>\n",
       "<circle clip-path=\"url(#clip034)\" cx=\"748.418\" cy=\"1037.25\" r=\"5\" fill=\"#030313\" fill-rule=\"evenodd\" fill-opacity=\"1\" stroke=\"#000000\" stroke-opacity=\"1\" stroke-width=\"4\"/>\n",
       "<circle clip-path=\"url(#clip034)\" cx=\"826.888\" cy=\"1767.43\" r=\"21\" fill=\"#6f196e\" fill-rule=\"evenodd\" fill-opacity=\"1\" stroke=\"#000000\" stroke-opacity=\"1\" stroke-width=\"4\"/>\n",
       "<circle clip-path=\"url(#clip034)\" cx=\"296.86\" cy=\"1767.43\" r=\"61\" fill=\"#fcfea4\" fill-rule=\"evenodd\" fill-opacity=\"1\" stroke=\"#000000\" stroke-opacity=\"1\" stroke-width=\"4\"/>\n",
       "<circle clip-path=\"url(#clip034)\" cx=\"463.523\" cy=\"1037.25\" r=\"13\" fill=\"#32095d\" fill-rule=\"evenodd\" fill-opacity=\"1\" stroke=\"#000000\" stroke-opacity=\"1\" stroke-width=\"4\"/>\n",
       "<circle clip-path=\"url(#clip034)\" cx=\"772.236\" cy=\"1767.43\" r=\"23\" fill=\"#7c1d6c\" fill-rule=\"evenodd\" fill-opacity=\"1\" stroke=\"#000000\" stroke-opacity=\"1\" stroke-width=\"4\"/>\n",
       "<circle clip-path=\"url(#clip034)\" cx=\"682.462\" cy=\"1767.43\" r=\"26\" fill=\"#932566\" fill-rule=\"evenodd\" fill-opacity=\"1\" stroke=\"#000000\" stroke-opacity=\"1\" stroke-width=\"4\"/>\n",
       "<circle clip-path=\"url(#clip034)\" cx=\"576.537\" cy=\"1037.25\" r=\"9\" fill=\"#140a36\" fill-rule=\"evenodd\" fill-opacity=\"1\" stroke=\"#000000\" stroke-opacity=\"1\" stroke-width=\"4\"/>\n",
       "<circle clip-path=\"url(#clip034)\" cx=\"825.194\" cy=\"1037.25\" r=\"4\" fill=\"#01010b\" fill-rule=\"evenodd\" fill-opacity=\"1\" stroke=\"#000000\" stroke-opacity=\"1\" stroke-width=\"4\"/>\n",
       "<circle clip-path=\"url(#clip034)\" cx=\"1000.33\" cy=\"1037.25\" r=\"3\" fill=\"#000003\" fill-rule=\"evenodd\" fill-opacity=\"1\" stroke=\"#000000\" stroke-opacity=\"1\" stroke-width=\"4\"/>\n",
       "<circle clip-path=\"url(#clip034)\" cx=\"806.758\" cy=\"1037.25\" r=\"4\" fill=\"#02010d\" fill-rule=\"evenodd\" fill-opacity=\"1\" stroke=\"#000000\" stroke-opacity=\"1\" stroke-width=\"4\"/>\n",
       "<circle clip-path=\"url(#clip034)\" cx=\"862.433\" cy=\"1767.43\" r=\"20\" fill=\"#69166e\" fill-rule=\"evenodd\" fill-opacity=\"1\" stroke=\"#000000\" stroke-opacity=\"1\" stroke-width=\"4\"/>\n",
       "<circle clip-path=\"url(#clip034)\" cx=\"948.934\" cy=\"1037.25\" r=\"3\" fill=\"#000004\" fill-rule=\"evenodd\" fill-opacity=\"1\" stroke=\"#000000\" stroke-opacity=\"1\" stroke-width=\"4\"/>\n",
       "<path clip-path=\"url(#clip030)\" d=\"\n",
       "M1370.01 1789.33 L2152.76 1789.33 L2152.76 1015.34 L1370.01 1015.34  Z\n",
       "  \" fill=\"#ffffff\" fill-rule=\"evenodd\" fill-opacity=\"1\"/>\n",
       "<defs>\n",
       "  <clipPath id=\"clip035\">\n",
       "    <rect x=\"1370\" y=\"1015\" width=\"784\" height=\"775\"/>\n",
       "  </clipPath>\n",
       "</defs>\n",
       "<polyline clip-path=\"url(#clip035)\" style=\"stroke:#000000; stroke-linecap:butt; stroke-linejoin:round; stroke-width:2; stroke-opacity:0.1; fill:none\" points=\"\n",
       "  1392.16,1789.33 1392.16,1015.34 \n",
       "  \"/>\n",
       "<polyline clip-path=\"url(#clip035)\" style=\"stroke:#000000; stroke-linecap:butt; stroke-linejoin:round; stroke-width:2; stroke-opacity:0.1; fill:none\" points=\"\n",
       "  2130.6,1789.33 2130.6,1015.34 \n",
       "  \"/>\n",
       "<polyline clip-path=\"url(#clip030)\" style=\"stroke:#000000; stroke-linecap:butt; stroke-linejoin:round; stroke-width:4; stroke-opacity:1; fill:none\" points=\"\n",
       "  1370.01,1789.33 2152.76,1789.33 \n",
       "  \"/>\n",
       "<polyline clip-path=\"url(#clip030)\" style=\"stroke:#000000; stroke-linecap:butt; stroke-linejoin:round; stroke-width:4; stroke-opacity:1; fill:none\" points=\"\n",
       "  1370.01,1015.34 2152.76,1015.34 \n",
       "  \"/>\n",
       "<polyline clip-path=\"url(#clip030)\" style=\"stroke:#000000; stroke-linecap:butt; stroke-linejoin:round; stroke-width:4; stroke-opacity:1; fill:none\" points=\"\n",
       "  1392.16,1789.33 1392.16,1770.43 \n",
       "  \"/>\n",
       "<polyline clip-path=\"url(#clip030)\" style=\"stroke:#000000; stroke-linecap:butt; stroke-linejoin:round; stroke-width:4; stroke-opacity:1; fill:none\" points=\"\n",
       "  2130.6,1789.33 2130.6,1770.43 \n",
       "  \"/>\n",
       "<path clip-path=\"url(#clip030)\" d=\"M1352.82 1816.85 L1352.82 1824.21 L1361.59 1824.21 L1361.59 1827.52 L1352.82 1827.52 L1352.82 1841.59 Q1352.82 1844.76 1353.68 1845.67 Q1354.56 1846.57 1357.22 1846.57 L1361.59 1846.57 L1361.59 1850.13 L1357.22 1850.13 Q1352.29 1850.13 1350.41 1848.3 Q1348.54 1846.45 1348.54 1841.59 L1348.54 1827.52 L1345.41 1827.52 L1345.41 1824.21 L1348.54 1824.21 L1348.54 1816.85 L1352.82 1816.85 Z\" fill=\"#000000\" fill-rule=\"evenodd\" fill-opacity=\"1\" /><path clip-path=\"url(#clip030)\" d=\"M1382.22 1828.19 Q1381.5 1827.77 1380.64 1827.59 Q1379.81 1827.38 1378.79 1827.38 Q1375.18 1827.38 1373.24 1829.74 Q1371.32 1832.08 1371.32 1836.48 L1371.32 1850.13 L1367.03 1850.13 L1367.03 1824.21 L1371.32 1824.21 L1371.32 1828.23 Q1372.66 1825.87 1374.81 1824.74 Q1376.96 1823.58 1380.04 1823.58 Q1380.48 1823.58 1381.01 1823.65 Q1381.55 1823.7 1382.2 1823.81 L1382.22 1828.19 Z\" fill=\"#000000\" fill-rule=\"evenodd\" fill-opacity=\"1\" /><path clip-path=\"url(#clip030)\" d=\"M1386.25 1839.9 L1386.25 1824.21 L1390.51 1824.21 L1390.51 1839.74 Q1390.51 1843.42 1391.94 1845.27 Q1393.38 1847.1 1396.25 1847.1 Q1399.7 1847.1 1401.69 1844.9 Q1403.7 1842.7 1403.7 1838.91 L1403.7 1824.21 L1407.96 1824.21 L1407.96 1850.13 L1403.7 1850.13 L1403.7 1846.15 Q1402.15 1848.51 1400.09 1849.67 Q1398.05 1850.8 1395.34 1850.8 Q1390.88 1850.8 1388.56 1848.03 Q1386.25 1845.25 1386.25 1839.9 M1396.96 1823.58 L1396.96 1823.58 Z\" fill=\"#000000\" fill-rule=\"evenodd\" fill-opacity=\"1\" /><path clip-path=\"url(#clip030)\" d=\"M1438.91 1836.1 L1438.91 1838.19 L1419.32 1838.19 Q1419.6 1842.59 1421.96 1844.9 Q1424.35 1847.19 1428.58 1847.19 Q1431.04 1847.19 1433.33 1846.59 Q1435.64 1845.99 1437.91 1844.79 L1437.91 1848.81 Q1435.62 1849.79 1433.21 1850.29 Q1430.81 1850.8 1428.33 1850.8 Q1422.13 1850.8 1418.49 1847.19 Q1414.88 1843.58 1414.88 1837.42 Q1414.88 1831.06 1418.31 1827.33 Q1421.76 1823.58 1427.59 1823.58 Q1432.82 1823.58 1435.85 1826.96 Q1438.91 1830.32 1438.91 1836.1 M1434.65 1834.85 Q1434.6 1831.36 1432.68 1829.28 Q1430.78 1827.19 1427.63 1827.19 Q1424.07 1827.19 1421.92 1829.21 Q1419.79 1831.22 1419.46 1834.88 L1434.65 1834.85 Z\" fill=\"#000000\" fill-rule=\"evenodd\" fill-opacity=\"1\" /><path clip-path=\"url(#clip030)\" d=\"M2092.52 1814.11 L2092.52 1817.66 L2088.45 1817.66 Q2086.16 1817.66 2085.26 1818.58 Q2084.38 1819.51 2084.38 1821.92 L2084.38 1824.21 L2091.39 1824.21 L2091.39 1827.52 L2084.38 1827.52 L2084.38 1850.13 L2080.09 1850.13 L2080.09 1827.52 L2076.02 1827.52 L2076.02 1824.21 L2080.09 1824.21 L2080.09 1822.4 Q2080.09 1818.07 2082.11 1816.1 Q2084.12 1814.11 2088.5 1814.11 L2092.52 1814.11 Z\" fill=\"#000000\" fill-rule=\"evenodd\" fill-opacity=\"1\" /><path clip-path=\"url(#clip030)\" d=\"M2107.87 1837.1 Q2102.71 1837.1 2100.72 1838.28 Q2098.73 1839.46 2098.73 1842.31 Q2098.73 1844.58 2100.21 1845.92 Q2101.71 1847.24 2104.28 1847.24 Q2107.82 1847.24 2109.95 1844.74 Q2112.11 1842.22 2112.11 1838.05 L2112.11 1837.1 L2107.87 1837.1 M2116.37 1835.34 L2116.37 1850.13 L2112.11 1850.13 L2112.11 1846.2 Q2110.65 1848.56 2108.47 1849.69 Q2106.3 1850.8 2103.15 1850.8 Q2099.17 1850.8 2096.81 1848.58 Q2094.47 1846.34 2094.47 1842.59 Q2094.47 1838.21 2097.39 1835.99 Q2100.33 1833.77 2106.14 1833.77 L2112.11 1833.77 L2112.11 1833.35 Q2112.11 1830.41 2110.16 1828.81 Q2108.24 1827.19 2104.75 1827.19 Q2102.52 1827.19 2100.42 1827.73 Q2098.31 1828.26 2096.37 1829.32 L2096.37 1825.39 Q2098.7 1824.48 2100.9 1824.04 Q2103.1 1823.58 2105.19 1823.58 Q2110.81 1823.58 2113.59 1826.5 Q2116.37 1829.42 2116.37 1835.34 Z\" fill=\"#000000\" fill-rule=\"evenodd\" fill-opacity=\"1\" /><path clip-path=\"url(#clip030)\" d=\"M2125.14 1814.11 L2129.4 1814.11 L2129.4 1850.13 L2125.14 1850.13 L2125.14 1814.11 Z\" fill=\"#000000\" fill-rule=\"evenodd\" fill-opacity=\"1\" /><path clip-path=\"url(#clip030)\" d=\"M2154.84 1824.97 L2154.84 1829 Q2153.03 1828.07 2151.09 1827.61 Q2149.14 1827.15 2147.06 1827.15 Q2143.89 1827.15 2142.29 1828.12 Q2140.72 1829.09 2140.72 1831.04 Q2140.72 1832.52 2141.85 1833.37 Q2142.99 1834.21 2146.41 1834.97 L2147.87 1835.29 Q2152.41 1836.27 2154.31 1838.05 Q2156.23 1839.81 2156.23 1842.98 Q2156.23 1846.59 2153.36 1848.7 Q2150.51 1850.8 2145.51 1850.8 Q2143.43 1850.8 2141.16 1850.39 Q2138.91 1849.99 2136.41 1849.18 L2136.41 1844.79 Q2138.77 1846.01 2141.07 1846.64 Q2143.36 1847.24 2145.6 1847.24 Q2148.61 1847.24 2150.23 1846.22 Q2151.85 1845.18 2151.85 1843.3 Q2151.85 1841.57 2150.67 1840.64 Q2149.51 1839.72 2145.56 1838.86 L2144.07 1838.51 Q2140.12 1837.68 2138.36 1835.97 Q2136.6 1834.23 2136.6 1831.22 Q2136.6 1827.56 2139.19 1825.57 Q2141.78 1823.58 2146.55 1823.58 Q2148.91 1823.58 2151 1823.93 Q2153.08 1824.28 2154.84 1824.97 Z\" fill=\"#000000\" fill-rule=\"evenodd\" fill-opacity=\"1\" /><path clip-path=\"url(#clip030)\" d=\"M2185.19 1836.1 L2185.19 1838.19 L2165.6 1838.19 Q2165.88 1842.59 2168.24 1844.9 Q2170.63 1847.19 2174.86 1847.19 Q2177.32 1847.19 2179.61 1846.59 Q2181.92 1845.99 2184.19 1844.79 L2184.19 1848.81 Q2181.9 1849.79 2179.49 1850.29 Q2177.08 1850.8 2174.61 1850.8 Q2168.4 1850.8 2164.77 1847.19 Q2161.16 1843.58 2161.16 1837.42 Q2161.16 1831.06 2164.58 1827.33 Q2168.03 1823.58 2173.87 1823.58 Q2179.1 1823.58 2182.13 1826.96 Q2185.19 1830.32 2185.19 1836.1 M2180.93 1834.85 Q2180.88 1831.36 2178.96 1829.28 Q2177.06 1827.19 2173.91 1827.19 Q2170.35 1827.19 2168.2 1829.21 Q2166.07 1831.22 2165.74 1834.88 L2180.93 1834.85 Z\" fill=\"#000000\" fill-rule=\"evenodd\" fill-opacity=\"1\" /><path clip-path=\"url(#clip030)\" d=\"M1055.04 1896.92 L1055.04 1902.39 Q1052.56 1901.02 1050.05 1900.35 Q1047.56 1899.65 1045.02 1899.65 Q1039.32 1899.65 1036.17 1903.28 Q1033.02 1906.88 1033.02 1913.4 Q1033.02 1919.93 1036.17 1923.56 Q1039.32 1927.15 1045.02 1927.15 Q1047.56 1927.15 1050.05 1926.49 Q1052.56 1925.79 1055.04 1924.42 L1055.04 1929.83 Q1052.59 1930.97 1049.95 1931.55 Q1047.34 1932.12 1044.38 1932.12 Q1036.33 1932.12 1031.59 1927.06 Q1026.84 1922 1026.84 1913.4 Q1026.84 1904.68 1031.62 1899.69 Q1036.42 1894.69 1044.76 1894.69 Q1047.47 1894.69 1050.05 1895.26 Q1052.62 1895.8 1055.04 1896.92 Z\" fill=\"#000000\" fill-rule=\"evenodd\" fill-opacity=\"1\" /><path clip-path=\"url(#clip030)\" d=\"M1079.04 1899.65 Q1074.33 1899.65 1071.59 1903.35 Q1068.86 1907.01 1068.86 1913.4 Q1068.86 1919.8 1071.56 1923.49 Q1074.3 1927.15 1079.04 1927.15 Q1083.72 1927.15 1086.46 1923.46 Q1089.19 1919.77 1089.19 1913.4 Q1089.19 1907.07 1086.46 1903.38 Q1083.72 1899.65 1079.04 1899.65 M1079.04 1894.69 Q1086.68 1894.69 1091.04 1899.65 Q1095.4 1904.62 1095.4 1913.4 Q1095.4 1922.16 1091.04 1927.15 Q1086.68 1932.12 1079.04 1932.12 Q1071.37 1932.12 1067.01 1927.15 Q1062.68 1922.16 1062.68 1913.4 Q1062.68 1904.62 1067.01 1899.65 Q1071.37 1894.69 1079.04 1894.69 Z\" fill=\"#000000\" fill-rule=\"evenodd\" fill-opacity=\"1\" /><path clip-path=\"url(#clip030)\" d=\"M1134.74 1909.68 L1134.74 1931.2 L1128.88 1931.2 L1128.88 1909.87 Q1128.88 1904.81 1126.91 1902.3 Q1124.94 1899.78 1120.99 1899.78 Q1116.25 1899.78 1113.51 1902.81 Q1110.77 1905.83 1110.77 1911.05 L1110.77 1931.2 L1104.89 1931.2 L1104.89 1895.55 L1110.77 1895.55 L1110.77 1901.09 Q1112.88 1897.87 1115.71 1896.28 Q1118.57 1894.69 1122.3 1894.69 Q1128.44 1894.69 1131.59 1898.51 Q1134.74 1902.3 1134.74 1909.68 Z\" fill=\"#000000\" fill-rule=\"evenodd\" fill-opacity=\"1\" /><path clip-path=\"url(#clip030)\" d=\"M1152.22 1885.43 L1152.22 1895.55 L1164.28 1895.55 L1164.28 1900.1 L1152.22 1900.1 L1152.22 1919.45 Q1152.22 1923.81 1153.39 1925.05 Q1154.6 1926.29 1158.26 1926.29 L1164.28 1926.29 L1164.28 1931.2 L1158.26 1931.2 Q1151.48 1931.2 1148.91 1928.68 Q1146.33 1926.14 1146.33 1919.45 L1146.33 1900.1 L1142.03 1900.1 L1142.03 1895.55 L1146.33 1895.55 L1146.33 1885.43 L1152.22 1885.43 Z\" fill=\"#000000\" fill-rule=\"evenodd\" fill-opacity=\"1\" /><path clip-path=\"url(#clip030)\" d=\"M1171.98 1895.55 L1177.84 1895.55 L1177.84 1931.2 L1171.98 1931.2 L1171.98 1895.55 M1171.98 1881.67 L1177.84 1881.67 L1177.84 1889.09 L1171.98 1889.09 L1171.98 1881.67 Z\" fill=\"#000000\" fill-rule=\"evenodd\" fill-opacity=\"1\" /><path clip-path=\"url(#clip030)\" d=\"M1219.72 1909.68 L1219.72 1931.2 L1213.87 1931.2 L1213.87 1909.87 Q1213.87 1904.81 1211.89 1902.3 Q1209.92 1899.78 1205.97 1899.78 Q1201.23 1899.78 1198.49 1902.81 Q1195.76 1905.83 1195.76 1911.05 L1195.76 1931.2 L1189.87 1931.2 L1189.87 1895.55 L1195.76 1895.55 L1195.76 1901.09 Q1197.86 1897.87 1200.69 1896.28 Q1203.55 1894.69 1207.28 1894.69 Q1213.42 1894.69 1216.57 1898.51 Q1219.72 1902.3 1219.72 1909.68 Z\" fill=\"#000000\" fill-rule=\"evenodd\" fill-opacity=\"1\" /><path clip-path=\"url(#clip030)\" d=\"M1230.8 1917.13 L1230.8 1895.55 L1236.66 1895.55 L1236.66 1916.91 Q1236.66 1921.97 1238.63 1924.51 Q1240.6 1927.03 1244.55 1927.03 Q1249.29 1927.03 1252.03 1924 Q1254.8 1920.98 1254.8 1915.76 L1254.8 1895.55 L1260.66 1895.55 L1260.66 1931.2 L1254.8 1931.2 L1254.8 1925.72 Q1252.67 1928.97 1249.83 1930.56 Q1247.03 1932.12 1243.31 1932.12 Q1237.17 1932.12 1233.98 1928.3 Q1230.8 1924.48 1230.8 1917.13 M1245.54 1894.69 L1245.54 1894.69 Z\" fill=\"#000000\" fill-rule=\"evenodd\" fill-opacity=\"1\" /><path clip-path=\"url(#clip030)\" d=\"M1286.53 1899.65 Q1281.82 1899.65 1279.08 1903.35 Q1276.35 1907.01 1276.35 1913.4 Q1276.35 1919.8 1279.05 1923.49 Q1281.79 1927.15 1286.53 1927.15 Q1291.21 1927.15 1293.95 1923.46 Q1296.68 1919.77 1296.68 1913.4 Q1296.68 1907.07 1293.95 1903.38 Q1291.21 1899.65 1286.53 1899.65 M1286.53 1894.69 Q1294.17 1894.69 1298.53 1899.65 Q1302.89 1904.62 1302.89 1913.4 Q1302.89 1922.16 1298.53 1927.15 Q1294.17 1932.12 1286.53 1932.12 Q1278.86 1932.12 1274.5 1927.15 Q1270.17 1922.16 1270.17 1913.4 Q1270.17 1904.62 1274.5 1899.65 Q1278.86 1894.69 1286.53 1894.69 Z\" fill=\"#000000\" fill-rule=\"evenodd\" fill-opacity=\"1\" /><path clip-path=\"url(#clip030)\" d=\"M1311.99 1917.13 L1311.99 1895.55 L1317.85 1895.55 L1317.85 1916.91 Q1317.85 1921.97 1319.82 1924.51 Q1321.8 1927.03 1325.74 1927.03 Q1330.49 1927.03 1333.22 1924 Q1335.99 1920.98 1335.99 1915.76 L1335.99 1895.55 L1341.85 1895.55 L1341.85 1931.2 L1335.99 1931.2 L1335.99 1925.72 Q1333.86 1928.97 1331.03 1930.56 Q1328.23 1932.12 1324.5 1932.12 Q1318.36 1932.12 1315.18 1928.3 Q1311.99 1924.48 1311.99 1917.13 M1326.73 1894.69 L1326.73 1894.69 Z\" fill=\"#000000\" fill-rule=\"evenodd\" fill-opacity=\"1\" /><path clip-path=\"url(#clip030)\" d=\"M1376.64 1896.6 L1376.64 1902.14 Q1374.16 1900.86 1371.48 1900.23 Q1368.81 1899.59 1365.94 1899.59 Q1361.58 1899.59 1359.39 1900.93 Q1357.22 1902.26 1357.22 1904.94 Q1357.22 1906.98 1358.78 1908.15 Q1360.34 1909.3 1365.05 1910.35 L1367.06 1910.79 Q1373.3 1912.13 1375.91 1914.58 Q1378.55 1917 1378.55 1921.36 Q1378.55 1926.33 1374.6 1929.22 Q1370.69 1932.12 1363.81 1932.12 Q1360.95 1932.12 1357.83 1931.55 Q1354.74 1931.01 1351.3 1929.89 L1351.3 1923.84 Q1354.55 1925.53 1357.7 1926.39 Q1360.85 1927.22 1363.94 1927.22 Q1368.08 1927.22 1370.3 1925.82 Q1372.53 1924.39 1372.53 1921.81 Q1372.53 1919.42 1370.91 1918.15 Q1369.32 1916.87 1363.87 1915.7 L1361.84 1915.22 Q1356.4 1914.07 1353.98 1911.72 Q1351.56 1909.33 1351.56 1905.19 Q1351.56 1900.16 1355.12 1897.43 Q1358.69 1894.69 1365.24 1894.69 Q1368.49 1894.69 1371.35 1895.17 Q1374.22 1895.64 1376.64 1896.6 Z\" fill=\"#000000\" fill-rule=\"evenodd\" fill-opacity=\"1\" /><path clip-path=\"url(#clip030)\" d=\"M1414.96 1942.02 L1414.96 1946.57 L1381.09 1946.57 L1381.09 1942.02 L1414.96 1942.02 Z\" fill=\"#000000\" fill-rule=\"evenodd\" fill-opacity=\"1\" /><path clip-path=\"url(#clip030)\" d=\"M1450.96 1911.91 L1450.96 1914.77 L1424.03 1914.77 Q1424.41 1920.82 1427.66 1924 Q1430.94 1927.15 1436.76 1927.15 Q1440.14 1927.15 1443.29 1926.33 Q1446.47 1925.5 1449.59 1923.84 L1449.59 1929.38 Q1446.44 1930.72 1443.13 1931.42 Q1439.82 1932.12 1436.41 1932.12 Q1427.88 1932.12 1422.89 1927.15 Q1417.92 1922.19 1417.92 1913.72 Q1417.92 1904.97 1422.63 1899.85 Q1427.37 1894.69 1435.39 1894.69 Q1442.59 1894.69 1446.76 1899.34 Q1450.96 1903.95 1450.96 1911.91 M1445.1 1910.19 Q1445.04 1905.38 1442.4 1902.52 Q1439.79 1899.65 1435.46 1899.65 Q1430.56 1899.65 1427.6 1902.42 Q1424.67 1905.19 1424.22 1910.22 L1445.1 1910.19 Z\" fill=\"#000000\" fill-rule=\"evenodd\" fill-opacity=\"1\" /><path clip-path=\"url(#clip030)\" d=\"M1490.2 1909.68 L1490.2 1931.2 L1484.35 1931.2 L1484.35 1909.87 Q1484.35 1904.81 1482.37 1902.3 Q1480.4 1899.78 1476.45 1899.78 Q1471.71 1899.78 1468.97 1902.81 Q1466.24 1905.83 1466.24 1911.05 L1466.24 1931.2 L1460.35 1931.2 L1460.35 1895.55 L1466.24 1895.55 L1466.24 1901.09 Q1468.34 1897.87 1471.17 1896.28 Q1474.03 1894.69 1477.76 1894.69 Q1483.9 1894.69 1487.05 1898.51 Q1490.2 1902.3 1490.2 1909.68 Z\" fill=\"#000000\" fill-rule=\"evenodd\" fill-opacity=\"1\" /><path clip-path=\"url(#clip030)\" d=\"M1527.54 1896.92 L1527.54 1902.39 Q1525.05 1901.02 1522.54 1900.35 Q1520.06 1899.65 1517.51 1899.65 Q1511.81 1899.65 1508.66 1903.28 Q1505.51 1906.88 1505.51 1913.4 Q1505.51 1919.93 1508.66 1923.56 Q1511.81 1927.15 1517.51 1927.15 Q1520.06 1927.15 1522.54 1926.49 Q1525.05 1925.79 1527.54 1924.42 L1527.54 1929.83 Q1525.09 1930.97 1522.44 1931.55 Q1519.83 1932.12 1516.87 1932.12 Q1508.82 1932.12 1504.08 1927.06 Q1499.34 1922 1499.34 1913.4 Q1499.34 1904.68 1504.11 1899.69 Q1508.92 1894.69 1517.26 1894.69 Q1519.96 1894.69 1522.54 1895.26 Q1525.12 1895.8 1527.54 1896.92 Z\" fill=\"#000000\" fill-rule=\"evenodd\" fill-opacity=\"1\" /><path clip-path=\"url(#clip030)\" d=\"M1551.54 1899.65 Q1546.83 1899.65 1544.09 1903.35 Q1541.35 1907.01 1541.35 1913.4 Q1541.35 1919.8 1544.06 1923.49 Q1546.79 1927.15 1551.54 1927.15 Q1556.21 1927.15 1558.95 1923.46 Q1561.69 1919.77 1561.69 1913.4 Q1561.69 1907.07 1558.95 1903.38 Q1556.21 1899.65 1551.54 1899.65 M1551.54 1894.69 Q1559.17 1894.69 1563.54 1899.65 Q1567.9 1904.62 1567.9 1913.4 Q1567.9 1922.16 1563.54 1927.15 Q1559.17 1932.12 1551.54 1932.12 Q1543.87 1932.12 1539.5 1927.15 Q1535.18 1922.16 1535.18 1913.4 Q1535.18 1904.62 1539.5 1899.65 Q1543.87 1894.69 1551.54 1894.69 Z\" fill=\"#000000\" fill-rule=\"evenodd\" fill-opacity=\"1\" /><path clip-path=\"url(#clip030)\" d=\"M1601.06 1900.96 L1601.06 1881.67 L1606.92 1881.67 L1606.92 1931.2 L1601.06 1931.2 L1601.06 1925.85 Q1599.22 1929.03 1596.38 1930.59 Q1593.58 1932.12 1589.63 1932.12 Q1583.17 1932.12 1579.1 1926.96 Q1575.06 1921.81 1575.06 1913.4 Q1575.06 1905 1579.1 1899.85 Q1583.17 1894.69 1589.63 1894.69 Q1593.58 1894.69 1596.38 1896.25 Q1599.22 1897.78 1601.06 1900.96 M1581.1 1913.4 Q1581.1 1919.87 1583.75 1923.56 Q1586.42 1927.22 1591.07 1927.22 Q1595.71 1927.22 1598.39 1923.56 Q1601.06 1919.87 1601.06 1913.4 Q1601.06 1906.94 1598.39 1903.28 Q1595.71 1899.59 1591.07 1899.59 Q1586.42 1899.59 1583.75 1903.28 Q1581.1 1906.94 1581.1 1913.4 Z\" fill=\"#000000\" fill-rule=\"evenodd\" fill-opacity=\"1\" /><path clip-path=\"url(#clip030)\" d=\"M1649.47 1911.91 L1649.47 1914.77 L1622.55 1914.77 Q1622.93 1920.82 1626.17 1924 Q1629.45 1927.15 1635.28 1927.15 Q1638.65 1927.15 1641.8 1926.33 Q1644.98 1925.5 1648.1 1923.84 L1648.1 1929.38 Q1644.95 1930.72 1641.64 1931.42 Q1638.33 1932.12 1634.93 1932.12 Q1626.4 1932.12 1621.4 1927.15 Q1616.43 1922.19 1616.43 1913.72 Q1616.43 1904.97 1621.15 1899.85 Q1625.89 1894.69 1633.91 1894.69 Q1641.1 1894.69 1645.27 1899.34 Q1649.47 1903.95 1649.47 1911.91 M1643.62 1910.19 Q1643.55 1905.38 1640.91 1902.52 Q1638.3 1899.65 1633.97 1899.65 Q1629.07 1899.65 1626.11 1902.42 Q1623.18 1905.19 1622.74 1910.22 L1643.62 1910.19 Z\" fill=\"#000000\" fill-rule=\"evenodd\" fill-opacity=\"1\" /><path clip-path=\"url(#clip030)\" d=\"M1679.74 1901.02 Q1678.75 1900.45 1677.58 1900.2 Q1676.43 1899.91 1675.03 1899.91 Q1670.07 1899.91 1667.39 1903.16 Q1664.75 1906.37 1664.75 1912.42 L1664.75 1931.2 L1658.86 1931.2 L1658.86 1895.55 L1664.75 1895.55 L1664.75 1901.09 Q1666.6 1897.84 1669.56 1896.28 Q1672.52 1894.69 1676.75 1894.69 Q1677.35 1894.69 1678.09 1894.78 Q1678.82 1894.85 1679.71 1895.01 L1679.74 1901.02 Z\" fill=\"#000000\" fill-rule=\"evenodd\" fill-opacity=\"1\" /><path clip-path=\"url(#clip030)\" d=\"M1680.73 1923.11 L1687.44 1923.11 L1687.44 1931.2 L1680.73 1931.2 L1680.73 1923.11 Z\" fill=\"#000000\" fill-rule=\"evenodd\" fill-opacity=\"1\" /><path clip-path=\"url(#clip030)\" d=\"M1714.43 1899.65 Q1709.72 1899.65 1706.99 1903.35 Q1704.25 1907.01 1704.25 1913.4 Q1704.25 1919.8 1706.95 1923.49 Q1709.69 1927.15 1714.43 1927.15 Q1719.11 1927.15 1721.85 1923.46 Q1724.59 1919.77 1724.59 1913.4 Q1724.59 1907.07 1721.85 1903.38 Q1719.11 1899.65 1714.43 1899.65 M1714.43 1894.69 Q1722.07 1894.69 1726.43 1899.65 Q1730.79 1904.62 1730.79 1913.4 Q1730.79 1922.16 1726.43 1927.15 Q1722.07 1932.12 1714.43 1932.12 Q1706.76 1932.12 1702.4 1927.15 Q1698.07 1922.16 1698.07 1913.4 Q1698.07 1904.62 1702.4 1899.65 Q1706.76 1894.69 1714.43 1894.69 Z\" fill=\"#000000\" fill-rule=\"evenodd\" fill-opacity=\"1\" /><path clip-path=\"url(#clip030)\" d=\"M1770.13 1909.68 L1770.13 1931.2 L1764.28 1931.2 L1764.28 1909.87 Q1764.28 1904.81 1762.3 1902.3 Q1760.33 1899.78 1756.38 1899.78 Q1751.64 1899.78 1748.9 1902.81 Q1746.17 1905.83 1746.17 1911.05 L1746.17 1931.2 L1740.28 1931.2 L1740.28 1895.55 L1746.17 1895.55 L1746.17 1901.09 Q1748.27 1897.87 1751.1 1896.28 Q1753.97 1894.69 1757.69 1894.69 Q1763.83 1894.69 1766.98 1898.51 Q1770.13 1902.3 1770.13 1909.68 Z\" fill=\"#000000\" fill-rule=\"evenodd\" fill-opacity=\"1\" /><path clip-path=\"url(#clip030)\" d=\"M1812.31 1911.91 L1812.31 1914.77 L1785.38 1914.77 Q1785.76 1920.82 1789.01 1924 Q1792.29 1927.15 1798.11 1927.15 Q1801.49 1927.15 1804.64 1926.33 Q1807.82 1925.5 1810.94 1923.84 L1810.94 1929.38 Q1807.79 1930.72 1804.48 1931.42 Q1801.17 1932.12 1797.76 1932.12 Q1789.23 1932.12 1784.23 1927.15 Q1779.27 1922.19 1779.27 1913.72 Q1779.27 1904.97 1783.98 1899.85 Q1788.72 1894.69 1796.74 1894.69 Q1803.94 1894.69 1808.11 1899.34 Q1812.31 1903.95 1812.31 1911.91 M1806.45 1910.19 Q1806.39 1905.38 1803.75 1902.52 Q1801.14 1899.65 1796.81 1899.65 Q1791.91 1899.65 1788.95 1902.42 Q1786.02 1905.19 1785.57 1910.22 L1806.45 1910.19 Z\" fill=\"#000000\" fill-rule=\"evenodd\" fill-opacity=\"1\" /><path clip-path=\"url(#clip030)\" d=\"M1849.01 1942.02 L1849.01 1946.57 L1815.14 1946.57 L1815.14 1942.02 L1849.01 1942.02 Z\" fill=\"#000000\" fill-rule=\"evenodd\" fill-opacity=\"1\" /><path clip-path=\"url(#clip030)\" d=\"M1884.14 1909.68 L1884.14 1931.2 L1878.29 1931.2 L1878.29 1909.87 Q1878.29 1904.81 1876.31 1902.3 Q1874.34 1899.78 1870.39 1899.78 Q1865.65 1899.78 1862.91 1902.81 Q1860.18 1905.83 1860.18 1911.05 L1860.18 1931.2 L1854.29 1931.2 L1854.29 1881.67 L1860.18 1881.67 L1860.18 1901.09 Q1862.28 1897.87 1865.11 1896.28 Q1867.98 1894.69 1871.7 1894.69 Q1877.84 1894.69 1880.99 1898.51 Q1884.14 1902.3 1884.14 1909.68 Z\" fill=\"#000000\" fill-rule=\"evenodd\" fill-opacity=\"1\" /><path clip-path=\"url(#clip030)\" d=\"M1909.64 1899.65 Q1904.93 1899.65 1902.19 1903.35 Q1899.45 1907.01 1899.45 1913.4 Q1899.45 1919.8 1902.16 1923.49 Q1904.9 1927.15 1909.64 1927.15 Q1914.32 1927.15 1917.05 1923.46 Q1919.79 1919.77 1919.79 1913.4 Q1919.79 1907.07 1917.05 1903.38 Q1914.32 1899.65 1909.64 1899.65 M1909.64 1894.69 Q1917.28 1894.69 1921.64 1899.65 Q1926 1904.62 1926 1913.4 Q1926 1922.16 1921.64 1927.15 Q1917.28 1932.12 1909.64 1932.12 Q1901.97 1932.12 1897.61 1927.15 Q1893.28 1922.16 1893.28 1913.4 Q1893.28 1904.62 1897.61 1899.65 Q1901.97 1894.69 1909.64 1894.69 Z\" fill=\"#000000\" fill-rule=\"evenodd\" fill-opacity=\"1\" /><path clip-path=\"url(#clip030)\" d=\"M1941.5 1885.43 L1941.5 1895.55 L1953.56 1895.55 L1953.56 1900.1 L1941.5 1900.1 L1941.5 1919.45 Q1941.5 1923.81 1942.68 1925.05 Q1943.89 1926.29 1947.55 1926.29 L1953.56 1926.29 L1953.56 1931.2 L1947.55 1931.2 Q1940.77 1931.2 1938.19 1928.68 Q1935.61 1926.14 1935.61 1919.45 L1935.61 1900.1 L1931.31 1900.1 L1931.31 1895.55 L1935.61 1895.55 L1935.61 1885.43 L1941.5 1885.43 Z\" fill=\"#000000\" fill-rule=\"evenodd\" fill-opacity=\"1\" /><path clip-path=\"url(#clip030)\" d=\"M1988.35 1942.02 L1988.35 1946.57 L1954.49 1946.57 L1954.49 1942.02 L1988.35 1942.02 Z\" fill=\"#000000\" fill-rule=\"evenodd\" fill-opacity=\"1\" /><path clip-path=\"url(#clip030)\" d=\"M2007.67 1899.65 Q2002.96 1899.65 2000.22 1903.35 Q1997.49 1907.01 1997.49 1913.4 Q1997.49 1919.8 2000.19 1923.49 Q2002.93 1927.15 2007.67 1927.15 Q2012.35 1927.15 2015.09 1923.46 Q2017.82 1919.77 2017.82 1913.4 Q2017.82 1907.07 2015.09 1903.38 Q2012.35 1899.65 2007.67 1899.65 M2007.67 1894.69 Q2015.31 1894.69 2019.67 1899.65 Q2024.03 1904.62 2024.03 1913.4 Q2024.03 1922.16 2019.67 1927.15 Q2015.31 1932.12 2007.67 1932.12 Q2000 1932.12 1995.64 1927.15 Q1991.31 1922.16 1991.31 1913.4 Q1991.31 1904.62 1995.64 1899.65 Q2000 1894.69 2007.67 1894.69 Z\" fill=\"#000000\" fill-rule=\"evenodd\" fill-opacity=\"1\" /><path clip-path=\"url(#clip030)\" d=\"M2054.4 1901.02 Q2053.41 1900.45 2052.23 1900.2 Q2051.08 1899.91 2049.68 1899.91 Q2044.72 1899.91 2042.05 1903.16 Q2039.4 1906.37 2039.4 1912.42 L2039.4 1931.2 L2033.52 1931.2 L2033.52 1895.55 L2039.4 1895.55 L2039.4 1901.09 Q2041.25 1897.84 2044.21 1896.28 Q2047.17 1894.69 2051.4 1894.69 Q2052.01 1894.69 2052.74 1894.78 Q2053.47 1894.85 2054.36 1895.01 L2054.4 1901.02 Z\" fill=\"#000000\" fill-rule=\"evenodd\" fill-opacity=\"1\" /><path clip-path=\"url(#clip030)\" d=\"M2082.85 1900.96 L2082.85 1881.67 L2088.71 1881.67 L2088.71 1931.2 L2082.85 1931.2 L2082.85 1925.85 Q2081 1929.03 2078.17 1930.59 Q2075.37 1932.12 2071.42 1932.12 Q2064.96 1932.12 2060.89 1926.96 Q2056.85 1921.81 2056.85 1913.4 Q2056.85 1905 2060.89 1899.85 Q2064.96 1894.69 2071.42 1894.69 Q2075.37 1894.69 2078.17 1896.25 Q2081 1897.78 2082.85 1900.96 M2062.89 1913.4 Q2062.89 1919.87 2065.54 1923.56 Q2068.21 1927.22 2072.86 1927.22 Q2077.5 1927.22 2080.18 1923.56 Q2082.85 1919.87 2082.85 1913.4 Q2082.85 1906.94 2080.18 1903.28 Q2077.5 1899.59 2072.86 1899.59 Q2068.21 1899.59 2065.54 1903.28 Q2062.89 1906.94 2062.89 1913.4 Z\" fill=\"#000000\" fill-rule=\"evenodd\" fill-opacity=\"1\" /><path clip-path=\"url(#clip030)\" d=\"M2131.26 1911.91 L2131.26 1914.77 L2104.33 1914.77 Q2104.72 1920.82 2107.96 1924 Q2111.24 1927.15 2117.07 1927.15 Q2120.44 1927.15 2123.59 1926.33 Q2126.77 1925.5 2129.89 1923.84 L2129.89 1929.38 Q2126.74 1930.72 2123.43 1931.42 Q2120.12 1932.12 2116.72 1932.12 Q2108.19 1932.12 2103.19 1927.15 Q2098.22 1922.19 2098.22 1913.72 Q2098.22 1904.97 2102.93 1899.85 Q2107.68 1894.69 2115.7 1894.69 Q2122.89 1894.69 2127.06 1899.34 Q2131.26 1903.95 2131.26 1911.91 M2125.4 1910.19 Q2125.34 1905.38 2122.7 1902.52 Q2120.09 1899.65 2115.76 1899.65 Q2110.86 1899.65 2107.9 1902.42 Q2104.97 1905.19 2104.52 1910.22 L2125.4 1910.19 Z\" fill=\"#000000\" fill-rule=\"evenodd\" fill-opacity=\"1\" /><path clip-path=\"url(#clip030)\" d=\"M2161.53 1901.02 Q2160.54 1900.45 2159.37 1900.2 Q2158.22 1899.91 2156.82 1899.91 Q2151.85 1899.91 2149.18 1903.16 Q2146.54 1906.37 2146.54 1912.42 L2146.54 1931.2 L2140.65 1931.2 L2140.65 1895.55 L2146.54 1895.55 L2146.54 1901.09 Q2148.38 1897.84 2151.34 1896.28 Q2154.3 1894.69 2158.54 1894.69 Q2159.14 1894.69 2159.87 1894.78 Q2160.61 1894.85 2161.5 1895.01 L2161.53 1901.02 Z\" fill=\"#000000\" fill-rule=\"evenodd\" fill-opacity=\"1\" /><path clip-path=\"url(#clip030)\" d=\"M2196.73 1911.91 L2196.73 1914.77 L2169.81 1914.77 Q2170.19 1920.82 2173.43 1924 Q2176.71 1927.15 2182.54 1927.15 Q2185.91 1927.15 2189.06 1926.33 Q2192.24 1925.5 2195.36 1923.84 L2195.36 1929.38 Q2192.21 1930.72 2188.9 1931.42 Q2185.59 1932.12 2182.19 1932.12 Q2173.66 1932.12 2168.66 1927.15 Q2163.69 1922.19 2163.69 1913.72 Q2163.69 1904.97 2168.4 1899.85 Q2173.15 1894.69 2181.17 1894.69 Q2188.36 1894.69 2192.53 1899.34 Q2196.73 1903.95 2196.73 1911.91 M2190.88 1910.19 Q2190.81 1905.38 2188.17 1902.52 Q2185.56 1899.65 2181.23 1899.65 Q2176.33 1899.65 2173.37 1902.42 Q2170.44 1905.19 2170 1910.22 L2190.88 1910.19 Z\" fill=\"#000000\" fill-rule=\"evenodd\" fill-opacity=\"1\" /><path clip-path=\"url(#clip030)\" d=\"M2229.8 1900.96 L2229.8 1881.67 L2235.66 1881.67 L2235.66 1931.2 L2229.8 1931.2 L2229.8 1925.85 Q2227.96 1929.03 2225.12 1930.59 Q2222.32 1932.12 2218.38 1932.12 Q2211.91 1932.12 2207.84 1926.96 Q2203.8 1921.81 2203.8 1913.4 Q2203.8 1905 2207.84 1899.85 Q2211.91 1894.69 2218.38 1894.69 Q2222.32 1894.69 2225.12 1896.25 Q2227.96 1897.78 2229.8 1900.96 M2209.85 1913.4 Q2209.85 1919.87 2212.49 1923.56 Q2215.16 1927.22 2219.81 1927.22 Q2224.45 1927.22 2227.13 1923.56 Q2229.8 1919.87 2229.8 1913.4 Q2229.8 1906.94 2227.13 1903.28 Q2224.45 1899.59 2219.81 1899.59 Q2215.16 1899.59 2212.49 1903.28 Q2209.85 1906.94 2209.85 1913.4 Z\" fill=\"#000000\" fill-rule=\"evenodd\" fill-opacity=\"1\" /><path clip-path=\"url(#clip030)\" d=\"M2274.81 1942.02 L2274.81 1946.57 L2240.94 1946.57 L2240.94 1942.02 L2274.81 1942.02 Z\" fill=\"#000000\" fill-rule=\"evenodd\" fill-opacity=\"1\" /><path clip-path=\"url(#clip030)\" d=\"M2298.36 1881.67 L2298.36 1886.54 L2292.76 1886.54 Q2289.61 1886.54 2288.37 1887.81 Q2287.16 1889.09 2287.16 1892.4 L2287.16 1895.55 L2296.8 1895.55 L2296.8 1900.1 L2287.16 1900.1 L2287.16 1931.2 L2281.27 1931.2 L2281.27 1900.1 L2275.67 1900.1 L2275.67 1895.55 L2281.27 1895.55 L2281.27 1893.07 Q2281.27 1887.11 2284.04 1884.41 Q2286.81 1881.67 2292.82 1881.67 L2298.36 1881.67 Z\" fill=\"#000000\" fill-rule=\"evenodd\" fill-opacity=\"1\" /><path clip-path=\"url(#clip030)\" d=\"M2319.46 1913.28 Q2312.37 1913.28 2309.63 1914.9 Q2306.89 1916.52 2306.89 1920.44 Q2306.89 1923.56 2308.93 1925.4 Q2311 1927.22 2314.53 1927.22 Q2319.4 1927.22 2322.33 1923.78 Q2325.29 1920.31 2325.29 1914.58 L2325.29 1913.28 L2319.46 1913.28 M2331.14 1910.86 L2331.14 1931.2 L2325.29 1931.2 L2325.29 1925.79 Q2323.28 1929.03 2320.29 1930.59 Q2317.3 1932.12 2312.97 1932.12 Q2307.5 1932.12 2304.25 1929.06 Q2301.03 1925.98 2301.03 1920.82 Q2301.03 1914.8 2305.04 1911.75 Q2309.09 1908.69 2317.08 1908.69 L2325.29 1908.69 L2325.29 1908.12 Q2325.29 1904.08 2322.61 1901.88 Q2319.97 1899.65 2315.17 1899.65 Q2312.11 1899.65 2309.21 1900.39 Q2306.32 1901.12 2303.64 1902.58 L2303.64 1897.17 Q2306.86 1895.93 2309.88 1895.33 Q2312.91 1894.69 2315.77 1894.69 Q2323.51 1894.69 2327.32 1898.7 Q2331.14 1902.71 2331.14 1910.86 Z\" fill=\"#000000\" fill-rule=\"evenodd\" fill-opacity=\"1\" /><path clip-path=\"url(#clip030)\" d=\"M2368.86 1896.92 L2368.86 1902.39 Q2366.38 1901.02 2363.86 1900.35 Q2361.38 1899.65 2358.83 1899.65 Q2353.14 1899.65 2349.99 1903.28 Q2346.84 1906.88 2346.84 1913.4 Q2346.84 1919.93 2349.99 1923.56 Q2353.14 1927.15 2358.83 1927.15 Q2361.38 1927.15 2363.86 1926.49 Q2366.38 1925.79 2368.86 1924.42 L2368.86 1929.83 Q2366.41 1930.97 2363.77 1931.55 Q2361.16 1932.12 2358.2 1932.12 Q2350.15 1932.12 2345.4 1927.06 Q2340.66 1922 2340.66 1913.4 Q2340.66 1904.68 2345.44 1899.69 Q2350.24 1894.69 2358.58 1894.69 Q2361.29 1894.69 2363.86 1895.26 Q2366.44 1895.8 2368.86 1896.92 Z\" fill=\"#000000\" fill-rule=\"evenodd\" fill-opacity=\"1\" /><path clip-path=\"url(#clip030)\" d=\"M2384.84 1885.43 L2384.84 1895.55 L2396.9 1895.55 L2396.9 1900.1 L2384.84 1900.1 L2384.84 1919.45 Q2384.84 1923.81 2386.02 1925.05 Q2387.23 1926.29 2390.89 1926.29 L2396.9 1926.29 L2396.9 1931.2 L2390.89 1931.2 Q2384.11 1931.2 2381.53 1928.68 Q2378.95 1926.14 2378.95 1919.45 L2378.95 1900.1 L2374.65 1900.1 L2374.65 1895.55 L2378.95 1895.55 L2378.95 1885.43 L2384.84 1885.43 Z\" fill=\"#000000\" fill-rule=\"evenodd\" fill-opacity=\"1\" /><path clip-path=\"url(#clip030)\" d=\"M2418.42 1899.65 Q2413.71 1899.65 2410.97 1903.35 Q2408.23 1907.01 2408.23 1913.4 Q2408.23 1919.8 2410.94 1923.49 Q2413.68 1927.15 2418.42 1927.15 Q2423.1 1927.15 2425.83 1923.46 Q2428.57 1919.77 2428.57 1913.4 Q2428.57 1907.07 2425.83 1903.38 Q2423.1 1899.65 2418.42 1899.65 M2418.42 1894.69 Q2426.06 1894.69 2430.42 1899.65 Q2434.78 1904.62 2434.78 1913.4 Q2434.78 1922.16 2430.42 1927.15 Q2426.06 1932.12 2418.42 1932.12 Q2410.75 1932.12 2406.39 1927.15 Q2402.06 1922.16 2402.06 1913.4 Q2402.06 1904.62 2406.39 1899.65 Q2410.75 1894.69 2418.42 1894.69 Z\" fill=\"#000000\" fill-rule=\"evenodd\" fill-opacity=\"1\" /><path clip-path=\"url(#clip030)\" d=\"M2465.14 1901.02 Q2464.16 1900.45 2462.98 1900.2 Q2461.83 1899.91 2460.43 1899.91 Q2455.47 1899.91 2452.79 1903.16 Q2450.15 1906.37 2450.15 1912.42 L2450.15 1931.2 L2444.26 1931.2 L2444.26 1895.55 L2450.15 1895.55 L2450.15 1901.09 Q2452 1897.84 2454.96 1896.28 Q2457.92 1894.69 2462.15 1894.69 Q2462.76 1894.69 2463.49 1894.78 Q2464.22 1894.85 2465.11 1895.01 L2465.14 1901.02 Z\" fill=\"#000000\" fill-rule=\"evenodd\" fill-opacity=\"1\" /><path clip-path=\"url(#clip030)\" d=\"M2494.01 1896.6 L2494.01 1902.14 Q2491.53 1900.86 2488.85 1900.23 Q2486.18 1899.59 2483.32 1899.59 Q2478.96 1899.59 2476.76 1900.93 Q2474.6 1902.26 2474.6 1904.94 Q2474.6 1906.98 2476.15 1908.15 Q2477.71 1909.3 2482.43 1910.35 L2484.43 1910.79 Q2490.67 1912.13 2493.28 1914.58 Q2495.92 1917 2495.92 1921.36 Q2495.92 1926.33 2491.97 1929.22 Q2488.06 1932.12 2481.18 1932.12 Q2478.32 1932.12 2475.2 1931.55 Q2472.11 1931.01 2468.68 1929.89 L2468.68 1923.84 Q2471.92 1925.53 2475.07 1926.39 Q2478.22 1927.22 2481.31 1927.22 Q2485.45 1927.22 2487.68 1925.82 Q2489.9 1924.39 2489.9 1921.81 Q2489.9 1919.42 2488.28 1918.15 Q2486.69 1916.87 2481.25 1915.7 L2479.21 1915.22 Q2473.77 1914.07 2471.35 1911.72 Q2468.93 1909.33 2468.93 1905.19 Q2468.93 1900.16 2472.49 1897.43 Q2476.06 1894.69 2482.62 1894.69 Q2485.86 1894.69 2488.73 1895.17 Q2491.59 1895.64 2494.01 1896.6 Z\" fill=\"#000000\" fill-rule=\"evenodd\" fill-opacity=\"1\" /><polyline clip-path=\"url(#clip035)\" style=\"stroke:#000000; stroke-linecap:butt; stroke-linejoin:round; stroke-width:2; stroke-opacity:0.1; fill:none\" points=\"\n",
       "  1370.01,1772.48 2152.76,1772.48 \n",
       "  \"/>\n",
       "<polyline clip-path=\"url(#clip035)\" style=\"stroke:#000000; stroke-linecap:butt; stroke-linejoin:round; stroke-width:2; stroke-opacity:0.1; fill:none\" points=\"\n",
       "  1370.01,1620.65 2152.76,1620.65 \n",
       "  \"/>\n",
       "<polyline clip-path=\"url(#clip035)\" style=\"stroke:#000000; stroke-linecap:butt; stroke-linejoin:round; stroke-width:2; stroke-opacity:0.1; fill:none\" points=\"\n",
       "  1370.01,1468.82 2152.76,1468.82 \n",
       "  \"/>\n",
       "<polyline clip-path=\"url(#clip035)\" style=\"stroke:#000000; stroke-linecap:butt; stroke-linejoin:round; stroke-width:2; stroke-opacity:0.1; fill:none\" points=\"\n",
       "  1370.01,1316.99 2152.76,1316.99 \n",
       "  \"/>\n",
       "<polyline clip-path=\"url(#clip035)\" style=\"stroke:#000000; stroke-linecap:butt; stroke-linejoin:round; stroke-width:2; stroke-opacity:0.1; fill:none\" points=\"\n",
       "  1370.01,1165.16 2152.76,1165.16 \n",
       "  \"/>\n",
       "<polyline clip-path=\"url(#clip030)\" style=\"stroke:#000000; stroke-linecap:butt; stroke-linejoin:round; stroke-width:4; stroke-opacity:1; fill:none\" points=\"\n",
       "  1370.01,1789.33 1370.01,1015.34 \n",
       "  \"/>\n",
       "<polyline clip-path=\"url(#clip030)\" style=\"stroke:#000000; stroke-linecap:butt; stroke-linejoin:round; stroke-width:4; stroke-opacity:1; fill:none\" points=\"\n",
       "  2152.76,1789.33 2152.76,1015.34 \n",
       "  \"/>\n",
       "<polyline clip-path=\"url(#clip030)\" style=\"stroke:#000000; stroke-linecap:butt; stroke-linejoin:round; stroke-width:4; stroke-opacity:1; fill:none\" points=\"\n",
       "  1370.01,1772.48 1388.9,1772.48 \n",
       "  \"/>\n",
       "<polyline clip-path=\"url(#clip030)\" style=\"stroke:#000000; stroke-linecap:butt; stroke-linejoin:round; stroke-width:4; stroke-opacity:1; fill:none\" points=\"\n",
       "  1370.01,1620.65 1388.9,1620.65 \n",
       "  \"/>\n",
       "<polyline clip-path=\"url(#clip030)\" style=\"stroke:#000000; stroke-linecap:butt; stroke-linejoin:round; stroke-width:4; stroke-opacity:1; fill:none\" points=\"\n",
       "  1370.01,1468.82 1388.9,1468.82 \n",
       "  \"/>\n",
       "<polyline clip-path=\"url(#clip030)\" style=\"stroke:#000000; stroke-linecap:butt; stroke-linejoin:round; stroke-width:4; stroke-opacity:1; fill:none\" points=\"\n",
       "  1370.01,1316.99 1388.9,1316.99 \n",
       "  \"/>\n",
       "<polyline clip-path=\"url(#clip030)\" style=\"stroke:#000000; stroke-linecap:butt; stroke-linejoin:round; stroke-width:4; stroke-opacity:1; fill:none\" points=\"\n",
       "  1370.01,1165.16 1388.9,1165.16 \n",
       "  \"/>\n",
       "<path clip-path=\"url(#clip030)\" d=\"M1250.9 1758.28 Q1247.29 1758.28 1245.46 1761.84 Q1243.65 1765.38 1243.65 1772.51 Q1243.65 1779.62 1245.46 1783.18 Q1247.29 1786.72 1250.9 1786.72 Q1254.53 1786.72 1256.34 1783.18 Q1258.17 1779.62 1258.17 1772.51 Q1258.17 1765.38 1256.34 1761.84 Q1254.53 1758.28 1250.9 1758.28 M1250.9 1754.57 Q1256.71 1754.57 1259.76 1759.18 Q1262.84 1763.76 1262.84 1772.51 Q1262.84 1781.24 1259.76 1785.84 Q1256.71 1790.43 1250.9 1790.43 Q1245.09 1790.43 1242.01 1785.84 Q1238.95 1781.24 1238.95 1772.51 Q1238.95 1763.76 1242.01 1759.18 Q1245.09 1754.57 1250.9 1754.57 Z\" fill=\"#000000\" fill-rule=\"evenodd\" fill-opacity=\"1\" /><path clip-path=\"url(#clip030)\" d=\"M1271.06 1783.88 L1275.94 1783.88 L1275.94 1789.76 L1271.06 1789.76 L1271.06 1783.88 Z\" fill=\"#000000\" fill-rule=\"evenodd\" fill-opacity=\"1\" /><path clip-path=\"url(#clip030)\" d=\"M1284.95 1755.2 L1307.17 1755.2 L1307.17 1757.19 L1294.62 1789.76 L1289.74 1789.76 L1301.54 1759.13 L1284.95 1759.13 L1284.95 1755.2 Z\" fill=\"#000000\" fill-rule=\"evenodd\" fill-opacity=\"1\" /><path clip-path=\"url(#clip030)\" d=\"M1317.1 1785.82 L1324.74 1785.82 L1324.74 1759.46 L1316.43 1761.12 L1316.43 1756.86 L1324.69 1755.2 L1329.37 1755.2 L1329.37 1785.82 L1337.01 1785.82 L1337.01 1789.76 L1317.1 1789.76 L1317.1 1785.82 Z\" fill=\"#000000\" fill-rule=\"evenodd\" fill-opacity=\"1\" /><path clip-path=\"url(#clip030)\" d=\"M1251.27 1606.45 Q1247.66 1606.45 1245.83 1610.01 Q1244.02 1613.55 1244.02 1620.68 Q1244.02 1627.79 1245.83 1631.35 Q1247.66 1634.9 1251.27 1634.9 Q1254.9 1634.9 1256.71 1631.35 Q1258.54 1627.79 1258.54 1620.68 Q1258.54 1613.55 1256.71 1610.01 Q1254.9 1606.45 1251.27 1606.45 M1251.27 1602.74 Q1257.08 1602.74 1260.13 1607.35 Q1263.21 1611.93 1263.21 1620.68 Q1263.21 1629.41 1260.13 1634.02 Q1257.08 1638.6 1251.27 1638.6 Q1245.46 1638.6 1242.38 1634.02 Q1239.32 1629.41 1239.32 1620.68 Q1239.32 1611.93 1242.38 1607.35 Q1245.46 1602.74 1251.27 1602.74 Z\" fill=\"#000000\" fill-rule=\"evenodd\" fill-opacity=\"1\" /><path clip-path=\"url(#clip030)\" d=\"M1271.43 1632.05 L1276.31 1632.05 L1276.31 1637.93 L1271.43 1637.93 L1271.43 1632.05 Z\" fill=\"#000000\" fill-rule=\"evenodd\" fill-opacity=\"1\" /><path clip-path=\"url(#clip030)\" d=\"M1285.32 1603.37 L1307.54 1603.37 L1307.54 1605.36 L1294.99 1637.93 L1290.11 1637.93 L1301.91 1607.3 L1285.32 1607.3 L1285.32 1603.37 Z\" fill=\"#000000\" fill-rule=\"evenodd\" fill-opacity=\"1\" /><path clip-path=\"url(#clip030)\" d=\"M1320.69 1633.99 L1337.01 1633.99 L1337.01 1637.93 L1315.06 1637.93 L1315.06 1633.99 Q1317.72 1631.24 1322.31 1626.61 Q1326.91 1621.96 1328.1 1620.61 Q1330.34 1618.09 1331.22 1616.35 Q1332.12 1614.6 1332.12 1612.91 Q1332.12 1610.15 1330.18 1608.41 Q1328.26 1606.68 1325.16 1606.68 Q1322.96 1606.68 1320.5 1607.44 Q1318.07 1608.21 1315.29 1609.76 L1315.29 1605.04 Q1318.12 1603.9 1320.57 1603.32 Q1323.03 1602.74 1325.06 1602.74 Q1330.43 1602.74 1333.63 1605.43 Q1336.82 1608.11 1336.82 1612.6 Q1336.82 1614.73 1336.01 1616.66 Q1335.22 1618.55 1333.12 1621.15 Q1332.54 1621.82 1329.44 1625.03 Q1326.34 1628.23 1320.69 1633.99 Z\" fill=\"#000000\" fill-rule=\"evenodd\" fill-opacity=\"1\" /><path clip-path=\"url(#clip030)\" d=\"M1250.32 1454.62 Q1246.71 1454.62 1244.88 1458.18 Q1243.07 1461.73 1243.07 1468.86 Q1243.07 1475.96 1244.88 1479.53 Q1246.71 1483.07 1250.32 1483.07 Q1253.95 1483.07 1255.76 1479.53 Q1257.59 1475.96 1257.59 1468.86 Q1257.59 1461.73 1255.76 1458.18 Q1253.95 1454.62 1250.32 1454.62 M1250.32 1450.92 Q1256.13 1450.92 1259.18 1455.52 Q1262.26 1460.11 1262.26 1468.86 Q1262.26 1477.58 1259.18 1482.19 Q1256.13 1486.77 1250.32 1486.77 Q1244.51 1486.77 1241.43 1482.19 Q1238.37 1477.58 1238.37 1468.86 Q1238.37 1460.11 1241.43 1455.52 Q1244.51 1450.92 1250.32 1450.92 Z\" fill=\"#000000\" fill-rule=\"evenodd\" fill-opacity=\"1\" /><path clip-path=\"url(#clip030)\" d=\"M1270.48 1480.22 L1275.36 1480.22 L1275.36 1486.1 L1270.48 1486.1 L1270.48 1480.22 Z\" fill=\"#000000\" fill-rule=\"evenodd\" fill-opacity=\"1\" /><path clip-path=\"url(#clip030)\" d=\"M1284.37 1451.54 L1306.59 1451.54 L1306.59 1453.53 L1294.04 1486.1 L1289.16 1486.1 L1300.97 1455.48 L1284.37 1455.48 L1284.37 1451.54 Z\" fill=\"#000000\" fill-rule=\"evenodd\" fill-opacity=\"1\" /><path clip-path=\"url(#clip030)\" d=\"M1329.88 1467.47 Q1333.23 1468.18 1335.11 1470.45 Q1337.01 1472.72 1337.01 1476.05 Q1337.01 1481.17 1333.49 1483.97 Q1329.97 1486.77 1323.49 1486.77 Q1321.31 1486.77 1319 1486.33 Q1316.71 1485.92 1314.25 1485.06 L1314.25 1480.54 Q1316.2 1481.68 1318.51 1482.26 Q1320.83 1482.84 1323.35 1482.84 Q1327.75 1482.84 1330.04 1481.1 Q1332.35 1479.36 1332.35 1476.05 Q1332.35 1473 1330.2 1471.29 Q1328.07 1469.55 1324.25 1469.55 L1320.22 1469.55 L1320.22 1465.71 L1324.44 1465.71 Q1327.89 1465.71 1329.72 1464.34 Q1331.54 1462.95 1331.54 1460.36 Q1331.54 1457.7 1329.65 1456.29 Q1327.77 1454.85 1324.25 1454.85 Q1322.33 1454.85 1320.13 1455.27 Q1317.93 1455.68 1315.29 1456.56 L1315.29 1452.4 Q1317.96 1451.66 1320.27 1451.29 Q1322.61 1450.92 1324.67 1450.92 Q1329.99 1450.92 1333.1 1453.35 Q1336.2 1455.75 1336.2 1459.87 Q1336.2 1462.74 1334.55 1464.73 Q1332.91 1466.7 1329.88 1467.47 Z\" fill=\"#000000\" fill-rule=\"evenodd\" fill-opacity=\"1\" /><path clip-path=\"url(#clip030)\" d=\"M1249.18 1302.79 Q1245.57 1302.79 1243.74 1306.36 Q1241.94 1309.9 1241.94 1317.03 Q1241.94 1324.13 1243.74 1327.7 Q1245.57 1331.24 1249.18 1331.24 Q1252.82 1331.24 1254.62 1327.7 Q1256.45 1324.13 1256.45 1317.03 Q1256.45 1309.9 1254.62 1306.36 Q1252.82 1302.79 1249.18 1302.79 M1249.18 1299.09 Q1254.99 1299.09 1258.05 1303.69 Q1261.13 1308.28 1261.13 1317.03 Q1261.13 1325.75 1258.05 1330.36 Q1254.99 1334.94 1249.18 1334.94 Q1243.37 1334.94 1240.29 1330.36 Q1237.24 1325.75 1237.24 1317.03 Q1237.24 1308.28 1240.29 1303.69 Q1243.37 1299.09 1249.18 1299.09 Z\" fill=\"#000000\" fill-rule=\"evenodd\" fill-opacity=\"1\" /><path clip-path=\"url(#clip030)\" d=\"M1269.35 1328.39 L1274.23 1328.39 L1274.23 1334.27 L1269.35 1334.27 L1269.35 1328.39 Z\" fill=\"#000000\" fill-rule=\"evenodd\" fill-opacity=\"1\" /><path clip-path=\"url(#clip030)\" d=\"M1283.23 1299.71 L1305.46 1299.71 L1305.46 1301.7 L1292.91 1334.27 L1288.03 1334.27 L1299.83 1303.65 L1283.23 1303.65 L1283.23 1299.71 Z\" fill=\"#000000\" fill-rule=\"evenodd\" fill-opacity=\"1\" /><path clip-path=\"url(#clip030)\" d=\"M1327.42 1303.79 L1315.62 1322.24 L1327.42 1322.24 L1327.42 1303.79 M1326.2 1299.71 L1332.08 1299.71 L1332.08 1322.24 L1337.01 1322.24 L1337.01 1326.12 L1332.08 1326.12 L1332.08 1334.27 L1327.42 1334.27 L1327.42 1326.12 L1311.82 1326.12 L1311.82 1321.61 L1326.2 1299.71 Z\" fill=\"#000000\" fill-rule=\"evenodd\" fill-opacity=\"1\" /><path clip-path=\"url(#clip030)\" d=\"M1250.67 1150.96 Q1247.05 1150.96 1245.23 1154.53 Q1243.42 1158.07 1243.42 1165.2 Q1243.42 1172.31 1245.23 1175.87 Q1247.05 1179.41 1250.67 1179.41 Q1254.3 1179.41 1256.1 1175.87 Q1257.93 1172.31 1257.93 1165.2 Q1257.93 1158.07 1256.1 1154.53 Q1254.3 1150.96 1250.67 1150.96 M1250.67 1147.26 Q1256.48 1147.26 1259.53 1151.87 Q1262.61 1156.45 1262.61 1165.2 Q1262.61 1173.93 1259.53 1178.53 Q1256.48 1183.12 1250.67 1183.12 Q1244.85 1183.12 1241.78 1178.53 Q1238.72 1173.93 1238.72 1165.2 Q1238.72 1156.45 1241.78 1151.87 Q1244.85 1147.26 1250.67 1147.26 Z\" fill=\"#000000\" fill-rule=\"evenodd\" fill-opacity=\"1\" /><path clip-path=\"url(#clip030)\" d=\"M1270.83 1176.56 L1275.71 1176.56 L1275.71 1182.44 L1270.83 1182.44 L1270.83 1176.56 Z\" fill=\"#000000\" fill-rule=\"evenodd\" fill-opacity=\"1\" /><path clip-path=\"url(#clip030)\" d=\"M1284.72 1147.88 L1306.94 1147.88 L1306.94 1149.87 L1294.39 1182.44 L1289.51 1182.44 L1301.31 1151.82 L1284.72 1151.82 L1284.72 1147.88 Z\" fill=\"#000000\" fill-rule=\"evenodd\" fill-opacity=\"1\" /><path clip-path=\"url(#clip030)\" d=\"M1316.1 1147.88 L1334.46 1147.88 L1334.46 1151.82 L1320.39 1151.82 L1320.39 1160.29 Q1321.41 1159.94 1322.42 1159.78 Q1323.44 1159.6 1324.46 1159.6 Q1330.25 1159.6 1333.63 1162.77 Q1337.01 1165.94 1337.01 1171.36 Q1337.01 1176.93 1333.53 1180.04 Q1330.06 1183.12 1323.74 1183.12 Q1321.57 1183.12 1319.3 1182.75 Q1317.05 1182.37 1314.65 1181.63 L1314.65 1176.93 Q1316.73 1178.07 1318.95 1178.62 Q1321.17 1179.18 1323.65 1179.18 Q1327.66 1179.18 1329.99 1177.07 Q1332.33 1174.97 1332.33 1171.36 Q1332.33 1167.75 1329.99 1165.64 Q1327.66 1163.53 1323.65 1163.53 Q1321.78 1163.53 1319.9 1163.95 Q1318.05 1164.37 1316.1 1165.25 L1316.1 1147.88 Z\" fill=\"#000000\" fill-rule=\"evenodd\" fill-opacity=\"1\" /><path clip-path=\"url(#clip030)\" d=\"M1142.46 1688.21 L1142.46 1681.78 L1184.57 1681.78 L1184.57 1658.64 L1189.98 1658.64 L1189.98 1688.21 L1142.46 1688.21 Z\" fill=\"#000000\" fill-rule=\"evenodd\" fill-opacity=\"1\" /><path clip-path=\"url(#clip030)\" d=\"M1158.44 1639.48 Q1158.44 1644.19 1162.13 1646.93 Q1165.79 1649.66 1172.19 1649.66 Q1178.59 1649.66 1182.28 1646.96 Q1185.94 1644.22 1185.94 1639.48 Q1185.94 1634.8 1182.25 1632.06 Q1178.56 1629.32 1172.19 1629.32 Q1165.86 1629.32 1162.17 1632.06 Q1158.44 1634.8 1158.44 1639.48 M1153.48 1639.48 Q1153.48 1631.84 1158.44 1627.48 Q1163.41 1623.12 1172.19 1623.12 Q1180.94 1623.12 1185.94 1627.48 Q1190.91 1631.84 1190.91 1639.48 Q1190.91 1647.15 1185.94 1651.51 Q1180.94 1655.84 1172.19 1655.84 Q1163.41 1655.84 1158.44 1651.51 Q1153.48 1647.15 1153.48 1639.48 Z\" fill=\"#000000\" fill-rule=\"evenodd\" fill-opacity=\"1\" /><path clip-path=\"url(#clip030)\" d=\"M1171.75 1589.95 Q1165.38 1589.95 1161.88 1592.59 Q1158.38 1595.2 1158.38 1599.95 Q1158.38 1604.66 1161.88 1607.3 Q1165.38 1609.91 1171.75 1609.91 Q1178.08 1609.91 1181.58 1607.3 Q1185.08 1604.66 1185.08 1599.95 Q1185.08 1595.2 1181.58 1592.59 Q1178.08 1589.95 1171.75 1589.95 M1185.56 1584.1 Q1194.66 1584.1 1199.09 1588.14 Q1203.54 1592.18 1203.54 1600.52 Q1203.54 1603.61 1203.06 1606.34 Q1202.62 1609.08 1201.66 1611.66 L1195.97 1611.66 Q1197.37 1609.08 1198.04 1606.57 Q1198.7 1604.05 1198.7 1601.44 Q1198.7 1595.68 1195.68 1592.82 Q1192.69 1589.95 1186.61 1589.95 L1183.71 1589.95 Q1186.86 1591.77 1188.42 1594.6 Q1189.98 1597.43 1189.98 1601.38 Q1189.98 1607.94 1184.99 1611.95 Q1179.99 1615.96 1171.75 1615.96 Q1163.47 1615.96 1158.47 1611.95 Q1153.48 1607.94 1153.48 1601.38 Q1153.48 1597.43 1155.04 1594.6 Q1156.6 1591.77 1159.75 1589.95 L1154.34 1589.95 L1154.34 1584.1 L1185.56 1584.1 Z\" fill=\"#000000\" fill-rule=\"evenodd\" fill-opacity=\"1\" /><path clip-path=\"url(#clip030)\" d=\"M1142.46 1571.78 L1142.46 1565.35 L1184.57 1565.35 L1184.57 1542.21 L1189.98 1542.21 L1189.98 1571.78 L1142.46 1571.78 Z\" fill=\"#000000\" fill-rule=\"evenodd\" fill-opacity=\"1\" /><path clip-path=\"url(#clip030)\" d=\"M1158.44 1523.05 Q1158.44 1527.76 1162.13 1530.5 Q1165.79 1533.23 1172.19 1533.23 Q1178.59 1533.23 1182.28 1530.53 Q1185.94 1527.79 1185.94 1523.05 Q1185.94 1518.37 1182.25 1515.63 Q1178.56 1512.9 1172.19 1512.9 Q1165.86 1512.9 1162.17 1515.63 Q1158.44 1518.37 1158.44 1523.05 M1153.48 1523.05 Q1153.48 1515.41 1158.44 1511.05 Q1163.41 1506.69 1172.19 1506.69 Q1180.94 1506.69 1185.94 1511.05 Q1190.91 1515.41 1190.91 1523.05 Q1190.91 1530.72 1185.94 1535.08 Q1180.94 1539.41 1172.19 1539.41 Q1163.41 1539.41 1158.44 1535.08 Q1153.48 1530.72 1153.48 1523.05 Z\" fill=\"#000000\" fill-rule=\"evenodd\" fill-opacity=\"1\" /><path clip-path=\"url(#clip030)\" d=\"M1155.39 1474.26 L1160.92 1474.26 Q1159.65 1476.74 1159.01 1479.41 Q1158.38 1482.09 1158.38 1484.95 Q1158.38 1489.31 1159.71 1491.51 Q1161.05 1493.67 1163.72 1493.67 Q1165.76 1493.67 1166.94 1492.11 Q1168.09 1490.55 1169.14 1485.84 L1169.58 1483.84 Q1170.92 1477.6 1173.37 1474.99 Q1175.79 1472.35 1180.15 1472.35 Q1185.11 1472.35 1188.01 1476.29 Q1190.91 1480.21 1190.91 1487.08 Q1190.91 1489.95 1190.33 1493.07 Q1189.79 1496.15 1188.68 1499.59 L1182.63 1499.59 Q1184.32 1496.34 1185.18 1493.19 Q1186 1490.04 1186 1486.95 Q1186 1482.82 1184.6 1480.59 Q1183.17 1478.36 1180.59 1478.36 Q1178.21 1478.36 1176.93 1479.98 Q1175.66 1481.58 1174.48 1487.02 L1174.01 1489.06 Q1172.86 1494.5 1170.5 1496.92 Q1168.12 1499.34 1163.98 1499.34 Q1158.95 1499.34 1156.21 1495.77 Q1153.48 1492.21 1153.48 1485.65 Q1153.48 1482.4 1153.95 1479.54 Q1154.43 1476.67 1155.39 1474.26 Z\" fill=\"#000000\" fill-rule=\"evenodd\" fill-opacity=\"1\" /><path clip-path=\"url(#clip030)\" d=\"M1155.39 1440.29 L1160.92 1440.29 Q1159.65 1442.78 1159.01 1445.45 Q1158.38 1448.12 1158.38 1450.99 Q1158.38 1455.35 1159.71 1457.55 Q1161.05 1459.71 1163.72 1459.71 Q1165.76 1459.71 1166.94 1458.15 Q1168.09 1456.59 1169.14 1451.88 L1169.58 1449.87 Q1170.92 1443.64 1173.37 1441.03 Q1175.79 1438.38 1180.15 1438.38 Q1185.11 1438.38 1188.01 1442.33 Q1190.91 1446.25 1190.91 1453.12 Q1190.91 1455.99 1190.33 1459.1 Q1189.79 1462.19 1188.68 1465.63 L1182.63 1465.63 Q1184.32 1462.38 1185.18 1459.23 Q1186 1456.08 1186 1452.99 Q1186 1448.86 1184.6 1446.63 Q1183.17 1444.4 1180.59 1444.4 Q1178.21 1444.4 1176.93 1446.02 Q1175.66 1447.61 1174.48 1453.06 L1174.01 1455.09 Q1172.86 1460.54 1170.5 1462.96 Q1168.12 1465.38 1163.98 1465.38 Q1158.95 1465.38 1156.21 1461.81 Q1153.48 1458.25 1153.48 1451.69 Q1153.48 1448.44 1153.95 1445.58 Q1154.43 1442.71 1155.39 1440.29 Z\" fill=\"#000000\" fill-rule=\"evenodd\" fill-opacity=\"1\" /><path clip-path=\"url(#clip030)\" d=\"M1196.03 1401.88 L1200.61 1401.88 L1200.61 1403.85 Q1200.61 1411.78 1198.26 1414.48 Q1195.9 1417.15 1188.87 1417.15 L1181.26 1417.15 Q1176.46 1417.15 1174.61 1418.87 Q1172.76 1420.59 1172.76 1425.11 L1172.76 1427.05 L1168.21 1427.05 L1168.21 1425.11 Q1168.21 1420.56 1166.4 1418.87 Q1164.55 1417.15 1159.81 1417.15 L1152.17 1417.15 Q1145.14 1417.15 1142.81 1414.48 Q1140.46 1411.78 1140.46 1403.85 L1140.46 1401.88 L1145.01 1401.88 L1145.01 1404.04 Q1145.01 1408.53 1146.41 1409.9 Q1147.81 1411.27 1152.3 1411.27 L1160.19 1411.27 Q1165.19 1411.27 1167.45 1412.73 Q1169.71 1414.16 1170.5 1417.66 Q1171.36 1414.13 1173.62 1412.7 Q1175.88 1411.27 1180.85 1411.27 L1188.74 1411.27 Q1193.23 1411.27 1194.63 1409.9 Q1196.03 1408.53 1196.03 1404.04 L1196.03 1401.88 Z\" fill=\"#000000\" fill-rule=\"evenodd\" fill-opacity=\"1\" /><path clip-path=\"url(#clip030)\" d=\"M1142.46 1387.33 L1142.46 1360.02 L1147.87 1360.02 L1147.87 1380.9 L1161.88 1380.9 L1161.88 1362.06 L1167.29 1362.06 L1167.29 1380.9 L1189.98 1380.9 L1189.98 1387.33 L1142.46 1387.33 Z\" fill=\"#000000\" fill-rule=\"evenodd\" fill-opacity=\"1\" /><path clip-path=\"url(#clip030)\" d=\"M1140.46 1350.09 L1140.46 1344.24 L1189.98 1344.24 L1189.98 1350.09 L1140.46 1350.09 Z\" fill=\"#000000\" fill-rule=\"evenodd\" fill-opacity=\"1\" /><path clip-path=\"url(#clip030)\" d=\"M1158.44 1318.17 Q1158.44 1322.88 1162.13 1325.62 Q1165.79 1328.35 1172.19 1328.35 Q1178.59 1328.35 1182.28 1325.65 Q1185.94 1322.91 1185.94 1318.17 Q1185.94 1313.49 1182.25 1310.75 Q1178.56 1308.01 1172.19 1308.01 Q1165.86 1308.01 1162.17 1310.75 Q1158.44 1313.49 1158.44 1318.17 M1153.48 1318.17 Q1153.48 1310.53 1158.44 1306.17 Q1163.41 1301.81 1172.19 1301.81 Q1180.94 1301.81 1185.94 1306.17 Q1190.91 1310.53 1190.91 1318.17 Q1190.91 1325.84 1185.94 1330.2 Q1180.94 1334.53 1172.19 1334.53 Q1163.41 1334.53 1158.44 1330.2 Q1153.48 1325.84 1153.48 1318.17 Z\" fill=\"#000000\" fill-rule=\"evenodd\" fill-opacity=\"1\" /><path clip-path=\"url(#clip030)\" d=\"M1172.06 1275.9 Q1172.06 1283 1173.69 1285.73 Q1175.31 1288.47 1179.23 1288.47 Q1182.34 1288.47 1184.19 1286.44 Q1186 1284.37 1186 1280.83 Q1186 1275.96 1182.57 1273.04 Q1179.1 1270.08 1173.37 1270.08 L1172.06 1270.08 L1172.06 1275.9 M1169.64 1264.22 L1189.98 1264.22 L1189.98 1270.08 L1184.57 1270.08 Q1187.82 1272.08 1189.38 1275.07 Q1190.91 1278.06 1190.91 1282.39 Q1190.91 1287.87 1187.85 1291.11 Q1184.76 1294.33 1179.61 1294.33 Q1173.59 1294.33 1170.54 1290.32 Q1167.48 1286.28 1167.48 1278.29 L1167.48 1270.08 L1166.91 1270.08 Q1162.87 1270.08 1160.67 1272.75 Q1158.44 1275.39 1158.44 1280.2 Q1158.44 1283.25 1159.17 1286.15 Q1159.91 1289.05 1161.37 1291.72 L1155.96 1291.72 Q1154.72 1288.5 1154.11 1285.48 Q1153.48 1282.46 1153.48 1279.59 Q1153.48 1271.86 1157.49 1268.04 Q1161.5 1264.22 1169.64 1264.22 Z\" fill=\"#000000\" fill-rule=\"evenodd\" fill-opacity=\"1\" /><path clip-path=\"url(#clip030)\" d=\"M1144.21 1246.36 L1154.34 1246.36 L1154.34 1234.3 L1158.89 1234.3 L1158.89 1246.36 L1178.24 1246.36 Q1182.6 1246.36 1183.84 1245.19 Q1185.08 1243.98 1185.08 1240.32 L1185.08 1234.3 L1189.98 1234.3 L1189.98 1240.32 Q1189.98 1247.1 1187.47 1249.67 Q1184.92 1252.25 1178.24 1252.25 L1158.89 1252.25 L1158.89 1256.55 L1154.34 1256.55 L1154.34 1252.25 L1144.21 1252.25 L1144.21 1246.36 Z\" fill=\"#000000\" fill-rule=\"evenodd\" fill-opacity=\"1\" /><path clip-path=\"url(#clip030)\" d=\"M1163.66 1211.22 Q1163.66 1215.55 1166.62 1218.1 Q1169.58 1220.61 1174.74 1220.61 Q1179.86 1220.61 1182.85 1218.1 Q1185.81 1215.55 1185.81 1211.22 Q1185.81 1206.9 1182.85 1204.38 Q1179.86 1201.83 1174.74 1201.83 Q1169.58 1201.83 1166.62 1204.38 Q1163.66 1206.9 1163.66 1211.22 M1143.51 1198.46 L1149.37 1198.46 Q1148.22 1200.88 1147.62 1203.36 Q1147.01 1205.81 1147.01 1208.23 Q1147.01 1214.6 1151.31 1217.97 Q1155.61 1221.31 1164.3 1221.79 Q1161.53 1219.91 1160.06 1217.08 Q1158.57 1214.25 1158.57 1210.84 Q1158.57 1203.68 1162.93 1199.54 Q1167.26 1195.37 1174.74 1195.37 Q1182.06 1195.37 1186.48 1199.7 Q1190.91 1204.03 1190.91 1211.22 Q1190.91 1219.47 1184.6 1223.83 Q1178.27 1228.19 1166.27 1228.19 Q1155 1228.19 1148.32 1222.84 Q1141.6 1217.49 1141.6 1208.49 Q1141.6 1206.07 1142.08 1203.62 Q1142.56 1201.13 1143.51 1198.46 Z\" fill=\"#000000\" fill-rule=\"evenodd\" fill-opacity=\"1\" /><path clip-path=\"url(#clip030)\" d=\"M1148.07 1166.63 L1173.43 1182.87 L1173.43 1166.63 L1148.07 1166.63 M1142.46 1168.32 L1142.46 1160.24 L1173.43 1160.24 L1173.43 1153.46 L1178.78 1153.46 L1178.78 1160.24 L1189.98 1160.24 L1189.98 1166.63 L1178.78 1166.63 L1178.78 1188.09 L1172.57 1188.09 L1142.46 1168.32 Z\" fill=\"#000000\" fill-rule=\"evenodd\" fill-opacity=\"1\" /><path clip-path=\"url(#clip030)\" d=\"M1196.03 1141.65 L1196.03 1139.42 Q1196.03 1134.96 1194.66 1133.63 Q1193.29 1132.26 1188.74 1132.26 L1180.85 1132.26 Q1175.88 1132.26 1173.62 1130.83 Q1171.36 1129.39 1170.5 1125.86 Q1169.71 1129.39 1167.45 1130.83 Q1165.19 1132.26 1160.19 1132.26 L1152.3 1132.26 Q1147.78 1132.26 1146.41 1133.63 Q1145.01 1134.96 1145.01 1139.42 L1145.01 1141.65 L1140.46 1141.65 L1140.46 1139.64 Q1140.46 1131.72 1142.81 1129.07 Q1145.14 1126.4 1152.17 1126.4 L1159.81 1126.4 Q1164.55 1126.4 1166.4 1124.68 Q1168.21 1122.96 1168.21 1118.44 L1168.21 1116.47 L1172.76 1116.47 L1172.76 1118.44 Q1172.76 1122.96 1174.61 1124.68 Q1176.46 1126.4 1181.26 1126.4 L1188.87 1126.4 Q1195.9 1126.4 1198.26 1129.07 Q1200.61 1131.72 1200.61 1139.64 L1200.61 1141.65 L1196.03 1141.65 Z\" fill=\"#000000\" fill-rule=\"evenodd\" fill-opacity=\"1\" /><circle clip-path=\"url(#clip035)\" cx=\"1392.16\" cy=\"1221.21\" r=\"14\" fill=\"#009af9\" fill-rule=\"evenodd\" fill-opacity=\"1\" stroke=\"#000000\" stroke-opacity=\"1\" stroke-width=\"4\"/>\n",
       "<circle clip-path=\"url(#clip035)\" cx=\"2130.6\" cy=\"1592.52\" r=\"14\" fill=\"#009af9\" fill-rule=\"evenodd\" fill-opacity=\"1\" stroke=\"#000000\" stroke-opacity=\"1\" stroke-width=\"4\"/>\n",
       "<circle clip-path=\"url(#clip035)\" cx=\"2130.6\" cy=\"1767.43\" r=\"14\" fill=\"#009af9\" fill-rule=\"evenodd\" fill-opacity=\"1\" stroke=\"#000000\" stroke-opacity=\"1\" stroke-width=\"4\"/>\n",
       "<circle clip-path=\"url(#clip035)\" cx=\"2130.6\" cy=\"1742.8\" r=\"14\" fill=\"#009af9\" fill-rule=\"evenodd\" fill-opacity=\"1\" stroke=\"#000000\" stroke-opacity=\"1\" stroke-width=\"4\"/>\n",
       "<circle clip-path=\"url(#clip035)\" cx=\"1392.16\" cy=\"1539.3\" r=\"14\" fill=\"#009af9\" fill-rule=\"evenodd\" fill-opacity=\"1\" stroke=\"#000000\" stroke-opacity=\"1\" stroke-width=\"4\"/>\n",
       "<circle clip-path=\"url(#clip035)\" cx=\"1392.16\" cy=\"1037.25\" r=\"14\" fill=\"#009af9\" fill-rule=\"evenodd\" fill-opacity=\"1\" stroke=\"#000000\" stroke-opacity=\"1\" stroke-width=\"4\"/>\n",
       "<circle clip-path=\"url(#clip035)\" cx=\"2130.6\" cy=\"1646.69\" r=\"14\" fill=\"#009af9\" fill-rule=\"evenodd\" fill-opacity=\"1\" stroke=\"#000000\" stroke-opacity=\"1\" stroke-width=\"4\"/>\n",
       "<circle clip-path=\"url(#clip035)\" cx=\"1392.16\" cy=\"1517.59\" r=\"14\" fill=\"#009af9\" fill-rule=\"evenodd\" fill-opacity=\"1\" stroke=\"#000000\" stroke-opacity=\"1\" stroke-width=\"4\"/>\n",
       "<circle clip-path=\"url(#clip035)\" cx=\"1392.16\" cy=\"1474.41\" r=\"14\" fill=\"#009af9\" fill-rule=\"evenodd\" fill-opacity=\"1\" stroke=\"#000000\" stroke-opacity=\"1\" stroke-width=\"4\"/>\n",
       "<circle clip-path=\"url(#clip035)\" cx=\"2130.6\" cy=\"1699.38\" r=\"14\" fill=\"#009af9\" fill-rule=\"evenodd\" fill-opacity=\"1\" stroke=\"#000000\" stroke-opacity=\"1\" stroke-width=\"4\"/>\n",
       "<circle clip-path=\"url(#clip035)\" cx=\"2130.6\" cy=\"1753.65\" r=\"14\" fill=\"#009af9\" fill-rule=\"evenodd\" fill-opacity=\"1\" stroke=\"#000000\" stroke-opacity=\"1\" stroke-width=\"4\"/>\n",
       "<circle clip-path=\"url(#clip035)\" cx=\"2130.6\" cy=\"1766.38\" r=\"14\" fill=\"#009af9\" fill-rule=\"evenodd\" fill-opacity=\"1\" stroke=\"#000000\" stroke-opacity=\"1\" stroke-width=\"4\"/>\n",
       "<circle clip-path=\"url(#clip035)\" cx=\"2130.6\" cy=\"1751.4\" r=\"14\" fill=\"#009af9\" fill-rule=\"evenodd\" fill-opacity=\"1\" stroke=\"#000000\" stroke-opacity=\"1\" stroke-width=\"4\"/>\n",
       "<circle clip-path=\"url(#clip035)\" cx=\"1392.16\" cy=\"1551.89\" r=\"14\" fill=\"#009af9\" fill-rule=\"evenodd\" fill-opacity=\"1\" stroke=\"#000000\" stroke-opacity=\"1\" stroke-width=\"4\"/>\n",
       "<circle clip-path=\"url(#clip035)\" cx=\"2130.6\" cy=\"1764.05\" r=\"14\" fill=\"#009af9\" fill-rule=\"evenodd\" fill-opacity=\"1\" stroke=\"#000000\" stroke-opacity=\"1\" stroke-width=\"4\"/>\n",
       "</svg>\n"
      ]
     },
     "execution_count": 16,
     "metadata": {},
     "output_type": "execute_result"
    },
    {
     "name": "stderr",
     "output_type": "stream",
     "text": [
      "┌ Warning: No strict ticks found\n",
      "└ @ PlotUtils /home/john/.julia/packages/PlotUtils/VgXdq/src/ticks.jl:294\n",
      "┌ Warning: No strict ticks found\n",
      "└ @ PlotUtils /home/john/.julia/packages/PlotUtils/VgXdq/src/ticks.jl:294\n"
     ]
    }
   ],
   "source": [
    "plt = plot(tuned_mach)"
   ]
  },
  {
   "cell_type": "markdown",
   "metadata": {},
   "source": [
    "Finally, we can compare cross-validation estimate of the performance with the original model"
   ]
  },
  {
   "cell_type": "code",
   "execution_count": 18,
   "metadata": {},
   "outputs": [
    {
     "name": "stderr",
     "output_type": "stream",
     "text": [
      "┌ Warning: Extremely small standard deviation encountered in standardization.\n",
      "└ @ MLJModels /home/john/.julia/packages/MLJModels/GKDnU/src/builtins/Transformers.jl:500\n",
      "\u001b[33mEvaluating over 3 folds: 100%[=========================] Time: 0:00:00\u001b[39m\n"
     ]
    },
    {
     "data": {
      "text/plain": [
       "PerformanceEvaluation object with these fields:\n",
       "  measure, measurement, operation, per_fold,\n",
       "  per_observation, fitted_params_per_fold,\n",
       "  report_per_fold, train_test_pairs\n",
       "Extract:\n",
       "┌────────────────────────────┬─────────────┬───────────┬─────────────────────┐\n",
       "│\u001b[22m measure                    \u001b[0m│\u001b[22m measurement \u001b[0m│\u001b[22m operation \u001b[0m│\u001b[22m per_fold            \u001b[0m│\n",
       "├────────────────────────────┼─────────────┼───────────┼─────────────────────┤\n",
       "│ LogLoss(tol = 2.22045e-16) │ 0.737       │ predict   │ [NaN, 0.718, 0.756] │\n",
       "└────────────────────────────┴─────────────┴───────────┴─────────────────────┘\n"
      ]
     },
     "execution_count": 18,
     "metadata": {},
     "output_type": "execute_result"
    }
   ],
   "source": [
    "err = evaluate!(mach, resampling=CV(nfolds=3), measure=cross_entropy)"
   ]
  },
  {
   "cell_type": "code",
   "execution_count": 19,
   "metadata": {},
   "outputs": [
    {
     "name": "stderr",
     "output_type": "stream",
     "text": [
      "┌ Warning: Extremely small standard deviation encountered in standardization.\n",
      "└ @ MLJModels /home/john/.julia/packages/MLJModels/GKDnU/src/builtins/Transformers.jl:500\n",
      "┌ Warning: Extremely small standard deviation encountered in standardization.\n",
      "└ @ MLJModels /home/john/.julia/packages/MLJModels/GKDnU/src/builtins/Transformers.jl:500\n",
      "┌ Warning: Extremely small standard deviation encountered in standardization.\n",
      "└ @ MLJModels /home/john/.julia/packages/MLJModels/GKDnU/src/builtins/Transformers.jl:500\n",
      "┌ Warning: Extremely small standard deviation encountered in standardization.\n",
      "└ @ MLJModels /home/john/.julia/packages/MLJModels/GKDnU/src/builtins/Transformers.jl:500\n",
      "┌ Warning: Extremely small standard deviation encountered in standardization.\n",
      "└ @ MLJModels /home/john/.julia/packages/MLJModels/GKDnU/src/builtins/Transformers.jl:500\n",
      "┌ Warning: Extremely small standard deviation encountered in standardization.\n",
      "└ @ MLJModels /home/john/.julia/packages/MLJModels/GKDnU/src/builtins/Transformers.jl:500\n",
      "┌ Warning: Extremely small standard deviation encountered in standardization.\n",
      "└ @ MLJModels /home/john/.julia/packages/MLJModels/GKDnU/src/builtins/Transformers.jl:500\n",
      "┌ Warning: Extremely small standard deviation encountered in standardization.\n",
      "└ @ MLJModels /home/john/.julia/packages/MLJModels/GKDnU/src/builtins/Transformers.jl:500\n",
      "┌ Warning: Extremely small standard deviation encountered in standardization.\n",
      "└ @ MLJModels /home/john/.julia/packages/MLJModels/GKDnU/src/builtins/Transformers.jl:500\n",
      "┌ Warning: Extremely small standard deviation encountered in standardization.\n",
      "└ @ MLJModels /home/john/.julia/packages/MLJModels/GKDnU/src/builtins/Transformers.jl:500\n",
      "┌ Warning: Extremely small standard deviation encountered in standardization.\n",
      "└ @ MLJModels /home/john/.julia/packages/MLJModels/GKDnU/src/builtins/Transformers.jl:500\n",
      "┌ Warning: Extremely small standard deviation encountered in standardization.\n",
      "└ @ MLJModels /home/john/.julia/packages/MLJModels/GKDnU/src/builtins/Transformers.jl:500\n",
      "┌ Warning: Extremely small standard deviation encountered in standardization.\n",
      "└ @ MLJModels /home/john/.julia/packages/MLJModels/GKDnU/src/builtins/Transformers.jl:500\n",
      "┌ Warning: Extremely small standard deviation encountered in standardization.\n",
      "└ @ MLJModels /home/john/.julia/packages/MLJModels/GKDnU/src/builtins/Transformers.jl:500\n",
      "┌ Warning: Extremely small standard deviation encountered in standardization.\n",
      "└ @ MLJModels /home/john/.julia/packages/MLJModels/GKDnU/src/builtins/Transformers.jl:500\n",
      "┌ Warning: Extremely small standard deviation encountered in standardization.\n",
      "└ @ MLJModels /home/john/.julia/packages/MLJModels/GKDnU/src/builtins/Transformers.jl:500\n",
      "┌ Warning: Extremely small standard deviation encountered in standardization.\n",
      "└ @ MLJModels /home/john/.julia/packages/MLJModels/GKDnU/src/builtins/Transformers.jl:500\n",
      "┌ Warning: Extremely small standard deviation encountered in standardization.\n",
      "└ @ MLJModels /home/john/.julia/packages/MLJModels/GKDnU/src/builtins/Transformers.jl:500\n",
      "┌ Warning: Extremely small standard deviation encountered in standardization.\n",
      "└ @ MLJModels /home/john/.julia/packages/MLJModels/GKDnU/src/builtins/Transformers.jl:500\n",
      "┌ Warning: Extremely small standard deviation encountered in standardization.\n",
      "└ @ MLJModels /home/john/.julia/packages/MLJModels/GKDnU/src/builtins/Transformers.jl:500\n",
      "┌ Warning: Extremely small standard deviation encountered in standardization.\n",
      "└ @ MLJModels /home/john/.julia/packages/MLJModels/GKDnU/src/builtins/Transformers.jl:500\n",
      "┌ Warning: Extremely small standard deviation encountered in standardization.\n",
      "└ @ MLJModels /home/john/.julia/packages/MLJModels/GKDnU/src/builtins/Transformers.jl:500\n",
      "┌ Warning: Extremely small standard deviation encountered in standardization.\n",
      "└ @ MLJModels /home/john/.julia/packages/MLJModels/GKDnU/src/builtins/Transformers.jl:500\n",
      "┌ Warning: Extremely small standard deviation encountered in standardization.\n",
      "└ @ MLJModels /home/john/.julia/packages/MLJModels/GKDnU/src/builtins/Transformers.jl:500\n",
      "┌ Warning: Extremely small standard deviation encountered in standardization.\n",
      "└ @ MLJModels /home/john/.julia/packages/MLJModels/GKDnU/src/builtins/Transformers.jl:500\n",
      "┌ Warning: Extremely small standard deviation encountered in standardization.\n",
      "└ @ MLJModels /home/john/.julia/packages/MLJModels/GKDnU/src/builtins/Transformers.jl:500\n",
      "┌ Warning: Extremely small standard deviation encountered in standardization.\n",
      "└ @ MLJModels /home/john/.julia/packages/MLJModels/GKDnU/src/builtins/Transformers.jl:500\n",
      "┌ Warning: Extremely small standard deviation encountered in standardization.\n",
      "└ @ MLJModels /home/john/.julia/packages/MLJModels/GKDnU/src/builtins/Transformers.jl:500\n",
      "┌ Warning: Extremely small standard deviation encountered in standardization.\n",
      "└ @ MLJModels /home/john/.julia/packages/MLJModels/GKDnU/src/builtins/Transformers.jl:500\n",
      "┌ Warning: Extremely small standard deviation encountered in standardization.\n",
      "└ @ MLJModels /home/john/.julia/packages/MLJModels/GKDnU/src/builtins/Transformers.jl:500\n",
      "┌ Warning: Extremely small standard deviation encountered in standardization.\n",
      "└ @ MLJModels /home/john/.julia/packages/MLJModels/GKDnU/src/builtins/Transformers.jl:500\n",
      "┌ Warning: Extremely small standard deviation encountered in standardization.\n",
      "└ @ MLJModels /home/john/.julia/packages/MLJModels/GKDnU/src/builtins/Transformers.jl:500\n",
      "┌ Warning: Extremely small standard deviation encountered in standardization.\n",
      "└ @ MLJModels /home/john/.julia/packages/MLJModels/GKDnU/src/builtins/Transformers.jl:500\n",
      "┌ Warning: Extremely small standard deviation encountered in standardization.\n",
      "└ @ MLJModels /home/john/.julia/packages/MLJModels/GKDnU/src/builtins/Transformers.jl:500\n",
      "┌ Warning: Extremely small standard deviation encountered in standardization.\n",
      "└ @ MLJModels /home/john/.julia/packages/MLJModels/GKDnU/src/builtins/Transformers.jl:500\n",
      "┌ Warning: Extremely small standard deviation encountered in standardization.\n",
      "└ @ MLJModels /home/john/.julia/packages/MLJModels/GKDnU/src/builtins/Transformers.jl:500\n",
      "┌ Warning: Extremely small standard deviation encountered in standardization.\n",
      "└ @ MLJModels /home/john/.julia/packages/MLJModels/GKDnU/src/builtins/Transformers.jl:500\n",
      "┌ Warning: Extremely small standard deviation encountered in standardization.\n",
      "└ @ MLJModels /home/john/.julia/packages/MLJModels/GKDnU/src/builtins/Transformers.jl:500\n",
      "┌ Warning: Extremely small standard deviation encountered in standardization.\n",
      "└ @ MLJModels /home/john/.julia/packages/MLJModels/GKDnU/src/builtins/Transformers.jl:500\n",
      "┌ Warning: Extremely small standard deviation encountered in standardization.\n",
      "└ @ MLJModels /home/john/.julia/packages/MLJModels/GKDnU/src/builtins/Transformers.jl:500\n",
      "┌ Warning: Extremely small standard deviation encountered in standardization.\n",
      "└ @ MLJModels /home/john/.julia/packages/MLJModels/GKDnU/src/builtins/Transformers.jl:500\n",
      "┌ Warning: Extremely small standard deviation encountered in standardization.\n",
      "└ @ MLJModels /home/john/.julia/packages/MLJModels/GKDnU/src/builtins/Transformers.jl:500\n",
      "┌ Warning: Extremely small standard deviation encountered in standardization.\n",
      "└ @ MLJModels /home/john/.julia/packages/MLJModels/GKDnU/src/builtins/Transformers.jl:500\n",
      "┌ Warning: Extremely small standard deviation encountered in standardization.\n",
      "└ @ MLJModels /home/john/.julia/packages/MLJModels/GKDnU/src/builtins/Transformers.jl:500\n",
      "┌ Warning: Extremely small standard deviation encountered in standardization.\n",
      "└ @ MLJModels /home/john/.julia/packages/MLJModels/GKDnU/src/builtins/Transformers.jl:500\n",
      "┌ Warning: Extremely small standard deviation encountered in standardization.\n",
      "└ @ MLJModels /home/john/.julia/packages/MLJModels/GKDnU/src/builtins/Transformers.jl:500\n",
      "┌ Warning: Extremely small standard deviation encountered in standardization.\n",
      "└ @ MLJModels /home/john/.julia/packages/MLJModels/GKDnU/src/builtins/Transformers.jl:500\n",
      "┌ Warning: Extremely small standard deviation encountered in standardization.\n",
      "└ @ MLJModels /home/john/.julia/packages/MLJModels/GKDnU/src/builtins/Transformers.jl:500\n",
      "┌ Warning: Extremely small standard deviation encountered in standardization.\n",
      "└ @ MLJModels /home/john/.julia/packages/MLJModels/GKDnU/src/builtins/Transformers.jl:500\n",
      "┌ Warning: Extremely small standard deviation encountered in standardization.\n",
      "└ @ MLJModels /home/john/.julia/packages/MLJModels/GKDnU/src/builtins/Transformers.jl:500\n",
      "┌ Warning: Extremely small standard deviation encountered in standardization.\n",
      "└ @ MLJModels /home/john/.julia/packages/MLJModels/GKDnU/src/builtins/Transformers.jl:500\n",
      "┌ Warning: Extremely small standard deviation encountered in standardization.\n",
      "└ @ MLJModels /home/john/.julia/packages/MLJModels/GKDnU/src/builtins/Transformers.jl:500\n",
      "┌ Warning: Extremely small standard deviation encountered in standardization.\n",
      "└ @ MLJModels /home/john/.julia/packages/MLJModels/GKDnU/src/builtins/Transformers.jl:500\n",
      "┌ Warning: Extremely small standard deviation encountered in standardization.\n",
      "└ @ MLJModels /home/john/.julia/packages/MLJModels/GKDnU/src/builtins/Transformers.jl:500\n",
      "┌ Warning: Extremely small standard deviation encountered in standardization.\n",
      "└ @ MLJModels /home/john/.julia/packages/MLJModels/GKDnU/src/builtins/Transformers.jl:500\n",
      "┌ Warning: Extremely small standard deviation encountered in standardization.\n",
      "└ @ MLJModels /home/john/.julia/packages/MLJModels/GKDnU/src/builtins/Transformers.jl:500\n",
      "┌ Warning: Extremely small standard deviation encountered in standardization.\n",
      "└ @ MLJModels /home/john/.julia/packages/MLJModels/GKDnU/src/builtins/Transformers.jl:500\n",
      "┌ Warning: Extremely small standard deviation encountered in standardization.\n",
      "└ @ MLJModels /home/john/.julia/packages/MLJModels/GKDnU/src/builtins/Transformers.jl:500\n",
      "┌ Warning: Extremely small standard deviation encountered in standardization.\n",
      "└ @ MLJModels /home/john/.julia/packages/MLJModels/GKDnU/src/builtins/Transformers.jl:500\n",
      "┌ Warning: Extremely small standard deviation encountered in standardization.\n",
      "└ @ MLJModels /home/john/.julia/packages/MLJModels/GKDnU/src/builtins/Transformers.jl:500\n"
     ]
    },
    {
     "name": "stderr",
     "output_type": "stream",
     "text": [
      "┌ Warning: Extremely small standard deviation encountered in standardization.\n",
      "└ @ MLJModels /home/john/.julia/packages/MLJModels/GKDnU/src/builtins/Transformers.jl:500\n",
      "┌ Warning: Extremely small standard deviation encountered in standardization.\n",
      "└ @ MLJModels /home/john/.julia/packages/MLJModels/GKDnU/src/builtins/Transformers.jl:500\n",
      "┌ Warning: Extremely small standard deviation encountered in standardization.\n",
      "└ @ MLJModels /home/john/.julia/packages/MLJModels/GKDnU/src/builtins/Transformers.jl:500\n",
      "┌ Warning: Extremely small standard deviation encountered in standardization.\n",
      "└ @ MLJModels /home/john/.julia/packages/MLJModels/GKDnU/src/builtins/Transformers.jl:500\n",
      "┌ Warning: Extremely small standard deviation encountered in standardization.\n",
      "└ @ MLJModels /home/john/.julia/packages/MLJModels/GKDnU/src/builtins/Transformers.jl:500\n",
      "┌ Warning: Extremely small standard deviation encountered in standardization.\n",
      "└ @ MLJModels /home/john/.julia/packages/MLJModels/GKDnU/src/builtins/Transformers.jl:500\n",
      "┌ Warning: Extremely small standard deviation encountered in standardization.\n",
      "└ @ MLJModels /home/john/.julia/packages/MLJModels/GKDnU/src/builtins/Transformers.jl:500\n",
      "┌ Warning: Extremely small standard deviation encountered in standardization.\n",
      "└ @ MLJModels /home/john/.julia/packages/MLJModels/GKDnU/src/builtins/Transformers.jl:500\n",
      "┌ Warning: Extremely small standard deviation encountered in standardization.\n",
      "└ @ MLJModels /home/john/.julia/packages/MLJModels/GKDnU/src/builtins/Transformers.jl:500\n",
      "┌ Warning: Extremely small standard deviation encountered in standardization.\n",
      "└ @ MLJModels /home/john/.julia/packages/MLJModels/GKDnU/src/builtins/Transformers.jl:500\n",
      "┌ Warning: Extremely small standard deviation encountered in standardization.\n",
      "└ @ MLJModels /home/john/.julia/packages/MLJModels/GKDnU/src/builtins/Transformers.jl:500\n",
      "┌ Warning: Extremely small standard deviation encountered in standardization.\n",
      "└ @ MLJModels /home/john/.julia/packages/MLJModels/GKDnU/src/builtins/Transformers.jl:500\n",
      "┌ Warning: Extremely small standard deviation encountered in standardization.\n",
      "└ @ MLJModels /home/john/.julia/packages/MLJModels/GKDnU/src/builtins/Transformers.jl:500\n",
      "┌ Warning: Extremely small standard deviation encountered in standardization.\n",
      "└ @ MLJModels /home/john/.julia/packages/MLJModels/GKDnU/src/builtins/Transformers.jl:500\n",
      "┌ Warning: Extremely small standard deviation encountered in standardization.\n",
      "└ @ MLJModels /home/john/.julia/packages/MLJModels/GKDnU/src/builtins/Transformers.jl:500\n",
      "┌ Warning: Extremely small standard deviation encountered in standardization.\n",
      "└ @ MLJModels /home/john/.julia/packages/MLJModels/GKDnU/src/builtins/Transformers.jl:500\n",
      "┌ Warning: Extremely small standard deviation encountered in standardization.\n",
      "└ @ MLJModels /home/john/.julia/packages/MLJModels/GKDnU/src/builtins/Transformers.jl:500\n",
      "┌ Warning: Extremely small standard deviation encountered in standardization.\n",
      "└ @ MLJModels /home/john/.julia/packages/MLJModels/GKDnU/src/builtins/Transformers.jl:500\n",
      "┌ Warning: Extremely small standard deviation encountered in standardization.\n",
      "└ @ MLJModels /home/john/.julia/packages/MLJModels/GKDnU/src/builtins/Transformers.jl:500\n",
      "┌ Warning: Extremely small standard deviation encountered in standardization.\n",
      "└ @ MLJModels /home/john/.julia/packages/MLJModels/GKDnU/src/builtins/Transformers.jl:500\n",
      "┌ Warning: Extremely small standard deviation encountered in standardization.\n",
      "└ @ MLJModels /home/john/.julia/packages/MLJModels/GKDnU/src/builtins/Transformers.jl:500\n",
      "┌ Warning: Extremely small standard deviation encountered in standardization.\n",
      "└ @ MLJModels /home/john/.julia/packages/MLJModels/GKDnU/src/builtins/Transformers.jl:500\n",
      "┌ Warning: Extremely small standard deviation encountered in standardization.\n",
      "└ @ MLJModels /home/john/.julia/packages/MLJModels/GKDnU/src/builtins/Transformers.jl:500\n",
      "┌ Warning: Extremely small standard deviation encountered in standardization.\n",
      "└ @ MLJModels /home/john/.julia/packages/MLJModels/GKDnU/src/builtins/Transformers.jl:500\n",
      "┌ Warning: Extremely small standard deviation encountered in standardization.\n",
      "└ @ MLJModels /home/john/.julia/packages/MLJModels/GKDnU/src/builtins/Transformers.jl:500\n",
      "┌ Warning: Extremely small standard deviation encountered in standardization.\n",
      "└ @ MLJModels /home/john/.julia/packages/MLJModels/GKDnU/src/builtins/Transformers.jl:500\n",
      "┌ Warning: Extremely small standard deviation encountered in standardization.\n",
      "└ @ MLJModels /home/john/.julia/packages/MLJModels/GKDnU/src/builtins/Transformers.jl:500\n",
      "┌ Warning: Extremely small standard deviation encountered in standardization.\n",
      "└ @ MLJModels /home/john/.julia/packages/MLJModels/GKDnU/src/builtins/Transformers.jl:500\n",
      "┌ Warning: Extremely small standard deviation encountered in standardization.\n",
      "└ @ MLJModels /home/john/.julia/packages/MLJModels/GKDnU/src/builtins/Transformers.jl:500\n",
      "┌ Warning: Extremely small standard deviation encountered in standardization.\n",
      "└ @ MLJModels /home/john/.julia/packages/MLJModels/GKDnU/src/builtins/Transformers.jl:500\n",
      "┌ Warning: Extremely small standard deviation encountered in standardization.\n",
      "└ @ MLJModels /home/john/.julia/packages/MLJModels/GKDnU/src/builtins/Transformers.jl:500\n",
      "\u001b[33mEvaluating over 3 folds: 100%[=========================] Time: 0:00:03\u001b[39m\n"
     ]
    },
    {
     "data": {
      "text/plain": [
       "PerformanceEvaluation object with these fields:\n",
       "  measure, measurement, operation, per_fold,\n",
       "  per_observation, fitted_params_per_fold,\n",
       "  report_per_fold, train_test_pairs\n",
       "Extract:\n",
       "┌────────────────────────────┬─────────────┬───────────┬─────────────────────┐\n",
       "│\u001b[22m measure                    \u001b[0m│\u001b[22m measurement \u001b[0m│\u001b[22m operation \u001b[0m│\u001b[22m per_fold            \u001b[0m│\n",
       "├────────────────────────────┼─────────────┼───────────┼─────────────────────┤\n",
       "│ LogLoss(tol = 2.22045e-16) │ 0.741       │ predict   │ [NaN, 0.756, 0.727] │\n",
       "└────────────────────────────┴─────────────┴───────────┴─────────────────────┘\n"
      ]
     },
     "execution_count": 19,
     "metadata": {},
     "output_type": "execute_result"
    }
   ],
   "source": [
    "tuned_err = evaluate!(tuned_mach, resampling=CV(nfolds=3), measure=cross_entropy)"
   ]
  },
  {
   "cell_type": "code",
   "execution_count": null,
   "metadata": {},
   "outputs": [],
   "source": []
  }
 ],
 "metadata": {
  "kernelspec": {
   "display_name": "Julia 1.7.0",
   "language": "julia",
   "name": "julia-1.7"
  },
  "language_info": {
   "file_extension": ".jl",
   "mimetype": "application/julia",
   "name": "julia",
   "version": "1.7.0"
  }
 },
 "nbformat": 4,
 "nbformat_minor": 2
}
