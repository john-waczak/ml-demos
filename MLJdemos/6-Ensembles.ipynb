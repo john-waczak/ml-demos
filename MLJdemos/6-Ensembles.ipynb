{
 "cells": [
  {
   "cell_type": "markdown",
   "metadata": {},
   "source": [
    "based on the tutorial found [here](https://juliaai.github.io/DataScienceTutorials.jl/getting-started/ensembles/)"
   ]
  },
  {
   "cell_type": "code",
   "execution_count": 1,
   "metadata": {},
   "outputs": [
    {
     "name": "stderr",
     "output_type": "stream",
     "text": [
      "\u001b[32m\u001b[1m    Updating\u001b[22m\u001b[39m registry at `~/.julia/registries/General.toml`\n",
      "\u001b[32m\u001b[1m   Resolving\u001b[22m\u001b[39m package versions...\n",
      "\u001b[32m\u001b[1m  No Changes\u001b[22m\u001b[39m to `~/gitRepos/ml-demos/Project.toml`\n",
      "\u001b[32m\u001b[1m  No Changes\u001b[22m\u001b[39m to `~/gitRepos/ml-demos/Manifest.toml`\n",
      "\u001b[32m\u001b[1m   Resolving\u001b[22m\u001b[39m package versions...\n",
      "\u001b[32m\u001b[1m  No Changes\u001b[22m\u001b[39m to `~/gitRepos/ml-demos/Project.toml`\n",
      "\u001b[32m\u001b[1m  No Changes\u001b[22m\u001b[39m to `~/gitRepos/ml-demos/Manifest.toml`\n"
     ]
    }
   ],
   "source": [
    "using Pkg\n",
    "Pkg.add(\"PrettyPrinting\")\n",
    "Pkg.add(\"StableRNGs\")"
   ]
  },
  {
   "cell_type": "code",
   "execution_count": 2,
   "metadata": {},
   "outputs": [],
   "source": [
    "using MLJ \n",
    "import DataFrames: DataFrame \n",
    "using PrettyPrinting \n",
    "using StableRNGs"
   ]
  },
  {
   "cell_type": "markdown",
   "metadata": {},
   "source": [
    "generate some dummy data"
   ]
  },
  {
   "cell_type": "code",
   "execution_count": 3,
   "metadata": {},
   "outputs": [
    {
     "data": {
      "text/html": [
       "<div class=\"data-frame\"><p>300 rows × 3 columns</p><table class=\"data-frame\"><thead><tr><th></th><th>x1</th><th>x2</th><th>x3</th></tr><tr><th></th><th title=\"Float64\">Float64</th><th title=\"Float64\">Float64</th><th title=\"Float64\">Float64</th></tr></thead><tbody><tr><th>1</th><td>0.580515</td><td>0.942777</td><td>0.100383</td></tr><tr><th>2</th><td>0.191241</td><td>0.427903</td><td>0.154318</td></tr><tr><th>3</th><td>0.971133</td><td>0.951418</td><td>0.528234</td></tr><tr><th>4</th><td>0.74345</td><td>0.920585</td><td>0.163011</td></tr><tr><th>5</th><td>0.170969</td><td>0.458709</td><td>0.969228</td></tr><tr><th>6</th><td>0.704776</td><td>0.898161</td><td>0.287235</td></tr><tr><th>7</th><td>0.441044</td><td>0.336018</td><td>0.324758</td></tr><tr><th>8</th><td>0.803972</td><td>0.719866</td><td>0.210357</td></tr><tr><th>9</th><td>0.772384</td><td>0.1361</td><td>0.481626</td></tr><tr><th>10</th><td>0.70882</td><td>0.103329</td><td>0.778484</td></tr><tr><th>11</th><td>0.739328</td><td>0.115423</td><td>0.686936</td></tr><tr><th>12</th><td>0.627342</td><td>0.385166</td><td>0.948333</td></tr><tr><th>13</th><td>0.637584</td><td>0.266995</td><td>0.268943</td></tr><tr><th>14</th><td>0.110359</td><td>0.632843</td><td>0.75824</td></tr><tr><th>15</th><td>0.598514</td><td>0.457137</td><td>0.446206</td></tr><tr><th>16</th><td>0.322111</td><td>0.482031</td><td>0.140217</td></tr><tr><th>17</th><td>0.162285</td><td>0.103723</td><td>0.0549459</td></tr><tr><th>18</th><td>0.643369</td><td>0.432809</td><td>0.714966</td></tr><tr><th>19</th><td>0.646323</td><td>0.654406</td><td>0.86191</td></tr><tr><th>20</th><td>0.253105</td><td>0.484181</td><td>0.666431</td></tr><tr><th>21</th><td>0.991447</td><td>0.408128</td><td>0.639528</td></tr><tr><th>22</th><td>0.796875</td><td>0.760137</td><td>0.29129</td></tr><tr><th>23</th><td>0.802805</td><td>0.202621</td><td>0.514316</td></tr><tr><th>24</th><td>0.546654</td><td>0.056578</td><td>0.546542</td></tr><tr><th>25</th><td>0.357205</td><td>0.162578</td><td>0.365244</td></tr><tr><th>26</th><td>0.880027</td><td>0.278237</td><td>0.999612</td></tr><tr><th>27</th><td>0.793089</td><td>0.245011</td><td>0.692723</td></tr><tr><th>28</th><td>0.911336</td><td>0.613958</td><td>0.499644</td></tr><tr><th>29</th><td>0.998755</td><td>0.815567</td><td>0.938544</td></tr><tr><th>30</th><td>0.053015</td><td>0.149269</td><td>0.0410168</td></tr><tr><th>&vellip;</th><td>&vellip;</td><td>&vellip;</td><td>&vellip;</td></tr></tbody></table></div>"
      ],
      "text/latex": [
       "\\begin{tabular}{r|ccc}\n",
       "\t& x1 & x2 & x3\\\\\n",
       "\t\\hline\n",
       "\t& Float64 & Float64 & Float64\\\\\n",
       "\t\\hline\n",
       "\t1 & 0.580515 & 0.942777 & 0.100383 \\\\\n",
       "\t2 & 0.191241 & 0.427903 & 0.154318 \\\\\n",
       "\t3 & 0.971133 & 0.951418 & 0.528234 \\\\\n",
       "\t4 & 0.74345 & 0.920585 & 0.163011 \\\\\n",
       "\t5 & 0.170969 & 0.458709 & 0.969228 \\\\\n",
       "\t6 & 0.704776 & 0.898161 & 0.287235 \\\\\n",
       "\t7 & 0.441044 & 0.336018 & 0.324758 \\\\\n",
       "\t8 & 0.803972 & 0.719866 & 0.210357 \\\\\n",
       "\t9 & 0.772384 & 0.1361 & 0.481626 \\\\\n",
       "\t10 & 0.70882 & 0.103329 & 0.778484 \\\\\n",
       "\t11 & 0.739328 & 0.115423 & 0.686936 \\\\\n",
       "\t12 & 0.627342 & 0.385166 & 0.948333 \\\\\n",
       "\t13 & 0.637584 & 0.266995 & 0.268943 \\\\\n",
       "\t14 & 0.110359 & 0.632843 & 0.75824 \\\\\n",
       "\t15 & 0.598514 & 0.457137 & 0.446206 \\\\\n",
       "\t16 & 0.322111 & 0.482031 & 0.140217 \\\\\n",
       "\t17 & 0.162285 & 0.103723 & 0.0549459 \\\\\n",
       "\t18 & 0.643369 & 0.432809 & 0.714966 \\\\\n",
       "\t19 & 0.646323 & 0.654406 & 0.86191 \\\\\n",
       "\t20 & 0.253105 & 0.484181 & 0.666431 \\\\\n",
       "\t21 & 0.991447 & 0.408128 & 0.639528 \\\\\n",
       "\t22 & 0.796875 & 0.760137 & 0.29129 \\\\\n",
       "\t23 & 0.802805 & 0.202621 & 0.514316 \\\\\n",
       "\t24 & 0.546654 & 0.056578 & 0.546542 \\\\\n",
       "\t25 & 0.357205 & 0.162578 & 0.365244 \\\\\n",
       "\t26 & 0.880027 & 0.278237 & 0.999612 \\\\\n",
       "\t27 & 0.793089 & 0.245011 & 0.692723 \\\\\n",
       "\t28 & 0.911336 & 0.613958 & 0.499644 \\\\\n",
       "\t29 & 0.998755 & 0.815567 & 0.938544 \\\\\n",
       "\t30 & 0.053015 & 0.149269 & 0.0410168 \\\\\n",
       "\t$\\dots$ & $\\dots$ & $\\dots$ & $\\dots$ \\\\\n",
       "\\end{tabular}\n"
      ],
      "text/plain": [
       "\u001b[1m300×3 DataFrame\u001b[0m\n",
       "\u001b[1m Row \u001b[0m│\u001b[1m x1        \u001b[0m\u001b[1m x2        \u001b[0m\u001b[1m x3        \u001b[0m\n",
       "\u001b[1m     \u001b[0m│\u001b[90m Float64   \u001b[0m\u001b[90m Float64   \u001b[0m\u001b[90m Float64   \u001b[0m\n",
       "─────┼─────────────────────────────────\n",
       "   1 │ 0.580515   0.942777   0.100383\n",
       "   2 │ 0.191241   0.427903   0.154318\n",
       "   3 │ 0.971133   0.951418   0.528234\n",
       "   4 │ 0.74345    0.920585   0.163011\n",
       "   5 │ 0.170969   0.458709   0.969228\n",
       "   6 │ 0.704776   0.898161   0.287235\n",
       "   7 │ 0.441044   0.336018   0.324758\n",
       "   8 │ 0.803972   0.719866   0.210357\n",
       "   9 │ 0.772384   0.1361     0.481626\n",
       "  10 │ 0.70882    0.103329   0.778484\n",
       "  11 │ 0.739328   0.115423   0.686936\n",
       "  ⋮  │     ⋮          ⋮          ⋮\n",
       " 291 │ 0.0201595  0.0081945  0.944232\n",
       " 292 │ 0.69772    0.874212   0.460944\n",
       " 293 │ 0.67978    0.293333   0.747388\n",
       " 294 │ 0.747168   0.78189    0.252866\n",
       " 295 │ 0.56267    0.0118686  0.810876\n",
       " 296 │ 0.264571   0.470581   0.580271\n",
       " 297 │ 0.922951   0.420309   0.07515\n",
       " 298 │ 0.79496    0.243131   0.909624\n",
       " 299 │ 0.485246   0.310905   0.0642778\n",
       " 300 │ 0.791284   0.280866   0.0956142\n",
       "\u001b[36m                       279 rows omitted\u001b[0m"
      ]
     },
     "execution_count": 3,
     "metadata": {},
     "output_type": "execute_result"
    }
   ],
   "source": [
    "rng = StableRNG(42)\n",
    "Xraw = rand(rng, 300, 3) \n",
    "y = exp.(Xraw[:1] .- Xraw[:, 2] .- 2Xraw[:,3] .+ 0.1*rand(rng,300))\n",
    "X = DataFrame(Xraw, :auto)  # automatically generate column names"
   ]
  },
  {
   "cell_type": "code",
   "execution_count": 4,
   "metadata": {},
   "outputs": [
    {
     "name": "stderr",
     "output_type": "stream",
     "text": [
      "\u001b[32m\u001b[1m   Resolving\u001b[22m\u001b[39m package versions...\n",
      "\u001b[32m\u001b[1m  No Changes\u001b[22m\u001b[39m to `~/gitRepos/ml-demos/Project.toml`\n",
      "\u001b[32m\u001b[1m  No Changes\u001b[22m\u001b[39m to `~/gitRepos/ml-demos/Manifest.toml`\n"
     ]
    }
   ],
   "source": [
    "Pkg.add(\"NearestNeighborModels\")"
   ]
  },
  {
   "cell_type": "code",
   "execution_count": 5,
   "metadata": {},
   "outputs": [
    {
     "name": "stdout",
     "output_type": "stream",
     "text": [
      "import NearestNeighborModels ✔\n"
     ]
    },
    {
     "name": "stderr",
     "output_type": "stream",
     "text": [
      "┌ Info: For silent loading, specify `verbosity=0`. \n",
      "└ @ Main /home/john/.julia/packages/MLJModels/GKDnU/src/loading.jl:168\n"
     ]
    },
    {
     "data": {
      "text/plain": [
       "NearestNeighborModels.KNNRegressor"
      ]
     },
     "execution_count": 5,
     "metadata": {},
     "output_type": "execute_result"
    }
   ],
   "source": [
    "KNNRegressor = @load KNNRegressor"
   ]
  },
  {
   "cell_type": "code",
   "execution_count": 6,
   "metadata": {},
   "outputs": [
    {
     "data": {
      "text/plain": [
       "KNNRegressor(\n",
       "    K = 10,\n",
       "    algorithm = :kdtree,\n",
       "    metric = Distances.Euclidean(0.0),\n",
       "    leafsize = 10,\n",
       "    reorder = true,\n",
       "    weights = NearestNeighborModels.Uniform())"
      ]
     },
     "execution_count": 6,
     "metadata": {},
     "output_type": "execute_result"
    }
   ],
   "source": [
    "knn_model = KNNRegressor(K=10)"
   ]
  },
  {
   "cell_type": "markdown",
   "metadata": {},
   "source": [
    "make a machine to wrap the data around the model "
   ]
  },
  {
   "cell_type": "code",
   "execution_count": 7,
   "metadata": {},
   "outputs": [
    {
     "data": {
      "text/plain": [
       "Machine{KNNRegressor,…} trained 0 times; caches data\n",
       "  args: \n",
       "    1:\tSource @162 ⏎ `Table{AbstractVector{Continuous}}`\n",
       "    2:\tSource @439 ⏎ `AbstractVector{Continuous}`\n"
      ]
     },
     "execution_count": 7,
     "metadata": {},
     "output_type": "execute_result"
    }
   ],
   "source": [
    "knn = machine(knn_model, X, y)"
   ]
  },
  {
   "cell_type": "markdown",
   "metadata": {},
   "source": [
    "fit the model! "
   ]
  },
  {
   "cell_type": "code",
   "execution_count": 8,
   "metadata": {},
   "outputs": [
    {
     "name": "stderr",
     "output_type": "stream",
     "text": [
      "┌ Info: Training Machine{KNNRegressor,…}.\n",
      "└ @ MLJBase /home/john/.julia/packages/MLJBase/QXObv/src/machines.jl:403\n"
     ]
    },
    {
     "data": {
      "text/plain": [
       "0.08599648724198461"
      ]
     },
     "execution_count": 8,
     "metadata": {},
     "output_type": "execute_result"
    }
   ],
   "source": [
    "train, test = partition(eachindex(y), 0.7);\n",
    "\n",
    "fit!(knn, rows=train)\n",
    "ŷ = predict(knn, X[test, :])\n",
    "rms(ŷ, y[test])"
   ]
  },
  {
   "cell_type": "markdown",
   "metadata": {},
   "source": [
    "note: The few steps above are equivalent to just calling evaluate!"
   ]
  },
  {
   "cell_type": "code",
   "execution_count": 9,
   "metadata": {},
   "outputs": [
    {
     "data": {
      "text/plain": [
       "PerformanceEvaluation object with these fields:\n",
       "  measure, measurement, operation, per_fold,\n",
       "  per_observation, fitted_params_per_fold,\n",
       "  report_per_fold, train_test_pairs\n",
       "Extract:\n",
       "┌────────────────────────┬─────────────┬───────────┬──────────┐\n",
       "│\u001b[22m measure                \u001b[0m│\u001b[22m measurement \u001b[0m│\u001b[22m operation \u001b[0m│\u001b[22m per_fold \u001b[0m│\n",
       "├────────────────────────┼─────────────┼───────────┼──────────┤\n",
       "│ RootMeanSquaredError() │ 0.086       │ predict   │ [0.086]  │\n",
       "└────────────────────────┴─────────────┴───────────┴──────────┘\n"
      ]
     },
     "execution_count": 9,
     "metadata": {},
     "output_type": "execute_result"
    }
   ],
   "source": [
    "evaluate!(knn, resampling=Holdout(fraction_train=0.7), measure=rms)"
   ]
  },
  {
   "cell_type": "markdown",
   "metadata": {},
   "source": [
    "# Homogenous Ensembles"
   ]
  },
  {
   "cell_type": "markdown",
   "metadata": {},
   "source": [
    "There is basic support for simple ensembling strategies such as *bagging*.\n",
    "\n",
    "We define so called *atomic* models that are then collected together into an ensemble"
   ]
  },
  {
   "cell_type": "code",
   "execution_count": 10,
   "metadata": {},
   "outputs": [],
   "source": [
    "ensemble_model = EnsembleModel(atom=knn_model, n=20); # i.e. we have 20 atoms"
   ]
  },
  {
   "cell_type": "code",
   "execution_count": 11,
   "metadata": {},
   "outputs": [
    {
     "name": "stderr",
     "output_type": "stream",
     "text": [
      "\u001b[33mEvaluating over 6 folds: 100%[=========================] Time: 0:00:01\u001b[39m\n"
     ]
    },
    {
     "data": {
      "text/plain": [
       "PerformanceEvaluation object with these fields:\n",
       "  measure, measurement, operation, per_fold,\n",
       "  per_observation, fitted_params_per_fold,\n",
       "  report_per_fold, train_test_pairs\n",
       "Extract:\n",
       "┌────────────────────────┬─────────────┬───────────┬────────────────────────────\n",
       "│\u001b[22m measure                \u001b[0m│\u001b[22m measurement \u001b[0m│\u001b[22m operation \u001b[0m│\u001b[22m per_fold                 \u001b[0m ⋯\n",
       "├────────────────────────┼─────────────┼───────────┼────────────────────────────\n",
       "│ RootMeanSquaredError() │ 0.0811      │ predict   │ [0.0821, 0.0869, 0.0639,  ⋯\n",
       "└────────────────────────┴─────────────┴───────────┴────────────────────────────\n",
       "\u001b[36m                                                                1 column omitted\u001b[0m\n"
      ]
     },
     "execution_count": 11,
     "metadata": {},
     "output_type": "execute_result"
    }
   ],
   "source": [
    "ensemble = machine(ensemble_model, X, y)\n",
    "estimates = evaluate!(ensemble, resampling=CV())\n",
    "\n",
    "estimates"
   ]
  },
  {
   "cell_type": "markdown",
   "metadata": {},
   "source": [
    "# Systematic Tuning"
   ]
  },
  {
   "cell_type": "markdown",
   "metadata": {},
   "source": [
    "Let's tune the ensemble's `bagging_fraction` and the K-Nearest neighbor hyperparameter `K`. **Note**: we have nested hyperparameters"
   ]
  },
  {
   "cell_type": "code",
   "execution_count": 12,
   "metadata": {},
   "outputs": [
    {
     "name": "stdout",
     "output_type": "stream",
     "text": [
      "(atom = (K = 10,\n",
      "         algorithm = :kdtree,\n",
      "         metric = Distances.Euclidean(0.0),\n",
      "         leafsize = 10,\n",
      "         reorder = true,\n",
      "         weights = NearestNeighborModels.Uniform()),\n",
      " atomic_weights = [],\n",
      " bagging_fraction = 0.8,\n",
      " rng = Random._GLOBAL_RNG(),\n",
      " n = 20,\n",
      " acceleration = CPU1{Nothing}(nothing),\n",
      " out_of_bag_measure = [])"
     ]
    }
   ],
   "source": [
    "params(ensemble_model) |> pprint"
   ]
  },
  {
   "cell_type": "markdown",
   "metadata": {},
   "source": [
    "define our tuning grid by constructing ranges for the two parameters"
   ]
  },
  {
   "cell_type": "code",
   "execution_count": 13,
   "metadata": {},
   "outputs": [
    {
     "data": {
      "text/plain": [
       "NumericRange(1 ≤ atom.K ≤ 20; origin=10.5, unit=9.5)"
      ]
     },
     "execution_count": 13,
     "metadata": {},
     "output_type": "execute_result"
    }
   ],
   "source": [
    "# bagging_fraction is how much of the dataset each atom sees\n",
    "# K is the number of clusters we will use for predicting\n",
    "\n",
    "B_range = range(ensemble_model, :bagging_fraction, lower=0.5, upper=1.0)\n",
    "K_range = range(ensemble_model, :(atom.K), lower=1, upper=20)"
   ]
  },
  {
   "cell_type": "markdown",
   "metadata": {},
   "source": [
    "define a `TunedModel` and fit it"
   ]
  },
  {
   "cell_type": "code",
   "execution_count": 14,
   "metadata": {},
   "outputs": [
    {
     "name": "stderr",
     "output_type": "stream",
     "text": [
      "┌ Info: No measure specified. Setting measure=RootMeanSquaredError(). \n",
      "└ @ MLJTuning /home/john/.julia/packages/MLJTuning/bjRHJ/src/tuned_models.jl:308\n"
     ]
    },
    {
     "data": {
      "text/plain": [
       "DeterministicTunedModel(\n",
       "    model = DeterministicEnsembleModel(\n",
       "            atom = KNNRegressor,\n",
       "            atomic_weights = Float64[],\n",
       "            bagging_fraction = 0.8,\n",
       "            rng = Random._GLOBAL_RNG(),\n",
       "            n = 20,\n",
       "            acceleration = CPU1{Nothing}(nothing),\n",
       "            out_of_bag_measure = Any[]),\n",
       "    tuning = Grid(\n",
       "            goal = nothing,\n",
       "            resolution = 10,\n",
       "            shuffle = true,\n",
       "            rng = Random._GLOBAL_RNG()),\n",
       "    resampling = Holdout(\n",
       "            fraction_train = 0.8,\n",
       "            shuffle = true,\n",
       "            rng = StableRNGs.LehmerRNG(state=0x00000000000000000000000000000055)),\n",
       "    measure = RootMeanSquaredError(),\n",
       "    weights = nothing,\n",
       "    operation = nothing,\n",
       "    range = MLJBase.NumericRange{T, MLJBase.Bounded, Symbol} where T[NumericRange(0.5 ≤ bagging_fraction ≤ 1.0; origin=0.75, unit=0.25), NumericRange(1 ≤ atom.K ≤ 20; origin=10.5, unit=9.5)],\n",
       "    selection_heuristic = MLJTuning.NaiveSelection(nothing),\n",
       "    train_best = true,\n",
       "    repeats = 1,\n",
       "    n = nothing,\n",
       "    acceleration = CPU1{Nothing}(nothing),\n",
       "    acceleration_resampling = CPU1{Nothing}(nothing),\n",
       "    check_measure = true,\n",
       "    cache = true)"
      ]
     },
     "execution_count": 14,
     "metadata": {},
     "output_type": "execute_result"
    }
   ],
   "source": [
    "tm = TunedModel(model=ensemble_model,\n",
    "    tuning = Grid(resolution=10),  # a 10x10 grid\n",
    "    resampling = Holdout(fraction_train=0.8, rng=StableRNG(42)),\n",
    "    ranges=[B_range, K_range]\n",
    ")"
   ]
  },
  {
   "cell_type": "code",
   "execution_count": 15,
   "metadata": {},
   "outputs": [
    {
     "name": "stderr",
     "output_type": "stream",
     "text": [
      "┌ Info: Training Machine{DeterministicTunedModel{Grid,…},…}.\n",
      "└ @ MLJBase /home/john/.julia/packages/MLJBase/QXObv/src/machines.jl:403\n",
      "┌ Info: Attempting to evaluate 100 models.\n",
      "└ @ MLJTuning /home/john/.julia/packages/MLJTuning/bjRHJ/src/tuned_models.jl:680\n",
      "\u001b[33mEvaluating over 100 metamodels: 100%[=========================] Time: 0:00:01\u001b[39m\n"
     ]
    }
   ],
   "source": [
    "tuned_ensemble = machine(tm, X, y)\n",
    "fit!(tuned_ensemble, rows=train);"
   ]
  },
  {
   "cell_type": "markdown",
   "metadata": {},
   "source": [
    "# Reporting results"
   ]
  },
  {
   "cell_type": "markdown",
   "metadata": {},
   "source": [
    "we can access the best model: "
   ]
  },
  {
   "cell_type": "code",
   "execution_count": 16,
   "metadata": {},
   "outputs": [
    {
     "name": "stdout",
     "output_type": "stream",
     "text": [
      "best_ensemble.atom.K = 3\n",
      "best_ensemble.bagging_fraction = 0.6111111111111112\n"
     ]
    },
    {
     "data": {
      "text/plain": [
       "0.6111111111111112"
      ]
     },
     "execution_count": 16,
     "metadata": {},
     "output_type": "execute_result"
    }
   ],
   "source": [
    "best_ensemble = fitted_params(tuned_ensemble).best_model\n",
    "@show best_ensemble.atom.K\n",
    "@show best_ensemble.bagging_fraction"
   ]
  },
  {
   "cell_type": "code",
   "execution_count": 17,
   "metadata": {},
   "outputs": [
    {
     "data": {
      "text/plain": [
       "(best_model = DeterministicEnsembleModel{KNNRegressor},\n",
       " best_history_entry = (model = DeterministicEnsembleModel{KNNRegressor},\n",
       "                       measure = [RootMeanSquaredError()],\n",
       "                       measurement = [0.0803853093380962],\n",
       "                       per_fold = [[0.0803853093380962]],),\n",
       " history = NamedTuple{(:model, :measure, :measurement, :per_fold), Tuple{MLJEnsembles.DeterministicEnsembleModel{NearestNeighborModels.KNNRegressor}, Vector{RootMeanSquaredError}, Vector{Float64}, Vector{Vector{Float64}}}}[(model = DeterministicEnsembleModel{KNNRegressor}, measure = [RootMeanSquaredError()], measurement = [0.11148715528493755], per_fold = [[0.11148715528493755]]), (model = DeterministicEnsembleModel{KNNRegressor}, measure = [RootMeanSquaredError()], measurement = [0.1349157342949254], per_fold = [[0.1349157342949254]]), (model = DeterministicEnsembleModel{KNNRegressor}, measure = [RootMeanSquaredError()], measurement = [0.0999223839937471], per_fold = [[0.0999223839937471]]), (model = DeterministicEnsembleModel{KNNRegressor}, measure = [RootMeanSquaredError()], measurement = [0.10837918931940628], per_fold = [[0.10837918931940628]]), (model = DeterministicEnsembleModel{KNNRegressor}, measure = [RootMeanSquaredError()], measurement = [0.10960308696270127], per_fold = [[0.10960308696270127]]), (model = DeterministicEnsembleModel{KNNRegressor}, measure = [RootMeanSquaredError()], measurement = [0.11785843233035419], per_fold = [[0.11785843233035419]]), (model = DeterministicEnsembleModel{KNNRegressor}, measure = [RootMeanSquaredError()], measurement = [0.1019129691860109], per_fold = [[0.1019129691860109]]), (model = DeterministicEnsembleModel{KNNRegressor}, measure = [RootMeanSquaredError()], measurement = [0.09157354618540568], per_fold = [[0.09157354618540568]]), (model = DeterministicEnsembleModel{KNNRegressor}, measure = [RootMeanSquaredError()], measurement = [0.11297638737224078], per_fold = [[0.11297638737224078]]), (model = DeterministicEnsembleModel{KNNRegressor}, measure = [RootMeanSquaredError()], measurement = [0.10570369316074286], per_fold = [[0.10570369316074286]])  …  (model = DeterministicEnsembleModel{KNNRegressor}, measure = [RootMeanSquaredError()], measurement = [0.11956951671471738], per_fold = [[0.11956951671471738]]), (model = DeterministicEnsembleModel{KNNRegressor}, measure = [RootMeanSquaredError()], measurement = [0.10243870459550265], per_fold = [[0.10243870459550265]]), (model = DeterministicEnsembleModel{KNNRegressor}, measure = [RootMeanSquaredError()], measurement = [0.09615955090818964], per_fold = [[0.09615955090818964]]), (model = DeterministicEnsembleModel{KNNRegressor}, measure = [RootMeanSquaredError()], measurement = [0.10842399743190248], per_fold = [[0.10842399743190248]]), (model = DeterministicEnsembleModel{KNNRegressor}, measure = [RootMeanSquaredError()], measurement = [0.11863414246086826], per_fold = [[0.11863414246086826]]), (model = DeterministicEnsembleModel{KNNRegressor}, measure = [RootMeanSquaredError()], measurement = [0.0894970830983145], per_fold = [[0.0894970830983145]]), (model = DeterministicEnsembleModel{KNNRegressor}, measure = [RootMeanSquaredError()], measurement = [0.09857493527533355], per_fold = [[0.09857493527533355]]), (model = DeterministicEnsembleModel{KNNRegressor}, measure = [RootMeanSquaredError()], measurement = [0.1211191643459355], per_fold = [[0.1211191643459355]]), (model = DeterministicEnsembleModel{KNNRegressor}, measure = [RootMeanSquaredError()], measurement = [0.10023445914458129], per_fold = [[0.10023445914458129]]), (model = DeterministicEnsembleModel{KNNRegressor}, measure = [RootMeanSquaredError()], measurement = [0.08835318770012678], per_fold = [[0.08835318770012678]])],\n",
       " best_report = (measures = Any[],\n",
       "                oob_measurements = missing,),\n",
       " plotting = (parameter_names = [\"bagging_fraction\", \"atom.K\"],\n",
       "             parameter_scales = [:linear, :linear],\n",
       "             parameter_values = Any[0.8888888888888888 18; 0.6111111111111112 20; … ; 0.6111111111111112 9; 0.5 5],\n",
       "             measurements = [0.11148715528493755, 0.1349157342949254, 0.0999223839937471, 0.10837918931940628, 0.10960308696270127, 0.11785843233035419, 0.1019129691860109, 0.09157354618540568, 0.11297638737224078, 0.10570369316074286  …  0.11956951671471738, 0.10243870459550265, 0.09615955090818964, 0.10842399743190248, 0.11863414246086826, 0.0894970830983145, 0.09857493527533355, 0.1211191643459355, 0.10023445914458129, 0.08835318770012678],),)"
      ]
     },
     "execution_count": 17,
     "metadata": {},
     "output_type": "execute_result"
    }
   ],
   "source": [
    "r = report(tuned_ensemble)"
   ]
  },
  {
   "cell_type": "code",
   "execution_count": 18,
   "metadata": {},
   "outputs": [],
   "source": [
    "using Plots"
   ]
  },
  {
   "cell_type": "code",
   "execution_count": 21,
   "metadata": {},
   "outputs": [
    {
     "name": "stdout",
     "output_type": "stream",
     "text": [
      "(100,)\n",
      "(100,)\n",
      "(100,)\n"
     ]
    }
   ],
   "source": [
    "res = r.plotting \n",
    "vals_b = res.parameter_values[:, 1] \n",
    "vals_k = res.parameter_values[:,2]\n",
    "loss = res.measurements\n",
    "\n",
    "println(size(vals_b))\n",
    "println(size(vals_k))\n",
    "println(size(loss))"
   ]
  },
  {
   "cell_type": "code",
   "execution_count": 22,
   "metadata": {},
   "outputs": [
    {
     "data": {
      "image/svg+xml": [
       "<?xml version=\"1.0\" encoding=\"utf-8\"?>\n",
       "<svg xmlns=\"http://www.w3.org/2000/svg\" xmlns:xlink=\"http://www.w3.org/1999/xlink\" width=\"600\" height=\"400\" viewBox=\"0 0 2400 1600\">\n",
       "<defs>\n",
       "  <clipPath id=\"clip230\">\n",
       "    <rect x=\"0\" y=\"0\" width=\"2400\" height=\"1600\"/>\n",
       "  </clipPath>\n",
       "</defs>\n",
       "<path clip-path=\"url(#clip230)\" d=\"\n",
       "M0 1600 L2400 1600 L2400 0 L0 0  Z\n",
       "  \" fill=\"#ffffff\" fill-rule=\"evenodd\" fill-opacity=\"1\"/>\n",
       "<defs>\n",
       "  <clipPath id=\"clip231\">\n",
       "    <rect x=\"480\" y=\"0\" width=\"1681\" height=\"1600\"/>\n",
       "  </clipPath>\n",
       "</defs>\n",
       "<path clip-path=\"url(#clip230)\" d=\"\n",
       "M140.696 1423.18 L2112.76 1423.18 L2112.76 47.2441 L140.696 47.2441  Z\n",
       "  \" fill=\"#ffffff\" fill-rule=\"evenodd\" fill-opacity=\"1\"/>\n",
       "<defs>\n",
       "  <clipPath id=\"clip232\">\n",
       "    <rect x=\"140\" y=\"47\" width=\"1973\" height=\"1377\"/>\n",
       "  </clipPath>\n",
       "</defs>\n",
       "<polyline clip-path=\"url(#clip232)\" style=\"stroke:#000000; stroke-linecap:butt; stroke-linejoin:round; stroke-width:2; stroke-opacity:0.1; fill:none\" points=\"\n",
       "  196.509,1423.18 196.509,47.2441 \n",
       "  \"/>\n",
       "<polyline clip-path=\"url(#clip232)\" style=\"stroke:#000000; stroke-linecap:butt; stroke-linejoin:round; stroke-width:2; stroke-opacity:0.1; fill:none\" points=\"\n",
       "  568.595,1423.18 568.595,47.2441 \n",
       "  \"/>\n",
       "<polyline clip-path=\"url(#clip232)\" style=\"stroke:#000000; stroke-linecap:butt; stroke-linejoin:round; stroke-width:2; stroke-opacity:0.1; fill:none\" points=\"\n",
       "  940.682,1423.18 940.682,47.2441 \n",
       "  \"/>\n",
       "<polyline clip-path=\"url(#clip232)\" style=\"stroke:#000000; stroke-linecap:butt; stroke-linejoin:round; stroke-width:2; stroke-opacity:0.1; fill:none\" points=\"\n",
       "  1312.77,1423.18 1312.77,47.2441 \n",
       "  \"/>\n",
       "<polyline clip-path=\"url(#clip232)\" style=\"stroke:#000000; stroke-linecap:butt; stroke-linejoin:round; stroke-width:2; stroke-opacity:0.1; fill:none\" points=\"\n",
       "  1684.86,1423.18 1684.86,47.2441 \n",
       "  \"/>\n",
       "<polyline clip-path=\"url(#clip232)\" style=\"stroke:#000000; stroke-linecap:butt; stroke-linejoin:round; stroke-width:2; stroke-opacity:0.1; fill:none\" points=\"\n",
       "  2056.94,1423.18 2056.94,47.2441 \n",
       "  \"/>\n",
       "<polyline clip-path=\"url(#clip230)\" style=\"stroke:#000000; stroke-linecap:butt; stroke-linejoin:round; stroke-width:4; stroke-opacity:1; fill:none\" points=\"\n",
       "  140.696,1423.18 2112.76,1423.18 \n",
       "  \"/>\n",
       "<polyline clip-path=\"url(#clip230)\" style=\"stroke:#000000; stroke-linecap:butt; stroke-linejoin:round; stroke-width:4; stroke-opacity:1; fill:none\" points=\"\n",
       "  196.509,1423.18 196.509,1404.28 \n",
       "  \"/>\n",
       "<polyline clip-path=\"url(#clip230)\" style=\"stroke:#000000; stroke-linecap:butt; stroke-linejoin:round; stroke-width:4; stroke-opacity:1; fill:none\" points=\"\n",
       "  568.595,1423.18 568.595,1404.28 \n",
       "  \"/>\n",
       "<polyline clip-path=\"url(#clip230)\" style=\"stroke:#000000; stroke-linecap:butt; stroke-linejoin:round; stroke-width:4; stroke-opacity:1; fill:none\" points=\"\n",
       "  940.682,1423.18 940.682,1404.28 \n",
       "  \"/>\n",
       "<polyline clip-path=\"url(#clip230)\" style=\"stroke:#000000; stroke-linecap:butt; stroke-linejoin:round; stroke-width:4; stroke-opacity:1; fill:none\" points=\"\n",
       "  1312.77,1423.18 1312.77,1404.28 \n",
       "  \"/>\n",
       "<polyline clip-path=\"url(#clip230)\" style=\"stroke:#000000; stroke-linecap:butt; stroke-linejoin:round; stroke-width:4; stroke-opacity:1; fill:none\" points=\"\n",
       "  1684.86,1423.18 1684.86,1404.28 \n",
       "  \"/>\n",
       "<polyline clip-path=\"url(#clip230)\" style=\"stroke:#000000; stroke-linecap:butt; stroke-linejoin:round; stroke-width:4; stroke-opacity:1; fill:none\" points=\"\n",
       "  2056.94,1423.18 2056.94,1404.28 \n",
       "  \"/>\n",
       "<path clip-path=\"url(#clip230)\" d=\"M174.391 1454.1 Q170.78 1454.1 168.951 1457.66 Q167.145 1461.2 167.145 1468.33 Q167.145 1475.44 168.951 1479.01 Q170.78 1482.55 174.391 1482.55 Q178.025 1482.55 179.83 1479.01 Q181.659 1475.44 181.659 1468.33 Q181.659 1461.2 179.83 1457.66 Q178.025 1454.1 174.391 1454.1 M174.391 1450.39 Q180.201 1450.39 183.256 1455 Q186.335 1459.58 186.335 1468.33 Q186.335 1477.06 183.256 1481.67 Q180.201 1486.25 174.391 1486.25 Q168.58 1486.25 165.502 1481.67 Q162.446 1477.06 162.446 1468.33 Q162.446 1459.58 165.502 1455 Q168.58 1450.39 174.391 1450.39 Z\" fill=\"#000000\" fill-rule=\"evenodd\" fill-opacity=\"1\" /><path clip-path=\"url(#clip230)\" d=\"M194.553 1479.7 L199.437 1479.7 L199.437 1485.58 L194.553 1485.58 L194.553 1479.7 Z\" fill=\"#000000\" fill-rule=\"evenodd\" fill-opacity=\"1\" /><path clip-path=\"url(#clip230)\" d=\"M209.668 1451.02 L228.025 1451.02 L228.025 1454.96 L213.951 1454.96 L213.951 1463.43 Q214.969 1463.08 215.988 1462.92 Q217.006 1462.73 218.025 1462.73 Q223.812 1462.73 227.191 1465.9 Q230.571 1469.08 230.571 1474.49 Q230.571 1480.07 227.099 1483.17 Q223.626 1486.25 217.307 1486.25 Q215.131 1486.25 212.863 1485.88 Q210.617 1485.51 208.21 1484.77 L208.21 1480.07 Q210.293 1481.2 212.515 1481.76 Q214.738 1482.32 217.214 1482.32 Q221.219 1482.32 223.557 1480.21 Q225.895 1478.1 225.895 1474.49 Q225.895 1470.88 223.557 1468.77 Q221.219 1466.67 217.214 1466.67 Q215.339 1466.67 213.464 1467.08 Q211.613 1467.5 209.668 1468.38 L209.668 1451.02 Z\" fill=\"#000000\" fill-rule=\"evenodd\" fill-opacity=\"1\" /><path clip-path=\"url(#clip230)\" d=\"M545.899 1454.1 Q542.288 1454.1 540.459 1457.66 Q538.653 1461.2 538.653 1468.33 Q538.653 1475.44 540.459 1479.01 Q542.288 1482.55 545.899 1482.55 Q549.533 1482.55 551.339 1479.01 Q553.167 1475.44 553.167 1468.33 Q553.167 1461.2 551.339 1457.66 Q549.533 1454.1 545.899 1454.1 M545.899 1450.39 Q551.709 1450.39 554.764 1455 Q557.843 1459.58 557.843 1468.33 Q557.843 1477.06 554.764 1481.67 Q551.709 1486.25 545.899 1486.25 Q540.089 1486.25 537.01 1481.67 Q533.954 1477.06 533.954 1468.33 Q533.954 1459.58 537.01 1455 Q540.089 1450.39 545.899 1450.39 Z\" fill=\"#000000\" fill-rule=\"evenodd\" fill-opacity=\"1\" /><path clip-path=\"url(#clip230)\" d=\"M566.061 1479.7 L570.945 1479.7 L570.945 1485.58 L566.061 1485.58 L566.061 1479.7 Z\" fill=\"#000000\" fill-rule=\"evenodd\" fill-opacity=\"1\" /><path clip-path=\"url(#clip230)\" d=\"M591.709 1466.44 Q588.561 1466.44 586.709 1468.59 Q584.88 1470.74 584.88 1474.49 Q584.88 1478.22 586.709 1480.39 Q588.561 1482.55 591.709 1482.55 Q594.857 1482.55 596.686 1480.39 Q598.537 1478.22 598.537 1474.49 Q598.537 1470.74 596.686 1468.59 Q594.857 1466.44 591.709 1466.44 M600.991 1451.78 L600.991 1456.04 Q599.232 1455.21 597.426 1454.77 Q595.644 1454.33 593.885 1454.33 Q589.255 1454.33 586.801 1457.45 Q584.371 1460.58 584.024 1466.9 Q585.389 1464.89 587.449 1463.82 Q589.51 1462.73 591.987 1462.73 Q597.195 1462.73 600.204 1465.9 Q603.236 1469.05 603.236 1474.49 Q603.236 1479.82 600.088 1483.03 Q596.94 1486.25 591.709 1486.25 Q585.713 1486.25 582.542 1481.67 Q579.371 1477.06 579.371 1468.33 Q579.371 1460.14 583.26 1455.28 Q587.149 1450.39 593.699 1450.39 Q595.459 1450.39 597.241 1450.74 Q599.047 1451.09 600.991 1451.78 Z\" fill=\"#000000\" fill-rule=\"evenodd\" fill-opacity=\"1\" /><path clip-path=\"url(#clip230)\" d=\"M918.518 1454.1 Q914.907 1454.1 913.078 1457.66 Q911.273 1461.2 911.273 1468.33 Q911.273 1475.44 913.078 1479.01 Q914.907 1482.55 918.518 1482.55 Q922.152 1482.55 923.958 1479.01 Q925.787 1475.44 925.787 1468.33 Q925.787 1461.2 923.958 1457.66 Q922.152 1454.1 918.518 1454.1 M918.518 1450.39 Q924.328 1450.39 927.384 1455 Q930.462 1459.58 930.462 1468.33 Q930.462 1477.06 927.384 1481.67 Q924.328 1486.25 918.518 1486.25 Q912.708 1486.25 909.629 1481.67 Q906.574 1477.06 906.574 1468.33 Q906.574 1459.58 909.629 1455 Q912.708 1450.39 918.518 1450.39 Z\" fill=\"#000000\" fill-rule=\"evenodd\" fill-opacity=\"1\" /><path clip-path=\"url(#clip230)\" d=\"M938.68 1479.7 L943.564 1479.7 L943.564 1485.58 L938.68 1485.58 L938.68 1479.7 Z\" fill=\"#000000\" fill-rule=\"evenodd\" fill-opacity=\"1\" /><path clip-path=\"url(#clip230)\" d=\"M952.569 1451.02 L974.791 1451.02 L974.791 1453.01 L962.245 1485.58 L957.36 1485.58 L969.166 1454.96 L952.569 1454.96 L952.569 1451.02 Z\" fill=\"#000000\" fill-rule=\"evenodd\" fill-opacity=\"1\" /><path clip-path=\"url(#clip230)\" d=\"M1290.2 1454.1 Q1286.59 1454.1 1284.76 1457.66 Q1282.95 1461.2 1282.95 1468.33 Q1282.95 1475.44 1284.76 1479.01 Q1286.59 1482.55 1290.2 1482.55 Q1293.83 1482.55 1295.64 1479.01 Q1297.47 1475.44 1297.47 1468.33 Q1297.47 1461.2 1295.64 1457.66 Q1293.83 1454.1 1290.2 1454.1 M1290.2 1450.39 Q1296.01 1450.39 1299.07 1455 Q1302.14 1459.58 1302.14 1468.33 Q1302.14 1477.06 1299.07 1481.67 Q1296.01 1486.25 1290.2 1486.25 Q1284.39 1486.25 1281.31 1481.67 Q1278.26 1477.06 1278.26 1468.33 Q1278.26 1459.58 1281.31 1455 Q1284.39 1450.39 1290.2 1450.39 Z\" fill=\"#000000\" fill-rule=\"evenodd\" fill-opacity=\"1\" /><path clip-path=\"url(#clip230)\" d=\"M1310.36 1479.7 L1315.25 1479.7 L1315.25 1485.58 L1310.36 1485.58 L1310.36 1479.7 Z\" fill=\"#000000\" fill-rule=\"evenodd\" fill-opacity=\"1\" /><path clip-path=\"url(#clip230)\" d=\"M1335.43 1469.17 Q1332.1 1469.17 1330.18 1470.95 Q1328.28 1472.73 1328.28 1475.86 Q1328.28 1478.98 1330.18 1480.77 Q1332.1 1482.55 1335.43 1482.55 Q1338.76 1482.55 1340.69 1480.77 Q1342.61 1478.96 1342.61 1475.86 Q1342.61 1472.73 1340.69 1470.95 Q1338.79 1469.17 1335.43 1469.17 M1330.76 1467.18 Q1327.75 1466.44 1326.06 1464.38 Q1324.39 1462.32 1324.39 1459.35 Q1324.39 1455.21 1327.33 1452.8 Q1330.29 1450.39 1335.43 1450.39 Q1340.59 1450.39 1343.53 1452.8 Q1346.47 1455.21 1346.47 1459.35 Q1346.47 1462.32 1344.78 1464.38 Q1343.12 1466.44 1340.13 1467.18 Q1343.51 1467.96 1345.38 1470.26 Q1347.28 1472.55 1347.28 1475.86 Q1347.28 1480.88 1344.2 1483.57 Q1341.15 1486.25 1335.43 1486.25 Q1329.71 1486.25 1326.63 1483.57 Q1323.58 1480.88 1323.58 1475.86 Q1323.58 1472.55 1325.48 1470.26 Q1327.38 1467.96 1330.76 1467.18 M1329.04 1459.79 Q1329.04 1462.48 1330.71 1463.98 Q1332.4 1465.49 1335.43 1465.49 Q1338.44 1465.49 1340.13 1463.98 Q1341.84 1462.48 1341.84 1459.79 Q1341.84 1457.11 1340.13 1455.6 Q1338.44 1454.1 1335.43 1454.1 Q1332.4 1454.1 1330.71 1455.6 Q1329.04 1457.11 1329.04 1459.79 Z\" fill=\"#000000\" fill-rule=\"evenodd\" fill-opacity=\"1\" /><path clip-path=\"url(#clip230)\" d=\"M1662.33 1454.1 Q1658.72 1454.1 1656.89 1457.66 Q1655.09 1461.2 1655.09 1468.33 Q1655.09 1475.44 1656.89 1479.01 Q1658.72 1482.55 1662.33 1482.55 Q1665.97 1482.55 1667.77 1479.01 Q1669.6 1475.44 1669.6 1468.33 Q1669.6 1461.2 1667.77 1457.66 Q1665.97 1454.1 1662.33 1454.1 M1662.33 1450.39 Q1668.14 1450.39 1671.2 1455 Q1674.28 1459.58 1674.28 1468.33 Q1674.28 1477.06 1671.2 1481.67 Q1668.14 1486.25 1662.33 1486.25 Q1656.52 1486.25 1653.44 1481.67 Q1650.39 1477.06 1650.39 1468.33 Q1650.39 1459.58 1653.44 1455 Q1656.52 1450.39 1662.33 1450.39 Z\" fill=\"#000000\" fill-rule=\"evenodd\" fill-opacity=\"1\" /><path clip-path=\"url(#clip230)\" d=\"M1682.49 1479.7 L1687.38 1479.7 L1687.38 1485.58 L1682.49 1485.58 L1682.49 1479.7 Z\" fill=\"#000000\" fill-rule=\"evenodd\" fill-opacity=\"1\" /><path clip-path=\"url(#clip230)\" d=\"M1697.7 1484.86 L1697.7 1480.6 Q1699.46 1481.44 1701.27 1481.88 Q1703.07 1482.32 1704.81 1482.32 Q1709.44 1482.32 1711.87 1479.21 Q1714.32 1476.09 1714.67 1469.75 Q1713.33 1471.74 1711.27 1472.8 Q1709.21 1473.87 1706.71 1473.87 Q1701.52 1473.87 1698.49 1470.74 Q1695.48 1467.59 1695.48 1462.15 Q1695.48 1456.83 1698.63 1453.61 Q1701.78 1450.39 1707.01 1450.39 Q1713 1450.39 1716.15 1455 Q1719.32 1459.58 1719.32 1468.33 Q1719.32 1476.51 1715.43 1481.39 Q1711.57 1486.25 1705.02 1486.25 Q1703.26 1486.25 1701.45 1485.9 Q1699.65 1485.56 1697.7 1484.86 M1707.01 1470.21 Q1710.16 1470.21 1711.99 1468.06 Q1713.84 1465.9 1713.84 1462.15 Q1713.84 1458.43 1711.99 1456.27 Q1710.16 1454.1 1707.01 1454.1 Q1703.86 1454.1 1702.01 1456.27 Q1700.18 1458.43 1700.18 1462.15 Q1700.18 1465.9 1702.01 1468.06 Q1703.86 1470.21 1707.01 1470.21 Z\" fill=\"#000000\" fill-rule=\"evenodd\" fill-opacity=\"1\" /><path clip-path=\"url(#clip230)\" d=\"M2024.1 1481.64 L2031.73 1481.64 L2031.73 1455.28 L2023.42 1456.95 L2023.42 1452.69 L2031.69 1451.02 L2036.36 1451.02 L2036.36 1481.64 L2044 1481.64 L2044 1485.58 L2024.1 1485.58 L2024.1 1481.64 Z\" fill=\"#000000\" fill-rule=\"evenodd\" fill-opacity=\"1\" /><path clip-path=\"url(#clip230)\" d=\"M2053.45 1479.7 L2058.33 1479.7 L2058.33 1485.58 L2053.45 1485.58 L2053.45 1479.7 Z\" fill=\"#000000\" fill-rule=\"evenodd\" fill-opacity=\"1\" /><path clip-path=\"url(#clip230)\" d=\"M2078.52 1454.1 Q2074.91 1454.1 2073.08 1457.66 Q2071.27 1461.2 2071.27 1468.33 Q2071.27 1475.44 2073.08 1479.01 Q2074.91 1482.55 2078.52 1482.55 Q2082.15 1482.55 2083.96 1479.01 Q2085.79 1475.44 2085.79 1468.33 Q2085.79 1461.2 2083.96 1457.66 Q2082.15 1454.1 2078.52 1454.1 M2078.52 1450.39 Q2084.33 1450.39 2087.38 1455 Q2090.46 1459.58 2090.46 1468.33 Q2090.46 1477.06 2087.38 1481.67 Q2084.33 1486.25 2078.52 1486.25 Q2072.71 1486.25 2069.63 1481.67 Q2066.57 1477.06 2066.57 1468.33 Q2066.57 1459.58 2069.63 1455 Q2072.71 1450.39 2078.52 1450.39 Z\" fill=\"#000000\" fill-rule=\"evenodd\" fill-opacity=\"1\" /><path clip-path=\"url(#clip230)\" d=\"M726.482 1520.52 L735.139 1520.52 L756.21 1560.28 L756.21 1520.52 L762.448 1520.52 L762.448 1568.04 L753.791 1568.04 L732.72 1528.29 L732.72 1568.04 L726.482 1568.04 L726.482 1520.52 Z\" fill=\"#000000\" fill-rule=\"evenodd\" fill-opacity=\"1\" /><path clip-path=\"url(#clip230)\" d=\"M774.384 1553.98 L774.384 1532.4 L780.24 1532.4 L780.24 1553.75 Q780.24 1558.81 782.214 1561.36 Q784.187 1563.87 788.134 1563.87 Q792.876 1563.87 795.613 1560.85 Q798.383 1557.83 798.383 1552.61 L798.383 1532.4 L804.239 1532.4 L804.239 1568.04 L798.383 1568.04 L798.383 1562.57 Q796.25 1565.82 793.417 1567.41 Q790.616 1568.97 786.892 1568.97 Q780.75 1568.97 777.567 1565.15 Q774.384 1561.33 774.384 1553.98 M789.12 1531.54 L789.12 1531.54 Z\" fill=\"#000000\" fill-rule=\"evenodd\" fill-opacity=\"1\" /><path clip-path=\"url(#clip230)\" d=\"M844.057 1539.24 Q846.253 1535.29 849.308 1533.41 Q852.364 1531.54 856.501 1531.54 Q862.071 1531.54 865.095 1535.45 Q868.119 1539.33 868.119 1546.53 L868.119 1568.04 L862.231 1568.04 L862.231 1546.72 Q862.231 1541.59 860.416 1539.11 Q858.602 1536.63 854.878 1536.63 Q850.327 1536.63 847.685 1539.65 Q845.043 1542.68 845.043 1547.9 L845.043 1568.04 L839.155 1568.04 L839.155 1546.72 Q839.155 1541.56 837.341 1539.11 Q835.526 1536.63 831.739 1536.63 Q827.251 1536.63 824.609 1539.68 Q821.968 1542.71 821.968 1547.9 L821.968 1568.04 L816.079 1568.04 L816.079 1532.4 L821.968 1532.4 L821.968 1537.93 Q823.973 1534.66 826.774 1533.1 Q829.575 1531.54 833.426 1531.54 Q837.309 1531.54 840.014 1533.51 Q842.752 1535.48 844.057 1539.24 Z\" fill=\"#000000\" fill-rule=\"evenodd\" fill-opacity=\"1\" /><path clip-path=\"url(#clip230)\" d=\"M905.39 1550.25 Q905.39 1543.79 902.717 1540.13 Q900.075 1536.44 895.428 1536.44 Q890.781 1536.44 888.107 1540.13 Q885.465 1543.79 885.465 1550.25 Q885.465 1556.71 888.107 1560.4 Q890.781 1564.07 895.428 1564.07 Q900.075 1564.07 902.717 1560.4 Q905.39 1556.71 905.39 1550.25 M885.465 1537.81 Q887.311 1534.62 890.112 1533.1 Q892.945 1531.54 896.86 1531.54 Q903.353 1531.54 907.395 1536.69 Q911.469 1541.85 911.469 1550.25 Q911.469 1558.65 907.395 1563.81 Q903.353 1568.97 896.86 1568.97 Q892.945 1568.97 890.112 1567.44 Q887.311 1565.88 885.465 1562.7 L885.465 1568.04 L879.577 1568.04 L879.577 1518.52 L885.465 1518.52 L885.465 1537.81 Z\" fill=\"#000000\" fill-rule=\"evenodd\" fill-opacity=\"1\" /><path clip-path=\"url(#clip230)\" d=\"M951.669 1548.76 L951.669 1551.62 L924.742 1551.62 Q925.124 1557.67 928.37 1560.85 Q931.649 1564 937.473 1564 Q940.847 1564 943.998 1563.17 Q947.181 1562.35 950.3 1560.69 L950.3 1566.23 Q947.149 1567.57 943.839 1568.27 Q940.529 1568.97 937.123 1568.97 Q928.593 1568.97 923.596 1564 Q918.631 1559.04 918.631 1550.57 Q918.631 1541.82 923.341 1536.69 Q928.084 1531.54 936.105 1531.54 Q943.298 1531.54 947.467 1536.18 Q951.669 1540.8 951.669 1548.76 M945.812 1547.04 Q945.749 1542.23 943.107 1539.37 Q940.497 1536.5 936.168 1536.5 Q931.267 1536.5 928.307 1539.27 Q925.378 1542.04 924.933 1547.07 L945.812 1547.04 Z\" fill=\"#000000\" fill-rule=\"evenodd\" fill-opacity=\"1\" /><path clip-path=\"url(#clip230)\" d=\"M981.938 1537.87 Q980.951 1537.3 979.773 1537.04 Q978.628 1536.76 977.227 1536.76 Q972.262 1536.76 969.588 1540 Q966.946 1543.22 966.946 1549.27 L966.946 1568.04 L961.058 1568.04 L961.058 1532.4 L966.946 1532.4 L966.946 1537.93 Q968.793 1534.69 971.753 1533.13 Q974.713 1531.54 978.946 1531.54 Q979.551 1531.54 980.283 1531.63 Q981.015 1531.7 981.906 1531.85 L981.938 1537.87 Z\" fill=\"#000000\" fill-rule=\"evenodd\" fill-opacity=\"1\" /><path clip-path=\"url(#clip230)\" d=\"M1022.61 1536.5 Q1017.9 1536.5 1015.17 1540.19 Q1012.43 1543.85 1012.43 1550.25 Q1012.43 1556.65 1015.13 1560.34 Q1017.87 1564 1022.61 1564 Q1027.29 1564 1030.03 1560.31 Q1032.77 1556.62 1032.77 1550.25 Q1032.77 1543.92 1030.03 1540.23 Q1027.29 1536.5 1022.61 1536.5 M1022.61 1531.54 Q1030.25 1531.54 1034.61 1536.5 Q1038.97 1541.47 1038.97 1550.25 Q1038.97 1559 1034.61 1564 Q1030.25 1568.97 1022.61 1568.97 Q1014.94 1568.97 1010.58 1564 Q1006.25 1559 1006.25 1550.25 Q1006.25 1541.47 1010.58 1536.5 Q1014.94 1531.54 1022.61 1531.54 Z\" fill=\"#000000\" fill-rule=\"evenodd\" fill-opacity=\"1\" /><path clip-path=\"url(#clip230)\" d=\"M1066.73 1518.52 L1066.73 1523.39 L1061.13 1523.39 Q1057.98 1523.39 1056.73 1524.66 Q1055.53 1525.93 1055.53 1529.24 L1055.53 1532.4 L1065.17 1532.4 L1065.17 1536.95 L1055.53 1536.95 L1055.53 1568.04 L1049.64 1568.04 L1049.64 1536.95 L1044.04 1536.95 L1044.04 1532.4 L1049.64 1532.4 L1049.64 1529.91 Q1049.64 1523.96 1052.41 1521.26 Q1055.18 1518.52 1061.19 1518.52 L1066.73 1518.52 Z\" fill=\"#000000\" fill-rule=\"evenodd\" fill-opacity=\"1\" /><path clip-path=\"url(#clip230)\" d=\"M1092.61 1520.52 L1101.26 1520.52 L1122.33 1560.28 L1122.33 1520.52 L1128.57 1520.52 L1128.57 1568.04 L1119.91 1568.04 L1098.84 1528.29 L1098.84 1568.04 L1092.61 1568.04 L1092.61 1520.52 Z\" fill=\"#000000\" fill-rule=\"evenodd\" fill-opacity=\"1\" /><path clip-path=\"url(#clip230)\" d=\"M1171.6 1548.76 L1171.6 1551.62 L1144.68 1551.62 Q1145.06 1557.67 1148.31 1560.85 Q1151.58 1564 1157.41 1564 Q1160.78 1564 1163.93 1563.17 Q1167.12 1562.35 1170.24 1560.69 L1170.24 1566.23 Q1167.08 1567.57 1163.77 1568.27 Q1160.46 1568.97 1157.06 1568.97 Q1148.53 1568.97 1143.53 1564 Q1138.57 1559.04 1138.57 1550.57 Q1138.57 1541.82 1143.28 1536.69 Q1148.02 1531.54 1156.04 1531.54 Q1163.23 1531.54 1167.4 1536.18 Q1171.6 1540.8 1171.6 1548.76 M1165.75 1547.04 Q1165.68 1542.23 1163.04 1539.37 Q1160.43 1536.5 1156.1 1536.5 Q1151.2 1536.5 1148.24 1539.27 Q1145.31 1542.04 1144.87 1547.07 L1165.75 1547.04 Z\" fill=\"#000000\" fill-rule=\"evenodd\" fill-opacity=\"1\" /><path clip-path=\"url(#clip230)\" d=\"M1181.22 1532.4 L1187.07 1532.4 L1187.07 1568.04 L1181.22 1568.04 L1181.22 1532.4 M1181.22 1518.52 L1187.07 1518.52 L1187.07 1525.93 L1181.22 1525.93 L1181.22 1518.52 Z\" fill=\"#000000\" fill-rule=\"evenodd\" fill-opacity=\"1\" /><path clip-path=\"url(#clip230)\" d=\"M1222.78 1549.81 Q1222.78 1543.44 1220.14 1539.94 Q1217.53 1536.44 1212.79 1536.44 Q1208.08 1536.44 1205.44 1539.94 Q1202.83 1543.44 1202.83 1549.81 Q1202.83 1556.14 1205.44 1559.64 Q1208.08 1563.14 1212.79 1563.14 Q1217.53 1563.14 1220.14 1559.64 Q1222.78 1556.14 1222.78 1549.81 M1228.64 1563.62 Q1228.64 1572.72 1224.6 1577.15 Q1220.56 1581.6 1212.22 1581.6 Q1209.13 1581.6 1206.39 1581.13 Q1203.66 1580.68 1201.08 1579.72 L1201.08 1574.03 Q1203.66 1575.43 1206.17 1576.1 Q1208.68 1576.76 1211.29 1576.76 Q1217.06 1576.76 1219.92 1573.74 Q1222.78 1570.75 1222.78 1564.67 L1222.78 1561.77 Q1220.97 1564.92 1218.14 1566.48 Q1215.3 1568.04 1211.36 1568.04 Q1204.8 1568.04 1200.79 1563.05 Q1196.78 1558.05 1196.78 1549.81 Q1196.78 1541.53 1200.79 1536.53 Q1204.8 1531.54 1211.36 1531.54 Q1215.3 1531.54 1218.14 1533.1 Q1220.97 1534.66 1222.78 1537.81 L1222.78 1532.4 L1228.64 1532.4 L1228.64 1563.62 Z\" fill=\"#000000\" fill-rule=\"evenodd\" fill-opacity=\"1\" /><path clip-path=\"url(#clip230)\" d=\"M1270.34 1546.53 L1270.34 1568.04 L1264.48 1568.04 L1264.48 1546.72 Q1264.48 1541.66 1262.51 1539.14 Q1260.53 1536.63 1256.59 1536.63 Q1251.84 1536.63 1249.11 1539.65 Q1246.37 1542.68 1246.37 1547.9 L1246.37 1568.04 L1240.48 1568.04 L1240.48 1518.52 L1246.37 1518.52 L1246.37 1537.93 Q1248.47 1534.72 1251.3 1533.13 Q1254.17 1531.54 1257.89 1531.54 Q1264.03 1531.54 1267.19 1535.36 Q1270.34 1539.14 1270.34 1546.53 Z\" fill=\"#000000\" fill-rule=\"evenodd\" fill-opacity=\"1\" /><path clip-path=\"url(#clip230)\" d=\"M1307.61 1550.25 Q1307.61 1543.79 1304.93 1540.13 Q1302.29 1536.44 1297.64 1536.44 Q1293 1536.44 1290.32 1540.13 Q1287.68 1543.79 1287.68 1550.25 Q1287.68 1556.71 1290.32 1560.4 Q1293 1564.07 1297.64 1564.07 Q1302.29 1564.07 1304.93 1560.4 Q1307.61 1556.71 1307.61 1550.25 M1287.68 1537.81 Q1289.53 1534.62 1292.33 1533.1 Q1295.16 1531.54 1299.08 1531.54 Q1305.57 1531.54 1309.61 1536.69 Q1313.69 1541.85 1313.69 1550.25 Q1313.69 1558.65 1309.61 1563.81 Q1305.57 1568.97 1299.08 1568.97 Q1295.16 1568.97 1292.33 1567.44 Q1289.53 1565.88 1287.68 1562.7 L1287.68 1568.04 L1281.79 1568.04 L1281.79 1518.52 L1287.68 1518.52 L1287.68 1537.81 Z\" fill=\"#000000\" fill-rule=\"evenodd\" fill-opacity=\"1\" /><path clip-path=\"url(#clip230)\" d=\"M1337.21 1536.5 Q1332.5 1536.5 1329.76 1540.19 Q1327.02 1543.85 1327.02 1550.25 Q1327.02 1556.65 1329.73 1560.34 Q1332.47 1564 1337.21 1564 Q1341.89 1564 1344.62 1560.31 Q1347.36 1556.62 1347.36 1550.25 Q1347.36 1543.92 1344.62 1540.23 Q1341.89 1536.5 1337.21 1536.5 M1337.21 1531.54 Q1344.85 1531.54 1349.21 1536.5 Q1353.57 1541.47 1353.57 1550.25 Q1353.57 1559 1349.21 1564 Q1344.85 1568.97 1337.21 1568.97 Q1329.54 1568.97 1325.18 1564 Q1320.85 1559 1320.85 1550.25 Q1320.85 1541.47 1325.18 1536.5 Q1329.54 1531.54 1337.21 1531.54 Z\" fill=\"#000000\" fill-rule=\"evenodd\" fill-opacity=\"1\" /><path clip-path=\"url(#clip230)\" d=\"M1383.93 1537.87 Q1382.95 1537.3 1381.77 1537.04 Q1380.62 1536.76 1379.22 1536.76 Q1374.26 1536.76 1371.58 1540 Q1368.94 1543.22 1368.94 1549.27 L1368.94 1568.04 L1363.05 1568.04 L1363.05 1532.4 L1368.94 1532.4 L1368.94 1537.93 Q1370.79 1534.69 1373.75 1533.13 Q1376.71 1531.54 1380.94 1531.54 Q1381.54 1531.54 1382.28 1531.63 Q1383.01 1531.7 1383.9 1531.85 L1383.93 1537.87 Z\" fill=\"#000000\" fill-rule=\"evenodd\" fill-opacity=\"1\" /><path clip-path=\"url(#clip230)\" d=\"M1412.8 1533.45 L1412.8 1538.98 Q1410.32 1537.71 1407.64 1537.07 Q1404.97 1536.44 1402.11 1536.44 Q1397.75 1536.44 1395.55 1537.77 Q1393.39 1539.11 1393.39 1541.79 Q1393.39 1543.82 1394.94 1545 Q1396.5 1546.15 1401.21 1547.2 L1403.22 1547.64 Q1409.46 1548.98 1412.07 1551.43 Q1414.71 1553.85 1414.71 1558.21 Q1414.71 1563.17 1410.76 1566.07 Q1406.85 1568.97 1399.97 1568.97 Q1397.11 1568.97 1393.99 1568.39 Q1390.9 1567.85 1387.47 1566.74 L1387.47 1560.69 Q1390.71 1562.38 1393.86 1563.24 Q1397.01 1564.07 1400.1 1564.07 Q1404.24 1564.07 1406.47 1562.66 Q1408.69 1561.23 1408.69 1558.65 Q1408.69 1556.27 1407.07 1554.99 Q1405.48 1553.72 1400.04 1552.54 L1398 1552.07 Q1392.56 1550.92 1390.14 1548.56 Q1387.72 1546.18 1387.72 1542.04 Q1387.72 1537.01 1391.28 1534.27 Q1394.85 1531.54 1401.41 1531.54 Q1404.65 1531.54 1407.52 1532.01 Q1410.38 1532.49 1412.8 1533.45 Z\" fill=\"#000000\" fill-rule=\"evenodd\" fill-opacity=\"1\" /><path clip-path=\"url(#clip230)\" d=\"M1441.8 1547.58 L1458.95 1547.58 L1458.95 1552.8 L1441.8 1552.8 L1441.8 1547.58 Z\" fill=\"#000000\" fill-rule=\"evenodd\" fill-opacity=\"1\" /><path clip-path=\"url(#clip230)\" d=\"M1489.25 1520.52 L1495.68 1520.52 L1495.68 1540.61 L1517.01 1520.52 L1525.28 1520.52 L1501.7 1542.68 L1526.97 1568.04 L1518.5 1568.04 L1495.68 1545.16 L1495.68 1568.04 L1489.25 1568.04 L1489.25 1520.52 Z\" fill=\"#000000\" fill-rule=\"evenodd\" fill-opacity=\"1\" /><polyline clip-path=\"url(#clip232)\" style=\"stroke:#000000; stroke-linecap:butt; stroke-linejoin:round; stroke-width:2; stroke-opacity:0.1; fill:none\" points=\"\n",
       "  140.696,1110.96 2112.76,1110.96 \n",
       "  \"/>\n",
       "<polyline clip-path=\"url(#clip232)\" style=\"stroke:#000000; stroke-linecap:butt; stroke-linejoin:round; stroke-width:2; stroke-opacity:0.1; fill:none\" points=\"\n",
       "  140.696,769.371 2112.76,769.371 \n",
       "  \"/>\n",
       "<polyline clip-path=\"url(#clip232)\" style=\"stroke:#000000; stroke-linecap:butt; stroke-linejoin:round; stroke-width:2; stroke-opacity:0.1; fill:none\" points=\"\n",
       "  140.696,427.778 2112.76,427.778 \n",
       "  \"/>\n",
       "<polyline clip-path=\"url(#clip232)\" style=\"stroke:#000000; stroke-linecap:butt; stroke-linejoin:round; stroke-width:2; stroke-opacity:0.1; fill:none\" points=\"\n",
       "  140.696,86.1857 2112.76,86.1857 \n",
       "  \"/>\n",
       "<polyline clip-path=\"url(#clip230)\" style=\"stroke:#000000; stroke-linecap:butt; stroke-linejoin:round; stroke-width:4; stroke-opacity:1; fill:none\" points=\"\n",
       "  140.696,1423.18 140.696,47.2441 \n",
       "  \"/>\n",
       "<polyline clip-path=\"url(#clip230)\" style=\"stroke:#000000; stroke-linecap:butt; stroke-linejoin:round; stroke-width:4; stroke-opacity:1; fill:none\" points=\"\n",
       "  140.696,1110.96 157.543,1110.96 \n",
       "  \"/>\n",
       "<polyline clip-path=\"url(#clip230)\" style=\"stroke:#000000; stroke-linecap:butt; stroke-linejoin:round; stroke-width:4; stroke-opacity:1; fill:none\" points=\"\n",
       "  140.696,769.371 157.543,769.371 \n",
       "  \"/>\n",
       "<polyline clip-path=\"url(#clip230)\" style=\"stroke:#000000; stroke-linecap:butt; stroke-linejoin:round; stroke-width:4; stroke-opacity:1; fill:none\" points=\"\n",
       "  140.696,427.778 157.543,427.778 \n",
       "  \"/>\n",
       "<polyline clip-path=\"url(#clip230)\" style=\"stroke:#000000; stroke-linecap:butt; stroke-linejoin:round; stroke-width:4; stroke-opacity:1; fill:none\" points=\"\n",
       "  140.696,86.1857 157.543,86.1857 \n",
       "  \"/>\n",
       "<path clip-path=\"url(#clip230)\" d=\"M83.7929 1093.68 L102.149 1093.68 L102.149 1097.62 L88.0753 1097.62 L88.0753 1106.09 Q89.0938 1105.74 90.1123 1105.58 Q91.1308 1105.4 92.1493 1105.4 Q97.9363 1105.4 101.316 1108.57 Q104.696 1111.74 104.696 1117.16 Q104.696 1122.73 101.223 1125.84 Q97.7511 1128.92 91.4317 1128.92 Q89.2558 1128.92 86.9873 1128.54 Q84.7419 1128.17 82.3346 1127.43 L82.3346 1122.73 Q84.4179 1123.87 86.6401 1124.42 Q88.8623 1124.98 91.3391 1124.98 Q95.3437 1124.98 97.6817 1122.87 Q100.02 1120.77 100.02 1117.16 Q100.02 1113.55 97.6817 1111.44 Q95.3437 1109.33 91.3391 1109.33 Q89.4641 1109.33 87.5892 1109.75 Q85.7373 1110.17 83.7929 1111.05 L83.7929 1093.68 Z\" fill=\"#000000\" fill-rule=\"evenodd\" fill-opacity=\"1\" /><path clip-path=\"url(#clip230)\" d=\"M53.3995 782.716 L61.0384 782.716 L61.0384 756.35 L52.7282 758.017 L52.7282 753.758 L60.9921 752.091 L65.668 752.091 L65.668 782.716 L73.3068 782.716 L73.3068 786.651 L53.3995 786.651 L53.3995 782.716 Z\" fill=\"#000000\" fill-rule=\"evenodd\" fill-opacity=\"1\" /><path clip-path=\"url(#clip230)\" d=\"M92.7512 755.17 Q89.1401 755.17 87.3114 758.735 Q85.5058 762.276 85.5058 769.406 Q85.5058 776.512 87.3114 780.077 Q89.1401 783.619 92.7512 783.619 Q96.3854 783.619 98.1909 780.077 Q100.02 776.512 100.02 769.406 Q100.02 762.276 98.1909 758.735 Q96.3854 755.17 92.7512 755.17 M92.7512 751.466 Q98.5613 751.466 101.617 756.073 Q104.696 760.656 104.696 769.406 Q104.696 778.133 101.617 782.739 Q98.5613 787.323 92.7512 787.323 Q86.941 787.323 83.8623 782.739 Q80.8068 778.133 80.8068 769.406 Q80.8068 760.656 83.8623 756.073 Q86.941 751.466 92.7512 751.466 Z\" fill=\"#000000\" fill-rule=\"evenodd\" fill-opacity=\"1\" /><path clip-path=\"url(#clip230)\" d=\"M54.3949 441.123 L62.0337 441.123 L62.0337 414.758 L53.7236 416.424 L53.7236 412.165 L61.9874 410.498 L66.6633 410.498 L66.6633 441.123 L74.3022 441.123 L74.3022 445.058 L54.3949 445.058 L54.3949 441.123 Z\" fill=\"#000000\" fill-rule=\"evenodd\" fill-opacity=\"1\" /><path clip-path=\"url(#clip230)\" d=\"M83.7929 410.498 L102.149 410.498 L102.149 414.434 L88.0753 414.434 L88.0753 422.906 Q89.0938 422.559 90.1123 422.397 Q91.1308 422.211 92.1493 422.211 Q97.9363 422.211 101.316 425.383 Q104.696 428.554 104.696 433.971 Q104.696 439.549 101.223 442.651 Q97.7511 445.73 91.4317 445.73 Q89.2558 445.73 86.9873 445.359 Q84.7419 444.989 82.3346 444.248 L82.3346 439.549 Q84.4179 440.683 86.6401 441.239 Q88.8623 441.795 91.3391 441.795 Q95.3437 441.795 97.6817 439.688 Q100.02 437.582 100.02 433.971 Q100.02 430.359 97.6817 428.253 Q95.3437 426.147 91.3391 426.147 Q89.4641 426.147 87.5892 426.563 Q85.7373 426.98 83.7929 427.859 L83.7929 410.498 Z\" fill=\"#000000\" fill-rule=\"evenodd\" fill-opacity=\"1\" /><path clip-path=\"url(#clip230)\" d=\"M56.6171 99.5305 L72.9365 99.5305 L72.9365 103.466 L50.9921 103.466 L50.9921 99.5305 Q53.6541 96.7759 58.2375 92.1463 Q62.8439 87.4935 64.0245 86.151 Q66.2698 83.6278 67.1494 81.8917 Q68.0522 80.1325 68.0522 78.4427 Q68.0522 75.688 66.1078 73.9519 Q64.1865 72.2158 61.0847 72.2158 Q58.8856 72.2158 56.4319 72.9797 Q54.0014 73.7436 51.2236 75.2945 L51.2236 70.5723 Q54.0477 69.4381 56.5014 68.8594 Q58.955 68.2807 60.9921 68.2807 Q66.3624 68.2807 69.5568 70.9658 Q72.7513 73.651 72.7513 78.1417 Q72.7513 80.2714 71.9411 82.1926 Q71.1541 84.0908 69.0476 86.6834 Q68.4689 87.3546 65.367 90.5722 Q62.2652 93.7667 56.6171 99.5305 Z\" fill=\"#000000\" fill-rule=\"evenodd\" fill-opacity=\"1\" /><path clip-path=\"url(#clip230)\" d=\"M92.7512 71.9844 Q89.1401 71.9844 87.3114 75.5492 Q85.5058 79.0908 85.5058 86.2204 Q85.5058 93.3268 87.3114 96.8916 Q89.1401 100.433 92.7512 100.433 Q96.3854 100.433 98.1909 96.8916 Q100.02 93.3268 100.02 86.2204 Q100.02 79.0908 98.1909 75.5492 Q96.3854 71.9844 92.7512 71.9844 M92.7512 68.2807 Q98.5613 68.2807 101.617 72.8871 Q104.696 77.4704 104.696 86.2204 Q104.696 94.9472 101.617 99.5537 Q98.5613 104.137 92.7512 104.137 Q86.941 104.137 83.8623 99.5537 Q80.8068 94.9472 80.8068 86.2204 Q80.8068 77.4704 83.8623 72.8871 Q86.941 68.2807 92.7512 68.2807 Z\" fill=\"#000000\" fill-rule=\"evenodd\" fill-opacity=\"1\" /><circle clip-path=\"url(#clip232)\" cx=\"1643.51\" cy=\"222.823\" r=\"14\" fill=\"#a22b61\" fill-rule=\"evenodd\" fill-opacity=\"1\" stroke=\"#000000\" stroke-opacity=\"1\" stroke-width=\"3.2\"/>\n",
       "<circle clip-path=\"url(#clip232)\" cx=\"609.938\" cy=\"86.1857\" r=\"14\" fill=\"#fa9406\" fill-rule=\"evenodd\" fill-opacity=\"1\" stroke=\"#000000\" stroke-opacity=\"1\" stroke-width=\"3.2\"/>\n",
       "<circle clip-path=\"url(#clip232)\" cx=\"1230.08\" cy=\"1384.24\" r=\"14\" fill=\"#60136e\" fill-rule=\"evenodd\" fill-opacity=\"1\" stroke=\"#000000\" stroke-opacity=\"1\" stroke-width=\"3.2\"/>\n",
       "<circle clip-path=\"url(#clip232)\" cx=\"1023.37\" cy=\"496.097\" r=\"14\" fill=\"#902467\" fill-rule=\"evenodd\" fill-opacity=\"1\" stroke=\"#000000\" stroke-opacity=\"1\" stroke-width=\"3.2\"/>\n",
       "<circle clip-path=\"url(#clip232)\" cx=\"1850.23\" cy=\"86.1857\" r=\"14\" fill=\"#972765\" fill-rule=\"evenodd\" fill-opacity=\"1\" stroke=\"#000000\" stroke-opacity=\"1\" stroke-width=\"3.2\"/>\n",
       "<circle clip-path=\"url(#clip232)\" cx=\"816.653\" cy=\"359.46\" r=\"14\" fill=\"#c43c4e\" fill-rule=\"evenodd\" fill-opacity=\"1\" stroke=\"#000000\" stroke-opacity=\"1\" stroke-width=\"3.2\"/>\n",
       "<circle clip-path=\"url(#clip232)\" cx=\"2056.94\" cy=\"359.46\" r=\"14\" fill=\"#6c176e\" fill-rule=\"evenodd\" fill-opacity=\"1\" stroke=\"#000000\" stroke-opacity=\"1\" stroke-width=\"3.2\"/>\n",
       "<circle clip-path=\"url(#clip232)\" cx=\"1023.37\" cy=\"974.327\" r=\"14\" fill=\"#2e0a5a\" fill-rule=\"evenodd\" fill-opacity=\"1\" stroke=\"#000000\" stroke-opacity=\"1\" stroke-width=\"3.2\"/>\n",
       "<circle clip-path=\"url(#clip232)\" cx=\"1436.8\" cy=\"222.823\" r=\"14\" fill=\"#aa2e5d\" fill-rule=\"evenodd\" fill-opacity=\"1\" stroke=\"#000000\" stroke-opacity=\"1\" stroke-width=\"3.2\"/>\n",
       "<circle clip-path=\"url(#clip232)\" cx=\"2056.94\" cy=\"1384.24\" r=\"14\" fill=\"#811f6b\" fill-rule=\"evenodd\" fill-opacity=\"1\" stroke=\"#000000\" stroke-opacity=\"1\" stroke-width=\"3.2\"/>\n",
       "<circle clip-path=\"url(#clip232)\" cx=\"1643.51\" cy=\"1110.96\" r=\"14\" fill=\"#160b3a\" fill-rule=\"evenodd\" fill-opacity=\"1\" stroke=\"#000000\" stroke-opacity=\"1\" stroke-width=\"3.2\"/>\n",
       "<circle clip-path=\"url(#clip232)\" cx=\"1436.8\" cy=\"1110.96\" r=\"14\" fill=\"#090621\" fill-rule=\"evenodd\" fill-opacity=\"1\" stroke=\"#000000\" stroke-opacity=\"1\" stroke-width=\"3.2\"/>\n",
       "<circle clip-path=\"url(#clip232)\" cx=\"816.653\" cy=\"86.1857\" r=\"14\" fill=\"#f47918\" fill-rule=\"evenodd\" fill-opacity=\"1\" stroke=\"#000000\" stroke-opacity=\"1\" stroke-width=\"3.2\"/>\n",
       "<circle clip-path=\"url(#clip232)\" cx=\"403.223\" cy=\"1247.6\" r=\"14\" fill=\"#08061f\" fill-rule=\"evenodd\" fill-opacity=\"1\" stroke=\"#000000\" stroke-opacity=\"1\" stroke-width=\"3.2\"/>\n",
       "<circle clip-path=\"url(#clip232)\" cx=\"1643.51\" cy=\"1247.6\" r=\"14\" fill=\"#490b6a\" fill-rule=\"evenodd\" fill-opacity=\"1\" stroke=\"#000000\" stroke-opacity=\"1\" stroke-width=\"3.2\"/>\n",
       "<circle clip-path=\"url(#clip232)\" cx=\"609.938\" cy=\"359.46\" r=\"14\" fill=\"#d44841\" fill-rule=\"evenodd\" fill-opacity=\"1\" stroke=\"#000000\" stroke-opacity=\"1\" stroke-width=\"3.2\"/>\n",
       "<circle clip-path=\"url(#clip232)\" cx=\"609.938\" cy=\"974.327\" r=\"14\" fill=\"#480b6a\" fill-rule=\"evenodd\" fill-opacity=\"1\" stroke=\"#000000\" stroke-opacity=\"1\" stroke-width=\"3.2\"/>\n",
       "<circle clip-path=\"url(#clip232)\" cx=\"2056.94\" cy=\"1110.96\" r=\"14\" fill=\"#150b38\" fill-rule=\"evenodd\" fill-opacity=\"1\" stroke=\"#000000\" stroke-opacity=\"1\" stroke-width=\"3.2\"/>\n",
       "<circle clip-path=\"url(#clip232)\" cx=\"816.653\" cy=\"1384.24\" r=\"14\" fill=\"#801f6b\" fill-rule=\"evenodd\" fill-opacity=\"1\" stroke=\"#000000\" stroke-opacity=\"1\" stroke-width=\"3.2\"/>\n",
       "<circle clip-path=\"url(#clip232)\" cx=\"403.223\" cy=\"222.823\" r=\"14\" fill=\"#f9c52d\" fill-rule=\"evenodd\" fill-opacity=\"1\" stroke=\"#000000\" stroke-opacity=\"1\" stroke-width=\"3.2\"/>\n",
       "<circle clip-path=\"url(#clip232)\" cx=\"1436.8\" cy=\"974.327\" r=\"14\" fill=\"#220b4c\" fill-rule=\"evenodd\" fill-opacity=\"1\" stroke=\"#000000\" stroke-opacity=\"1\" stroke-width=\"3.2\"/>\n",
       "<circle clip-path=\"url(#clip232)\" cx=\"1436.8\" cy=\"1384.24\" r=\"14\" fill=\"#57106d\" fill-rule=\"evenodd\" fill-opacity=\"1\" stroke=\"#000000\" stroke-opacity=\"1\" stroke-width=\"3.2\"/>\n",
       "<circle clip-path=\"url(#clip232)\" cx=\"816.653\" cy=\"496.097\" r=\"14\" fill=\"#a02a62\" fill-rule=\"evenodd\" fill-opacity=\"1\" stroke=\"#000000\" stroke-opacity=\"1\" stroke-width=\"3.2\"/>\n",
       "<circle clip-path=\"url(#clip232)\" cx=\"403.223\" cy=\"496.097\" r=\"14\" fill=\"#ec6825\" fill-rule=\"evenodd\" fill-opacity=\"1\" stroke=\"#000000\" stroke-opacity=\"1\" stroke-width=\"3.2\"/>\n",
       "<circle clip-path=\"url(#clip232)\" cx=\"403.223\" cy=\"837.69\" r=\"14\" fill=\"#942666\" fill-rule=\"evenodd\" fill-opacity=\"1\" stroke=\"#000000\" stroke-opacity=\"1\" stroke-width=\"3.2\"/>\n",
       "<circle clip-path=\"url(#clip232)\" cx=\"196.509\" cy=\"86.1857\" r=\"14\" fill=\"#fcfea4\" fill-rule=\"evenodd\" fill-opacity=\"1\" stroke=\"#000000\" stroke-opacity=\"1\" stroke-width=\"3.2\"/>\n",
       "<circle clip-path=\"url(#clip232)\" cx=\"1023.37\" cy=\"632.734\" r=\"14\" fill=\"#801f6b\" fill-rule=\"evenodd\" fill-opacity=\"1\" stroke=\"#000000\" stroke-opacity=\"1\" stroke-width=\"3.2\"/>\n",
       "<circle clip-path=\"url(#clip232)\" cx=\"196.509\" cy=\"974.327\" r=\"14\" fill=\"#230b4d\" fill-rule=\"evenodd\" fill-opacity=\"1\" stroke=\"#000000\" stroke-opacity=\"1\" stroke-width=\"3.2\"/>\n",
       "<circle clip-path=\"url(#clip232)\" cx=\"1850.23\" cy=\"632.734\" r=\"14\" fill=\"#410967\" fill-rule=\"evenodd\" fill-opacity=\"1\" stroke=\"#000000\" stroke-opacity=\"1\" stroke-width=\"3.2\"/>\n",
       "<circle clip-path=\"url(#clip232)\" cx=\"1230.08\" cy=\"974.327\" r=\"14\" fill=\"#130a35\" fill-rule=\"evenodd\" fill-opacity=\"1\" stroke=\"#000000\" stroke-opacity=\"1\" stroke-width=\"3.2\"/>\n",
       "<circle clip-path=\"url(#clip232)\" cx=\"1436.8\" cy=\"632.734\" r=\"14\" fill=\"#5d126e\" fill-rule=\"evenodd\" fill-opacity=\"1\" stroke=\"#000000\" stroke-opacity=\"1\" stroke-width=\"3.2\"/>\n",
       "<circle clip-path=\"url(#clip232)\" cx=\"1850.23\" cy=\"1110.96\" r=\"14\" fill=\"#0d0829\" fill-rule=\"evenodd\" fill-opacity=\"1\" stroke=\"#000000\" stroke-opacity=\"1\" stroke-width=\"3.2\"/>\n",
       "<circle clip-path=\"url(#clip232)\" cx=\"1023.37\" cy=\"359.46\" r=\"14\" fill=\"#b23259\" fill-rule=\"evenodd\" fill-opacity=\"1\" stroke=\"#000000\" stroke-opacity=\"1\" stroke-width=\"3.2\"/>\n",
       "<circle clip-path=\"url(#clip232)\" cx=\"1023.37\" cy=\"1110.96\" r=\"14\" fill=\"#260b52\" fill-rule=\"evenodd\" fill-opacity=\"1\" stroke=\"#000000\" stroke-opacity=\"1\" stroke-width=\"3.2\"/>\n",
       "<circle clip-path=\"url(#clip232)\" cx=\"1230.08\" cy=\"359.46\" r=\"14\" fill=\"#a72d5f\" fill-rule=\"evenodd\" fill-opacity=\"1\" stroke=\"#000000\" stroke-opacity=\"1\" stroke-width=\"3.2\"/>\n",
       "<circle clip-path=\"url(#clip232)\" cx=\"1436.8\" cy=\"1247.6\" r=\"14\" fill=\"#270b52\" fill-rule=\"evenodd\" fill-opacity=\"1\" stroke=\"#000000\" stroke-opacity=\"1\" stroke-width=\"3.2\"/>\n",
       "<circle clip-path=\"url(#clip232)\" cx=\"196.509\" cy=\"496.097\" r=\"14\" fill=\"#ea6428\" fill-rule=\"evenodd\" fill-opacity=\"1\" stroke=\"#000000\" stroke-opacity=\"1\" stroke-width=\"3.2\"/>\n",
       "<circle clip-path=\"url(#clip232)\" cx=\"2056.94\" cy=\"974.327\" r=\"14\" fill=\"#1c0c43\" fill-rule=\"evenodd\" fill-opacity=\"1\" stroke=\"#000000\" stroke-opacity=\"1\" stroke-width=\"3.2\"/>\n",
       "<circle clip-path=\"url(#clip232)\" cx=\"2056.94\" cy=\"86.1857\" r=\"14\" fill=\"#8f2468\" fill-rule=\"evenodd\" fill-opacity=\"1\" stroke=\"#000000\" stroke-opacity=\"1\" stroke-width=\"3.2\"/>\n",
       "<circle clip-path=\"url(#clip232)\" cx=\"196.509\" cy=\"1384.24\" r=\"14\" fill=\"#0b0725\" fill-rule=\"evenodd\" fill-opacity=\"1\" stroke=\"#000000\" stroke-opacity=\"1\" stroke-width=\"3.2\"/>\n",
       "<circle clip-path=\"url(#clip232)\" cx=\"1230.08\" cy=\"632.734\" r=\"14\" fill=\"#71196d\" fill-rule=\"evenodd\" fill-opacity=\"1\" stroke=\"#000000\" stroke-opacity=\"1\" stroke-width=\"3.2\"/>\n",
       "<circle clip-path=\"url(#clip232)\" cx=\"1436.8\" cy=\"837.69\" r=\"14\" fill=\"#140b36\" fill-rule=\"evenodd\" fill-opacity=\"1\" stroke=\"#000000\" stroke-opacity=\"1\" stroke-width=\"3.2\"/>\n",
       "<circle clip-path=\"url(#clip232)\" cx=\"609.938\" cy=\"496.097\" r=\"14\" fill=\"#c43c4e\" fill-rule=\"evenodd\" fill-opacity=\"1\" stroke=\"#000000\" stroke-opacity=\"1\" stroke-width=\"3.2\"/>\n",
       "<circle clip-path=\"url(#clip232)\" cx=\"403.223\" cy=\"632.734\" r=\"14\" fill=\"#bf3951\" fill-rule=\"evenodd\" fill-opacity=\"1\" stroke=\"#000000\" stroke-opacity=\"1\" stroke-width=\"3.2\"/>\n",
       "<circle clip-path=\"url(#clip232)\" cx=\"2056.94\" cy=\"1247.6\" r=\"14\" fill=\"#58106d\" fill-rule=\"evenodd\" fill-opacity=\"1\" stroke=\"#000000\" stroke-opacity=\"1\" stroke-width=\"3.2\"/>\n",
       "<circle clip-path=\"url(#clip232)\" cx=\"403.223\" cy=\"359.46\" r=\"14\" fill=\"#fba309\" fill-rule=\"evenodd\" fill-opacity=\"1\" stroke=\"#000000\" stroke-opacity=\"1\" stroke-width=\"3.2\"/>\n",
       "<circle clip-path=\"url(#clip232)\" cx=\"1643.51\" cy=\"837.69\" r=\"14\" fill=\"#1f0c48\" fill-rule=\"evenodd\" fill-opacity=\"1\" stroke=\"#000000\" stroke-opacity=\"1\" stroke-width=\"3.2\"/>\n",
       "<circle clip-path=\"url(#clip232)\" cx=\"196.509\" cy=\"222.823\" r=\"14\" fill=\"#f8cd37\" fill-rule=\"evenodd\" fill-opacity=\"1\" stroke=\"#000000\" stroke-opacity=\"1\" stroke-width=\"3.2\"/>\n",
       "<circle clip-path=\"url(#clip232)\" cx=\"196.509\" cy=\"359.46\" r=\"14\" fill=\"#fabd22\" fill-rule=\"evenodd\" fill-opacity=\"1\" stroke=\"#000000\" stroke-opacity=\"1\" stroke-width=\"3.2\"/>\n",
       "<circle clip-path=\"url(#clip232)\" cx=\"403.223\" cy=\"1110.96\" r=\"14\" fill=\"#130a34\" fill-rule=\"evenodd\" fill-opacity=\"1\" stroke=\"#000000\" stroke-opacity=\"1\" stroke-width=\"3.2\"/>\n",
       "<circle clip-path=\"url(#clip232)\" cx=\"609.938\" cy=\"222.823\" r=\"14\" fill=\"#e45a30\" fill-rule=\"evenodd\" fill-opacity=\"1\" stroke=\"#000000\" stroke-opacity=\"1\" stroke-width=\"3.2\"/>\n",
       "<circle clip-path=\"url(#clip232)\" cx=\"2056.94\" cy=\"632.734\" r=\"14\" fill=\"#390962\" fill-rule=\"evenodd\" fill-opacity=\"1\" stroke=\"#000000\" stroke-opacity=\"1\" stroke-width=\"3.2\"/>\n",
       "<circle clip-path=\"url(#clip232)\" cx=\"1230.08\" cy=\"1247.6\" r=\"14\" fill=\"#290b55\" fill-rule=\"evenodd\" fill-opacity=\"1\" stroke=\"#000000\" stroke-opacity=\"1\" stroke-width=\"3.2\"/>\n",
       "<circle clip-path=\"url(#clip232)\" cx=\"1850.23\" cy=\"496.097\" r=\"14\" fill=\"#61136e\" fill-rule=\"evenodd\" fill-opacity=\"1\" stroke=\"#000000\" stroke-opacity=\"1\" stroke-width=\"3.2\"/>\n",
       "<circle clip-path=\"url(#clip232)\" cx=\"1023.37\" cy=\"1384.24\" r=\"14\" fill=\"#781c6d\" fill-rule=\"evenodd\" fill-opacity=\"1\" stroke=\"#000000\" stroke-opacity=\"1\" stroke-width=\"3.2\"/>\n",
       "<circle clip-path=\"url(#clip232)\" cx=\"196.509\" cy=\"837.69\" r=\"14\" fill=\"#8e2468\" fill-rule=\"evenodd\" fill-opacity=\"1\" stroke=\"#000000\" stroke-opacity=\"1\" stroke-width=\"3.2\"/>\n",
       "<circle clip-path=\"url(#clip232)\" cx=\"816.653\" cy=\"974.327\" r=\"14\" fill=\"#1a0b40\" fill-rule=\"evenodd\" fill-opacity=\"1\" stroke=\"#000000\" stroke-opacity=\"1\" stroke-width=\"3.2\"/>\n",
       "<circle clip-path=\"url(#clip232)\" cx=\"1643.51\" cy=\"974.327\" r=\"14\" fill=\"#220b4c\" fill-rule=\"evenodd\" fill-opacity=\"1\" stroke=\"#000000\" stroke-opacity=\"1\" stroke-width=\"3.2\"/>\n",
       "<circle clip-path=\"url(#clip232)\" cx=\"403.223\" cy=\"1384.24\" r=\"14\" fill=\"#66156e\" fill-rule=\"evenodd\" fill-opacity=\"1\" stroke=\"#000000\" stroke-opacity=\"1\" stroke-width=\"3.2\"/>\n",
       "<circle clip-path=\"url(#clip232)\" cx=\"403.223\" cy=\"974.327\" r=\"14\" fill=\"#35095f\" fill-rule=\"evenodd\" fill-opacity=\"1\" stroke=\"#000000\" stroke-opacity=\"1\" stroke-width=\"3.2\"/>\n",
       "<circle clip-path=\"url(#clip232)\" cx=\"816.653\" cy=\"837.69\" r=\"14\" fill=\"#500d6c\" fill-rule=\"evenodd\" fill-opacity=\"1\" stroke=\"#000000\" stroke-opacity=\"1\" stroke-width=\"3.2\"/>\n",
       "<circle clip-path=\"url(#clip232)\" cx=\"1230.08\" cy=\"1110.96\" r=\"14\" fill=\"#1d0c44\" fill-rule=\"evenodd\" fill-opacity=\"1\" stroke=\"#000000\" stroke-opacity=\"1\" stroke-width=\"3.2\"/>\n",
       "<circle clip-path=\"url(#clip232)\" cx=\"1436.8\" cy=\"359.46\" r=\"14\" fill=\"#a32b61\" fill-rule=\"evenodd\" fill-opacity=\"1\" stroke=\"#000000\" stroke-opacity=\"1\" stroke-width=\"3.2\"/>\n",
       "<circle clip-path=\"url(#clip232)\" cx=\"1023.37\" cy=\"86.1857\" r=\"14\" fill=\"#e96329\" fill-rule=\"evenodd\" fill-opacity=\"1\" stroke=\"#000000\" stroke-opacity=\"1\" stroke-width=\"3.2\"/>\n",
       "<circle clip-path=\"url(#clip232)\" cx=\"1850.23\" cy=\"359.46\" r=\"14\" fill=\"#7f1e6c\" fill-rule=\"evenodd\" fill-opacity=\"1\" stroke=\"#000000\" stroke-opacity=\"1\" stroke-width=\"3.2\"/>\n",
       "<circle clip-path=\"url(#clip232)\" cx=\"1850.23\" cy=\"974.327\" r=\"14\" fill=\"#200c49\" fill-rule=\"evenodd\" fill-opacity=\"1\" stroke=\"#000000\" stroke-opacity=\"1\" stroke-width=\"3.2\"/>\n",
       "<circle clip-path=\"url(#clip232)\" cx=\"609.938\" cy=\"1247.6\" r=\"14\" fill=\"#000003\" fill-rule=\"evenodd\" fill-opacity=\"1\" stroke=\"#000000\" stroke-opacity=\"1\" stroke-width=\"3.2\"/>\n",
       "<circle clip-path=\"url(#clip232)\" cx=\"609.938\" cy=\"632.734\" r=\"14\" fill=\"#9a2864\" fill-rule=\"evenodd\" fill-opacity=\"1\" stroke=\"#000000\" stroke-opacity=\"1\" stroke-width=\"3.2\"/>\n",
       "<circle clip-path=\"url(#clip232)\" cx=\"1643.51\" cy=\"86.1857\" r=\"14\" fill=\"#ae305c\" fill-rule=\"evenodd\" fill-opacity=\"1\" stroke=\"#000000\" stroke-opacity=\"1\" stroke-width=\"3.2\"/>\n",
       "<circle clip-path=\"url(#clip232)\" cx=\"816.653\" cy=\"222.823\" r=\"14\" fill=\"#e05435\" fill-rule=\"evenodd\" fill-opacity=\"1\" stroke=\"#000000\" stroke-opacity=\"1\" stroke-width=\"3.2\"/>\n",
       "<circle clip-path=\"url(#clip232)\" cx=\"1023.37\" cy=\"1247.6\" r=\"14\" fill=\"#200c49\" fill-rule=\"evenodd\" fill-opacity=\"1\" stroke=\"#000000\" stroke-opacity=\"1\" stroke-width=\"3.2\"/>\n",
       "<circle clip-path=\"url(#clip232)\" cx=\"2056.94\" cy=\"837.69\" r=\"14\" fill=\"#160b39\" fill-rule=\"evenodd\" fill-opacity=\"1\" stroke=\"#000000\" stroke-opacity=\"1\" stroke-width=\"3.2\"/>\n",
       "<circle clip-path=\"url(#clip232)\" cx=\"403.223\" cy=\"86.1857\" r=\"14\" fill=\"#fbb71b\" fill-rule=\"evenodd\" fill-opacity=\"1\" stroke=\"#000000\" stroke-opacity=\"1\" stroke-width=\"3.2\"/>\n",
       "<circle clip-path=\"url(#clip232)\" cx=\"816.653\" cy=\"1247.6\" r=\"14\" fill=\"#240b4e\" fill-rule=\"evenodd\" fill-opacity=\"1\" stroke=\"#000000\" stroke-opacity=\"1\" stroke-width=\"3.2\"/>\n",
       "<circle clip-path=\"url(#clip232)\" cx=\"2056.94\" cy=\"222.823\" r=\"14\" fill=\"#a02a62\" fill-rule=\"evenodd\" fill-opacity=\"1\" stroke=\"#000000\" stroke-opacity=\"1\" stroke-width=\"3.2\"/>\n",
       "<circle clip-path=\"url(#clip232)\" cx=\"816.653\" cy=\"632.734\" r=\"14\" fill=\"#972765\" fill-rule=\"evenodd\" fill-opacity=\"1\" stroke=\"#000000\" stroke-opacity=\"1\" stroke-width=\"3.2\"/>\n",
       "<circle clip-path=\"url(#clip232)\" cx=\"1850.23\" cy=\"222.823\" r=\"14\" fill=\"#972765\" fill-rule=\"evenodd\" fill-opacity=\"1\" stroke=\"#000000\" stroke-opacity=\"1\" stroke-width=\"3.2\"/>\n",
       "<circle clip-path=\"url(#clip232)\" cx=\"1850.23\" cy=\"837.69\" r=\"14\" fill=\"#1f0c47\" fill-rule=\"evenodd\" fill-opacity=\"1\" stroke=\"#000000\" stroke-opacity=\"1\" stroke-width=\"3.2\"/>\n",
       "<circle clip-path=\"url(#clip232)\" cx=\"816.653\" cy=\"1110.96\" r=\"14\" fill=\"#0c0726\" fill-rule=\"evenodd\" fill-opacity=\"1\" stroke=\"#000000\" stroke-opacity=\"1\" stroke-width=\"3.2\"/>\n",
       "<circle clip-path=\"url(#clip232)\" cx=\"1850.23\" cy=\"1384.24\" r=\"14\" fill=\"#7d1d6c\" fill-rule=\"evenodd\" fill-opacity=\"1\" stroke=\"#000000\" stroke-opacity=\"1\" stroke-width=\"3.2\"/>\n",
       "<circle clip-path=\"url(#clip232)\" cx=\"1436.8\" cy=\"496.097\" r=\"14\" fill=\"#87216a\" fill-rule=\"evenodd\" fill-opacity=\"1\" stroke=\"#000000\" stroke-opacity=\"1\" stroke-width=\"3.2\"/>\n",
       "<circle clip-path=\"url(#clip232)\" cx=\"196.509\" cy=\"1247.6\" r=\"14\" fill=\"#050418\" fill-rule=\"evenodd\" fill-opacity=\"1\" stroke=\"#000000\" stroke-opacity=\"1\" stroke-width=\"3.2\"/>\n",
       "<circle clip-path=\"url(#clip232)\" cx=\"1643.51\" cy=\"1384.24\" r=\"14\" fill=\"#6f186e\" fill-rule=\"evenodd\" fill-opacity=\"1\" stroke=\"#000000\" stroke-opacity=\"1\" stroke-width=\"3.2\"/>\n",
       "<circle clip-path=\"url(#clip232)\" cx=\"1643.51\" cy=\"632.734\" r=\"14\" fill=\"#58106d\" fill-rule=\"evenodd\" fill-opacity=\"1\" stroke=\"#000000\" stroke-opacity=\"1\" stroke-width=\"3.2\"/>\n",
       "<circle clip-path=\"url(#clip232)\" cx=\"196.509\" cy=\"632.734\" r=\"14\" fill=\"#f06f1f\" fill-rule=\"evenodd\" fill-opacity=\"1\" stroke=\"#000000\" stroke-opacity=\"1\" stroke-width=\"3.2\"/>\n",
       "<circle clip-path=\"url(#clip232)\" cx=\"1643.51\" cy=\"359.46\" r=\"14\" fill=\"#8f2468\" fill-rule=\"evenodd\" fill-opacity=\"1\" stroke=\"#000000\" stroke-opacity=\"1\" stroke-width=\"3.2\"/>\n",
       "<circle clip-path=\"url(#clip232)\" cx=\"609.938\" cy=\"1384.24\" r=\"14\" fill=\"#360961\" fill-rule=\"evenodd\" fill-opacity=\"1\" stroke=\"#000000\" stroke-opacity=\"1\" stroke-width=\"3.2\"/>\n",
       "<circle clip-path=\"url(#clip232)\" cx=\"1023.37\" cy=\"837.69\" r=\"14\" fill=\"#400967\" fill-rule=\"evenodd\" fill-opacity=\"1\" stroke=\"#000000\" stroke-opacity=\"1\" stroke-width=\"3.2\"/>\n",
       "<circle clip-path=\"url(#clip232)\" cx=\"609.938\" cy=\"1110.96\" r=\"14\" fill=\"#190b3e\" fill-rule=\"evenodd\" fill-opacity=\"1\" stroke=\"#000000\" stroke-opacity=\"1\" stroke-width=\"3.2\"/>\n",
       "<circle clip-path=\"url(#clip232)\" cx=\"1023.37\" cy=\"222.823\" r=\"14\" fill=\"#b73456\" fill-rule=\"evenodd\" fill-opacity=\"1\" stroke=\"#000000\" stroke-opacity=\"1\" stroke-width=\"3.2\"/>\n",
       "<circle clip-path=\"url(#clip232)\" cx=\"1230.08\" cy=\"222.823\" r=\"14\" fill=\"#cd4247\" fill-rule=\"evenodd\" fill-opacity=\"1\" stroke=\"#000000\" stroke-opacity=\"1\" stroke-width=\"3.2\"/>\n",
       "<circle clip-path=\"url(#clip232)\" cx=\"1643.51\" cy=\"496.097\" r=\"14\" fill=\"#6f186e\" fill-rule=\"evenodd\" fill-opacity=\"1\" stroke=\"#000000\" stroke-opacity=\"1\" stroke-width=\"3.2\"/>\n",
       "<circle clip-path=\"url(#clip232)\" cx=\"1850.23\" cy=\"1247.6\" r=\"14\" fill=\"#4b0b6b\" fill-rule=\"evenodd\" fill-opacity=\"1\" stroke=\"#000000\" stroke-opacity=\"1\" stroke-width=\"3.2\"/>\n",
       "<circle clip-path=\"url(#clip232)\" cx=\"1230.08\" cy=\"496.097\" r=\"14\" fill=\"#912467\" fill-rule=\"evenodd\" fill-opacity=\"1\" stroke=\"#000000\" stroke-opacity=\"1\" stroke-width=\"3.2\"/>\n",
       "<circle clip-path=\"url(#clip232)\" cx=\"1436.8\" cy=\"86.1857\" r=\"14\" fill=\"#c83f4b\" fill-rule=\"evenodd\" fill-opacity=\"1\" stroke=\"#000000\" stroke-opacity=\"1\" stroke-width=\"3.2\"/>\n",
       "<circle clip-path=\"url(#clip232)\" cx=\"1230.08\" cy=\"837.69\" r=\"14\" fill=\"#220b4b\" fill-rule=\"evenodd\" fill-opacity=\"1\" stroke=\"#000000\" stroke-opacity=\"1\" stroke-width=\"3.2\"/>\n",
       "<circle clip-path=\"url(#clip232)\" cx=\"2056.94\" cy=\"496.097\" r=\"14\" fill=\"#59106d\" fill-rule=\"evenodd\" fill-opacity=\"1\" stroke=\"#000000\" stroke-opacity=\"1\" stroke-width=\"3.2\"/>\n",
       "<circle clip-path=\"url(#clip232)\" cx=\"1230.08\" cy=\"86.1857\" r=\"14\" fill=\"#d44841\" fill-rule=\"evenodd\" fill-opacity=\"1\" stroke=\"#000000\" stroke-opacity=\"1\" stroke-width=\"3.2\"/>\n",
       "<circle clip-path=\"url(#clip232)\" cx=\"609.938\" cy=\"837.69\" r=\"14\" fill=\"#62146e\" fill-rule=\"evenodd\" fill-opacity=\"1\" stroke=\"#000000\" stroke-opacity=\"1\" stroke-width=\"3.2\"/>\n",
       "<circle clip-path=\"url(#clip232)\" cx=\"196.509\" cy=\"1110.96\" r=\"14\" fill=\"#1b0c41\" fill-rule=\"evenodd\" fill-opacity=\"1\" stroke=\"#000000\" stroke-opacity=\"1\" stroke-width=\"3.2\"/>\n",
       "<defs>\n",
       "  <clipPath id=\"clip233\">\n",
       "    <rect x=\"2160\" y=\"47\" width=\"73\" height=\"1377\"/>\n",
       "  </clipPath>\n",
       "</defs>\n",
       "<g clip-path=\"url(#clip233)\">\n",
       "<image width=\"72\" height=\"1376\" xlink:href=\"data:image/png;base64,\n",
       "iVBORw0KGgoAAAANSUhEUgAAAEgAAAVgCAYAAADsKhu7AAAL6UlEQVR4nO3dwZEjNxBFQVBR/lsh\n",
       "L6UFZIHqHclDpgUTL35wCXTP7Off+/c7/K+/vv0D/DqBgkBBoCBQmPv+/fbP8NMsKAgUBAoChXnv\n",
       "z7d/hp9mQUGgIFAQKAgUHDWCBQWBgkBBoDDPh/TKgoJAQaAgUJh3fUhvLCgIFAQKAgWBgqNGsKAg\n",
       "UBAoCBR8SAcLCgIFgYJAwX1QsKAgUBAoCBQECnMcNVYWFAQKAgWBgvugYEFBoCBQECgIFOa4MFtZ\n",
       "UBAoCBQECnPuP9/+GX6aBQWBgkBBoODSPlhQECgIFAQKAgX3QcGCgkBBoCBQ8CEdLCgIFAQKAgX3\n",
       "QcGCgkBBoCBQECjMx1FjZUFBoCBQECjMuf5XhI0FBYGCQEGgIFBw1AgWFAQKAgWBgqNGsKAgUBAo\n",
       "CBS8HxQsKAgUBAoCBYHCfBw1VhYUBAoCBYGCt1yDBQWBgkBBoOCbdLCgIFAQKAgUBAoePQcLCgIF\n",
       "gYJAwVEjWFAQKAgUBAoCBUeNYEFBoCBQECg4agQLCgIFgYJAYc693/4ZfpoFBYGCQEGgIFBw1AgW\n",
       "FAQKAgWBgkv7YEFBoCBQECj4kA4WFAQKAgWBgkBhPp5qrCwoCBQECgIFR41gQUGgIFAQKAgUvEAV\n",
       "LCgIFAQKAgX3QcGCgkBBoCBQcB8ULCgIFAQKAgWBgvugYEFBoCBQECj4kA4WFAQKAgWBgl/qDRYU\n",
       "BAoCBYGCQMFRI1hQECgIFAQKPqSDBQWBgkBBoCBQ8K9YsKAgUBAoCBR8SAcLCgIFgYJAYc7zIb2x\n",
       "oCBQECgIFAQKjhrBgoJAQaAgUPAhHSwoCBQECgIFH9LBgoJAQaAgUBAozLnv2z/DT7OgIFAQKAgU\n",
       "HDWCBQWBgkBBoCBQcNQIFhQECgIFgYKjRrCgIFAQKAgUfJMOFhQECgIFgYJAYY6TxsqCgkBBoCBQ\n",
       "mPMcNTYWFAQKAgWBgm/SwYKCQEGgIFAQKPhXLFhQECgIFAQK44/g7SwoCBQECgIFgYKjRrCgIFAQ\n",
       "KAgUfEgHCwoCBYGCQGHO/Xz7Z/hpFhQECgIFgYJAYd7zr9jGgoJAQaAgUHAfFCwoCBQECgIF90HB\n",
       "goJAQaAgUBAozLsabdQJAgWBgkDBUSNYUBAoCBQECgKFOR49rywoCBQECgKFeY4aKwsKAgWBgkBh\n",
       "jkv7lTpBoCBQECgIFBw1ggUFgYJAQaDg0j5YUBAoCBQECl7iDOoEgYJAQaAgUPCWa7CgIFAQKAgU\n",
       "XNoHCwoCBYGCQEGgMO9ptFEnCBQECgIF90HBgoJAQaAgUHAfFCwoCBQECgIFgcIc90ErdYJAQaAg\n",
       "UHDUCBYUBAoCBYGCD+lgQUGgIFAQKAgU/NZzsKAgUBAoCBT81nNQJwgUBAoCBYHCPEeNlQUFgYJA\n",
       "QaDgqUawoCBQECgIFPyvCEGdIFAQKAgUBArug4IFBYGCQEGg4D4oWFAQKAgUBAq+SQcLCgIFgYJA\n",
       "QaDgLdegThAoCBQECo4awYKCQEGgIFAQKHiqESwoCBQECgIFR41gQUGgIFAQKPiva4IFBYGCQEGg\n",
       "IFDwv2QGdYJAQaAgUHAfFCwoCBQECgIFT1aDBQWBgkBBoCBQcNQIFhQECgIFgcJcH9IrCwoCBYGC\n",
       "QEGg4LeegzpBoCBQECi4DwoWFAQKAgWBgg/pYEFBoCBQECgIFLxAFSwoCBQECgIFR41gQUGgIFAQ\n",
       "KPiQDhYUBAoCBYGCQMGfpgjqBIGCQEGgMNel/cqCgkBBoCBQECi4MAsWFAQKAgWBgg/pYEFBoCBQ\n",
       "ECj4kA4WFAQKAgWBgkDBH1gKFhQECgIFgYKjRrCgIFAQKAgUfEgHCwoCBYGCQEGg4FcRgjpBoCBQ\n",
       "ECj4VYRgQUGgIFAQKAgUXJgFCwoCBYGCQMGHdLCgIFAQKAgUvMQZLCgIFAQKAgWBgqNGsKAgUBAo\n",
       "CBTmHR/SGwsKAgWBgkDBfVCwoCBQECgIFAQK7oOCBQWBgkBBoOCoESwoCBQECgIFgYKjRrCgIFAQ\n",
       "KAgUHDWCBQWBgkBBoOCbdLCgIFAQKAgUBAr+FQsWFAQKAgWBwly/irCyoCBQECgIFHyTDhYUBAoC\n",
       "BYGCQMGj52BBQaAgUBAozHvf/hF+mwUFgYJAQaAgUHDUCBYUBAoCBYGCv4IXLCgIFAQKAgXfpIMF\n",
       "BYGCQEGgIFDwAlWwoCBQECgIFPwqQrCgIFAQKAgUvB8ULCgIFAQKAgWBgqcawYKCQEGgIFBwaR8s\n",
       "KAgUBAoCBYGCpxrBgoJAQaAgUHAfFCwoCBQECgIFj56DBQWBgkBBoCBQcB8ULCgIFAQKAgWPnoMF\n",
       "BYGCQEGgMPfbP8GPs6AgUBAoCBQECo4awYKCQEGgIFDwflCwoCBQECgIFAQKLsyCBQWBgkBBoOA+\n",
       "KFhQECgIFAQKvkkHCwoCBYGCQEGg4KgRLCgIFAQKAgWPnoMFBYGCQEGgMP4yxc6CgkBBoCBQECg4\n",
       "agQLCgIFgYJAwaPnYEFBoCBQECgIFDx6DhYUBAoCBYGCo0awoCBQECgIFHyTDhYUBAoCBYGCQGGu\n",
       "N6hWFhQECgIFgYL7oGBBQaAgUBAouA8KFhQECgIFgYJAwVEjWFAQKAgUBArzXNqvLCgIFAQKAgWB\n",
       "wtzjwmxjQUGgIFAQKHg/KFhQECgIFAQK/gpesKAgUBAoCBQECv4KXrCgIFAQKAgUPHoOFhQECgIF\n",
       "gYKXOIMFBYGCQEGgIFDwC3XBgoJAQaAgUHDUCBYUBAoCBYGCQMFbrsGCgkBBoCBQ8JZrsKAgUBAo\n",
       "CBR8kw4WFAQKAgWBgkDBW67BgoJAQaAgUPD3g4IFBYGCQEGg4D4oWFAQKAgUBAoCBY+egwUFgYJA\n",
       "QaDgqBEsKAgUBAoCBYGCo0awoCBQECgIFBw1ggUFgYJAQaDgQzpYUBAoCBQECgIF90HBgoJAQaAg\n",
       "UHDUCBYUBAoCBYGCb9LBgoJAQaAgUBAoOGoECwoCBYGCQMHfDwoWFAQKAgWBgkDB/+0TLCgIFAQK\n",
       "AgX3QcGCgkBBoCBQmHd8Sm8sKAgUBAoCBYGCo0awoCBQECgIFDx6DhYUBAoCBYGCJ6vBgoJAQaAg\n",
       "UBAouA8KFhQECgIFgYJHz8GCgkBBoCBQECg4agQLCgIFgYJAwR9YChYUBAoCBYHCXC8IrSwoCBQE\n",
       "CgIFgYIXqIIFBYGCQEGgMM9RY2VBQaAgUBAo+CYdLCgIFAQKAgWBgqcawYKCQEGgIFDwflCwoCBQ\n",
       "ECgIFAQKc/1C3cqCgkBBoCBQcB8ULCgIFAQKAgV/miJYUBAoCBQECgIFL1AFCwoCBYGCQMGlfbCg\n",
       "IFAQKAgU3AcFCwoCBYGCQEGgMPe4EdpYUBAoCBQECu6DggUFgYJAQaAgUPCvWLCgIFAQKAgUPNUI\n",
       "FhQECgIFgYJL+2BBQaAgUBAoCBTmfhw1NhYUBAoCBYGCo0awoCBQECgIFOb5kF5ZUBAoCBQECgIF\n",
       "R41gQUGgIFAQKMz9+JDeWFAQKAgUBAoCBUeNYEFBoCBQECh4qhEsKAgUBAoCBd+kgwUFgYJAQaAg\n",
       "UPCvWLCgIFAQKAgUPHoOFhQECgIFgcK88+fbP8NPs6AgUBAoCBQECu6DggUFgYJAQaDg/aBgQUGg\n",
       "IFAQKAgU5j4XZhsLCgIFgYJAwVEjWFAQKAgUBApzPXpeWVAQKAgUBAoCBUeNYEFBoCBQECg4agQL\n",
       "CgIFgYJAYd7zTXpjQUGgIFAQKAgU3AcFCwoCBYGCQMFLnMGCgkBBoCBQECg4agQLCgIFgYJAYZ6j\n",
       "xsqCgkBBoCBQ8E06WFAQKAgUBAoChbleoFpZUBAoCBQECv7gdrCgIFAQKAgU/CpCsKAgUBAoCBQE\n",
       "Cp5qBAsKAgWBgkDBUSNYUBAoCBQECgIF/4oFCwoCBYGCQMGj52BBQaAgUBAo+CYdLCgIFAQKAgWB\n",
       "whyPnlcWFAQKAgWBgqNGsKAgUBAoCBS8xBksKAgUBAoCBYHCHEeNlQUFgYJAQaDg/aBgQUGgIFAQ\n",
       "KAgUPHoOFhQECgIFgYL7oGBBQaAgUBAozDvv2z/DT7OgIFAQKAgUBArug4IFBYGCQEGgMMdRY2VB\n",
       "QaAgUBAo/AdhU+3PqlcPeQAAAABJRU5ErkJggg==\n",
       "\" transform=\"translate(2161, 47)\"/>\n",
       "</g>\n",
       "<path clip-path=\"url(#clip230)\" d=\"M2280.7 1219.38 Q2277.09 1219.38 2275.26 1222.94 Q2273.45 1226.48 2273.45 1233.61 Q2273.45 1240.72 2275.26 1244.29 Q2277.09 1247.83 2280.7 1247.83 Q2284.33 1247.83 2286.14 1244.29 Q2287.97 1240.72 2287.97 1233.61 Q2287.97 1226.48 2286.14 1222.94 Q2284.33 1219.38 2280.7 1219.38 M2280.7 1215.67 Q2286.51 1215.67 2289.57 1220.28 Q2292.64 1224.86 2292.64 1233.61 Q2292.64 1242.34 2289.57 1246.95 Q2286.51 1251.53 2280.7 1251.53 Q2274.89 1251.53 2271.81 1246.95 Q2268.76 1242.34 2268.76 1233.61 Q2268.76 1224.86 2271.81 1220.28 Q2274.89 1215.67 2280.7 1215.67 Z\" fill=\"#000000\" fill-rule=\"evenodd\" fill-opacity=\"1\" /><path clip-path=\"url(#clip230)\" d=\"M2300.86 1244.98 L2305.75 1244.98 L2305.75 1250.86 L2300.86 1250.86 L2300.86 1244.98 Z\" fill=\"#000000\" fill-rule=\"evenodd\" fill-opacity=\"1\" /><path clip-path=\"url(#clip230)\" d=\"M2325.93 1219.38 Q2322.32 1219.38 2320.49 1222.94 Q2318.69 1226.48 2318.69 1233.61 Q2318.69 1240.72 2320.49 1244.29 Q2322.32 1247.83 2325.93 1247.83 Q2329.57 1247.83 2331.37 1244.29 Q2333.2 1240.72 2333.2 1233.61 Q2333.2 1226.48 2331.37 1222.94 Q2329.57 1219.38 2325.93 1219.38 M2325.93 1215.67 Q2331.74 1215.67 2334.8 1220.28 Q2337.88 1224.86 2337.88 1233.61 Q2337.88 1242.34 2334.8 1246.95 Q2331.74 1251.53 2325.93 1251.53 Q2320.12 1251.53 2317.04 1246.95 Q2313.99 1242.34 2313.99 1233.61 Q2313.99 1224.86 2317.04 1220.28 Q2320.12 1215.67 2325.93 1215.67 Z\" fill=\"#000000\" fill-rule=\"evenodd\" fill-opacity=\"1\" /><path clip-path=\"url(#clip230)\" d=\"M2346.23 1250.14 L2346.23 1245.88 Q2347.99 1246.72 2349.8 1247.16 Q2351.6 1247.6 2353.34 1247.6 Q2357.97 1247.6 2360.4 1244.49 Q2362.85 1241.37 2363.2 1235.03 Q2361.86 1237.02 2359.8 1238.08 Q2357.74 1239.15 2355.24 1239.15 Q2350.05 1239.15 2347.02 1236.02 Q2344.01 1232.87 2344.01 1227.43 Q2344.01 1222.11 2347.16 1218.89 Q2350.31 1215.67 2355.54 1215.67 Q2361.53 1215.67 2364.68 1220.28 Q2367.85 1224.86 2367.85 1233.61 Q2367.85 1241.79 2363.96 1246.67 Q2360.1 1251.53 2353.55 1251.53 Q2351.79 1251.53 2349.98 1251.18 Q2348.18 1250.84 2346.23 1250.14 M2355.54 1235.49 Q2358.69 1235.49 2360.51 1233.34 Q2362.37 1231.18 2362.37 1227.43 Q2362.37 1223.71 2360.51 1221.55 Q2358.69 1219.38 2355.54 1219.38 Q2352.39 1219.38 2350.54 1221.55 Q2348.71 1223.71 2348.71 1227.43 Q2348.71 1231.18 2350.54 1233.34 Q2352.39 1235.49 2355.54 1235.49 Z\" fill=\"#000000\" fill-rule=\"evenodd\" fill-opacity=\"1\" /><path clip-path=\"url(#clip230)\" d=\"M2280.7 1025.95 Q2277.09 1025.95 2275.26 1029.52 Q2273.45 1033.06 2273.45 1040.19 Q2273.45 1047.3 2275.26 1050.86 Q2277.09 1054.4 2280.7 1054.4 Q2284.33 1054.4 2286.14 1050.86 Q2287.97 1047.3 2287.97 1040.19 Q2287.97 1033.06 2286.14 1029.52 Q2284.33 1025.95 2280.7 1025.95 M2280.7 1022.25 Q2286.51 1022.25 2289.57 1026.86 Q2292.64 1031.44 2292.64 1040.19 Q2292.64 1048.92 2289.57 1053.52 Q2286.51 1058.11 2280.7 1058.11 Q2274.89 1058.11 2271.81 1053.52 Q2268.76 1048.92 2268.76 1040.19 Q2268.76 1031.44 2271.81 1026.86 Q2274.89 1022.25 2280.7 1022.25 Z\" fill=\"#000000\" fill-rule=\"evenodd\" fill-opacity=\"1\" /><path clip-path=\"url(#clip230)\" d=\"M2300.86 1051.55 L2305.75 1051.55 L2305.75 1057.43 L2300.86 1057.43 L2300.86 1051.55 Z\" fill=\"#000000\" fill-rule=\"evenodd\" fill-opacity=\"1\" /><path clip-path=\"url(#clip230)\" d=\"M2316.74 1053.5 L2324.38 1053.5 L2324.38 1027.13 L2316.07 1028.8 L2316.07 1024.54 L2324.33 1022.87 L2329.01 1022.87 L2329.01 1053.5 L2336.65 1053.5 L2336.65 1057.43 L2316.74 1057.43 L2316.74 1053.5 Z\" fill=\"#000000\" fill-rule=\"evenodd\" fill-opacity=\"1\" /><path clip-path=\"url(#clip230)\" d=\"M2356.09 1025.95 Q2352.48 1025.95 2350.65 1029.52 Q2348.85 1033.06 2348.85 1040.19 Q2348.85 1047.3 2350.65 1050.86 Q2352.48 1054.4 2356.09 1054.4 Q2359.73 1054.4 2361.53 1050.86 Q2363.36 1047.3 2363.36 1040.19 Q2363.36 1033.06 2361.53 1029.52 Q2359.73 1025.95 2356.09 1025.95 M2356.09 1022.25 Q2361.9 1022.25 2364.96 1026.86 Q2368.04 1031.44 2368.04 1040.19 Q2368.04 1048.92 2364.96 1053.52 Q2361.9 1058.11 2356.09 1058.11 Q2350.28 1058.11 2347.2 1053.52 Q2344.15 1048.92 2344.15 1040.19 Q2344.15 1031.44 2347.2 1026.86 Q2350.28 1022.25 2356.09 1022.25 Z\" fill=\"#000000\" fill-rule=\"evenodd\" fill-opacity=\"1\" /><path clip-path=\"url(#clip230)\" d=\"M2280.7 832.528 Q2277.09 832.528 2275.26 836.093 Q2273.45 839.635 2273.45 846.764 Q2273.45 853.871 2275.26 857.436 Q2277.09 860.977 2280.7 860.977 Q2284.33 860.977 2286.14 857.436 Q2287.97 853.871 2287.97 846.764 Q2287.97 839.635 2286.14 836.093 Q2284.33 832.528 2280.7 832.528 M2280.7 828.825 Q2286.51 828.825 2289.57 833.431 Q2292.64 838.014 2292.64 846.764 Q2292.64 855.491 2289.57 860.098 Q2286.51 864.681 2280.7 864.681 Q2274.89 864.681 2271.81 860.098 Q2268.76 855.491 2268.76 846.764 Q2268.76 838.014 2271.81 833.431 Q2274.89 828.825 2280.7 828.825 Z\" fill=\"#000000\" fill-rule=\"evenodd\" fill-opacity=\"1\" /><path clip-path=\"url(#clip230)\" d=\"M2300.86 858.13 L2305.75 858.13 L2305.75 864.01 L2300.86 864.01 L2300.86 858.13 Z\" fill=\"#000000\" fill-rule=\"evenodd\" fill-opacity=\"1\" /><path clip-path=\"url(#clip230)\" d=\"M2316.74 860.075 L2324.38 860.075 L2324.38 833.709 L2316.07 835.376 L2316.07 831.116 L2324.33 829.45 L2329.01 829.45 L2329.01 860.075 L2336.65 860.075 L2336.65 864.01 L2316.74 864.01 L2316.74 860.075 Z\" fill=\"#000000\" fill-rule=\"evenodd\" fill-opacity=\"1\" /><path clip-path=\"url(#clip230)\" d=\"M2346.9 860.075 L2354.54 860.075 L2354.54 833.709 L2346.23 835.376 L2346.23 831.116 L2354.5 829.45 L2359.17 829.45 L2359.17 860.075 L2366.81 860.075 L2366.81 864.01 L2346.9 864.01 L2346.9 860.075 Z\" fill=\"#000000\" fill-rule=\"evenodd\" fill-opacity=\"1\" /><path clip-path=\"url(#clip230)\" d=\"M2280.7 639.104 Q2277.09 639.104 2275.26 642.668 Q2273.45 646.21 2273.45 653.34 Q2273.45 660.446 2275.26 664.011 Q2277.09 667.553 2280.7 667.553 Q2284.33 667.553 2286.14 664.011 Q2287.97 660.446 2287.97 653.34 Q2287.97 646.21 2286.14 642.668 Q2284.33 639.104 2280.7 639.104 M2280.7 635.4 Q2286.51 635.4 2289.57 640.006 Q2292.64 644.59 2292.64 653.34 Q2292.64 662.067 2289.57 666.673 Q2286.51 671.256 2280.7 671.256 Q2274.89 671.256 2271.81 666.673 Q2268.76 662.067 2268.76 653.34 Q2268.76 644.59 2271.81 640.006 Q2274.89 635.4 2280.7 635.4 Z\" fill=\"#000000\" fill-rule=\"evenodd\" fill-opacity=\"1\" /><path clip-path=\"url(#clip230)\" d=\"M2300.86 664.705 L2305.75 664.705 L2305.75 670.585 L2300.86 670.585 L2300.86 664.705 Z\" fill=\"#000000\" fill-rule=\"evenodd\" fill-opacity=\"1\" /><path clip-path=\"url(#clip230)\" d=\"M2316.74 666.65 L2324.38 666.65 L2324.38 640.284 L2316.07 641.951 L2316.07 637.692 L2324.33 636.025 L2329.01 636.025 L2329.01 666.65 L2336.65 666.65 L2336.65 670.585 L2316.74 670.585 L2316.74 666.65 Z\" fill=\"#000000\" fill-rule=\"evenodd\" fill-opacity=\"1\" /><path clip-path=\"url(#clip230)\" d=\"M2350.12 666.65 L2366.44 666.65 L2366.44 670.585 L2344.5 670.585 L2344.5 666.65 Q2347.16 663.895 2351.74 659.266 Q2356.35 654.613 2357.53 653.27 Q2359.77 650.747 2360.65 649.011 Q2361.56 647.252 2361.56 645.562 Q2361.56 642.807 2359.61 641.071 Q2357.69 639.335 2354.59 639.335 Q2352.39 639.335 2349.94 640.099 Q2347.51 640.863 2344.73 642.414 L2344.73 637.692 Q2347.55 636.557 2350.01 635.979 Q2352.46 635.4 2354.5 635.4 Q2359.87 635.4 2363.06 638.085 Q2366.26 640.77 2366.26 645.261 Q2366.26 647.391 2365.45 649.312 Q2364.66 651.21 2362.55 653.803 Q2361.97 654.474 2358.87 657.692 Q2355.77 660.886 2350.12 666.65 Z\" fill=\"#000000\" fill-rule=\"evenodd\" fill-opacity=\"1\" /><path clip-path=\"url(#clip230)\" d=\"M2280.7 445.679 Q2277.09 445.679 2275.26 449.244 Q2273.45 452.785 2273.45 459.915 Q2273.45 467.021 2275.26 470.586 Q2277.09 474.128 2280.7 474.128 Q2284.33 474.128 2286.14 470.586 Q2287.97 467.021 2287.97 459.915 Q2287.97 452.785 2286.14 449.244 Q2284.33 445.679 2280.7 445.679 M2280.7 441.975 Q2286.51 441.975 2289.57 446.582 Q2292.64 451.165 2292.64 459.915 Q2292.64 468.642 2289.57 473.248 Q2286.51 477.832 2280.7 477.832 Q2274.89 477.832 2271.81 473.248 Q2268.76 468.642 2268.76 459.915 Q2268.76 451.165 2271.81 446.582 Q2274.89 441.975 2280.7 441.975 Z\" fill=\"#000000\" fill-rule=\"evenodd\" fill-opacity=\"1\" /><path clip-path=\"url(#clip230)\" d=\"M2300.86 471.281 L2305.75 471.281 L2305.75 477.16 L2300.86 477.16 L2300.86 471.281 Z\" fill=\"#000000\" fill-rule=\"evenodd\" fill-opacity=\"1\" /><path clip-path=\"url(#clip230)\" d=\"M2316.74 473.225 L2324.38 473.225 L2324.38 446.86 L2316.07 448.526 L2316.07 444.267 L2324.33 442.6 L2329.01 442.6 L2329.01 473.225 L2336.65 473.225 L2336.65 477.16 L2316.74 477.16 L2316.74 473.225 Z\" fill=\"#000000\" fill-rule=\"evenodd\" fill-opacity=\"1\" /><path clip-path=\"url(#clip230)\" d=\"M2360.26 458.526 Q2363.62 459.244 2365.49 461.512 Q2367.39 463.781 2367.39 467.114 Q2367.39 472.23 2363.87 475.031 Q2360.35 477.832 2353.87 477.832 Q2351.7 477.832 2349.38 477.392 Q2347.09 476.975 2344.64 476.119 L2344.64 471.605 Q2346.58 472.739 2348.89 473.318 Q2351.21 473.896 2353.73 473.896 Q2358.13 473.896 2360.42 472.16 Q2362.74 470.424 2362.74 467.114 Q2362.74 464.058 2360.58 462.346 Q2358.45 460.609 2354.64 460.609 L2350.61 460.609 L2350.61 456.767 L2354.82 456.767 Q2358.27 456.767 2360.1 455.401 Q2361.93 454.012 2361.93 451.42 Q2361.93 448.758 2360.03 447.346 Q2358.15 445.91 2354.64 445.91 Q2352.71 445.91 2350.51 446.327 Q2348.32 446.744 2345.68 447.623 L2345.68 443.457 Q2348.34 442.716 2350.65 442.346 Q2352.99 441.975 2355.05 441.975 Q2360.38 441.975 2363.48 444.406 Q2366.58 446.813 2366.58 450.934 Q2366.58 453.804 2364.94 455.795 Q2363.29 457.762 2360.26 458.526 Z\" fill=\"#000000\" fill-rule=\"evenodd\" fill-opacity=\"1\" /><path clip-path=\"url(#clip230)\" d=\"M2280.7 252.254 Q2277.09 252.254 2275.26 255.819 Q2273.45 259.361 2273.45 266.49 Q2273.45 273.597 2275.26 277.162 Q2277.09 280.703 2280.7 280.703 Q2284.33 280.703 2286.14 277.162 Q2287.97 273.597 2287.97 266.49 Q2287.97 259.361 2286.14 255.819 Q2284.33 252.254 2280.7 252.254 M2280.7 248.551 Q2286.51 248.551 2289.57 253.157 Q2292.64 257.74 2292.64 266.49 Q2292.64 275.217 2289.57 279.824 Q2286.51 284.407 2280.7 284.407 Q2274.89 284.407 2271.81 279.824 Q2268.76 275.217 2268.76 266.49 Q2268.76 257.74 2271.81 253.157 Q2274.89 248.551 2280.7 248.551 Z\" fill=\"#000000\" fill-rule=\"evenodd\" fill-opacity=\"1\" /><path clip-path=\"url(#clip230)\" d=\"M2300.86 277.856 L2305.75 277.856 L2305.75 283.736 L2300.86 283.736 L2300.86 277.856 Z\" fill=\"#000000\" fill-rule=\"evenodd\" fill-opacity=\"1\" /><path clip-path=\"url(#clip230)\" d=\"M2316.74 279.8 L2324.38 279.8 L2324.38 253.435 L2316.07 255.101 L2316.07 250.842 L2324.33 249.176 L2329.01 249.176 L2329.01 279.8 L2336.65 279.8 L2336.65 283.736 L2316.74 283.736 L2316.74 279.8 Z\" fill=\"#000000\" fill-rule=\"evenodd\" fill-opacity=\"1\" /><path clip-path=\"url(#clip230)\" d=\"M2358.94 253.25 L2347.14 271.699 L2358.94 271.699 L2358.94 253.25 M2357.71 249.176 L2363.59 249.176 L2363.59 271.699 L2368.52 271.699 L2368.52 275.587 L2363.59 275.587 L2363.59 283.736 L2358.94 283.736 L2358.94 275.587 L2343.34 275.587 L2343.34 271.074 L2357.71 249.176 Z\" fill=\"#000000\" fill-rule=\"evenodd\" fill-opacity=\"1\" /><path clip-path=\"url(#clip230)\" d=\"M2280.7 58.8295 Q2277.09 58.8295 2275.26 62.3943 Q2273.45 65.936 2273.45 73.0655 Q2273.45 80.172 2275.26 83.7368 Q2277.09 87.2784 2280.7 87.2784 Q2284.33 87.2784 2286.14 83.7368 Q2287.97 80.172 2287.97 73.0655 Q2287.97 65.936 2286.14 62.3943 Q2284.33 58.8295 2280.7 58.8295 M2280.7 55.1258 Q2286.51 55.1258 2289.57 59.7323 Q2292.64 64.3156 2292.64 73.0655 Q2292.64 81.7923 2289.57 86.3988 Q2286.51 90.9821 2280.7 90.9821 Q2274.89 90.9821 2271.81 86.3988 Q2268.76 81.7923 2268.76 73.0655 Q2268.76 64.3156 2271.81 59.7323 Q2274.89 55.1258 2280.7 55.1258 Z\" fill=\"#000000\" fill-rule=\"evenodd\" fill-opacity=\"1\" /><path clip-path=\"url(#clip230)\" d=\"M2300.86 84.4312 L2305.75 84.4312 L2305.75 90.3108 L2300.86 90.3108 L2300.86 84.4312 Z\" fill=\"#000000\" fill-rule=\"evenodd\" fill-opacity=\"1\" /><path clip-path=\"url(#clip230)\" d=\"M2316.74 86.3757 L2324.38 86.3757 L2324.38 60.0101 L2316.07 61.6767 L2316.07 57.4175 L2324.33 55.7508 L2329.01 55.7508 L2329.01 86.3757 L2336.65 86.3757 L2336.65 90.3108 L2316.74 90.3108 L2316.74 86.3757 Z\" fill=\"#000000\" fill-rule=\"evenodd\" fill-opacity=\"1\" /><path clip-path=\"url(#clip230)\" d=\"M2346.14 55.7508 L2364.5 55.7508 L2364.5 59.686 L2350.42 59.686 L2350.42 68.1582 Q2351.44 67.8109 2352.46 67.6489 Q2353.48 67.4637 2354.5 67.4637 Q2360.28 67.4637 2363.66 70.635 Q2367.04 73.8063 2367.04 79.2229 Q2367.04 84.8016 2363.57 87.9034 Q2360.1 90.9821 2353.78 90.9821 Q2351.6 90.9821 2349.33 90.6117 Q2347.09 90.2414 2344.68 89.5006 L2344.68 84.8016 Q2346.76 85.9358 2348.99 86.4914 Q2351.21 87.0469 2353.69 87.0469 Q2357.69 87.0469 2360.03 84.9405 Q2362.37 82.834 2362.37 79.2229 Q2362.37 75.6118 2360.03 73.5054 Q2357.69 71.3989 2353.69 71.3989 Q2351.81 71.3989 2349.94 71.8155 Q2348.08 72.2322 2346.14 73.1118 L2346.14 55.7508 Z\" fill=\"#000000\" fill-rule=\"evenodd\" fill-opacity=\"1\" /><polyline clip-path=\"url(#clip230)\" style=\"stroke:#000000; stroke-linecap:butt; stroke-linejoin:round; stroke-width:4; stroke-opacity:1; fill:none\" points=\"\n",
       "  2232.76,1423.18 2232.76,1237.21 2256.76,1237.21 2232.76,1237.21 2232.76,1043.78 2256.76,1043.78 2232.76,1043.78 2232.76,850.359 2256.76,850.359 2232.76,850.359 \n",
       "  2232.76,656.934 2256.76,656.934 2232.76,656.934 2232.76,463.509 2256.76,463.509 2232.76,463.509 2232.76,270.084 2256.76,270.084 2232.76,270.084 2232.76,76.6596 \n",
       "  2256.76,76.6596 2232.76,76.6596 2232.76,47.2441 \n",
       "  \"/>\n",
       "</svg>\n"
      ]
     },
     "execution_count": 22,
     "metadata": {},
     "output_type": "execute_result"
    }
   ],
   "source": [
    "plot(vals_b, vals_k, zcolor=loss, seriestype=:scatter, label=\"\")\n",
    "xlabel!(\"Bagging Fraction\")\n",
    "xlabel!(\"Number of Neighbors - K\")"
   ]
  },
  {
   "cell_type": "markdown",
   "metadata": {},
   "source": [
    "Ideal we would make some kind of contourf to visualize this. We should look into making the matplotlib-style `tricontourf` function. "
   ]
  },
  {
   "cell_type": "markdown",
   "metadata": {},
   "source": [
    "Finally, we evaluate the model by reporting the `rms` on the test set."
   ]
  },
  {
   "cell_type": "code",
   "execution_count": 23,
   "metadata": {},
   "outputs": [
    {
     "data": {
      "text/plain": [
       "0.07657211488690698"
      ]
     },
     "execution_count": 23,
     "metadata": {},
     "output_type": "execute_result"
    }
   ],
   "source": [
    "ŷ = predict(tuned_ensemble, rows=test) \n",
    "rms(ŷ, y[test])"
   ]
  },
  {
   "cell_type": "markdown",
   "metadata": {},
   "source": [
    "# Example: Home-made random forest regressor for Boston dataset"
   ]
  },
  {
   "cell_type": "markdown",
   "metadata": {},
   "source": [
    "Load data"
   ]
  },
  {
   "cell_type": "code",
   "execution_count": 25,
   "metadata": {},
   "outputs": [],
   "source": [
    "import DataFrames: describe"
   ]
  },
  {
   "cell_type": "code",
   "execution_count": 26,
   "metadata": {},
   "outputs": [
    {
     "name": "stdout",
     "output_type": "stream",
     "text": [
      "(n, p) = (506, 12)\n",
      "Summary Stats:\n",
      "Length:         506\n",
      "Missing Count:  0\n",
      "Mean:           22.532806\n",
      "Minimum:        5.000000\n",
      "1st Quartile:   17.025000\n",
      "Median:         21.200000\n",
      "3rd Quartile:   25.000000\n",
      "Maximum:        50.000000\n",
      "Type:           Float64\n"
     ]
    }
   ],
   "source": [
    "X, y = @load_boston\n",
    "sch = schema(X)\n",
    "p = length(sch.names)\n",
    "n = sch.nrows\n",
    "@show (n, p)\n",
    "describe(y)  # From DataFrames"
   ]
  },
  {
   "cell_type": "markdown",
   "metadata": {},
   "source": [
    "load the decision tree regressor"
   ]
  },
  {
   "cell_type": "code",
   "execution_count": 27,
   "metadata": {},
   "outputs": [
    {
     "name": "stdout",
     "output_type": "stream",
     "text": [
      "import MLJDecisionTreeInterface ✔\n"
     ]
    },
    {
     "name": "stderr",
     "output_type": "stream",
     "text": [
      "┌ Info: For silent loading, specify `verbosity=0`. \n",
      "└ @ Main /home/john/.julia/packages/MLJModels/GKDnU/src/loading.jl:168\n"
     ]
    },
    {
     "data": {
      "text/plain": [
       "MLJDecisionTreeInterface.DecisionTreeRegressor"
      ]
     },
     "execution_count": 27,
     "metadata": {},
     "output_type": "execute_result"
    }
   ],
   "source": [
    "DecisionTreeRegressor = @load DecisionTreeRegressor pkg=DecisionTree\n"
   ]
  },
  {
   "cell_type": "markdown",
   "metadata": {},
   "source": [
    "Let's check the perforance of a single DTR "
   ]
  },
  {
   "cell_type": "code",
   "execution_count": 29,
   "metadata": {},
   "outputs": [
    {
     "data": {
      "text/plain": [
       "PerformanceEvaluation object with these fields:\n",
       "  measure, measurement, operation, per_fold,\n",
       "  per_observation, fitted_params_per_fold,\n",
       "  report_per_fold, train_test_pairs\n",
       "Extract:\n",
       "┌───────────────────────────────────────────────────┬─────────────┬─────────────\n",
       "│\u001b[22m measure                                           \u001b[0m│\u001b[22m measurement \u001b[0m│\u001b[22m operation \u001b[0m ⋯\n",
       "├───────────────────────────────────────────────────┼─────────────┼─────────────\n",
       "│ RootMeanSquaredError()                            │ 7.06        │ predict    ⋯\n",
       "│ RootMeanSquaredLogProportionalError(offset = 1.0) │ 0.328       │ predict    ⋯\n",
       "└───────────────────────────────────────────────────┴─────────────┴─────────────\n",
       "\u001b[36m                                                                1 column omitted\u001b[0m\n"
      ]
     },
     "execution_count": 29,
     "metadata": {},
     "output_type": "execute_result"
    }
   ],
   "source": [
    "tree = machine(DecisionTreeRegressor(), X, y) \n",
    "e = evaluate!(tree, resampling=Holdout(fraction_train=0.8), measure=[rms, rmslp1])"
   ]
  },
  {
   "cell_type": "markdown",
   "metadata": {},
   "source": [
    "## Random Forest"
   ]
  },
  {
   "cell_type": "markdown",
   "metadata": {},
   "source": [
    "create an ensemble of DTR's and fix the number of subfeatures to 3 for now"
   ]
  },
  {
   "cell_type": "code",
   "execution_count": 30,
   "metadata": {},
   "outputs": [
    {
     "data": {
      "text/plain": [
       "3"
      ]
     },
     "execution_count": 30,
     "metadata": {},
     "output_type": "execute_result"
    }
   ],
   "source": [
    "forest = EnsembleModel(atom=DecisionTreeRegressor())\n",
    "forest.atom.n_subfeatures = 3"
   ]
  },
  {
   "cell_type": "markdown",
   "metadata": {},
   "source": [
    "let's evaluate the number of trees we need via a learning curve"
   ]
  },
  {
   "cell_type": "code",
   "execution_count": 31,
   "metadata": {},
   "outputs": [
    {
     "name": "stderr",
     "output_type": "stream",
     "text": [
      "┌ Info: Training Machine{DeterministicTunedModel{Grid,…},…}.\n",
      "└ @ MLJBase /home/john/.julia/packages/MLJBase/QXObv/src/machines.jl:403\n",
      "┌ Info: Attempting to evaluate 30 models.\n",
      "└ @ MLJTuning /home/john/.julia/packages/MLJTuning/bjRHJ/src/tuned_models.jl:680\n",
      "\u001b[33mEvaluating over 30 metamodels: 100%[=========================] Time: 0:00:25\u001b[39m\n"
     ]
    }
   ],
   "source": [
    "rng = StableRNG(42) \n",
    "m = machine(forest, X, y) \n",
    "\n",
    "r = range(forest, :n, lower=10, upper=1000) \n",
    "\n",
    "\n",
    "curves = learning_curve!(m, resampling=Holdout(fraction_train=0.8, rng=rng),\n",
    "                         range=r, measure=rms);"
   ]
  },
  {
   "cell_type": "code",
   "execution_count": 33,
   "metadata": {},
   "outputs": [
    {
     "data": {
      "image/svg+xml": [
       "<?xml version=\"1.0\" encoding=\"utf-8\"?>\n",
       "<svg xmlns=\"http://www.w3.org/2000/svg\" xmlns:xlink=\"http://www.w3.org/1999/xlink\" width=\"600\" height=\"400\" viewBox=\"0 0 2400 1600\">\n",
       "<defs>\n",
       "  <clipPath id=\"clip310\">\n",
       "    <rect x=\"0\" y=\"0\" width=\"2400\" height=\"1600\"/>\n",
       "  </clipPath>\n",
       "</defs>\n",
       "<path clip-path=\"url(#clip310)\" d=\"\n",
       "M0 1600 L2400 1600 L2400 0 L0 0  Z\n",
       "  \" fill=\"#ffffff\" fill-rule=\"evenodd\" fill-opacity=\"1\"/>\n",
       "<defs>\n",
       "  <clipPath id=\"clip311\">\n",
       "    <rect x=\"480\" y=\"0\" width=\"1681\" height=\"1600\"/>\n",
       "  </clipPath>\n",
       "</defs>\n",
       "<path clip-path=\"url(#clip310)\" d=\"\n",
       "M249.056 1423.18 L2352.76 1423.18 L2352.76 47.2441 L249.056 47.2441  Z\n",
       "  \" fill=\"#ffffff\" fill-rule=\"evenodd\" fill-opacity=\"1\"/>\n",
       "<defs>\n",
       "  <clipPath id=\"clip312\">\n",
       "    <rect x=\"249\" y=\"47\" width=\"2105\" height=\"1377\"/>\n",
       "  </clipPath>\n",
       "</defs>\n",
       "<polyline clip-path=\"url(#clip312)\" style=\"stroke:#000000; stroke-linecap:butt; stroke-linejoin:round; stroke-width:2; stroke-opacity:0.1; fill:none\" points=\"\n",
       "  288.548,1423.18 288.548,47.2441 \n",
       "  \"/>\n",
       "<polyline clip-path=\"url(#clip312)\" style=\"stroke:#000000; stroke-linecap:butt; stroke-linejoin:round; stroke-width:2; stroke-opacity:0.1; fill:none\" points=\"\n",
       "  789.715,1423.18 789.715,47.2441 \n",
       "  \"/>\n",
       "<polyline clip-path=\"url(#clip312)\" style=\"stroke:#000000; stroke-linecap:butt; stroke-linejoin:round; stroke-width:2; stroke-opacity:0.1; fill:none\" points=\"\n",
       "  1290.88,1423.18 1290.88,47.2441 \n",
       "  \"/>\n",
       "<polyline clip-path=\"url(#clip312)\" style=\"stroke:#000000; stroke-linecap:butt; stroke-linejoin:round; stroke-width:2; stroke-opacity:0.1; fill:none\" points=\"\n",
       "  1792.05,1423.18 1792.05,47.2441 \n",
       "  \"/>\n",
       "<polyline clip-path=\"url(#clip312)\" style=\"stroke:#000000; stroke-linecap:butt; stroke-linejoin:round; stroke-width:2; stroke-opacity:0.1; fill:none\" points=\"\n",
       "  2293.22,1423.18 2293.22,47.2441 \n",
       "  \"/>\n",
       "<polyline clip-path=\"url(#clip310)\" style=\"stroke:#000000; stroke-linecap:butt; stroke-linejoin:round; stroke-width:4; stroke-opacity:1; fill:none\" points=\"\n",
       "  249.056,1423.18 2352.76,1423.18 \n",
       "  \"/>\n",
       "<polyline clip-path=\"url(#clip310)\" style=\"stroke:#000000; stroke-linecap:butt; stroke-linejoin:round; stroke-width:4; stroke-opacity:1; fill:none\" points=\"\n",
       "  288.548,1423.18 288.548,1404.28 \n",
       "  \"/>\n",
       "<polyline clip-path=\"url(#clip310)\" style=\"stroke:#000000; stroke-linecap:butt; stroke-linejoin:round; stroke-width:4; stroke-opacity:1; fill:none\" points=\"\n",
       "  789.715,1423.18 789.715,1404.28 \n",
       "  \"/>\n",
       "<polyline clip-path=\"url(#clip310)\" style=\"stroke:#000000; stroke-linecap:butt; stroke-linejoin:round; stroke-width:4; stroke-opacity:1; fill:none\" points=\"\n",
       "  1290.88,1423.18 1290.88,1404.28 \n",
       "  \"/>\n",
       "<polyline clip-path=\"url(#clip310)\" style=\"stroke:#000000; stroke-linecap:butt; stroke-linejoin:round; stroke-width:4; stroke-opacity:1; fill:none\" points=\"\n",
       "  1792.05,1423.18 1792.05,1404.28 \n",
       "  \"/>\n",
       "<polyline clip-path=\"url(#clip310)\" style=\"stroke:#000000; stroke-linecap:butt; stroke-linejoin:round; stroke-width:4; stroke-opacity:1; fill:none\" points=\"\n",
       "  2293.22,1423.18 2293.22,1404.28 \n",
       "  \"/>\n",
       "<path clip-path=\"url(#clip310)\" d=\"M288.548 1454.1 Q284.937 1454.1 283.108 1457.66 Q281.303 1461.2 281.303 1468.33 Q281.303 1475.44 283.108 1479.01 Q284.937 1482.55 288.548 1482.55 Q292.182 1482.55 293.988 1479.01 Q295.816 1475.44 295.816 1468.33 Q295.816 1461.2 293.988 1457.66 Q292.182 1454.1 288.548 1454.1 M288.548 1450.39 Q294.358 1450.39 297.414 1455 Q300.492 1459.58 300.492 1468.33 Q300.492 1477.06 297.414 1481.67 Q294.358 1486.25 288.548 1486.25 Q282.738 1486.25 279.659 1481.67 Q276.604 1477.06 276.604 1468.33 Q276.604 1459.58 279.659 1455 Q282.738 1450.39 288.548 1450.39 Z\" fill=\"#000000\" fill-rule=\"evenodd\" fill-opacity=\"1\" /><path clip-path=\"url(#clip310)\" d=\"M753.408 1481.64 L769.727 1481.64 L769.727 1485.58 L747.783 1485.58 L747.783 1481.64 Q750.445 1478.89 755.028 1474.26 Q759.634 1469.61 760.815 1468.27 Q763.06 1465.74 763.94 1464.01 Q764.843 1462.25 764.843 1460.56 Q764.843 1457.8 762.898 1456.07 Q760.977 1454.33 757.875 1454.33 Q755.676 1454.33 753.222 1455.09 Q750.792 1455.86 748.014 1457.41 L748.014 1452.69 Q750.838 1451.55 753.292 1450.97 Q755.746 1450.39 757.783 1450.39 Q763.153 1450.39 766.347 1453.08 Q769.542 1455.77 769.542 1460.26 Q769.542 1462.39 768.732 1464.31 Q767.945 1466.2 765.838 1468.8 Q765.259 1469.47 762.158 1472.69 Q759.056 1475.88 753.408 1481.64 Z\" fill=\"#000000\" fill-rule=\"evenodd\" fill-opacity=\"1\" /><path clip-path=\"url(#clip310)\" d=\"M779.588 1451.02 L797.944 1451.02 L797.944 1454.96 L783.87 1454.96 L783.87 1463.43 Q784.889 1463.08 785.907 1462.92 Q786.926 1462.73 787.944 1462.73 Q793.731 1462.73 797.111 1465.9 Q800.491 1469.08 800.491 1474.49 Q800.491 1480.07 797.018 1483.17 Q793.546 1486.25 787.227 1486.25 Q785.051 1486.25 782.782 1485.88 Q780.537 1485.51 778.13 1484.77 L778.13 1480.07 Q780.213 1481.2 782.435 1481.76 Q784.657 1482.32 787.134 1482.32 Q791.139 1482.32 793.477 1480.21 Q795.815 1478.1 795.815 1474.49 Q795.815 1470.88 793.477 1468.77 Q791.139 1466.67 787.134 1466.67 Q785.259 1466.67 783.384 1467.08 Q781.532 1467.5 779.588 1468.38 L779.588 1451.02 Z\" fill=\"#000000\" fill-rule=\"evenodd\" fill-opacity=\"1\" /><path clip-path=\"url(#clip310)\" d=\"M819.704 1454.1 Q816.092 1454.1 814.264 1457.66 Q812.458 1461.2 812.458 1468.33 Q812.458 1475.44 814.264 1479.01 Q816.092 1482.55 819.704 1482.55 Q823.338 1482.55 825.143 1479.01 Q826.972 1475.44 826.972 1468.33 Q826.972 1461.2 825.143 1457.66 Q823.338 1454.1 819.704 1454.1 M819.704 1450.39 Q825.514 1450.39 828.569 1455 Q831.648 1459.58 831.648 1468.33 Q831.648 1477.06 828.569 1481.67 Q825.514 1486.25 819.704 1486.25 Q813.893 1486.25 810.815 1481.67 Q807.759 1477.06 807.759 1468.33 Q807.759 1459.58 810.815 1455 Q813.893 1450.39 819.704 1450.39 Z\" fill=\"#000000\" fill-rule=\"evenodd\" fill-opacity=\"1\" /><path clip-path=\"url(#clip310)\" d=\"M1250.5 1451.02 L1268.86 1451.02 L1268.86 1454.96 L1254.78 1454.96 L1254.78 1463.43 Q1255.8 1463.08 1256.82 1462.92 Q1257.84 1462.73 1258.86 1462.73 Q1264.64 1462.73 1268.02 1465.9 Q1271.4 1469.08 1271.4 1474.49 Q1271.4 1480.07 1267.93 1483.17 Q1264.46 1486.25 1258.14 1486.25 Q1255.96 1486.25 1253.7 1485.88 Q1251.45 1485.51 1249.04 1484.77 L1249.04 1480.07 Q1251.13 1481.2 1253.35 1481.76 Q1255.57 1482.32 1258.05 1482.32 Q1262.05 1482.32 1264.39 1480.21 Q1266.73 1478.1 1266.73 1474.49 Q1266.73 1470.88 1264.39 1468.77 Q1262.05 1466.67 1258.05 1466.67 Q1256.17 1466.67 1254.3 1467.08 Q1252.45 1467.5 1250.5 1468.38 L1250.5 1451.02 Z\" fill=\"#000000\" fill-rule=\"evenodd\" fill-opacity=\"1\" /><path clip-path=\"url(#clip310)\" d=\"M1290.62 1454.1 Q1287.01 1454.1 1285.18 1457.66 Q1283.37 1461.2 1283.37 1468.33 Q1283.37 1475.44 1285.18 1479.01 Q1287.01 1482.55 1290.62 1482.55 Q1294.25 1482.55 1296.06 1479.01 Q1297.88 1475.44 1297.88 1468.33 Q1297.88 1461.2 1296.06 1457.66 Q1294.25 1454.1 1290.62 1454.1 M1290.62 1450.39 Q1296.43 1450.39 1299.48 1455 Q1302.56 1459.58 1302.56 1468.33 Q1302.56 1477.06 1299.48 1481.67 Q1296.43 1486.25 1290.62 1486.25 Q1284.81 1486.25 1281.73 1481.67 Q1278.67 1477.06 1278.67 1468.33 Q1278.67 1459.58 1281.73 1455 Q1284.81 1450.39 1290.62 1450.39 Z\" fill=\"#000000\" fill-rule=\"evenodd\" fill-opacity=\"1\" /><path clip-path=\"url(#clip310)\" d=\"M1320.78 1454.1 Q1317.17 1454.1 1315.34 1457.66 Q1313.53 1461.2 1313.53 1468.33 Q1313.53 1475.44 1315.34 1479.01 Q1317.17 1482.55 1320.78 1482.55 Q1324.41 1482.55 1326.22 1479.01 Q1328.05 1475.44 1328.05 1468.33 Q1328.05 1461.2 1326.22 1457.66 Q1324.41 1454.1 1320.78 1454.1 M1320.78 1450.39 Q1326.59 1450.39 1329.64 1455 Q1332.72 1459.58 1332.72 1468.33 Q1332.72 1477.06 1329.64 1481.67 Q1326.59 1486.25 1320.78 1486.25 Q1314.97 1486.25 1311.89 1481.67 Q1308.83 1477.06 1308.83 1468.33 Q1308.83 1459.58 1311.89 1455 Q1314.97 1450.39 1320.78 1450.39 Z\" fill=\"#000000\" fill-rule=\"evenodd\" fill-opacity=\"1\" /><path clip-path=\"url(#clip310)\" d=\"M1750.33 1451.02 L1772.55 1451.02 L1772.55 1453.01 L1760 1485.58 L1755.12 1485.58 L1766.92 1454.96 L1750.33 1454.96 L1750.33 1451.02 Z\" fill=\"#000000\" fill-rule=\"evenodd\" fill-opacity=\"1\" /><path clip-path=\"url(#clip310)\" d=\"M1781.71 1451.02 L1800.07 1451.02 L1800.07 1454.96 L1786 1454.96 L1786 1463.43 Q1787.02 1463.08 1788.03 1462.92 Q1789.05 1462.73 1790.07 1462.73 Q1795.86 1462.73 1799.24 1465.9 Q1802.62 1469.08 1802.62 1474.49 Q1802.62 1480.07 1799.14 1483.17 Q1795.67 1486.25 1789.35 1486.25 Q1787.18 1486.25 1784.91 1485.88 Q1782.66 1485.51 1780.26 1484.77 L1780.26 1480.07 Q1782.34 1481.2 1784.56 1481.76 Q1786.78 1482.32 1789.26 1482.32 Q1793.27 1482.32 1795.6 1480.21 Q1797.94 1478.1 1797.94 1474.49 Q1797.94 1470.88 1795.6 1468.77 Q1793.27 1466.67 1789.26 1466.67 Q1787.39 1466.67 1785.51 1467.08 Q1783.66 1467.5 1781.71 1468.38 L1781.71 1451.02 Z\" fill=\"#000000\" fill-rule=\"evenodd\" fill-opacity=\"1\" /><path clip-path=\"url(#clip310)\" d=\"M1821.83 1454.1 Q1818.22 1454.1 1816.39 1457.66 Q1814.58 1461.2 1814.58 1468.33 Q1814.58 1475.44 1816.39 1479.01 Q1818.22 1482.55 1821.83 1482.55 Q1825.46 1482.55 1827.27 1479.01 Q1829.1 1475.44 1829.1 1468.33 Q1829.1 1461.2 1827.27 1457.66 Q1825.46 1454.1 1821.83 1454.1 M1821.83 1450.39 Q1827.64 1450.39 1830.7 1455 Q1833.77 1459.58 1833.77 1468.33 Q1833.77 1477.06 1830.7 1481.67 Q1827.64 1486.25 1821.83 1486.25 Q1816.02 1486.25 1812.94 1481.67 Q1809.89 1477.06 1809.89 1468.33 Q1809.89 1459.58 1812.94 1455 Q1816.02 1450.39 1821.83 1450.39 Z\" fill=\"#000000\" fill-rule=\"evenodd\" fill-opacity=\"1\" /><path clip-path=\"url(#clip310)\" d=\"M2237.74 1481.64 L2245.38 1481.64 L2245.38 1455.28 L2237.07 1456.95 L2237.07 1452.69 L2245.34 1451.02 L2250.01 1451.02 L2250.01 1481.64 L2257.65 1481.64 L2257.65 1485.58 L2237.74 1485.58 L2237.74 1481.64 Z\" fill=\"#000000\" fill-rule=\"evenodd\" fill-opacity=\"1\" /><path clip-path=\"url(#clip310)\" d=\"M2277.09 1454.1 Q2273.48 1454.1 2271.65 1457.66 Q2269.85 1461.2 2269.85 1468.33 Q2269.85 1475.44 2271.65 1479.01 Q2273.48 1482.55 2277.09 1482.55 Q2280.73 1482.55 2282.53 1479.01 Q2284.36 1475.44 2284.36 1468.33 Q2284.36 1461.2 2282.53 1457.66 Q2280.73 1454.1 2277.09 1454.1 M2277.09 1450.39 Q2282.9 1450.39 2285.96 1455 Q2289.04 1459.58 2289.04 1468.33 Q2289.04 1477.06 2285.96 1481.67 Q2282.9 1486.25 2277.09 1486.25 Q2271.28 1486.25 2268.21 1481.67 Q2265.15 1477.06 2265.15 1468.33 Q2265.15 1459.58 2268.21 1455 Q2271.28 1450.39 2277.09 1450.39 Z\" fill=\"#000000\" fill-rule=\"evenodd\" fill-opacity=\"1\" /><path clip-path=\"url(#clip310)\" d=\"M2307.26 1454.1 Q2303.65 1454.1 2301.82 1457.66 Q2300.01 1461.2 2300.01 1468.33 Q2300.01 1475.44 2301.82 1479.01 Q2303.65 1482.55 2307.26 1482.55 Q2310.89 1482.55 2312.7 1479.01 Q2314.52 1475.44 2314.52 1468.33 Q2314.52 1461.2 2312.7 1457.66 Q2310.89 1454.1 2307.26 1454.1 M2307.26 1450.39 Q2313.07 1450.39 2316.12 1455 Q2319.2 1459.58 2319.2 1468.33 Q2319.2 1477.06 2316.12 1481.67 Q2313.07 1486.25 2307.26 1486.25 Q2301.45 1486.25 2298.37 1481.67 Q2295.31 1477.06 2295.31 1468.33 Q2295.31 1459.58 2298.37 1455 Q2301.45 1450.39 2307.26 1450.39 Z\" fill=\"#000000\" fill-rule=\"evenodd\" fill-opacity=\"1\" /><path clip-path=\"url(#clip310)\" d=\"M2337.42 1454.1 Q2333.81 1454.1 2331.98 1457.66 Q2330.17 1461.2 2330.17 1468.33 Q2330.17 1475.44 2331.98 1479.01 Q2333.81 1482.55 2337.42 1482.55 Q2341.05 1482.55 2342.86 1479.01 Q2344.69 1475.44 2344.69 1468.33 Q2344.69 1461.2 2342.86 1457.66 Q2341.05 1454.1 2337.42 1454.1 M2337.42 1450.39 Q2343.23 1450.39 2346.28 1455 Q2349.36 1459.58 2349.36 1468.33 Q2349.36 1477.06 2346.28 1481.67 Q2343.23 1486.25 2337.42 1486.25 Q2331.61 1486.25 2328.53 1481.67 Q2325.47 1477.06 2325.47 1468.33 Q2325.47 1459.58 2328.53 1455 Q2331.61 1450.39 2337.42 1450.39 Z\" fill=\"#000000\" fill-rule=\"evenodd\" fill-opacity=\"1\" /><path clip-path=\"url(#clip310)\" d=\"M1040.09 1520.52 L1048.74 1520.52 L1069.81 1560.28 L1069.81 1520.52 L1076.05 1520.52 L1076.05 1568.04 L1067.4 1568.04 L1046.33 1528.29 L1046.33 1568.04 L1040.09 1568.04 L1040.09 1520.52 Z\" fill=\"#000000\" fill-rule=\"evenodd\" fill-opacity=\"1\" /><path clip-path=\"url(#clip310)\" d=\"M1087.99 1553.98 L1087.99 1532.4 L1093.85 1532.4 L1093.85 1553.75 Q1093.85 1558.81 1095.82 1561.36 Q1097.79 1563.87 1101.74 1563.87 Q1106.48 1563.87 1109.22 1560.85 Q1111.99 1557.83 1111.99 1552.61 L1111.99 1532.4 L1117.84 1532.4 L1117.84 1568.04 L1111.99 1568.04 L1111.99 1562.57 Q1109.86 1565.82 1107.02 1567.41 Q1104.22 1568.97 1100.5 1568.97 Q1094.35 1568.97 1091.17 1565.15 Q1087.99 1561.33 1087.99 1553.98 M1102.73 1531.54 L1102.73 1531.54 Z\" fill=\"#000000\" fill-rule=\"evenodd\" fill-opacity=\"1\" /><path clip-path=\"url(#clip310)\" d=\"M1157.66 1539.24 Q1159.86 1535.29 1162.91 1533.41 Q1165.97 1531.54 1170.11 1531.54 Q1175.68 1531.54 1178.7 1535.45 Q1181.72 1539.33 1181.72 1546.53 L1181.72 1568.04 L1175.84 1568.04 L1175.84 1546.72 Q1175.84 1541.59 1174.02 1539.11 Q1172.21 1536.63 1168.48 1536.63 Q1163.93 1536.63 1161.29 1539.65 Q1158.65 1542.68 1158.65 1547.9 L1158.65 1568.04 L1152.76 1568.04 L1152.76 1546.72 Q1152.76 1541.56 1150.95 1539.11 Q1149.13 1536.63 1145.34 1536.63 Q1140.86 1536.63 1138.21 1539.68 Q1135.57 1542.71 1135.57 1547.9 L1135.57 1568.04 L1129.68 1568.04 L1129.68 1532.4 L1135.57 1532.4 L1135.57 1537.93 Q1137.58 1534.66 1140.38 1533.1 Q1143.18 1531.54 1147.03 1531.54 Q1150.91 1531.54 1153.62 1533.51 Q1156.36 1535.48 1157.66 1539.24 Z\" fill=\"#000000\" fill-rule=\"evenodd\" fill-opacity=\"1\" /><path clip-path=\"url(#clip310)\" d=\"M1219 1550.25 Q1219 1543.79 1216.32 1540.13 Q1213.68 1536.44 1209.03 1536.44 Q1204.39 1536.44 1201.71 1540.13 Q1199.07 1543.79 1199.07 1550.25 Q1199.07 1556.71 1201.71 1560.4 Q1204.39 1564.07 1209.03 1564.07 Q1213.68 1564.07 1216.32 1560.4 Q1219 1556.71 1219 1550.25 M1199.07 1537.81 Q1200.92 1534.62 1203.72 1533.1 Q1206.55 1531.54 1210.47 1531.54 Q1216.96 1531.54 1221 1536.69 Q1225.07 1541.85 1225.07 1550.25 Q1225.07 1558.65 1221 1563.81 Q1216.96 1568.97 1210.47 1568.97 Q1206.55 1568.97 1203.72 1567.44 Q1200.92 1565.88 1199.07 1562.7 L1199.07 1568.04 L1193.18 1568.04 L1193.18 1518.52 L1199.07 1518.52 L1199.07 1537.81 Z\" fill=\"#000000\" fill-rule=\"evenodd\" fill-opacity=\"1\" /><path clip-path=\"url(#clip310)\" d=\"M1265.27 1548.76 L1265.27 1551.62 L1238.35 1551.62 Q1238.73 1557.67 1241.98 1560.85 Q1245.25 1564 1251.08 1564 Q1254.45 1564 1257.6 1563.17 Q1260.79 1562.35 1263.91 1560.69 L1263.91 1566.23 Q1260.75 1567.57 1257.44 1568.27 Q1254.13 1568.97 1250.73 1568.97 Q1242.2 1568.97 1237.2 1564 Q1232.24 1559.04 1232.24 1550.57 Q1232.24 1541.82 1236.95 1536.69 Q1241.69 1531.54 1249.71 1531.54 Q1256.9 1531.54 1261.07 1536.18 Q1265.27 1540.8 1265.27 1548.76 M1259.42 1547.04 Q1259.35 1542.23 1256.71 1539.37 Q1254.1 1536.5 1249.77 1536.5 Q1244.87 1536.5 1241.91 1539.27 Q1238.98 1542.04 1238.54 1547.07 L1259.42 1547.04 Z\" fill=\"#000000\" fill-rule=\"evenodd\" fill-opacity=\"1\" /><path clip-path=\"url(#clip310)\" d=\"M1295.54 1537.87 Q1294.56 1537.3 1293.38 1537.04 Q1292.23 1536.76 1290.83 1536.76 Q1285.87 1536.76 1283.19 1540 Q1280.55 1543.22 1280.55 1549.27 L1280.55 1568.04 L1274.66 1568.04 L1274.66 1532.4 L1280.55 1532.4 L1280.55 1537.93 Q1282.4 1534.69 1285.36 1533.13 Q1288.32 1531.54 1292.55 1531.54 Q1293.16 1531.54 1293.89 1531.63 Q1294.62 1531.7 1295.51 1531.85 L1295.54 1537.87 Z\" fill=\"#000000\" fill-rule=\"evenodd\" fill-opacity=\"1\" /><path clip-path=\"url(#clip310)\" d=\"M1336.22 1536.5 Q1331.51 1536.5 1328.77 1540.19 Q1326.03 1543.85 1326.03 1550.25 Q1326.03 1556.65 1328.74 1560.34 Q1331.48 1564 1336.22 1564 Q1340.9 1564 1343.64 1560.31 Q1346.37 1556.62 1346.37 1550.25 Q1346.37 1543.92 1343.64 1540.23 Q1340.9 1536.5 1336.22 1536.5 M1336.22 1531.54 Q1343.86 1531.54 1348.22 1536.5 Q1352.58 1541.47 1352.58 1550.25 Q1352.58 1559 1348.22 1564 Q1343.86 1568.97 1336.22 1568.97 Q1328.55 1568.97 1324.19 1564 Q1319.86 1559 1319.86 1550.25 Q1319.86 1541.47 1324.19 1536.5 Q1328.55 1531.54 1336.22 1531.54 Z\" fill=\"#000000\" fill-rule=\"evenodd\" fill-opacity=\"1\" /><path clip-path=\"url(#clip310)\" d=\"M1380.33 1518.52 L1380.33 1523.39 L1374.73 1523.39 Q1371.58 1523.39 1370.34 1524.66 Q1369.13 1525.93 1369.13 1529.24 L1369.13 1532.4 L1378.77 1532.4 L1378.77 1536.95 L1369.13 1536.95 L1369.13 1568.04 L1363.24 1568.04 L1363.24 1536.95 L1357.64 1536.95 L1357.64 1532.4 L1363.24 1532.4 L1363.24 1529.91 Q1363.24 1523.96 1366.01 1521.26 Q1368.78 1518.52 1374.8 1518.52 L1380.33 1518.52 Z\" fill=\"#000000\" fill-rule=\"evenodd\" fill-opacity=\"1\" /><path clip-path=\"url(#clip310)\" d=\"M1411.75 1522.27 L1411.75 1532.4 L1423.81 1532.4 L1423.81 1536.95 L1411.75 1536.95 L1411.75 1556.3 Q1411.75 1560.66 1412.93 1561.9 Q1414.14 1563.14 1417.8 1563.14 L1423.81 1563.14 L1423.81 1568.04 L1417.8 1568.04 Q1411.02 1568.04 1408.44 1565.53 Q1405.86 1562.98 1405.86 1556.3 L1405.86 1536.95 L1401.56 1536.95 L1401.56 1532.4 L1405.86 1532.4 L1405.86 1522.27 L1411.75 1522.27 Z\" fill=\"#000000\" fill-rule=\"evenodd\" fill-opacity=\"1\" /><path clip-path=\"url(#clip310)\" d=\"M1452.17 1537.87 Q1451.18 1537.3 1450.01 1537.04 Q1448.86 1536.76 1447.46 1536.76 Q1442.5 1536.76 1439.82 1540 Q1437.18 1543.22 1437.18 1549.27 L1437.18 1568.04 L1431.29 1568.04 L1431.29 1532.4 L1437.18 1532.4 L1437.18 1537.93 Q1439.03 1534.69 1441.99 1533.13 Q1444.95 1531.54 1449.18 1531.54 Q1449.78 1531.54 1450.52 1531.63 Q1451.25 1531.7 1452.14 1531.85 L1452.17 1537.87 Z\" fill=\"#000000\" fill-rule=\"evenodd\" fill-opacity=\"1\" /><path clip-path=\"url(#clip310)\" d=\"M1487.37 1548.76 L1487.37 1551.62 L1460.45 1551.62 Q1460.83 1557.67 1464.07 1560.85 Q1467.35 1564 1473.18 1564 Q1476.55 1564 1479.7 1563.17 Q1482.89 1562.35 1486 1560.69 L1486 1566.23 Q1482.85 1567.57 1479.54 1568.27 Q1476.23 1568.97 1472.83 1568.97 Q1464.3 1568.97 1459.3 1564 Q1454.34 1559.04 1454.34 1550.57 Q1454.34 1541.82 1459.05 1536.69 Q1463.79 1531.54 1471.81 1531.54 Q1479 1531.54 1483.17 1536.18 Q1487.37 1540.8 1487.37 1548.76 M1481.52 1547.04 Q1481.45 1542.23 1478.81 1539.37 Q1476.2 1536.5 1471.87 1536.5 Q1466.97 1536.5 1464.01 1539.27 Q1461.08 1542.04 1460.64 1547.07 L1481.52 1547.04 Z\" fill=\"#000000\" fill-rule=\"evenodd\" fill-opacity=\"1\" /><path clip-path=\"url(#clip310)\" d=\"M1527.48 1548.76 L1527.48 1551.62 L1500.55 1551.62 Q1500.93 1557.67 1504.18 1560.85 Q1507.46 1564 1513.28 1564 Q1516.66 1564 1519.81 1563.17 Q1522.99 1562.35 1526.11 1560.69 L1526.11 1566.23 Q1522.96 1567.57 1519.65 1568.27 Q1516.34 1568.97 1512.93 1568.97 Q1504.4 1568.97 1499.4 1564 Q1494.44 1559.04 1494.44 1550.57 Q1494.44 1541.82 1499.15 1536.69 Q1503.89 1531.54 1511.91 1531.54 Q1519.11 1531.54 1523.28 1536.18 Q1527.48 1540.8 1527.48 1548.76 M1521.62 1547.04 Q1521.56 1542.23 1518.92 1539.37 Q1516.31 1536.5 1511.98 1536.5 Q1507.08 1536.5 1504.12 1539.27 Q1501.19 1542.04 1500.74 1547.07 L1521.62 1547.04 Z\" fill=\"#000000\" fill-rule=\"evenodd\" fill-opacity=\"1\" /><path clip-path=\"url(#clip310)\" d=\"M1559.82 1533.45 L1559.82 1538.98 Q1557.33 1537.71 1554.66 1537.07 Q1551.99 1536.44 1549.12 1536.44 Q1544.76 1536.44 1542.56 1537.77 Q1540.4 1539.11 1540.4 1541.79 Q1540.4 1543.82 1541.96 1545 Q1543.52 1546.15 1548.23 1547.2 L1550.23 1547.64 Q1556.47 1548.98 1559.08 1551.43 Q1561.72 1553.85 1561.72 1558.21 Q1561.72 1563.17 1557.78 1566.07 Q1553.86 1568.97 1546.99 1568.97 Q1544.12 1568.97 1541 1568.39 Q1537.92 1567.85 1534.48 1566.74 L1534.48 1560.69 Q1537.73 1562.38 1540.88 1563.24 Q1544.03 1564.07 1547.12 1564.07 Q1551.25 1564.07 1553.48 1562.66 Q1555.71 1561.23 1555.71 1558.65 Q1555.71 1556.27 1554.09 1554.99 Q1552.49 1553.72 1547.05 1552.54 L1545.01 1552.07 Q1539.57 1550.92 1537.15 1548.56 Q1534.73 1546.18 1534.73 1542.04 Q1534.73 1537.01 1538.3 1534.27 Q1541.86 1531.54 1548.42 1531.54 Q1551.67 1531.54 1554.53 1532.01 Q1557.4 1532.49 1559.82 1533.45 Z\" fill=\"#000000\" fill-rule=\"evenodd\" fill-opacity=\"1\" /><polyline clip-path=\"url(#clip312)\" style=\"stroke:#000000; stroke-linecap:butt; stroke-linejoin:round; stroke-width:2; stroke-opacity:0.1; fill:none\" points=\"\n",
       "  249.056,1266.53 2352.76,1266.53 \n",
       "  \"/>\n",
       "<polyline clip-path=\"url(#clip312)\" style=\"stroke:#000000; stroke-linecap:butt; stroke-linejoin:round; stroke-width:2; stroke-opacity:0.1; fill:none\" points=\"\n",
       "  249.056,958.303 2352.76,958.303 \n",
       "  \"/>\n",
       "<polyline clip-path=\"url(#clip312)\" style=\"stroke:#000000; stroke-linecap:butt; stroke-linejoin:round; stroke-width:2; stroke-opacity:0.1; fill:none\" points=\"\n",
       "  249.056,650.08 2352.76,650.08 \n",
       "  \"/>\n",
       "<polyline clip-path=\"url(#clip312)\" style=\"stroke:#000000; stroke-linecap:butt; stroke-linejoin:round; stroke-width:2; stroke-opacity:0.1; fill:none\" points=\"\n",
       "  249.056,341.857 2352.76,341.857 \n",
       "  \"/>\n",
       "<polyline clip-path=\"url(#clip310)\" style=\"stroke:#000000; stroke-linecap:butt; stroke-linejoin:round; stroke-width:4; stroke-opacity:1; fill:none\" points=\"\n",
       "  249.056,1423.18 249.056,47.2441 \n",
       "  \"/>\n",
       "<polyline clip-path=\"url(#clip310)\" style=\"stroke:#000000; stroke-linecap:butt; stroke-linejoin:round; stroke-width:4; stroke-opacity:1; fill:none\" points=\"\n",
       "  249.056,1266.53 267.954,1266.53 \n",
       "  \"/>\n",
       "<polyline clip-path=\"url(#clip310)\" style=\"stroke:#000000; stroke-linecap:butt; stroke-linejoin:round; stroke-width:4; stroke-opacity:1; fill:none\" points=\"\n",
       "  249.056,958.303 267.954,958.303 \n",
       "  \"/>\n",
       "<polyline clip-path=\"url(#clip310)\" style=\"stroke:#000000; stroke-linecap:butt; stroke-linejoin:round; stroke-width:4; stroke-opacity:1; fill:none\" points=\"\n",
       "  249.056,650.08 267.954,650.08 \n",
       "  \"/>\n",
       "<polyline clip-path=\"url(#clip310)\" style=\"stroke:#000000; stroke-linecap:butt; stroke-linejoin:round; stroke-width:4; stroke-opacity:1; fill:none\" points=\"\n",
       "  249.056,341.857 267.954,341.857 \n",
       "  \"/>\n",
       "<path clip-path=\"url(#clip310)\" d=\"M130.88 1265.17 Q134.237 1265.89 136.112 1268.16 Q138.01 1270.43 138.01 1273.76 Q138.01 1278.88 134.492 1281.68 Q130.973 1284.48 124.492 1284.48 Q122.316 1284.48 120.001 1284.04 Q117.709 1283.62 115.256 1282.76 L115.256 1278.25 Q117.2 1279.38 119.515 1279.96 Q121.83 1280.54 124.353 1280.54 Q128.751 1280.54 131.042 1278.81 Q133.357 1277.07 133.357 1273.76 Q133.357 1270.7 131.205 1268.99 Q129.075 1267.26 125.255 1267.26 L121.228 1267.26 L121.228 1263.41 L125.441 1263.41 Q128.89 1263.41 130.718 1262.05 Q132.547 1260.66 132.547 1258.07 Q132.547 1255.4 130.649 1253.99 Q128.774 1252.56 125.255 1252.56 Q123.334 1252.56 121.135 1252.97 Q118.936 1253.39 116.297 1254.27 L116.297 1250.1 Q118.959 1249.36 121.274 1248.99 Q123.612 1248.62 125.672 1248.62 Q130.996 1248.62 134.098 1251.05 Q137.2 1253.46 137.2 1257.58 Q137.2 1260.45 135.556 1262.44 Q133.913 1264.41 130.88 1265.17 Z\" fill=\"#000000\" fill-rule=\"evenodd\" fill-opacity=\"1\" /><path clip-path=\"url(#clip310)\" d=\"M146.876 1277.93 L151.76 1277.93 L151.76 1283.81 L146.876 1283.81 L146.876 1277.93 Z\" fill=\"#000000\" fill-rule=\"evenodd\" fill-opacity=\"1\" /><path clip-path=\"url(#clip310)\" d=\"M172.524 1264.66 Q169.376 1264.66 167.524 1266.82 Q165.695 1268.97 165.695 1272.72 Q165.695 1276.45 167.524 1278.62 Q169.376 1280.77 172.524 1280.77 Q175.672 1280.77 177.501 1278.62 Q179.352 1276.45 179.352 1272.72 Q179.352 1268.97 177.501 1266.82 Q175.672 1264.66 172.524 1264.66 M181.806 1250.01 L181.806 1254.27 Q180.047 1253.44 178.241 1253 Q176.459 1252.56 174.7 1252.56 Q170.07 1252.56 167.616 1255.68 Q165.186 1258.81 164.839 1265.13 Q166.204 1263.11 168.264 1262.05 Q170.325 1260.96 172.802 1260.96 Q178.01 1260.96 181.019 1264.13 Q184.051 1267.28 184.051 1272.72 Q184.051 1278.04 180.903 1281.26 Q177.755 1284.48 172.524 1284.48 Q166.528 1284.48 163.357 1279.89 Q160.186 1275.29 160.186 1266.56 Q160.186 1258.37 164.075 1253.51 Q167.964 1248.62 174.514 1248.62 Q176.274 1248.62 178.056 1248.97 Q179.862 1249.32 181.806 1250.01 Z\" fill=\"#000000\" fill-rule=\"evenodd\" fill-opacity=\"1\" /><path clip-path=\"url(#clip310)\" d=\"M192.153 1249.25 L210.51 1249.25 L210.51 1253.18 L196.436 1253.18 L196.436 1261.65 Q197.454 1261.31 198.473 1261.14 Q199.491 1260.96 200.51 1260.96 Q206.297 1260.96 209.676 1264.13 Q213.056 1267.3 213.056 1272.72 Q213.056 1278.3 209.584 1281.4 Q206.112 1284.48 199.792 1284.48 Q197.616 1284.48 195.348 1284.11 Q193.102 1283.74 190.695 1283 L190.695 1278.3 Q192.778 1279.43 195 1279.99 Q197.223 1280.54 199.7 1280.54 Q203.704 1280.54 206.042 1278.44 Q208.38 1276.33 208.38 1272.72 Q208.38 1269.11 206.042 1267 Q203.704 1264.89 199.7 1264.89 Q197.825 1264.89 195.95 1265.31 Q194.098 1265.73 192.153 1266.61 L192.153 1249.25 Z\" fill=\"#000000\" fill-rule=\"evenodd\" fill-opacity=\"1\" /><path clip-path=\"url(#clip310)\" d=\"M129.885 956.949 Q133.242 957.667 135.117 959.935 Q137.015 962.204 137.015 965.537 Q137.015 970.653 133.496 973.454 Q129.978 976.254 123.496 976.254 Q121.32 976.254 119.006 975.815 Q116.714 975.398 114.26 974.542 L114.26 970.028 Q116.205 971.162 118.519 971.741 Q120.834 972.319 123.357 972.319 Q127.755 972.319 130.047 970.583 Q132.362 968.847 132.362 965.537 Q132.362 962.481 130.209 960.768 Q128.08 959.032 124.26 959.032 L120.232 959.032 L120.232 955.19 L124.445 955.19 Q127.894 955.19 129.723 953.824 Q131.552 952.435 131.552 949.843 Q131.552 947.181 129.654 945.769 Q127.779 944.333 124.26 944.333 Q122.339 944.333 120.14 944.75 Q117.941 945.167 115.302 946.046 L115.302 941.88 Q117.964 941.139 120.279 940.769 Q122.617 940.398 124.677 940.398 Q130.001 940.398 133.103 942.829 Q136.204 945.236 136.204 949.356 Q136.204 952.227 134.561 954.218 Q132.917 956.185 129.885 956.949 Z\" fill=\"#000000\" fill-rule=\"evenodd\" fill-opacity=\"1\" /><path clip-path=\"url(#clip310)\" d=\"M145.88 969.704 L150.765 969.704 L150.765 975.583 L145.88 975.583 L145.88 969.704 Z\" fill=\"#000000\" fill-rule=\"evenodd\" fill-opacity=\"1\" /><path clip-path=\"url(#clip310)\" d=\"M159.769 941.023 L181.991 941.023 L181.991 943.014 L169.445 975.583 L164.561 975.583 L176.366 944.958 L159.769 944.958 L159.769 941.023 Z\" fill=\"#000000\" fill-rule=\"evenodd\" fill-opacity=\"1\" /><path clip-path=\"url(#clip310)\" d=\"M201.112 944.102 Q197.5 944.102 195.672 947.667 Q193.866 951.208 193.866 958.338 Q193.866 965.444 195.672 969.009 Q197.5 972.551 201.112 972.551 Q204.746 972.551 206.551 969.009 Q208.38 965.444 208.38 958.338 Q208.38 951.208 206.551 947.667 Q204.746 944.102 201.112 944.102 M201.112 940.398 Q206.922 940.398 209.977 945.005 Q213.056 949.588 213.056 958.338 Q213.056 967.065 209.977 971.671 Q206.922 976.254 201.112 976.254 Q195.301 976.254 192.223 971.671 Q189.167 967.065 189.167 958.338 Q189.167 949.588 192.223 945.005 Q195.301 940.398 201.112 940.398 Z\" fill=\"#000000\" fill-rule=\"evenodd\" fill-opacity=\"1\" /><path clip-path=\"url(#clip310)\" d=\"M130.88 648.726 Q134.237 649.444 136.112 651.712 Q138.01 653.981 138.01 657.314 Q138.01 662.43 134.492 665.231 Q130.973 668.031 124.492 668.031 Q122.316 668.031 120.001 667.592 Q117.709 667.175 115.256 666.319 L115.256 661.805 Q117.2 662.939 119.515 663.518 Q121.83 664.096 124.353 664.096 Q128.751 664.096 131.042 662.36 Q133.357 660.624 133.357 657.314 Q133.357 654.258 131.205 652.545 Q129.075 650.809 125.255 650.809 L121.228 650.809 L121.228 646.967 L125.441 646.967 Q128.89 646.967 130.718 645.601 Q132.547 644.212 132.547 641.62 Q132.547 638.958 130.649 637.546 Q128.774 636.11 125.255 636.11 Q123.334 636.11 121.135 636.527 Q118.936 636.944 116.297 637.823 L116.297 633.657 Q118.959 632.916 121.274 632.546 Q123.612 632.175 125.672 632.175 Q130.996 632.175 134.098 634.606 Q137.2 637.013 137.2 641.133 Q137.2 644.004 135.556 645.995 Q133.913 647.962 130.88 648.726 Z\" fill=\"#000000\" fill-rule=\"evenodd\" fill-opacity=\"1\" /><path clip-path=\"url(#clip310)\" d=\"M146.876 661.481 L151.76 661.481 L151.76 667.36 L146.876 667.36 L146.876 661.481 Z\" fill=\"#000000\" fill-rule=\"evenodd\" fill-opacity=\"1\" /><path clip-path=\"url(#clip310)\" d=\"M160.765 632.8 L182.987 632.8 L182.987 634.791 L170.44 667.36 L165.556 667.36 L177.362 636.735 L160.765 636.735 L160.765 632.8 Z\" fill=\"#000000\" fill-rule=\"evenodd\" fill-opacity=\"1\" /><path clip-path=\"url(#clip310)\" d=\"M192.153 632.8 L210.51 632.8 L210.51 636.735 L196.436 636.735 L196.436 645.208 Q197.454 644.86 198.473 644.698 Q199.491 644.513 200.51 644.513 Q206.297 644.513 209.676 647.684 Q213.056 650.856 213.056 656.272 Q213.056 661.851 209.584 664.953 Q206.112 668.031 199.792 668.031 Q197.616 668.031 195.348 667.661 Q193.102 667.291 190.695 666.55 L190.695 661.851 Q192.778 662.985 195 663.541 Q197.223 664.096 199.7 664.096 Q203.704 664.096 206.042 661.99 Q208.38 659.883 208.38 656.272 Q208.38 652.661 206.042 650.555 Q203.704 648.448 199.7 648.448 Q197.825 648.448 195.95 648.865 Q194.098 649.282 192.153 650.161 L192.153 632.8 Z\" fill=\"#000000\" fill-rule=\"evenodd\" fill-opacity=\"1\" /><path clip-path=\"url(#clip310)\" d=\"M129.885 340.503 Q133.242 341.221 135.117 343.489 Q137.015 345.758 137.015 349.091 Q137.015 354.207 133.496 357.008 Q129.978 359.808 123.496 359.808 Q121.32 359.808 119.006 359.369 Q116.714 358.952 114.26 358.096 L114.26 353.582 Q116.205 354.716 118.519 355.295 Q120.834 355.873 123.357 355.873 Q127.755 355.873 130.047 354.137 Q132.362 352.401 132.362 349.091 Q132.362 346.035 130.209 344.322 Q128.08 342.586 124.26 342.586 L120.232 342.586 L120.232 338.744 L124.445 338.744 Q127.894 338.744 129.723 337.378 Q131.552 335.989 131.552 333.397 Q131.552 330.735 129.654 329.323 Q127.779 327.887 124.26 327.887 Q122.339 327.887 120.14 328.304 Q117.941 328.721 115.302 329.6 L115.302 325.434 Q117.964 324.693 120.279 324.323 Q122.617 323.952 124.677 323.952 Q130.001 323.952 133.103 326.383 Q136.204 328.79 136.204 332.91 Q136.204 335.781 134.561 337.772 Q132.917 339.739 129.885 340.503 Z\" fill=\"#000000\" fill-rule=\"evenodd\" fill-opacity=\"1\" /><path clip-path=\"url(#clip310)\" d=\"M145.88 353.258 L150.765 353.258 L150.765 359.137 L145.88 359.137 L145.88 353.258 Z\" fill=\"#000000\" fill-rule=\"evenodd\" fill-opacity=\"1\" /><path clip-path=\"url(#clip310)\" d=\"M170.95 342.725 Q167.616 342.725 165.695 344.508 Q163.797 346.29 163.797 349.415 Q163.797 352.54 165.695 354.322 Q167.616 356.105 170.95 356.105 Q174.283 356.105 176.204 354.322 Q178.126 352.517 178.126 349.415 Q178.126 346.29 176.204 344.508 Q174.306 342.725 170.95 342.725 M166.274 340.735 Q163.265 339.994 161.575 337.934 Q159.908 335.873 159.908 332.91 Q159.908 328.767 162.848 326.36 Q165.811 323.952 170.95 323.952 Q176.112 323.952 179.051 326.36 Q181.991 328.767 181.991 332.91 Q181.991 335.873 180.301 337.934 Q178.635 339.994 175.649 340.735 Q179.028 341.522 180.903 343.813 Q182.801 346.105 182.801 349.415 Q182.801 354.438 179.723 357.123 Q176.667 359.808 170.95 359.808 Q165.232 359.808 162.153 357.123 Q159.098 354.438 159.098 349.415 Q159.098 346.105 160.996 343.813 Q162.894 341.522 166.274 340.735 M164.561 333.35 Q164.561 336.035 166.227 337.54 Q167.917 339.045 170.95 339.045 Q173.959 339.045 175.649 337.54 Q177.362 336.035 177.362 333.35 Q177.362 330.665 175.649 329.16 Q173.959 327.656 170.95 327.656 Q167.917 327.656 166.227 329.16 Q164.561 330.665 164.561 333.35 Z\" fill=\"#000000\" fill-rule=\"evenodd\" fill-opacity=\"1\" /><path clip-path=\"url(#clip310)\" d=\"M201.112 327.656 Q197.5 327.656 195.672 331.221 Q193.866 334.762 193.866 341.892 Q193.866 348.998 195.672 352.563 Q197.5 356.105 201.112 356.105 Q204.746 356.105 206.551 352.563 Q208.38 348.998 208.38 341.892 Q208.38 334.762 206.551 331.221 Q204.746 327.656 201.112 327.656 M201.112 323.952 Q206.922 323.952 209.977 328.559 Q213.056 333.142 213.056 341.892 Q213.056 350.619 209.977 355.225 Q206.922 359.808 201.112 359.808 Q195.301 359.808 192.223 355.225 Q189.167 350.619 189.167 341.892 Q189.167 333.142 192.223 328.559 Q195.301 323.952 201.112 323.952 Z\" fill=\"#000000\" fill-rule=\"evenodd\" fill-opacity=\"1\" /><path clip-path=\"url(#clip310)\" d=\"M41.7242 1117.54 Q42.4244 1115.47 44.7161 1113.53 Q47.0077 1111.55 51.0181 1109.58 L64.0042 1103.05 L64.0042 1109.96 L51.8138 1116.04 Q47.0395 1118.4 45.48 1120.62 Q43.9204 1122.82 43.9204 1126.64 L43.9204 1133.64 L64.0042 1133.64 L64.0042 1140.07 L16.4842 1140.07 L16.4842 1125.56 Q16.4842 1117.41 19.8898 1113.4 Q23.2955 1109.39 30.1704 1109.39 Q34.6582 1109.39 37.6183 1111.49 Q40.5784 1113.56 41.7242 1117.54 M21.7677 1133.64 L38.6368 1133.64 L38.6368 1125.56 Q38.6368 1120.91 36.5043 1118.55 Q34.34 1116.17 30.1704 1116.17 Q26.0009 1116.17 23.9002 1118.55 Q21.7677 1120.91 21.7677 1125.56 L21.7677 1133.64 Z\" fill=\"#000000\" fill-rule=\"evenodd\" fill-opacity=\"1\" /><path clip-path=\"url(#clip310)\" d=\"M32.4621 1084.15 Q32.4621 1088.86 36.1542 1091.6 Q39.8145 1094.33 46.212 1094.33 Q52.6095 1094.33 56.3017 1091.63 Q59.9619 1088.89 59.9619 1084.15 Q59.9619 1079.47 56.2698 1076.73 Q52.5777 1073.99 46.212 1073.99 Q39.8781 1073.99 36.186 1076.73 Q32.4621 1079.47 32.4621 1084.15 M27.4968 1084.15 Q27.4968 1076.51 32.4621 1072.15 Q37.4273 1067.79 46.212 1067.79 Q54.9649 1067.79 59.9619 1072.15 Q64.9272 1076.51 64.9272 1084.15 Q64.9272 1091.82 59.9619 1096.18 Q54.9649 1100.51 46.212 1100.51 Q37.4273 1100.51 32.4621 1096.18 Q27.4968 1091.82 27.4968 1084.15 Z\" fill=\"#000000\" fill-rule=\"evenodd\" fill-opacity=\"1\" /><path clip-path=\"url(#clip310)\" d=\"M32.4621 1044.27 Q32.4621 1048.98 36.1542 1051.71 Q39.8145 1054.45 46.212 1054.45 Q52.6095 1054.45 56.3017 1051.75 Q59.9619 1049.01 59.9619 1044.27 Q59.9619 1039.59 56.2698 1036.85 Q52.5777 1034.11 46.212 1034.11 Q39.8781 1034.11 36.186 1036.85 Q32.4621 1039.59 32.4621 1044.27 M27.4968 1044.27 Q27.4968 1036.63 32.4621 1032.27 Q37.4273 1027.91 46.212 1027.91 Q54.9649 1027.91 59.9619 1032.27 Q64.9272 1036.63 64.9272 1044.27 Q64.9272 1051.94 59.9619 1056.3 Q54.9649 1060.63 46.212 1060.63 Q37.4273 1060.63 32.4621 1056.3 Q27.4968 1051.94 27.4968 1044.27 Z\" fill=\"#000000\" fill-rule=\"evenodd\" fill-opacity=\"1\" /><path clip-path=\"url(#clip310)\" d=\"M18.2347 1012.41 L28.3562 1012.41 L28.3562 1000.34 L32.9077 1000.34 L32.9077 1012.41 L52.2594 1012.41 Q56.6199 1012.41 57.8613 1011.23 Q59.1026 1010.02 59.1026 1006.36 L59.1026 1000.34 L64.0042 1000.34 L64.0042 1006.36 Q64.0042 1013.14 61.4897 1015.72 Q58.9434 1018.29 52.2594 1018.29 L32.9077 1018.29 L32.9077 1022.59 L28.3562 1022.59 L28.3562 1018.29 L18.2347 1018.29 L18.2347 1012.41 Z\" fill=\"#000000\" fill-rule=\"evenodd\" fill-opacity=\"1\" /><path clip-path=\"url(#clip310)\" d=\"M16.4842 971.666 L16.4842 962.086 L48.8219 949.959 L16.4842 937.769 L16.4842 928.188 L64.0042 928.188 L64.0042 934.459 L22.277 934.459 L54.8694 946.713 L54.8694 953.174 L22.277 965.428 L64.0042 965.428 L64.0042 971.666 L16.4842 971.666 Z\" fill=\"#000000\" fill-rule=\"evenodd\" fill-opacity=\"1\" /><path clip-path=\"url(#clip310)\" d=\"M44.7161 885.188 L47.5806 885.188 L47.5806 912.115 Q53.6281 911.733 56.8109 908.487 Q59.9619 905.208 59.9619 899.384 Q59.9619 896.01 59.1344 892.859 Q58.3069 889.676 56.6518 886.557 L62.1899 886.557 Q63.5267 889.708 64.227 893.018 Q64.9272 896.328 64.9272 899.734 Q64.9272 908.264 59.9619 913.261 Q54.9967 918.226 46.5303 918.226 Q37.7774 918.226 32.6531 913.515 Q27.4968 908.773 27.4968 900.752 Q27.4968 893.559 32.1438 889.389 Q36.7589 885.188 44.7161 885.188 M42.9973 891.044 Q38.1912 891.108 35.3266 893.75 Q32.4621 896.36 32.4621 900.689 Q32.4621 905.59 35.2312 908.55 Q38.0002 911.478 43.0292 911.924 L42.9973 891.044 Z\" fill=\"#000000\" fill-rule=\"evenodd\" fill-opacity=\"1\" /><path clip-path=\"url(#clip310)\" d=\"M46.0847 859.375 Q46.0847 866.473 47.7079 869.21 Q49.3312 871.947 53.2461 871.947 Q56.3653 871.947 58.2114 869.91 Q60.0256 867.841 60.0256 864.308 Q60.0256 859.439 56.5881 856.511 Q53.1188 853.55 47.3897 853.55 L46.0847 853.55 L46.0847 859.375 M43.6657 847.694 L64.0042 847.694 L64.0042 853.55 L58.5933 853.55 Q61.8398 855.556 63.3994 858.548 Q64.9272 861.539 64.9272 865.868 Q64.9272 871.343 61.8716 874.589 Q58.7843 877.804 53.6281 877.804 Q47.6125 877.804 44.5569 873.793 Q41.5014 869.751 41.5014 861.762 L41.5014 853.55 L40.9285 853.55 Q36.8862 853.55 34.6901 856.224 Q32.4621 858.866 32.4621 863.672 Q32.4621 866.727 33.1941 869.624 Q33.9262 872.52 35.3903 875.194 L29.9795 875.194 Q28.7381 871.979 28.1334 868.955 Q27.4968 865.932 27.4968 863.067 Q27.4968 855.333 31.5072 851.513 Q35.5176 847.694 43.6657 847.694 Z\" fill=\"#000000\" fill-rule=\"evenodd\" fill-opacity=\"1\" /><path clip-path=\"url(#clip310)\" d=\"M42.4881 805.999 L64.0042 805.999 L64.0042 811.855 L42.679 811.855 Q37.6183 811.855 35.1038 813.828 Q32.5894 815.802 32.5894 819.749 Q32.5894 824.491 35.6131 827.228 Q38.6368 829.966 43.8567 829.966 L64.0042 829.966 L64.0042 835.854 L28.3562 835.854 L28.3562 829.966 L33.8944 829.966 Q30.6797 827.865 29.0883 825.032 Q27.4968 822.168 27.4968 818.444 Q27.4968 812.301 31.3163 809.15 Q35.1038 805.999 42.4881 805.999 Z\" fill=\"#000000\" fill-rule=\"evenodd\" fill-opacity=\"1\" /><path clip-path=\"url(#clip310)\" d=\"M18.0438 744.856 L24.314 744.856 Q22.5634 748.516 21.704 751.763 Q20.8447 755.009 20.8447 758.033 Q20.8447 763.285 22.8817 766.149 Q24.9187 768.982 28.6745 768.982 Q31.8255 768.982 33.4488 767.104 Q35.0402 765.194 36.0269 759.911 L36.8226 756.028 Q38.1912 748.835 41.6605 745.429 Q45.098 741.991 50.8908 741.991 Q57.7976 741.991 61.3624 746.638 Q64.9272 751.254 64.9272 760.197 Q64.9272 763.571 64.1633 767.391 Q63.3994 771.178 61.9035 775.252 L55.2831 775.252 Q57.4793 771.337 58.5933 767.582 Q59.7073 763.826 59.7073 760.197 Q59.7073 754.691 57.543 751.699 Q55.3786 748.707 51.3682 748.707 Q47.8671 748.707 45.8937 750.872 Q43.9204 753.004 42.9337 757.906 L42.1698 761.821 Q40.7375 769.014 37.682 772.229 Q34.6264 775.443 29.1837 775.443 Q22.8817 775.443 19.2532 771.019 Q15.6248 766.563 15.6248 758.765 Q15.6248 755.423 16.2295 751.954 Q16.8343 748.484 18.0438 744.856 Z\" fill=\"#000000\" fill-rule=\"evenodd\" fill-opacity=\"1\" /><path clip-path=\"url(#clip310)\" d=\"M46.212 728.719 Q52.6732 728.719 56.3653 726.077 Q60.0256 723.404 60.0256 718.757 Q60.0256 714.11 56.3653 711.436 Q52.6732 708.762 46.212 708.762 Q39.7508 708.762 36.0905 711.436 Q32.3984 714.11 32.3984 718.757 Q32.3984 723.404 36.0905 726.077 Q39.7508 728.719 46.212 728.719 M58.657 708.762 Q61.8398 710.609 63.3994 713.441 Q64.9272 716.242 64.9272 720.189 Q64.9272 726.65 59.771 730.724 Q54.6147 734.766 46.212 734.766 Q37.8093 734.766 32.6531 730.724 Q27.4968 726.65 27.4968 720.189 Q27.4968 716.242 29.0564 713.441 Q30.5842 710.609 33.7671 708.762 L28.3562 708.762 L28.3562 702.906 L77.5631 702.906 L77.5631 708.762 L58.657 708.762 Z\" fill=\"#000000\" fill-rule=\"evenodd\" fill-opacity=\"1\" /><path clip-path=\"url(#clip310)\" d=\"M49.9359 691.448 L28.3562 691.448 L28.3562 685.591 L49.7131 685.591 Q54.7739 685.591 57.3202 683.618 Q59.8346 681.645 59.8346 677.698 Q59.8346 672.955 56.8109 670.218 Q53.7872 667.449 48.5673 667.449 L28.3562 667.449 L28.3562 661.593 L64.0042 661.593 L64.0042 667.449 L58.5296 667.449 Q61.7762 669.582 63.3676 672.414 Q64.9272 675.215 64.9272 678.939 Q64.9272 685.082 61.1078 688.265 Q57.2883 691.448 49.9359 691.448 M27.4968 676.711 L27.4968 676.711 Z\" fill=\"#000000\" fill-rule=\"evenodd\" fill-opacity=\"1\" /><path clip-path=\"url(#clip310)\" d=\"M46.0847 633.329 Q46.0847 640.427 47.7079 643.164 Q49.3312 645.901 53.2461 645.901 Q56.3653 645.901 58.2114 643.864 Q60.0256 641.795 60.0256 638.262 Q60.0256 633.392 56.5881 630.464 Q53.1188 627.504 47.3897 627.504 L46.0847 627.504 L46.0847 633.329 M43.6657 621.648 L64.0042 621.648 L64.0042 627.504 L58.5933 627.504 Q61.8398 629.509 63.3994 632.501 Q64.9272 635.493 64.9272 639.822 Q64.9272 645.296 61.8716 648.543 Q58.7843 651.758 53.6281 651.758 Q47.6125 651.758 44.5569 647.747 Q41.5014 643.705 41.5014 635.716 L41.5014 627.504 L40.9285 627.504 Q36.8862 627.504 34.6901 630.178 Q32.4621 632.82 32.4621 637.626 Q32.4621 640.681 33.1941 643.578 Q33.9262 646.474 35.3903 649.148 L29.9795 649.148 Q28.7381 645.933 28.1334 642.909 Q27.4968 639.886 27.4968 637.021 Q27.4968 629.287 31.5072 625.467 Q35.5176 621.648 43.6657 621.648 Z\" fill=\"#000000\" fill-rule=\"evenodd\" fill-opacity=\"1\" /><path clip-path=\"url(#clip310)\" d=\"M33.8307 588.928 Q33.2578 589.915 33.0032 591.092 Q32.7167 592.238 32.7167 593.639 Q32.7167 598.604 35.9632 601.278 Q39.1779 603.919 45.2253 603.919 L64.0042 603.919 L64.0042 609.808 L28.3562 609.808 L28.3562 603.919 L33.8944 603.919 Q30.6479 602.073 29.0883 599.113 Q27.4968 596.153 27.4968 591.92 Q27.4968 591.315 27.5923 590.583 Q27.656 589.851 27.8151 588.96 L33.8307 588.928 Z\" fill=\"#000000\" fill-rule=\"evenodd\" fill-opacity=\"1\" /><path clip-path=\"url(#clip310)\" d=\"M44.7161 553.726 L47.5806 553.726 L47.5806 580.653 Q53.6281 580.271 56.8109 577.024 Q59.9619 573.746 59.9619 567.921 Q59.9619 564.547 59.1344 561.396 Q58.3069 558.213 56.6518 555.094 L62.1899 555.094 Q63.5267 558.245 64.227 561.555 Q64.9272 564.866 64.9272 568.271 Q64.9272 576.801 59.9619 581.798 Q54.9967 586.764 46.5303 586.764 Q37.7774 586.764 32.6531 582.053 Q27.4968 577.311 27.4968 569.29 Q27.4968 562.097 32.1438 557.927 Q36.7589 553.726 44.7161 553.726 M42.9973 559.582 Q38.1912 559.646 35.3266 562.288 Q32.4621 564.897 32.4621 569.226 Q32.4621 574.128 35.2312 577.088 Q38.0002 580.016 43.0292 580.462 L42.9973 559.582 Z\" fill=\"#000000\" fill-rule=\"evenodd\" fill-opacity=\"1\" /><path clip-path=\"url(#clip310)\" d=\"M33.7671 520.656 L14.479 520.656 L14.479 514.799 L64.0042 514.799 L64.0042 520.656 L58.657 520.656 Q61.8398 522.502 63.3994 525.335 Q64.9272 528.136 64.9272 532.082 Q64.9272 538.543 59.771 542.618 Q54.6147 546.66 46.212 546.66 Q37.8093 546.66 32.6531 542.618 Q27.4968 538.543 27.4968 532.082 Q27.4968 528.136 29.0564 525.335 Q30.5842 522.502 33.7671 520.656 M46.212 540.612 Q52.6732 540.612 56.3653 537.971 Q60.0256 535.297 60.0256 530.65 Q60.0256 526.003 56.3653 523.329 Q52.6732 520.656 46.212 520.656 Q39.7508 520.656 36.0905 523.329 Q32.3984 526.003 32.3984 530.65 Q32.3984 535.297 36.0905 537.971 Q39.7508 540.612 46.212 540.612 Z\" fill=\"#000000\" fill-rule=\"evenodd\" fill-opacity=\"1\" /><path clip-path=\"url(#clip310)\" d=\"M44.7161 451.524 L47.5806 451.524 L47.5806 478.451 Q53.6281 478.069 56.8109 474.823 Q59.9619 471.544 59.9619 465.72 Q59.9619 462.346 59.1344 459.195 Q58.3069 456.012 56.6518 452.893 L62.1899 452.893 Q63.5267 456.044 64.227 459.354 Q64.9272 462.664 64.9272 466.07 Q64.9272 474.6 59.9619 479.597 Q54.9967 484.562 46.5303 484.562 Q37.7774 484.562 32.6531 479.852 Q27.4968 475.109 27.4968 467.088 Q27.4968 459.895 32.1438 455.726 Q36.7589 451.524 44.7161 451.524 M42.9973 457.381 Q38.1912 457.444 35.3266 460.086 Q32.4621 462.696 32.4621 467.025 Q32.4621 471.926 35.2312 474.886 Q38.0002 477.815 43.0292 478.26 L42.9973 457.381 Z\" fill=\"#000000\" fill-rule=\"evenodd\" fill-opacity=\"1\" /><path clip-path=\"url(#clip310)\" d=\"M33.8307 421.255 Q33.2578 422.242 33.0032 423.42 Q32.7167 424.565 32.7167 425.966 Q32.7167 430.931 35.9632 433.605 Q39.1779 436.247 45.2253 436.247 L64.0042 436.247 L64.0042 442.135 L28.3562 442.135 L28.3562 436.247 L33.8944 436.247 Q30.6479 434.401 29.0883 431.44 Q27.4968 428.48 27.4968 424.247 Q27.4968 423.642 27.5923 422.91 Q27.656 422.178 27.8151 421.287 L33.8307 421.255 Z\" fill=\"#000000\" fill-rule=\"evenodd\" fill-opacity=\"1\" /><path clip-path=\"url(#clip310)\" d=\"M33.8307 395.602 Q33.2578 396.588 33.0032 397.766 Q32.7167 398.912 32.7167 400.312 Q32.7167 405.277 35.9632 407.951 Q39.1779 410.593 45.2253 410.593 L64.0042 410.593 L64.0042 416.481 L28.3562 416.481 L28.3562 410.593 L33.8944 410.593 Q30.6479 408.747 29.0883 405.787 Q27.4968 402.827 27.4968 398.593 Q27.4968 397.989 27.5923 397.257 Q27.656 396.525 27.8151 395.633 L33.8307 395.602 Z\" fill=\"#000000\" fill-rule=\"evenodd\" fill-opacity=\"1\" /><path clip-path=\"url(#clip310)\" d=\"M32.4621 377.077 Q32.4621 381.788 36.1542 384.525 Q39.8145 387.262 46.212 387.262 Q52.6095 387.262 56.3017 384.557 Q59.9619 381.82 59.9619 377.077 Q59.9619 372.399 56.2698 369.661 Q52.5777 366.924 46.212 366.924 Q39.8781 366.924 36.186 369.661 Q32.4621 372.399 32.4621 377.077 M27.4968 377.077 Q27.4968 369.438 32.4621 365.078 Q37.4273 360.717 46.212 360.717 Q54.9649 360.717 59.9619 365.078 Q64.9272 369.438 64.9272 377.077 Q64.9272 384.748 59.9619 389.108 Q54.9649 393.437 46.212 393.437 Q37.4273 393.437 32.4621 389.108 Q27.4968 384.748 27.4968 377.077 Z\" fill=\"#000000\" fill-rule=\"evenodd\" fill-opacity=\"1\" /><path clip-path=\"url(#clip310)\" d=\"M33.8307 330.353 Q33.2578 331.34 33.0032 332.517 Q32.7167 333.663 32.7167 335.064 Q32.7167 340.029 35.9632 342.702 Q39.1779 345.344 45.2253 345.344 L64.0042 345.344 L64.0042 351.233 L28.3562 351.233 L28.3562 345.344 L33.8944 345.344 Q30.6479 343.498 29.0883 340.538 Q27.4968 337.578 27.4968 333.345 Q27.4968 332.74 27.5923 332.008 Q27.656 331.276 27.8151 330.385 L33.8307 330.353 Z\" fill=\"#000000\" fill-rule=\"evenodd\" fill-opacity=\"1\" /><polyline clip-path=\"url(#clip312)\" style=\"stroke:#009af9; stroke-linecap:butt; stroke-linejoin:round; stroke-width:16; stroke-opacity:1; fill:none\" points=\"\n",
       "  308.595,1020.94 376.753,1384.24 444.912,86.1857 513.071,634.104 583.234,724.253 651.393,702.028 719.552,186.965 787.711,412.641 855.869,371.674 924.028,626.049 \n",
       "  992.187,597.547 1062.35,727.905 1130.51,542.349 1198.67,528.587 1266.83,699.711 1334.99,783.996 1403.14,450.496 1471.3,717.838 1539.46,640.573 1609.62,692.834 \n",
       "  1677.78,824.471 1745.94,730.316 1814.1,578.343 1882.26,596.835 1950.42,794.685 2018.58,631.507 2088.74,577.564 2156.9,547.953 2225.06,703.715 2293.22,576.49 \n",
       "  \n",
       "  \"/>\n",
       "</svg>\n"
      ]
     },
     "execution_count": 33,
     "metadata": {},
     "output_type": "execute_result"
    }
   ],
   "source": [
    "plot(curves.parameter_values, curves.measurements, linewidth=4,label=\"\")\n",
    "ylabel!(\"Root Mean Squared error\", fontsize=16)\n",
    "xlabel!(\"Number of trees\", fontsize=16)"
   ]
  },
  {
   "cell_type": "markdown",
   "metadata": {},
   "source": [
    "That's pretty noisy... "
   ]
  },
  {
   "cell_type": "markdown",
   "metadata": {},
   "source": [
    "## Tuning "
   ]
  },
  {
   "cell_type": "code",
   "execution_count": 34,
   "metadata": {},
   "outputs": [
    {
     "name": "stdout",
     "output_type": "stream",
     "text": [
      "(atom = (max_depth = -1,\n",
      "         min_samples_leaf = 5,\n",
      "         min_samples_split = 2,\n",
      "         min_purity_increase = 0.0,\n",
      "         n_subfeatures = 3,\n",
      "         post_prune = false,\n",
      "         merge_purity_threshold = 1.0,\n",
      "         rng = Random._GLOBAL_RNG()),\n",
      " atomic_weights = [],\n",
      " bagging_fraction = 0.8,\n",
      " rng = Random._GLOBAL_RNG(),\n",
      " n = 100,\n",
      " acceleration = CPU1{Nothing}(nothing),\n",
      " out_of_bag_measure = [])"
     ]
    }
   ],
   "source": [
    "params(forest) |> pprint"
   ]
  },
  {
   "cell_type": "markdown",
   "metadata": {},
   "source": [
    "Let's try to tune the model using the number of subfeatures and the bagging fraction. "
   ]
  },
  {
   "cell_type": "code",
   "execution_count": 35,
   "metadata": {},
   "outputs": [
    {
     "data": {
      "text/plain": [
       "NumericRange(0.4 ≤ bagging_fraction ≤ 1.0; origin=0.7, unit=0.3)"
      ]
     },
     "execution_count": 35,
     "metadata": {},
     "output_type": "execute_result"
    }
   ],
   "source": [
    "r_sf = range(forest, :(atom.n_subfeatures), lower=1, upper=12)\n",
    "r_bf = range(forest, :bagging_fraction, lower=0.4, upper=1.0)"
   ]
  },
  {
   "cell_type": "markdown",
   "metadata": {},
   "source": [
    "Now we build a tuned model to do a hyper-parameter search "
   ]
  },
  {
   "cell_type": "code",
   "execution_count": 36,
   "metadata": {},
   "outputs": [
    {
     "data": {
      "text/plain": [
       "PerformanceEvaluation object with these fields:\n",
       "  measure, measurement, operation, per_fold,\n",
       "  per_observation, fitted_params_per_fold,\n",
       "  report_per_fold, train_test_pairs\n",
       "Extract:\n",
       "┌───────────────────────────────────────────────────┬─────────────┬─────────────\n",
       "│\u001b[22m measure                                           \u001b[0m│\u001b[22m measurement \u001b[0m│\u001b[22m operation \u001b[0m ⋯\n",
       "├───────────────────────────────────────────────────┼─────────────┼─────────────\n",
       "│ RootMeanSquaredError()                            │ 4.0         │ predict    ⋯\n",
       "│ RootMeanSquaredLogProportionalError(offset = 1.0) │ 0.259       │ predict    ⋯\n",
       "└───────────────────────────────────────────────────┴─────────────┴─────────────\n",
       "\u001b[36m                                                                1 column omitted\u001b[0m\n"
      ]
     },
     "execution_count": 36,
     "metadata": {},
     "output_type": "execute_result"
    }
   ],
   "source": [
    "tuned_forest = TunedModel(model=forest,\n",
    "                          tuning=Grid(resolution=5),\n",
    "                          resampling=CV(nfolds=6, rng=StableRNG(32)),\n",
    "                          ranges=[r_sf, r_bf],\n",
    "                          measure=rms)\n",
    "m = machine(tuned_forest, X, y)\n",
    "e = evaluate!(m, resampling=Holdout(fraction_train=0.8),\n",
    "              measure=[rms, rmslp1])\n",
    "e"
   ]
  },
  {
   "cell_type": "code",
   "execution_count": 42,
   "metadata": {},
   "outputs": [
    {
     "ename": "LoadError",
     "evalue": "MethodError: no method matching fitted_params(::MLJTuning.DeterministicTunedModel{Grid, MLJEnsembles.DeterministicEnsembleModel{MLJDecisionTreeInterface.DecisionTreeRegressor}})\n\u001b[0mClosest candidates are:\n\u001b[0m  fitted_params(::Union{MLJTuning.DeterministicTunedModel{T, M}, MLJTuning.ProbabilisticTunedModel{T, M}} where {T, M}, \u001b[91m::Any\u001b[39m) at ~/.julia/packages/MLJTuning/bjRHJ/src/tuned_models.jl:748\n\u001b[0m  fitted_params(::MLJModelInterface.Model, \u001b[91m::Any\u001b[39m) at ~/.julia/packages/MLJModelInterface/txhfr/src/model_api.jl:101\n\u001b[0m  fitted_params(\u001b[91m::Union{Composite, Surrogate}\u001b[39m, \u001b[91m::Node\u001b[39m) at ~/.julia/packages/MLJBase/QXObv/src/composition/models/methods.jl:14\n\u001b[0m  ...",
     "output_type": "error",
     "traceback": [
      "MethodError: no method matching fitted_params(::MLJTuning.DeterministicTunedModel{Grid, MLJEnsembles.DeterministicEnsembleModel{MLJDecisionTreeInterface.DecisionTreeRegressor}})\n\u001b[0mClosest candidates are:\n\u001b[0m  fitted_params(::Union{MLJTuning.DeterministicTunedModel{T, M}, MLJTuning.ProbabilisticTunedModel{T, M}} where {T, M}, \u001b[91m::Any\u001b[39m) at ~/.julia/packages/MLJTuning/bjRHJ/src/tuned_models.jl:748\n\u001b[0m  fitted_params(::MLJModelInterface.Model, \u001b[91m::Any\u001b[39m) at ~/.julia/packages/MLJModelInterface/txhfr/src/model_api.jl:101\n\u001b[0m  fitted_params(\u001b[91m::Union{Composite, Surrogate}\u001b[39m, \u001b[91m::Node\u001b[39m) at ~/.julia/packages/MLJBase/QXObv/src/composition/models/methods.jl:14\n\u001b[0m  ...",
      "",
      "Stacktrace:",
      " [1] top-level scope",
      "   @ In[42]:1",
      " [2] eval",
      "   @ ./boot.jl:373 [inlined]",
      " [3] include_string(mapexpr::typeof(REPL.softscope), mod::Module, code::String, filename::String)",
      "   @ Base ./loading.jl:1196"
     ]
    }
   ],
   "source": [
    "fitted_params(tuned_forest).best_parameters"
   ]
  },
  {
   "cell_type": "code",
   "execution_count": 57,
   "metadata": {},
   "outputs": [
    {
     "data": {
      "image/svg+xml": [
       "<?xml version=\"1.0\" encoding=\"utf-8\"?>\n",
       "<svg xmlns=\"http://www.w3.org/2000/svg\" xmlns:xlink=\"http://www.w3.org/1999/xlink\" width=\"600\" height=\"400\" viewBox=\"0 0 2400 1600\">\n",
       "<defs>\n",
       "  <clipPath id=\"clip830\">\n",
       "    <rect x=\"0\" y=\"0\" width=\"2400\" height=\"1600\"/>\n",
       "  </clipPath>\n",
       "</defs>\n",
       "<path clip-path=\"url(#clip830)\" d=\"\n",
       "M0 1600 L2400 1600 L2400 0 L0 0  Z\n",
       "  \" fill=\"#ffffff\" fill-rule=\"evenodd\" fill-opacity=\"1\"/>\n",
       "<defs>\n",
       "  <clipPath id=\"clip831\">\n",
       "    <rect x=\"480\" y=\"0\" width=\"1681\" height=\"1600\"/>\n",
       "  </clipPath>\n",
       "</defs>\n",
       "<path clip-path=\"url(#clip830)\" d=\"\n",
       "M219.866 1423.18 L2049.76 1423.18 L2049.76 47.2441 L219.866 47.2441  Z\n",
       "  \" fill=\"#ffffff\" fill-rule=\"evenodd\" fill-opacity=\"1\"/>\n",
       "<defs>\n",
       "  <clipPath id=\"clip832\">\n",
       "    <rect x=\"219\" y=\"47\" width=\"1831\" height=\"1377\"/>\n",
       "  </clipPath>\n",
       "</defs>\n",
       "<polyline clip-path=\"url(#clip832)\" style=\"stroke:#000000; stroke-linecap:butt; stroke-linejoin:round; stroke-width:2; stroke-opacity:0.1; fill:none\" points=\"\n",
       "  507.063,1423.18 507.063,47.2441 \n",
       "  \"/>\n",
       "<polyline clip-path=\"url(#clip832)\" style=\"stroke:#000000; stroke-linecap:butt; stroke-linejoin:round; stroke-width:2; stroke-opacity:0.1; fill:none\" points=\"\n",
       "  899.408,1423.18 899.408,47.2441 \n",
       "  \"/>\n",
       "<polyline clip-path=\"url(#clip832)\" style=\"stroke:#000000; stroke-linecap:butt; stroke-linejoin:round; stroke-width:2; stroke-opacity:0.1; fill:none\" points=\"\n",
       "  1291.75,1423.18 1291.75,47.2441 \n",
       "  \"/>\n",
       "<polyline clip-path=\"url(#clip832)\" style=\"stroke:#000000; stroke-linecap:butt; stroke-linejoin:round; stroke-width:2; stroke-opacity:0.1; fill:none\" points=\"\n",
       "  1684.1,1423.18 1684.1,47.2441 \n",
       "  \"/>\n",
       "<polyline clip-path=\"url(#clip830)\" style=\"stroke:#000000; stroke-linecap:butt; stroke-linejoin:round; stroke-width:4; stroke-opacity:1; fill:none\" points=\"\n",
       "  219.866,1423.18 2049.76,1423.18 \n",
       "  \"/>\n",
       "<polyline clip-path=\"url(#clip830)\" style=\"stroke:#000000; stroke-linecap:butt; stroke-linejoin:round; stroke-width:4; stroke-opacity:1; fill:none\" points=\"\n",
       "  507.063,1423.18 507.063,1404.28 \n",
       "  \"/>\n",
       "<polyline clip-path=\"url(#clip830)\" style=\"stroke:#000000; stroke-linecap:butt; stroke-linejoin:round; stroke-width:4; stroke-opacity:1; fill:none\" points=\"\n",
       "  899.408,1423.18 899.408,1404.28 \n",
       "  \"/>\n",
       "<polyline clip-path=\"url(#clip830)\" style=\"stroke:#000000; stroke-linecap:butt; stroke-linejoin:round; stroke-width:4; stroke-opacity:1; fill:none\" points=\"\n",
       "  1291.75,1423.18 1291.75,1404.28 \n",
       "  \"/>\n",
       "<polyline clip-path=\"url(#clip830)\" style=\"stroke:#000000; stroke-linecap:butt; stroke-linejoin:round; stroke-width:4; stroke-opacity:1; fill:none\" points=\"\n",
       "  1684.1,1423.18 1684.1,1404.28 \n",
       "  \"/>\n",
       "<path clip-path=\"url(#clip830)\" d=\"M478.799 1481.64 L495.118 1481.64 L495.118 1485.58 L473.174 1485.58 L473.174 1481.64 Q475.836 1478.89 480.419 1474.26 Q485.026 1469.61 486.207 1468.27 Q488.452 1465.74 489.331 1464.01 Q490.234 1462.25 490.234 1460.56 Q490.234 1457.8 488.29 1456.07 Q486.369 1454.33 483.267 1454.33 Q481.068 1454.33 478.614 1455.09 Q476.183 1455.86 473.406 1457.41 L473.406 1452.69 Q476.23 1451.55 478.683 1450.97 Q481.137 1450.39 483.174 1450.39 Q488.544 1450.39 491.739 1453.08 Q494.933 1455.77 494.933 1460.26 Q494.933 1462.39 494.123 1464.31 Q493.336 1466.2 491.23 1468.8 Q490.651 1469.47 487.549 1472.69 Q484.447 1475.88 478.799 1481.64 Z\" fill=\"#000000\" fill-rule=\"evenodd\" fill-opacity=\"1\" /><path clip-path=\"url(#clip830)\" d=\"M504.933 1479.7 L509.817 1479.7 L509.817 1485.58 L504.933 1485.58 L504.933 1479.7 Z\" fill=\"#000000\" fill-rule=\"evenodd\" fill-opacity=\"1\" /><path clip-path=\"url(#clip830)\" d=\"M520.049 1451.02 L538.405 1451.02 L538.405 1454.96 L524.331 1454.96 L524.331 1463.43 Q525.35 1463.08 526.368 1462.92 Q527.387 1462.73 528.405 1462.73 Q534.192 1462.73 537.572 1465.9 Q540.952 1469.08 540.952 1474.49 Q540.952 1480.07 537.479 1483.17 Q534.007 1486.25 527.688 1486.25 Q525.512 1486.25 523.243 1485.88 Q520.998 1485.51 518.591 1484.77 L518.591 1480.07 Q520.674 1481.2 522.896 1481.76 Q525.118 1482.32 527.595 1482.32 Q531.6 1482.32 533.938 1480.21 Q536.276 1478.1 536.276 1474.49 Q536.276 1470.88 533.938 1468.77 Q531.6 1466.67 527.595 1466.67 Q525.72 1466.67 523.845 1467.08 Q521.993 1467.5 520.049 1468.38 L520.049 1451.02 Z\" fill=\"#000000\" fill-rule=\"evenodd\" fill-opacity=\"1\" /><path clip-path=\"url(#clip830)\" d=\"M866.572 1451.02 L884.929 1451.02 L884.929 1454.96 L870.855 1454.96 L870.855 1463.43 Q871.873 1463.08 872.892 1462.92 Q873.91 1462.73 874.929 1462.73 Q880.716 1462.73 884.096 1465.9 Q887.475 1469.08 887.475 1474.49 Q887.475 1480.07 884.003 1483.17 Q880.531 1486.25 874.211 1486.25 Q872.035 1486.25 869.767 1485.88 Q867.522 1485.51 865.114 1484.77 L865.114 1480.07 Q867.197 1481.2 869.42 1481.76 Q871.642 1482.32 874.119 1482.32 Q878.123 1482.32 880.461 1480.21 Q882.799 1478.1 882.799 1474.49 Q882.799 1470.88 880.461 1468.77 Q878.123 1466.67 874.119 1466.67 Q872.244 1466.67 870.369 1467.08 Q868.517 1467.5 866.572 1468.38 L866.572 1451.02 Z\" fill=\"#000000\" fill-rule=\"evenodd\" fill-opacity=\"1\" /><path clip-path=\"url(#clip830)\" d=\"M896.688 1479.7 L901.572 1479.7 L901.572 1485.58 L896.688 1485.58 L896.688 1479.7 Z\" fill=\"#000000\" fill-rule=\"evenodd\" fill-opacity=\"1\" /><path clip-path=\"url(#clip830)\" d=\"M921.757 1454.1 Q918.146 1454.1 916.318 1457.66 Q914.512 1461.2 914.512 1468.33 Q914.512 1475.44 916.318 1479.01 Q918.146 1482.55 921.757 1482.55 Q925.392 1482.55 927.197 1479.01 Q929.026 1475.44 929.026 1468.33 Q929.026 1461.2 927.197 1457.66 Q925.392 1454.1 921.757 1454.1 M921.757 1450.39 Q927.568 1450.39 930.623 1455 Q933.702 1459.58 933.702 1468.33 Q933.702 1477.06 930.623 1481.67 Q927.568 1486.25 921.757 1486.25 Q915.947 1486.25 912.869 1481.67 Q909.813 1477.06 909.813 1468.33 Q909.813 1459.58 912.869 1455 Q915.947 1450.39 921.757 1450.39 Z\" fill=\"#000000\" fill-rule=\"evenodd\" fill-opacity=\"1\" /><path clip-path=\"url(#clip830)\" d=\"M1258.07 1451.02 L1280.29 1451.02 L1280.29 1453.01 L1267.75 1485.58 L1262.86 1485.58 L1274.67 1454.96 L1258.07 1454.96 L1258.07 1451.02 Z\" fill=\"#000000\" fill-rule=\"evenodd\" fill-opacity=\"1\" /><path clip-path=\"url(#clip830)\" d=\"M1289.42 1479.7 L1294.3 1479.7 L1294.3 1485.58 L1289.42 1485.58 L1289.42 1479.7 Z\" fill=\"#000000\" fill-rule=\"evenodd\" fill-opacity=\"1\" /><path clip-path=\"url(#clip830)\" d=\"M1304.53 1451.02 L1322.89 1451.02 L1322.89 1454.96 L1308.81 1454.96 L1308.81 1463.43 Q1309.83 1463.08 1310.85 1462.92 Q1311.87 1462.73 1312.89 1462.73 Q1318.67 1462.73 1322.05 1465.9 Q1325.43 1469.08 1325.43 1474.49 Q1325.43 1480.07 1321.96 1483.17 Q1318.49 1486.25 1312.17 1486.25 Q1309.99 1486.25 1307.73 1485.88 Q1305.48 1485.51 1303.07 1484.77 L1303.07 1480.07 Q1305.16 1481.2 1307.38 1481.76 Q1309.6 1482.32 1312.08 1482.32 Q1316.08 1482.32 1318.42 1480.21 Q1320.76 1478.1 1320.76 1474.49 Q1320.76 1470.88 1318.42 1468.77 Q1316.08 1466.67 1312.08 1466.67 Q1310.2 1466.67 1308.33 1467.08 Q1306.48 1467.5 1304.53 1468.38 L1304.53 1451.02 Z\" fill=\"#000000\" fill-rule=\"evenodd\" fill-opacity=\"1\" /><path clip-path=\"url(#clip830)\" d=\"M1636.17 1481.64 L1643.81 1481.64 L1643.81 1455.28 L1635.5 1456.95 L1635.5 1452.69 L1643.76 1451.02 L1648.44 1451.02 L1648.44 1481.64 L1656.08 1481.64 L1656.08 1485.58 L1636.17 1485.58 L1636.17 1481.64 Z\" fill=\"#000000\" fill-rule=\"evenodd\" fill-opacity=\"1\" /><path clip-path=\"url(#clip830)\" d=\"M1675.52 1454.1 Q1671.91 1454.1 1670.08 1457.66 Q1668.28 1461.2 1668.28 1468.33 Q1668.28 1475.44 1670.08 1479.01 Q1671.91 1482.55 1675.52 1482.55 Q1679.16 1482.55 1680.96 1479.01 Q1682.79 1475.44 1682.79 1468.33 Q1682.79 1461.2 1680.96 1457.66 Q1679.16 1454.1 1675.52 1454.1 M1675.52 1450.39 Q1681.33 1450.39 1684.39 1455 Q1687.47 1459.58 1687.47 1468.33 Q1687.47 1477.06 1684.39 1481.67 Q1681.33 1486.25 1675.52 1486.25 Q1669.71 1486.25 1666.63 1481.67 Q1663.58 1477.06 1663.58 1468.33 Q1663.58 1459.58 1666.63 1455 Q1669.71 1450.39 1675.52 1450.39 Z\" fill=\"#000000\" fill-rule=\"evenodd\" fill-opacity=\"1\" /><path clip-path=\"url(#clip830)\" d=\"M1695.68 1479.7 L1700.57 1479.7 L1700.57 1485.58 L1695.68 1485.58 L1695.68 1479.7 Z\" fill=\"#000000\" fill-rule=\"evenodd\" fill-opacity=\"1\" /><path clip-path=\"url(#clip830)\" d=\"M1720.75 1454.1 Q1717.14 1454.1 1715.31 1457.66 Q1713.51 1461.2 1713.51 1468.33 Q1713.51 1475.44 1715.31 1479.01 Q1717.14 1482.55 1720.75 1482.55 Q1724.39 1482.55 1726.19 1479.01 Q1728.02 1475.44 1728.02 1468.33 Q1728.02 1461.2 1726.19 1457.66 Q1724.39 1454.1 1720.75 1454.1 M1720.75 1450.39 Q1726.56 1450.39 1729.62 1455 Q1732.7 1459.58 1732.7 1468.33 Q1732.7 1477.06 1729.62 1481.67 Q1726.56 1486.25 1720.75 1486.25 Q1714.94 1486.25 1711.86 1481.67 Q1708.81 1477.06 1708.81 1468.33 Q1708.81 1459.58 1711.86 1455 Q1714.94 1450.39 1720.75 1450.39 Z\" fill=\"#000000\" fill-rule=\"evenodd\" fill-opacity=\"1\" /><path clip-path=\"url(#clip830)\" d=\"M751.806 1520.52 L760.464 1520.52 L781.534 1560.28 L781.534 1520.52 L787.773 1520.52 L787.773 1568.04 L779.115 1568.04 L758.045 1528.29 L758.045 1568.04 L751.806 1568.04 L751.806 1520.52 Z\" fill=\"#000000\" fill-rule=\"evenodd\" fill-opacity=\"1\" /><path clip-path=\"url(#clip830)\" d=\"M799.708 1553.98 L799.708 1532.4 L805.565 1532.4 L805.565 1553.75 Q805.565 1558.81 807.538 1561.36 Q809.511 1563.87 813.458 1563.87 Q818.201 1563.87 820.938 1560.85 Q823.707 1557.83 823.707 1552.61 L823.707 1532.4 L829.563 1532.4 L829.563 1568.04 L823.707 1568.04 L823.707 1562.57 Q821.575 1565.82 818.742 1567.41 Q815.941 1568.97 812.217 1568.97 Q806.074 1568.97 802.891 1565.15 Q799.708 1561.33 799.708 1553.98 M814.445 1531.54 L814.445 1531.54 Z\" fill=\"#000000\" fill-rule=\"evenodd\" fill-opacity=\"1\" /><path clip-path=\"url(#clip830)\" d=\"M869.381 1539.24 Q871.577 1535.29 874.633 1533.41 Q877.688 1531.54 881.826 1531.54 Q887.396 1531.54 890.42 1535.45 Q893.443 1539.33 893.443 1546.53 L893.443 1568.04 L887.555 1568.04 L887.555 1546.72 Q887.555 1541.59 885.741 1539.11 Q883.927 1536.63 880.203 1536.63 Q875.651 1536.63 873.009 1539.65 Q870.368 1542.68 870.368 1547.9 L870.368 1568.04 L864.479 1568.04 L864.479 1546.72 Q864.479 1541.56 862.665 1539.11 Q860.851 1536.63 857.063 1536.63 Q852.576 1536.63 849.934 1539.68 Q847.292 1542.71 847.292 1547.9 L847.292 1568.04 L841.404 1568.04 L841.404 1532.4 L847.292 1532.4 L847.292 1537.93 Q849.297 1534.66 852.098 1533.1 Q854.899 1531.54 858.75 1531.54 Q862.633 1531.54 865.339 1533.51 Q868.076 1535.48 869.381 1539.24 Z\" fill=\"#000000\" fill-rule=\"evenodd\" fill-opacity=\"1\" /><path clip-path=\"url(#clip830)\" d=\"M930.715 1550.25 Q930.715 1543.79 928.041 1540.13 Q925.399 1536.44 920.752 1536.44 Q916.105 1536.44 913.432 1540.13 Q910.79 1543.79 910.79 1550.25 Q910.79 1556.71 913.432 1560.4 Q916.105 1564.07 920.752 1564.07 Q925.399 1564.07 928.041 1560.4 Q930.715 1556.71 930.715 1550.25 M910.79 1537.81 Q912.636 1534.62 915.437 1533.1 Q918.27 1531.54 922.185 1531.54 Q928.678 1531.54 932.72 1536.69 Q936.794 1541.85 936.794 1550.25 Q936.794 1558.65 932.72 1563.81 Q928.678 1568.97 922.185 1568.97 Q918.27 1568.97 915.437 1567.44 Q912.636 1565.88 910.79 1562.7 L910.79 1568.04 L904.902 1568.04 L904.902 1518.52 L910.79 1518.52 L910.79 1537.81 Z\" fill=\"#000000\" fill-rule=\"evenodd\" fill-opacity=\"1\" /><path clip-path=\"url(#clip830)\" d=\"M976.993 1548.76 L976.993 1551.62 L950.066 1551.62 Q950.448 1557.67 953.695 1560.85 Q956.973 1564 962.798 1564 Q966.172 1564 969.323 1563.17 Q972.505 1562.35 975.625 1560.69 L975.625 1566.23 Q972.474 1567.57 969.163 1568.27 Q965.853 1568.97 962.448 1568.97 Q953.918 1568.97 948.92 1564 Q943.955 1559.04 943.955 1550.57 Q943.955 1541.82 948.666 1536.69 Q953.408 1531.54 961.429 1531.54 Q968.622 1531.54 972.792 1536.18 Q976.993 1540.8 976.993 1548.76 M971.137 1547.04 Q971.073 1542.23 968.431 1539.37 Q965.821 1536.5 961.493 1536.5 Q956.591 1536.5 953.631 1539.27 Q950.703 1542.04 950.257 1547.07 L971.137 1547.04 Z\" fill=\"#000000\" fill-rule=\"evenodd\" fill-opacity=\"1\" /><path clip-path=\"url(#clip830)\" d=\"M1007.26 1537.87 Q1006.28 1537.3 1005.1 1537.04 Q1003.95 1536.76 1002.55 1536.76 Q997.586 1536.76 994.913 1540 Q992.271 1543.22 992.271 1549.27 L992.271 1568.04 L986.383 1568.04 L986.383 1532.4 L992.271 1532.4 L992.271 1537.93 Q994.117 1534.69 997.077 1533.13 Q1000.04 1531.54 1004.27 1531.54 Q1004.88 1531.54 1005.61 1531.63 Q1006.34 1531.7 1007.23 1531.85 L1007.26 1537.87 Z\" fill=\"#000000\" fill-rule=\"evenodd\" fill-opacity=\"1\" /><path clip-path=\"url(#clip830)\" d=\"M1047.94 1536.5 Q1043.23 1536.5 1040.49 1540.19 Q1037.75 1543.85 1037.75 1550.25 Q1037.75 1556.65 1040.46 1560.34 Q1043.2 1564 1047.94 1564 Q1052.62 1564 1055.36 1560.31 Q1058.09 1556.62 1058.09 1550.25 Q1058.09 1543.92 1055.36 1540.23 Q1052.62 1536.5 1047.94 1536.5 M1047.94 1531.54 Q1055.58 1531.54 1059.94 1536.5 Q1064.3 1541.47 1064.3 1550.25 Q1064.3 1559 1059.94 1564 Q1055.58 1568.97 1047.94 1568.97 Q1040.27 1568.97 1035.91 1564 Q1031.58 1559 1031.58 1550.25 Q1031.58 1541.47 1035.91 1536.5 Q1040.27 1531.54 1047.94 1531.54 Z\" fill=\"#000000\" fill-rule=\"evenodd\" fill-opacity=\"1\" /><path clip-path=\"url(#clip830)\" d=\"M1092.05 1518.52 L1092.05 1523.39 L1086.45 1523.39 Q1083.3 1523.39 1082.06 1524.66 Q1080.85 1525.93 1080.85 1529.24 L1080.85 1532.4 L1090.49 1532.4 L1090.49 1536.95 L1080.85 1536.95 L1080.85 1568.04 L1074.96 1568.04 L1074.96 1536.95 L1069.36 1536.95 L1069.36 1532.4 L1074.96 1532.4 L1074.96 1529.91 Q1074.96 1523.96 1077.73 1521.26 Q1080.5 1518.52 1086.52 1518.52 L1092.05 1518.52 Z\" fill=\"#000000\" fill-rule=\"evenodd\" fill-opacity=\"1\" /><path clip-path=\"url(#clip830)\" d=\"M1140.4 1533.45 L1140.4 1538.98 Q1137.92 1537.71 1135.24 1537.07 Q1132.57 1536.44 1129.71 1536.44 Q1125.35 1536.44 1123.15 1537.77 Q1120.99 1539.11 1120.99 1541.79 Q1120.99 1543.82 1122.55 1545 Q1124.1 1546.15 1128.82 1547.2 L1130.82 1547.64 Q1137.06 1548.98 1139.67 1551.43 Q1142.31 1553.85 1142.31 1558.21 Q1142.31 1563.17 1138.36 1566.07 Q1134.45 1568.97 1127.57 1568.97 Q1124.71 1568.97 1121.59 1568.39 Q1118.5 1567.85 1115.07 1566.74 L1115.07 1560.69 Q1118.31 1562.38 1121.46 1563.24 Q1124.61 1564.07 1127.7 1564.07 Q1131.84 1564.07 1134.07 1562.66 Q1136.3 1561.23 1136.3 1558.65 Q1136.3 1556.27 1134.67 1554.99 Q1133.08 1553.72 1127.64 1552.54 L1125.6 1552.07 Q1120.16 1550.92 1117.74 1548.56 Q1115.32 1546.18 1115.32 1542.04 Q1115.32 1537.01 1118.88 1534.27 Q1122.45 1531.54 1129.01 1531.54 Q1132.25 1531.54 1135.12 1532.01 Q1137.98 1532.49 1140.4 1533.45 Z\" fill=\"#000000\" fill-rule=\"evenodd\" fill-opacity=\"1\" /><path clip-path=\"url(#clip830)\" d=\"M1151.03 1553.98 L1151.03 1532.4 L1156.89 1532.4 L1156.89 1553.75 Q1156.89 1558.81 1158.86 1561.36 Q1160.83 1563.87 1164.78 1563.87 Q1169.52 1563.87 1172.26 1560.85 Q1175.03 1557.83 1175.03 1552.61 L1175.03 1532.4 L1180.89 1532.4 L1180.89 1568.04 L1175.03 1568.04 L1175.03 1562.57 Q1172.9 1565.82 1170.07 1567.41 Q1167.26 1568.97 1163.54 1568.97 Q1157.4 1568.97 1154.21 1565.15 Q1151.03 1561.33 1151.03 1553.98 M1165.77 1531.54 L1165.77 1531.54 Z\" fill=\"#000000\" fill-rule=\"evenodd\" fill-opacity=\"1\" /><path clip-path=\"url(#clip830)\" d=\"M1218.54 1550.25 Q1218.54 1543.79 1215.87 1540.13 Q1213.22 1536.44 1208.58 1536.44 Q1203.93 1536.44 1201.26 1540.13 Q1198.62 1543.79 1198.62 1550.25 Q1198.62 1556.71 1201.26 1560.4 Q1203.93 1564.07 1208.58 1564.07 Q1213.22 1564.07 1215.87 1560.4 Q1218.54 1556.71 1218.54 1550.25 M1198.62 1537.81 Q1200.46 1534.62 1203.26 1533.1 Q1206.1 1531.54 1210.01 1531.54 Q1216.5 1531.54 1220.55 1536.69 Q1224.62 1541.85 1224.62 1550.25 Q1224.62 1558.65 1220.55 1563.81 Q1216.5 1568.97 1210.01 1568.97 Q1206.1 1568.97 1203.26 1567.44 Q1200.46 1565.88 1198.62 1562.7 L1198.62 1568.04 L1192.73 1568.04 L1192.73 1518.52 L1198.62 1518.52 L1198.62 1537.81 Z\" fill=\"#000000\" fill-rule=\"evenodd\" fill-opacity=\"1\" /><path clip-path=\"url(#clip830)\" d=\"M1231.37 1547.58 L1248.52 1547.58 L1248.52 1552.8 L1231.37 1552.8 L1231.37 1547.58 Z\" fill=\"#000000\" fill-rule=\"evenodd\" fill-opacity=\"1\" /><path clip-path=\"url(#clip830)\" d=\"M1275.89 1518.52 L1275.89 1523.39 L1270.29 1523.39 Q1267.14 1523.39 1265.9 1524.66 Q1264.69 1525.93 1264.69 1529.24 L1264.69 1532.4 L1274.34 1532.4 L1274.34 1536.95 L1264.69 1536.95 L1264.69 1568.04 L1258.8 1568.04 L1258.8 1536.95 L1253.2 1536.95 L1253.2 1532.4 L1258.8 1532.4 L1258.8 1529.91 Q1258.8 1523.96 1261.57 1521.26 Q1264.34 1518.52 1270.36 1518.52 L1275.89 1518.52 Z\" fill=\"#000000\" fill-rule=\"evenodd\" fill-opacity=\"1\" /><path clip-path=\"url(#clip830)\" d=\"M1311.29 1548.76 L1311.29 1551.62 L1284.36 1551.62 Q1284.74 1557.67 1287.99 1560.85 Q1291.27 1564 1297.09 1564 Q1300.47 1564 1303.62 1563.17 Q1306.8 1562.35 1309.92 1560.69 L1309.92 1566.23 Q1306.77 1567.57 1303.46 1568.27 Q1300.15 1568.97 1296.74 1568.97 Q1288.21 1568.97 1283.22 1564 Q1278.25 1559.04 1278.25 1550.57 Q1278.25 1541.82 1282.96 1536.69 Q1287.7 1531.54 1295.72 1531.54 Q1302.92 1531.54 1307.09 1536.18 Q1311.29 1540.8 1311.29 1548.76 M1305.43 1547.04 Q1305.37 1542.23 1302.73 1539.37 Q1300.12 1536.5 1295.79 1536.5 Q1290.89 1536.5 1287.93 1539.27 Q1285 1542.04 1284.55 1547.07 L1305.43 1547.04 Z\" fill=\"#000000\" fill-rule=\"evenodd\" fill-opacity=\"1\" /><path clip-path=\"url(#clip830)\" d=\"M1337.1 1550.12 Q1330 1550.12 1327.27 1551.75 Q1324.53 1553.37 1324.53 1557.29 Q1324.53 1560.4 1326.57 1562.25 Q1328.63 1564.07 1332.17 1564.07 Q1337.04 1564.07 1339.97 1560.63 Q1342.93 1557.16 1342.93 1551.43 L1342.93 1550.12 L1337.1 1550.12 M1348.78 1547.71 L1348.78 1568.04 L1342.93 1568.04 L1342.93 1562.63 Q1340.92 1565.88 1337.93 1567.44 Q1334.94 1568.97 1330.61 1568.97 Q1325.13 1568.97 1321.89 1565.91 Q1318.67 1562.82 1318.67 1557.67 Q1318.67 1551.65 1322.68 1548.6 Q1326.73 1545.54 1334.71 1545.54 L1342.93 1545.54 L1342.93 1544.97 Q1342.93 1540.93 1340.25 1538.73 Q1337.61 1536.5 1332.8 1536.5 Q1329.75 1536.5 1326.85 1537.23 Q1323.96 1537.97 1321.28 1539.43 L1321.28 1534.02 Q1324.5 1532.78 1327.52 1532.17 Q1330.54 1531.54 1333.41 1531.54 Q1341.14 1531.54 1344.96 1535.55 Q1348.78 1539.56 1348.78 1547.71 Z\" fill=\"#000000\" fill-rule=\"evenodd\" fill-opacity=\"1\" /><path clip-path=\"url(#clip830)\" d=\"M1366.64 1522.27 L1366.64 1532.4 L1378.7 1532.4 L1378.7 1536.95 L1366.64 1536.95 L1366.64 1556.3 Q1366.64 1560.66 1367.82 1561.9 Q1369.03 1563.14 1372.69 1563.14 L1378.7 1563.14 L1378.7 1568.04 L1372.69 1568.04 Q1365.91 1568.04 1363.33 1565.53 Q1360.75 1562.98 1360.75 1556.3 L1360.75 1536.95 L1356.45 1536.95 L1356.45 1532.4 L1360.75 1532.4 L1360.75 1522.27 L1366.64 1522.27 Z\" fill=\"#000000\" fill-rule=\"evenodd\" fill-opacity=\"1\" /><path clip-path=\"url(#clip830)\" d=\"M1385.8 1553.98 L1385.8 1532.4 L1391.66 1532.4 L1391.66 1553.75 Q1391.66 1558.81 1393.63 1561.36 Q1395.6 1563.87 1399.55 1563.87 Q1404.29 1563.87 1407.03 1560.85 Q1409.8 1557.83 1409.8 1552.61 L1409.8 1532.4 L1415.65 1532.4 L1415.65 1568.04 L1409.8 1568.04 L1409.8 1562.57 Q1407.67 1565.82 1404.83 1567.41 Q1402.03 1568.97 1398.31 1568.97 Q1392.16 1568.97 1388.98 1565.15 Q1385.8 1561.33 1385.8 1553.98 M1400.54 1531.54 L1400.54 1531.54 Z\" fill=\"#000000\" fill-rule=\"evenodd\" fill-opacity=\"1\" /><path clip-path=\"url(#clip830)\" d=\"M1448.37 1537.87 Q1447.39 1537.3 1446.21 1537.04 Q1445.06 1536.76 1443.66 1536.76 Q1438.7 1536.76 1436.02 1540 Q1433.38 1543.22 1433.38 1549.27 L1433.38 1568.04 L1427.49 1568.04 L1427.49 1532.4 L1433.38 1532.4 L1433.38 1537.93 Q1435.23 1534.69 1438.19 1533.13 Q1441.15 1531.54 1445.38 1531.54 Q1445.99 1531.54 1446.72 1531.63 Q1447.45 1531.7 1448.34 1531.85 L1448.37 1537.87 Z\" fill=\"#000000\" fill-rule=\"evenodd\" fill-opacity=\"1\" /><path clip-path=\"url(#clip830)\" d=\"M1483.58 1548.76 L1483.58 1551.62 L1456.65 1551.62 Q1457.03 1557.67 1460.28 1560.85 Q1463.56 1564 1469.38 1564 Q1472.75 1564 1475.91 1563.17 Q1479.09 1562.35 1482.21 1560.69 L1482.21 1566.23 Q1479.06 1567.57 1475.75 1568.27 Q1472.44 1568.97 1469.03 1568.97 Q1460.5 1568.97 1455.5 1564 Q1450.54 1559.04 1450.54 1550.57 Q1450.54 1541.82 1455.25 1536.69 Q1459.99 1531.54 1468.01 1531.54 Q1475.21 1531.54 1479.37 1536.18 Q1483.58 1540.8 1483.58 1548.76 M1477.72 1547.04 Q1477.66 1542.23 1475.01 1539.37 Q1472.4 1536.5 1468.08 1536.5 Q1463.17 1536.5 1460.21 1539.27 Q1457.29 1542.04 1456.84 1547.07 L1477.72 1547.04 Z\" fill=\"#000000\" fill-rule=\"evenodd\" fill-opacity=\"1\" /><path clip-path=\"url(#clip830)\" d=\"M1515.91 1533.45 L1515.91 1538.98 Q1513.43 1537.71 1510.76 1537.07 Q1508.08 1536.44 1505.22 1536.44 Q1500.86 1536.44 1498.66 1537.77 Q1496.5 1539.11 1496.5 1541.79 Q1496.5 1543.82 1498.06 1545 Q1499.62 1546.15 1504.33 1547.2 L1506.33 1547.64 Q1512.57 1548.98 1515.18 1551.43 Q1517.82 1553.85 1517.82 1558.21 Q1517.82 1563.17 1513.88 1566.07 Q1509.96 1568.97 1503.09 1568.97 Q1500.22 1568.97 1497.1 1568.39 Q1494.02 1567.85 1490.58 1566.74 L1490.58 1560.69 Q1493.82 1562.38 1496.98 1563.24 Q1500.13 1564.07 1503.21 1564.07 Q1507.35 1564.07 1509.58 1562.66 Q1511.81 1561.23 1511.81 1558.65 Q1511.81 1556.27 1510.18 1554.99 Q1508.59 1553.72 1503.15 1552.54 L1501.11 1552.07 Q1495.67 1550.92 1493.25 1548.56 Q1490.83 1546.18 1490.83 1542.04 Q1490.83 1537.01 1494.4 1534.27 Q1497.96 1531.54 1504.52 1531.54 Q1507.77 1531.54 1510.63 1532.01 Q1513.49 1532.49 1515.91 1533.45 Z\" fill=\"#000000\" fill-rule=\"evenodd\" fill-opacity=\"1\" /><polyline clip-path=\"url(#clip832)\" style=\"stroke:#000000; stroke-linecap:butt; stroke-linejoin:round; stroke-width:2; stroke-opacity:0.1; fill:none\" points=\"\n",
       "  219.866,1384.24 2049.76,1384.24 \n",
       "  \"/>\n",
       "<polyline clip-path=\"url(#clip832)\" style=\"stroke:#000000; stroke-linecap:butt; stroke-linejoin:round; stroke-width:2; stroke-opacity:0.1; fill:none\" points=\"\n",
       "  219.866,1167.9 2049.76,1167.9 \n",
       "  \"/>\n",
       "<polyline clip-path=\"url(#clip832)\" style=\"stroke:#000000; stroke-linecap:butt; stroke-linejoin:round; stroke-width:2; stroke-opacity:0.1; fill:none\" points=\"\n",
       "  219.866,951.554 2049.76,951.554 \n",
       "  \"/>\n",
       "<polyline clip-path=\"url(#clip832)\" style=\"stroke:#000000; stroke-linecap:butt; stroke-linejoin:round; stroke-width:2; stroke-opacity:0.1; fill:none\" points=\"\n",
       "  219.866,735.212 2049.76,735.212 \n",
       "  \"/>\n",
       "<polyline clip-path=\"url(#clip832)\" style=\"stroke:#000000; stroke-linecap:butt; stroke-linejoin:round; stroke-width:2; stroke-opacity:0.1; fill:none\" points=\"\n",
       "  219.866,518.87 2049.76,518.87 \n",
       "  \"/>\n",
       "<polyline clip-path=\"url(#clip832)\" style=\"stroke:#000000; stroke-linecap:butt; stroke-linejoin:round; stroke-width:2; stroke-opacity:0.1; fill:none\" points=\"\n",
       "  219.866,302.528 2049.76,302.528 \n",
       "  \"/>\n",
       "<polyline clip-path=\"url(#clip832)\" style=\"stroke:#000000; stroke-linecap:butt; stroke-linejoin:round; stroke-width:2; stroke-opacity:0.1; fill:none\" points=\"\n",
       "  219.866,86.1857 2049.76,86.1857 \n",
       "  \"/>\n",
       "<polyline clip-path=\"url(#clip830)\" style=\"stroke:#000000; stroke-linecap:butt; stroke-linejoin:round; stroke-width:4; stroke-opacity:1; fill:none\" points=\"\n",
       "  219.866,1423.18 219.866,47.2441 \n",
       "  \"/>\n",
       "<polyline clip-path=\"url(#clip830)\" style=\"stroke:#000000; stroke-linecap:butt; stroke-linejoin:round; stroke-width:4; stroke-opacity:1; fill:none\" points=\"\n",
       "  219.866,1384.24 236.573,1384.24 \n",
       "  \"/>\n",
       "<polyline clip-path=\"url(#clip830)\" style=\"stroke:#000000; stroke-linecap:butt; stroke-linejoin:round; stroke-width:4; stroke-opacity:1; fill:none\" points=\"\n",
       "  219.866,1167.9 236.573,1167.9 \n",
       "  \"/>\n",
       "<polyline clip-path=\"url(#clip830)\" style=\"stroke:#000000; stroke-linecap:butt; stroke-linejoin:round; stroke-width:4; stroke-opacity:1; fill:none\" points=\"\n",
       "  219.866,951.554 236.573,951.554 \n",
       "  \"/>\n",
       "<polyline clip-path=\"url(#clip830)\" style=\"stroke:#000000; stroke-linecap:butt; stroke-linejoin:round; stroke-width:4; stroke-opacity:1; fill:none\" points=\"\n",
       "  219.866,735.212 236.573,735.212 \n",
       "  \"/>\n",
       "<polyline clip-path=\"url(#clip830)\" style=\"stroke:#000000; stroke-linecap:butt; stroke-linejoin:round; stroke-width:4; stroke-opacity:1; fill:none\" points=\"\n",
       "  219.866,518.87 236.573,518.87 \n",
       "  \"/>\n",
       "<polyline clip-path=\"url(#clip830)\" style=\"stroke:#000000; stroke-linecap:butt; stroke-linejoin:round; stroke-width:4; stroke-opacity:1; fill:none\" points=\"\n",
       "  219.866,302.528 236.573,302.528 \n",
       "  \"/>\n",
       "<polyline clip-path=\"url(#clip830)\" style=\"stroke:#000000; stroke-linecap:butt; stroke-linejoin:round; stroke-width:4; stroke-opacity:1; fill:none\" points=\"\n",
       "  219.866,86.1857 236.573,86.1857 \n",
       "  \"/>\n",
       "<path clip-path=\"url(#clip830)\" d=\"M126.205 1370.04 Q122.593 1370.04 120.765 1373.6 Q118.959 1377.14 118.959 1384.27 Q118.959 1391.38 120.765 1394.94 Q122.593 1398.49 126.205 1398.49 Q129.839 1398.49 131.644 1394.94 Q133.473 1391.38 133.473 1384.27 Q133.473 1377.14 131.644 1373.6 Q129.839 1370.04 126.205 1370.04 M126.205 1366.33 Q132.015 1366.33 135.07 1370.94 Q138.149 1375.52 138.149 1384.27 Q138.149 1393 135.07 1397.61 Q132.015 1402.19 126.205 1402.19 Q120.394 1402.19 117.316 1397.61 Q114.26 1393 114.26 1384.27 Q114.26 1375.52 117.316 1370.94 Q120.394 1366.33 126.205 1366.33 Z\" fill=\"#000000\" fill-rule=\"evenodd\" fill-opacity=\"1\" /><path clip-path=\"url(#clip830)\" d=\"M146.366 1395.64 L151.251 1395.64 L151.251 1401.52 L146.366 1401.52 L146.366 1395.64 Z\" fill=\"#000000\" fill-rule=\"evenodd\" fill-opacity=\"1\" /><path clip-path=\"url(#clip830)\" d=\"M174.283 1371.03 L162.477 1389.48 L174.283 1389.48 L174.283 1371.03 M173.056 1366.96 L178.936 1366.96 L178.936 1389.48 L183.866 1389.48 L183.866 1393.37 L178.936 1393.37 L178.936 1401.52 L174.283 1401.52 L174.283 1393.37 L158.681 1393.37 L158.681 1388.86 L173.056 1366.96 Z\" fill=\"#000000\" fill-rule=\"evenodd\" fill-opacity=\"1\" /><path clip-path=\"url(#clip830)\" d=\"M127.686 1153.69 Q124.075 1153.69 122.246 1157.26 Q120.441 1160.8 120.441 1167.93 Q120.441 1175.04 122.246 1178.6 Q124.075 1182.14 127.686 1182.14 Q131.32 1182.14 133.126 1178.6 Q134.954 1175.04 134.954 1167.93 Q134.954 1160.8 133.126 1157.26 Q131.32 1153.69 127.686 1153.69 M127.686 1149.99 Q133.496 1149.99 136.552 1154.6 Q139.63 1159.18 139.63 1167.93 Q139.63 1176.66 136.552 1181.26 Q133.496 1185.85 127.686 1185.85 Q121.876 1185.85 118.797 1181.26 Q115.742 1176.66 115.742 1167.93 Q115.742 1159.18 118.797 1154.6 Q121.876 1149.99 127.686 1149.99 Z\" fill=\"#000000\" fill-rule=\"evenodd\" fill-opacity=\"1\" /><path clip-path=\"url(#clip830)\" d=\"M147.848 1179.3 L152.732 1179.3 L152.732 1185.18 L147.848 1185.18 L147.848 1179.3 Z\" fill=\"#000000\" fill-rule=\"evenodd\" fill-opacity=\"1\" /><path clip-path=\"url(#clip830)\" d=\"M162.964 1150.62 L181.32 1150.62 L181.32 1154.55 L167.246 1154.55 L167.246 1163.02 Q168.264 1162.68 169.283 1162.51 Q170.302 1162.33 171.32 1162.33 Q177.107 1162.33 180.487 1165.5 Q183.866 1168.67 183.866 1174.09 Q183.866 1179.67 180.394 1182.77 Q176.922 1185.85 170.602 1185.85 Q168.427 1185.85 166.158 1185.48 Q163.913 1185.11 161.505 1184.37 L161.505 1179.67 Q163.589 1180.8 165.811 1181.36 Q168.033 1181.91 170.51 1181.91 Q174.514 1181.91 176.852 1179.81 Q179.19 1177.7 179.19 1174.09 Q179.19 1170.48 176.852 1168.37 Q174.514 1166.26 170.51 1166.26 Q168.635 1166.26 166.76 1166.68 Q164.908 1167.1 162.964 1167.98 L162.964 1150.62 Z\" fill=\"#000000\" fill-rule=\"evenodd\" fill-opacity=\"1\" /><path clip-path=\"url(#clip830)\" d=\"M126.529 937.353 Q122.918 937.353 121.089 940.918 Q119.283 944.459 119.283 951.589 Q119.283 958.695 121.089 962.26 Q122.918 965.802 126.529 965.802 Q130.163 965.802 131.968 962.26 Q133.797 958.695 133.797 951.589 Q133.797 944.459 131.968 940.918 Q130.163 937.353 126.529 937.353 M126.529 933.649 Q132.339 933.649 135.394 938.256 Q138.473 942.839 138.473 951.589 Q138.473 960.316 135.394 964.922 Q132.339 969.505 126.529 969.505 Q120.718 969.505 117.64 964.922 Q114.584 960.316 114.584 951.589 Q114.584 942.839 117.64 938.256 Q120.718 933.649 126.529 933.649 Z\" fill=\"#000000\" fill-rule=\"evenodd\" fill-opacity=\"1\" /><path clip-path=\"url(#clip830)\" d=\"M146.691 962.954 L151.575 962.954 L151.575 968.834 L146.691 968.834 L146.691 962.954 Z\" fill=\"#000000\" fill-rule=\"evenodd\" fill-opacity=\"1\" /><path clip-path=\"url(#clip830)\" d=\"M172.339 949.691 Q169.19 949.691 167.339 951.843 Q165.51 953.996 165.51 957.746 Q165.51 961.473 167.339 963.649 Q169.19 965.802 172.339 965.802 Q175.487 965.802 177.315 963.649 Q179.167 961.473 179.167 957.746 Q179.167 953.996 177.315 951.843 Q175.487 949.691 172.339 949.691 M181.621 935.038 L181.621 939.297 Q179.862 938.464 178.056 938.024 Q176.274 937.584 174.514 937.584 Q169.885 937.584 167.431 940.709 Q165.001 943.834 164.653 950.154 Q166.019 948.14 168.079 947.075 Q170.139 945.987 172.616 945.987 Q177.825 945.987 180.834 949.158 Q183.866 952.306 183.866 957.746 Q183.866 963.07 180.718 966.288 Q177.57 969.505 172.339 969.505 Q166.343 969.505 163.172 964.922 Q160.001 960.316 160.001 951.589 Q160.001 943.394 163.89 938.533 Q167.778 933.649 174.329 933.649 Q176.089 933.649 177.871 933.996 Q179.676 934.344 181.621 935.038 Z\" fill=\"#000000\" fill-rule=\"evenodd\" fill-opacity=\"1\" /><path clip-path=\"url(#clip830)\" d=\"M127.593 721.011 Q123.982 721.011 122.154 724.575 Q120.348 728.117 120.348 735.247 Q120.348 742.353 122.154 745.918 Q123.982 749.46 127.593 749.46 Q131.228 749.46 133.033 745.918 Q134.862 742.353 134.862 735.247 Q134.862 728.117 133.033 724.575 Q131.228 721.011 127.593 721.011 M127.593 717.307 Q133.404 717.307 136.459 721.913 Q139.538 726.497 139.538 735.247 Q139.538 743.973 136.459 748.58 Q133.404 753.163 127.593 753.163 Q121.783 753.163 118.705 748.58 Q115.649 743.973 115.649 735.247 Q115.649 726.497 118.705 721.913 Q121.783 717.307 127.593 717.307 Z\" fill=\"#000000\" fill-rule=\"evenodd\" fill-opacity=\"1\" /><path clip-path=\"url(#clip830)\" d=\"M147.755 746.612 L152.64 746.612 L152.64 752.492 L147.755 752.492 L147.755 746.612 Z\" fill=\"#000000\" fill-rule=\"evenodd\" fill-opacity=\"1\" /><path clip-path=\"url(#clip830)\" d=\"M161.644 717.932 L183.866 717.932 L183.866 719.923 L171.32 752.492 L166.436 752.492 L178.241 721.867 L161.644 721.867 L161.644 717.932 Z\" fill=\"#000000\" fill-rule=\"evenodd\" fill-opacity=\"1\" /><path clip-path=\"url(#clip830)\" d=\"M126.783 504.669 Q123.172 504.669 121.343 508.233 Q119.538 511.775 119.538 518.905 Q119.538 526.011 121.343 529.576 Q123.172 533.117 126.783 533.117 Q130.417 533.117 132.223 529.576 Q134.052 526.011 134.052 518.905 Q134.052 511.775 132.223 508.233 Q130.417 504.669 126.783 504.669 M126.783 500.965 Q132.593 500.965 135.649 505.571 Q138.728 510.155 138.728 518.905 Q138.728 527.631 135.649 532.238 Q132.593 536.821 126.783 536.821 Q120.973 536.821 117.894 532.238 Q114.839 527.631 114.839 518.905 Q114.839 510.155 117.894 505.571 Q120.973 500.965 126.783 500.965 Z\" fill=\"#000000\" fill-rule=\"evenodd\" fill-opacity=\"1\" /><path clip-path=\"url(#clip830)\" d=\"M146.945 530.27 L151.829 530.27 L151.829 536.15 L146.945 536.15 L146.945 530.27 Z\" fill=\"#000000\" fill-rule=\"evenodd\" fill-opacity=\"1\" /><path clip-path=\"url(#clip830)\" d=\"M172.014 519.738 Q168.681 519.738 166.76 521.52 Q164.862 523.303 164.862 526.428 Q164.862 529.553 166.76 531.335 Q168.681 533.117 172.014 533.117 Q175.348 533.117 177.269 531.335 Q179.19 529.53 179.19 526.428 Q179.19 523.303 177.269 521.52 Q175.371 519.738 172.014 519.738 M167.339 517.747 Q164.329 517.006 162.64 514.946 Q160.973 512.886 160.973 509.923 Q160.973 505.78 163.913 503.372 Q166.876 500.965 172.014 500.965 Q177.176 500.965 180.116 503.372 Q183.056 505.78 183.056 509.923 Q183.056 512.886 181.366 514.946 Q179.7 517.006 176.714 517.747 Q180.093 518.534 181.968 520.826 Q183.866 523.118 183.866 526.428 Q183.866 531.451 180.788 534.136 Q177.732 536.821 172.014 536.821 Q166.297 536.821 163.218 534.136 Q160.163 531.451 160.163 526.428 Q160.163 523.118 162.061 520.826 Q163.959 518.534 167.339 517.747 M165.626 510.363 Q165.626 513.048 167.292 514.553 Q168.982 516.057 172.014 516.057 Q175.024 516.057 176.714 514.553 Q178.426 513.048 178.426 510.363 Q178.426 507.678 176.714 506.173 Q175.024 504.669 172.014 504.669 Q168.982 504.669 167.292 506.173 Q165.626 507.678 165.626 510.363 Z\" fill=\"#000000\" fill-rule=\"evenodd\" fill-opacity=\"1\" /><path clip-path=\"url(#clip830)\" d=\"M126.876 288.326 Q123.265 288.326 121.436 291.891 Q119.63 295.433 119.63 302.562 Q119.63 309.669 121.436 313.234 Q123.265 316.775 126.876 316.775 Q130.51 316.775 132.316 313.234 Q134.144 309.669 134.144 302.562 Q134.144 295.433 132.316 291.891 Q130.51 288.326 126.876 288.326 M126.876 284.623 Q132.686 284.623 135.742 289.229 Q138.82 293.813 138.82 302.562 Q138.82 311.289 135.742 315.896 Q132.686 320.479 126.876 320.479 Q121.066 320.479 117.987 315.896 Q114.931 311.289 114.931 302.562 Q114.931 293.813 117.987 289.229 Q121.066 284.623 126.876 284.623 Z\" fill=\"#000000\" fill-rule=\"evenodd\" fill-opacity=\"1\" /><path clip-path=\"url(#clip830)\" d=\"M147.038 313.928 L151.922 313.928 L151.922 319.808 L147.038 319.808 L147.038 313.928 Z\" fill=\"#000000\" fill-rule=\"evenodd\" fill-opacity=\"1\" /><path clip-path=\"url(#clip830)\" d=\"M162.246 319.09 L162.246 314.831 Q164.005 315.664 165.811 316.104 Q167.616 316.544 169.352 316.544 Q173.982 316.544 176.413 313.442 Q178.866 310.317 179.214 303.975 Q177.871 305.965 175.811 307.03 Q173.751 308.095 171.251 308.095 Q166.065 308.095 163.033 304.97 Q160.024 301.822 160.024 296.382 Q160.024 291.058 163.172 287.84 Q166.32 284.623 171.552 284.623 Q177.547 284.623 180.695 289.229 Q183.866 293.813 183.866 302.562 Q183.866 310.734 179.977 315.618 Q176.112 320.479 169.561 320.479 Q167.802 320.479 165.996 320.132 Q164.19 319.785 162.246 319.09 M171.552 304.437 Q174.7 304.437 176.528 302.285 Q178.38 300.132 178.38 296.382 Q178.38 292.655 176.528 290.502 Q174.7 288.326 171.552 288.326 Q168.403 288.326 166.552 290.502 Q164.723 292.655 164.723 296.382 Q164.723 300.132 166.552 302.285 Q168.403 304.437 171.552 304.437 Z\" fill=\"#000000\" fill-rule=\"evenodd\" fill-opacity=\"1\" /><path clip-path=\"url(#clip830)\" d=\"M117.501 99.5305 L125.14 99.5305 L125.14 73.1649 L116.83 74.8316 L116.83 70.5723 L125.093 68.9057 L129.769 68.9057 L129.769 99.5305 L137.408 99.5305 L137.408 103.466 L117.501 103.466 L117.501 99.5305 Z\" fill=\"#000000\" fill-rule=\"evenodd\" fill-opacity=\"1\" /><path clip-path=\"url(#clip830)\" d=\"M146.853 97.5861 L151.737 97.5861 L151.737 103.466 L146.853 103.466 L146.853 97.5861 Z\" fill=\"#000000\" fill-rule=\"evenodd\" fill-opacity=\"1\" /><path clip-path=\"url(#clip830)\" d=\"M171.922 71.9844 Q168.311 71.9844 166.482 75.5492 Q164.677 79.0908 164.677 86.2204 Q164.677 93.3268 166.482 96.8916 Q168.311 100.433 171.922 100.433 Q175.556 100.433 177.362 96.8916 Q179.19 93.3268 179.19 86.2204 Q179.19 79.0908 177.362 75.5492 Q175.556 71.9844 171.922 71.9844 M171.922 68.2807 Q177.732 68.2807 180.788 72.8871 Q183.866 77.4704 183.866 86.2204 Q183.866 94.9472 180.788 99.5537 Q177.732 104.137 171.922 104.137 Q166.112 104.137 163.033 99.5537 Q159.978 94.9472 159.978 86.2204 Q159.978 77.4704 163.033 72.8871 Q166.112 68.2807 171.922 68.2807 Z\" fill=\"#000000\" fill-rule=\"evenodd\" fill-opacity=\"1\" /><path clip-path=\"url(#clip830)\" d=\"M41.3104 992.482 L58.7206 992.482 L58.7206 982.17 Q58.7206 976.982 56.5881 974.499 Q54.4238 971.984 49.9996 971.984 Q45.5436 971.984 43.4429 974.499 Q41.3104 976.982 41.3104 982.17 L41.3104 992.482 M21.7677 992.482 L36.0905 992.482 L36.0905 982.965 Q36.0905 978.255 34.34 975.963 Q32.5576 973.64 28.9291 973.64 Q25.3325 973.64 23.5501 975.963 Q21.7677 978.255 21.7677 982.965 L21.7677 992.482 M16.4842 998.911 L16.4842 982.488 Q16.4842 975.135 19.5397 971.157 Q22.5952 967.178 28.2289 967.178 Q32.5894 967.178 35.1675 969.215 Q37.7456 971.252 38.3822 975.199 Q39.4007 970.457 42.6472 967.847 Q45.8619 965.205 50.6998 965.205 Q57.0655 965.205 60.5348 969.534 Q64.0042 973.862 64.0042 981.851 L64.0042 998.911 L16.4842 998.911 Z\" fill=\"#000000\" fill-rule=\"evenodd\" fill-opacity=\"1\" /><path clip-path=\"url(#clip830)\" d=\"M46.0847 938.246 Q46.0847 945.344 47.7079 948.081 Q49.3312 950.818 53.2461 950.818 Q56.3653 950.818 58.2114 948.781 Q60.0256 946.713 60.0256 943.18 Q60.0256 938.31 56.5881 935.382 Q53.1188 932.422 47.3897 932.422 L46.0847 932.422 L46.0847 938.246 M43.6657 926.565 L64.0042 926.565 L64.0042 932.422 L58.5933 932.422 Q61.8398 934.427 63.3994 937.419 Q64.9272 940.411 64.9272 944.739 Q64.9272 950.214 61.8716 953.46 Q58.7843 956.675 53.6281 956.675 Q47.6125 956.675 44.5569 952.665 Q41.5014 948.622 41.5014 940.633 L41.5014 932.422 L40.9285 932.422 Q36.8862 932.422 34.6901 935.095 Q32.4621 937.737 32.4621 942.543 Q32.4621 945.599 33.1941 948.495 Q33.9262 951.391 35.3903 954.065 L29.9795 954.065 Q28.7381 950.85 28.1334 947.827 Q27.4968 944.803 27.4968 941.938 Q27.4968 934.204 31.5072 930.385 Q35.5176 926.565 43.6657 926.565 Z\" fill=\"#000000\" fill-rule=\"evenodd\" fill-opacity=\"1\" /><path clip-path=\"url(#clip830)\" d=\"M45.7664 891.044 Q39.4007 891.044 35.8996 893.686 Q32.3984 896.296 32.3984 901.039 Q32.3984 905.749 35.8996 908.391 Q39.4007 911.001 45.7664 911.001 Q52.1003 911.001 55.6014 908.391 Q59.1026 905.749 59.1026 901.039 Q59.1026 896.296 55.6014 893.686 Q52.1003 891.044 45.7664 891.044 M59.58 885.188 Q68.683 885.188 73.1071 889.23 Q77.5631 893.272 77.5631 901.612 Q77.5631 904.699 77.0857 907.436 Q76.6401 910.173 75.6852 912.752 L69.9879 912.752 Q71.3884 910.173 72.0568 907.659 Q72.7252 905.145 72.7252 902.535 Q72.7252 896.774 69.7015 893.909 Q66.7096 891.044 60.6303 891.044 L57.7339 891.044 Q60.885 892.859 62.4446 895.691 Q64.0042 898.524 64.0042 902.471 Q64.0042 909.028 59.0071 913.038 Q54.01 917.048 45.7664 917.048 Q37.491 917.048 32.4939 913.038 Q27.4968 909.028 27.4968 902.471 Q27.4968 898.524 29.0564 895.691 Q30.616 892.859 33.7671 891.044 L28.3562 891.044 L28.3562 885.188 L59.58 885.188 Z\" fill=\"#000000\" fill-rule=\"evenodd\" fill-opacity=\"1\" /><path clip-path=\"url(#clip830)\" d=\"M45.7664 849.667 Q39.4007 849.667 35.8996 852.309 Q32.3984 854.919 32.3984 859.662 Q32.3984 864.372 35.8996 867.014 Q39.4007 869.624 45.7664 869.624 Q52.1003 869.624 55.6014 867.014 Q59.1026 864.372 59.1026 859.662 Q59.1026 854.919 55.6014 852.309 Q52.1003 849.667 45.7664 849.667 M59.58 843.811 Q68.683 843.811 73.1071 847.853 Q77.5631 851.895 77.5631 860.234 Q77.5631 863.322 77.0857 866.059 Q76.6401 868.796 75.6852 871.374 L69.9879 871.374 Q71.3884 868.796 72.0568 866.282 Q72.7252 863.767 72.7252 861.157 Q72.7252 855.397 69.7015 852.532 Q66.7096 849.667 60.6303 849.667 L57.7339 849.667 Q60.885 851.482 62.4446 854.314 Q64.0042 857.147 64.0042 861.094 Q64.0042 867.65 59.0071 871.661 Q54.01 875.671 45.7664 875.671 Q37.491 875.671 32.4939 871.661 Q27.4968 867.65 27.4968 861.094 Q27.4968 857.147 29.0564 854.314 Q30.616 851.482 33.7671 849.667 L28.3562 849.667 L28.3562 843.811 L59.58 843.811 Z\" fill=\"#000000\" fill-rule=\"evenodd\" fill-opacity=\"1\" /><path clip-path=\"url(#clip830)\" d=\"M28.3562 831.748 L28.3562 825.891 L64.0042 825.891 L64.0042 831.748 L28.3562 831.748 M14.479 831.748 L14.479 825.891 L21.895 825.891 L21.895 831.748 L14.479 831.748 Z\" fill=\"#000000\" fill-rule=\"evenodd\" fill-opacity=\"1\" /><path clip-path=\"url(#clip830)\" d=\"M42.4881 784.005 L64.0042 784.005 L64.0042 789.862 L42.679 789.862 Q37.6183 789.862 35.1038 791.835 Q32.5894 793.808 32.5894 797.755 Q32.5894 802.497 35.6131 805.235 Q38.6368 807.972 43.8567 807.972 L64.0042 807.972 L64.0042 813.86 L28.3562 813.86 L28.3562 807.972 L33.8944 807.972 Q30.6797 805.871 29.0883 803.039 Q27.4968 800.174 27.4968 796.45 Q27.4968 790.307 31.3163 787.156 Q35.1038 784.005 42.4881 784.005 Z\" fill=\"#000000\" fill-rule=\"evenodd\" fill-opacity=\"1\" /><path clip-path=\"url(#clip830)\" d=\"M45.7664 748.866 Q39.4007 748.866 35.8996 751.508 Q32.3984 754.118 32.3984 758.861 Q32.3984 763.571 35.8996 766.213 Q39.4007 768.823 45.7664 768.823 Q52.1003 768.823 55.6014 766.213 Q59.1026 763.571 59.1026 758.861 Q59.1026 754.118 55.6014 751.508 Q52.1003 748.866 45.7664 748.866 M59.58 743.01 Q68.683 743.01 73.1071 747.052 Q77.5631 751.094 77.5631 759.433 Q77.5631 762.521 77.0857 765.258 Q76.6401 767.995 75.6852 770.573 L69.9879 770.573 Q71.3884 767.995 72.0568 765.481 Q72.7252 762.966 72.7252 760.357 Q72.7252 754.596 69.7015 751.731 Q66.7096 748.866 60.6303 748.866 L57.7339 748.866 Q60.885 750.681 62.4446 753.513 Q64.0042 756.346 64.0042 760.293 Q64.0042 766.85 59.0071 770.86 Q54.01 774.87 45.7664 774.87 Q37.491 774.87 32.4939 770.86 Q27.4968 766.85 27.4968 760.293 Q27.4968 756.346 29.0564 753.513 Q30.616 750.681 33.7671 748.866 L28.3562 748.866 L28.3562 743.01 L59.58 743.01 Z\" fill=\"#000000\" fill-rule=\"evenodd\" fill-opacity=\"1\" /><path clip-path=\"url(#clip830)\" d=\"M14.479 692.18 L19.3487 692.18 L19.3487 697.782 Q19.3487 700.933 20.6219 702.174 Q21.895 703.383 25.2052 703.383 L28.3562 703.383 L28.3562 693.739 L32.9077 693.739 L32.9077 703.383 L64.0042 703.383 L64.0042 709.272 L32.9077 709.272 L32.9077 714.874 L28.3562 714.874 L28.3562 709.272 L25.8736 709.272 Q19.9216 709.272 17.2162 706.503 Q14.479 703.734 14.479 697.718 L14.479 692.18 Z\" fill=\"#000000\" fill-rule=\"evenodd\" fill-opacity=\"1\" /><path clip-path=\"url(#clip830)\" d=\"M33.8307 666.621 Q33.2578 667.608 33.0032 668.786 Q32.7167 669.932 32.7167 671.332 Q32.7167 676.297 35.9632 678.971 Q39.1779 681.613 45.2253 681.613 L64.0042 681.613 L64.0042 687.501 L28.3562 687.501 L28.3562 681.613 L33.8944 681.613 Q30.6479 679.767 29.0883 676.807 Q27.4968 673.847 27.4968 669.613 Q27.4968 669.009 27.5923 668.277 Q27.656 667.545 27.8151 666.653 L33.8307 666.621 Z\" fill=\"#000000\" fill-rule=\"evenodd\" fill-opacity=\"1\" /><path clip-path=\"url(#clip830)\" d=\"M46.0847 644.278 Q46.0847 651.376 47.7079 654.113 Q49.3312 656.85 53.2461 656.85 Q56.3653 656.85 58.2114 654.813 Q60.0256 652.744 60.0256 649.211 Q60.0256 644.342 56.5881 641.413 Q53.1188 638.453 47.3897 638.453 L46.0847 638.453 L46.0847 644.278 M43.6657 632.597 L64.0042 632.597 L64.0042 638.453 L58.5933 638.453 Q61.8398 640.458 63.3994 643.45 Q64.9272 646.442 64.9272 650.771 Q64.9272 656.245 61.8716 659.492 Q58.7843 662.707 53.6281 662.707 Q47.6125 662.707 44.5569 658.696 Q41.5014 654.654 41.5014 646.665 L41.5014 638.453 L40.9285 638.453 Q36.8862 638.453 34.6901 641.127 Q32.4621 643.769 32.4621 648.575 Q32.4621 651.63 33.1941 654.527 Q33.9262 657.423 35.3903 660.097 L29.9795 660.097 Q28.7381 656.882 28.1334 653.858 Q27.4968 650.835 27.4968 647.97 Q27.4968 640.236 31.5072 636.416 Q35.5176 632.597 43.6657 632.597 Z\" fill=\"#000000\" fill-rule=\"evenodd\" fill-opacity=\"1\" /><path clip-path=\"url(#clip830)\" d=\"M29.7248 594.88 L35.1993 594.88 Q33.8307 597.363 33.1623 599.877 Q32.4621 602.36 32.4621 604.906 Q32.4621 610.603 36.0905 613.754 Q39.6872 616.905 46.212 616.905 Q52.7369 616.905 56.3653 613.754 Q59.9619 610.603 59.9619 604.906 Q59.9619 602.36 59.2935 599.877 Q58.5933 597.363 57.2247 594.88 L62.6355 594.88 Q63.7814 597.331 64.3543 599.973 Q64.9272 602.582 64.9272 605.543 Q64.9272 613.595 59.8664 618.338 Q54.8057 623.08 46.212 623.08 Q37.491 623.08 32.4939 618.306 Q27.4968 613.5 27.4968 605.161 Q27.4968 602.455 28.0697 599.877 Q28.6108 597.299 29.7248 594.88 Z\" fill=\"#000000\" fill-rule=\"evenodd\" fill-opacity=\"1\" /><path clip-path=\"url(#clip830)\" d=\"M18.2347 578.902 L28.3562 578.902 L28.3562 566.839 L32.9077 566.839 L32.9077 578.902 L52.2594 578.902 Q56.6199 578.902 57.8613 577.724 Q59.1026 576.515 59.1026 572.855 L59.1026 566.839 L64.0042 566.839 L64.0042 572.855 Q64.0042 579.634 61.4897 582.212 Q58.9434 584.79 52.2594 584.79 L32.9077 584.79 L32.9077 589.087 L28.3562 589.087 L28.3562 584.79 L18.2347 584.79 L18.2347 578.902 Z\" fill=\"#000000\" fill-rule=\"evenodd\" fill-opacity=\"1\" /><path clip-path=\"url(#clip830)\" d=\"M28.3562 559.137 L28.3562 553.28 L64.0042 553.28 L64.0042 559.137 L28.3562 559.137 M14.479 559.137 L14.479 553.28 L21.895 553.28 L21.895 559.137 L14.479 559.137 Z\" fill=\"#000000\" fill-rule=\"evenodd\" fill-opacity=\"1\" /><path clip-path=\"url(#clip830)\" d=\"M32.4621 527.213 Q32.4621 531.923 36.1542 534.66 Q39.8145 537.398 46.212 537.398 Q52.6095 537.398 56.3017 534.692 Q59.9619 531.955 59.9619 527.213 Q59.9619 522.534 56.2698 519.796 Q52.5777 517.059 46.212 517.059 Q39.8781 517.059 36.186 519.796 Q32.4621 522.534 32.4621 527.213 M27.4968 527.213 Q27.4968 519.574 32.4621 515.213 Q37.4273 510.853 46.212 510.853 Q54.9649 510.853 59.9619 515.213 Q64.9272 519.574 64.9272 527.213 Q64.9272 534.883 59.9619 539.244 Q54.9649 543.572 46.212 543.572 Q37.4273 543.572 32.4621 539.244 Q27.4968 534.883 27.4968 527.213 Z\" fill=\"#000000\" fill-rule=\"evenodd\" fill-opacity=\"1\" /><path clip-path=\"url(#clip830)\" d=\"M42.4881 471.513 L64.0042 471.513 L64.0042 477.369 L42.679 477.369 Q37.6183 477.369 35.1038 479.342 Q32.5894 481.316 32.5894 485.262 Q32.5894 490.005 35.6131 492.742 Q38.6368 495.479 43.8567 495.479 L64.0042 495.479 L64.0042 501.368 L28.3562 501.368 L28.3562 495.479 L33.8944 495.479 Q30.6797 493.379 29.0883 490.546 Q27.4968 487.681 27.4968 483.958 Q27.4968 477.815 31.3163 474.664 Q35.1038 471.513 42.4881 471.513 Z\" fill=\"#000000\" fill-rule=\"evenodd\" fill-opacity=\"1\" /><circle clip-path=\"url(#clip832)\" cx=\"1056.35\" cy=\"86.1857\" r=\"36\" fill=\"#010007\" fill-rule=\"evenodd\" fill-opacity=\"1\" stroke=\"#000000\" stroke-opacity=\"1\" stroke-width=\"3.2\"/>\n",
       "<circle clip-path=\"url(#clip832)\" cx=\"1997.97\" cy=\"1384.24\" r=\"36\" fill=\"#62136e\" fill-rule=\"evenodd\" fill-opacity=\"1\" stroke=\"#000000\" stroke-opacity=\"1\" stroke-width=\"3.2\"/>\n",
       "<circle clip-path=\"url(#clip832)\" cx=\"1997.97\" cy=\"410.699\" r=\"36\" fill=\"#390962\" fill-rule=\"evenodd\" fill-opacity=\"1\" stroke=\"#000000\" stroke-opacity=\"1\" stroke-width=\"3.2\"/>\n",
       "<circle clip-path=\"url(#clip832)\" cx=\"1997.97\" cy=\"86.1857\" r=\"36\" fill=\"#821f6b\" fill-rule=\"evenodd\" fill-opacity=\"1\" stroke=\"#000000\" stroke-opacity=\"1\" stroke-width=\"3.2\"/>\n",
       "<circle clip-path=\"url(#clip832)\" cx=\"1056.35\" cy=\"735.212\" r=\"36\" fill=\"#1f0c48\" fill-rule=\"evenodd\" fill-opacity=\"1\" stroke=\"#000000\" stroke-opacity=\"1\" stroke-width=\"3.2\"/>\n",
       "<circle clip-path=\"url(#clip832)\" cx=\"742.47\" cy=\"735.212\" r=\"36\" fill=\"#220b4b\" fill-rule=\"evenodd\" fill-opacity=\"1\" stroke=\"#000000\" stroke-opacity=\"1\" stroke-width=\"3.2\"/>\n",
       "<circle clip-path=\"url(#clip832)\" cx=\"742.47\" cy=\"86.1857\" r=\"36\" fill=\"#000003\" fill-rule=\"evenodd\" fill-opacity=\"1\" stroke=\"#000000\" stroke-opacity=\"1\" stroke-width=\"3.2\"/>\n",
       "<circle clip-path=\"url(#clip832)\" cx=\"1527.16\" cy=\"1059.73\" r=\"36\" fill=\"#430a68\" fill-rule=\"evenodd\" fill-opacity=\"1\" stroke=\"#000000\" stroke-opacity=\"1\" stroke-width=\"3.2\"/>\n",
       "<circle clip-path=\"url(#clip832)\" cx=\"742.47\" cy=\"410.699\" r=\"36\" fill=\"#140a35\" fill-rule=\"evenodd\" fill-opacity=\"1\" stroke=\"#000000\" stroke-opacity=\"1\" stroke-width=\"3.2\"/>\n",
       "<circle clip-path=\"url(#clip832)\" cx=\"271.656\" cy=\"410.699\" r=\"36\" fill=\"#dc5139\" fill-rule=\"evenodd\" fill-opacity=\"1\" stroke=\"#000000\" stroke-opacity=\"1\" stroke-width=\"3.2\"/>\n",
       "<circle clip-path=\"url(#clip832)\" cx=\"1527.16\" cy=\"410.699\" r=\"36\" fill=\"#0f092c\" fill-rule=\"evenodd\" fill-opacity=\"1\" stroke=\"#000000\" stroke-opacity=\"1\" stroke-width=\"3.2\"/>\n",
       "<circle clip-path=\"url(#clip832)\" cx=\"1056.35\" cy=\"1059.73\" r=\"36\" fill=\"#3d0965\" fill-rule=\"evenodd\" fill-opacity=\"1\" stroke=\"#000000\" stroke-opacity=\"1\" stroke-width=\"3.2\"/>\n",
       "<circle clip-path=\"url(#clip832)\" cx=\"271.656\" cy=\"735.212\" r=\"36\" fill=\"#f8870c\" fill-rule=\"evenodd\" fill-opacity=\"1\" stroke=\"#000000\" stroke-opacity=\"1\" stroke-width=\"3.2\"/>\n",
       "<circle clip-path=\"url(#clip832)\" cx=\"271.656\" cy=\"86.1857\" r=\"36\" fill=\"#c9404a\" fill-rule=\"evenodd\" fill-opacity=\"1\" stroke=\"#000000\" stroke-opacity=\"1\" stroke-width=\"3.2\"/>\n",
       "<circle clip-path=\"url(#clip832)\" cx=\"1527.16\" cy=\"86.1857\" r=\"36\" fill=\"#0f092c\" fill-rule=\"evenodd\" fill-opacity=\"1\" stroke=\"#000000\" stroke-opacity=\"1\" stroke-width=\"3.2\"/>\n",
       "<circle clip-path=\"url(#clip832)\" cx=\"742.47\" cy=\"1059.73\" r=\"36\" fill=\"#540e6d\" fill-rule=\"evenodd\" fill-opacity=\"1\" stroke=\"#000000\" stroke-opacity=\"1\" stroke-width=\"3.2\"/>\n",
       "<circle clip-path=\"url(#clip832)\" cx=\"1056.35\" cy=\"410.699\" r=\"36\" fill=\"#030313\" fill-rule=\"evenodd\" fill-opacity=\"1\" stroke=\"#000000\" stroke-opacity=\"1\" stroke-width=\"3.2\"/>\n",
       "<circle clip-path=\"url(#clip832)\" cx=\"742.47\" cy=\"1384.24\" r=\"36\" fill=\"#7d1d6c\" fill-rule=\"evenodd\" fill-opacity=\"1\" stroke=\"#000000\" stroke-opacity=\"1\" stroke-width=\"3.2\"/>\n",
       "<circle clip-path=\"url(#clip832)\" cx=\"1527.16\" cy=\"735.212\" r=\"36\" fill=\"#1f0c48\" fill-rule=\"evenodd\" fill-opacity=\"1\" stroke=\"#000000\" stroke-opacity=\"1\" stroke-width=\"3.2\"/>\n",
       "<circle clip-path=\"url(#clip832)\" cx=\"271.656\" cy=\"1384.24\" r=\"36\" fill=\"#fcfea4\" fill-rule=\"evenodd\" fill-opacity=\"1\" stroke=\"#000000\" stroke-opacity=\"1\" stroke-width=\"3.2\"/>\n",
       "<circle clip-path=\"url(#clip832)\" cx=\"271.656\" cy=\"1059.73\" r=\"36\" fill=\"#fbb115\" fill-rule=\"evenodd\" fill-opacity=\"1\" stroke=\"#000000\" stroke-opacity=\"1\" stroke-width=\"3.2\"/>\n",
       "<circle clip-path=\"url(#clip832)\" cx=\"1997.97\" cy=\"1059.73\" r=\"36\" fill=\"#4e0c6b\" fill-rule=\"evenodd\" fill-opacity=\"1\" stroke=\"#000000\" stroke-opacity=\"1\" stroke-width=\"3.2\"/>\n",
       "<circle clip-path=\"url(#clip832)\" cx=\"1527.16\" cy=\"1384.24\" r=\"36\" fill=\"#60136e\" fill-rule=\"evenodd\" fill-opacity=\"1\" stroke=\"#000000\" stroke-opacity=\"1\" stroke-width=\"3.2\"/>\n",
       "<circle clip-path=\"url(#clip832)\" cx=\"1997.97\" cy=\"735.212\" r=\"36\" fill=\"#3f0966\" fill-rule=\"evenodd\" fill-opacity=\"1\" stroke=\"#000000\" stroke-opacity=\"1\" stroke-width=\"3.2\"/>\n",
       "<circle clip-path=\"url(#clip832)\" cx=\"1056.35\" cy=\"1384.24\" r=\"36\" fill=\"#6e186e\" fill-rule=\"evenodd\" fill-opacity=\"1\" stroke=\"#000000\" stroke-opacity=\"1\" stroke-width=\"3.2\"/>\n",
       "<circle clip-path=\"url(#clip832)\" cx=\"742.47\" cy=\"86.1857\" r=\"18\" fill=\"#00ffff\" fill-rule=\"evenodd\" fill-opacity=\"1\" stroke=\"#000000\" stroke-opacity=\"1\" stroke-width=\"3.2\"/>\n",
       "<defs>\n",
       "  <clipPath id=\"clip833\">\n",
       "    <rect x=\"2097\" y=\"47\" width=\"73\" height=\"1377\"/>\n",
       "  </clipPath>\n",
       "</defs>\n",
       "<g clip-path=\"url(#clip833)\">\n",
       "<image width=\"72\" height=\"1376\" xlink:href=\"data:image/png;base64,\n",
       "iVBORw0KGgoAAAANSUhEUgAAAEgAAAVgCAYAAADsKhu7AAAL6UlEQVR4nO3dwZEjNxBFQVBR/lsh\n",
       "L6UFZIHqHclDpgUTL35wCXTP7Off+/c7/K+/vv0D/DqBgkBBoCBQmPv+/fbP8NMsKAgUBAoChXnv\n",
       "z7d/hp9mQUGgIFAQKAgUHDWCBQWBgkBBoDDPh/TKgoJAQaAgUJh3fUhvLCgIFAQKAgWBgqNGsKAg\n",
       "UBAoCBR8SAcLCgIFgYJAwX1QsKAgUBAoCBQECnMcNVYWFAQKAgWBgvugYEFBoCBQECgIFOa4MFtZ\n",
       "UBAoCBQECnPuP9/+GX6aBQWBgkBBoODSPlhQECgIFAQKAgX3QcGCgkBBoCBQ8CEdLCgIFAQKAgX3\n",
       "QcGCgkBBoCBQECjMx1FjZUFBoCBQECjMuf5XhI0FBYGCQEGgIFBw1AgWFAQKAgWBgqNGsKAgUBAo\n",
       "CBS8HxQsKAgUBAoCBYHCfBw1VhYUBAoCBYGCt1yDBQWBgkBBoOCbdLCgIFAQKAgUBAoePQcLCgIF\n",
       "gYJAwVEjWFAQKAgUBAoCBUeNYEFBoCBQECg4agQLCgIFgYJAYc693/4ZfpoFBYGCQEGgIFBw1AgW\n",
       "FAQKAgWBgkv7YEFBoCBQECj4kA4WFAQKAgWBgkBhPp5qrCwoCBQECgIFR41gQUGgIFAQKAgUvEAV\n",
       "LCgIFAQKAgX3QcGCgkBBoCBQcB8ULCgIFAQKAgWBgvugYEFBoCBQECj4kA4WFAQKAgWBgl/qDRYU\n",
       "BAoCBYGCQMFRI1hQECgIFAQKPqSDBQWBgkBBoCBQ8K9YsKAgUBAoCBR8SAcLCgIFgYJAYc7zIb2x\n",
       "oCBQECgIFAQKjhrBgoJAQaAgUPAhHSwoCBQECgIFH9LBgoJAQaAgUBAozLnv2z/DT7OgIFAQKAgU\n",
       "HDWCBQWBgkBBoCBQcNQIFhQECgIFgYKjRrCgIFAQKAgUfJMOFhQECgIFgYJAYY6TxsqCgkBBoCBQ\n",
       "mPMcNTYWFAQKAgWBgm/SwYKCQEGgIFAQKPhXLFhQECgIFAQK44/g7SwoCBQECgIFgYKjRrCgIFAQ\n",
       "KAgUfEgHCwoCBYGCQGHO/Xz7Z/hpFhQECgIFgYJAYd7zr9jGgoJAQaAgUHAfFCwoCBQECgIF90HB\n",
       "goJAQaAgUBAozLsabdQJAgWBgkDBUSNYUBAoCBQECgKFOR49rywoCBQECgKFeY4aKwsKAgWBgkBh\n",
       "jkv7lTpBoCBQECgIFBw1ggUFgYJAQaDg0j5YUBAoCBQECl7iDOoEgYJAQaAgUPCWa7CgIFAQKAgU\n",
       "XNoHCwoCBYGCQEGgMO9ptFEnCBQECgIF90HBgoJAQaAgUHAfFCwoCBQECgIFgcIc90ErdYJAQaAg\n",
       "UHDUCBYUBAoCBYGCD+lgQUGgIFAQKAgU/NZzsKAgUBAoCBT81nNQJwgUBAoCBYHCPEeNlQUFgYJA\n",
       "QaDgqUawoCBQECgIFPyvCEGdIFAQKAgUBArug4IFBYGCQEGg4D4oWFAQKAgUBAq+SQcLCgIFgYJA\n",
       "QaDgLdegThAoCBQECo4awYKCQEGgIFAQKHiqESwoCBQECgIFR41gQUGgIFAQKPiva4IFBYGCQEGg\n",
       "IFDwv2QGdYJAQaAgUHAfFCwoCBQECgIFT1aDBQWBgkBBoCBQcNQIFhQECgIFgcJcH9IrCwoCBYGC\n",
       "QEGg4LeegzpBoCBQECi4DwoWFAQKAgWBgg/pYEFBoCBQECgIFLxAFSwoCBQECgIFR41gQUGgIFAQ\n",
       "KPiQDhYUBAoCBYGCQMGfpgjqBIGCQEGgMNel/cqCgkBBoCBQECi4MAsWFAQKAgWBgg/pYEFBoCBQ\n",
       "ECj4kA4WFAQKAgWBgkDBH1gKFhQECgIFgYKjRrCgIFAQKAgUfEgHCwoCBYGCQEGg4FcRgjpBoCBQ\n",
       "ECj4VYRgQUGgIFAQKAgUXJgFCwoCBYGCQMGHdLCgIFAQKAgUvMQZLCgIFAQKAgWBgqNGsKAgUBAo\n",
       "CBTmHR/SGwsKAgWBgkDBfVCwoCBQECgIFAQK7oOCBQWBgkBBoOCoESwoCBQECgIFgYKjRrCgIFAQ\n",
       "KAgUHDWCBQWBgkBBoOCbdLCgIFAQKAgUBAr+FQsWFAQKAgWBwly/irCyoCBQECgIFHyTDhYUBAoC\n",
       "BYGCQMGj52BBQaAgUBAozHvf/hF+mwUFgYJAQaAgUHDUCBYUBAoCBYGCv4IXLCgIFAQKAgXfpIMF\n",
       "BYGCQEGgIFDwAlWwoCBQECgIFPwqQrCgIFAQKAgUvB8ULCgIFAQKAgWBgqcawYKCQEGgIFBwaR8s\n",
       "KAgUBAoCBYGCpxrBgoJAQaAgUHAfFCwoCBQECgIFj56DBQWBgkBBoCBQcB8ULCgIFAQKAgWPnoMF\n",
       "BYGCQEGgMPfbP8GPs6AgUBAoCBQECo4awYKCQEGgIFDwflCwoCBQECgIFAQKLsyCBQWBgkBBoOA+\n",
       "KFhQECgIFAQKvkkHCwoCBYGCQEGg4KgRLCgIFAQKAgWPnoMFBYGCQEGgMP4yxc6CgkBBoCBQECg4\n",
       "agQLCgIFgYJAwaPnYEFBoCBQECgIFDx6DhYUBAoCBYGCo0awoCBQECgIFHyTDhYUBAoCBYGCQGGu\n",
       "N6hWFhQECgIFgYL7oGBBQaAgUBAouA8KFhQECgIFgYJAwVEjWFAQKAgUBArzXNqvLCgIFAQKAgWB\n",
       "wtzjwmxjQUGgIFAQKHg/KFhQECgIFAQK/gpesKAgUBAoCBQECv4KXrCgIFAQKAgUPHoOFhQECgIF\n",
       "gYKXOIMFBYGCQEGgIFDwC3XBgoJAQaAgUHDUCBYUBAoCBYGCQMFbrsGCgkBBoCBQ8JZrsKAgUBAo\n",
       "CBR8kw4WFAQKAgWBgkDBW67BgoJAQaAgUPD3g4IFBYGCQEGg4D4oWFAQKAgUBAoCBY+egwUFgYJA\n",
       "QaDgqBEsKAgUBAoCBYGCo0awoCBQECgIFBw1ggUFgYJAQaDgQzpYUBAoCBQECgIF90HBgoJAQaAg\n",
       "UHDUCBYUBAoCBYGCb9LBgoJAQaAgUBAoOGoECwoCBYGCQMHfDwoWFAQKAgWBgkDB/+0TLCgIFAQK\n",
       "AgX3QcGCgkBBoCBQmHd8Sm8sKAgUBAoCBYGCo0awoCBQECgIFDx6DhYUBAoCBYGCJ6vBgoJAQaAg\n",
       "UBAouA8KFhQECgIFgYJHz8GCgkBBoCBQECg4agQLCgIFgYJAwR9YChYUBAoCBYHCXC8IrSwoCBQE\n",
       "CgIFgYIXqIIFBYGCQEGgMM9RY2VBQaAgUBAo+CYdLCgIFAQKAgWBgqcawYKCQEGgIFDwflCwoCBQ\n",
       "ECgIFAQKc/1C3cqCgkBBoCBQcB8ULCgIFAQKAgV/miJYUBAoCBQECgIFL1AFCwoCBYGCQMGlfbCg\n",
       "IFAQKAgU3AcFCwoCBYGCQEGgMPe4EdpYUBAoCBQECu6DggUFgYJAQaAgUPCvWLCgIFAQKAgUPNUI\n",
       "FhQECgIFgYJL+2BBQaAgUBAoCBTmfhw1NhYUBAoCBYGCo0awoCBQECgIFOb5kF5ZUBAoCBQECgIF\n",
       "R41gQUGgIFAQKMz9+JDeWFAQKAgUBAoCBUeNYEFBoCBQECh4qhEsKAgUBAoCBd+kgwUFgYJAQaAg\n",
       "UPCvWLCgIFAQKAgUPHoOFhQECgIFgcK88+fbP8NPs6AgUBAoCBQECu6DggUFgYJAQaDg/aBgQUGg\n",
       "IFAQKAgU5j4XZhsLCgIFgYJAwVEjWFAQKAgUBApzPXpeWVAQKAgUBAoCBUeNYEFBoCBQECg4agQL\n",
       "CgIFgYJAYd7zTXpjQUGgIFAQKAgU3AcFCwoCBYGCQMFLnMGCgkBBoCBQECg4agQLCgIFgYJAYZ6j\n",
       "xsqCgkBBoCBQ8E06WFAQKAgUBAoChbleoFpZUBAoCBQECv7gdrCgIFAQKAgU/CpCsKAgUBAoCBQE\n",
       "Cp5qBAsKAgWBgkDBUSNYUBAoCBQECgIF/4oFCwoCBYGCQMGj52BBQaAgUBAo+CYdLCgIFAQKAgWB\n",
       "whyPnlcWFAQKAgWBgqNGsKAgUBAoCBS8xBksKAgUBAoCBYHCHEeNlQUFgYJAQaDg/aBgQUGgIFAQ\n",
       "KAgUPHoOFhQECgIFgYL7oGBBQaAgUBAozDvv2z/DT7OgIFAQKAgUBArug4IFBYGCQEGgMMdRY2VB\n",
       "QaAgUBAo/AdhU+3PqlcPeQAAAABJRU5ErkJggg==\n",
       "\" transform=\"translate(2098, 47)\"/>\n",
       "</g>\n",
       "<path clip-path=\"url(#clip830)\" d=\"M2221.39 1306.92 Q2224.75 1307.64 2226.62 1309.91 Q2228.52 1312.17 2228.52 1315.51 Q2228.52 1320.62 2225 1323.42 Q2221.48 1326.23 2215 1326.23 Q2212.82 1326.23 2210.51 1325.79 Q2208.22 1325.37 2205.76 1324.51 L2205.76 1320 Q2207.71 1321.13 2210.02 1321.71 Q2212.34 1322.29 2214.86 1322.29 Q2219.26 1322.29 2221.55 1320.55 Q2223.87 1318.82 2223.87 1315.51 Q2223.87 1312.45 2221.71 1310.74 Q2219.58 1309 2215.76 1309 L2211.74 1309 L2211.74 1305.16 L2215.95 1305.16 Q2219.4 1305.16 2221.23 1303.79 Q2223.06 1302.41 2223.06 1299.81 Q2223.06 1297.15 2221.16 1295.74 Q2219.28 1294.3 2215.76 1294.3 Q2213.84 1294.3 2211.64 1294.72 Q2209.44 1295.14 2206.81 1296.02 L2206.81 1291.85 Q2209.47 1291.11 2211.78 1290.74 Q2214.12 1290.37 2216.18 1290.37 Q2221.5 1290.37 2224.61 1292.8 Q2227.71 1295.21 2227.71 1299.33 Q2227.71 1302.2 2226.06 1304.19 Q2224.42 1306.16 2221.39 1306.92 Z\" fill=\"#000000\" fill-rule=\"evenodd\" fill-opacity=\"1\" /><path clip-path=\"url(#clip830)\" d=\"M2237.38 1319.67 L2242.27 1319.67 L2242.27 1325.55 L2237.38 1325.55 L2237.38 1319.67 Z\" fill=\"#000000\" fill-rule=\"evenodd\" fill-opacity=\"1\" /><path clip-path=\"url(#clip830)\" d=\"M2251.27 1290.99 L2273.49 1290.99 L2273.49 1292.98 L2260.95 1325.55 L2256.06 1325.55 L2267.87 1294.93 L2251.27 1294.93 L2251.27 1290.99 Z\" fill=\"#000000\" fill-rule=\"evenodd\" fill-opacity=\"1\" /><path clip-path=\"url(#clip830)\" d=\"M2282.66 1290.99 L2301.02 1290.99 L2301.02 1294.93 L2286.94 1294.93 L2286.94 1303.4 Q2287.96 1303.05 2288.98 1302.89 Q2290 1302.71 2291.02 1302.71 Q2296.8 1302.71 2300.18 1305.88 Q2303.56 1309.05 2303.56 1314.47 Q2303.56 1320.04 2300.09 1323.15 Q2296.62 1326.23 2290.3 1326.23 Q2288.12 1326.23 2285.86 1325.85 Q2283.61 1325.48 2281.2 1324.74 L2281.2 1320.04 Q2283.29 1321.18 2285.51 1321.73 Q2287.73 1322.29 2290.21 1322.29 Q2294.21 1322.29 2296.55 1320.18 Q2298.89 1318.08 2298.89 1314.47 Q2298.89 1310.85 2296.55 1308.75 Q2294.21 1306.64 2290.21 1306.64 Q2288.33 1306.64 2286.46 1307.06 Q2284.61 1307.48 2282.66 1308.35 L2282.66 1290.99 Z\" fill=\"#000000\" fill-rule=\"evenodd\" fill-opacity=\"1\" /><path clip-path=\"url(#clip830)\" d=\"M2221.37 1099.23 L2209.56 1117.68 L2221.37 1117.68 L2221.37 1099.23 M2220.14 1095.16 L2226.02 1095.16 L2226.02 1117.68 L2230.95 1117.68 L2230.95 1121.57 L2226.02 1121.57 L2226.02 1129.72 L2221.37 1129.72 L2221.37 1121.57 L2205.76 1121.57 L2205.76 1117.06 L2220.14 1095.16 Z\" fill=\"#000000\" fill-rule=\"evenodd\" fill-opacity=\"1\" /><path clip-path=\"url(#clip830)\" d=\"M2238.68 1123.84 L2243.56 1123.84 L2243.56 1129.72 L2238.68 1129.72 L2238.68 1123.84 Z\" fill=\"#000000\" fill-rule=\"evenodd\" fill-opacity=\"1\" /><path clip-path=\"url(#clip830)\" d=\"M2263.75 1098.24 Q2260.14 1098.24 2258.31 1101.8 Q2256.5 1105.34 2256.5 1112.47 Q2256.5 1119.58 2258.31 1123.14 Q2260.14 1126.69 2263.75 1126.69 Q2267.38 1126.69 2269.19 1123.14 Q2271.02 1119.58 2271.02 1112.47 Q2271.02 1105.34 2269.19 1101.8 Q2267.38 1098.24 2263.75 1098.24 M2263.75 1094.53 Q2269.56 1094.53 2272.62 1099.14 Q2275.69 1103.72 2275.69 1112.47 Q2275.69 1121.2 2272.62 1125.81 Q2269.56 1130.39 2263.75 1130.39 Q2257.94 1130.39 2254.86 1125.81 Q2251.81 1121.2 2251.81 1112.47 Q2251.81 1103.72 2254.86 1099.14 Q2257.94 1094.53 2263.75 1094.53 Z\" fill=\"#000000\" fill-rule=\"evenodd\" fill-opacity=\"1\" /><path clip-path=\"url(#clip830)\" d=\"M2293.91 1098.24 Q2290.3 1098.24 2288.47 1101.8 Q2286.67 1105.34 2286.67 1112.47 Q2286.67 1119.58 2288.47 1123.14 Q2290.3 1126.69 2293.91 1126.69 Q2297.55 1126.69 2299.35 1123.14 Q2301.18 1119.58 2301.18 1112.47 Q2301.18 1105.34 2299.35 1101.8 Q2297.55 1098.24 2293.91 1098.24 M2293.91 1094.53 Q2299.72 1094.53 2302.78 1099.14 Q2305.86 1103.72 2305.86 1112.47 Q2305.86 1121.2 2302.78 1125.81 Q2299.72 1130.39 2293.91 1130.39 Q2288.1 1130.39 2285.02 1125.81 Q2281.97 1121.2 2281.97 1112.47 Q2281.97 1103.72 2285.02 1099.14 Q2288.1 1094.53 2293.91 1094.53 Z\" fill=\"#000000\" fill-rule=\"evenodd\" fill-opacity=\"1\" /><path clip-path=\"url(#clip830)\" d=\"M2221.37 903.397 L2209.56 921.846 L2221.37 921.846 L2221.37 903.397 M2220.14 899.323 L2226.02 899.323 L2226.02 921.846 L2230.95 921.846 L2230.95 925.735 L2226.02 925.735 L2226.02 933.883 L2221.37 933.883 L2221.37 925.735 L2205.76 925.735 L2205.76 921.221 L2220.14 899.323 Z\" fill=\"#000000\" fill-rule=\"evenodd\" fill-opacity=\"1\" /><path clip-path=\"url(#clip830)\" d=\"M2238.68 928.003 L2243.56 928.003 L2243.56 933.883 L2238.68 933.883 L2238.68 928.003 Z\" fill=\"#000000\" fill-rule=\"evenodd\" fill-opacity=\"1\" /><path clip-path=\"url(#clip830)\" d=\"M2257.78 929.948 L2274.1 929.948 L2274.1 933.883 L2252.15 933.883 L2252.15 929.948 Q2254.81 927.193 2259.4 922.563 Q2264 917.911 2265.18 916.568 Q2267.43 914.045 2268.31 912.309 Q2269.21 910.55 2269.21 908.86 Q2269.21 906.105 2267.27 904.369 Q2265.35 902.633 2262.24 902.633 Q2260.05 902.633 2257.59 903.397 Q2255.16 904.161 2252.38 905.712 L2252.38 900.989 Q2255.21 899.855 2257.66 899.276 Q2260.12 898.698 2262.15 898.698 Q2267.52 898.698 2270.72 901.383 Q2273.91 904.068 2273.91 908.559 Q2273.91 910.688 2273.1 912.61 Q2272.31 914.508 2270.21 917.1 Q2269.63 917.772 2266.53 920.989 Q2263.43 924.184 2257.78 929.948 Z\" fill=\"#000000\" fill-rule=\"evenodd\" fill-opacity=\"1\" /><path clip-path=\"url(#clip830)\" d=\"M2283.96 899.323 L2302.31 899.323 L2302.31 903.258 L2288.24 903.258 L2288.24 911.73 Q2289.26 911.383 2290.28 911.221 Q2291.3 911.036 2292.31 911.036 Q2298.1 911.036 2301.48 914.207 Q2304.86 917.378 2304.86 922.795 Q2304.86 928.374 2301.39 931.475 Q2297.92 934.554 2291.6 934.554 Q2289.42 934.554 2287.15 934.184 Q2284.91 933.813 2282.5 933.073 L2282.5 928.374 Q2284.58 929.508 2286.81 930.063 Q2289.03 930.619 2291.5 930.619 Q2295.51 930.619 2297.85 928.512 Q2300.18 926.406 2300.18 922.795 Q2300.18 919.184 2297.85 917.077 Q2295.51 914.971 2291.5 914.971 Q2289.63 914.971 2287.75 915.388 Q2285.9 915.804 2283.96 916.684 L2283.96 899.323 Z\" fill=\"#000000\" fill-rule=\"evenodd\" fill-opacity=\"1\" /><path clip-path=\"url(#clip830)\" d=\"M2221.37 707.561 L2209.56 726.01 L2221.37 726.01 L2221.37 707.561 M2220.14 703.487 L2226.02 703.487 L2226.02 726.01 L2230.95 726.01 L2230.95 729.899 L2226.02 729.899 L2226.02 738.047 L2221.37 738.047 L2221.37 729.899 L2205.76 729.899 L2205.76 725.385 L2220.14 703.487 Z\" fill=\"#000000\" fill-rule=\"evenodd\" fill-opacity=\"1\" /><path clip-path=\"url(#clip830)\" d=\"M2238.68 732.168 L2243.56 732.168 L2243.56 738.047 L2238.68 738.047 L2238.68 732.168 Z\" fill=\"#000000\" fill-rule=\"evenodd\" fill-opacity=\"1\" /><path clip-path=\"url(#clip830)\" d=\"M2253.8 703.487 L2272.15 703.487 L2272.15 707.422 L2258.08 707.422 L2258.08 715.895 Q2259.1 715.547 2260.12 715.385 Q2261.13 715.2 2262.15 715.2 Q2267.94 715.2 2271.32 718.371 Q2274.7 721.543 2274.7 726.959 Q2274.7 732.538 2271.23 735.64 Q2267.75 738.718 2261.43 738.718 Q2259.26 738.718 2256.99 738.348 Q2254.74 737.978 2252.34 737.237 L2252.34 732.538 Q2254.42 733.672 2256.64 734.228 Q2258.87 734.783 2261.34 734.783 Q2265.35 734.783 2267.68 732.677 Q2270.02 730.57 2270.02 726.959 Q2270.02 723.348 2267.68 721.242 Q2265.35 719.135 2261.34 719.135 Q2259.47 719.135 2257.59 719.552 Q2255.74 719.969 2253.8 720.848 L2253.8 703.487 Z\" fill=\"#000000\" fill-rule=\"evenodd\" fill-opacity=\"1\" /><path clip-path=\"url(#clip830)\" d=\"M2293.91 706.566 Q2290.3 706.566 2288.47 710.131 Q2286.67 713.672 2286.67 720.802 Q2286.67 727.908 2288.47 731.473 Q2290.3 735.015 2293.91 735.015 Q2297.55 735.015 2299.35 731.473 Q2301.18 727.908 2301.18 720.802 Q2301.18 713.672 2299.35 710.131 Q2297.55 706.566 2293.91 706.566 M2293.91 702.862 Q2299.72 702.862 2302.78 707.469 Q2305.86 712.052 2305.86 720.802 Q2305.86 729.529 2302.78 734.135 Q2299.72 738.718 2293.91 738.718 Q2288.1 738.718 2285.02 734.135 Q2281.97 729.529 2281.97 720.802 Q2281.97 712.052 2285.02 707.469 Q2288.1 702.862 2293.91 702.862 Z\" fill=\"#000000\" fill-rule=\"evenodd\" fill-opacity=\"1\" /><path clip-path=\"url(#clip830)\" d=\"M2221.37 511.726 L2209.56 530.175 L2221.37 530.175 L2221.37 511.726 M2220.14 507.652 L2226.02 507.652 L2226.02 530.175 L2230.95 530.175 L2230.95 534.063 L2226.02 534.063 L2226.02 542.212 L2221.37 542.212 L2221.37 534.063 L2205.76 534.063 L2205.76 529.55 L2220.14 507.652 Z\" fill=\"#000000\" fill-rule=\"evenodd\" fill-opacity=\"1\" /><path clip-path=\"url(#clip830)\" d=\"M2238.68 536.332 L2243.56 536.332 L2243.56 542.212 L2238.68 542.212 L2238.68 536.332 Z\" fill=\"#000000\" fill-rule=\"evenodd\" fill-opacity=\"1\" /><path clip-path=\"url(#clip830)\" d=\"M2252.57 507.652 L2274.79 507.652 L2274.79 509.642 L2262.24 542.212 L2257.36 542.212 L2269.17 511.587 L2252.57 511.587 L2252.57 507.652 Z\" fill=\"#000000\" fill-rule=\"evenodd\" fill-opacity=\"1\" /><path clip-path=\"url(#clip830)\" d=\"M2283.96 507.652 L2302.31 507.652 L2302.31 511.587 L2288.24 511.587 L2288.24 520.059 Q2289.26 519.712 2290.28 519.55 Q2291.3 519.365 2292.31 519.365 Q2298.1 519.365 2301.48 522.536 Q2304.86 525.707 2304.86 531.124 Q2304.86 536.702 2301.39 539.804 Q2297.92 542.883 2291.6 542.883 Q2289.42 542.883 2287.15 542.513 Q2284.91 542.142 2282.5 541.401 L2282.5 536.702 Q2284.58 537.837 2286.81 538.392 Q2289.03 538.948 2291.5 538.948 Q2295.51 538.948 2297.85 536.841 Q2300.18 534.735 2300.18 531.124 Q2300.18 527.513 2297.85 525.406 Q2295.51 523.3 2291.5 523.3 Q2289.63 523.3 2287.75 523.716 Q2285.9 524.133 2283.96 525.013 L2283.96 507.652 Z\" fill=\"#000000\" fill-rule=\"evenodd\" fill-opacity=\"1\" /><path clip-path=\"url(#clip830)\" d=\"M2207.22 311.816 L2225.58 311.816 L2225.58 315.751 L2211.5 315.751 L2211.5 324.223 Q2212.52 323.876 2213.54 323.714 Q2214.56 323.529 2215.58 323.529 Q2221.37 323.529 2224.75 326.7 Q2228.12 329.871 2228.12 335.288 Q2228.12 340.867 2224.65 343.969 Q2221.18 347.047 2214.86 347.047 Q2212.69 347.047 2210.42 346.677 Q2208.17 346.307 2205.76 345.566 L2205.76 340.867 Q2207.85 342.001 2210.07 342.557 Q2212.29 343.112 2214.77 343.112 Q2218.77 343.112 2221.11 341.006 Q2223.45 338.899 2223.45 335.288 Q2223.45 331.677 2221.11 329.571 Q2218.77 327.464 2214.77 327.464 Q2212.89 327.464 2211.02 327.881 Q2209.17 328.297 2207.22 329.177 L2207.22 311.816 Z\" fill=\"#000000\" fill-rule=\"evenodd\" fill-opacity=\"1\" /><path clip-path=\"url(#clip830)\" d=\"M2237.34 340.496 L2242.22 340.496 L2242.22 346.376 L2237.34 346.376 L2237.34 340.496 Z\" fill=\"#000000\" fill-rule=\"evenodd\" fill-opacity=\"1\" /><path clip-path=\"url(#clip830)\" d=\"M2262.41 314.895 Q2258.8 314.895 2256.97 318.459 Q2255.16 322.001 2255.16 329.131 Q2255.16 336.237 2256.97 339.802 Q2258.8 343.344 2262.41 343.344 Q2266.04 343.344 2267.85 339.802 Q2269.68 336.237 2269.68 329.131 Q2269.68 322.001 2267.85 318.459 Q2266.04 314.895 2262.41 314.895 M2262.41 311.191 Q2268.22 311.191 2271.27 315.797 Q2274.35 320.381 2274.35 329.131 Q2274.35 337.858 2271.27 342.464 Q2268.22 347.047 2262.41 347.047 Q2256.6 347.047 2253.52 342.464 Q2250.46 337.858 2250.46 329.131 Q2250.46 320.381 2253.52 315.797 Q2256.6 311.191 2262.41 311.191 Z\" fill=\"#000000\" fill-rule=\"evenodd\" fill-opacity=\"1\" /><path clip-path=\"url(#clip830)\" d=\"M2292.57 314.895 Q2288.96 314.895 2287.13 318.459 Q2285.32 322.001 2285.32 329.131 Q2285.32 336.237 2287.13 339.802 Q2288.96 343.344 2292.57 343.344 Q2296.2 343.344 2298.01 339.802 Q2299.84 336.237 2299.84 329.131 Q2299.84 322.001 2298.01 318.459 Q2296.2 314.895 2292.57 314.895 M2292.57 311.191 Q2298.38 311.191 2301.43 315.797 Q2304.51 320.381 2304.51 329.131 Q2304.51 337.858 2301.43 342.464 Q2298.38 347.047 2292.57 347.047 Q2286.76 347.047 2283.68 342.464 Q2280.62 337.858 2280.62 329.131 Q2280.62 320.381 2283.68 315.797 Q2286.76 311.191 2292.57 311.191 Z\" fill=\"#000000\" fill-rule=\"evenodd\" fill-opacity=\"1\" /><path clip-path=\"url(#clip830)\" d=\"M2207.22 115.98 L2225.58 115.98 L2225.58 119.916 L2211.5 119.916 L2211.5 128.388 Q2212.52 128.041 2213.54 127.879 Q2214.56 127.693 2215.58 127.693 Q2221.37 127.693 2224.75 130.865 Q2228.12 134.036 2228.12 139.453 Q2228.12 145.031 2224.65 148.133 Q2221.18 151.212 2214.86 151.212 Q2212.69 151.212 2210.42 150.841 Q2208.17 150.471 2205.76 149.73 L2205.76 145.031 Q2207.85 146.165 2210.07 146.721 Q2212.29 147.277 2214.77 147.277 Q2218.77 147.277 2221.11 145.17 Q2223.45 143.064 2223.45 139.453 Q2223.45 135.841 2221.11 133.735 Q2218.77 131.628 2214.77 131.628 Q2212.89 131.628 2211.02 132.045 Q2209.17 132.462 2207.22 133.341 L2207.22 115.98 Z\" fill=\"#000000\" fill-rule=\"evenodd\" fill-opacity=\"1\" /><path clip-path=\"url(#clip830)\" d=\"M2237.34 144.661 L2242.22 144.661 L2242.22 150.54 L2237.34 150.54 L2237.34 144.661 Z\" fill=\"#000000\" fill-rule=\"evenodd\" fill-opacity=\"1\" /><path clip-path=\"url(#clip830)\" d=\"M2256.43 146.605 L2272.75 146.605 L2272.75 150.54 L2250.81 150.54 L2250.81 146.605 Q2253.47 143.851 2258.06 139.221 Q2262.66 134.568 2263.84 133.226 Q2266.09 130.703 2266.97 128.966 Q2267.87 127.207 2267.87 125.517 Q2267.87 122.763 2265.93 121.027 Q2264 119.291 2260.9 119.291 Q2258.7 119.291 2256.25 120.054 Q2253.82 120.818 2251.04 122.369 L2251.04 117.647 Q2253.87 116.513 2256.32 115.934 Q2258.77 115.355 2260.81 115.355 Q2266.18 115.355 2269.37 118.041 Q2272.57 120.726 2272.57 125.216 Q2272.57 127.346 2271.76 129.267 Q2270.97 131.166 2268.87 133.758 Q2268.29 134.429 2265.18 137.647 Q2262.08 140.841 2256.43 146.605 Z\" fill=\"#000000\" fill-rule=\"evenodd\" fill-opacity=\"1\" /><path clip-path=\"url(#clip830)\" d=\"M2282.62 115.98 L2300.97 115.98 L2300.97 119.916 L2286.9 119.916 L2286.9 128.388 Q2287.92 128.041 2288.93 127.879 Q2289.95 127.693 2290.97 127.693 Q2296.76 127.693 2300.14 130.865 Q2303.52 134.036 2303.52 139.453 Q2303.52 145.031 2300.05 148.133 Q2296.57 151.212 2290.25 151.212 Q2288.08 151.212 2285.81 150.841 Q2283.56 150.471 2281.16 149.73 L2281.16 145.031 Q2283.24 146.165 2285.46 146.721 Q2287.68 147.277 2290.16 147.277 Q2294.17 147.277 2296.5 145.17 Q2298.84 143.064 2298.84 139.453 Q2298.84 135.841 2296.5 133.735 Q2294.17 131.628 2290.16 131.628 Q2288.29 131.628 2286.41 132.045 Q2284.56 132.462 2282.62 133.341 L2282.62 115.98 Z\" fill=\"#000000\" fill-rule=\"evenodd\" fill-opacity=\"1\" /><polyline clip-path=\"url(#clip830)\" style=\"stroke:#000000; stroke-linecap:butt; stroke-linejoin:round; stroke-width:4; stroke-opacity:1; fill:none\" points=\"\n",
       "  2169.76,1423.18 2169.76,1311.9 2193.76,1311.9 2169.76,1311.9 2169.76,1116.07 2193.76,1116.07 2169.76,1116.07 2169.76,920.232 2193.76,920.232 2169.76,920.232 \n",
       "  2169.76,724.396 2193.76,724.396 2169.76,724.396 2169.76,528.56 2193.76,528.56 2169.76,528.56 2169.76,332.725 2193.76,332.725 2169.76,332.725 2169.76,136.889 \n",
       "  2193.76,136.889 2169.76,136.889 2169.76,47.2441 \n",
       "  \"/>\n",
       "<path clip-path=\"url(#clip830)\" d=\"M2321.35 793.603 Q2321.99 791.722 2324.07 789.957 Q2326.15 788.163 2329.8 786.369 L2341.6 780.437 L2341.6 786.716 L2330.52 792.243 Q2326.18 794.384 2324.76 796.41 Q2323.35 798.406 2323.35 801.878 L2323.35 808.244 L2341.6 808.244 L2341.6 814.089 L2298.4 814.089 L2298.4 800.894 Q2298.4 793.487 2301.5 789.841 Q2304.6 786.195 2310.85 786.195 Q2314.93 786.195 2317.62 788.105 Q2320.31 789.986 2321.35 793.603 M2303.21 808.244 L2318.54 808.244 L2318.54 800.894 Q2318.54 796.67 2316.6 794.529 Q2314.64 792.359 2310.85 792.359 Q2307.06 792.359 2305.15 794.529 Q2303.21 796.67 2303.21 800.894 L2303.21 808.244 Z\" fill=\"#000000\" fill-rule=\"evenodd\" fill-opacity=\"1\" /><path clip-path=\"url(#clip830)\" d=\"M2298.4 772.914 L2298.4 764.205 L2327.8 753.181 L2298.4 742.099 L2298.4 733.389 L2341.6 733.389 L2341.6 739.089 L2303.67 739.089 L2333.3 750.229 L2333.3 756.103 L2303.67 767.243 L2341.6 767.243 L2341.6 772.914 L2298.4 772.914 Z\" fill=\"#000000\" fill-rule=\"evenodd\" fill-opacity=\"1\" /><path clip-path=\"url(#clip830)\" d=\"M2299.82 695.889 L2305.52 695.889 Q2303.93 699.217 2303.15 702.168 Q2302.37 705.12 2302.37 707.868 Q2302.37 712.643 2304.22 715.247 Q2306.07 717.822 2309.49 717.822 Q2312.35 717.822 2313.83 716.115 Q2315.27 714.379 2316.17 709.576 L2316.89 706.045 Q2318.14 699.506 2321.29 696.41 Q2324.42 693.285 2329.68 693.285 Q2335.96 693.285 2339.2 697.51 Q2342.44 701.705 2342.44 709.836 Q2342.44 712.903 2341.75 716.375 Q2341.05 719.819 2339.69 723.522 L2333.68 723.522 Q2335.67 719.963 2336.68 716.549 Q2337.7 713.135 2337.7 709.836 Q2337.7 704.83 2335.73 702.11 Q2333.76 699.39 2330.12 699.39 Q2326.93 699.39 2325.14 701.358 Q2323.35 703.297 2322.45 707.753 L2321.75 711.312 Q2320.45 717.851 2317.67 720.773 Q2314.9 723.696 2309.95 723.696 Q2304.22 723.696 2300.92 719.674 Q2297.62 715.623 2297.62 708.534 Q2297.62 705.496 2298.17 702.342 Q2298.72 699.188 2299.82 695.889 Z\" fill=\"#000000\" fill-rule=\"evenodd\" fill-opacity=\"1\" /><path clip-path=\"url(#clip830)\" d=\"M2298.4 684.171 L2298.4 656.856 L2303.32 656.856 L2303.32 678.326 L2316.11 678.326 L2316.11 657.753 L2321.03 657.753 L2321.03 678.326 L2336.68 678.326 L2336.68 656.335 L2341.6 656.335 L2341.6 684.171 L2298.4 684.171 Z\" fill=\"#000000\" fill-rule=\"evenodd\" fill-opacity=\"1\" /><path clip-path=\"url(#clip830)\" d=\"\n",
       "M1528.97 196.789 L1988.77 196.789 L1988.77 93.1086 L1528.97 93.1086  Z\n",
       "  \" fill=\"#ffffff\" fill-rule=\"evenodd\" fill-opacity=\"1\"/>\n",
       "<polyline clip-path=\"url(#clip830)\" style=\"stroke:#000000; stroke-linecap:butt; stroke-linejoin:round; stroke-width:4; stroke-opacity:1; fill:none\" points=\"\n",
       "  1528.97,196.789 1988.77,196.789 1988.77,93.1086 1528.97,93.1086 1528.97,196.789 \n",
       "  \"/>\n",
       "<circle clip-path=\"url(#clip830)\" cx=\"1610.29\" cy=\"144.949\" r=\"23\" fill=\"#00ffff\" fill-rule=\"evenodd\" fill-opacity=\"1\" stroke=\"#000000\" stroke-opacity=\"1\" stroke-width=\"4.096\"/>\n",
       "<path clip-path=\"url(#clip830)\" d=\"M1710.4 149.289 Q1710.4 144.59 1708.45 141.928 Q1706.53 139.243 1703.15 139.243 Q1699.77 139.243 1697.83 141.928 Q1695.91 144.59 1695.91 149.289 Q1695.91 153.988 1697.83 156.673 Q1699.77 159.335 1703.15 159.335 Q1706.53 159.335 1708.45 156.673 Q1710.4 153.988 1710.4 149.289 M1695.91 140.238 Q1697.25 137.923 1699.28 136.812 Q1701.34 135.678 1704.19 135.678 Q1708.91 135.678 1711.85 139.428 Q1714.82 143.178 1714.82 149.289 Q1714.82 155.4 1711.85 159.15 Q1708.91 162.9 1704.19 162.9 Q1701.34 162.9 1699.28 161.789 Q1697.25 160.655 1695.91 158.34 L1695.91 162.229 L1691.62 162.229 L1691.62 126.21 L1695.91 126.21 L1695.91 140.238 Z\" fill=\"#000000\" fill-rule=\"evenodd\" fill-opacity=\"1\" /><path clip-path=\"url(#clip830)\" d=\"M1744.05 148.201 L1744.05 150.284 L1724.47 150.284 Q1724.75 154.682 1727.11 156.997 Q1729.49 159.289 1733.73 159.289 Q1736.18 159.289 1738.47 158.687 Q1740.79 158.085 1743.06 156.881 L1743.06 160.909 Q1740.77 161.881 1738.36 162.391 Q1735.95 162.9 1733.47 162.9 Q1727.27 162.9 1723.64 159.289 Q1720.03 155.678 1720.03 149.52 Q1720.03 143.155 1723.45 139.428 Q1726.9 135.678 1732.73 135.678 Q1737.97 135.678 1741 139.057 Q1744.05 142.414 1744.05 148.201 M1739.79 146.951 Q1739.75 143.456 1737.83 141.372 Q1735.93 139.289 1732.78 139.289 Q1729.22 139.289 1727.06 141.303 Q1724.93 143.317 1724.61 146.974 L1739.79 146.951 Z\" fill=\"#000000\" fill-rule=\"evenodd\" fill-opacity=\"1\" /><path clip-path=\"url(#clip830)\" d=\"M1767.57 137.067 L1767.57 141.094 Q1765.77 140.169 1763.82 139.706 Q1761.88 139.243 1759.79 139.243 Q1756.62 139.243 1755.03 140.215 Q1753.45 141.187 1753.45 143.131 Q1753.45 144.613 1754.59 145.469 Q1755.72 146.303 1759.15 147.067 L1760.6 147.391 Q1765.14 148.363 1767.04 150.145 Q1768.96 151.905 1768.96 155.076 Q1768.96 158.687 1766.09 160.793 Q1763.24 162.9 1758.24 162.9 Q1756.16 162.9 1753.89 162.483 Q1751.65 162.09 1749.15 161.28 L1749.15 156.881 Q1751.51 158.108 1753.8 158.733 Q1756.09 159.335 1758.34 159.335 Q1761.34 159.335 1762.96 158.317 Q1764.59 157.275 1764.59 155.4 Q1764.59 153.664 1763.4 152.738 Q1762.25 151.812 1758.29 150.956 L1756.81 150.608 Q1752.85 149.775 1751.09 148.062 Q1749.33 146.326 1749.33 143.317 Q1749.33 139.659 1751.92 137.669 Q1754.52 135.678 1759.28 135.678 Q1761.65 135.678 1763.73 136.025 Q1765.81 136.372 1767.57 137.067 Z\" fill=\"#000000\" fill-rule=\"evenodd\" fill-opacity=\"1\" /><path clip-path=\"url(#clip830)\" d=\"M1779.96 128.942 L1779.96 136.303 L1788.73 136.303 L1788.73 139.613 L1779.96 139.613 L1779.96 153.687 Q1779.96 156.858 1780.81 157.761 Q1781.69 158.664 1784.35 158.664 L1788.73 158.664 L1788.73 162.229 L1784.35 162.229 Q1779.42 162.229 1777.55 160.4 Q1775.67 158.548 1775.67 153.687 L1775.67 139.613 L1772.55 139.613 L1772.55 136.303 L1775.67 136.303 L1775.67 128.942 L1779.96 128.942 Z\" fill=\"#000000\" fill-rule=\"evenodd\" fill-opacity=\"1\" /><path clip-path=\"url(#clip830)\" d=\"M1829.58 141.28 Q1831.18 138.409 1833.4 137.044 Q1835.63 135.678 1838.64 135.678 Q1842.69 135.678 1844.89 138.525 Q1847.08 141.349 1847.08 146.581 L1847.08 162.229 L1842.8 162.229 L1842.8 146.719 Q1842.8 142.993 1841.48 141.187 Q1840.16 139.382 1837.46 139.382 Q1834.15 139.382 1832.22 141.581 Q1830.3 143.78 1830.3 147.576 L1830.3 162.229 L1826.02 162.229 L1826.02 146.719 Q1826.02 142.969 1824.7 141.187 Q1823.38 139.382 1820.63 139.382 Q1817.36 139.382 1815.44 141.604 Q1813.52 143.803 1813.52 147.576 L1813.52 162.229 L1809.24 162.229 L1809.24 136.303 L1813.52 136.303 L1813.52 140.331 Q1814.98 137.946 1817.02 136.812 Q1819.05 135.678 1821.85 135.678 Q1824.68 135.678 1826.65 137.113 Q1828.64 138.548 1829.58 141.28 Z\" fill=\"#000000\" fill-rule=\"evenodd\" fill-opacity=\"1\" /><path clip-path=\"url(#clip830)\" d=\"M1865.63 139.289 Q1862.2 139.289 1860.21 141.974 Q1858.22 144.636 1858.22 149.289 Q1858.22 153.942 1860.19 156.627 Q1862.18 159.289 1865.63 159.289 Q1869.03 159.289 1871.02 156.604 Q1873.01 153.918 1873.01 149.289 Q1873.01 144.682 1871.02 141.997 Q1869.03 139.289 1865.63 139.289 M1865.63 135.678 Q1871.18 135.678 1874.35 139.289 Q1877.52 142.9 1877.52 149.289 Q1877.52 155.655 1874.35 159.289 Q1871.18 162.9 1865.63 162.9 Q1860.05 162.9 1856.88 159.289 Q1853.73 155.655 1853.73 149.289 Q1853.73 142.9 1856.88 139.289 Q1860.05 135.678 1865.63 135.678 Z\" fill=\"#000000\" fill-rule=\"evenodd\" fill-opacity=\"1\" /><path clip-path=\"url(#clip830)\" d=\"M1901.64 140.238 L1901.64 126.21 L1905.9 126.21 L1905.9 162.229 L1901.64 162.229 L1901.64 158.34 Q1900.3 160.655 1898.24 161.789 Q1896.2 162.9 1893.33 162.9 Q1888.64 162.9 1885.67 159.15 Q1882.73 155.4 1882.73 149.289 Q1882.73 143.178 1885.67 139.428 Q1888.64 135.678 1893.33 135.678 Q1896.2 135.678 1898.24 136.812 Q1900.3 137.923 1901.64 140.238 M1887.13 149.289 Q1887.13 153.988 1889.05 156.673 Q1891 159.335 1894.38 159.335 Q1897.76 159.335 1899.7 156.673 Q1901.64 153.988 1901.64 149.289 Q1901.64 144.59 1899.7 141.928 Q1897.76 139.243 1894.38 139.243 Q1891 139.243 1889.05 141.928 Q1887.13 144.59 1887.13 149.289 Z\" fill=\"#000000\" fill-rule=\"evenodd\" fill-opacity=\"1\" /><path clip-path=\"url(#clip830)\" d=\"M1936.85 148.201 L1936.85 150.284 L1917.27 150.284 Q1917.55 154.682 1919.91 156.997 Q1922.29 159.289 1926.53 159.289 Q1928.98 159.289 1931.27 158.687 Q1933.59 158.085 1935.86 156.881 L1935.86 160.909 Q1933.57 161.881 1931.16 162.391 Q1928.75 162.9 1926.27 162.9 Q1920.07 162.9 1916.44 159.289 Q1912.83 155.678 1912.83 149.52 Q1912.83 143.155 1916.25 139.428 Q1919.7 135.678 1925.53 135.678 Q1930.76 135.678 1933.8 139.057 Q1936.85 142.414 1936.85 148.201 M1932.59 146.951 Q1932.55 143.456 1930.63 141.372 Q1928.73 139.289 1925.58 139.289 Q1922.01 139.289 1919.86 141.303 Q1917.73 143.317 1917.41 146.974 L1932.59 146.951 Z\" fill=\"#000000\" fill-rule=\"evenodd\" fill-opacity=\"1\" /><path clip-path=\"url(#clip830)\" d=\"M1943.84 126.21 L1948.1 126.21 L1948.1 162.229 L1943.84 162.229 L1943.84 126.21 Z\" fill=\"#000000\" fill-rule=\"evenodd\" fill-opacity=\"1\" /></svg>\n"
      ]
     },
     "execution_count": 57,
     "metadata": {},
     "output_type": "execute_result"
    }
   ],
   "source": [
    "r = report(m); \n",
    "\n",
    "res = r.plotting\n",
    "\n",
    "vals_sf = res.parameter_values[:,1] \n",
    "vals_bf=  res.parameter_values[:,2]\n",
    "\n",
    "plot(vals_sf, vals_bf, seriestype=:scatter, zcolor=res.measurements, ms=10, label=\"\", colorbar_title=\"RMSE\")\n",
    "plot!([r.best_model.atom.n_subfeatures], [r.best_model.bagging_fraction], seriestype=:scatter, markershape=:circle, color=:cyan, ms=5, label=\"best model\")\n",
    "\n",
    "xlabel!(\"Number of sub-features\")\n",
    "ylabel!(\"Bagging fraction\")"
   ]
  },
  {
   "cell_type": "markdown",
   "metadata": {},
   "source": [
    "now that the tuned model is trained, we can use it for predictions:"
   ]
  },
  {
   "cell_type": "code",
   "execution_count": 58,
   "metadata": {},
   "outputs": [
    {
     "data": {
      "text/plain": [
       "2.4531189365090587"
      ]
     },
     "execution_count": 58,
     "metadata": {},
     "output_type": "execute_result"
    }
   ],
   "source": [
    "ŷ = predict(m, X) \n",
    "rms(ŷ, y)"
   ]
  }
 ],
 "metadata": {
  "kernelspec": {
   "display_name": "Julia 1.7.0",
   "language": "julia",
   "name": "julia-1.7"
  },
  "language_info": {
   "file_extension": ".jl",
   "mimetype": "application/julia",
   "name": "julia",
   "version": "1.7.0"
  }
 },
 "nbformat": 4,
 "nbformat_minor": 2
}
