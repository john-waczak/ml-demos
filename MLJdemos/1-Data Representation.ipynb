{
 "cells": [
  {
   "cell_type": "code",
   "execution_count": 1,
   "metadata": {},
   "outputs": [],
   "source": [
    "using MLJ"
   ]
  },
  {
   "cell_type": "markdown",
   "metadata": {},
   "source": [
    "based on the tutorial [here](https://github.com/ablaom/MachineLearningInJulia2020/blob/for-MLJ-version-0.16/tutorials.md#part-3-transformers-and-pipelines)"
   ]
  },
  {
   "cell_type": "markdown",
   "metadata": {},
   "source": [
    "# Scientific Types"
   ]
  },
  {
   "cell_type": "markdown",
   "metadata": {},
   "source": [
    "MLJ models specify a *scientific type* in order to make it easy to focus on the intended *purpose* of your models. For example, one scientific type is an `OrderedFactor`. "
   ]
  },
  {
   "cell_type": "code",
   "execution_count": 2,
   "metadata": {},
   "outputs": [
    {
     "data": {
      "text/plain": [
       "Continuous"
      ]
     },
     "execution_count": 2,
     "metadata": {},
     "output_type": "execute_result"
    }
   ],
   "source": [
    "scitype(3.141)"
   ]
  },
  {
   "cell_type": "code",
   "execution_count": 3,
   "metadata": {},
   "outputs": [
    {
     "data": {
      "text/plain": [
       "AbstractVector{Continuous} (alias for AbstractArray{Continuous, 1})"
      ]
     },
     "execution_count": 3,
     "metadata": {},
     "output_type": "execute_result"
    }
   ],
   "source": [
    "time = [2.3, 4.5, 4.2, 1.8, 7.1]\n",
    "scitype(time)"
   ]
  },
  {
   "cell_type": "markdown",
   "metadata": {},
   "source": [
    "Usually MLJ does a good job figuring out which Scientific Type you want but you can force a particular type on a variable via `coerce()`. "
   ]
  },
  {
   "cell_type": "code",
   "execution_count": 4,
   "metadata": {},
   "outputs": [
    {
     "data": {
      "text/plain": [
       "AbstractVector{Count} (alias for AbstractArray{Count, 1})"
      ]
     },
     "execution_count": 4,
     "metadata": {},
     "output_type": "execute_result"
    }
   ],
   "source": [
    "height = [185, 153, 163, 114, 180]\n",
    "scitype(height)"
   ]
  },
  {
   "cell_type": "code",
   "execution_count": 6,
   "metadata": {},
   "outputs": [
    {
     "data": {
      "text/plain": [
       "AbstractVector{Continuous} (alias for AbstractArray{Continuous, 1})"
      ]
     },
     "execution_count": 6,
     "metadata": {},
     "output_type": "execute_result"
    }
   ],
   "source": [
    "height = coerce(height, Continuous)\n",
    "scitype(height)"
   ]
  },
  {
   "cell_type": "markdown",
   "metadata": {},
   "source": [
    "Here's an example of an `OrderedFactor`"
   ]
  },
  {
   "cell_type": "code",
   "execution_count": 7,
   "metadata": {},
   "outputs": [
    {
     "data": {
      "text/plain": [
       "AbstractVector{Union{Missing, Textual}} (alias for AbstractArray{Union{Missing, Textual}, 1})"
      ]
     },
     "execution_count": 7,
     "metadata": {},
     "output_type": "execute_result"
    }
   ],
   "source": [
    "exam_mark = [\"rotten\", \"great\", \"bla\", missing, \"great\"]\n",
    "scitype(exam_mark)"
   ]
  },
  {
   "cell_type": "code",
   "execution_count": 8,
   "metadata": {},
   "outputs": [
    {
     "name": "stderr",
     "output_type": "stream",
     "text": [
      "┌ Info: Trying to coerce from `Union{Missing, String}` to `OrderedFactor`.\n",
      "│ Coerced to `Union{Missing,OrderedFactor}` instead.\n",
      "└ @ ScientificTypes /home/john/.julia/packages/ScientificTypes/Vswzn/src/convention/coerce.jl:174\n"
     ]
    },
    {
     "data": {
      "text/plain": [
       "AbstractVector{Union{Missing, OrderedFactor{3}}} (alias for AbstractArray{Union{Missing, OrderedFactor{3}}, 1})"
      ]
     },
     "execution_count": 8,
     "metadata": {},
     "output_type": "execute_result"
    }
   ],
   "source": [
    "exam_mark = coerce(exam_mark, OrderedFactor)\n",
    "scitype(exam_mark)"
   ]
  },
  {
   "cell_type": "code",
   "execution_count": 9,
   "metadata": {},
   "outputs": [
    {
     "data": {
      "text/plain": [
       "3-element Vector{String}:\n",
       " \"bla\"\n",
       " \"great\"\n",
       " \"rotten\""
      ]
     },
     "execution_count": 9,
     "metadata": {},
     "output_type": "execute_result"
    }
   ],
   "source": [
    "# see the ordering of the factors \n",
    "levels(exam_mark)"
   ]
  },
  {
   "cell_type": "code",
   "execution_count": 11,
   "metadata": {},
   "outputs": [
    {
     "data": {
      "text/plain": [
       "5-element CategoricalArrays.CategoricalArray{Union{Missing, String},1,UInt32}:\n",
       " \"rotten\"\n",
       " \"great\"\n",
       " \"bla\"\n",
       " missing\n",
       " \"great\""
      ]
     },
     "execution_count": 11,
     "metadata": {},
     "output_type": "execute_result"
    }
   ],
   "source": [
    "# you can fix the ordering too \n",
    "levels!(exam_mark, [\"rotten\", \"bla\", \"great\"])"
   ]
  },
  {
   "cell_type": "code",
   "execution_count": 13,
   "metadata": {},
   "outputs": [
    {
     "data": {
      "text/plain": [
       "true"
      ]
     },
     "execution_count": 13,
     "metadata": {},
     "output_type": "execute_result"
    }
   ],
   "source": [
    "exam_mark[1] < exam_mark[2]  # we have an ordering via the \"<\" relation"
   ]
  },
  {
   "cell_type": "markdown",
   "metadata": {},
   "source": [
    "If we take a slice we still don't lose the information about all the levels"
   ]
  },
  {
   "cell_type": "code",
   "execution_count": 14,
   "metadata": {},
   "outputs": [
    {
     "data": {
      "text/plain": [
       "3-element Vector{String}:\n",
       " \"rotten\"\n",
       " \"bla\"\n",
       " \"great\""
      ]
     },
     "execution_count": 14,
     "metadata": {},
     "output_type": "execute_result"
    }
   ],
   "source": [
    "levels(exam_mark[1:2])"
   ]
  },
  {
   "cell_type": "markdown",
   "metadata": {},
   "source": [
    "# Two-dimensional Data"
   ]
  },
  {
   "cell_type": "markdown",
   "metadata": {},
   "source": [
    "MLJ Models generally expect any two-dimensional data to be *tabular*. This means that any subtype of `Tables.jl`'s type `Table` should work. \n",
    "\n",
    "Simple example: *column table*"
   ]
  },
  {
   "cell_type": "code",
   "execution_count": 15,
   "metadata": {},
   "outputs": [
    {
     "data": {
      "text/plain": [
       "(h = [185.0, 153.0, 163.0, 114.0, 180.0],\n",
       " e = Union{Missing, CategoricalArrays.CategoricalValue{String, UInt32}}[\"rotten\", \"great\", \"bla\", missing, \"great\"],\n",
       " t = [2.3, 4.5, 4.2, 1.8, 7.1],)"
      ]
     },
     "execution_count": 15,
     "metadata": {},
     "output_type": "execute_result"
    }
   ],
   "source": [
    "column_table = (h=height, e=exam_mark, t=time)"
   ]
  },
  {
   "cell_type": "code",
   "execution_count": 16,
   "metadata": {},
   "outputs": [
    {
     "data": {
      "text/plain": [
       "Table{Union{AbstractVector{Union{Missing, OrderedFactor{3}}}, AbstractVector{Continuous}}}"
      ]
     },
     "execution_count": 16,
     "metadata": {},
     "output_type": "execute_result"
    }
   ],
   "source": [
    "scitype(column_table)"
   ]
  },
  {
   "cell_type": "markdown",
   "metadata": {},
   "source": [
    "To inspect the scitype of each column, we use `schema()`"
   ]
  },
  {
   "cell_type": "code",
   "execution_count": 17,
   "metadata": {},
   "outputs": [
    {
     "data": {
      "text/plain": [
       "┌─────────┬──────────────────────────────────────────────────┬──────────────────\n",
       "│\u001b[22m _.names \u001b[0m│\u001b[22m _.types                                          \u001b[0m│\u001b[22m _.scitypes     \u001b[0m ⋯\n",
       "├─────────┼──────────────────────────────────────────────────┼──────────────────\n",
       "│ h       │ Float64                                          │ Continuous      ⋯\n",
       "│ e       │ Union{Missing, CategoricalValue{String, UInt32}} │ Union{Missing,  ⋯\n",
       "│ t       │ Float64                                          │ Continuous      ⋯\n",
       "└─────────┴──────────────────────────────────────────────────┴──────────────────\n",
       "\u001b[36m                                                                1 column omitted\u001b[0m\n",
       "_.nrows = 5\n"
      ]
     },
     "execution_count": 17,
     "metadata": {},
     "output_type": "execute_result"
    }
   ],
   "source": [
    "schema(column_table)"
   ]
  },
  {
   "cell_type": "markdown",
   "metadata": {},
   "source": [
    "Example 2: Table from a dictionary "
   ]
  },
  {
   "cell_type": "code",
   "execution_count": 18,
   "metadata": {},
   "outputs": [
    {
     "data": {
      "text/plain": [
       "┌─────────┬──────────────────────────────────────────────────┬──────────────────\n",
       "│\u001b[22m _.names \u001b[0m│\u001b[22m _.types                                          \u001b[0m│\u001b[22m _.scitypes     \u001b[0m ⋯\n",
       "├─────────┼──────────────────────────────────────────────────┼──────────────────\n",
       "│ e       │ Union{Missing, CategoricalValue{String, UInt32}} │ Union{Missing,  ⋯\n",
       "│ h       │ Float64                                          │ Continuous      ⋯\n",
       "│ t       │ Float64                                          │ Continuous      ⋯\n",
       "└─────────┴──────────────────────────────────────────────────┴──────────────────\n",
       "\u001b[36m                                                                1 column omitted\u001b[0m\n",
       "_.nrows = 5\n"
      ]
     },
     "execution_count": 18,
     "metadata": {},
     "output_type": "execute_result"
    }
   ],
   "source": [
    "dict_table = Dict(:h => height, :e => exam_mark, :t => time)\n",
    "schema(dict_table)"
   ]
  },
  {
   "cell_type": "code",
   "execution_count": 23,
   "metadata": {},
   "outputs": [
    {
     "name": "stderr",
     "output_type": "stream",
     "text": [
      "\u001b[32m\u001b[1m   Resolving\u001b[22m\u001b[39m package versions...\n",
      "\u001b[32m\u001b[1m  No Changes\u001b[22m\u001b[39m to `~/gitRepos/ml-demos/Project.toml`\n",
      "\u001b[32m\u001b[1m  No Changes\u001b[22m\u001b[39m to `~/gitRepos/ml-demos/Manifest.toml`\n",
      "\u001b[32m\u001b[1m   Resolving\u001b[22m\u001b[39m package versions...\n",
      "\u001b[32m\u001b[1m   Installed\u001b[22m\u001b[39m InlineStrings ─ v1.1.1\n",
      "\u001b[32m\u001b[1m    Updating\u001b[22m\u001b[39m `~/gitRepos/ml-demos/Project.toml`\n",
      " \u001b[90m [336ed68f] \u001b[39m\u001b[92m+ CSV v0.9.11\u001b[39m\n",
      "\u001b[32m\u001b[1m    Updating\u001b[22m\u001b[39m `~/gitRepos/ml-demos/Manifest.toml`\n",
      " \u001b[90m [336ed68f] \u001b[39m\u001b[92m+ CSV v0.9.11\u001b[39m\n",
      " \u001b[90m [842dd82b] \u001b[39m\u001b[92m+ InlineStrings v1.1.1\u001b[39m\n",
      " \u001b[90m [91c51154] \u001b[39m\u001b[92m+ SentinelArrays v1.3.8\u001b[39m\n",
      " \u001b[90m [ea10d353] \u001b[39m\u001b[92m+ WeakRefStrings v1.4.1\u001b[39m\n",
      "\u001b[32m\u001b[1mPrecompiling\u001b[22m\u001b[39m project...\n",
      "\u001b[32m  ✓ \u001b[39m\u001b[90mInlineStrings\u001b[39m\n",
      "\u001b[32m  ✓ \u001b[39m\u001b[90mWeakRefStrings\u001b[39m\n",
      "\u001b[32m  ✓ \u001b[39mCSV\n",
      "  3 dependencies successfully precompiled in 9 seconds (180 already precompiled)\n"
     ]
    }
   ],
   "source": [
    "using Pkg\n",
    "Pkg.add(\"DataFrames\")\n",
    "Pkg.add(\"CSV\")"
   ]
  },
  {
   "cell_type": "code",
   "execution_count": 20,
   "metadata": {},
   "outputs": [],
   "source": [
    "using DataFrames"
   ]
  },
  {
   "cell_type": "code",
   "execution_count": 22,
   "metadata": {},
   "outputs": [
    {
     "data": {
      "text/plain": [
       "┌─────────┬──────────────────────────────────────────────────┬──────────────────\n",
       "│\u001b[22m _.names \u001b[0m│\u001b[22m _.types                                          \u001b[0m│\u001b[22m _.scitypes     \u001b[0m ⋯\n",
       "├─────────┼──────────────────────────────────────────────────┼──────────────────\n",
       "│ h       │ Float64                                          │ Continuous      ⋯\n",
       "│ e       │ Union{Missing, CategoricalValue{String, UInt32}} │ Union{Missing,  ⋯\n",
       "│ t       │ Float64                                          │ Continuous      ⋯\n",
       "└─────────┴──────────────────────────────────────────────────┴──────────────────\n",
       "\u001b[36m                                                                1 column omitted\u001b[0m\n",
       "_.nrows = 5\n"
      ]
     },
     "execution_count": 22,
     "metadata": {},
     "output_type": "execute_result"
    }
   ],
   "source": [
    "df = DataFrame(column_table)\n",
    "schema(df)"
   ]
  },
  {
   "cell_type": "markdown",
   "metadata": {},
   "source": [
    "Most MLJ models will **not** accept a Matrix in place of a table. You must wrap it:"
   ]
  },
  {
   "cell_type": "code",
   "execution_count": 25,
   "metadata": {},
   "outputs": [
    {
     "data": {
      "text/plain": [
       "┌─────────┬─────────┬────────────┐\n",
       "│\u001b[22m _.names \u001b[0m│\u001b[22m _.types \u001b[0m│\u001b[22m _.scitypes \u001b[0m│\n",
       "├─────────┼─────────┼────────────┤\n",
       "│ x1      │ Float64 │ Continuous │\n",
       "│ x2      │ Float64 │ Continuous │\n",
       "│ x3      │ Float64 │ Continuous │\n",
       "└─────────┴─────────┴────────────┘\n",
       "_.nrows = 2\n"
      ]
     },
     "execution_count": 25,
     "metadata": {},
     "output_type": "execute_result"
    }
   ],
   "source": [
    "matrix_table = MLJ.table(rand(2,3))\n",
    "schema(matrix_table)"
   ]
  },
  {
   "cell_type": "markdown",
   "metadata": {},
   "source": [
    "NOTE: the matrix is wrapped, *not* copied"
   ]
  },
  {
   "cell_type": "markdown",
   "metadata": {},
   "source": [
    "# Fixing Scientific Types in Tabular Data"
   ]
  },
  {
   "cell_type": "code",
   "execution_count": 26,
   "metadata": {},
   "outputs": [],
   "source": [
    "using CSV"
   ]
  },
  {
   "cell_type": "code",
   "execution_count": 30,
   "metadata": {},
   "outputs": [
    {
     "data": {
      "text/html": [
       "<div class=\"data-frame\"><p>4 rows × 16 columns (omitted printing of 10 columns)</p><table class=\"data-frame\"><thead><tr><th></th><th>surgery</th><th>age</th><th>rectal_temperature</th><th>pulse</th><th>respiratory_rate</th><th>temperature_extremities</th></tr><tr><th></th><th title=\"Int64\">Int64</th><th title=\"Int64\">Int64</th><th title=\"Float64\">Float64</th><th title=\"Int64\">Int64</th><th title=\"Int64\">Int64</th><th title=\"Int64\">Int64</th></tr></thead><tbody><tr><th>1</th><td>2</td><td>1</td><td>38.5</td><td>66</td><td>66</td><td>3</td></tr><tr><th>2</th><td>1</td><td>1</td><td>39.2</td><td>88</td><td>88</td><td>3</td></tr><tr><th>3</th><td>2</td><td>1</td><td>38.3</td><td>40</td><td>40</td><td>1</td></tr><tr><th>4</th><td>1</td><td>9</td><td>39.1</td><td>164</td><td>164</td><td>4</td></tr></tbody></table></div>"
      ],
      "text/latex": [
       "\\begin{tabular}{r|ccccccc}\n",
       "\t& surgery & age & rectal\\_temperature & pulse & respiratory\\_rate & temperature\\_extremities & \\\\\n",
       "\t\\hline\n",
       "\t& Int64 & Int64 & Float64 & Int64 & Int64 & Int64 & \\\\\n",
       "\t\\hline\n",
       "\t1 & 2 & 1 & 38.5 & 66 & 66 & 3 & $\\dots$ \\\\\n",
       "\t2 & 1 & 1 & 39.2 & 88 & 88 & 3 & $\\dots$ \\\\\n",
       "\t3 & 2 & 1 & 38.3 & 40 & 40 & 1 & $\\dots$ \\\\\n",
       "\t4 & 1 & 9 & 39.1 & 164 & 164 & 4 & $\\dots$ \\\\\n",
       "\\end{tabular}\n"
      ],
      "text/plain": [
       "\u001b[1m4×16 DataFrame\u001b[0m\n",
       "\u001b[1m Row \u001b[0m│\u001b[1m surgery \u001b[0m\u001b[1m age   \u001b[0m\u001b[1m rectal_temperature \u001b[0m\u001b[1m pulse \u001b[0m\u001b[1m respiratory_rate \u001b[0m\u001b[1m temperatur\u001b[0m ⋯\n",
       "\u001b[1m     \u001b[0m│\u001b[90m Int64   \u001b[0m\u001b[90m Int64 \u001b[0m\u001b[90m Float64            \u001b[0m\u001b[90m Int64 \u001b[0m\u001b[90m Int64            \u001b[0m\u001b[90m Int64     \u001b[0m ⋯\n",
       "─────┼──────────────────────────────────────────────────────────────────────────\n",
       "   1 │       2      1                38.5     66                66             ⋯\n",
       "   2 │       1      1                39.2     88                88\n",
       "   3 │       2      1                38.3     40                40\n",
       "   4 │       1      9                39.1    164               164\n",
       "\u001b[36m                                                              11 columns omitted\u001b[0m"
      ]
     },
     "execution_count": 30,
     "metadata": {},
     "output_type": "execute_result"
    }
   ],
   "source": [
    "file = CSV.File(joinpath(\"data\", \"horse.csv\"))\n",
    "horse = DataFrame(file)\n",
    "first(horse, 4) # view the first 4 rows "
   ]
  },
  {
   "cell_type": "markdown",
   "metadata": {},
   "source": [
    "examine the scientific type"
   ]
  },
  {
   "cell_type": "code",
   "execution_count": 31,
   "metadata": {},
   "outputs": [
    {
     "data": {
      "text/plain": [
       "┌─────────────────────────┬─────────┬────────────┐\n",
       "│\u001b[22m _.names                 \u001b[0m│\u001b[22m _.types \u001b[0m│\u001b[22m _.scitypes \u001b[0m│\n",
       "├─────────────────────────┼─────────┼────────────┤\n",
       "│ surgery                 │ Int64   │ Count      │\n",
       "│ age                     │ Int64   │ Count      │\n",
       "│ rectal_temperature      │ Float64 │ Continuous │\n",
       "│ pulse                   │ Int64   │ Count      │\n",
       "│ respiratory_rate        │ Int64   │ Count      │\n",
       "│ temperature_extremities │ Int64   │ Count      │\n",
       "│ mucous_membranes        │ Int64   │ Count      │\n",
       "│ capillary_refill_time   │ Int64   │ Count      │\n",
       "│ pain                    │ Int64   │ Count      │\n",
       "│ peristalsis             │ Int64   │ Count      │\n",
       "│ abdominal_distension    │ Int64   │ Count      │\n",
       "│ packed_cell_volume      │ Float64 │ Continuous │\n",
       "│ total_protein           │ Float64 │ Continuous │\n",
       "│ outcome                 │ Int64   │ Count      │\n",
       "│ surgical_lesion         │ Int64   │ Count      │\n",
       "│ cp_data                 │ Int64   │ Count      │\n",
       "└─────────────────────────┴─────────┴────────────┘\n",
       "_.nrows = 366\n"
      ]
     },
     "execution_count": 31,
     "metadata": {},
     "output_type": "execute_result"
    }
   ],
   "source": [
    "schema(horse)"
   ]
  },
  {
   "cell_type": "markdown",
   "metadata": {},
   "source": [
    "let MLJ guess the appropriate fix via `autotype()`"
   ]
  },
  {
   "cell_type": "code",
   "execution_count": 32,
   "metadata": {},
   "outputs": [
    {
     "data": {
      "text/plain": [
       "Dict{Symbol, Type} with 11 entries:\n",
       "  :abdominal_distension    => OrderedFactor\n",
       "  :pain                    => OrderedFactor\n",
       "  :surgery                 => OrderedFactor\n",
       "  :mucous_membranes        => OrderedFactor\n",
       "  :surgical_lesion         => OrderedFactor\n",
       "  :outcome                 => OrderedFactor\n",
       "  :capillary_refill_time   => OrderedFactor\n",
       "  :age                     => OrderedFactor\n",
       "  :temperature_extremities => OrderedFactor\n",
       "  :peristalsis             => OrderedFactor\n",
       "  :cp_data                 => OrderedFactor"
      ]
     },
     "execution_count": 32,
     "metadata": {},
     "output_type": "execute_result"
    }
   ],
   "source": [
    "autotype(horse)"
   ]
  },
  {
   "cell_type": "code",
   "execution_count": 34,
   "metadata": {},
   "outputs": [
    {
     "data": {
      "text/plain": [
       "┌─────────────────────────┬─────────────────────────────────┬───────────────────\n",
       "│\u001b[22m _.names                 \u001b[0m│\u001b[22m _.types                         \u001b[0m│\u001b[22m _.scitypes      \u001b[0m ⋯\n",
       "├─────────────────────────┼─────────────────────────────────┼───────────────────\n",
       "│ surgery                 │ CategoricalValue{Int64, UInt32} │ OrderedFactor{2} ⋯\n",
       "│ age                     │ CategoricalValue{Int64, UInt32} │ OrderedFactor{2} ⋯\n",
       "│ rectal_temperature      │ Float64                         │ Continuous       ⋯\n",
       "│ pulse                   │ Int64                           │ Count            ⋯\n",
       "│ respiratory_rate        │ Int64                           │ Count            ⋯\n",
       "│ temperature_extremities │ CategoricalValue{Int64, UInt32} │ OrderedFactor{4} ⋯\n",
       "│ mucous_membranes        │ CategoricalValue{Int64, UInt32} │ OrderedFactor{6} ⋯\n",
       "│ capillary_refill_time   │ CategoricalValue{Int64, UInt32} │ OrderedFactor{3} ⋯\n",
       "│ pain                    │ CategoricalValue{Int64, UInt32} │ OrderedFactor{5} ⋯\n",
       "│ peristalsis             │ CategoricalValue{Int64, UInt32} │ OrderedFactor{4} ⋯\n",
       "│ abdominal_distension    │ CategoricalValue{Int64, UInt32} │ OrderedFactor{4} ⋯\n",
       "│ packed_cell_volume      │ Float64                         │ Continuous       ⋯\n",
       "│ total_protein           │ Float64                         │ Continuous       ⋯\n",
       "│ outcome                 │ CategoricalValue{Int64, UInt32} │ OrderedFactor{3} ⋯\n",
       "│ surgical_lesion         │ CategoricalValue{Int64, UInt32} │ OrderedFactor{2} ⋯\n",
       "│ cp_data                 │ CategoricalValue{Int64, UInt32} │ OrderedFactor{2} ⋯\n",
       "└─────────────────────────┴─────────────────────────────────┴───────────────────\n",
       "_.nrows = 366\n"
      ]
     },
     "execution_count": 34,
     "metadata": {},
     "output_type": "execute_result"
    }
   ],
   "source": [
    "# accept the changes\n",
    "coerce!(horse , autotype(horse))\n",
    "schema(horse)"
   ]
  },
  {
   "cell_type": "markdown",
   "metadata": {},
   "source": [
    "we want the remain `Count` to be `Continuous`"
   ]
  },
  {
   "cell_type": "code",
   "execution_count": 36,
   "metadata": {},
   "outputs": [
    {
     "data": {
      "text/plain": [
       "┌─────────────────────────┬─────────────────────────────────┬───────────────────\n",
       "│\u001b[22m _.names                 \u001b[0m│\u001b[22m _.types                         \u001b[0m│\u001b[22m _.scitypes      \u001b[0m ⋯\n",
       "├─────────────────────────┼─────────────────────────────────┼───────────────────\n",
       "│ surgery                 │ CategoricalValue{Int64, UInt32} │ OrderedFactor{2} ⋯\n",
       "│ age                     │ CategoricalValue{Int64, UInt32} │ OrderedFactor{2} ⋯\n",
       "│ rectal_temperature      │ Float64                         │ Continuous       ⋯\n",
       "│ pulse                   │ Float64                         │ Continuous       ⋯\n",
       "│ respiratory_rate        │ Float64                         │ Continuous       ⋯\n",
       "│ temperature_extremities │ CategoricalValue{Int64, UInt32} │ OrderedFactor{4} ⋯\n",
       "│ mucous_membranes        │ CategoricalValue{Int64, UInt32} │ OrderedFactor{6} ⋯\n",
       "│ capillary_refill_time   │ CategoricalValue{Int64, UInt32} │ OrderedFactor{3} ⋯\n",
       "│ pain                    │ CategoricalValue{Int64, UInt32} │ OrderedFactor{5} ⋯\n",
       "│ peristalsis             │ CategoricalValue{Int64, UInt32} │ OrderedFactor{4} ⋯\n",
       "│ abdominal_distension    │ CategoricalValue{Int64, UInt32} │ OrderedFactor{4} ⋯\n",
       "│ packed_cell_volume      │ Float64                         │ Continuous       ⋯\n",
       "│ total_protein           │ Float64                         │ Continuous       ⋯\n",
       "│ outcome                 │ CategoricalValue{Int64, UInt32} │ OrderedFactor{3} ⋯\n",
       "│ surgical_lesion         │ CategoricalValue{Int64, UInt32} │ OrderedFactor{2} ⋯\n",
       "│ cp_data                 │ CategoricalValue{Int64, UInt32} │ OrderedFactor{2} ⋯\n",
       "└─────────────────────────┴─────────────────────────────────┴───────────────────\n",
       "_.nrows = 366\n"
      ]
     },
     "execution_count": 36,
     "metadata": {},
     "output_type": "execute_result"
    }
   ],
   "source": [
    "coerce!(horse, Count => Continuous)\n",
    "schema(horse)"
   ]
  },
  {
   "cell_type": "code",
   "execution_count": 37,
   "metadata": {},
   "outputs": [
    {
     "data": {
      "text/plain": [
       "┌─────────────────────────┬─────────────────────────────────┬───────────────────\n",
       "│\u001b[22m _.names                 \u001b[0m│\u001b[22m _.types                         \u001b[0m│\u001b[22m _.scitypes      \u001b[0m ⋯\n",
       "├─────────────────────────┼─────────────────────────────────┼───────────────────\n",
       "│ surgery                 │ CategoricalValue{Int64, UInt32} │ Multiclass{2}    ⋯\n",
       "│ age                     │ CategoricalValue{Int64, UInt32} │ Multiclass{2}    ⋯\n",
       "│ rectal_temperature      │ Float64                         │ Continuous       ⋯\n",
       "│ pulse                   │ Float64                         │ Continuous       ⋯\n",
       "│ respiratory_rate        │ Float64                         │ Continuous       ⋯\n",
       "│ temperature_extremities │ CategoricalValue{Int64, UInt32} │ OrderedFactor{4} ⋯\n",
       "│ mucous_membranes        │ CategoricalValue{Int64, UInt32} │ Multiclass{6}    ⋯\n",
       "│ capillary_refill_time   │ CategoricalValue{Int64, UInt32} │ OrderedFactor{3} ⋯\n",
       "│ pain                    │ CategoricalValue{Int64, UInt32} │ OrderedFactor{5} ⋯\n",
       "│ peristalsis             │ CategoricalValue{Int64, UInt32} │ OrderedFactor{4} ⋯\n",
       "│ abdominal_distension    │ CategoricalValue{Int64, UInt32} │ OrderedFactor{4} ⋯\n",
       "│ packed_cell_volume      │ Float64                         │ Continuous       ⋯\n",
       "│ total_protein           │ Float64                         │ Continuous       ⋯\n",
       "│ outcome                 │ CategoricalValue{Int64, UInt32} │ Multiclass{3}    ⋯\n",
       "│ surgical_lesion         │ CategoricalValue{Int64, UInt32} │ OrderedFactor{2} ⋯\n",
       "│ cp_data                 │ CategoricalValue{Int64, UInt32} │ Multiclass{2}    ⋯\n",
       "└─────────────────────────┴─────────────────────────────────┴───────────────────\n",
       "_.nrows = 366\n"
      ]
     },
     "execution_count": 37,
     "metadata": {},
     "output_type": "execute_result"
    }
   ],
   "source": [
    "# correct remainder manually\n",
    "coerce!(horse, \n",
    "    :surgery => Multiclass,\n",
    "    :age => Multiclass, \n",
    "    :mucous_membranes => Multiclass,\n",
    "    :capillary_refill_tiem => Multiclass, \n",
    "    :outcome => Multiclass, \n",
    "    :cp_data => Multiclass\n",
    ")\n",
    "\n",
    "schema(horse)"
   ]
  },
  {
   "cell_type": "code",
   "execution_count": null,
   "metadata": {},
   "outputs": [],
   "source": []
  }
 ],
 "metadata": {
  "kernelspec": {
   "display_name": "Julia 1.7.0",
   "language": "julia",
   "name": "julia-1.7"
  },
  "language_info": {
   "file_extension": ".jl",
   "mimetype": "application/julia",
   "name": "julia",
   "version": "1.7.0"
  }
 },
 "nbformat": 4,
 "nbformat_minor": 2
}
