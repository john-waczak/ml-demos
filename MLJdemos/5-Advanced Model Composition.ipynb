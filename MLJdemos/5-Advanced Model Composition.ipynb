{
 "cells": [
  {
   "cell_type": "code",
   "execution_count": 1,
   "metadata": {},
   "outputs": [],
   "source": [
    "using MLJ\n",
    "using CSV, DataFrames\n",
    "using Plots"
   ]
  },
  {
   "cell_type": "markdown",
   "metadata": {},
   "source": [
    "The `@pipeline` macro is great for composing a linear sequence of models, but for more complicated composition we will want MLJ's generic model composition syntax. There are 2 main stes: \n",
    "- **Prototype** the composite model by building a *learning network* that can be tested on dummy data as it's built\n",
    "- **Export** the learning network as a stand-alone model type"
   ]
  },
  {
   "cell_type": "markdown",
   "metadata": {},
   "source": [
    "# Building a pipeline with the generic composition syntax"
   ]
  },
  {
   "cell_type": "markdown",
   "metadata": {},
   "source": [
    "we will do the equivalent of \n",
    "```julia\n",
    "pipe = @pipeline Standardizer LogisticClassifier;\n",
    "```"
   ]
  },
  {
   "cell_type": "code",
   "execution_count": 2,
   "metadata": {},
   "outputs": [
    {
     "name": "stdout",
     "output_type": "stream",
     "text": [
      "┌────────────┬────────────┬────────────┐\n",
      "│\u001b[1m x1         \u001b[0m│\u001b[1m x2         \u001b[0m│\u001b[1m x3         \u001b[0m│\n",
      "│\u001b[90m Float64    \u001b[0m│\u001b[90m Float64    \u001b[0m│\u001b[90m Float64    \u001b[0m│\n",
      "│\u001b[90m Continuous \u001b[0m│\u001b[90m Continuous \u001b[0m│\u001b[90m Continuous \u001b[0m│\n",
      "├────────────┼────────────┼────────────┤\n",
      "│ 9.19885    │ 4.36257    │ -5.20153   │\n",
      "│ 8.30787    │ 4.93404    │ -5.7847    │\n",
      "│ 6.5611     │ 5.36142    │ -3.13666   │\n",
      "│ -9.25297   │ -15.7003   │ -1.90303   │\n",
      "│ 0.573373   │ -4.72411   │ -7.81783   │\n",
      "└────────────┴────────────┴────────────┘\n"
     ]
    }
   ],
   "source": [
    "# dummy data\n",
    "X, y = make_blobs(5, 3) \n",
    "pretty(X)"
   ]
  },
  {
   "cell_type": "markdown",
   "metadata": {},
   "source": [
    "# Step 0: combine models \"by hand\" "
   ]
  },
  {
   "cell_type": "code",
   "execution_count": 3,
   "metadata": {},
   "outputs": [
    {
     "name": "stdout",
     "output_type": "stream",
     "text": [
      "import MLJLinearModels ✔\n",
      "import MLJMultivariateStatsInterface ✔\n"
     ]
    },
    {
     "name": "stderr",
     "output_type": "stream",
     "text": [
      "┌ Info: For silent loading, specify `verbosity=0`. \n",
      "└ @ Main /home/john/.julia/packages/MLJModels/GKDnU/src/loading.jl:168\n",
      "┌ Info: For silent loading, specify `verbosity=0`. \n",
      "└ @ Main /home/john/.julia/packages/MLJModels/GKDnU/src/loading.jl:168\n"
     ]
    },
    {
     "data": {
      "text/plain": [
       "MLJMultivariateStatsInterface.PCA"
      ]
     },
     "execution_count": 3,
     "metadata": {},
     "output_type": "execute_result"
    }
   ],
   "source": [
    "LogisticClassifier = @load LogisticClassifier pkg=MLJLinearModels\n",
    "PCA = @load PCA"
   ]
  },
  {
   "cell_type": "code",
   "execution_count": 4,
   "metadata": {},
   "outputs": [
    {
     "data": {
      "text/plain": [
       "LogisticClassifier(\n",
       "    lambda = 1.0,\n",
       "    gamma = 0.0,\n",
       "    penalty = :l2,\n",
       "    fit_intercept = true,\n",
       "    penalize_intercept = false,\n",
       "    solver = nothing)"
      ]
     },
     "execution_count": 4,
     "metadata": {},
     "output_type": "execute_result"
    }
   ],
   "source": [
    "stand = Standardizer()\n",
    "linear = LogisticClassifier()"
   ]
  },
  {
   "cell_type": "code",
   "execution_count": 6,
   "metadata": {},
   "outputs": [
    {
     "name": "stderr",
     "output_type": "stream",
     "text": [
      "┌ Info: Training Machine{Standardizer,…}.\n",
      "└ @ MLJBase /home/john/.julia/packages/MLJBase/QXObv/src/machines.jl:403\n"
     ]
    }
   ],
   "source": [
    "mach1 = machine(stand, X); \n",
    "fit!(mach1); \n",
    "Xstand = MLJ.transform(mach1, X);"
   ]
  },
  {
   "cell_type": "code",
   "execution_count": 7,
   "metadata": {},
   "outputs": [
    {
     "name": "stderr",
     "output_type": "stream",
     "text": [
      "┌ Info: Training Machine{LogisticClassifier,…}.\n",
      "└ @ MLJBase /home/john/.julia/packages/MLJBase/QXObv/src/machines.jl:403\n"
     ]
    },
    {
     "data": {
      "text/plain": [
       "5-element MLJBase.UnivariateFiniteVector{Multiclass{3}, Int64, UInt32, Float64}:\n",
       " UnivariateFinite{Multiclass{3}}(1=>0.0483, 2=>0.097, 3=>0.855)\n",
       " UnivariateFinite{Multiclass{3}}(1=>0.0474, 2=>0.124, 3=>0.828)\n",
       " UnivariateFinite{Multiclass{3}}(1=>0.0714, 2=>0.0499, 3=>0.879)\n",
       " UnivariateFinite{Multiclass{3}}(1=>0.78, 2=>0.106, 3=>0.113)\n",
       " UnivariateFinite{Multiclass{3}}(1=>0.128, 2=>0.547, 3=>0.325)"
      ]
     },
     "execution_count": 7,
     "metadata": {},
     "output_type": "execute_result"
    }
   ],
   "source": [
    "mach2 = machine(linear, Xstand, y); \n",
    "fit!(mach2); \n",
    "yhat = predict(mach2, Xstand)"
   ]
  },
  {
   "cell_type": "markdown",
   "metadata": {},
   "source": [
    "# Step 1: Edit your code\n",
    "- pre-wrap the data in `Source` nodes \n",
    "- delete the `fit!` calls"
   ]
  },
  {
   "cell_type": "code",
   "execution_count": 8,
   "metadata": {},
   "outputs": [
    {
     "data": {
      "text/plain": [
       "Node{Machine{LogisticClassifier,…}}\n",
       "  args:\n",
       "    1:\tNode{Machine{Standardizer,…}}\n",
       "  formula:\n",
       "    predict(\n",
       "        \u001b[0m\u001b[1mMachine{LogisticClassifier,…}\u001b[22m, \n",
       "        transform(\n",
       "            \u001b[0m\u001b[1mMachine{Standardizer,…}\u001b[22m, \n",
       "            Source @053))"
      ]
     },
     "execution_count": 8,
     "metadata": {},
     "output_type": "execute_result"
    }
   ],
   "source": [
    "X = source(X) \n",
    "y = source(y) \n",
    "\n",
    "stand = Standardizer(); \n",
    "linear = LogisticClassifier(); \n",
    "\n",
    "mach1 = machine(stand, X); \n",
    "Xstand = MLJ.transform(mach1, X); \n",
    "\n",
    "mach2 = machine(linear, Xstand, y); \n",
    "yhat = predict(mach2, Xstand) "
   ]
  },
  {
   "cell_type": "markdown",
   "metadata": {},
   "source": [
    "`X`, `y`, `Xstand`, and `yhat` are *nodes* (i.e. variables or *dynamic data*). All training, predicting, and transforming is now executed *lazily* on demand when we call `fit!`. We call a node to retrieve the data it represents. "
   ]
  },
  {
   "cell_type": "code",
   "execution_count": 9,
   "metadata": {},
   "outputs": [
    {
     "name": "stdout",
     "output_type": "stream",
     "text": [
      "┌────────────┬────────────┬────────────┐\n",
      "│\u001b[1m x1         \u001b[0m│\u001b[1m x2         \u001b[0m│\u001b[1m x3         \u001b[0m│\n",
      "│\u001b[90m Float64    \u001b[0m│\u001b[90m Float64    \u001b[0m│\u001b[90m Float64    \u001b[0m│\n",
      "│\u001b[90m Continuous \u001b[0m│\u001b[90m Continuous \u001b[0m│\u001b[90m Continuous \u001b[0m│\n",
      "├────────────┼────────────┼────────────┤\n",
      "│ 0.798141   │ 0.603367   │ -0.18714   │\n",
      "│ 0.681967   │ 0.665879   │ -0.439311  │\n",
      "│ 0.454206   │ 0.71263    │ 0.705741   │\n",
      "│ -1.60778   │ -1.59127   │ 1.23918    │\n",
      "│ -0.326531  │ -0.390607  │ -1.31847   │\n",
      "└────────────┴────────────┴────────────┘\n"
     ]
    },
    {
     "name": "stderr",
     "output_type": "stream",
     "text": [
      "┌ Info: Training Machine{Standardizer,…}.\n",
      "└ @ MLJBase /home/john/.julia/packages/MLJBase/QXObv/src/machines.jl:403\n"
     ]
    }
   ],
   "source": [
    "fit!(Xstand) \n",
    "Xstand() |> pretty"
   ]
  },
  {
   "cell_type": "code",
   "execution_count": 10,
   "metadata": {},
   "outputs": [
    {
     "name": "stderr",
     "output_type": "stream",
     "text": [
      "┌ Info: Not retraining Machine{Standardizer,…}. Use `force=true` to force.\n",
      "└ @ MLJBase /home/john/.julia/packages/MLJBase/QXObv/src/machines.jl:406\n",
      "┌ Info: Training Machine{LogisticClassifier,…}.\n",
      "└ @ MLJBase /home/john/.julia/packages/MLJBase/QXObv/src/machines.jl:403\n"
     ]
    },
    {
     "data": {
      "text/plain": [
       "5-element MLJBase.UnivariateFiniteVector{Multiclass{3}, Int64, UInt32, Float64}:\n",
       " UnivariateFinite{Multiclass{3}}(1=>0.0483, 2=>0.097, 3=>0.855)\n",
       " UnivariateFinite{Multiclass{3}}(1=>0.0474, 2=>0.124, 3=>0.828)\n",
       " UnivariateFinite{Multiclass{3}}(1=>0.0714, 2=>0.0499, 3=>0.879)\n",
       " UnivariateFinite{Multiclass{3}}(1=>0.78, 2=>0.106, 3=>0.113)\n",
       " UnivariateFinite{Multiclass{3}}(1=>0.128, 2=>0.547, 3=>0.325)"
      ]
     },
     "execution_count": 10,
     "metadata": {},
     "output_type": "execute_result"
    }
   ],
   "source": [
    "fit!(yhat); \n",
    "yhat()"
   ]
  },
  {
   "cell_type": "markdown",
   "metadata": {},
   "source": [
    "since the network is a DAG (directed acyclic graph), we can inspect the predecessors of each node: "
   ]
  },
  {
   "cell_type": "code",
   "execution_count": 11,
   "metadata": {},
   "outputs": [
    {
     "data": {
      "text/plain": [
       "2-element Vector{Any}:\n",
       " Source @053 ⏎ `Table{AbstractVector{Continuous}}`\n",
       " Source @100 ⏎ `AbstractVector{Multiclass{3}}`"
      ]
     },
     "execution_count": 11,
     "metadata": {},
     "output_type": "execute_result"
    }
   ],
   "source": [
    "sources(yhat)"
   ]
  },
  {
   "cell_type": "markdown",
   "metadata": {},
   "source": [
    "To obtain a new prediction, we can call `yhat(Xnew)`. "
   ]
  },
  {
   "cell_type": "code",
   "execution_count": 13,
   "metadata": {},
   "outputs": [
    {
     "name": "stdout",
     "output_type": "stream",
     "text": [
      "┌────────────┬────────────┬────────────┐\n",
      "│\u001b[1m x1         \u001b[0m│\u001b[1m x2         \u001b[0m│\u001b[1m x3         \u001b[0m│\n",
      "│\u001b[90m Float64    \u001b[0m│\u001b[90m Float64    \u001b[0m│\u001b[90m Float64    \u001b[0m│\n",
      "│\u001b[90m Continuous \u001b[0m│\u001b[90m Continuous \u001b[0m│\u001b[90m Continuous \u001b[0m│\n",
      "├────────────┼────────────┼────────────┤\n",
      "│ -8.49929   │ -22.3569   │ -6.07796   │\n",
      "│ -1.69238   │ -8.67298   │ -10.3831   │\n",
      "└────────────┴────────────┴────────────┘\n"
     ]
    },
    {
     "data": {
      "text/plain": [
       "2-element MLJBase.UnivariateFiniteVector{Multiclass{3}, Int64, UInt32, Float64}:\n",
       " UnivariateFinite{Multiclass{3}}(1=>0.504, 2=>0.445, 3=>0.0507)\n",
       " UnivariateFinite{Multiclass{3}}(1=>0.0677, 2=>0.834, 3=>0.0978)"
      ]
     },
     "execution_count": 13,
     "metadata": {},
     "output_type": "execute_result"
    }
   ],
   "source": [
    "Xnew, _ = make_blobs(2, 3); \n",
    "Xnew |> pretty\n",
    "\n",
    "yhat(Xnew)"
   ]
  },
  {
   "cell_type": "markdown",
   "metadata": {},
   "source": [
    "# Step 2: Export the learning network as a stand alone model"
   ]
  },
  {
   "cell_type": "markdown",
   "metadata": {},
   "source": [
    "We can have 3 different types of models: \n",
    "- `Deterministic`\n",
    "- `Probabilistic`\n",
    "- `Unsupervised` \n",
    "\n",
    "We also supply the source nodes and prediction node"
   ]
  },
  {
   "cell_type": "code",
   "execution_count": 14,
   "metadata": {},
   "outputs": [
    {
     "data": {
      "text/plain": [
       "Machine{ProbabilisticSurrogate,…} trained 0 times; does not cache data\n",
       "  args: \n",
       "    1:\tSource @053 ⏎ `Table{AbstractVector{Continuous}}`\n",
       "    2:\tSource @100 ⏎ `AbstractVector{Multiclass{3}}`\n"
      ]
     },
     "execution_count": 14,
     "metadata": {},
     "output_type": "execute_result"
    }
   ],
   "source": [
    "mach = machine(Probabilistic(), X, y; predict=yhat)"
   ]
  },
  {
   "cell_type": "markdown",
   "metadata": {},
   "source": [
    "we can use this like a normal machine... "
   ]
  },
  {
   "cell_type": "code",
   "execution_count": 15,
   "metadata": {},
   "outputs": [
    {
     "name": "stderr",
     "output_type": "stream",
     "text": [
      "┌ Info: Not retraining Machine{Standardizer,…}. Use `force=true` to force.\n",
      "└ @ MLJBase /home/john/.julia/packages/MLJBase/QXObv/src/machines.jl:406\n",
      "┌ Info: Not retraining Machine{LogisticClassifier,…}. Use `force=true` to force.\n",
      "└ @ MLJBase /home/john/.julia/packages/MLJBase/QXObv/src/machines.jl:406\n"
     ]
    },
    {
     "data": {
      "text/plain": [
       "2-element MLJBase.UnivariateFiniteVector{Multiclass{3}, Int64, UInt32, Float64}:\n",
       " UnivariateFinite{Multiclass{3}}(1=>0.47, 2=>0.00127, 3=>0.529)\n",
       " UnivariateFinite{Multiclass{3}}(1=>0.441, 2=>0.00234, 3=>0.556)"
      ]
     },
     "execution_count": 15,
     "metadata": {},
     "output_type": "execute_result"
    }
   ],
   "source": [
    "Xnew, _ = make_blobs(2, 3); \n",
    "fit!(mach) \n",
    "predict(mach, Xnew)"
   ]
  },
  {
   "cell_type": "markdown",
   "metadata": {},
   "source": [
    "now we create a new model type, a Julia `struct` "
   ]
  },
  {
   "cell_type": "code",
   "execution_count": 16,
   "metadata": {},
   "outputs": [],
   "source": [
    "@from_network mach begin\n",
    "    mutable struct YourPipe\n",
    "        standardizer = stand\n",
    "        classifier = linear::Probabilistic\n",
    "    end\n",
    "end"
   ]
  },
  {
   "cell_type": "markdown",
   "metadata": {},
   "source": [
    "now we can instantiate the new model on new data"
   ]
  },
  {
   "cell_type": "code",
   "execution_count": 17,
   "metadata": {},
   "outputs": [
    {
     "name": "stderr",
     "output_type": "stream",
     "text": [
      "\u001b[33mEvaluating over 6 folds: 100%[=========================] Time: 0:00:10\u001b[39m\n"
     ]
    },
    {
     "data": {
      "text/plain": [
       "PerformanceEvaluation object with these fields:\n",
       "  measure, measurement, operation, per_fold,\n",
       "  per_observation, fitted_params_per_fold,\n",
       "  report_per_fold, train_test_pairs\n",
       "Extract:\n",
       "┌─────────────────────────┬─────────────┬──────────────┬────────────────────────\n",
       "│\u001b[22m measure                 \u001b[0m│\u001b[22m measurement \u001b[0m│\u001b[22m operation    \u001b[0m│\u001b[22m per_fold             \u001b[0m ⋯\n",
       "├─────────────────────────┼─────────────┼──────────────┼────────────────────────\n",
       "│ MisclassificationRate() │ 0.08        │ predict_mode │ [0.0, 0.04, 0.08, 0.0 ⋯\n",
       "└─────────────────────────┴─────────────┴──────────────┴────────────────────────\n",
       "\u001b[36m                                                                1 column omitted\u001b[0m\n"
      ]
     },
     "execution_count": 17,
     "metadata": {},
     "output_type": "execute_result"
    }
   ],
   "source": [
    "pipe = YourPipe()\n",
    "X, y = @load_iris; \n",
    "\n",
    "mach = machine(pipe, X, y) \n",
    "evaluate!(mach, measure=misclassification_rate, operation=predict_mode)"
   ]
  },
  {
   "cell_type": "markdown",
   "metadata": {},
   "source": [
    "# A composite model to average two regressor predictors\n",
    "\n",
    "We will define a model that \n",
    "- standardizes the input data\n",
    "- learns and applies a Box-Cox transformation to target variable that enforces a normal distribution \n",
    "- blends the predictions of two supervised learning models using a simple average \n",
    "- applies the inverse Box-Cox transformation to the blended prediction"
   ]
  },
  {
   "cell_type": "code",
   "execution_count": 19,
   "metadata": {},
   "outputs": [
    {
     "name": "stderr",
     "output_type": "stream",
     "text": [
      "\u001b[32m\u001b[1m    Updating\u001b[22m\u001b[39m registry at `~/.julia/registries/General.toml`\n",
      "\u001b[32m\u001b[1m   Resolving\u001b[22m\u001b[39m package versions...\n",
      "\u001b[32m\u001b[1m    Updating\u001b[22m\u001b[39m `~/gitRepos/ml-demos/Project.toml`\n",
      " \u001b[90m [c6f25543] \u001b[39m\u001b[92m+ MLJDecisionTreeInterface v0.1.3\u001b[39m\n",
      "\u001b[32m\u001b[1m    Updating\u001b[22m\u001b[39m `~/gitRepos/ml-demos/Manifest.toml`\n",
      " \u001b[90m [7806a523] \u001b[39m\u001b[92m+ DecisionTree v0.10.11\u001b[39m\n",
      " \u001b[90m [c6f25543] \u001b[39m\u001b[92m+ MLJDecisionTreeInterface v0.1.3\u001b[39m\n",
      " \u001b[90m [6e75b9c4] \u001b[39m\u001b[92m+ ScikitLearnBase v0.5.0\u001b[39m\n",
      "\u001b[32m\u001b[1m   Resolving\u001b[22m\u001b[39m package versions...\n",
      "\u001b[32m\u001b[1m    Updating\u001b[22m\u001b[39m `~/gitRepos/ml-demos/Project.toml`\n",
      " \u001b[90m [7806a523] \u001b[39m\u001b[92m+ DecisionTree v0.10.11\u001b[39m\n",
      "\u001b[32m\u001b[1m  No Changes\u001b[22m\u001b[39m to `~/gitRepos/ml-demos/Manifest.toml`\n"
     ]
    }
   ],
   "source": [
    "using Pkg \n",
    "Pkg.add(\"MLJDecisionTreeInterface\")\n",
    "Pkg.add(\"DecisionTree\")"
   ]
  },
  {
   "cell_type": "code",
   "execution_count": 24,
   "metadata": {},
   "outputs": [
    {
     "name": "stdout",
     "output_type": "stream",
     "text": [
      "import MLJDecisionTreeInterface ✔\n",
      "import MLJLinearModels ✔\n"
     ]
    },
    {
     "name": "stderr",
     "output_type": "stream",
     "text": [
      "┌ Info: For silent loading, specify `verbosity=0`. \n",
      "└ @ Main /home/john/.julia/packages/MLJModels/GKDnU/src/loading.jl:168\n",
      "┌ Info: For silent loading, specify `verbosity=0`. \n",
      "└ @ Main /home/john/.julia/packages/MLJModels/GKDnU/src/loading.jl:168\n"
     ]
    },
    {
     "data": {
      "text/plain": [
       "MLJLinearModels.RidgeRegressor"
      ]
     },
     "execution_count": 24,
     "metadata": {},
     "output_type": "execute_result"
    }
   ],
   "source": [
    "RandomForestRegressor = @load RandomForestRegressor pkg=DecisionTree\n",
    "RidgeRegressor = @load RidgeRegressor pkg=MLJLinearModels"
   ]
  },
  {
   "cell_type": "markdown",
   "metadata": {},
   "source": [
    "## Input Layer"
   ]
  },
  {
   "cell_type": "code",
   "execution_count": 21,
   "metadata": {},
   "outputs": [
    {
     "data": {
      "text/plain": [
       "Source @699 ⏎ `Nothing`"
      ]
     },
     "execution_count": 21,
     "metadata": {},
     "output_type": "execute_result"
    }
   ],
   "source": [
    "X = source() \n",
    "y = source() "
   ]
  },
  {
   "cell_type": "markdown",
   "metadata": {},
   "source": [
    "## First layer and target transformation"
   ]
  },
  {
   "cell_type": "code",
   "execution_count": 22,
   "metadata": {},
   "outputs": [
    {
     "data": {
      "text/plain": [
       "Node{Machine{Standardizer,…}}\n",
       "  args:\n",
       "    1:\tSource @413\n",
       "  formula:\n",
       "    transform(\n",
       "        \u001b[0m\u001b[1mMachine{Standardizer,…}\u001b[22m, \n",
       "        Source @413)"
      ]
     },
     "execution_count": 22,
     "metadata": {},
     "output_type": "execute_result"
    }
   ],
   "source": [
    "std_model = Standardizer() \n",
    "stand = machine(std_model, X) \n",
    "W = MLJ.transform(stand, X) "
   ]
  },
  {
   "cell_type": "code",
   "execution_count": 23,
   "metadata": {},
   "outputs": [
    {
     "data": {
      "text/plain": [
       "Node{Machine{UnivariateBoxCoxTransformer,…}}\n",
       "  args:\n",
       "    1:\tSource @699\n",
       "  formula:\n",
       "    transform(\n",
       "        \u001b[0m\u001b[1mMachine{UnivariateBoxCoxTransformer,…}\u001b[22m, \n",
       "        Source @699)"
      ]
     },
     "execution_count": 23,
     "metadata": {},
     "output_type": "execute_result"
    }
   ],
   "source": [
    "box_model = UnivariateBoxCoxTransformer()\n",
    "box = machine(box_model, y) \n",
    "z = MLJ.transform(box, y) "
   ]
  },
  {
   "cell_type": "markdown",
   "metadata": {},
   "source": [
    "## Second layer"
   ]
  },
  {
   "cell_type": "code",
   "execution_count": 25,
   "metadata": {},
   "outputs": [
    {
     "data": {
      "text/plain": [
       "Machine{RandomForestRegressor,…} trained 0 times; caches data\n",
       "  args: \n",
       "    1:\tNode{Machine{Standardizer,…}}\n",
       "    2:\tNode{Machine{UnivariateBoxCoxTransformer,…}}\n"
      ]
     },
     "execution_count": 25,
     "metadata": {},
     "output_type": "execute_result"
    }
   ],
   "source": [
    "ridge_model = RidgeRegressor(lambda=0.1)\n",
    "ridge = machine(ridge_model, W, z) \n",
    "\n",
    "forest_model = RandomForestRegressor(n_trees=50)\n",
    "forest = machine(forest_model, W, z) "
   ]
  },
  {
   "cell_type": "code",
   "execution_count": 26,
   "metadata": {},
   "outputs": [
    {
     "data": {
      "text/plain": [
       "Node{Nothing}\n",
       "  args:\n",
       "    1:\tNode{Nothing}\n",
       "    2:\tNode{Nothing}\n",
       "  formula:\n",
       "    +(\n",
       "        #146(\n",
       "            predict(\n",
       "                \u001b[0m\u001b[1mMachine{RidgeRegressor,…}\u001b[22m, \n",
       "                transform(\n",
       "                    \u001b[0m\u001b[1mMachine{Standardizer,…}\u001b[22m, \n",
       "                    Source @413))),\n",
       "        #146(\n",
       "            predict(\n",
       "                \u001b[0m\u001b[1mMachine{RandomForestRegressor,…}\u001b[22m, \n",
       "                transform(\n",
       "                    \u001b[0m\u001b[1mMachine{Standardizer,…}\u001b[22m, \n",
       "                    Source @413))))"
      ]
     },
     "execution_count": 26,
     "metadata": {},
     "output_type": "execute_result"
    }
   ],
   "source": [
    "ẑ = 0.5*predict(ridge, W) + 0.5*predict(forest, W)"
   ]
  },
  {
   "cell_type": "markdown",
   "metadata": {},
   "source": [
    "## Output"
   ]
  },
  {
   "cell_type": "code",
   "execution_count": 27,
   "metadata": {},
   "outputs": [
    {
     "data": {
      "text/plain": [
       "Node{Machine{UnivariateBoxCoxTransformer,…}}\n",
       "  args:\n",
       "    1:\tNode{Nothing}\n",
       "  formula:\n",
       "    inverse_transform(\n",
       "        \u001b[0m\u001b[1mMachine{UnivariateBoxCoxTransformer,…}\u001b[22m, \n",
       "        +(\n",
       "            #146(\n",
       "                predict(\n",
       "                    \u001b[0m\u001b[1mMachine{RidgeRegressor,…}\u001b[22m, \n",
       "                    transform(\n",
       "                        \u001b[0m\u001b[1mMachine{Standardizer,…}\u001b[22m, \n",
       "                        Source @413))),\n",
       "            #146(\n",
       "                predict(\n",
       "                    \u001b[0m\u001b[1mMachine{RandomForestRegressor,…}\u001b[22m, \n",
       "                    transform(\n",
       "                        \u001b[0m\u001b[1mMachine{Standardizer,…}\u001b[22m, \n",
       "                        Source @413)))))"
      ]
     },
     "execution_count": 27,
     "metadata": {},
     "output_type": "execute_result"
    }
   ],
   "source": [
    "ŷ = inverse_transform(box, ẑ)"
   ]
  },
  {
   "cell_type": "markdown",
   "metadata": {},
   "source": [
    "## Export the new model "
   ]
  },
  {
   "cell_type": "code",
   "execution_count": 28,
   "metadata": {},
   "outputs": [],
   "source": [
    "@from_network machine(Deterministic(), X, y, predict=ŷ) begin\n",
    "    mutable struct CompositeModel \n",
    "        rgs1 = ridge_model \n",
    "        rgs2 = forest_model\n",
    "    end\n",
    "end"
   ]
  },
  {
   "cell_type": "markdown",
   "metadata": {},
   "source": [
    "Instantiate the new model and try it out"
   ]
  },
  {
   "cell_type": "code",
   "execution_count": 29,
   "metadata": {},
   "outputs": [
    {
     "data": {
      "text/plain": [
       "CompositeModel(\n",
       "    rgs1 = RidgeRegressor(\n",
       "            lambda = 0.1,\n",
       "            fit_intercept = true,\n",
       "            penalize_intercept = false,\n",
       "            solver = nothing),\n",
       "    rgs2 = RandomForestRegressor(\n",
       "            max_depth = -1,\n",
       "            min_samples_leaf = 1,\n",
       "            min_samples_split = 2,\n",
       "            min_purity_increase = 0.0,\n",
       "            n_subfeatures = -1,\n",
       "            n_trees = 50,\n",
       "            sampling_fraction = 0.7,\n",
       "            pdf_smoothing = 0.0,\n",
       "            rng = Random._GLOBAL_RNG()))"
      ]
     },
     "execution_count": 29,
     "metadata": {},
     "output_type": "execute_result"
    }
   ],
   "source": [
    "composite = CompositeModel()"
   ]
  },
  {
   "cell_type": "code",
   "execution_count": 30,
   "metadata": {},
   "outputs": [
    {
     "name": "stderr",
     "output_type": "stream",
     "text": [
      "\u001b[33mEvaluating over 6 folds: 100%[=========================] Time: 0:00:16\u001b[39m\n"
     ]
    },
    {
     "data": {
      "text/plain": [
       "PerformanceEvaluation object with these fields:\n",
       "  measure, measurement, operation, per_fold,\n",
       "  per_observation, fitted_params_per_fold,\n",
       "  report_per_fold, train_test_pairs\n",
       "Extract:\n",
       "┌────────────────────────┬─────────────┬───────────┬────────────────────────────\n",
       "│\u001b[22m measure                \u001b[0m│\u001b[22m measurement \u001b[0m│\u001b[22m operation \u001b[0m│\u001b[22m per_fold                 \u001b[0m ⋯\n",
       "├────────────────────────┼─────────────┼───────────┼────────────────────────────\n",
       "│ RootMeanSquaredError() │ 3.88        │ predict   │ [4.03, 3.29, 4.5, 2.71, 4 ⋯\n",
       "│ MeanAbsoluteError()    │ 2.49        │ predict   │ [2.65, 2.35, 2.57, 2.1, 2 ⋯\n",
       "└────────────────────────┴─────────────┴───────────┴────────────────────────────\n",
       "\u001b[36m                                                                1 column omitted\u001b[0m\n"
      ]
     },
     "execution_count": 30,
     "metadata": {},
     "output_type": "execute_result"
    }
   ],
   "source": [
    "X, y = @load_boston;\n",
    "mach = machine(composite, X, y); \n",
    "\n",
    "evaluate!(mach, resampling=CV(nfolds=6, shuffle=true), measures=[rms, mae])"
   ]
  },
  {
   "cell_type": "code",
   "execution_count": null,
   "metadata": {},
   "outputs": [],
   "source": []
  }
 ],
 "metadata": {
  "kernelspec": {
   "display_name": "Julia 1.7.0",
   "language": "julia",
   "name": "julia-1.7"
  },
  "language_info": {
   "file_extension": ".jl",
   "mimetype": "application/julia",
   "name": "julia",
   "version": "1.7.0"
  }
 },
 "nbformat": 4,
 "nbformat_minor": 2
}
