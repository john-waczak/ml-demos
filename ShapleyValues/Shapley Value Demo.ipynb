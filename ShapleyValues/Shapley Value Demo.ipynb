{
 "cells": [
  {
   "cell_type": "code",
   "execution_count": 1,
   "metadata": {},
   "outputs": [
    {
     "name": "stderr",
     "output_type": "stream",
     "text": [
      "\u001b[32m\u001b[1m    Updating\u001b[22m\u001b[39m registry at `~/.julia/registries/General.toml`\n",
      "\u001b[32m\u001b[1m   Resolving\u001b[22m\u001b[39m package versions...\n",
      "\u001b[32m\u001b[1m   Installed\u001b[22m\u001b[39m ShapML ─ v0.3.1\n",
      "\u001b[32m\u001b[1m    Updating\u001b[22m\u001b[39m `~/gitRepos/ml-demos/Project.toml`\n",
      " \u001b[90m [8523bd24] \u001b[39m\u001b[92m+ ShapML v0.3.1\u001b[39m\n",
      "\u001b[32m\u001b[1m    Updating\u001b[22m\u001b[39m `~/gitRepos/ml-demos/Manifest.toml`\n",
      " \u001b[90m [8523bd24] \u001b[39m\u001b[92m+ ShapML v0.3.1\u001b[39m\n",
      " \u001b[90m [83423d85] \u001b[39m\u001b[93m↑ Cairo_jll v1.16.1+0 ⇒ v1.16.1+1\u001b[39m\n",
      " \u001b[90m [7746bdde] \u001b[39m\u001b[93m↑ Glib_jll v2.68.3+1 ⇒ v2.68.3+2\u001b[39m\n",
      "\u001b[32m\u001b[1mPrecompiling\u001b[22m\u001b[39m project...\n",
      "\u001b[32m  ✓ \u001b[39m\u001b[90mRequires\u001b[39m\n",
      "\u001b[32m  ✓ \u001b[39m\u001b[90mStatic\u001b[39m\n",
      "\u001b[32m  ✓ \u001b[39m\u001b[90mTables\u001b[39m\n",
      "\u001b[32m  ✓ \u001b[39m\u001b[90mCompat\u001b[39m\n",
      "\u001b[32m  ✓ \u001b[39m\u001b[90mSentinelArrays\u001b[39m\n",
      "\u001b[32m  ✓ \u001b[39m\u001b[90mRandomNumbers\u001b[39m\n",
      "\u001b[32m  ✓ \u001b[39m\u001b[90mMemento\u001b[39m\n",
      "\u001b[32m  ✓ \u001b[39m\u001b[90mLatexify\u001b[39m\n",
      "\u001b[32m  ✓ \u001b[39m\u001b[90mCategoricalArrays\u001b[39m\n",
      "\u001b[32m  ✓ \u001b[39m\u001b[90mStructArrays\u001b[39m\n",
      "\u001b[32m  ✓ \u001b[39m\u001b[90mRandom123\u001b[39m\n",
      "\u001b[32m  ✓ \u001b[39m\u001b[90mFilePathsBase\u001b[39m\n",
      "\u001b[32m  ✓ \u001b[39m\u001b[90mChainRulesCore\u001b[39m\n",
      "\u001b[32m  ✓ \u001b[39m\u001b[90mArrayInterface\u001b[39m\n",
      "\u001b[32m  ✓ \u001b[39m\u001b[90mARFFFiles\u001b[39m\n",
      "\u001b[32m  ✓ \u001b[39m\u001b[90mChangesOfVariables\u001b[39m\n",
      "\u001b[32m  ✓ \u001b[39m\u001b[90mDataStructures\u001b[39m\n",
      "\u001b[32m  ✓ \u001b[39m\u001b[90mJLSO\u001b[39m\n",
      "\u001b[32m  ✓ \u001b[39m\u001b[90mGPUCompiler\u001b[39m\n",
      "\u001b[32m  ✓ \u001b[39m\u001b[90mSortingAlgorithms\u001b[39m\n",
      "\u001b[32m  ✓ \u001b[39m\u001b[90mPrettyTables\u001b[39m\n",
      "\u001b[32m  ✓ \u001b[39m\u001b[90mFiniteDiff\u001b[39m\n",
      "\u001b[32m  ✓ \u001b[39m\u001b[90mLogExpFunctions\u001b[39m\n",
      "\u001b[32m  ✓ \u001b[39m\u001b[90mPlotThemes\u001b[39m\n",
      "\u001b[32m  ✓ \u001b[39m\u001b[90mQuadGK\u001b[39m\n",
      "\u001b[32m  ✓ \u001b[39m\u001b[90mNNlib\u001b[39m\n",
      "\u001b[32m  ✓ \u001b[39m\u001b[90mStatsBase\u001b[39m\n",
      "\u001b[32m  ✓ \u001b[39m\u001b[90mLatinHypercubeSampling\u001b[39m\n",
      "\u001b[32m  ✓ \u001b[39m\u001b[90mChainRules\u001b[39m\n",
      "\u001b[32m  ✓ \u001b[39mMultivariateStats\n",
      "\u001b[32m  ✓ \u001b[39m\u001b[90mLossFunctions\u001b[39m\n",
      "\u001b[32m  ✓ \u001b[39m\u001b[90mGeometryBasics\u001b[39m\n",
      "\u001b[32m  ✓ \u001b[39m\u001b[90mSpecialFunctions\u001b[39m\n",
      "\u001b[32m  ✓ \u001b[39m\u001b[90mDiffRules\u001b[39m\n",
      "\u001b[32m  ✓ \u001b[39mNearestNeighborModels\n",
      "\u001b[32m  ✓ \u001b[39mMLJMultivariateStatsInterface\n",
      "\u001b[32m  ✓ \u001b[39m\u001b[90mNetworkLayout\u001b[39m\n",
      "\u001b[32m  ✓ \u001b[39m\u001b[90mStatsFuns\u001b[39m\n",
      "\u001b[32m  ✓ \u001b[39mCSV\n",
      "\u001b[32m  ✓ \u001b[39m\u001b[90mForwardDiff\u001b[39m\n",
      "\u001b[32m  ✓ \u001b[39m\u001b[90mNLSolversBase\u001b[39m\n",
      "\u001b[32m  ✓ \u001b[39m\u001b[90mDistributions\u001b[39m\n",
      "\u001b[32m  ✓ \u001b[39m\u001b[90mLineSearches\u001b[39m\n",
      "\u001b[32m  ✓ \u001b[39m\u001b[90mScientificTypes\u001b[39m\n",
      "\u001b[32m  ✓ \u001b[39m\u001b[90mZygote\u001b[39m\n",
      "\u001b[32m  ✓ \u001b[39m\u001b[90mOpenML\u001b[39m\n",
      "\u001b[32m  ✓ \u001b[39m\u001b[90mOptim\u001b[39m\n",
      "\u001b[32m  ✓ \u001b[39mMLJLinearModels\n",
      "\u001b[32m  ✓ \u001b[39m\u001b[90mMLJBase\u001b[39m\n",
      "\u001b[32m  ✓ \u001b[39m\u001b[90mMLJEnsembles\u001b[39m\n",
      "\u001b[32m  ✓ \u001b[39m\u001b[90mMLJTuning\u001b[39m\n",
      "\u001b[32m  ✓ \u001b[39m\u001b[90mMLJSerialization\u001b[39m\n",
      "\u001b[32m  ✓ \u001b[39m\u001b[90mMLJIteration\u001b[39m\n",
      "\u001b[32m  ✓ \u001b[39mDataFrames\n",
      "\u001b[32m  ✓ \u001b[39mShapML\n",
      "\u001b[32m  ✓ \u001b[39m\u001b[90mMLJModels\u001b[39m\n",
      "\u001b[32m  ✓ \u001b[39m\u001b[90mScikitLearn\u001b[39m\n",
      "\u001b[32m  ✓ \u001b[39mMLJ\n",
      "\u001b[32m  ✓ \u001b[39mMLJScikitLearnInterface\n",
      "\u001b[32m  ✓ \u001b[39m\u001b[90mCUDA\u001b[39m\n",
      "\u001b[32m  ✓ \u001b[39mPlots\n",
      "\u001b[32m  ✓ \u001b[39m\u001b[90mNNlibCUDA\u001b[39m\n",
      "\u001b[32m  ✓ \u001b[39mEvoTrees\n",
      "\u001b[32m  ✓ \u001b[39m\u001b[90mFlux\u001b[39m\n",
      "\u001b[32m  ✓ \u001b[39mMLJFlux\n",
      "  65 dependencies successfully precompiled in 76 seconds (177 already precompiled)\n"
     ]
    }
   ],
   "source": [
    "using Pkg \n",
    "Pkg.add(\"ShapML\")\n",
    "Pkg.add(\"RDatasets\")"
   ]
  },
  {
   "cell_type": "markdown",
   "metadata": {},
   "source": [
    "# Example 1: Non-parallel Random Forest"
   ]
  },
  {
   "cell_type": "code",
   "execution_count": 5,
   "metadata": {},
   "outputs": [],
   "source": [
    "using ShapML\n",
    "using RDatasets\n",
    "using DataFrames \n",
    "using MLJ\n",
    "using Plots"
   ]
  },
  {
   "cell_type": "code",
   "execution_count": 17,
   "metadata": {},
   "outputs": [
    {
     "data": {
      "text/html": [
       "<div class=\"data-frame\"><p>506 rows × 14 columns (omitted printing of 4 columns)</p><table class=\"data-frame\"><thead><tr><th></th><th>Crim</th><th>Zn</th><th>Indus</th><th>Chas</th><th>NOx</th><th>Rm</th><th>Age</th><th>Dis</th><th>Rad</th><th>Tax</th></tr><tr><th></th><th title=\"Float64\">Float64</th><th title=\"Float64\">Float64</th><th title=\"Float64\">Float64</th><th title=\"Int64\">Int64</th><th title=\"Float64\">Float64</th><th title=\"Float64\">Float64</th><th title=\"Float64\">Float64</th><th title=\"Float64\">Float64</th><th title=\"Int64\">Int64</th><th title=\"Int64\">Int64</th></tr></thead><tbody><tr><th>1</th><td>0.00632</td><td>18.0</td><td>2.31</td><td>0</td><td>0.538</td><td>6.575</td><td>65.2</td><td>4.09</td><td>1</td><td>296</td></tr><tr><th>2</th><td>0.02731</td><td>0.0</td><td>7.07</td><td>0</td><td>0.469</td><td>6.421</td><td>78.9</td><td>4.9671</td><td>2</td><td>242</td></tr><tr><th>3</th><td>0.02729</td><td>0.0</td><td>7.07</td><td>0</td><td>0.469</td><td>7.185</td><td>61.1</td><td>4.9671</td><td>2</td><td>242</td></tr><tr><th>4</th><td>0.03237</td><td>0.0</td><td>2.18</td><td>0</td><td>0.458</td><td>6.998</td><td>45.8</td><td>6.0622</td><td>3</td><td>222</td></tr><tr><th>5</th><td>0.06905</td><td>0.0</td><td>2.18</td><td>0</td><td>0.458</td><td>7.147</td><td>54.2</td><td>6.0622</td><td>3</td><td>222</td></tr><tr><th>6</th><td>0.02985</td><td>0.0</td><td>2.18</td><td>0</td><td>0.458</td><td>6.43</td><td>58.7</td><td>6.0622</td><td>3</td><td>222</td></tr><tr><th>7</th><td>0.08829</td><td>12.5</td><td>7.87</td><td>0</td><td>0.524</td><td>6.012</td><td>66.6</td><td>5.5605</td><td>5</td><td>311</td></tr><tr><th>8</th><td>0.14455</td><td>12.5</td><td>7.87</td><td>0</td><td>0.524</td><td>6.172</td><td>96.1</td><td>5.9505</td><td>5</td><td>311</td></tr><tr><th>9</th><td>0.21124</td><td>12.5</td><td>7.87</td><td>0</td><td>0.524</td><td>5.631</td><td>100.0</td><td>6.0821</td><td>5</td><td>311</td></tr><tr><th>10</th><td>0.17004</td><td>12.5</td><td>7.87</td><td>0</td><td>0.524</td><td>6.004</td><td>85.9</td><td>6.5921</td><td>5</td><td>311</td></tr><tr><th>11</th><td>0.22489</td><td>12.5</td><td>7.87</td><td>0</td><td>0.524</td><td>6.377</td><td>94.3</td><td>6.3467</td><td>5</td><td>311</td></tr><tr><th>12</th><td>0.11747</td><td>12.5</td><td>7.87</td><td>0</td><td>0.524</td><td>6.009</td><td>82.9</td><td>6.2267</td><td>5</td><td>311</td></tr><tr><th>13</th><td>0.09378</td><td>12.5</td><td>7.87</td><td>0</td><td>0.524</td><td>5.889</td><td>39.0</td><td>5.4509</td><td>5</td><td>311</td></tr><tr><th>14</th><td>0.62976</td><td>0.0</td><td>8.14</td><td>0</td><td>0.538</td><td>5.949</td><td>61.8</td><td>4.7075</td><td>4</td><td>307</td></tr><tr><th>15</th><td>0.63796</td><td>0.0</td><td>8.14</td><td>0</td><td>0.538</td><td>6.096</td><td>84.5</td><td>4.4619</td><td>4</td><td>307</td></tr><tr><th>16</th><td>0.62739</td><td>0.0</td><td>8.14</td><td>0</td><td>0.538</td><td>5.834</td><td>56.5</td><td>4.4986</td><td>4</td><td>307</td></tr><tr><th>17</th><td>1.05393</td><td>0.0</td><td>8.14</td><td>0</td><td>0.538</td><td>5.935</td><td>29.3</td><td>4.4986</td><td>4</td><td>307</td></tr><tr><th>18</th><td>0.7842</td><td>0.0</td><td>8.14</td><td>0</td><td>0.538</td><td>5.99</td><td>81.7</td><td>4.2579</td><td>4</td><td>307</td></tr><tr><th>19</th><td>0.80271</td><td>0.0</td><td>8.14</td><td>0</td><td>0.538</td><td>5.456</td><td>36.6</td><td>3.7965</td><td>4</td><td>307</td></tr><tr><th>20</th><td>0.7258</td><td>0.0</td><td>8.14</td><td>0</td><td>0.538</td><td>5.727</td><td>69.5</td><td>3.7965</td><td>4</td><td>307</td></tr><tr><th>21</th><td>1.25179</td><td>0.0</td><td>8.14</td><td>0</td><td>0.538</td><td>5.57</td><td>98.1</td><td>3.7979</td><td>4</td><td>307</td></tr><tr><th>22</th><td>0.85204</td><td>0.0</td><td>8.14</td><td>0</td><td>0.538</td><td>5.965</td><td>89.2</td><td>4.0123</td><td>4</td><td>307</td></tr><tr><th>23</th><td>1.23247</td><td>0.0</td><td>8.14</td><td>0</td><td>0.538</td><td>6.142</td><td>91.7</td><td>3.9769</td><td>4</td><td>307</td></tr><tr><th>24</th><td>0.98843</td><td>0.0</td><td>8.14</td><td>0</td><td>0.538</td><td>5.813</td><td>100.0</td><td>4.0952</td><td>4</td><td>307</td></tr><tr><th>25</th><td>0.75026</td><td>0.0</td><td>8.14</td><td>0</td><td>0.538</td><td>5.924</td><td>94.1</td><td>4.3996</td><td>4</td><td>307</td></tr><tr><th>26</th><td>0.84054</td><td>0.0</td><td>8.14</td><td>0</td><td>0.538</td><td>5.599</td><td>85.7</td><td>4.4546</td><td>4</td><td>307</td></tr><tr><th>27</th><td>0.67191</td><td>0.0</td><td>8.14</td><td>0</td><td>0.538</td><td>5.813</td><td>90.3</td><td>4.682</td><td>4</td><td>307</td></tr><tr><th>28</th><td>0.95577</td><td>0.0</td><td>8.14</td><td>0</td><td>0.538</td><td>6.047</td><td>88.8</td><td>4.4534</td><td>4</td><td>307</td></tr><tr><th>29</th><td>0.77299</td><td>0.0</td><td>8.14</td><td>0</td><td>0.538</td><td>6.495</td><td>94.4</td><td>4.4547</td><td>4</td><td>307</td></tr><tr><th>30</th><td>1.00245</td><td>0.0</td><td>8.14</td><td>0</td><td>0.538</td><td>6.674</td><td>87.3</td><td>4.239</td><td>4</td><td>307</td></tr><tr><th>&vellip;</th><td>&vellip;</td><td>&vellip;</td><td>&vellip;</td><td>&vellip;</td><td>&vellip;</td><td>&vellip;</td><td>&vellip;</td><td>&vellip;</td><td>&vellip;</td><td>&vellip;</td></tr></tbody></table></div>"
      ],
      "text/latex": [
       "\\begin{tabular}{r|ccccccccccc}\n",
       "\t& Crim & Zn & Indus & Chas & NOx & Rm & Age & Dis & Rad & Tax & \\\\\n",
       "\t\\hline\n",
       "\t& Float64 & Float64 & Float64 & Int64 & Float64 & Float64 & Float64 & Float64 & Int64 & Int64 & \\\\\n",
       "\t\\hline\n",
       "\t1 & 0.00632 & 18.0 & 2.31 & 0 & 0.538 & 6.575 & 65.2 & 4.09 & 1 & 296 & $\\dots$ \\\\\n",
       "\t2 & 0.02731 & 0.0 & 7.07 & 0 & 0.469 & 6.421 & 78.9 & 4.9671 & 2 & 242 & $\\dots$ \\\\\n",
       "\t3 & 0.02729 & 0.0 & 7.07 & 0 & 0.469 & 7.185 & 61.1 & 4.9671 & 2 & 242 & $\\dots$ \\\\\n",
       "\t4 & 0.03237 & 0.0 & 2.18 & 0 & 0.458 & 6.998 & 45.8 & 6.0622 & 3 & 222 & $\\dots$ \\\\\n",
       "\t5 & 0.06905 & 0.0 & 2.18 & 0 & 0.458 & 7.147 & 54.2 & 6.0622 & 3 & 222 & $\\dots$ \\\\\n",
       "\t6 & 0.02985 & 0.0 & 2.18 & 0 & 0.458 & 6.43 & 58.7 & 6.0622 & 3 & 222 & $\\dots$ \\\\\n",
       "\t7 & 0.08829 & 12.5 & 7.87 & 0 & 0.524 & 6.012 & 66.6 & 5.5605 & 5 & 311 & $\\dots$ \\\\\n",
       "\t8 & 0.14455 & 12.5 & 7.87 & 0 & 0.524 & 6.172 & 96.1 & 5.9505 & 5 & 311 & $\\dots$ \\\\\n",
       "\t9 & 0.21124 & 12.5 & 7.87 & 0 & 0.524 & 5.631 & 100.0 & 6.0821 & 5 & 311 & $\\dots$ \\\\\n",
       "\t10 & 0.17004 & 12.5 & 7.87 & 0 & 0.524 & 6.004 & 85.9 & 6.5921 & 5 & 311 & $\\dots$ \\\\\n",
       "\t11 & 0.22489 & 12.5 & 7.87 & 0 & 0.524 & 6.377 & 94.3 & 6.3467 & 5 & 311 & $\\dots$ \\\\\n",
       "\t12 & 0.11747 & 12.5 & 7.87 & 0 & 0.524 & 6.009 & 82.9 & 6.2267 & 5 & 311 & $\\dots$ \\\\\n",
       "\t13 & 0.09378 & 12.5 & 7.87 & 0 & 0.524 & 5.889 & 39.0 & 5.4509 & 5 & 311 & $\\dots$ \\\\\n",
       "\t14 & 0.62976 & 0.0 & 8.14 & 0 & 0.538 & 5.949 & 61.8 & 4.7075 & 4 & 307 & $\\dots$ \\\\\n",
       "\t15 & 0.63796 & 0.0 & 8.14 & 0 & 0.538 & 6.096 & 84.5 & 4.4619 & 4 & 307 & $\\dots$ \\\\\n",
       "\t16 & 0.62739 & 0.0 & 8.14 & 0 & 0.538 & 5.834 & 56.5 & 4.4986 & 4 & 307 & $\\dots$ \\\\\n",
       "\t17 & 1.05393 & 0.0 & 8.14 & 0 & 0.538 & 5.935 & 29.3 & 4.4986 & 4 & 307 & $\\dots$ \\\\\n",
       "\t18 & 0.7842 & 0.0 & 8.14 & 0 & 0.538 & 5.99 & 81.7 & 4.2579 & 4 & 307 & $\\dots$ \\\\\n",
       "\t19 & 0.80271 & 0.0 & 8.14 & 0 & 0.538 & 5.456 & 36.6 & 3.7965 & 4 & 307 & $\\dots$ \\\\\n",
       "\t20 & 0.7258 & 0.0 & 8.14 & 0 & 0.538 & 5.727 & 69.5 & 3.7965 & 4 & 307 & $\\dots$ \\\\\n",
       "\t21 & 1.25179 & 0.0 & 8.14 & 0 & 0.538 & 5.57 & 98.1 & 3.7979 & 4 & 307 & $\\dots$ \\\\\n",
       "\t22 & 0.85204 & 0.0 & 8.14 & 0 & 0.538 & 5.965 & 89.2 & 4.0123 & 4 & 307 & $\\dots$ \\\\\n",
       "\t23 & 1.23247 & 0.0 & 8.14 & 0 & 0.538 & 6.142 & 91.7 & 3.9769 & 4 & 307 & $\\dots$ \\\\\n",
       "\t24 & 0.98843 & 0.0 & 8.14 & 0 & 0.538 & 5.813 & 100.0 & 4.0952 & 4 & 307 & $\\dots$ \\\\\n",
       "\t25 & 0.75026 & 0.0 & 8.14 & 0 & 0.538 & 5.924 & 94.1 & 4.3996 & 4 & 307 & $\\dots$ \\\\\n",
       "\t26 & 0.84054 & 0.0 & 8.14 & 0 & 0.538 & 5.599 & 85.7 & 4.4546 & 4 & 307 & $\\dots$ \\\\\n",
       "\t27 & 0.67191 & 0.0 & 8.14 & 0 & 0.538 & 5.813 & 90.3 & 4.682 & 4 & 307 & $\\dots$ \\\\\n",
       "\t28 & 0.95577 & 0.0 & 8.14 & 0 & 0.538 & 6.047 & 88.8 & 4.4534 & 4 & 307 & $\\dots$ \\\\\n",
       "\t29 & 0.77299 & 0.0 & 8.14 & 0 & 0.538 & 6.495 & 94.4 & 4.4547 & 4 & 307 & $\\dots$ \\\\\n",
       "\t30 & 1.00245 & 0.0 & 8.14 & 0 & 0.538 & 6.674 & 87.3 & 4.239 & 4 & 307 & $\\dots$ \\\\\n",
       "\t$\\dots$ & $\\dots$ & $\\dots$ & $\\dots$ & $\\dots$ & $\\dots$ & $\\dots$ & $\\dots$ & $\\dots$ & $\\dots$ & $\\dots$ &  \\\\\n",
       "\\end{tabular}\n"
      ],
      "text/plain": [
       "\u001b[1m506×14 DataFrame\u001b[0m\n",
       "\u001b[1m Row \u001b[0m│\u001b[1m Crim    \u001b[0m\u001b[1m Zn      \u001b[0m\u001b[1m Indus   \u001b[0m\u001b[1m Chas  \u001b[0m\u001b[1m NOx     \u001b[0m\u001b[1m Rm      \u001b[0m\u001b[1m Age     \u001b[0m\u001b[1m Dis     \u001b[0m\u001b[1m R\u001b[0m ⋯\n",
       "\u001b[1m     \u001b[0m│\u001b[90m Float64 \u001b[0m\u001b[90m Float64 \u001b[0m\u001b[90m Float64 \u001b[0m\u001b[90m Int64 \u001b[0m\u001b[90m Float64 \u001b[0m\u001b[90m Float64 \u001b[0m\u001b[90m Float64 \u001b[0m\u001b[90m Float64 \u001b[0m\u001b[90m I\u001b[0m ⋯\n",
       "─────┼──────────────────────────────────────────────────────────────────────────\n",
       "   1 │ 0.00632     18.0     2.31      0    0.538    6.575     65.2   4.09      ⋯\n",
       "   2 │ 0.02731      0.0     7.07      0    0.469    6.421     78.9   4.9671\n",
       "   3 │ 0.02729      0.0     7.07      0    0.469    7.185     61.1   4.9671\n",
       "   4 │ 0.03237      0.0     2.18      0    0.458    6.998     45.8   6.0622\n",
       "   5 │ 0.06905      0.0     2.18      0    0.458    7.147     54.2   6.0622    ⋯\n",
       "   6 │ 0.02985      0.0     2.18      0    0.458    6.43      58.7   6.0622\n",
       "   7 │ 0.08829     12.5     7.87      0    0.524    6.012     66.6   5.5605\n",
       "   8 │ 0.14455     12.5     7.87      0    0.524    6.172     96.1   5.9505\n",
       "   9 │ 0.21124     12.5     7.87      0    0.524    5.631    100.0   6.0821    ⋯\n",
       "  10 │ 0.17004     12.5     7.87      0    0.524    6.004     85.9   6.5921\n",
       "  11 │ 0.22489     12.5     7.87      0    0.524    6.377     94.3   6.3467\n",
       "  ⋮  │    ⋮        ⋮        ⋮       ⋮       ⋮        ⋮        ⋮        ⋮       ⋱\n",
       " 497 │ 0.2896       0.0     9.69      0    0.585    5.39      72.9   2.7986\n",
       " 498 │ 0.26838      0.0     9.69      0    0.585    5.794     70.6   2.8927    ⋯\n",
       " 499 │ 0.23912      0.0     9.69      0    0.585    6.019     65.3   2.4091\n",
       " 500 │ 0.17783      0.0     9.69      0    0.585    5.569     73.5   2.3999\n",
       " 501 │ 0.22438      0.0     9.69      0    0.585    6.027     79.7   2.4982\n",
       " 502 │ 0.06263      0.0    11.93      0    0.573    6.593     69.1   2.4786    ⋯\n",
       " 503 │ 0.04527      0.0    11.93      0    0.573    6.12      76.7   2.2875\n",
       " 504 │ 0.06076      0.0    11.93      0    0.573    6.976     91.0   2.1675\n",
       " 505 │ 0.10959      0.0    11.93      0    0.573    6.794     89.3   2.3889\n",
       " 506 │ 0.04741      0.0    11.93      0    0.573    6.03      80.8   2.505     ⋯\n",
       "\u001b[36m                                                  6 columns and 485 rows omitted\u001b[0m"
      ]
     },
     "execution_count": 17,
     "metadata": {},
     "output_type": "execute_result"
    }
   ],
   "source": [
    "boston = RDatasets.dataset(\"MASS\", \"Boston\")"
   ]
  },
  {
   "cell_type": "code",
   "execution_count": 18,
   "metadata": {},
   "outputs": [
    {
     "data": {
      "text/plain": [
       "([24.0, 21.6, 34.7, 33.4, 36.2, 28.7, 22.9, 27.1, 16.5, 18.9  …  19.7, 18.3, 21.2, 17.5, 16.8, 22.4, 20.6, 23.9, 22.0, 11.9], \u001b[1m506×13 DataFrame\u001b[0m\n",
       "\u001b[1m Row \u001b[0m│\u001b[1m Crim    \u001b[0m\u001b[1m Zn      \u001b[0m\u001b[1m Indus   \u001b[0m\u001b[1m Chas  \u001b[0m\u001b[1m NOx     \u001b[0m\u001b[1m Rm      \u001b[0m\u001b[1m Age     \u001b[0m\u001b[1m Dis     \u001b[0m\u001b[1m R\u001b[0m ⋯\n",
       "\u001b[1m     \u001b[0m│\u001b[90m Float64 \u001b[0m\u001b[90m Float64 \u001b[0m\u001b[90m Float64 \u001b[0m\u001b[90m Int64 \u001b[0m\u001b[90m Float64 \u001b[0m\u001b[90m Float64 \u001b[0m\u001b[90m Float64 \u001b[0m\u001b[90m Float64 \u001b[0m\u001b[90m I\u001b[0m ⋯\n",
       "─────┼──────────────────────────────────────────────────────────────────────────\n",
       "   1 │ 0.00632     18.0     2.31      0    0.538    6.575     65.2   4.09      ⋯\n",
       "   2 │ 0.02731      0.0     7.07      0    0.469    6.421     78.9   4.9671\n",
       "   3 │ 0.02729      0.0     7.07      0    0.469    7.185     61.1   4.9671\n",
       "   4 │ 0.03237      0.0     2.18      0    0.458    6.998     45.8   6.0622\n",
       "   5 │ 0.06905      0.0     2.18      0    0.458    7.147     54.2   6.0622    ⋯\n",
       "   6 │ 0.02985      0.0     2.18      0    0.458    6.43      58.7   6.0622\n",
       "   7 │ 0.08829     12.5     7.87      0    0.524    6.012     66.6   5.5605\n",
       "   8 │ 0.14455     12.5     7.87      0    0.524    6.172     96.1   5.9505\n",
       "   9 │ 0.21124     12.5     7.87      0    0.524    5.631    100.0   6.0821    ⋯\n",
       "  10 │ 0.17004     12.5     7.87      0    0.524    6.004     85.9   6.5921\n",
       "  11 │ 0.22489     12.5     7.87      0    0.524    6.377     94.3   6.3467\n",
       "  ⋮  │    ⋮        ⋮        ⋮       ⋮       ⋮        ⋮        ⋮        ⋮       ⋱\n",
       " 497 │ 0.2896       0.0     9.69      0    0.585    5.39      72.9   2.7986\n",
       " 498 │ 0.26838      0.0     9.69      0    0.585    5.794     70.6   2.8927    ⋯\n",
       " 499 │ 0.23912      0.0     9.69      0    0.585    6.019     65.3   2.4091\n",
       " 500 │ 0.17783      0.0     9.69      0    0.585    5.569     73.5   2.3999\n",
       " 501 │ 0.22438      0.0     9.69      0    0.585    6.027     79.7   2.4982\n",
       " 502 │ 0.06263      0.0    11.93      0    0.573    6.593     69.1   2.4786    ⋯\n",
       " 503 │ 0.04527      0.0    11.93      0    0.573    6.12      76.7   2.2875\n",
       " 504 │ 0.06076      0.0    11.93      0    0.573    6.976     91.0   2.1675\n",
       " 505 │ 0.10959      0.0    11.93      0    0.573    6.794     89.3   2.3889\n",
       " 506 │ 0.04741      0.0    11.93      0    0.573    6.03      80.8   2.505     ⋯\n",
       "\u001b[36m                                                  5 columns and 485 rows omitted\u001b[0m)"
      ]
     },
     "execution_count": 18,
     "metadata": {},
     "output_type": "execute_result"
    }
   ],
   "source": [
    "outcome_name = \"MedV\"\n",
    "\n",
    "y, X = MLJ.unpack(boston, ==(Symbol(outcome_name)), colname -> true)"
   ]
  },
  {
   "cell_type": "markdown",
   "metadata": {},
   "source": [
    "Let's make a random forest "
   ]
  },
  {
   "cell_type": "code",
   "execution_count": 19,
   "metadata": {},
   "outputs": [
    {
     "name": "stdout",
     "output_type": "stream",
     "text": [
      "import MLJDecisionTreeInterface ✔\n"
     ]
    },
    {
     "name": "stderr",
     "output_type": "stream",
     "text": [
      "┌ Info: For silent loading, specify `verbosity=0`. \n",
      "└ @ Main /home/john/.julia/packages/MLJModels/GKDnU/src/loading.jl:168\n"
     ]
    },
    {
     "data": {
      "text/plain": [
       "MLJDecisionTreeInterface.RandomForestRegressor"
      ]
     },
     "execution_count": 19,
     "metadata": {},
     "output_type": "execute_result"
    }
   ],
   "source": [
    "random_forest = @load RandomForestRegressor pkg = \"DecisionTree\""
   ]
  },
  {
   "cell_type": "code",
   "execution_count": 20,
   "metadata": {},
   "outputs": [
    {
     "data": {
      "text/plain": [
       "Machine{RandomForestRegressor,…} trained 0 times; caches data\n",
       "  args: \n",
       "    1:\tSource @274 ⏎ `Table{Union{AbstractVector{Continuous}, AbstractVector{Count}}}`\n",
       "    2:\tSource @009 ⏎ `AbstractVector{Continuous}`\n"
      ]
     },
     "execution_count": 20,
     "metadata": {},
     "output_type": "execute_result"
    }
   ],
   "source": [
    "model = machine(random_forest(), X, y)"
   ]
  },
  {
   "cell_type": "code",
   "execution_count": 21,
   "metadata": {},
   "outputs": [
    {
     "name": "stderr",
     "output_type": "stream",
     "text": [
      "┌ Info: Training Machine{RandomForestRegressor,…}.\n",
      "└ @ MLJBase /home/john/.julia/packages/MLJBase/QXObv/src/machines.jl:403\n"
     ]
    },
    {
     "data": {
      "text/plain": [
       "Machine{RandomForestRegressor,…} trained 1 time; caches data\n",
       "  args: \n",
       "    1:\tSource @274 ⏎ `Table{Union{AbstractVector{Continuous}, AbstractVector{Count}}}`\n",
       "    2:\tSource @009 ⏎ `AbstractVector{Continuous}`\n"
      ]
     },
     "execution_count": 21,
     "metadata": {},
     "output_type": "execute_result"
    }
   ],
   "source": [
    "fit!(model)"
   ]
  },
  {
   "cell_type": "markdown",
   "metadata": {},
   "source": [
    "now we create a wrapper function to perform predictions and return dataframes "
   ]
  },
  {
   "cell_type": "code",
   "execution_count": 22,
   "metadata": {},
   "outputs": [
    {
     "data": {
      "text/plain": [
       "predict_function (generic function with 1 method)"
      ]
     },
     "execution_count": 22,
     "metadata": {},
     "output_type": "execute_result"
    }
   ],
   "source": [
    "function predict_function(model, data)\n",
    "    data_pred = DataFrame(y_pred = predict(model, data))\n",
    "    return data_pred\n",
    "end"
   ]
  },
  {
   "cell_type": "code",
   "execution_count": 23,
   "metadata": {},
   "outputs": [
    {
     "data": {
      "text/html": [
       "<div class=\"data-frame\"><p>506 rows × 13 columns (omitted printing of 3 columns)</p><table class=\"data-frame\"><thead><tr><th></th><th>Crim</th><th>Zn</th><th>Indus</th><th>Chas</th><th>NOx</th><th>Rm</th><th>Age</th><th>Dis</th><th>Rad</th><th>Tax</th></tr><tr><th></th><th title=\"Float64\">Float64</th><th title=\"Float64\">Float64</th><th title=\"Float64\">Float64</th><th title=\"Int64\">Int64</th><th title=\"Float64\">Float64</th><th title=\"Float64\">Float64</th><th title=\"Float64\">Float64</th><th title=\"Float64\">Float64</th><th title=\"Int64\">Int64</th><th title=\"Int64\">Int64</th></tr></thead><tbody><tr><th>1</th><td>0.00632</td><td>18.0</td><td>2.31</td><td>0</td><td>0.538</td><td>6.575</td><td>65.2</td><td>4.09</td><td>1</td><td>296</td></tr><tr><th>2</th><td>0.02731</td><td>0.0</td><td>7.07</td><td>0</td><td>0.469</td><td>6.421</td><td>78.9</td><td>4.9671</td><td>2</td><td>242</td></tr><tr><th>3</th><td>0.02729</td><td>0.0</td><td>7.07</td><td>0</td><td>0.469</td><td>7.185</td><td>61.1</td><td>4.9671</td><td>2</td><td>242</td></tr><tr><th>4</th><td>0.03237</td><td>0.0</td><td>2.18</td><td>0</td><td>0.458</td><td>6.998</td><td>45.8</td><td>6.0622</td><td>3</td><td>222</td></tr><tr><th>5</th><td>0.06905</td><td>0.0</td><td>2.18</td><td>0</td><td>0.458</td><td>7.147</td><td>54.2</td><td>6.0622</td><td>3</td><td>222</td></tr><tr><th>6</th><td>0.02985</td><td>0.0</td><td>2.18</td><td>0</td><td>0.458</td><td>6.43</td><td>58.7</td><td>6.0622</td><td>3</td><td>222</td></tr><tr><th>7</th><td>0.08829</td><td>12.5</td><td>7.87</td><td>0</td><td>0.524</td><td>6.012</td><td>66.6</td><td>5.5605</td><td>5</td><td>311</td></tr><tr><th>8</th><td>0.14455</td><td>12.5</td><td>7.87</td><td>0</td><td>0.524</td><td>6.172</td><td>96.1</td><td>5.9505</td><td>5</td><td>311</td></tr><tr><th>9</th><td>0.21124</td><td>12.5</td><td>7.87</td><td>0</td><td>0.524</td><td>5.631</td><td>100.0</td><td>6.0821</td><td>5</td><td>311</td></tr><tr><th>10</th><td>0.17004</td><td>12.5</td><td>7.87</td><td>0</td><td>0.524</td><td>6.004</td><td>85.9</td><td>6.5921</td><td>5</td><td>311</td></tr><tr><th>11</th><td>0.22489</td><td>12.5</td><td>7.87</td><td>0</td><td>0.524</td><td>6.377</td><td>94.3</td><td>6.3467</td><td>5</td><td>311</td></tr><tr><th>12</th><td>0.11747</td><td>12.5</td><td>7.87</td><td>0</td><td>0.524</td><td>6.009</td><td>82.9</td><td>6.2267</td><td>5</td><td>311</td></tr><tr><th>13</th><td>0.09378</td><td>12.5</td><td>7.87</td><td>0</td><td>0.524</td><td>5.889</td><td>39.0</td><td>5.4509</td><td>5</td><td>311</td></tr><tr><th>14</th><td>0.62976</td><td>0.0</td><td>8.14</td><td>0</td><td>0.538</td><td>5.949</td><td>61.8</td><td>4.7075</td><td>4</td><td>307</td></tr><tr><th>15</th><td>0.63796</td><td>0.0</td><td>8.14</td><td>0</td><td>0.538</td><td>6.096</td><td>84.5</td><td>4.4619</td><td>4</td><td>307</td></tr><tr><th>16</th><td>0.62739</td><td>0.0</td><td>8.14</td><td>0</td><td>0.538</td><td>5.834</td><td>56.5</td><td>4.4986</td><td>4</td><td>307</td></tr><tr><th>17</th><td>1.05393</td><td>0.0</td><td>8.14</td><td>0</td><td>0.538</td><td>5.935</td><td>29.3</td><td>4.4986</td><td>4</td><td>307</td></tr><tr><th>18</th><td>0.7842</td><td>0.0</td><td>8.14</td><td>0</td><td>0.538</td><td>5.99</td><td>81.7</td><td>4.2579</td><td>4</td><td>307</td></tr><tr><th>19</th><td>0.80271</td><td>0.0</td><td>8.14</td><td>0</td><td>0.538</td><td>5.456</td><td>36.6</td><td>3.7965</td><td>4</td><td>307</td></tr><tr><th>20</th><td>0.7258</td><td>0.0</td><td>8.14</td><td>0</td><td>0.538</td><td>5.727</td><td>69.5</td><td>3.7965</td><td>4</td><td>307</td></tr><tr><th>21</th><td>1.25179</td><td>0.0</td><td>8.14</td><td>0</td><td>0.538</td><td>5.57</td><td>98.1</td><td>3.7979</td><td>4</td><td>307</td></tr><tr><th>22</th><td>0.85204</td><td>0.0</td><td>8.14</td><td>0</td><td>0.538</td><td>5.965</td><td>89.2</td><td>4.0123</td><td>4</td><td>307</td></tr><tr><th>23</th><td>1.23247</td><td>0.0</td><td>8.14</td><td>0</td><td>0.538</td><td>6.142</td><td>91.7</td><td>3.9769</td><td>4</td><td>307</td></tr><tr><th>24</th><td>0.98843</td><td>0.0</td><td>8.14</td><td>0</td><td>0.538</td><td>5.813</td><td>100.0</td><td>4.0952</td><td>4</td><td>307</td></tr><tr><th>25</th><td>0.75026</td><td>0.0</td><td>8.14</td><td>0</td><td>0.538</td><td>5.924</td><td>94.1</td><td>4.3996</td><td>4</td><td>307</td></tr><tr><th>26</th><td>0.84054</td><td>0.0</td><td>8.14</td><td>0</td><td>0.538</td><td>5.599</td><td>85.7</td><td>4.4546</td><td>4</td><td>307</td></tr><tr><th>27</th><td>0.67191</td><td>0.0</td><td>8.14</td><td>0</td><td>0.538</td><td>5.813</td><td>90.3</td><td>4.682</td><td>4</td><td>307</td></tr><tr><th>28</th><td>0.95577</td><td>0.0</td><td>8.14</td><td>0</td><td>0.538</td><td>6.047</td><td>88.8</td><td>4.4534</td><td>4</td><td>307</td></tr><tr><th>29</th><td>0.77299</td><td>0.0</td><td>8.14</td><td>0</td><td>0.538</td><td>6.495</td><td>94.4</td><td>4.4547</td><td>4</td><td>307</td></tr><tr><th>30</th><td>1.00245</td><td>0.0</td><td>8.14</td><td>0</td><td>0.538</td><td>6.674</td><td>87.3</td><td>4.239</td><td>4</td><td>307</td></tr><tr><th>&vellip;</th><td>&vellip;</td><td>&vellip;</td><td>&vellip;</td><td>&vellip;</td><td>&vellip;</td><td>&vellip;</td><td>&vellip;</td><td>&vellip;</td><td>&vellip;</td><td>&vellip;</td></tr></tbody></table></div>"
      ],
      "text/latex": [
       "\\begin{tabular}{r|ccccccccccc}\n",
       "\t& Crim & Zn & Indus & Chas & NOx & Rm & Age & Dis & Rad & Tax & \\\\\n",
       "\t\\hline\n",
       "\t& Float64 & Float64 & Float64 & Int64 & Float64 & Float64 & Float64 & Float64 & Int64 & Int64 & \\\\\n",
       "\t\\hline\n",
       "\t1 & 0.00632 & 18.0 & 2.31 & 0 & 0.538 & 6.575 & 65.2 & 4.09 & 1 & 296 & $\\dots$ \\\\\n",
       "\t2 & 0.02731 & 0.0 & 7.07 & 0 & 0.469 & 6.421 & 78.9 & 4.9671 & 2 & 242 & $\\dots$ \\\\\n",
       "\t3 & 0.02729 & 0.0 & 7.07 & 0 & 0.469 & 7.185 & 61.1 & 4.9671 & 2 & 242 & $\\dots$ \\\\\n",
       "\t4 & 0.03237 & 0.0 & 2.18 & 0 & 0.458 & 6.998 & 45.8 & 6.0622 & 3 & 222 & $\\dots$ \\\\\n",
       "\t5 & 0.06905 & 0.0 & 2.18 & 0 & 0.458 & 7.147 & 54.2 & 6.0622 & 3 & 222 & $\\dots$ \\\\\n",
       "\t6 & 0.02985 & 0.0 & 2.18 & 0 & 0.458 & 6.43 & 58.7 & 6.0622 & 3 & 222 & $\\dots$ \\\\\n",
       "\t7 & 0.08829 & 12.5 & 7.87 & 0 & 0.524 & 6.012 & 66.6 & 5.5605 & 5 & 311 & $\\dots$ \\\\\n",
       "\t8 & 0.14455 & 12.5 & 7.87 & 0 & 0.524 & 6.172 & 96.1 & 5.9505 & 5 & 311 & $\\dots$ \\\\\n",
       "\t9 & 0.21124 & 12.5 & 7.87 & 0 & 0.524 & 5.631 & 100.0 & 6.0821 & 5 & 311 & $\\dots$ \\\\\n",
       "\t10 & 0.17004 & 12.5 & 7.87 & 0 & 0.524 & 6.004 & 85.9 & 6.5921 & 5 & 311 & $\\dots$ \\\\\n",
       "\t11 & 0.22489 & 12.5 & 7.87 & 0 & 0.524 & 6.377 & 94.3 & 6.3467 & 5 & 311 & $\\dots$ \\\\\n",
       "\t12 & 0.11747 & 12.5 & 7.87 & 0 & 0.524 & 6.009 & 82.9 & 6.2267 & 5 & 311 & $\\dots$ \\\\\n",
       "\t13 & 0.09378 & 12.5 & 7.87 & 0 & 0.524 & 5.889 & 39.0 & 5.4509 & 5 & 311 & $\\dots$ \\\\\n",
       "\t14 & 0.62976 & 0.0 & 8.14 & 0 & 0.538 & 5.949 & 61.8 & 4.7075 & 4 & 307 & $\\dots$ \\\\\n",
       "\t15 & 0.63796 & 0.0 & 8.14 & 0 & 0.538 & 6.096 & 84.5 & 4.4619 & 4 & 307 & $\\dots$ \\\\\n",
       "\t16 & 0.62739 & 0.0 & 8.14 & 0 & 0.538 & 5.834 & 56.5 & 4.4986 & 4 & 307 & $\\dots$ \\\\\n",
       "\t17 & 1.05393 & 0.0 & 8.14 & 0 & 0.538 & 5.935 & 29.3 & 4.4986 & 4 & 307 & $\\dots$ \\\\\n",
       "\t18 & 0.7842 & 0.0 & 8.14 & 0 & 0.538 & 5.99 & 81.7 & 4.2579 & 4 & 307 & $\\dots$ \\\\\n",
       "\t19 & 0.80271 & 0.0 & 8.14 & 0 & 0.538 & 5.456 & 36.6 & 3.7965 & 4 & 307 & $\\dots$ \\\\\n",
       "\t20 & 0.7258 & 0.0 & 8.14 & 0 & 0.538 & 5.727 & 69.5 & 3.7965 & 4 & 307 & $\\dots$ \\\\\n",
       "\t21 & 1.25179 & 0.0 & 8.14 & 0 & 0.538 & 5.57 & 98.1 & 3.7979 & 4 & 307 & $\\dots$ \\\\\n",
       "\t22 & 0.85204 & 0.0 & 8.14 & 0 & 0.538 & 5.965 & 89.2 & 4.0123 & 4 & 307 & $\\dots$ \\\\\n",
       "\t23 & 1.23247 & 0.0 & 8.14 & 0 & 0.538 & 6.142 & 91.7 & 3.9769 & 4 & 307 & $\\dots$ \\\\\n",
       "\t24 & 0.98843 & 0.0 & 8.14 & 0 & 0.538 & 5.813 & 100.0 & 4.0952 & 4 & 307 & $\\dots$ \\\\\n",
       "\t25 & 0.75026 & 0.0 & 8.14 & 0 & 0.538 & 5.924 & 94.1 & 4.3996 & 4 & 307 & $\\dots$ \\\\\n",
       "\t26 & 0.84054 & 0.0 & 8.14 & 0 & 0.538 & 5.599 & 85.7 & 4.4546 & 4 & 307 & $\\dots$ \\\\\n",
       "\t27 & 0.67191 & 0.0 & 8.14 & 0 & 0.538 & 5.813 & 90.3 & 4.682 & 4 & 307 & $\\dots$ \\\\\n",
       "\t28 & 0.95577 & 0.0 & 8.14 & 0 & 0.538 & 6.047 & 88.8 & 4.4534 & 4 & 307 & $\\dots$ \\\\\n",
       "\t29 & 0.77299 & 0.0 & 8.14 & 0 & 0.538 & 6.495 & 94.4 & 4.4547 & 4 & 307 & $\\dots$ \\\\\n",
       "\t30 & 1.00245 & 0.0 & 8.14 & 0 & 0.538 & 6.674 & 87.3 & 4.239 & 4 & 307 & $\\dots$ \\\\\n",
       "\t$\\dots$ & $\\dots$ & $\\dots$ & $\\dots$ & $\\dots$ & $\\dots$ & $\\dots$ & $\\dots$ & $\\dots$ & $\\dots$ & $\\dots$ &  \\\\\n",
       "\\end{tabular}\n"
      ],
      "text/plain": [
       "\u001b[1m506×13 DataFrame\u001b[0m\n",
       "\u001b[1m Row \u001b[0m│\u001b[1m Crim    \u001b[0m\u001b[1m Zn      \u001b[0m\u001b[1m Indus   \u001b[0m\u001b[1m Chas  \u001b[0m\u001b[1m NOx     \u001b[0m\u001b[1m Rm      \u001b[0m\u001b[1m Age     \u001b[0m\u001b[1m Dis     \u001b[0m\u001b[1m R\u001b[0m ⋯\n",
       "\u001b[1m     \u001b[0m│\u001b[90m Float64 \u001b[0m\u001b[90m Float64 \u001b[0m\u001b[90m Float64 \u001b[0m\u001b[90m Int64 \u001b[0m\u001b[90m Float64 \u001b[0m\u001b[90m Float64 \u001b[0m\u001b[90m Float64 \u001b[0m\u001b[90m Float64 \u001b[0m\u001b[90m I\u001b[0m ⋯\n",
       "─────┼──────────────────────────────────────────────────────────────────────────\n",
       "   1 │ 0.00632     18.0     2.31      0    0.538    6.575     65.2   4.09      ⋯\n",
       "   2 │ 0.02731      0.0     7.07      0    0.469    6.421     78.9   4.9671\n",
       "   3 │ 0.02729      0.0     7.07      0    0.469    7.185     61.1   4.9671\n",
       "   4 │ 0.03237      0.0     2.18      0    0.458    6.998     45.8   6.0622\n",
       "   5 │ 0.06905      0.0     2.18      0    0.458    7.147     54.2   6.0622    ⋯\n",
       "   6 │ 0.02985      0.0     2.18      0    0.458    6.43      58.7   6.0622\n",
       "   7 │ 0.08829     12.5     7.87      0    0.524    6.012     66.6   5.5605\n",
       "   8 │ 0.14455     12.5     7.87      0    0.524    6.172     96.1   5.9505\n",
       "   9 │ 0.21124     12.5     7.87      0    0.524    5.631    100.0   6.0821    ⋯\n",
       "  10 │ 0.17004     12.5     7.87      0    0.524    6.004     85.9   6.5921\n",
       "  11 │ 0.22489     12.5     7.87      0    0.524    6.377     94.3   6.3467\n",
       "  ⋮  │    ⋮        ⋮        ⋮       ⋮       ⋮        ⋮        ⋮        ⋮       ⋱\n",
       " 497 │ 0.2896       0.0     9.69      0    0.585    5.39      72.9   2.7986\n",
       " 498 │ 0.26838      0.0     9.69      0    0.585    5.794     70.6   2.8927    ⋯\n",
       " 499 │ 0.23912      0.0     9.69      0    0.585    6.019     65.3   2.4091\n",
       " 500 │ 0.17783      0.0     9.69      0    0.585    5.569     73.5   2.3999\n",
       " 501 │ 0.22438      0.0     9.69      0    0.585    6.027     79.7   2.4982\n",
       " 502 │ 0.06263      0.0    11.93      0    0.573    6.593     69.1   2.4786    ⋯\n",
       " 503 │ 0.04527      0.0    11.93      0    0.573    6.12      76.7   2.2875\n",
       " 504 │ 0.06076      0.0    11.93      0    0.573    6.976     91.0   2.1675\n",
       " 505 │ 0.10959      0.0    11.93      0    0.573    6.794     89.3   2.3889\n",
       " 506 │ 0.04741      0.0    11.93      0    0.573    6.03      80.8   2.505     ⋯\n",
       "\u001b[36m                                                  5 columns and 485 rows omitted\u001b[0m"
      ]
     },
     "execution_count": 23,
     "metadata": {},
     "output_type": "execute_result"
    }
   ],
   "source": [
    "# ShapML setup.\n",
    "explain = copy(boston[1:300, :]) # Compute Shapley feature-level predictions for 300 instances.\n",
    "explain = select(explain, Not(Symbol(outcome_name)))  # Remove the outcome column.\n",
    "\n",
    "reference = copy(boston)  # An optional reference population to compute the baseline prediction.\n",
    "reference = select(reference, Not(Symbol(outcome_name)))"
   ]
  },
  {
   "cell_type": "code",
   "execution_count": 24,
   "metadata": {},
   "outputs": [
    {
     "data": {
      "text/plain": [
       "60"
      ]
     },
     "execution_count": 24,
     "metadata": {},
     "output_type": "execute_result"
    }
   ],
   "source": [
    "sample_size = 60  # Number of Monte Carlo samples."
   ]
  },
  {
   "cell_type": "code",
   "execution_count": 38,
   "metadata": {},
   "outputs": [
    {
     "data": {
      "text/html": [
       "<div class=\"data-frame\"><p>3,900 rows × 6 columns</p><table class=\"data-frame\"><thead><tr><th></th><th>index</th><th>feature_name</th><th>feature_value</th><th>shap_effect</th><th>shap_effect_sd</th><th>intercept</th></tr><tr><th></th><th title=\"Int64\">Int64</th><th title=\"String\">String</th><th title=\"Union{Missing, Float64}\">Float64?</th><th title=\"Float64\">Float64</th><th title=\"Float64\">Float64</th><th title=\"Float64\">Float64</th></tr></thead><tbody><tr><th>1</th><td>1</td><td>Crim</td><td>0.00632</td><td>-1.20317</td><td>1.51573</td><td>25.8945</td></tr><tr><th>2</th><td>2</td><td>Crim</td><td>0.02731</td><td>-0.704333</td><td>1.09454</td><td>25.8945</td></tr><tr><th>3</th><td>3</td><td>Crim</td><td>0.02729</td><td>-0.1125</td><td>0.897616</td><td>25.8945</td></tr><tr><th>4</th><td>4</td><td>Crim</td><td>0.03237</td><td>0.160833</td><td>0.911749</td><td>25.8945</td></tr><tr><th>5</th><td>5</td><td>Crim</td><td>0.06905</td><td>0.0108333</td><td>0.776147</td><td>25.8945</td></tr><tr><th>6</th><td>6</td><td>Crim</td><td>0.02985</td><td>-0.3505</td><td>0.918956</td><td>25.8945</td></tr><tr><th>7</th><td>7</td><td>Crim</td><td>0.08829</td><td>0.270333</td><td>0.832544</td><td>25.8945</td></tr><tr><th>8</th><td>8</td><td>Crim</td><td>0.14455</td><td>0.391833</td><td>1.06812</td><td>25.8945</td></tr><tr><th>9</th><td>9</td><td>Crim</td><td>0.21124</td><td>0.183</td><td>0.927547</td><td>25.8945</td></tr><tr><th>10</th><td>10</td><td>Crim</td><td>0.17004</td><td>0.185167</td><td>0.897587</td><td>25.8945</td></tr><tr><th>11</th><td>11</td><td>Crim</td><td>0.22489</td><td>0.269167</td><td>0.886854</td><td>25.8945</td></tr><tr><th>12</th><td>12</td><td>Crim</td><td>0.11747</td><td>0.2835</td><td>0.870439</td><td>25.8945</td></tr><tr><th>13</th><td>13</td><td>Crim</td><td>0.09378</td><td>0.338333</td><td>1.05476</td><td>25.8945</td></tr><tr><th>14</th><td>14</td><td>Crim</td><td>0.62976</td><td>0.361833</td><td>0.783219</td><td>25.8945</td></tr><tr><th>15</th><td>15</td><td>Crim</td><td>0.63796</td><td>0.217333</td><td>0.683205</td><td>25.8945</td></tr><tr><th>16</th><td>16</td><td>Crim</td><td>0.62739</td><td>0.386833</td><td>0.794793</td><td>25.8945</td></tr><tr><th>17</th><td>17</td><td>Crim</td><td>1.05393</td><td>0.0135</td><td>1.19249</td><td>25.8945</td></tr><tr><th>18</th><td>18</td><td>Crim</td><td>0.7842</td><td>-0.433667</td><td>0.839233</td><td>25.8945</td></tr><tr><th>19</th><td>19</td><td>Crim</td><td>0.80271</td><td>-0.0683333</td><td>0.673677</td><td>25.8945</td></tr><tr><th>20</th><td>20</td><td>Crim</td><td>0.7258</td><td>0.0383333</td><td>0.550079</td><td>25.8945</td></tr><tr><th>21</th><td>21</td><td>Crim</td><td>1.25179</td><td>-1.81467</td><td>1.48494</td><td>25.8945</td></tr><tr><th>22</th><td>22</td><td>Crim</td><td>0.85204</td><td>-0.0748333</td><td>0.791916</td><td>25.8945</td></tr><tr><th>23</th><td>23</td><td>Crim</td><td>1.23247</td><td>-1.84617</td><td>1.40056</td><td>25.8945</td></tr><tr><th>24</th><td>24</td><td>Crim</td><td>0.98843</td><td>-1.85817</td><td>1.42262</td><td>25.8945</td></tr><tr><th>25</th><td>25</td><td>Crim</td><td>0.75026</td><td>-1.106</td><td>1.22167</td><td>25.8945</td></tr><tr><th>26</th><td>26</td><td>Crim</td><td>0.84054</td><td>-0.810333</td><td>0.995497</td><td>25.8945</td></tr><tr><th>27</th><td>27</td><td>Crim</td><td>0.67191</td><td>-0.219333</td><td>0.866448</td><td>25.8945</td></tr><tr><th>28</th><td>28</td><td>Crim</td><td>0.95577</td><td>-1.39183</td><td>1.17032</td><td>25.8945</td></tr><tr><th>29</th><td>29</td><td>Crim</td><td>0.77299</td><td>-0.498333</td><td>0.791281</td><td>25.8945</td></tr><tr><th>30</th><td>30</td><td>Crim</td><td>1.00245</td><td>-0.571167</td><td>0.946748</td><td>25.8945</td></tr><tr><th>&vellip;</th><td>&vellip;</td><td>&vellip;</td><td>&vellip;</td><td>&vellip;</td><td>&vellip;</td><td>&vellip;</td></tr></tbody></table></div>"
      ],
      "text/latex": [
       "\\begin{tabular}{r|cccccc}\n",
       "\t& index & feature\\_name & feature\\_value & shap\\_effect & shap\\_effect\\_sd & intercept\\\\\n",
       "\t\\hline\n",
       "\t& Int64 & String & Float64? & Float64 & Float64 & Float64\\\\\n",
       "\t\\hline\n",
       "\t1 & 1 & Crim & 0.00632 & -1.20317 & 1.51573 & 25.8945 \\\\\n",
       "\t2 & 2 & Crim & 0.02731 & -0.704333 & 1.09454 & 25.8945 \\\\\n",
       "\t3 & 3 & Crim & 0.02729 & -0.1125 & 0.897616 & 25.8945 \\\\\n",
       "\t4 & 4 & Crim & 0.03237 & 0.160833 & 0.911749 & 25.8945 \\\\\n",
       "\t5 & 5 & Crim & 0.06905 & 0.0108333 & 0.776147 & 25.8945 \\\\\n",
       "\t6 & 6 & Crim & 0.02985 & -0.3505 & 0.918956 & 25.8945 \\\\\n",
       "\t7 & 7 & Crim & 0.08829 & 0.270333 & 0.832544 & 25.8945 \\\\\n",
       "\t8 & 8 & Crim & 0.14455 & 0.391833 & 1.06812 & 25.8945 \\\\\n",
       "\t9 & 9 & Crim & 0.21124 & 0.183 & 0.927547 & 25.8945 \\\\\n",
       "\t10 & 10 & Crim & 0.17004 & 0.185167 & 0.897587 & 25.8945 \\\\\n",
       "\t11 & 11 & Crim & 0.22489 & 0.269167 & 0.886854 & 25.8945 \\\\\n",
       "\t12 & 12 & Crim & 0.11747 & 0.2835 & 0.870439 & 25.8945 \\\\\n",
       "\t13 & 13 & Crim & 0.09378 & 0.338333 & 1.05476 & 25.8945 \\\\\n",
       "\t14 & 14 & Crim & 0.62976 & 0.361833 & 0.783219 & 25.8945 \\\\\n",
       "\t15 & 15 & Crim & 0.63796 & 0.217333 & 0.683205 & 25.8945 \\\\\n",
       "\t16 & 16 & Crim & 0.62739 & 0.386833 & 0.794793 & 25.8945 \\\\\n",
       "\t17 & 17 & Crim & 1.05393 & 0.0135 & 1.19249 & 25.8945 \\\\\n",
       "\t18 & 18 & Crim & 0.7842 & -0.433667 & 0.839233 & 25.8945 \\\\\n",
       "\t19 & 19 & Crim & 0.80271 & -0.0683333 & 0.673677 & 25.8945 \\\\\n",
       "\t20 & 20 & Crim & 0.7258 & 0.0383333 & 0.550079 & 25.8945 \\\\\n",
       "\t21 & 21 & Crim & 1.25179 & -1.81467 & 1.48494 & 25.8945 \\\\\n",
       "\t22 & 22 & Crim & 0.85204 & -0.0748333 & 0.791916 & 25.8945 \\\\\n",
       "\t23 & 23 & Crim & 1.23247 & -1.84617 & 1.40056 & 25.8945 \\\\\n",
       "\t24 & 24 & Crim & 0.98843 & -1.85817 & 1.42262 & 25.8945 \\\\\n",
       "\t25 & 25 & Crim & 0.75026 & -1.106 & 1.22167 & 25.8945 \\\\\n",
       "\t26 & 26 & Crim & 0.84054 & -0.810333 & 0.995497 & 25.8945 \\\\\n",
       "\t27 & 27 & Crim & 0.67191 & -0.219333 & 0.866448 & 25.8945 \\\\\n",
       "\t28 & 28 & Crim & 0.95577 & -1.39183 & 1.17032 & 25.8945 \\\\\n",
       "\t29 & 29 & Crim & 0.77299 & -0.498333 & 0.791281 & 25.8945 \\\\\n",
       "\t30 & 30 & Crim & 1.00245 & -0.571167 & 0.946748 & 25.8945 \\\\\n",
       "\t$\\dots$ & $\\dots$ & $\\dots$ & $\\dots$ & $\\dots$ & $\\dots$ & $\\dots$ \\\\\n",
       "\\end{tabular}\n"
      ],
      "text/plain": [
       "\u001b[1m3900×6 DataFrame\u001b[0m\n",
       "\u001b[1m  Row \u001b[0m│\u001b[1m index \u001b[0m\u001b[1m feature_name \u001b[0m\u001b[1m feature_value \u001b[0m\u001b[1m shap_effect \u001b[0m\u001b[1m shap_effect_sd \u001b[0m\u001b[1m inter\u001b[0m ⋯\n",
       "\u001b[1m      \u001b[0m│\u001b[90m Int64 \u001b[0m\u001b[90m String       \u001b[0m\u001b[90m Float64?      \u001b[0m\u001b[90m Float64     \u001b[0m\u001b[90m Float64        \u001b[0m\u001b[90m Float\u001b[0m ⋯\n",
       "──────┼─────────────────────────────────────────────────────────────────────────\n",
       "    1 │     1  Crim                0.00632   -1.20317          1.51573     25. ⋯\n",
       "    2 │     2  Crim                0.02731   -0.704333         1.09454     25.\n",
       "    3 │     3  Crim                0.02729   -0.1125           0.897616    25.\n",
       "    4 │     4  Crim                0.03237    0.160833         0.911749    25.\n",
       "    5 │     5  Crim                0.06905    0.0108333        0.776147    25. ⋯\n",
       "    6 │     6  Crim                0.02985   -0.3505           0.918956    25.\n",
       "    7 │     7  Crim                0.08829    0.270333         0.832544    25.\n",
       "    8 │     8  Crim                0.14455    0.391833         1.06812     25.\n",
       "    9 │     9  Crim                0.21124    0.183            0.927547    25. ⋯\n",
       "   10 │    10  Crim                0.17004    0.185167         0.897587    25.\n",
       "   11 │    11  Crim                0.22489    0.269167         0.886854    25.\n",
       "  ⋮   │   ⋮         ⋮              ⋮             ⋮             ⋮             ⋮ ⋱\n",
       " 3891 │   291  LStat               3.33       4.43367          3.33084     25.\n",
       " 3892 │   292  LStat               3.56       4.6525           3.63943     25. ⋯\n",
       " 3893 │   293  LStat               4.7        3.65067          3.11556     25.\n",
       " 3894 │   294  LStat               8.58      -0.344167         2.79634     25.\n",
       " 3895 │   295  LStat              10.4       -2.10183          3.4959      25.\n",
       " 3896 │   296  LStat               6.27       1.67433          2.64394     25. ⋯\n",
       " 3897 │   297  LStat               7.39       1.53333          2.66154     25.\n",
       " 3898 │   298  LStat              15.84      -2.90667          4.15237     25.\n",
       " 3899 │   299  LStat               4.97       1.91233          2.45859     25.\n",
       " 3900 │   300  LStat               4.74       3.5835           3.01283     25. ⋯\n",
       "\u001b[36m                                                  1 column and 3879 rows omitted\u001b[0m"
      ]
     },
     "execution_count": 38,
     "metadata": {},
     "output_type": "execute_result"
    }
   ],
   "source": [
    "# Compute stochastic Shapley values.\n",
    "data_shap = ShapML.shap(explain = explain,\n",
    "                        model = model,\n",
    "                        predict_function = predict_function,\n",
    "                        sample_size = sample_size,\n",
    "                        seed = 42\n",
    "                        )"
   ]
  },
  {
   "cell_type": "code",
   "execution_count": 39,
   "metadata": {},
   "outputs": [
    {
     "name": "stdout",
     "output_type": "stream",
     "text": [
      "\u001b[1m3900×6 DataFrame\u001b[0m\n",
      "\u001b[1m  Row \u001b[0m│\u001b[1m index \u001b[0m\u001b[1m feature_name \u001b[0m\u001b[1m feature_value \u001b[0m\u001b[1m shap_effect \u001b[0m\u001b[1m shap_effect_sd \u001b[0m\u001b[1m intercept \u001b[0m\n",
      "\u001b[1m      \u001b[0m│\u001b[90m Int64 \u001b[0m\u001b[90m String       \u001b[0m\u001b[90m Float64?      \u001b[0m\u001b[90m Float64     \u001b[0m\u001b[90m Float64        \u001b[0m\u001b[90m Float64   \u001b[0m\n",
      "──────┼────────────────────────────────────────────────────────────────────────────\n",
      "    1 │     1  Crim                0.00632   -1.20317          1.51573     25.8945\n",
      "    2 │     2  Crim                0.02731   -0.704333         1.09454     25.8945\n",
      "    3 │     3  Crim                0.02729   -0.1125           0.897616    25.8945\n",
      "    4 │     4  Crim                0.03237    0.160833         0.911749    25.8945\n",
      "    5 │     5  Crim                0.06905    0.0108333        0.776147    25.8945\n",
      "    6 │     6  Crim                0.02985   -0.3505           0.918956    25.8945\n",
      "    7 │     7  Crim                0.08829    0.270333         0.832544    25.8945\n",
      "    8 │     8  Crim                0.14455    0.391833         1.06812     25.8945\n",
      "    9 │     9  Crim                0.21124    0.183            0.927547    25.8945\n",
      "   10 │    10  Crim                0.17004    0.185167         0.897587    25.8945\n",
      "   11 │    11  Crim                0.22489    0.269167         0.886854    25.8945\n",
      "  ⋮   │   ⋮         ⋮              ⋮             ⋮             ⋮             ⋮\n",
      " 3891 │   291  LStat               3.33       4.43367          3.33084     25.8945\n",
      " 3892 │   292  LStat               3.56       4.6525           3.63943     25.8945\n",
      " 3893 │   293  LStat               4.7        3.65067          3.11556     25.8945\n",
      " 3894 │   294  LStat               8.58      -0.344167         2.79634     25.8945\n",
      " 3895 │   295  LStat              10.4       -2.10183          3.4959      25.8945\n",
      " 3896 │   296  LStat               6.27       1.67433          2.64394     25.8945\n",
      " 3897 │   297  LStat               7.39       1.53333          2.66154     25.8945\n",
      " 3898 │   298  LStat              15.84      -2.90667          4.15237     25.8945\n",
      " 3899 │   299  LStat               4.97       1.91233          2.45859     25.8945\n",
      " 3900 │   300  LStat               4.74       3.5835           3.01283     25.8945\n",
      "\u001b[36m                                                                  3879 rows omitted\u001b[0m"
     ]
    }
   ],
   "source": [
    "show(data_shap, allcols = true)"
   ]
  },
  {
   "cell_type": "code",
   "execution_count": 40,
   "metadata": {},
   "outputs": [
    {
     "data": {
      "text/plain": [
       "6-element Vector{String}:\n",
       " \"index\"\n",
       " \"feature_name\"\n",
       " \"feature_value\"\n",
       " \"shap_effect\"\n",
       " \"shap_effect_sd\"\n",
       " \"intercept\""
      ]
     },
     "execution_count": 40,
     "metadata": {},
     "output_type": "execute_result"
    }
   ],
   "source": [
    "names(data_shap)"
   ]
  },
  {
   "cell_type": "markdown",
   "metadata": {},
   "source": [
    "Now we group the result by the feature name and take the mean value of the abs of `:shap_effect`"
   ]
  },
  {
   "cell_type": "code",
   "execution_count": 41,
   "metadata": {},
   "outputs": [
    {
     "data": {
      "text/html": [
       "<div class=\"data-frame\"><p>13 rows × 2 columns</p><table class=\"data-frame\"><thead><tr><th></th><th>feature_name</th><th>mean_effect</th></tr><tr><th></th><th title=\"String\">String</th><th title=\"Float64\">Float64</th></tr></thead><tbody><tr><th>1</th><td>Crim</td><td>0.332918</td></tr><tr><th>2</th><td>Zn</td><td>0.144365</td></tr><tr><th>3</th><td>Indus</td><td>0.360383</td></tr><tr><th>4</th><td>Chas</td><td>0.0219922</td></tr><tr><th>5</th><td>NOx</td><td>0.159389</td></tr><tr><th>6</th><td>Rm</td><td>3.04907</td></tr><tr><th>7</th><td>Age</td><td>0.325239</td></tr><tr><th>8</th><td>Dis</td><td>0.479312</td></tr><tr><th>9</th><td>Rad</td><td>0.119549</td></tr><tr><th>10</th><td>Tax</td><td>0.331643</td></tr><tr><th>11</th><td>PTRatio</td><td>0.825559</td></tr><tr><th>12</th><td>Black</td><td>0.132508</td></tr><tr><th>13</th><td>LStat</td><td>2.70597</td></tr></tbody></table></div>"
      ],
      "text/latex": [
       "\\begin{tabular}{r|cc}\n",
       "\t& feature\\_name & mean\\_effect\\\\\n",
       "\t\\hline\n",
       "\t& String & Float64\\\\\n",
       "\t\\hline\n",
       "\t1 & Crim & 0.332918 \\\\\n",
       "\t2 & Zn & 0.144365 \\\\\n",
       "\t3 & Indus & 0.360383 \\\\\n",
       "\t4 & Chas & 0.0219922 \\\\\n",
       "\t5 & NOx & 0.159389 \\\\\n",
       "\t6 & Rm & 3.04907 \\\\\n",
       "\t7 & Age & 0.325239 \\\\\n",
       "\t8 & Dis & 0.479312 \\\\\n",
       "\t9 & Rad & 0.119549 \\\\\n",
       "\t10 & Tax & 0.331643 \\\\\n",
       "\t11 & PTRatio & 0.825559 \\\\\n",
       "\t12 & Black & 0.132508 \\\\\n",
       "\t13 & LStat & 2.70597 \\\\\n",
       "\\end{tabular}\n"
      ],
      "text/plain": [
       "\u001b[1m13×2 DataFrame\u001b[0m\n",
       "\u001b[1m Row \u001b[0m│\u001b[1m feature_name \u001b[0m\u001b[1m mean_effect \u001b[0m\n",
       "\u001b[1m     \u001b[0m│\u001b[90m String       \u001b[0m\u001b[90m Float64     \u001b[0m\n",
       "─────┼───────────────────────────\n",
       "   1 │ Crim            0.332918\n",
       "   2 │ Zn              0.144365\n",
       "   3 │ Indus           0.360383\n",
       "   4 │ Chas            0.0219922\n",
       "   5 │ NOx             0.159389\n",
       "   6 │ Rm              3.04907\n",
       "   7 │ Age             0.325239\n",
       "   8 │ Dis             0.479312\n",
       "   9 │ Rad             0.119549\n",
       "  10 │ Tax             0.331643\n",
       "  11 │ PTRatio         0.825559\n",
       "  12 │ Black           0.132508\n",
       "  13 │ LStat           2.70597"
      ]
     },
     "execution_count": 41,
     "metadata": {},
     "output_type": "execute_result"
    }
   ],
   "source": [
    "gdf = groupby(data_shap, :feature_name) \n",
    "data_plot = combine(gdf, :shap_effect => (x->mean(abs.(x))) => :mean_effect)"
   ]
  },
  {
   "cell_type": "code",
   "execution_count": 42,
   "metadata": {},
   "outputs": [
    {
     "data": {
      "text/plain": [
       "13-element Vector{Int64}:\n",
       "  4\n",
       "  9\n",
       " 12\n",
       "  2\n",
       "  5\n",
       "  7\n",
       " 10\n",
       "  1\n",
       "  3\n",
       "  8\n",
       " 11\n",
       " 13\n",
       "  6"
      ]
     },
     "execution_count": 42,
     "metadata": {},
     "output_type": "execute_result"
    }
   ],
   "source": [
    "idx = sortperm(data_plot.mean_effect)"
   ]
  },
  {
   "cell_type": "code",
   "execution_count": 44,
   "metadata": {},
   "outputs": [
    {
     "data": {
      "image/svg+xml": [
       "<?xml version=\"1.0\" encoding=\"utf-8\"?>\n",
       "<svg xmlns=\"http://www.w3.org/2000/svg\" xmlns:xlink=\"http://www.w3.org/1999/xlink\" width=\"600\" height=\"400\" viewBox=\"0 0 2400 1600\">\n",
       "<defs>\n",
       "  <clipPath id=\"clip010\">\n",
       "    <rect x=\"0\" y=\"0\" width=\"2400\" height=\"1600\"/>\n",
       "  </clipPath>\n",
       "</defs>\n",
       "<path clip-path=\"url(#clip010)\" d=\"\n",
       "M0 1600 L2400 1600 L2400 0 L0 0  Z\n",
       "  \" fill=\"#ffffff\" fill-rule=\"evenodd\" fill-opacity=\"1\"/>\n",
       "<defs>\n",
       "  <clipPath id=\"clip011\">\n",
       "    <rect x=\"480\" y=\"0\" width=\"1681\" height=\"1600\"/>\n",
       "  </clipPath>\n",
       "</defs>\n",
       "<path clip-path=\"url(#clip010)\" d=\"\n",
       "M259.005 1423.18 L2352.76 1423.18 L2352.76 123.472 L259.005 123.472  Z\n",
       "  \" fill=\"#ffffff\" fill-rule=\"evenodd\" fill-opacity=\"1\"/>\n",
       "<defs>\n",
       "  <clipPath id=\"clip012\">\n",
       "    <rect x=\"259\" y=\"123\" width=\"2095\" height=\"1301\"/>\n",
       "  </clipPath>\n",
       "</defs>\n",
       "<polyline clip-path=\"url(#clip012)\" style=\"stroke:#000000; stroke-linecap:butt; stroke-linejoin:round; stroke-width:2; stroke-opacity:0.1; fill:none\" points=\"\n",
       "  318.262,1423.18 318.262,123.472 \n",
       "  \"/>\n",
       "<polyline clip-path=\"url(#clip012)\" style=\"stroke:#000000; stroke-linecap:butt; stroke-linejoin:round; stroke-width:2; stroke-opacity:0.1; fill:none\" points=\"\n",
       "  966.078,1423.18 966.078,123.472 \n",
       "  \"/>\n",
       "<polyline clip-path=\"url(#clip012)\" style=\"stroke:#000000; stroke-linecap:butt; stroke-linejoin:round; stroke-width:2; stroke-opacity:0.1; fill:none\" points=\"\n",
       "  1613.89,1423.18 1613.89,123.472 \n",
       "  \"/>\n",
       "<polyline clip-path=\"url(#clip012)\" style=\"stroke:#000000; stroke-linecap:butt; stroke-linejoin:round; stroke-width:2; stroke-opacity:0.1; fill:none\" points=\"\n",
       "  2261.71,1423.18 2261.71,123.472 \n",
       "  \"/>\n",
       "<polyline clip-path=\"url(#clip010)\" style=\"stroke:#000000; stroke-linecap:butt; stroke-linejoin:round; stroke-width:4; stroke-opacity:1; fill:none\" points=\"\n",
       "  259.005,1423.18 2352.76,1423.18 \n",
       "  \"/>\n",
       "<polyline clip-path=\"url(#clip010)\" style=\"stroke:#000000; stroke-linecap:butt; stroke-linejoin:round; stroke-width:4; stroke-opacity:1; fill:none\" points=\"\n",
       "  318.262,1423.18 318.262,1404.28 \n",
       "  \"/>\n",
       "<polyline clip-path=\"url(#clip010)\" style=\"stroke:#000000; stroke-linecap:butt; stroke-linejoin:round; stroke-width:4; stroke-opacity:1; fill:none\" points=\"\n",
       "  966.078,1423.18 966.078,1404.28 \n",
       "  \"/>\n",
       "<polyline clip-path=\"url(#clip010)\" style=\"stroke:#000000; stroke-linecap:butt; stroke-linejoin:round; stroke-width:4; stroke-opacity:1; fill:none\" points=\"\n",
       "  1613.89,1423.18 1613.89,1404.28 \n",
       "  \"/>\n",
       "<polyline clip-path=\"url(#clip010)\" style=\"stroke:#000000; stroke-linecap:butt; stroke-linejoin:round; stroke-width:4; stroke-opacity:1; fill:none\" points=\"\n",
       "  2261.71,1423.18 2261.71,1404.28 \n",
       "  \"/>\n",
       "<path clip-path=\"url(#clip010)\" d=\"M318.262 1454.1 Q314.651 1454.1 312.822 1457.66 Q311.017 1461.2 311.017 1468.33 Q311.017 1475.44 312.822 1479.01 Q314.651 1482.55 318.262 1482.55 Q321.896 1482.55 323.702 1479.01 Q325.531 1475.44 325.531 1468.33 Q325.531 1461.2 323.702 1457.66 Q321.896 1454.1 318.262 1454.1 M318.262 1450.39 Q324.072 1450.39 327.128 1455 Q330.207 1459.58 330.207 1468.33 Q330.207 1477.06 327.128 1481.67 Q324.072 1486.25 318.262 1486.25 Q312.452 1486.25 309.373 1481.67 Q306.318 1477.06 306.318 1468.33 Q306.318 1459.58 309.373 1455 Q312.452 1450.39 318.262 1450.39 Z\" fill=\"#000000\" fill-rule=\"evenodd\" fill-opacity=\"1\" /><path clip-path=\"url(#clip010)\" d=\"M956.46 1481.64 L964.098 1481.64 L964.098 1455.28 L955.788 1456.95 L955.788 1452.69 L964.052 1451.02 L968.728 1451.02 L968.728 1481.64 L976.367 1481.64 L976.367 1485.58 L956.46 1485.58 L956.46 1481.64 Z\" fill=\"#000000\" fill-rule=\"evenodd\" fill-opacity=\"1\" /><path clip-path=\"url(#clip010)\" d=\"M1608.55 1481.64 L1624.87 1481.64 L1624.87 1485.58 L1602.92 1485.58 L1602.92 1481.64 Q1605.58 1478.89 1610.17 1474.26 Q1614.77 1469.61 1615.95 1468.27 Q1618.2 1465.74 1619.08 1464.01 Q1619.98 1462.25 1619.98 1460.56 Q1619.98 1457.8 1618.04 1456.07 Q1616.12 1454.33 1613.01 1454.33 Q1610.81 1454.33 1608.36 1455.09 Q1605.93 1455.86 1603.15 1457.41 L1603.15 1452.69 Q1605.98 1451.55 1608.43 1450.97 Q1610.88 1450.39 1612.92 1450.39 Q1618.29 1450.39 1621.49 1453.08 Q1624.68 1455.77 1624.68 1460.26 Q1624.68 1462.39 1623.87 1464.31 Q1623.08 1466.2 1620.98 1468.8 Q1620.4 1469.47 1617.3 1472.69 Q1614.19 1475.88 1608.55 1481.64 Z\" fill=\"#000000\" fill-rule=\"evenodd\" fill-opacity=\"1\" /><path clip-path=\"url(#clip010)\" d=\"M2265.96 1466.95 Q2269.31 1467.66 2271.19 1469.93 Q2273.09 1472.2 2273.09 1475.53 Q2273.09 1480.65 2269.57 1483.45 Q2266.05 1486.25 2259.57 1486.25 Q2257.39 1486.25 2255.08 1485.81 Q2252.78 1485.39 2250.33 1484.54 L2250.33 1480.02 Q2252.28 1481.16 2254.59 1481.74 Q2256.91 1482.32 2259.43 1482.32 Q2263.83 1482.32 2266.12 1480.58 Q2268.43 1478.84 2268.43 1475.53 Q2268.43 1472.48 2266.28 1470.77 Q2264.15 1469.03 2260.33 1469.03 L2256.3 1469.03 L2256.3 1465.19 L2260.52 1465.19 Q2263.97 1465.19 2265.79 1463.82 Q2267.62 1462.43 2267.62 1459.84 Q2267.62 1457.18 2265.72 1455.77 Q2263.85 1454.33 2260.33 1454.33 Q2258.41 1454.33 2256.21 1454.75 Q2254.01 1455.16 2251.37 1456.04 L2251.37 1451.88 Q2254.03 1451.14 2256.35 1450.77 Q2258.69 1450.39 2260.75 1450.39 Q2266.07 1450.39 2269.17 1452.83 Q2272.28 1455.23 2272.28 1459.35 Q2272.28 1462.22 2270.63 1464.21 Q2268.99 1466.18 2265.96 1466.95 Z\" fill=\"#000000\" fill-rule=\"evenodd\" fill-opacity=\"1\" /><path clip-path=\"url(#clip010)\" d=\"M872.312 1520.52 L881.893 1520.52 L894.019 1552.86 L906.21 1520.52 L915.79 1520.52 L915.79 1568.04 L909.52 1568.04 L909.52 1526.32 L897.266 1558.91 L890.805 1558.91 L878.551 1526.32 L878.551 1568.04 L872.312 1568.04 L872.312 1520.52 Z\" fill=\"#000000\" fill-rule=\"evenodd\" fill-opacity=\"1\" /><path clip-path=\"url(#clip010)\" d=\"M958.79 1548.76 L958.79 1551.62 L931.863 1551.62 Q932.245 1557.67 935.492 1560.85 Q938.77 1564 944.595 1564 Q947.969 1564 951.12 1563.17 Q954.303 1562.35 957.422 1560.69 L957.422 1566.23 Q954.271 1567.57 950.961 1568.27 Q947.65 1568.97 944.245 1568.97 Q935.715 1568.97 930.718 1564 Q925.752 1559.04 925.752 1550.57 Q925.752 1541.82 930.463 1536.69 Q935.205 1531.54 943.226 1531.54 Q950.419 1531.54 954.589 1536.18 Q958.79 1540.8 958.79 1548.76 M952.934 1547.04 Q952.87 1542.23 950.228 1539.37 Q947.619 1536.5 943.29 1536.5 Q938.388 1536.5 935.428 1539.27 Q932.5 1542.04 932.054 1547.07 L952.934 1547.04 Z\" fill=\"#000000\" fill-rule=\"evenodd\" fill-opacity=\"1\" /><path clip-path=\"url(#clip010)\" d=\"M984.603 1550.12 Q977.506 1550.12 974.768 1551.75 Q972.031 1553.37 972.031 1557.29 Q972.031 1560.4 974.068 1562.25 Q976.137 1564.07 979.67 1564.07 Q984.54 1564.07 987.468 1560.63 Q990.428 1557.16 990.428 1551.43 L990.428 1550.12 L984.603 1550.12 M996.284 1547.71 L996.284 1568.04 L990.428 1568.04 L990.428 1562.63 Q988.423 1565.88 985.431 1567.44 Q982.439 1568.97 978.11 1568.97 Q972.636 1568.97 969.389 1565.91 Q966.175 1562.82 966.175 1557.67 Q966.175 1551.65 970.185 1548.6 Q974.227 1545.54 982.216 1545.54 L990.428 1545.54 L990.428 1544.97 Q990.428 1540.93 987.754 1538.73 Q985.113 1536.5 980.306 1536.5 Q977.251 1536.5 974.354 1537.23 Q971.458 1537.97 968.785 1539.43 L968.785 1534.02 Q971.999 1532.78 975.023 1532.17 Q978.047 1531.54 980.911 1531.54 Q988.646 1531.54 992.465 1535.55 Q996.284 1539.56 996.284 1547.71 Z\" fill=\"#000000\" fill-rule=\"evenodd\" fill-opacity=\"1\" /><path clip-path=\"url(#clip010)\" d=\"M1037.98 1546.53 L1037.98 1568.04 L1032.12 1568.04 L1032.12 1546.72 Q1032.12 1541.66 1030.15 1539.14 Q1028.18 1536.63 1024.23 1536.63 Q1019.49 1536.63 1016.75 1539.65 Q1014.01 1542.68 1014.01 1547.9 L1014.01 1568.04 L1008.12 1568.04 L1008.12 1532.4 L1014.01 1532.4 L1014.01 1537.93 Q1016.11 1534.72 1018.95 1533.13 Q1021.81 1531.54 1025.53 1531.54 Q1031.68 1531.54 1034.83 1535.36 Q1037.98 1539.14 1037.98 1546.53 Z\" fill=\"#000000\" fill-rule=\"evenodd\" fill-opacity=\"1\" /><path clip-path=\"url(#clip010)\" d=\"M1086.52 1526.86 L1077.8 1550.51 L1095.27 1550.51 L1086.52 1526.86 M1082.89 1520.52 L1090.18 1520.52 L1108.29 1568.04 L1101.6 1568.04 L1097.28 1555.85 L1075.86 1555.85 L1071.53 1568.04 L1064.75 1568.04 L1082.89 1520.52 Z\" fill=\"#000000\" fill-rule=\"evenodd\" fill-opacity=\"1\" /><path clip-path=\"url(#clip010)\" d=\"M1140.56 1550.25 Q1140.56 1543.79 1137.89 1540.13 Q1135.25 1536.44 1130.6 1536.44 Q1125.95 1536.44 1123.28 1540.13 Q1120.64 1543.79 1120.64 1550.25 Q1120.64 1556.71 1123.28 1560.4 Q1125.95 1564.07 1130.6 1564.07 Q1135.25 1564.07 1137.89 1560.4 Q1140.56 1556.71 1140.56 1550.25 M1120.64 1537.81 Q1122.48 1534.62 1125.29 1533.1 Q1128.12 1531.54 1132.03 1531.54 Q1138.53 1531.54 1142.57 1536.69 Q1146.64 1541.85 1146.64 1550.25 Q1146.64 1558.65 1142.57 1563.81 Q1138.53 1568.97 1132.03 1568.97 Q1128.12 1568.97 1125.29 1567.44 Q1122.48 1565.88 1120.64 1562.7 L1120.64 1568.04 L1114.75 1568.04 L1114.75 1518.52 L1120.64 1518.52 L1120.64 1537.81 Z\" fill=\"#000000\" fill-rule=\"evenodd\" fill-opacity=\"1\" /><path clip-path=\"url(#clip010)\" d=\"M1179.08 1533.45 L1179.08 1538.98 Q1176.59 1537.71 1173.92 1537.07 Q1171.25 1536.44 1168.38 1536.44 Q1164.02 1536.44 1161.82 1537.77 Q1159.66 1539.11 1159.66 1541.79 Q1159.66 1543.82 1161.22 1545 Q1162.78 1546.15 1167.49 1547.2 L1169.5 1547.64 Q1175.73 1548.98 1178.34 1551.43 Q1180.99 1553.85 1180.99 1558.21 Q1180.99 1563.17 1177.04 1566.07 Q1173.12 1568.97 1166.25 1568.97 Q1163.38 1568.97 1160.26 1568.39 Q1157.18 1567.85 1153.74 1566.74 L1153.74 1560.69 Q1156.99 1562.38 1160.14 1563.24 Q1163.29 1564.07 1166.38 1564.07 Q1170.51 1564.07 1172.74 1562.66 Q1174.97 1561.23 1174.97 1558.65 Q1174.97 1556.27 1173.35 1554.99 Q1171.76 1553.72 1166.31 1552.54 L1164.28 1552.07 Q1158.83 1550.92 1156.41 1548.56 Q1153.99 1546.18 1153.99 1542.04 Q1153.99 1537.01 1157.56 1534.27 Q1161.12 1531.54 1167.68 1531.54 Q1170.93 1531.54 1173.79 1532.01 Q1176.66 1532.49 1179.08 1533.45 Z\" fill=\"#000000\" fill-rule=\"evenodd\" fill-opacity=\"1\" /><path clip-path=\"url(#clip010)\" d=\"M1204.12 1536.5 Q1199.41 1536.5 1196.68 1540.19 Q1193.94 1543.85 1193.94 1550.25 Q1193.94 1556.65 1196.64 1560.34 Q1199.38 1564 1204.12 1564 Q1208.8 1564 1211.54 1560.31 Q1214.28 1556.62 1214.28 1550.25 Q1214.28 1543.92 1211.54 1540.23 Q1208.8 1536.5 1204.12 1536.5 M1204.12 1531.54 Q1211.76 1531.54 1216.12 1536.5 Q1220.48 1541.47 1220.48 1550.25 Q1220.48 1559 1216.12 1564 Q1211.76 1568.97 1204.12 1568.97 Q1196.45 1568.97 1192.09 1564 Q1187.76 1559 1187.76 1550.25 Q1187.76 1541.47 1192.09 1536.5 Q1196.45 1531.54 1204.12 1531.54 Z\" fill=\"#000000\" fill-rule=\"evenodd\" fill-opacity=\"1\" /><path clip-path=\"url(#clip010)\" d=\"M1230.19 1518.52 L1236.05 1518.52 L1236.05 1568.04 L1230.19 1568.04 L1230.19 1518.52 Z\" fill=\"#000000\" fill-rule=\"evenodd\" fill-opacity=\"1\" /><path clip-path=\"url(#clip010)\" d=\"M1247.7 1553.98 L1247.7 1532.4 L1253.55 1532.4 L1253.55 1553.75 Q1253.55 1558.81 1255.53 1561.36 Q1257.5 1563.87 1261.45 1563.87 Q1266.19 1563.87 1268.93 1560.85 Q1271.7 1557.83 1271.7 1552.61 L1271.7 1532.4 L1277.55 1532.4 L1277.55 1568.04 L1271.7 1568.04 L1271.7 1562.57 Q1269.56 1565.82 1266.73 1567.41 Q1263.93 1568.97 1260.21 1568.97 Q1254.06 1568.97 1250.88 1565.15 Q1247.7 1561.33 1247.7 1553.98 M1262.43 1531.54 L1262.43 1531.54 Z\" fill=\"#000000\" fill-rule=\"evenodd\" fill-opacity=\"1\" /><path clip-path=\"url(#clip010)\" d=\"M1295.41 1522.27 L1295.41 1532.4 L1307.47 1532.4 L1307.47 1536.95 L1295.41 1536.95 L1295.41 1556.3 Q1295.41 1560.66 1296.59 1561.9 Q1297.8 1563.14 1301.46 1563.14 L1307.47 1563.14 L1307.47 1568.04 L1301.46 1568.04 Q1294.68 1568.04 1292.1 1565.53 Q1289.52 1562.98 1289.52 1556.3 L1289.52 1536.95 L1285.22 1536.95 L1285.22 1532.4 L1289.52 1532.4 L1289.52 1522.27 L1295.41 1522.27 Z\" fill=\"#000000\" fill-rule=\"evenodd\" fill-opacity=\"1\" /><path clip-path=\"url(#clip010)\" d=\"M1345.67 1548.76 L1345.67 1551.62 L1318.74 1551.62 Q1319.12 1557.67 1322.37 1560.85 Q1325.65 1564 1331.47 1564 Q1334.84 1564 1338 1563.17 Q1341.18 1562.35 1344.3 1560.69 L1344.3 1566.23 Q1341.15 1567.57 1337.84 1568.27 Q1334.53 1568.97 1331.12 1568.97 Q1322.59 1568.97 1317.59 1564 Q1312.63 1559.04 1312.63 1550.57 Q1312.63 1541.82 1317.34 1536.69 Q1322.08 1531.54 1330.1 1531.54 Q1337.3 1531.54 1341.46 1536.18 Q1345.67 1540.8 1345.67 1548.76 M1339.81 1547.04 Q1339.75 1542.23 1337.1 1539.37 Q1334.49 1536.5 1330.17 1536.5 Q1325.26 1536.5 1322.3 1539.27 Q1319.38 1542.04 1318.93 1547.07 L1339.81 1547.04 Z\" fill=\"#000000\" fill-rule=\"evenodd\" fill-opacity=\"1\" /><path clip-path=\"url(#clip010)\" d=\"M1404.74 1522.08 L1404.74 1528.35 Q1401.08 1526.6 1397.83 1525.74 Q1394.59 1524.88 1391.56 1524.88 Q1386.31 1524.88 1383.45 1526.92 Q1380.61 1528.96 1380.61 1532.71 Q1380.61 1535.87 1382.49 1537.49 Q1384.4 1539.08 1389.69 1540.07 L1393.57 1540.86 Q1400.76 1542.23 1404.17 1545.7 Q1407.6 1549.14 1407.6 1554.93 Q1407.6 1561.84 1402.96 1565.4 Q1398.34 1568.97 1389.4 1568.97 Q1386.02 1568.97 1382.21 1568.2 Q1378.42 1567.44 1374.34 1565.94 L1374.34 1559.32 Q1378.26 1561.52 1382.01 1562.63 Q1385.77 1563.75 1389.4 1563.75 Q1394.9 1563.75 1397.9 1561.58 Q1400.89 1559.42 1400.89 1555.41 Q1400.89 1551.91 1398.72 1549.93 Q1396.59 1547.96 1391.69 1546.97 L1387.78 1546.21 Q1380.58 1544.78 1377.37 1541.72 Q1374.15 1538.67 1374.15 1533.22 Q1374.15 1526.92 1378.58 1523.29 Q1383.03 1519.66 1390.83 1519.66 Q1394.17 1519.66 1397.64 1520.27 Q1401.11 1520.87 1404.74 1522.08 Z\" fill=\"#000000\" fill-rule=\"evenodd\" fill-opacity=\"1\" /><path clip-path=\"url(#clip010)\" d=\"M1417.63 1520.52 L1424.06 1520.52 L1424.06 1540 L1447.42 1540 L1447.42 1520.52 L1453.85 1520.52 L1453.85 1568.04 L1447.42 1568.04 L1447.42 1545.41 L1424.06 1545.41 L1424.06 1568.04 L1417.63 1568.04 L1417.63 1520.52 Z\" fill=\"#000000\" fill-rule=\"evenodd\" fill-opacity=\"1\" /><path clip-path=\"url(#clip010)\" d=\"M1482.53 1526.86 L1473.81 1550.51 L1491.28 1550.51 L1482.53 1526.86 M1478.9 1520.52 L1486.19 1520.52 L1504.3 1568.04 L1497.62 1568.04 L1493.29 1555.85 L1471.87 1555.85 L1467.54 1568.04 L1460.76 1568.04 L1478.9 1520.52 Z\" fill=\"#000000\" fill-rule=\"evenodd\" fill-opacity=\"1\" /><path clip-path=\"url(#clip010)\" d=\"M1517.67 1525.81 L1517.67 1543.66 L1525.75 1543.66 Q1530.24 1543.66 1532.69 1541.34 Q1535.14 1539.02 1535.14 1534.72 Q1535.14 1530.45 1532.69 1528.13 Q1530.24 1525.81 1525.75 1525.81 L1517.67 1525.81 M1511.24 1520.52 L1525.75 1520.52 Q1533.74 1520.52 1537.82 1524.15 Q1541.92 1527.75 1541.92 1534.72 Q1541.92 1541.75 1537.82 1545.35 Q1533.74 1548.95 1525.75 1548.95 L1517.67 1548.95 L1517.67 1568.04 L1511.24 1568.04 L1511.24 1520.52 Z\" fill=\"#000000\" fill-rule=\"evenodd\" fill-opacity=\"1\" /><path clip-path=\"url(#clip010)\" d=\"M1566.81 1532.4 L1573.02 1532.4 L1584.16 1562.31 L1595.3 1532.4 L1601.5 1532.4 L1588.14 1568.04 L1580.18 1568.04 L1566.81 1532.4 Z\" fill=\"#000000\" fill-rule=\"evenodd\" fill-opacity=\"1\" /><path clip-path=\"url(#clip010)\" d=\"M1625.79 1550.12 Q1618.69 1550.12 1615.95 1551.75 Q1613.22 1553.37 1613.22 1557.29 Q1613.22 1560.4 1615.25 1562.25 Q1617.32 1564.07 1620.86 1564.07 Q1625.73 1564.07 1628.65 1560.63 Q1631.61 1557.16 1631.61 1551.43 L1631.61 1550.12 L1625.79 1550.12 M1637.47 1547.71 L1637.47 1568.04 L1631.61 1568.04 L1631.61 1562.63 Q1629.61 1565.88 1626.62 1567.44 Q1623.62 1568.97 1619.3 1568.97 Q1613.82 1568.97 1610.58 1565.91 Q1607.36 1562.82 1607.36 1557.67 Q1607.36 1551.65 1611.37 1548.6 Q1615.41 1545.54 1623.4 1545.54 L1631.61 1545.54 L1631.61 1544.97 Q1631.61 1540.93 1628.94 1538.73 Q1626.3 1536.5 1621.49 1536.5 Q1618.44 1536.5 1615.54 1537.23 Q1612.64 1537.97 1609.97 1539.43 L1609.97 1534.02 Q1613.18 1532.78 1616.21 1532.17 Q1619.23 1531.54 1622.1 1531.54 Q1629.83 1531.54 1633.65 1535.55 Q1637.47 1539.56 1637.47 1547.71 Z\" fill=\"#000000\" fill-rule=\"evenodd\" fill-opacity=\"1\" /><path clip-path=\"url(#clip010)\" d=\"M1649.53 1518.52 L1655.39 1518.52 L1655.39 1568.04 L1649.53 1568.04 L1649.53 1518.52 Z\" fill=\"#000000\" fill-rule=\"evenodd\" fill-opacity=\"1\" /><path clip-path=\"url(#clip010)\" d=\"M1667.04 1553.98 L1667.04 1532.4 L1672.9 1532.4 L1672.9 1553.75 Q1672.9 1558.81 1674.87 1561.36 Q1676.84 1563.87 1680.79 1563.87 Q1685.53 1563.87 1688.27 1560.85 Q1691.04 1557.83 1691.04 1552.61 L1691.04 1532.4 L1696.89 1532.4 L1696.89 1568.04 L1691.04 1568.04 L1691.04 1562.57 Q1688.91 1565.82 1686.07 1567.41 Q1683.27 1568.97 1679.55 1568.97 Q1673.4 1568.97 1670.22 1565.15 Q1667.04 1561.33 1667.04 1553.98 M1681.78 1531.54 L1681.78 1531.54 Z\" fill=\"#000000\" fill-rule=\"evenodd\" fill-opacity=\"1\" /><path clip-path=\"url(#clip010)\" d=\"M1739.45 1548.76 L1739.45 1551.62 L1712.52 1551.62 Q1712.9 1557.67 1716.15 1560.85 Q1719.43 1564 1725.25 1564 Q1728.63 1564 1731.78 1563.17 Q1734.96 1562.35 1738.08 1560.69 L1738.08 1566.23 Q1734.93 1567.57 1731.62 1568.27 Q1728.31 1568.97 1724.9 1568.97 Q1716.37 1568.97 1711.38 1564 Q1706.41 1559.04 1706.41 1550.57 Q1706.41 1541.82 1711.12 1536.69 Q1715.86 1531.54 1723.88 1531.54 Q1731.08 1531.54 1735.25 1536.18 Q1739.45 1540.8 1739.45 1548.76 M1733.59 1547.04 Q1733.53 1542.23 1730.89 1539.37 Q1728.28 1536.5 1723.95 1536.5 Q1719.05 1536.5 1716.09 1539.27 Q1713.16 1542.04 1712.71 1547.07 L1733.59 1547.04 Z\" fill=\"#000000\" fill-rule=\"evenodd\" fill-opacity=\"1\" /><polyline clip-path=\"url(#clip012)\" style=\"stroke:#000000; stroke-linecap:butt; stroke-linejoin:round; stroke-width:2; stroke-opacity:0.1; fill:none\" points=\"\n",
       "  259.005,1315.55 2352.76,1315.55 \n",
       "  \"/>\n",
       "<polyline clip-path=\"url(#clip012)\" style=\"stroke:#000000; stroke-linecap:butt; stroke-linejoin:round; stroke-width:2; stroke-opacity:0.1; fill:none\" points=\"\n",
       "  259.005,1225.18 2352.76,1225.18 \n",
       "  \"/>\n",
       "<polyline clip-path=\"url(#clip012)\" style=\"stroke:#000000; stroke-linecap:butt; stroke-linejoin:round; stroke-width:2; stroke-opacity:0.1; fill:none\" points=\"\n",
       "  259.005,1134.81 2352.76,1134.81 \n",
       "  \"/>\n",
       "<polyline clip-path=\"url(#clip012)\" style=\"stroke:#000000; stroke-linecap:butt; stroke-linejoin:round; stroke-width:2; stroke-opacity:0.1; fill:none\" points=\"\n",
       "  259.005,1044.44 2352.76,1044.44 \n",
       "  \"/>\n",
       "<polyline clip-path=\"url(#clip012)\" style=\"stroke:#000000; stroke-linecap:butt; stroke-linejoin:round; stroke-width:2; stroke-opacity:0.1; fill:none\" points=\"\n",
       "  259.005,954.066 2352.76,954.066 \n",
       "  \"/>\n",
       "<polyline clip-path=\"url(#clip012)\" style=\"stroke:#000000; stroke-linecap:butt; stroke-linejoin:round; stroke-width:2; stroke-opacity:0.1; fill:none\" points=\"\n",
       "  259.005,863.696 2352.76,863.696 \n",
       "  \"/>\n",
       "<polyline clip-path=\"url(#clip012)\" style=\"stroke:#000000; stroke-linecap:butt; stroke-linejoin:round; stroke-width:2; stroke-opacity:0.1; fill:none\" points=\"\n",
       "  259.005,773.326 2352.76,773.326 \n",
       "  \"/>\n",
       "<polyline clip-path=\"url(#clip012)\" style=\"stroke:#000000; stroke-linecap:butt; stroke-linejoin:round; stroke-width:2; stroke-opacity:0.1; fill:none\" points=\"\n",
       "  259.005,682.956 2352.76,682.956 \n",
       "  \"/>\n",
       "<polyline clip-path=\"url(#clip012)\" style=\"stroke:#000000; stroke-linecap:butt; stroke-linejoin:round; stroke-width:2; stroke-opacity:0.1; fill:none\" points=\"\n",
       "  259.005,592.586 2352.76,592.586 \n",
       "  \"/>\n",
       "<polyline clip-path=\"url(#clip012)\" style=\"stroke:#000000; stroke-linecap:butt; stroke-linejoin:round; stroke-width:2; stroke-opacity:0.1; fill:none\" points=\"\n",
       "  259.005,502.216 2352.76,502.216 \n",
       "  \"/>\n",
       "<polyline clip-path=\"url(#clip012)\" style=\"stroke:#000000; stroke-linecap:butt; stroke-linejoin:round; stroke-width:2; stroke-opacity:0.1; fill:none\" points=\"\n",
       "  259.005,411.846 2352.76,411.846 \n",
       "  \"/>\n",
       "<polyline clip-path=\"url(#clip012)\" style=\"stroke:#000000; stroke-linecap:butt; stroke-linejoin:round; stroke-width:2; stroke-opacity:0.1; fill:none\" points=\"\n",
       "  259.005,321.476 2352.76,321.476 \n",
       "  \"/>\n",
       "<polyline clip-path=\"url(#clip012)\" style=\"stroke:#000000; stroke-linecap:butt; stroke-linejoin:round; stroke-width:2; stroke-opacity:0.1; fill:none\" points=\"\n",
       "  259.005,231.106 2352.76,231.106 \n",
       "  \"/>\n",
       "<polyline clip-path=\"url(#clip010)\" style=\"stroke:#000000; stroke-linecap:butt; stroke-linejoin:round; stroke-width:4; stroke-opacity:1; fill:none\" points=\"\n",
       "  259.005,1423.18 259.005,123.472 \n",
       "  \"/>\n",
       "<polyline clip-path=\"url(#clip010)\" style=\"stroke:#000000; stroke-linecap:butt; stroke-linejoin:round; stroke-width:4; stroke-opacity:1; fill:none\" points=\"\n",
       "  259.005,1315.55 277.903,1315.55 \n",
       "  \"/>\n",
       "<polyline clip-path=\"url(#clip010)\" style=\"stroke:#000000; stroke-linecap:butt; stroke-linejoin:round; stroke-width:4; stroke-opacity:1; fill:none\" points=\"\n",
       "  259.005,1225.18 277.903,1225.18 \n",
       "  \"/>\n",
       "<polyline clip-path=\"url(#clip010)\" style=\"stroke:#000000; stroke-linecap:butt; stroke-linejoin:round; stroke-width:4; stroke-opacity:1; fill:none\" points=\"\n",
       "  259.005,1134.81 277.903,1134.81 \n",
       "  \"/>\n",
       "<polyline clip-path=\"url(#clip010)\" style=\"stroke:#000000; stroke-linecap:butt; stroke-linejoin:round; stroke-width:4; stroke-opacity:1; fill:none\" points=\"\n",
       "  259.005,1044.44 277.903,1044.44 \n",
       "  \"/>\n",
       "<polyline clip-path=\"url(#clip010)\" style=\"stroke:#000000; stroke-linecap:butt; stroke-linejoin:round; stroke-width:4; stroke-opacity:1; fill:none\" points=\"\n",
       "  259.005,954.066 277.903,954.066 \n",
       "  \"/>\n",
       "<polyline clip-path=\"url(#clip010)\" style=\"stroke:#000000; stroke-linecap:butt; stroke-linejoin:round; stroke-width:4; stroke-opacity:1; fill:none\" points=\"\n",
       "  259.005,863.696 277.903,863.696 \n",
       "  \"/>\n",
       "<polyline clip-path=\"url(#clip010)\" style=\"stroke:#000000; stroke-linecap:butt; stroke-linejoin:round; stroke-width:4; stroke-opacity:1; fill:none\" points=\"\n",
       "  259.005,773.326 277.903,773.326 \n",
       "  \"/>\n",
       "<polyline clip-path=\"url(#clip010)\" style=\"stroke:#000000; stroke-linecap:butt; stroke-linejoin:round; stroke-width:4; stroke-opacity:1; fill:none\" points=\"\n",
       "  259.005,682.956 277.903,682.956 \n",
       "  \"/>\n",
       "<polyline clip-path=\"url(#clip010)\" style=\"stroke:#000000; stroke-linecap:butt; stroke-linejoin:round; stroke-width:4; stroke-opacity:1; fill:none\" points=\"\n",
       "  259.005,592.586 277.903,592.586 \n",
       "  \"/>\n",
       "<polyline clip-path=\"url(#clip010)\" style=\"stroke:#000000; stroke-linecap:butt; stroke-linejoin:round; stroke-width:4; stroke-opacity:1; fill:none\" points=\"\n",
       "  259.005,502.216 277.903,502.216 \n",
       "  \"/>\n",
       "<polyline clip-path=\"url(#clip010)\" style=\"stroke:#000000; stroke-linecap:butt; stroke-linejoin:round; stroke-width:4; stroke-opacity:1; fill:none\" points=\"\n",
       "  259.005,411.846 277.903,411.846 \n",
       "  \"/>\n",
       "<polyline clip-path=\"url(#clip010)\" style=\"stroke:#000000; stroke-linecap:butt; stroke-linejoin:round; stroke-width:4; stroke-opacity:1; fill:none\" points=\"\n",
       "  259.005,321.476 277.903,321.476 \n",
       "  \"/>\n",
       "<polyline clip-path=\"url(#clip010)\" style=\"stroke:#000000; stroke-linecap:butt; stroke-linejoin:round; stroke-width:4; stroke-opacity:1; fill:none\" points=\"\n",
       "  259.005,231.106 277.903,231.106 \n",
       "  \"/>\n",
       "<path clip-path=\"url(#clip010)\" d=\"M138.955 1300.93 L138.955 1305.86 Q136.594 1303.66 133.908 1302.57 Q131.246 1301.48 128.237 1301.48 Q122.311 1301.48 119.163 1305.12 Q116.015 1308.73 116.015 1315.58 Q116.015 1322.41 119.163 1326.04 Q122.311 1329.65 128.237 1329.65 Q131.246 1329.65 133.908 1328.57 Q136.594 1327.48 138.955 1325.28 L138.955 1330.16 Q136.501 1331.83 133.746 1332.66 Q131.015 1333.5 127.959 1333.5 Q120.112 1333.5 115.598 1328.71 Q111.084 1323.89 111.084 1315.58 Q111.084 1307.25 115.598 1302.46 Q120.112 1297.64 127.959 1297.64 Q131.061 1297.64 133.793 1298.47 Q136.547 1299.28 138.955 1300.93 Z\" fill=\"#000000\" fill-rule=\"evenodd\" fill-opacity=\"1\" /><path clip-path=\"url(#clip010)\" d=\"M167.542 1317.18 L167.542 1332.83 L163.283 1332.83 L163.283 1317.32 Q163.283 1313.64 161.848 1311.81 Q160.413 1309.98 157.542 1309.98 Q154.093 1309.98 152.103 1312.18 Q150.112 1314.38 150.112 1318.17 L150.112 1332.83 L145.83 1332.83 L145.83 1296.81 L150.112 1296.81 L150.112 1310.93 Q151.64 1308.59 153.7 1307.43 Q155.783 1306.27 158.492 1306.27 Q162.959 1306.27 165.251 1309.05 Q167.542 1311.81 167.542 1317.18 Z\" fill=\"#000000\" fill-rule=\"evenodd\" fill-opacity=\"1\" /><path clip-path=\"url(#clip010)\" d=\"M187.82 1319.79 Q182.658 1319.79 180.667 1320.97 Q178.677 1322.15 178.677 1325 Q178.677 1327.27 180.158 1328.61 Q181.663 1329.93 184.232 1329.93 Q187.774 1329.93 189.903 1327.43 Q192.056 1324.91 192.056 1320.74 L192.056 1319.79 L187.82 1319.79 M196.315 1318.03 L196.315 1332.83 L192.056 1332.83 L192.056 1328.89 Q190.598 1331.25 188.422 1332.39 Q186.246 1333.5 183.098 1333.5 Q179.116 1333.5 176.755 1331.27 Q174.417 1329.03 174.417 1325.28 Q174.417 1320.9 177.334 1318.68 Q180.274 1316.46 186.084 1316.46 L192.056 1316.46 L192.056 1316.04 Q192.056 1313.1 190.112 1311.51 Q188.19 1309.89 184.695 1309.89 Q182.473 1309.89 180.366 1310.42 Q178.26 1310.95 176.316 1312.02 L176.316 1308.08 Q178.653 1307.18 180.853 1306.74 Q183.052 1306.27 185.135 1306.27 Q190.76 1306.27 193.538 1309.19 Q196.315 1312.11 196.315 1318.03 Z\" fill=\"#000000\" fill-rule=\"evenodd\" fill-opacity=\"1\" /><path clip-path=\"url(#clip010)\" d=\"M221.616 1307.66 L221.616 1311.69 Q219.811 1310.77 217.866 1310.3 Q215.922 1309.84 213.838 1309.84 Q210.667 1309.84 209.07 1310.81 Q207.496 1311.78 207.496 1313.73 Q207.496 1315.21 208.63 1316.07 Q209.764 1316.9 213.19 1317.66 L214.649 1317.99 Q219.186 1318.96 221.084 1320.74 Q223.005 1322.5 223.005 1325.67 Q223.005 1329.28 220.135 1331.39 Q217.288 1333.5 212.288 1333.5 Q210.204 1333.5 207.936 1333.08 Q205.69 1332.69 203.19 1331.88 L203.19 1327.48 Q205.551 1328.71 207.843 1329.33 Q210.135 1329.93 212.38 1329.93 Q215.389 1329.93 217.01 1328.91 Q218.63 1327.87 218.63 1326 Q218.63 1324.26 217.45 1323.33 Q216.292 1322.41 212.334 1321.55 L210.852 1321.21 Q206.894 1320.37 205.135 1318.66 Q203.376 1316.92 203.376 1313.91 Q203.376 1310.26 205.968 1308.27 Q208.561 1306.27 213.329 1306.27 Q215.69 1306.27 217.774 1306.62 Q219.857 1306.97 221.616 1307.66 Z\" fill=\"#000000\" fill-rule=\"evenodd\" fill-opacity=\"1\" /><path clip-path=\"url(#clip010)\" d=\"M157.311 1226.25 Q158.816 1226.76 160.228 1228.43 Q161.663 1230.09 163.098 1233.01 L167.843 1242.46 L162.82 1242.46 L158.399 1233.59 Q156.686 1230.12 155.066 1228.98 Q153.468 1227.85 150.691 1227.85 L145.598 1227.85 L145.598 1242.46 L140.922 1242.46 L140.922 1207.9 L151.478 1207.9 Q157.404 1207.9 160.32 1210.37 Q163.237 1212.85 163.237 1217.85 Q163.237 1221.11 161.709 1223.27 Q160.205 1225.42 157.311 1226.25 M145.598 1211.74 L145.598 1224.01 L151.478 1224.01 Q154.857 1224.01 156.57 1222.46 Q158.306 1220.88 158.306 1217.85 Q158.306 1214.82 156.57 1213.29 Q154.857 1211.74 151.478 1211.74 L145.598 1211.74 Z\" fill=\"#000000\" fill-rule=\"evenodd\" fill-opacity=\"1\" /><path clip-path=\"url(#clip010)\" d=\"M184.417 1229.42 Q179.255 1229.42 177.265 1230.6 Q175.274 1231.78 175.274 1234.63 Q175.274 1236.9 176.755 1238.24 Q178.26 1239.56 180.829 1239.56 Q184.371 1239.56 186.501 1237.06 Q188.653 1234.54 188.653 1230.37 L188.653 1229.42 L184.417 1229.42 M192.913 1227.66 L192.913 1242.46 L188.653 1242.46 L188.653 1238.52 Q187.195 1240.88 185.019 1242.02 Q182.843 1243.13 179.695 1243.13 Q175.714 1243.13 173.353 1240.9 Q171.015 1238.66 171.015 1234.91 Q171.015 1230.53 173.931 1228.31 Q176.871 1226.09 182.681 1226.09 L188.653 1226.09 L188.653 1225.67 Q188.653 1222.73 186.709 1221.14 Q184.788 1219.52 181.292 1219.52 Q179.07 1219.52 176.964 1220.05 Q174.857 1220.58 172.913 1221.65 L172.913 1217.71 Q175.251 1216.81 177.45 1216.37 Q179.649 1215.9 181.732 1215.9 Q187.357 1215.9 190.135 1218.82 Q192.913 1221.74 192.913 1227.66 Z\" fill=\"#000000\" fill-rule=\"evenodd\" fill-opacity=\"1\" /><path clip-path=\"url(#clip010)\" d=\"M218.746 1220.47 L218.746 1206.44 L223.005 1206.44 L223.005 1242.46 L218.746 1242.46 L218.746 1238.57 Q217.403 1240.88 215.343 1242.02 Q213.306 1243.13 210.436 1243.13 Q205.737 1243.13 202.774 1239.38 Q199.834 1235.63 199.834 1229.52 Q199.834 1223.4 202.774 1219.65 Q205.737 1215.9 210.436 1215.9 Q213.306 1215.9 215.343 1217.04 Q217.403 1218.15 218.746 1220.47 M204.232 1229.52 Q204.232 1234.21 206.153 1236.9 Q208.098 1239.56 211.477 1239.56 Q214.857 1239.56 216.801 1236.9 Q218.746 1234.21 218.746 1229.52 Q218.746 1224.82 216.801 1222.15 Q214.857 1219.47 211.477 1219.47 Q208.098 1219.47 206.153 1222.15 Q204.232 1224.82 204.232 1229.52 Z\" fill=\"#000000\" fill-rule=\"evenodd\" fill-opacity=\"1\" /><path clip-path=\"url(#clip010)\" d=\"M104.209 1135.58 L104.209 1148.24 L111.709 1148.24 Q115.483 1148.24 117.288 1146.69 Q119.117 1145.12 119.117 1141.9 Q119.117 1138.66 117.288 1137.13 Q115.483 1135.58 111.709 1135.58 L104.209 1135.58 M104.209 1121.37 L104.209 1131.78 L111.131 1131.78 Q114.557 1131.78 116.223 1130.51 Q117.913 1129.22 117.913 1126.58 Q117.913 1123.96 116.223 1122.66 Q114.557 1121.37 111.131 1121.37 L104.209 1121.37 M99.5335 1117.53 L111.478 1117.53 Q116.825 1117.53 119.719 1119.75 Q122.612 1121.97 122.612 1126.07 Q122.612 1129.24 121.131 1131.11 Q119.649 1132.99 116.779 1133.45 Q120.228 1134.19 122.126 1136.55 Q124.047 1138.89 124.047 1142.41 Q124.047 1147.04 120.899 1149.56 Q117.751 1152.09 111.941 1152.09 L99.5335 1152.09 L99.5335 1117.53 Z\" fill=\"#000000\" fill-rule=\"evenodd\" fill-opacity=\"1\" /><path clip-path=\"url(#clip010)\" d=\"M131.871 1116.07 L136.131 1116.07 L136.131 1152.09 L131.871 1152.09 L131.871 1116.07 Z\" fill=\"#000000\" fill-rule=\"evenodd\" fill-opacity=\"1\" /><path clip-path=\"url(#clip010)\" d=\"M156.825 1139.05 Q151.663 1139.05 149.672 1140.23 Q147.681 1141.41 147.681 1144.26 Q147.681 1146.53 149.163 1147.87 Q150.668 1149.19 153.237 1149.19 Q156.779 1149.19 158.908 1146.69 Q161.061 1144.17 161.061 1140 L161.061 1139.05 L156.825 1139.05 M165.32 1137.29 L165.32 1152.09 L161.061 1152.09 L161.061 1148.15 Q159.603 1150.51 157.427 1151.65 Q155.251 1152.76 152.103 1152.76 Q148.121 1152.76 145.76 1150.53 Q143.422 1148.29 143.422 1144.54 Q143.422 1140.16 146.339 1137.94 Q149.279 1135.72 155.089 1135.72 L161.061 1135.72 L161.061 1135.3 Q161.061 1132.36 159.117 1130.77 Q157.195 1129.15 153.7 1129.15 Q151.478 1129.15 149.371 1129.68 Q147.265 1130.21 145.32 1131.28 L145.32 1127.34 Q147.658 1126.44 149.857 1126 Q152.056 1125.53 154.14 1125.53 Q159.765 1125.53 162.542 1128.45 Q165.32 1131.37 165.32 1137.29 Z\" fill=\"#000000\" fill-rule=\"evenodd\" fill-opacity=\"1\" /><path clip-path=\"url(#clip010)\" d=\"M192.751 1127.16 L192.751 1131.14 Q190.945 1130.14 189.116 1129.66 Q187.311 1129.15 185.459 1129.15 Q181.316 1129.15 179.024 1131.78 Q176.732 1134.4 176.732 1139.15 Q176.732 1143.89 179.024 1146.53 Q181.316 1149.15 185.459 1149.15 Q187.311 1149.15 189.116 1148.66 Q190.945 1148.15 192.751 1147.16 L192.751 1151.09 Q190.968 1151.92 189.047 1152.34 Q187.149 1152.76 184.996 1152.76 Q179.14 1152.76 175.691 1149.08 Q172.241 1145.4 172.241 1139.15 Q172.241 1132.8 175.714 1129.17 Q179.209 1125.53 185.274 1125.53 Q187.241 1125.53 189.116 1125.95 Q190.991 1126.35 192.751 1127.16 Z\" fill=\"#000000\" fill-rule=\"evenodd\" fill-opacity=\"1\" /><path clip-path=\"url(#clip010)\" d=\"M199.996 1116.07 L204.278 1116.07 L204.278 1137.34 L216.987 1126.16 L222.426 1126.16 L208.676 1138.29 L223.005 1152.09 L217.45 1152.09 L204.278 1139.42 L204.278 1152.09 L199.996 1152.09 L199.996 1116.07 Z\" fill=\"#000000\" fill-rule=\"evenodd\" fill-opacity=\"1\" /><path clip-path=\"url(#clip010)\" d=\"M167.172 1027.16 L194.325 1027.16 L194.325 1030.72 L172.473 1057.78 L194.857 1057.78 L194.857 1061.72 L166.64 1061.72 L166.64 1058.15 L188.491 1031.09 L167.172 1031.09 L167.172 1027.16 Z\" fill=\"#000000\" fill-rule=\"evenodd\" fill-opacity=\"1\" /><path clip-path=\"url(#clip010)\" d=\"M223.005 1046.07 L223.005 1061.72 L218.746 1061.72 L218.746 1046.21 Q218.746 1042.53 217.311 1040.7 Q215.876 1038.87 213.005 1038.87 Q209.556 1038.87 207.565 1041.07 Q205.575 1043.27 205.575 1047.06 L205.575 1061.72 L201.292 1061.72 L201.292 1035.79 L205.575 1035.79 L205.575 1039.82 Q207.102 1037.48 209.163 1036.32 Q211.246 1035.17 213.954 1035.17 Q218.422 1035.17 220.713 1037.94 Q223.005 1040.7 223.005 1046.07 Z\" fill=\"#000000\" fill-rule=\"evenodd\" fill-opacity=\"1\" /><path clip-path=\"url(#clip010)\" d=\"M128.376 936.786 L134.672 936.786 L149.996 965.698 L149.996 936.786 L154.533 936.786 L154.533 971.346 L148.237 971.346 L132.913 942.434 L132.913 971.346 L128.376 971.346 L128.376 936.786 Z\" fill=\"#000000\" fill-rule=\"evenodd\" fill-opacity=\"1\" /><path clip-path=\"url(#clip010)\" d=\"M177.866 939.957 Q172.774 939.957 169.765 943.753 Q166.779 947.55 166.779 954.101 Q166.779 960.628 169.765 964.425 Q172.774 968.221 177.866 968.221 Q182.959 968.221 185.922 964.425 Q188.908 960.628 188.908 954.101 Q188.908 947.55 185.922 943.753 Q182.959 939.957 177.866 939.957 M177.866 936.161 Q185.135 936.161 189.487 941.045 Q193.839 945.906 193.839 954.101 Q193.839 962.272 189.487 967.156 Q185.135 972.017 177.866 972.017 Q170.575 972.017 166.2 967.156 Q161.848 962.295 161.848 954.101 Q161.848 945.906 166.2 941.045 Q170.575 936.161 177.866 936.161 Z\" fill=\"#000000\" fill-rule=\"evenodd\" fill-opacity=\"1\" /><path clip-path=\"url(#clip010)\" d=\"M222.519 945.42 L213.144 958.036 L223.005 971.346 L217.982 971.346 L210.436 961.161 L202.889 971.346 L197.866 971.346 L207.936 957.781 L198.723 945.42 L203.746 945.42 L210.621 954.656 L217.496 945.42 L222.519 945.42 Z\" fill=\"#000000\" fill-rule=\"evenodd\" fill-opacity=\"1\" /><path clip-path=\"url(#clip010)\" d=\"M150.043 851.022 L143.7 868.221 L156.408 868.221 L150.043 851.022 M147.404 846.416 L152.705 846.416 L165.876 880.976 L161.015 880.976 L157.867 872.11 L142.288 872.11 L139.14 880.976 L134.209 880.976 L147.404 846.416 Z\" fill=\"#000000\" fill-rule=\"evenodd\" fill-opacity=\"1\" /><path clip-path=\"url(#clip010)\" d=\"M187.797 867.712 Q187.797 863.083 185.876 860.536 Q183.978 857.99 180.528 857.99 Q177.103 857.99 175.181 860.536 Q173.283 863.083 173.283 867.712 Q173.283 872.319 175.181 874.865 Q177.103 877.411 180.528 877.411 Q183.978 877.411 185.876 874.865 Q187.797 872.319 187.797 867.712 M192.056 877.758 Q192.056 884.379 189.116 887.596 Q186.177 890.837 180.112 890.837 Q177.866 890.837 175.876 890.49 Q173.885 890.166 172.01 889.471 L172.01 885.328 Q173.885 886.346 175.714 886.832 Q177.542 887.318 179.441 887.318 Q183.63 887.318 185.714 885.119 Q187.797 882.944 187.797 878.522 L187.797 876.416 Q186.478 878.707 184.417 879.842 Q182.357 880.976 179.487 880.976 Q174.718 880.976 171.802 877.342 Q168.885 873.707 168.885 867.712 Q168.885 861.694 171.802 858.059 Q174.718 854.425 179.487 854.425 Q182.357 854.425 184.417 855.559 Q186.478 856.694 187.797 858.985 L187.797 855.05 L192.056 855.05 L192.056 877.758 Z\" fill=\"#000000\" fill-rule=\"evenodd\" fill-opacity=\"1\" /><path clip-path=\"url(#clip010)\" d=\"M223.005 866.948 L223.005 869.032 L203.422 869.032 Q203.7 873.43 206.061 875.744 Q208.445 878.036 212.681 878.036 Q215.135 878.036 217.426 877.434 Q219.741 876.832 222.01 875.629 L222.01 879.656 Q219.718 880.629 217.311 881.138 Q214.903 881.647 212.426 881.647 Q206.223 881.647 202.589 878.036 Q198.977 874.425 198.977 868.268 Q198.977 861.902 202.403 858.175 Q205.852 854.425 211.686 854.425 Q216.917 854.425 219.95 857.805 Q223.005 861.161 223.005 866.948 M218.746 865.698 Q218.7 862.203 216.778 860.12 Q214.88 858.036 211.732 858.036 Q208.167 858.036 206.014 860.05 Q203.885 862.064 203.561 865.721 L218.746 865.698 Z\" fill=\"#000000\" fill-rule=\"evenodd\" fill-opacity=\"1\" /><path clip-path=\"url(#clip010)\" d=\"M146.2 756.046 L175.436 756.046 L175.436 759.981 L163.167 759.981 L163.167 790.606 L158.468 790.606 L158.468 759.981 L146.2 759.981 L146.2 756.046 Z\" fill=\"#000000\" fill-rule=\"evenodd\" fill-opacity=\"1\" /><path clip-path=\"url(#clip010)\" d=\"M183.7 777.574 Q178.538 777.574 176.547 778.754 Q174.556 779.935 174.556 782.782 Q174.556 785.05 176.038 786.393 Q177.542 787.712 180.112 787.712 Q183.653 787.712 185.783 785.212 Q187.936 782.689 187.936 778.523 L187.936 777.574 L183.7 777.574 M192.195 775.814 L192.195 790.606 L187.936 790.606 L187.936 786.671 Q186.478 789.032 184.302 790.166 Q182.126 791.277 178.978 791.277 Q174.996 791.277 172.635 789.055 Q170.297 786.81 170.297 783.06 Q170.297 778.685 173.214 776.463 Q176.153 774.24 181.964 774.24 L187.936 774.24 L187.936 773.824 Q187.936 770.884 185.991 769.287 Q184.07 767.666 180.575 767.666 Q178.353 767.666 176.246 768.199 Q174.14 768.731 172.195 769.796 L172.195 765.861 Q174.533 764.958 176.732 764.518 Q178.931 764.055 181.015 764.055 Q186.64 764.055 189.417 766.972 Q192.195 769.889 192.195 775.814 Z\" fill=\"#000000\" fill-rule=\"evenodd\" fill-opacity=\"1\" /><path clip-path=\"url(#clip010)\" d=\"M222.519 764.68 L213.144 777.296 L223.005 790.606 L217.982 790.606 L210.436 780.421 L202.889 790.606 L197.866 790.606 L207.936 777.041 L198.723 764.68 L203.746 764.68 L210.621 773.916 L217.496 764.68 L222.519 764.68 Z\" fill=\"#000000\" fill-rule=\"evenodd\" fill-opacity=\"1\" /><path clip-path=\"url(#clip010)\" d=\"M145.621 668.338 L145.621 673.269 Q143.26 671.07 140.575 669.982 Q137.913 668.894 134.904 668.894 Q128.978 668.894 125.83 672.528 Q122.682 676.139 122.682 682.991 Q122.682 689.819 125.83 693.454 Q128.978 697.065 134.904 697.065 Q137.913 697.065 140.575 695.977 Q143.26 694.889 145.621 692.69 L145.621 697.574 Q143.168 699.241 140.413 700.074 Q137.681 700.907 134.626 700.907 Q126.779 700.907 122.265 696.116 Q117.751 691.301 117.751 682.991 Q117.751 674.657 122.265 669.866 Q126.779 665.051 134.626 665.051 Q137.728 665.051 140.459 665.884 Q143.214 666.695 145.621 668.338 Z\" fill=\"#000000\" fill-rule=\"evenodd\" fill-opacity=\"1\" /><path clip-path=\"url(#clip010)\" d=\"M167.681 678.292 Q166.964 677.875 166.107 677.69 Q165.274 677.482 164.255 677.482 Q160.644 677.482 158.7 679.843 Q156.779 682.181 156.779 686.579 L156.779 700.236 L152.496 700.236 L152.496 674.31 L156.779 674.31 L156.779 678.338 Q158.121 675.977 160.274 674.843 Q162.427 673.685 165.505 673.685 Q165.945 673.685 166.478 673.755 Q167.01 673.801 167.658 673.917 L167.681 678.292 Z\" fill=\"#000000\" fill-rule=\"evenodd\" fill-opacity=\"1\" /><path clip-path=\"url(#clip010)\" d=\"M172.149 674.31 L176.408 674.31 L176.408 700.236 L172.149 700.236 L172.149 674.31 M172.149 664.218 L176.408 664.218 L176.408 669.611 L172.149 669.611 L172.149 664.218 Z\" fill=\"#000000\" fill-rule=\"evenodd\" fill-opacity=\"1\" /><path clip-path=\"url(#clip010)\" d=\"M205.505 679.287 Q207.102 676.417 209.325 675.051 Q211.547 673.685 214.556 673.685 Q218.607 673.685 220.806 676.532 Q223.005 679.357 223.005 684.588 L223.005 700.236 L218.723 700.236 L218.723 684.727 Q218.723 681 217.403 679.194 Q216.084 677.389 213.376 677.389 Q210.065 677.389 208.144 679.588 Q206.223 681.787 206.223 685.583 L206.223 700.236 L201.94 700.236 L201.94 684.727 Q201.94 680.977 200.621 679.194 Q199.302 677.389 196.547 677.389 Q193.283 677.389 191.362 679.611 Q189.44 681.81 189.44 685.583 L189.44 700.236 L185.158 700.236 L185.158 674.31 L189.44 674.31 L189.44 678.338 Q190.899 675.954 192.936 674.82 Q194.973 673.685 197.774 673.685 Q200.598 673.685 202.565 675.12 Q204.556 676.556 205.505 679.287 Z\" fill=\"#000000\" fill-rule=\"evenodd\" fill-opacity=\"1\" /><path clip-path=\"url(#clip010)\" d=\"M101.108 575.306 L105.783 575.306 L105.783 609.866 L101.108 609.866 L101.108 575.306 Z\" fill=\"#000000\" fill-rule=\"evenodd\" fill-opacity=\"1\" /><path clip-path=\"url(#clip010)\" d=\"M136.455 594.218 L136.455 609.866 L132.195 609.866 L132.195 594.357 Q132.195 590.676 130.76 588.848 Q129.325 587.019 126.455 587.019 Q123.006 587.019 121.015 589.218 Q119.024 591.417 119.024 595.213 L119.024 609.866 L114.742 609.866 L114.742 583.94 L119.024 583.94 L119.024 587.968 Q120.552 585.63 122.612 584.473 Q124.695 583.315 127.404 583.315 Q131.871 583.315 134.163 586.093 Q136.455 588.848 136.455 594.218 Z\" fill=\"#000000\" fill-rule=\"evenodd\" fill-opacity=\"1\" /><path clip-path=\"url(#clip010)\" d=\"M162.01 587.875 L162.01 573.848 L166.269 573.848 L166.269 609.866 L162.01 609.866 L162.01 605.977 Q160.667 608.292 158.607 609.426 Q156.57 610.537 153.7 610.537 Q149.001 610.537 146.038 606.787 Q143.098 603.037 143.098 596.926 Q143.098 590.815 146.038 587.065 Q149.001 583.315 153.7 583.315 Q156.57 583.315 158.607 584.45 Q160.667 585.561 162.01 587.875 M147.496 596.926 Q147.496 601.625 149.418 604.311 Q151.362 606.973 154.742 606.973 Q158.121 606.973 160.066 604.311 Q162.01 601.625 162.01 596.926 Q162.01 592.227 160.066 589.565 Q158.121 586.88 154.742 586.88 Q151.362 586.88 149.418 589.565 Q147.496 592.227 147.496 596.926 Z\" fill=\"#000000\" fill-rule=\"evenodd\" fill-opacity=\"1\" /><path clip-path=\"url(#clip010)\" d=\"M174.603 599.635 L174.603 583.94 L178.862 583.94 L178.862 599.473 Q178.862 603.153 180.297 605.005 Q181.732 606.834 184.603 606.834 Q188.052 606.834 190.042 604.635 Q192.056 602.436 192.056 598.639 L192.056 583.94 L196.315 583.94 L196.315 609.866 L192.056 609.866 L192.056 605.885 Q190.505 608.246 188.445 609.403 Q186.408 610.537 183.7 610.537 Q179.232 610.537 176.917 607.76 Q174.603 604.982 174.603 599.635 M185.32 583.315 L185.32 583.315 Z\" fill=\"#000000\" fill-rule=\"evenodd\" fill-opacity=\"1\" /><path clip-path=\"url(#clip010)\" d=\"M221.616 584.704 L221.616 588.732 Q219.811 587.806 217.866 587.343 Q215.922 586.88 213.838 586.88 Q210.667 586.88 209.07 587.852 Q207.496 588.825 207.496 590.769 Q207.496 592.25 208.63 593.107 Q209.764 593.94 213.19 594.704 L214.649 595.028 Q219.186 596 221.084 597.783 Q223.005 599.542 223.005 602.713 Q223.005 606.324 220.135 608.431 Q217.288 610.537 212.288 610.537 Q210.204 610.537 207.936 610.121 Q205.69 609.727 203.19 608.917 L203.19 604.519 Q205.551 605.746 207.843 606.371 Q210.135 606.973 212.38 606.973 Q215.389 606.973 217.01 605.954 Q218.63 604.912 218.63 603.037 Q218.63 601.301 217.45 600.375 Q216.292 599.449 212.334 598.593 L210.852 598.246 Q206.894 597.412 205.135 595.7 Q203.376 593.963 203.376 590.954 Q203.376 587.297 205.968 585.306 Q208.561 583.315 213.329 583.315 Q215.69 583.315 217.774 583.663 Q219.857 584.01 221.616 584.704 Z\" fill=\"#000000\" fill-rule=\"evenodd\" fill-opacity=\"1\" /><path clip-path=\"url(#clip010)\" d=\"M160.274 488.779 L160.274 515.654 L165.922 515.654 Q173.075 515.654 176.385 512.413 Q179.718 509.172 179.718 502.181 Q179.718 495.237 176.385 492.019 Q173.075 488.779 165.922 488.779 L160.274 488.779 M155.598 484.936 L165.204 484.936 Q175.251 484.936 179.95 489.126 Q184.649 493.293 184.649 502.181 Q184.649 511.117 179.927 515.306 Q175.204 519.496 165.204 519.496 L155.598 519.496 L155.598 484.936 Z\" fill=\"#000000\" fill-rule=\"evenodd\" fill-opacity=\"1\" /><path clip-path=\"url(#clip010)\" d=\"M191.917 493.57 L196.177 493.57 L196.177 519.496 L191.917 519.496 L191.917 493.57 M191.917 483.478 L196.177 483.478 L196.177 488.871 L191.917 488.871 L191.917 483.478 Z\" fill=\"#000000\" fill-rule=\"evenodd\" fill-opacity=\"1\" /><path clip-path=\"url(#clip010)\" d=\"M221.616 494.334 L221.616 498.362 Q219.811 497.436 217.866 496.973 Q215.922 496.51 213.838 496.51 Q210.667 496.51 209.07 497.482 Q207.496 498.455 207.496 500.399 Q207.496 501.881 208.63 502.737 Q209.764 503.57 213.19 504.334 L214.649 504.658 Q219.186 505.63 221.084 507.413 Q223.005 509.172 223.005 512.343 Q223.005 515.955 220.135 518.061 Q217.288 520.167 212.288 520.167 Q210.204 520.167 207.936 519.751 Q205.69 519.357 203.19 518.547 L203.19 514.149 Q205.551 515.376 207.843 516.001 Q210.135 516.603 212.38 516.603 Q215.389 516.603 217.01 515.584 Q218.63 514.542 218.63 512.667 Q218.63 510.931 217.45 510.005 Q216.292 509.08 212.334 508.223 L210.852 507.876 Q206.894 507.043 205.135 505.33 Q203.376 503.593 203.376 500.584 Q203.376 496.927 205.968 494.936 Q208.561 492.945 213.329 492.945 Q215.69 492.945 217.774 493.293 Q219.857 493.64 221.616 494.334 Z\" fill=\"#000000\" fill-rule=\"evenodd\" fill-opacity=\"1\" /><path clip-path=\"url(#clip010)\" d=\"M55.668 398.409 L55.668 411.395 L61.5476 411.395 Q64.8115 411.395 66.5939 409.705 Q68.3763 408.015 68.3763 404.89 Q68.3763 401.788 66.5939 400.099 Q64.8115 398.409 61.5476 398.409 L55.668 398.409 M50.9921 394.566 L61.5476 394.566 Q67.3578 394.566 70.3207 397.205 Q73.3068 399.821 73.3068 404.89 Q73.3068 410.006 70.3207 412.622 Q67.3578 415.237 61.5476 415.237 L55.668 415.237 L55.668 429.126 L50.9921 429.126 L50.9921 394.566 Z\" fill=\"#000000\" fill-rule=\"evenodd\" fill-opacity=\"1\" /><path clip-path=\"url(#clip010)\" d=\"M74.7883 394.566 L104.024 394.566 L104.024 398.501 L91.7558 398.501 L91.7558 429.126 L87.0567 429.126 L87.0567 398.501 L74.7883 398.501 L74.7883 394.566 Z\" fill=\"#000000\" fill-rule=\"evenodd\" fill-opacity=\"1\" /><path clip-path=\"url(#clip010)\" d=\"M124.927 412.923 Q126.432 413.432 127.844 415.099 Q129.279 416.765 130.714 419.682 L135.459 429.126 L130.436 429.126 L126.015 420.261 Q124.302 416.788 122.682 415.654 Q121.084 414.52 118.307 414.52 L113.214 414.52 L113.214 429.126 L108.538 429.126 L108.538 394.566 L119.094 394.566 Q125.02 394.566 127.936 397.043 Q130.853 399.52 130.853 404.52 Q130.853 407.784 129.325 409.937 Q127.82 412.089 124.927 412.923 M113.214 398.409 L113.214 410.677 L119.094 410.677 Q122.473 410.677 124.186 409.126 Q125.922 407.552 125.922 404.52 Q125.922 401.487 124.186 399.96 Q122.473 398.409 119.094 398.409 L113.214 398.409 Z\" fill=\"#000000\" fill-rule=\"evenodd\" fill-opacity=\"1\" /><path clip-path=\"url(#clip010)\" d=\"M152.033 416.094 Q146.871 416.094 144.881 417.274 Q142.89 418.455 142.89 421.302 Q142.89 423.571 144.371 424.913 Q145.876 426.233 148.445 426.233 Q151.987 426.233 154.117 423.733 Q156.269 421.21 156.269 417.043 L156.269 416.094 L152.033 416.094 M160.529 414.335 L160.529 429.126 L156.269 429.126 L156.269 425.191 Q154.811 427.552 152.635 428.686 Q150.459 429.798 147.311 429.798 Q143.33 429.798 140.968 427.575 Q138.631 425.33 138.631 421.58 Q138.631 417.205 141.547 414.983 Q144.487 412.761 150.297 412.761 L156.269 412.761 L156.269 412.344 Q156.269 409.404 154.325 407.807 Q152.404 406.187 148.908 406.187 Q146.686 406.187 144.58 406.719 Q142.473 407.251 140.529 408.316 L140.529 404.381 Q142.867 403.478 145.066 403.038 Q147.265 402.575 149.348 402.575 Q154.973 402.575 157.751 405.492 Q160.529 408.409 160.529 414.335 Z\" fill=\"#000000\" fill-rule=\"evenodd\" fill-opacity=\"1\" /><path clip-path=\"url(#clip010)\" d=\"M173.515 395.839 L173.515 403.2 L182.288 403.2 L182.288 406.511 L173.515 406.511 L173.515 420.585 Q173.515 423.756 174.371 424.659 Q175.251 425.561 177.913 425.561 L182.288 425.561 L182.288 429.126 L177.913 429.126 Q172.982 429.126 171.107 427.298 Q169.232 425.446 169.232 420.585 L169.232 406.511 L166.107 406.511 L166.107 403.2 L169.232 403.2 L169.232 395.839 L173.515 395.839 Z\" fill=\"#000000\" fill-rule=\"evenodd\" fill-opacity=\"1\" /><path clip-path=\"url(#clip010)\" d=\"M187.89 403.2 L192.149 403.2 L192.149 429.126 L187.89 429.126 L187.89 403.2 M187.89 393.108 L192.149 393.108 L192.149 398.501 L187.89 398.501 L187.89 393.108 Z\" fill=\"#000000\" fill-rule=\"evenodd\" fill-opacity=\"1\" /><path clip-path=\"url(#clip010)\" d=\"M211.107 406.187 Q207.681 406.187 205.69 408.872 Q203.7 411.534 203.7 416.186 Q203.7 420.839 205.667 423.524 Q207.658 426.186 211.107 426.186 Q214.51 426.186 216.5 423.501 Q218.491 420.816 218.491 416.186 Q218.491 411.58 216.5 408.895 Q214.51 406.187 211.107 406.187 M211.107 402.575 Q216.663 402.575 219.834 406.187 Q223.005 409.798 223.005 416.186 Q223.005 422.552 219.834 426.186 Q216.663 429.798 211.107 429.798 Q205.528 429.798 202.357 426.186 Q199.209 422.552 199.209 416.186 Q199.209 409.798 202.357 406.187 Q205.528 402.575 211.107 402.575 Z\" fill=\"#000000\" fill-rule=\"evenodd\" fill-opacity=\"1\" /><path clip-path=\"url(#clip010)\" d=\"M106.061 304.196 L110.737 304.196 L110.737 334.821 L127.566 334.821 L127.566 338.756 L106.061 338.756 L106.061 304.196 Z\" fill=\"#000000\" fill-rule=\"evenodd\" fill-opacity=\"1\" /><path clip-path=\"url(#clip010)\" d=\"M153.191 305.331 L153.191 309.891 Q150.529 308.618 148.168 307.993 Q145.806 307.368 143.607 307.368 Q139.788 307.368 137.705 308.849 Q135.644 310.331 135.644 313.062 Q135.644 315.354 137.01 316.534 Q138.399 317.692 142.242 318.409 L145.066 318.988 Q150.297 319.983 152.774 322.506 Q155.274 325.006 155.274 329.219 Q155.274 334.242 151.894 336.835 Q148.538 339.428 142.033 339.428 Q139.58 339.428 136.802 338.872 Q134.047 338.316 131.084 337.229 L131.084 332.414 Q133.931 334.011 136.663 334.821 Q139.394 335.631 142.033 335.631 Q146.038 335.631 148.214 334.057 Q150.39 332.483 150.39 329.567 Q150.39 327.02 148.816 325.585 Q147.265 324.15 143.7 323.432 L140.853 322.877 Q135.621 321.835 133.283 319.613 Q130.945 317.391 130.945 313.432 Q130.945 308.849 134.163 306.21 Q137.404 303.571 143.075 303.571 Q145.506 303.571 148.029 304.011 Q150.552 304.451 153.191 305.331 Z\" fill=\"#000000\" fill-rule=\"evenodd\" fill-opacity=\"1\" /><path clip-path=\"url(#clip010)\" d=\"M166.593 305.469 L166.593 312.83 L175.366 312.83 L175.366 316.141 L166.593 316.141 L166.593 330.215 Q166.593 333.386 167.45 334.289 Q168.329 335.191 170.991 335.191 L175.366 335.191 L175.366 338.756 L170.991 338.756 Q166.061 338.756 164.186 336.928 Q162.311 335.076 162.311 330.215 L162.311 316.141 L159.186 316.141 L159.186 312.83 L162.311 312.83 L162.311 305.469 L166.593 305.469 Z\" fill=\"#000000\" fill-rule=\"evenodd\" fill-opacity=\"1\" /><path clip-path=\"url(#clip010)\" d=\"M192.751 325.724 Q187.589 325.724 185.598 326.904 Q183.607 328.085 183.607 330.932 Q183.607 333.201 185.089 334.543 Q186.593 335.863 189.163 335.863 Q192.704 335.863 194.834 333.363 Q196.987 330.84 196.987 326.673 L196.987 325.724 L192.751 325.724 M201.246 323.965 L201.246 338.756 L196.987 338.756 L196.987 334.821 Q195.528 337.182 193.352 338.316 Q191.177 339.428 188.028 339.428 Q184.047 339.428 181.686 337.205 Q179.348 334.96 179.348 331.21 Q179.348 326.835 182.265 324.613 Q185.204 322.391 191.015 322.391 L196.987 322.391 L196.987 321.974 Q196.987 319.034 195.042 317.437 Q193.121 315.817 189.626 315.817 Q187.403 315.817 185.297 316.349 Q183.19 316.881 181.246 317.946 L181.246 314.011 Q183.584 313.108 185.783 312.668 Q187.982 312.205 190.065 312.205 Q195.69 312.205 198.468 315.122 Q201.246 318.039 201.246 323.965 Z\" fill=\"#000000\" fill-rule=\"evenodd\" fill-opacity=\"1\" /><path clip-path=\"url(#clip010)\" d=\"M214.232 305.469 L214.232 312.83 L223.005 312.83 L223.005 316.141 L214.232 316.141 L214.232 330.215 Q214.232 333.386 215.088 334.289 Q215.968 335.191 218.63 335.191 L223.005 335.191 L223.005 338.756 L218.63 338.756 Q213.7 338.756 211.825 336.928 Q209.95 335.076 209.95 330.215 L209.95 316.141 L206.825 316.141 L206.825 312.83 L209.95 312.83 L209.95 305.469 L214.232 305.469 Z\" fill=\"#000000\" fill-rule=\"evenodd\" fill-opacity=\"1\" /><path clip-path=\"url(#clip010)\" d=\"M168.954 232.183 Q170.459 232.692 171.871 234.359 Q173.306 236.025 174.741 238.942 L179.487 248.386 L174.464 248.386 L170.042 239.521 Q168.329 236.048 166.709 234.914 Q165.112 233.78 162.334 233.78 L157.242 233.78 L157.242 248.386 L152.566 248.386 L152.566 213.826 L163.121 213.826 Q169.047 213.826 171.964 216.303 Q174.88 218.78 174.88 223.78 Q174.88 227.044 173.353 229.197 Q171.848 231.349 168.954 232.183 M157.242 217.669 L157.242 229.937 L163.121 229.937 Q166.501 229.937 168.214 228.386 Q169.95 226.812 169.95 223.78 Q169.95 220.748 168.214 219.22 Q166.501 217.669 163.121 217.669 L157.242 217.669 Z\" fill=\"#000000\" fill-rule=\"evenodd\" fill-opacity=\"1\" /><path clip-path=\"url(#clip010)\" d=\"M205.505 227.437 Q207.102 224.567 209.325 223.201 Q211.547 221.836 214.556 221.836 Q218.607 221.836 220.806 224.683 Q223.005 227.507 223.005 232.738 L223.005 248.386 L218.723 248.386 L218.723 232.877 Q218.723 229.15 217.403 227.345 Q216.084 225.539 213.376 225.539 Q210.065 225.539 208.144 227.738 Q206.223 229.937 206.223 233.734 L206.223 248.386 L201.94 248.386 L201.94 232.877 Q201.94 229.127 200.621 227.345 Q199.302 225.539 196.547 225.539 Q193.283 225.539 191.362 227.761 Q189.44 229.961 189.44 233.734 L189.44 248.386 L185.158 248.386 L185.158 222.461 L189.44 222.461 L189.44 226.488 Q190.899 224.104 192.936 222.97 Q194.973 221.836 197.774 221.836 Q200.598 221.836 202.565 223.271 Q204.556 224.706 205.505 227.437 Z\" fill=\"#000000\" fill-rule=\"evenodd\" fill-opacity=\"1\" /><path clip-path=\"url(#clip010)\" d=\"M765.996 44.2197 Q768.629 45.1109 771.1 48.0275 Q773.612 50.9442 776.124 56.0483 L784.428 72.576 L775.637 72.576 L767.9 57.061 Q764.902 50.9847 762.067 48.9997 Q759.272 47.0148 754.411 47.0148 L745.499 47.0148 L745.499 72.576 L737.316 72.576 L737.316 12.096 L755.788 12.096 Q766.158 12.096 771.262 16.4305 Q776.367 20.7649 776.367 29.5149 Q776.367 35.2267 773.693 38.994 Q771.06 42.7613 765.996 44.2197 M745.499 18.8205 L745.499 40.2903 L755.788 40.2903 Q761.702 40.2903 764.7 37.5762 Q767.738 34.8216 767.738 29.5149 Q767.738 24.2082 764.7 21.5346 Q761.702 18.8205 755.788 18.8205 L745.499 18.8205 Z\" fill=\"#000000\" fill-rule=\"evenodd\" fill-opacity=\"1\" /><path clip-path=\"url(#clip010)\" d=\"M813.432 49.7694 Q804.399 49.7694 800.915 51.8354 Q797.431 53.9013 797.431 58.8839 Q797.431 62.8538 800.024 65.2034 Q802.657 67.5124 807.153 67.5124 Q813.351 67.5124 817.078 63.1374 Q820.845 58.7219 820.845 51.4303 L820.845 49.7694 L813.432 49.7694 M828.299 46.6907 L828.299 72.576 L820.845 72.576 L820.845 65.6895 Q818.293 69.8214 814.486 71.8063 Q810.678 73.7508 805.168 73.7508 Q798.201 73.7508 794.069 69.8619 Q789.978 65.9325 789.978 59.3701 Q789.978 51.7138 795.082 47.825 Q800.226 43.9361 810.394 43.9361 L820.845 43.9361 L820.845 43.2069 Q820.845 38.0623 817.443 35.2672 Q814.08 32.4315 807.964 32.4315 Q804.075 32.4315 800.388 33.3632 Q796.702 34.295 793.299 36.1584 L793.299 29.2718 Q797.391 27.692 801.239 26.9223 Q805.087 26.1121 808.733 26.1121 Q818.577 26.1121 823.438 31.2163 Q828.299 36.3204 828.299 46.6907 Z\" fill=\"#000000\" fill-rule=\"evenodd\" fill-opacity=\"1\" /><path clip-path=\"url(#clip010)\" d=\"M881.366 45.1919 L881.366 72.576 L873.912 72.576 L873.912 45.4349 Q873.912 38.994 871.401 35.7938 Q868.889 32.5936 863.866 32.5936 Q857.83 32.5936 854.346 36.4419 Q850.863 40.2903 850.863 46.9338 L850.863 72.576 L843.369 72.576 L843.369 27.2059 L850.863 27.2059 L850.863 34.2544 Q853.536 30.163 857.142 28.1376 Q860.787 26.1121 865.527 26.1121 Q873.345 26.1121 877.356 30.9732 Q881.366 35.7938 881.366 45.1919 Z\" fill=\"#000000\" fill-rule=\"evenodd\" fill-opacity=\"1\" /><path clip-path=\"url(#clip010)\" d=\"M895.949 9.54393 L903.443 9.54393 L903.443 46.7717 L925.683 27.2059 L935.203 27.2059 L911.14 48.4326 L936.215 72.576 L926.493 72.576 L903.443 50.4176 L903.443 72.576 L895.949 72.576 L895.949 9.54393 Z\" fill=\"#000000\" fill-rule=\"evenodd\" fill-opacity=\"1\" /><path clip-path=\"url(#clip010)\" d=\"M980.127 48.0275 L980.127 51.6733 L945.856 51.6733 Q946.342 59.3701 950.474 63.421 Q954.647 67.4314 962.06 67.4314 Q966.354 67.4314 970.364 66.3781 Q974.415 65.3249 978.385 63.2184 L978.385 70.267 Q974.375 71.9684 970.162 72.8596 Q965.949 73.7508 961.614 73.7508 Q950.758 73.7508 944.398 67.4314 Q938.079 61.1119 938.079 50.3365 Q938.079 39.1965 944.074 32.6746 Q950.11 26.1121 960.318 26.1121 Q969.473 26.1121 974.78 32.0264 Q980.127 37.9003 980.127 48.0275 M972.673 45.84 Q972.592 39.7232 969.23 36.0774 Q965.908 32.4315 960.399 32.4315 Q954.161 32.4315 950.393 35.9558 Q946.667 39.4801 946.099 45.8805 L972.673 45.84 Z\" fill=\"#000000\" fill-rule=\"evenodd\" fill-opacity=\"1\" /><path clip-path=\"url(#clip010)\" d=\"M1022.22 34.0924 L1022.22 9.54393 L1029.67 9.54393 L1029.67 72.576 L1022.22 72.576 L1022.22 65.7705 Q1019.87 69.8214 1016.26 71.8063 Q1012.7 73.7508 1007.67 73.7508 Q999.45 73.7508 994.265 67.1883 Q989.12 60.6258 989.12 49.9314 Q989.12 39.2371 994.265 32.6746 Q999.45 26.1121 1007.67 26.1121 Q1012.7 26.1121 1016.26 28.0971 Q1019.87 30.0415 1022.22 34.0924 M996.817 49.9314 Q996.817 58.1548 1000.18 62.8538 Q1003.58 67.5124 1009.5 67.5124 Q1015.41 67.5124 1018.81 62.8538 Q1022.22 58.1548 1022.22 49.9314 Q1022.22 41.7081 1018.81 37.0496 Q1015.41 32.3505 1009.5 32.3505 Q1003.58 32.3505 1000.18 37.0496 Q996.817 41.7081 996.817 49.9314 Z\" fill=\"#000000\" fill-rule=\"evenodd\" fill-opacity=\"1\" /><path clip-path=\"url(#clip010)\" d=\"M1071.72 12.096 L1106.47 12.096 L1106.47 18.9825 L1079.9 18.9825 L1079.9 36.8065 L1103.88 36.8065 L1103.88 43.6931 L1079.9 43.6931 L1079.9 72.576 L1071.72 72.576 L1071.72 12.096 Z\" fill=\"#000000\" fill-rule=\"evenodd\" fill-opacity=\"1\" /><path clip-path=\"url(#clip010)\" d=\"M1153.38 48.0275 L1153.38 51.6733 L1119.11 51.6733 Q1119.6 59.3701 1123.73 63.421 Q1127.9 67.4314 1135.32 67.4314 Q1139.61 67.4314 1143.62 66.3781 Q1147.67 65.3249 1151.64 63.2184 L1151.64 70.267 Q1147.63 71.9684 1143.42 72.8596 Q1139.21 73.7508 1134.87 73.7508 Q1124.02 73.7508 1117.66 67.4314 Q1111.34 61.1119 1111.34 50.3365 Q1111.34 39.1965 1117.33 32.6746 Q1123.37 26.1121 1133.58 26.1121 Q1142.73 26.1121 1148.04 32.0264 Q1153.38 37.9003 1153.38 48.0275 M1145.93 45.84 Q1145.85 39.7232 1142.49 36.0774 Q1139.17 32.4315 1133.66 32.4315 Q1127.42 32.4315 1123.65 35.9558 Q1119.92 39.4801 1119.36 45.8805 L1145.93 45.84 Z\" fill=\"#000000\" fill-rule=\"evenodd\" fill-opacity=\"1\" /><path clip-path=\"url(#clip010)\" d=\"M1186.24 49.7694 Q1177.2 49.7694 1173.72 51.8354 Q1170.24 53.9013 1170.24 58.8839 Q1170.24 62.8538 1172.83 65.2034 Q1175.46 67.5124 1179.96 67.5124 Q1186.16 67.5124 1189.88 63.1374 Q1193.65 58.7219 1193.65 51.4303 L1193.65 49.7694 L1186.24 49.7694 M1201.1 46.6907 L1201.1 72.576 L1193.65 72.576 L1193.65 65.6895 Q1191.1 69.8214 1187.29 71.8063 Q1183.48 73.7508 1177.97 73.7508 Q1171.01 73.7508 1166.87 69.8619 Q1162.78 65.9325 1162.78 59.3701 Q1162.78 51.7138 1167.89 47.825 Q1173.03 43.9361 1183.2 43.9361 L1193.65 43.9361 L1193.65 43.2069 Q1193.65 38.0623 1190.25 35.2672 Q1186.89 32.4315 1180.77 32.4315 Q1176.88 32.4315 1173.19 33.3632 Q1169.51 34.295 1166.1 36.1584 L1166.1 29.2718 Q1170.2 27.692 1174.04 26.9223 Q1177.89 26.1121 1181.54 26.1121 Q1191.38 26.1121 1196.24 31.2163 Q1201.1 36.3204 1201.1 46.6907 Z\" fill=\"#000000\" fill-rule=\"evenodd\" fill-opacity=\"1\" /><path clip-path=\"url(#clip010)\" d=\"M1223.83 14.324 L1223.83 27.2059 L1239.18 27.2059 L1239.18 32.9987 L1223.83 32.9987 L1223.83 57.6282 Q1223.83 63.1779 1225.33 64.7578 Q1226.87 66.3376 1231.53 66.3376 L1239.18 66.3376 L1239.18 72.576 L1231.53 72.576 Q1222.9 72.576 1219.62 69.3758 Q1216.34 66.1351 1216.34 57.6282 L1216.34 32.9987 L1210.87 32.9987 L1210.87 27.2059 L1216.34 27.2059 L1216.34 14.324 L1223.83 14.324 Z\" fill=\"#000000\" fill-rule=\"evenodd\" fill-opacity=\"1\" /><path clip-path=\"url(#clip010)\" d=\"M1248.22 54.671 L1248.22 27.2059 L1255.67 27.2059 L1255.67 54.3874 Q1255.67 60.8284 1258.18 64.0691 Q1260.69 67.2693 1265.72 67.2693 Q1271.75 67.2693 1275.24 63.421 Q1278.76 59.5726 1278.76 52.9291 L1278.76 27.2059 L1286.21 27.2059 L1286.21 72.576 L1278.76 72.576 L1278.76 65.6084 Q1276.05 69.7404 1272.44 71.7658 Q1268.88 73.7508 1264.14 73.7508 Q1256.32 73.7508 1252.27 68.8897 Q1248.22 64.0286 1248.22 54.671 M1266.97 26.1121 L1266.97 26.1121 Z\" fill=\"#000000\" fill-rule=\"evenodd\" fill-opacity=\"1\" /><path clip-path=\"url(#clip010)\" d=\"M1327.86 34.1734 Q1326.6 33.4443 1325.1 33.1202 Q1323.64 32.7556 1321.86 32.7556 Q1315.54 32.7556 1312.14 36.8875 Q1308.78 40.9789 1308.78 48.6757 L1308.78 72.576 L1301.28 72.576 L1301.28 27.2059 L1308.78 27.2059 L1308.78 34.2544 Q1311.13 30.1225 1314.89 28.1376 Q1318.66 26.1121 1324.05 26.1121 Q1324.82 26.1121 1325.75 26.2337 Q1326.68 26.3147 1327.82 26.5172 L1327.86 34.1734 Z\" fill=\"#000000\" fill-rule=\"evenodd\" fill-opacity=\"1\" /><path clip-path=\"url(#clip010)\" d=\"M1372.66 48.0275 L1372.66 51.6733 L1338.39 51.6733 Q1338.88 59.3701 1343.01 63.421 Q1347.18 67.4314 1354.59 67.4314 Q1358.89 67.4314 1362.9 66.3781 Q1366.95 65.3249 1370.92 63.2184 L1370.92 70.267 Q1366.91 71.9684 1362.69 72.8596 Q1358.48 73.7508 1354.15 73.7508 Q1343.29 73.7508 1336.93 67.4314 Q1330.61 61.1119 1330.61 50.3365 Q1330.61 39.1965 1336.61 32.6746 Q1342.64 26.1121 1352.85 26.1121 Q1362.01 26.1121 1367.31 32.0264 Q1372.66 37.9003 1372.66 48.0275 M1365.21 45.84 Q1365.12 39.7232 1361.76 36.0774 Q1358.44 32.4315 1352.93 32.4315 Q1346.69 32.4315 1342.93 35.9558 Q1339.2 39.4801 1338.63 45.8805 L1365.21 45.84 Z\" fill=\"#000000\" fill-rule=\"evenodd\" fill-opacity=\"1\" /><path clip-path=\"url(#clip010)\" d=\"M1411.59 12.096 L1419.77 12.096 L1419.77 72.576 L1411.59 72.576 L1411.59 12.096 Z\" fill=\"#000000\" fill-rule=\"evenodd\" fill-opacity=\"1\" /><path clip-path=\"url(#clip010)\" d=\"M1471.06 35.9153 Q1473.85 30.8922 1477.74 28.5022 Q1481.63 26.1121 1486.9 26.1121 Q1493.98 26.1121 1497.83 31.0947 Q1501.68 36.0368 1501.68 45.1919 L1501.68 72.576 L1494.19 72.576 L1494.19 45.4349 Q1494.19 38.913 1491.88 35.7533 Q1489.57 32.5936 1484.83 32.5936 Q1479.04 32.5936 1475.67 36.4419 Q1472.31 40.2903 1472.31 46.9338 L1472.31 72.576 L1464.82 72.576 L1464.82 45.4349 Q1464.82 38.8725 1462.51 35.7533 Q1460.2 32.5936 1455.38 32.5936 Q1449.67 32.5936 1446.31 36.4824 Q1442.94 40.3308 1442.94 46.9338 L1442.94 72.576 L1435.45 72.576 L1435.45 27.2059 L1442.94 27.2059 L1442.94 34.2544 Q1445.49 30.082 1449.06 28.0971 Q1452.62 26.1121 1457.53 26.1121 Q1462.47 26.1121 1465.91 28.6237 Q1469.4 31.1352 1471.06 35.9153 Z\" fill=\"#000000\" fill-rule=\"evenodd\" fill-opacity=\"1\" /><path clip-path=\"url(#clip010)\" d=\"M1523.76 65.7705 L1523.76 89.8329 L1516.26 89.8329 L1516.26 27.2059 L1523.76 27.2059 L1523.76 34.0924 Q1526.11 30.0415 1529.67 28.0971 Q1533.28 26.1121 1538.26 26.1121 Q1546.52 26.1121 1551.67 32.6746 Q1556.85 39.2371 1556.85 49.9314 Q1556.85 60.6258 1551.67 67.1883 Q1546.52 73.7508 1538.26 73.7508 Q1533.28 73.7508 1529.67 71.8063 Q1526.11 69.8214 1523.76 65.7705 M1549.12 49.9314 Q1549.12 41.7081 1545.71 37.0496 Q1542.35 32.3505 1536.44 32.3505 Q1530.52 32.3505 1527.12 37.0496 Q1523.76 41.7081 1523.76 49.9314 Q1523.76 58.1548 1527.12 62.8538 Q1530.52 67.5124 1536.44 67.5124 Q1542.35 67.5124 1545.71 62.8538 Q1549.12 58.1548 1549.12 49.9314 Z\" fill=\"#000000\" fill-rule=\"evenodd\" fill-opacity=\"1\" /><path clip-path=\"url(#clip010)\" d=\"M1586.79 32.4315 Q1580.8 32.4315 1577.31 37.1306 Q1573.83 41.7891 1573.83 49.9314 Q1573.83 58.0738 1577.27 62.7728 Q1580.75 67.4314 1586.79 67.4314 Q1592.75 67.4314 1596.23 62.7323 Q1599.71 58.0333 1599.71 49.9314 Q1599.71 41.8701 1596.23 37.1711 Q1592.75 32.4315 1586.79 32.4315 M1586.79 26.1121 Q1596.51 26.1121 1602.06 32.4315 Q1607.61 38.7509 1607.61 49.9314 Q1607.61 61.0714 1602.06 67.4314 Q1596.51 73.7508 1586.79 73.7508 Q1577.03 73.7508 1571.48 67.4314 Q1565.97 61.0714 1565.97 49.9314 Q1565.97 38.7509 1571.48 32.4315 Q1577.03 26.1121 1586.79 26.1121 Z\" fill=\"#000000\" fill-rule=\"evenodd\" fill-opacity=\"1\" /><path clip-path=\"url(#clip010)\" d=\"M1646.26 34.1734 Q1645 33.4443 1643.5 33.1202 Q1642.04 32.7556 1640.26 32.7556 Q1633.94 32.7556 1630.54 36.8875 Q1627.18 40.9789 1627.18 48.6757 L1627.18 72.576 L1619.68 72.576 L1619.68 27.2059 L1627.18 27.2059 L1627.18 34.2544 Q1629.53 30.1225 1633.29 28.1376 Q1637.06 26.1121 1642.45 26.1121 Q1643.22 26.1121 1644.15 26.2337 Q1645.08 26.3147 1646.22 26.5172 L1646.26 34.1734 Z\" fill=\"#000000\" fill-rule=\"evenodd\" fill-opacity=\"1\" /><path clip-path=\"url(#clip010)\" d=\"M1661.45 14.324 L1661.45 27.2059 L1676.8 27.2059 L1676.8 32.9987 L1661.45 32.9987 L1661.45 57.6282 Q1661.45 63.1779 1662.95 64.7578 Q1664.49 66.3376 1669.15 66.3376 L1676.8 66.3376 L1676.8 72.576 L1669.15 72.576 Q1660.52 72.576 1657.24 69.3758 Q1653.95 66.1351 1653.95 57.6282 L1653.95 32.9987 L1648.49 32.9987 L1648.49 27.2059 L1653.95 27.2059 L1653.95 14.324 L1661.45 14.324 Z\" fill=\"#000000\" fill-rule=\"evenodd\" fill-opacity=\"1\" /><path clip-path=\"url(#clip010)\" d=\"M1707.22 49.7694 Q1698.19 49.7694 1694.71 51.8354 Q1691.22 53.9013 1691.22 58.8839 Q1691.22 62.8538 1693.82 65.2034 Q1696.45 67.5124 1700.94 67.5124 Q1707.14 67.5124 1710.87 63.1374 Q1714.64 58.7219 1714.64 51.4303 L1714.64 49.7694 L1707.22 49.7694 M1722.09 46.6907 L1722.09 72.576 L1714.64 72.576 L1714.64 65.6895 Q1712.08 69.8214 1708.28 71.8063 Q1704.47 73.7508 1698.96 73.7508 Q1691.99 73.7508 1687.86 69.8619 Q1683.77 65.9325 1683.77 59.3701 Q1683.77 51.7138 1688.87 47.825 Q1694.02 43.9361 1704.19 43.9361 L1714.64 43.9361 L1714.64 43.2069 Q1714.64 38.0623 1711.23 35.2672 Q1707.87 32.4315 1701.76 32.4315 Q1697.87 32.4315 1694.18 33.3632 Q1690.49 34.295 1687.09 36.1584 L1687.09 29.2718 Q1691.18 27.692 1695.03 26.9223 Q1698.88 26.1121 1702.52 26.1121 Q1712.37 26.1121 1717.23 31.2163 Q1722.09 36.3204 1722.09 46.6907 Z\" fill=\"#000000\" fill-rule=\"evenodd\" fill-opacity=\"1\" /><path clip-path=\"url(#clip010)\" d=\"M1775.16 45.1919 L1775.16 72.576 L1767.7 72.576 L1767.7 45.4349 Q1767.7 38.994 1765.19 35.7938 Q1762.68 32.5936 1757.66 32.5936 Q1751.62 32.5936 1748.14 36.4419 Q1744.65 40.2903 1744.65 46.9338 L1744.65 72.576 L1737.16 72.576 L1737.16 27.2059 L1744.65 27.2059 L1744.65 34.2544 Q1747.33 30.163 1750.93 28.1376 Q1754.58 26.1121 1759.32 26.1121 Q1767.14 26.1121 1771.15 30.9732 Q1775.16 35.7938 1775.16 45.1919 Z\" fill=\"#000000\" fill-rule=\"evenodd\" fill-opacity=\"1\" /><path clip-path=\"url(#clip010)\" d=\"M1822.67 28.9478 L1822.67 35.9153 Q1819.51 34.1734 1816.31 33.3227 Q1813.15 32.4315 1809.91 32.4315 Q1802.66 32.4315 1798.65 37.0496 Q1794.64 41.6271 1794.64 49.9314 Q1794.64 58.2358 1798.65 62.8538 Q1802.66 67.4314 1809.91 67.4314 Q1813.15 67.4314 1816.31 66.5807 Q1819.51 65.6895 1822.67 63.9476 L1822.67 70.8341 Q1819.56 72.2924 1816.19 73.0216 Q1812.87 73.7508 1809.1 73.7508 Q1798.86 73.7508 1792.82 67.3098 Q1786.78 60.8689 1786.78 49.9314 Q1786.78 38.832 1792.86 32.472 Q1798.98 26.1121 1809.59 26.1121 Q1813.03 26.1121 1816.31 26.8413 Q1819.6 27.5299 1822.67 28.9478 Z\" fill=\"#000000\" fill-rule=\"evenodd\" fill-opacity=\"1\" /><path clip-path=\"url(#clip010)\" d=\"M1874.45 48.0275 L1874.45 51.6733 L1840.17 51.6733 Q1840.66 59.3701 1844.79 63.421 Q1848.96 67.4314 1856.38 67.4314 Q1860.67 67.4314 1864.68 66.3781 Q1868.73 65.3249 1872.7 63.2184 L1872.7 70.267 Q1868.69 71.9684 1864.48 72.8596 Q1860.27 73.7508 1855.93 73.7508 Q1845.08 73.7508 1838.72 67.4314 Q1832.4 61.1119 1832.4 50.3365 Q1832.4 39.1965 1838.39 32.6746 Q1844.43 26.1121 1854.64 26.1121 Q1863.79 26.1121 1869.1 32.0264 Q1874.45 37.9003 1874.45 48.0275 M1866.99 45.84 Q1866.91 39.7232 1863.55 36.0774 Q1860.23 32.4315 1854.72 32.4315 Q1848.48 32.4315 1844.71 35.9558 Q1840.98 39.4801 1840.42 45.8805 L1866.99 45.84 Z\" fill=\"#000000\" fill-rule=\"evenodd\" fill-opacity=\"1\" /><path clip-path=\"url(#clip012)\" d=\"\n",
       "M332.509 1351.69 L318.262 1351.69 L318.262 1279.4 L332.509 1279.4 L332.509 1351.69 L332.509 1351.69  Z\n",
       "  \" fill=\"#009af9\" fill-rule=\"evenodd\" fill-opacity=\"1\"/>\n",
       "<polyline clip-path=\"url(#clip012)\" style=\"stroke:#000000; stroke-linecap:butt; stroke-linejoin:round; stroke-width:4; stroke-opacity:1; fill:none\" points=\"\n",
       "  332.509,1351.69 318.262,1351.69 318.262,1279.4 332.509,1279.4 332.509,1351.69 \n",
       "  \"/>\n",
       "<path clip-path=\"url(#clip012)\" d=\"\n",
       "M395.708 1261.32 L318.262 1261.32 L318.262 1189.03 L395.708 1189.03 L395.708 1261.32 L395.708 1261.32  Z\n",
       "  \" fill=\"#009af9\" fill-rule=\"evenodd\" fill-opacity=\"1\"/>\n",
       "<polyline clip-path=\"url(#clip012)\" style=\"stroke:#000000; stroke-linecap:butt; stroke-linejoin:round; stroke-width:4; stroke-opacity:1; fill:none\" points=\"\n",
       "  395.708,1261.32 318.262,1261.32 318.262,1189.03 395.708,1189.03 395.708,1261.32 \n",
       "  \"/>\n",
       "<path clip-path=\"url(#clip012)\" d=\"\n",
       "M404.103 1170.95 L318.262 1170.95 L318.262 1098.66 L404.103 1098.66 L404.103 1170.95 L404.103 1170.95  Z\n",
       "  \" fill=\"#009af9\" fill-rule=\"evenodd\" fill-opacity=\"1\"/>\n",
       "<polyline clip-path=\"url(#clip012)\" style=\"stroke:#000000; stroke-linecap:butt; stroke-linejoin:round; stroke-width:4; stroke-opacity:1; fill:none\" points=\"\n",
       "  404.103,1170.95 318.262,1170.95 318.262,1098.66 404.103,1098.66 404.103,1170.95 \n",
       "  \"/>\n",
       "<path clip-path=\"url(#clip012)\" d=\"\n",
       "M411.784 1080.58 L318.262 1080.58 L318.262 1008.29 L411.784 1008.29 L411.784 1080.58 L411.784 1080.58  Z\n",
       "  \" fill=\"#009af9\" fill-rule=\"evenodd\" fill-opacity=\"1\"/>\n",
       "<polyline clip-path=\"url(#clip012)\" style=\"stroke:#000000; stroke-linecap:butt; stroke-linejoin:round; stroke-width:4; stroke-opacity:1; fill:none\" points=\"\n",
       "  411.784,1080.58 318.262,1080.58 318.262,1008.29 411.784,1008.29 411.784,1080.58 \n",
       "  \"/>\n",
       "<path clip-path=\"url(#clip012)\" d=\"\n",
       "M421.517 990.214 L318.262 990.214 L318.262 917.918 L421.517 917.918 L421.517 990.214 L421.517 990.214  Z\n",
       "  \" fill=\"#009af9\" fill-rule=\"evenodd\" fill-opacity=\"1\"/>\n",
       "<polyline clip-path=\"url(#clip012)\" style=\"stroke:#000000; stroke-linecap:butt; stroke-linejoin:round; stroke-width:4; stroke-opacity:1; fill:none\" points=\"\n",
       "  421.517,990.214 318.262,990.214 318.262,917.918 421.517,917.918 421.517,990.214 \n",
       "  \"/>\n",
       "<path clip-path=\"url(#clip012)\" d=\"\n",
       "M528.957 899.844 L318.262 899.844 L318.262 827.548 L528.957 827.548 L528.957 899.844 L528.957 899.844  Z\n",
       "  \" fill=\"#009af9\" fill-rule=\"evenodd\" fill-opacity=\"1\"/>\n",
       "<polyline clip-path=\"url(#clip012)\" style=\"stroke:#000000; stroke-linecap:butt; stroke-linejoin:round; stroke-width:4; stroke-opacity:1; fill:none\" points=\"\n",
       "  528.957,899.844 318.262,899.844 318.262,827.548 528.957,827.548 528.957,899.844 \n",
       "  \"/>\n",
       "<path clip-path=\"url(#clip012)\" d=\"\n",
       "M533.105 809.474 L318.262 809.474 L318.262 737.178 L533.105 737.178 L533.105 809.474 L533.105 809.474  Z\n",
       "  \" fill=\"#009af9\" fill-rule=\"evenodd\" fill-opacity=\"1\"/>\n",
       "<polyline clip-path=\"url(#clip012)\" style=\"stroke:#000000; stroke-linecap:butt; stroke-linejoin:round; stroke-width:4; stroke-opacity:1; fill:none\" points=\"\n",
       "  533.105,809.474 318.262,809.474 318.262,737.178 533.105,737.178 533.105,809.474 \n",
       "  \"/>\n",
       "<path clip-path=\"url(#clip012)\" d=\"\n",
       "M533.931 719.104 L318.262 719.104 L318.262 646.808 L533.931 646.808 L533.931 719.104 L533.931 719.104  Z\n",
       "  \" fill=\"#009af9\" fill-rule=\"evenodd\" fill-opacity=\"1\"/>\n",
       "<polyline clip-path=\"url(#clip012)\" style=\"stroke:#000000; stroke-linecap:butt; stroke-linejoin:round; stroke-width:4; stroke-opacity:1; fill:none\" points=\"\n",
       "  533.931,719.104 318.262,719.104 318.262,646.808 533.931,646.808 533.931,719.104 \n",
       "  \"/>\n",
       "<path clip-path=\"url(#clip012)\" d=\"\n",
       "M551.724 628.734 L318.262 628.734 L318.262 556.438 L551.724 556.438 L551.724 628.734 L551.724 628.734  Z\n",
       "  \" fill=\"#009af9\" fill-rule=\"evenodd\" fill-opacity=\"1\"/>\n",
       "<polyline clip-path=\"url(#clip012)\" style=\"stroke:#000000; stroke-linecap:butt; stroke-linejoin:round; stroke-width:4; stroke-opacity:1; fill:none\" points=\"\n",
       "  551.724,628.734 318.262,628.734 318.262,556.438 551.724,556.438 551.724,628.734 \n",
       "  \"/>\n",
       "<path clip-path=\"url(#clip012)\" d=\"\n",
       "M628.768 538.364 L318.262 538.364 L318.262 466.068 L628.768 466.068 L628.768 538.364 L628.768 538.364  Z\n",
       "  \" fill=\"#009af9\" fill-rule=\"evenodd\" fill-opacity=\"1\"/>\n",
       "<polyline clip-path=\"url(#clip012)\" style=\"stroke:#000000; stroke-linecap:butt; stroke-linejoin:round; stroke-width:4; stroke-opacity:1; fill:none\" points=\"\n",
       "  628.768,538.364 318.262,538.364 318.262,466.068 628.768,466.068 628.768,538.364 \n",
       "  \"/>\n",
       "<path clip-path=\"url(#clip012)\" d=\"\n",
       "M853.072 447.994 L318.262 447.994 L318.262 375.698 L853.072 375.698 L853.072 447.994 L853.072 447.994  Z\n",
       "  \" fill=\"#009af9\" fill-rule=\"evenodd\" fill-opacity=\"1\"/>\n",
       "<polyline clip-path=\"url(#clip012)\" style=\"stroke:#000000; stroke-linecap:butt; stroke-linejoin:round; stroke-width:4; stroke-opacity:1; fill:none\" points=\"\n",
       "  853.072,447.994 318.262,447.994 318.262,375.698 853.072,375.698 853.072,447.994 \n",
       "  \"/>\n",
       "<path clip-path=\"url(#clip012)\" d=\"\n",
       "M2071.23 357.624 L318.262 357.624 L318.262 285.328 L2071.23 285.328 L2071.23 357.624 L2071.23 357.624  Z\n",
       "  \" fill=\"#009af9\" fill-rule=\"evenodd\" fill-opacity=\"1\"/>\n",
       "<polyline clip-path=\"url(#clip012)\" style=\"stroke:#000000; stroke-linecap:butt; stroke-linejoin:round; stroke-width:4; stroke-opacity:1; fill:none\" points=\"\n",
       "  2071.23,357.624 318.262,357.624 318.262,285.328 2071.23,285.328 2071.23,357.624 \n",
       "  \"/>\n",
       "<path clip-path=\"url(#clip012)\" d=\"\n",
       "M2293.5 267.254 L318.262 267.254 L318.262 194.958 L2293.5 194.958 L2293.5 267.254 L2293.5 267.254  Z\n",
       "  \" fill=\"#009af9\" fill-rule=\"evenodd\" fill-opacity=\"1\"/>\n",
       "<polyline clip-path=\"url(#clip012)\" style=\"stroke:#000000; stroke-linecap:butt; stroke-linejoin:round; stroke-width:4; stroke-opacity:1; fill:none\" points=\"\n",
       "  2293.5,267.254 318.262,267.254 318.262,194.958 2293.5,194.958 2293.5,267.254 \n",
       "  \"/>\n",
       "<circle clip-path=\"url(#clip012)\" style=\"fill:#009af9; stroke:none; fill-opacity:0\" cx=\"332.509\" cy=\"1315.55\" r=\"2\"/>\n",
       "<circle clip-path=\"url(#clip012)\" style=\"fill:#009af9; stroke:none; fill-opacity:0\" cx=\"395.708\" cy=\"1225.18\" r=\"2\"/>\n",
       "<circle clip-path=\"url(#clip012)\" style=\"fill:#009af9; stroke:none; fill-opacity:0\" cx=\"404.103\" cy=\"1134.81\" r=\"2\"/>\n",
       "<circle clip-path=\"url(#clip012)\" style=\"fill:#009af9; stroke:none; fill-opacity:0\" cx=\"411.784\" cy=\"1044.44\" r=\"2\"/>\n",
       "<circle clip-path=\"url(#clip012)\" style=\"fill:#009af9; stroke:none; fill-opacity:0\" cx=\"421.517\" cy=\"954.066\" r=\"2\"/>\n",
       "<circle clip-path=\"url(#clip012)\" style=\"fill:#009af9; stroke:none; fill-opacity:0\" cx=\"528.957\" cy=\"863.696\" r=\"2\"/>\n",
       "<circle clip-path=\"url(#clip012)\" style=\"fill:#009af9; stroke:none; fill-opacity:0\" cx=\"533.105\" cy=\"773.326\" r=\"2\"/>\n",
       "<circle clip-path=\"url(#clip012)\" style=\"fill:#009af9; stroke:none; fill-opacity:0\" cx=\"533.931\" cy=\"682.956\" r=\"2\"/>\n",
       "<circle clip-path=\"url(#clip012)\" style=\"fill:#009af9; stroke:none; fill-opacity:0\" cx=\"551.724\" cy=\"592.586\" r=\"2\"/>\n",
       "<circle clip-path=\"url(#clip012)\" style=\"fill:#009af9; stroke:none; fill-opacity:0\" cx=\"628.768\" cy=\"502.216\" r=\"2\"/>\n",
       "<circle clip-path=\"url(#clip012)\" style=\"fill:#009af9; stroke:none; fill-opacity:0\" cx=\"853.072\" cy=\"411.846\" r=\"2\"/>\n",
       "<circle clip-path=\"url(#clip012)\" style=\"fill:#009af9; stroke:none; fill-opacity:0\" cx=\"2071.23\" cy=\"321.476\" r=\"2\"/>\n",
       "<circle clip-path=\"url(#clip012)\" style=\"fill:#009af9; stroke:none; fill-opacity:0\" cx=\"2293.5\" cy=\"231.106\" r=\"2\"/>\n",
       "</svg>\n"
      ]
     },
     "execution_count": 44,
     "metadata": {},
     "output_type": "execute_result"
    }
   ],
   "source": [
    "bar(data_plot.feature_name[idx], data_plot.mean_effect[idx], orientation = :horizontal, label=\"\")\n",
    "xlabel!(\"Mean Absolute SHAP value\")\n",
    "title!(\"Ranked Feature Importance\")"
   ]
  },
  {
   "cell_type": "code",
   "execution_count": null,
   "metadata": {},
   "outputs": [],
   "source": []
  }
 ],
 "metadata": {
  "kernelspec": {
   "display_name": "Julia 1.7.0",
   "language": "julia",
   "name": "julia-1.7"
  },
  "language_info": {
   "file_extension": ".jl",
   "mimetype": "application/julia",
   "name": "julia",
   "version": "1.7.0"
  }
 },
 "nbformat": 4,
 "nbformat_minor": 2
}
